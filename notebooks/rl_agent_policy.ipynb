{
 "cells": [
  {
   "cell_type": "code",
   "execution_count": 1,
   "id": "96c7053e",
   "metadata": {},
   "outputs": [],
   "source": [
    "%matplotlib inline\n",
    "%config InlineBackend.figure_format = 'svg'\n",
    "\n",
    "import sys\n",
    "from pathlib import Path\n",
    "\n",
    "# setup path to project root\n",
    "sys.path.append(str(Path.cwd().parent))"
   ]
  },
  {
   "cell_type": "code",
   "execution_count": 2,
   "id": "c3eea2ba",
   "metadata": {},
   "outputs": [
    {
     "name": "stderr",
     "output_type": "stream",
     "text": [
      "/mnt/virtual_ai0001071-01239_SR006-nfs2/micromamba/envs/af_pimft/lib/python3.11/site-packages/hydra/_internal/defaults_list.py:251: UserWarning: In 'a2c_trainer': Defaults list is missing `_self_`. See https://hydra.cc/docs/1.2/upgrades/1.0_to_1.1/default_composition_order for more information\n",
      "  warnings.warn(msg, UserWarning)\n"
     ]
    }
   ],
   "source": [
    "from hydra import compose, core, initialize\n",
    "from hydra.core.global_hydra import GlobalHydra\n",
    "from omegaconf import OmegaConf\n",
    "from pathlib import Path\n",
    "import os\n",
    "\n",
    "GlobalHydra.instance().clear()\n",
    "initialize(config_path='../conf', version_base=None)\n",
    "config = compose(config_name=\"a2c_trainer\")"
   ]
  },
  {
   "cell_type": "code",
   "execution_count": 3,
   "id": "7750317a",
   "metadata": {},
   "outputs": [
    {
     "name": "stderr",
     "output_type": "stream",
     "text": [
      "INFO:pipelines.rl_agent_policy.data.feature_engine:Initialized FeatureEngineeringProcessor\n",
      "INFO:pipelines.rl_agent_policy.data.data_parser:Initialized DataHandler for 1 currencies\n",
      "INFO:pipelines.rl_agent_policy.data.data_parser:Processing data...\n",
      "INFO:pipelines.rl_agent_policy.data.data_parser:Starting data processing pipeline...\n",
      "INFO:pipelines.rl_agent_policy.data.data_parser:Fetching data for currencies: ['LINK']\n",
      "INFO:pipelines.rl_agent_policy.data.data_parser:Exchange: Binance, Quote: USDT, Timeframe: 1d\n",
      "INFO:pipelines.rl_agent_policy.data.data_parser:Fetching LINK/USDT data...\n",
      "INFO:pipelines.rl_agent_policy.data.data_parser:✓ Successfully fetched 2443 records for LINK\n",
      "INFO:pipelines.rl_agent_policy.data.data_parser:Applying feature engineering...\n",
      "INFO:pipelines.rl_agent_policy.data.data_parser:Processing features for LINK...\n",
      "/mnt/virtual_ai0001071-01239_SR006-nfs2/micromamba/envs/af_pimft/lib/python3.11/site-packages/pandas_ta/__init__.py:7: UserWarning: pkg_resources is deprecated as an API. See https://setuptools.pypa.io/en/latest/pkg_resources.html. The pkg_resources package is slated for removal as early as 2025-11-30. Refrain from using this package or pin to Setuptools<81.\n",
      "  from pkg_resources import get_distribution, DistributionNotFound\n",
      "WARNING:pipelines.rl_agent_policy.data.feature_engine:Failed to generate candles indicators: 'AnalysisIndicators' object has no attribute 'study'\n",
      "WARNING:pipelines.rl_agent_policy.data.feature_engine:Failed to generate momentum indicators: 'AnalysisIndicators' object has no attribute 'study'\n",
      "WARNING:pipelines.rl_agent_policy.data.feature_engine:Failed to generate trend indicators: 'AnalysisIndicators' object has no attribute 'study'\n",
      "WARNING:pipelines.rl_agent_policy.data.feature_engine:Failed to generate performance indicators: 'AnalysisIndicators' object has no attribute 'study'\n",
      "INFO:pipelines.rl_agent_policy.data.feature_engine:Generated 20 custom features for LINK_\n",
      "/mnt/virtual_ai0001071-01239_SR006-nfs2/micromamba/envs/af_pimft/lib/python3.11/site-packages/quantstats/stats.py:1801: RuntimeWarning: Mean of empty slice.\n",
      "  c_var = returns[returns < var].values.mean()\n",
      "/mnt/virtual_ai0001071-01239_SR006-nfs2/micromamba/envs/af_pimft/lib/python3.11/site-packages/numpy/core/_methods.py:129: RuntimeWarning: invalid value encountered in scalar divide\n",
      "  ret = ret.dtype.type(ret / rcount)\n",
      "INFO:pipelines.rl_agent_policy.data.feature_engine:Generated 14 quantstats features for LINK_\n",
      "/mnt/virtual_ai0001071-01239_SR006-nfs2/afedorov/projects/MFT-project/pipelines/rl_agent_policy/data/feature_engine.py:303: FutureWarning: DataFrame.fillna with 'method' is deprecated and will raise in a future version. Use obj.ffill() or obj.bfill() instead.\n",
      "  df = df.fillna(method='ffill')\n",
      "INFO:pipelines.rl_agent_policy.data.feature_engine:Generated 40 total features for LINK\n",
      "INFO:pipelines.rl_agent_policy.data.data_parser:✓ Generated 40 features for LINK after selection\n",
      "INFO:pipelines.rl_agent_policy.data.data_parser:Combining multi-currency data...\n",
      "INFO:pipelines.rl_agent_policy.data.data_parser:✓ Combined 1 currency datasets into (2443, 40) with common timeframe\n",
      "INFO:pipelines.rl_agent_policy.data.data_parser:Applying post-merge feature selection...\n",
      "INFO:pipelines.rl_agent_policy.data.data_parser:✓ Selected 40 features from 40\n",
      "INFO:pipelines.rl_agent_policy.data.data_parser:Data processing pipeline completed successfully\n"
     ]
    }
   ],
   "source": [
    "from hydra.utils import instantiate, to_absolute_path\n",
    "from typing import Union, Optional\n",
    "\n",
    "\n",
    "\n",
    "data_handler = instantiate(config.data)\n",
    "data = data_handler.get_data()\n",
    "\n",
    "# determine validation split either by ratio or absolute size\n",
    "validation_size: Union[int, float] = config.validation.get(\"validation_size\", 365)\n",
    "if isinstance(validation_size, int):\n",
    "    if validation_size < 0:\n",
    "        raise ValueError(\"validation_size must be non-negative\")\n",
    "    split_idx = max(0, len(data) - validation_size)\n",
    "elif isinstance(validation_size, float):\n",
    "    if not 0 <= validation_size <= 1:\n",
    "        raise ValueError(\"validation_size ratio must be between 0 and 1\")\n",
    "    split_idx = int(len(data) * (1 - validation_size))\n",
    "else:\n",
    "    raise TypeError(\"validation_size must be int or float\")\n",
    "\n",
    "train_df = data.iloc[:split_idx].reset_index(drop=True).copy()\n",
    "valid_df = data.iloc[split_idx:].reset_index(drop=True).copy()\n",
    "train_features = train_df.drop(columns=[\"date\"], errors=\"ignore\").shape[1]\n",
    "valid_features = valid_df.drop(columns=[\"date\"], errors=\"ignore\").shape[1]"
   ]
  },
  {
   "cell_type": "code",
   "execution_count": 4,
   "id": "4755eb91",
   "metadata": {},
   "outputs": [],
   "source": [
    "from tensortrade.oms.instruments import Instrument, registry\n",
    "\n",
    "\n",
    "input_shape = [train_features, config.env.window_size]\n",
    "OmegaConf.set_struct(config.model.shared_network, False)\n",
    "config.model.shared_network.input_shape = input_shape\n",
    "\n",
    "assets = config.get(\"assets\") or data_handler.symbols\n",
    "main_currency = data_handler.main_currency\n",
    "\n",
    "if main_currency not in registry:\n",
    "    Instrument(main_currency, 2, main_currency)\n",
    "base_instrument = registry[main_currency]\n",
    "\n",
    "asset_instruments = []\n",
    "\n",
    "assert isinstance(config.env.assets_initial, int) or len(assets) == len(config.env.assets_initial), \\\n",
    "    \"assets and assets_initial must have the same length or be constant\"\n",
    "\n",
    "if isinstance(config.env.assets_initial, int):\n",
    "    config.env.assets_initial = config.env.assets_initial * len(assets)\n",
    "for sym, init_amount in zip(assets, config.env.assets_initial):\n",
    "    if sym not in registry:\n",
    "        registry[sym] = Instrument(sym, 8, sym)\n",
    "    asset_instruments.append((registry[sym], init_amount))"
   ]
  },
  {
   "cell_type": "code",
   "execution_count": 5,
   "id": "502fdb8a",
   "metadata": {},
   "outputs": [
    {
     "name": "stdout",
     "output_type": "stream",
     "text": [
      "Constructing renderers: type(identifier)=<class 'omegaconf.listconfig.ListConfig'>\n",
      "Constructing renderers: type(identifier)=<class 'omegaconf.listconfig.ListConfig'>\n"
     ]
    }
   ],
   "source": [
    "import pandas as pd\n",
    "import random\n",
    "import tensortrade.env.default as default\n",
    "from tensortrade.env.default import actions as action_api, rewards as reward_api\n",
    "from tensortrade.env.default.renderers import construct_renderers\n",
    "from tensortrade.feed.core import DataFeed, Stream, NameSpace\n",
    "from tensortrade.oms.exchanges import Exchange\n",
    "from tensortrade.oms.services.execution.simulated import execute_order\n",
    "from tensortrade.oms.wallets import Wallet, Portfolio\n",
    "from tensortrade.oms.instruments import Instrument, registry\n",
    "from gymnasium.spaces import MultiDiscrete\n",
    "\n",
    "try:\n",
    "    from accelerate import Accelerator\n",
    "    ACCELERATE_AVAILABLE = True\n",
    "except ImportError:\n",
    "    ACCELERATE_AVAILABLE = False\n",
    "    Accelerator = None\n",
    "\n",
    "def _get_process_info():\n",
    "    \"\"\"Get process information for distributed training.\"\"\"\n",
    "    if ACCELERATE_AVAILABLE:\n",
    "        try:\n",
    "            # Try to create accelerator to get process info\n",
    "            accelerator = Accelerator()\n",
    "            return {\n",
    "                'process_index': accelerator.process_index,\n",
    "                'num_processes': accelerator.num_processes,\n",
    "                'is_main_process': accelerator.is_main_process\n",
    "            }\n",
    "        except:\n",
    "            pass\n",
    "    \n",
    "    # Fallback to single process\n",
    "    return {\n",
    "        'process_index': 0,\n",
    "        'num_processes': 1,\n",
    "        'is_main_process': True\n",
    "    }\n",
    "\n",
    "\n",
    "# ------------------------------------------------------------------\n",
    "# Environment building\n",
    "# ------------------------------------------------------------------\n",
    "def build_env(df: pd.DataFrame, env_rng: Optional[random.Random] = None):\n",
    "    \n",
    "    # we do trade on close prices for previous day\n",
    "    price_streams = [\n",
    "        Stream.source(list(df[f\"{sym}_close\"]), dtype=\"float\").rename(\n",
    "            f\"{main_currency}-{sym}\"\n",
    "        )\n",
    "        for sym in assets\n",
    "    ]\n",
    "    exchange = Exchange(config.env.exchange, service=execute_order)(*price_streams)\n",
    "\n",
    "    cash = Wallet(exchange, config.env.initial_cash * base_instrument)\n",
    "    asset_wallets = [Wallet(exchange, init_amount * inst) for inst, init_amount in asset_instruments]\n",
    "    portfolio = Portfolio(base_instrument, [cash, *asset_wallets])\n",
    "\n",
    "    with NameSpace(config.env.exchange):\n",
    "        feature_streams = [\n",
    "            Stream.source(list(df[c]), dtype=\"float\").rename(c)\n",
    "            for c in df.columns\n",
    "            if c != \"date\"\n",
    "        ]\n",
    "    \n",
    "    feed = DataFeed(feature_streams)\n",
    "    feed.compile()\n",
    "\n",
    "    # renderer feed for plotting or further analysis\n",
    "    renderer_streams = []\n",
    "    if \"date\" in df.columns:\n",
    "        renderer_streams.append(Stream.source(list(df[\"date\"])).rename(\"date\"))\n",
    "    for sym in assets:\n",
    "        for field in [\"open\", \"high\", \"low\", \"close\", \"volume\"]:\n",
    "            column = f\"{sym}_{field}\"\n",
    "            if column in df.columns:\n",
    "                renderer_streams.append(\n",
    "                    Stream.source(list(df[column]), dtype=\"float\").rename(column)\n",
    "                )\n",
    "    renderer_feed = DataFeed(renderer_streams)\n",
    "    renderer_feed.compile()\n",
    "\n",
    "    action_scheme = action_api.get(\n",
    "        'simple',\n",
    "        portfolio=portfolio,\n",
    "        criteria=[None],\n",
    "        trade_sizes=[0.005, 0.01, 0.05, 0.1, 0.2, 0.3, 0.4],\n",
    "        min_order_abs=0,\n",
    "        min_order_pct=0,\n",
    "    )\n",
    "    \n",
    "    reward_scheme = reward_api.get('risk-adjusted')\n",
    "\n",
    "    reward_cfg = config.get(\"reward_scheme\")\n",
    "    reward_scheme = reward_api.create(reward_cfg)\n",
    "    \n",
    "    # create renderers\n",
    "    renderer_list = config.validation.get('renderers', 'all')\n",
    "    renderer_formats = config.validation.get('renderer_formats', [\"png\", \"html\"])\n",
    "    renderers = construct_renderers(renderer_list, display=True, save_formats=renderer_formats)\n",
    "\n",
    "    env = default.create(\n",
    "        portfolio=portfolio,\n",
    "        action_scheme=action_scheme,\n",
    "        reward_scheme=reward_scheme,\n",
    "        feed=feed,\n",
    "        renderer_feed=renderer_feed,\n",
    "        window_size=config.env.window_size,\n",
    "        max_episode_length=config.env.get('max_episode_length', None),\n",
    "        enable_logger=False,\n",
    "        renderer=renderers,\n",
    "        rng=env_rng\n",
    "    )\n",
    "    \n",
    "    return env\n",
    "\n",
    "# Create process-specific environment seeds and RNG instances\n",
    "process_info = _get_process_info()\n",
    "process_index = process_info['process_index']\n",
    "base_seed = config.get('seed', 42)\n",
    "train_env_seed = (base_seed + process_index * 2003) % (2**32)  # Different prime for env seeding\n",
    "valid_env_seed = (base_seed + process_index * 2003 + 1009) % (2**32)  # Offset for validation\n",
    "\n",
    "# Create separate RNG instances for each environment\n",
    "train_rng = random.Random(train_env_seed)\n",
    "valid_rng = random.Random(valid_env_seed)\n",
    "\n",
    "train_env = build_env(train_df, train_rng)\n",
    "valid_env = build_env(valid_df, valid_rng)"
   ]
  },
  {
   "cell_type": "code",
   "execution_count": 7,
   "id": "ed77d6c2",
   "metadata": {},
   "outputs": [
    {
     "data": {
      "application/vnd.plotly.v1+json": {
       "config": {
        "plotlyServerURL": "https://plot.ly"
       },
       "data": [
        {
         "line": {
          "color": "DarkGreen",
          "width": 3
         },
         "mode": "lines",
         "name": "Net Worth",
         "showlegend": true,
         "type": "scatter",
         "x": {
          "bdata": "AAABAAIAAwAEAAUABgAHAAgACQAKAAsADAANAA4ADwAQABEAEgATABQAFQAWABcAGAAZABoAGwAcAB0AHgAfACAAIQAiACMAJAAlACYAJwAoACkAKgArACwALQAuAC8AMAAxADIAMwA0ADUANgA3ADgAOQA6ADsAPAA9AD4APwBAAEEAQgBDAEQARQBGAEcASABJAEoASwBMAE0ATgBPAFAAUQBSAFMAVABVAFYAVwBYAFkAWgBbAFwAXQBeAF8AYABhAGIAYwBkAGUAZgBnAGgAaQBqAGsAbABtAG4AbwBwAHEAcgBzAHQAdQB2AHcAeAB5AHoAewB8AH0AfgB/AIAAgQCCAIMAhACFAIYAhwCIAIkAigCLAIwAjQCOAI8AkACRAJIAkwCUAJUAlgCXAJgAmQCaAJsAnACdAJ4AnwCgAKEAogCjAKQApQCmAKcAqACpAKoAqwCsAK0ArgCvALAAsQCyALMAtAC1ALYAtwC4ALkAugC7ALwAvQC+AL8AwADBAMIAwwDEAMUAxgDHAMgAyQDKAMsAzADNAM4AzwDQANEA0gDTANQA1QDWANcA2ADZANoA2wDcAN0A3gDfAOAA4QDiAOMA5ADlAOYA5wDoAOkA6gDrAOwA7QDuAO8A8ADxAPIA8wD0APUA9gD3APgA+QD6APsA/AD9AP4A/wAAAQEBAgEDAQQBBQEGAQcBCAEJAQoBCwEMAQ0BDgEPARABEQESARMBFAEVARYBFwEYARkBGgEbARwBHQEeAR8BIAEhASIBIwEkASUBJgEnASgBKQEqASsBLAEtAS4BLwEwATEBMgEzATQBNQE2ATcBOAE5AToBOwE8AT0BPgE/AUABQQFCAUMBRAFFAUYBRwFIAUkBSgFLAUwBTQFOAU8BUAFRAVIBUwFUAVUBVgFXAVgBWQFaAVsBXAFdAV4BXwFgAWEBYgFjAWQBZQFmAWcBaAFpAWoBawFsAQ==",
          "dtype": "i2"
         },
         "xaxis": "x",
         "y": {
          "bdata": "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",
          "dtype": "f8"
         },
         "yaxis": "y"
        },
        {
         "line": {
          "width": 2
         },
         "mode": "lines",
         "name": "simulator:/USDT-LINK",
         "showlegend": true,
         "type": "scatter",
         "x": {
          "bdata": "AAABAAIAAwAEAAUABgAHAAgACQAKAAsADAANAA4ADwAQABEAEgATABQAFQAWABcAGAAZABoAGwAcAB0AHgAfACAAIQAiACMAJAAlACYAJwAoACkAKgArACwALQAuAC8AMAAxADIAMwA0ADUANgA3ADgAOQA6ADsAPAA9AD4APwBAAEEAQgBDAEQARQBGAEcASABJAEoASwBMAE0ATgBPAFAAUQBSAFMAVABVAFYAVwBYAFkAWgBbAFwAXQBeAF8AYABhAGIAYwBkAGUAZgBnAGgAaQBqAGsAbABtAG4AbwBwAHEAcgBzAHQAdQB2AHcAeAB5AHoAewB8AH0AfgB/AIAAgQCCAIMAhACFAIYAhwCIAIkAigCLAIwAjQCOAI8AkACRAJIAkwCUAJUAlgCXAJgAmQCaAJsAnACdAJ4AnwCgAKEAogCjAKQApQCmAKcAqACpAKoAqwCsAK0ArgCvALAAsQCyALMAtAC1ALYAtwC4ALkAugC7ALwAvQC+AL8AwADBAMIAwwDEAMUAxgDHAMgAyQDKAMsAzADNAM4AzwDQANEA0gDTANQA1QDWANcA2ADZANoA2wDcAN0A3gDfAOAA4QDiAOMA5ADlAOYA5wDoAOkA6gDrAOwA7QDuAO8A8ADxAPIA8wD0APUA9gD3APgA+QD6APsA/AD9AP4A/wAAAQEBAgEDAQQBBQEGAQcBCAEJAQoBCwEMAQ0BDgEPARABEQESARMBFAEVARYBFwEYARkBGgEbARwBHQEeAR8BIAEhASIBIwEkASUBJgEnASgBKQEqASsBLAEtAS4BLwEwATEBMgEzATQBNQE2ATcBOAE5AToBOwE8AT0BPgE/AUABQQFCAUMBRAFFAUYBRwFIAUkBSgFLAUwBTQFOAU8BUAFRAVIBUwFUAVUBVgFXAVgBWQFaAVsBXAFdAV4BXwFgAWEBYgFjAWQBZQFmAWcBaAFpAWoBawFsAQ==",
          "dtype": "i2"
         },
         "xaxis": "x2",
         "y": {
          "bdata": "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",
          "dtype": "f8"
         },
         "yaxis": "y2"
        },
        {
         "line": {
          "width": 2
         },
         "mode": "lines",
         "name": "simulator:/USDT:/free",
         "showlegend": true,
         "type": "scatter",
         "x": {
          "bdata": "AAABAAIAAwAEAAUABgAHAAgACQAKAAsADAANAA4ADwAQABEAEgATABQAFQAWABcAGAAZABoAGwAcAB0AHgAfACAAIQAiACMAJAAlACYAJwAoACkAKgArACwALQAuAC8AMAAxADIAMwA0ADUANgA3ADgAOQA6ADsAPAA9AD4APwBAAEEAQgBDAEQARQBGAEcASABJAEoASwBMAE0ATgBPAFAAUQBSAFMAVABVAFYAVwBYAFkAWgBbAFwAXQBeAF8AYABhAGIAYwBkAGUAZgBnAGgAaQBqAGsAbABtAG4AbwBwAHEAcgBzAHQAdQB2AHcAeAB5AHoAewB8AH0AfgB/AIAAgQCCAIMAhACFAIYAhwCIAIkAigCLAIwAjQCOAI8AkACRAJIAkwCUAJUAlgCXAJgAmQCaAJsAnACdAJ4AnwCgAKEAogCjAKQApQCmAKcAqACpAKoAqwCsAK0ArgCvALAAsQCyALMAtAC1ALYAtwC4ALkAugC7ALwAvQC+AL8AwADBAMIAwwDEAMUAxgDHAMgAyQDKAMsAzADNAM4AzwDQANEA0gDTANQA1QDWANcA2ADZANoA2wDcAN0A3gDfAOAA4QDiAOMA5ADlAOYA5wDoAOkA6gDrAOwA7QDuAO8A8ADxAPIA8wD0APUA9gD3APgA+QD6APsA/AD9AP4A/wAAAQEBAgEDAQQBBQEGAQcBCAEJAQoBCwEMAQ0BDgEPARABEQESARMBFAEVARYBFwEYARkBGgEbARwBHQEeAR8BIAEhASIBIwEkASUBJgEnASgBKQEqASsBLAEtAS4BLwEwATEBMgEzATQBNQE2ATcBOAE5AToBOwE8AT0BPgE/AUABQQFCAUMBRAFFAUYBRwFIAUkBSgFLAUwBTQFOAU8BUAFRAVIBUwFUAVUBVgFXAVgBWQFaAVsBXAFdAV4BXwFgAWEBYgFjAWQBZQFmAWcBaAFpAWoBawFsAQ==",
          "dtype": "i2"
         },
         "xaxis": "x2",
         "y": {
          "bdata": "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",
          "dtype": "f8"
         },
         "yaxis": "y2"
        },
        {
         "line": {
          "width": 2
         },
         "mode": "lines",
         "name": "simulator:/USDT:/locked",
         "showlegend": true,
         "type": "scatter",
         "x": {
          "bdata": "AAABAAIAAwAEAAUABgAHAAgACQAKAAsADAANAA4ADwAQABEAEgATABQAFQAWABcAGAAZABoAGwAcAB0AHgAfACAAIQAiACMAJAAlACYAJwAoACkAKgArACwALQAuAC8AMAAxADIAMwA0ADUANgA3ADgAOQA6ADsAPAA9AD4APwBAAEEAQgBDAEQARQBGAEcASABJAEoASwBMAE0ATgBPAFAAUQBSAFMAVABVAFYAVwBYAFkAWgBbAFwAXQBeAF8AYABhAGIAYwBkAGUAZgBnAGgAaQBqAGsAbABtAG4AbwBwAHEAcgBzAHQAdQB2AHcAeAB5AHoAewB8AH0AfgB/AIAAgQCCAIMAhACFAIYAhwCIAIkAigCLAIwAjQCOAI8AkACRAJIAkwCUAJUAlgCXAJgAmQCaAJsAnACdAJ4AnwCgAKEAogCjAKQApQCmAKcAqACpAKoAqwCsAK0ArgCvALAAsQCyALMAtAC1ALYAtwC4ALkAugC7ALwAvQC+AL8AwADBAMIAwwDEAMUAxgDHAMgAyQDKAMsAzADNAM4AzwDQANEA0gDTANQA1QDWANcA2ADZANoA2wDcAN0A3gDfAOAA4QDiAOMA5ADlAOYA5wDoAOkA6gDrAOwA7QDuAO8A8ADxAPIA8wD0APUA9gD3APgA+QD6APsA/AD9AP4A/wAAAQEBAgEDAQQBBQEGAQcBCAEJAQoBCwEMAQ0BDgEPARABEQESARMBFAEVARYBFwEYARkBGgEbARwBHQEeAR8BIAEhASIBIwEkASUBJgEnASgBKQEqASsBLAEtAS4BLwEwATEBMgEzATQBNQE2ATcBOAE5AToBOwE8AT0BPgE/AUABQQFCAUMBRAFFAUYBRwFIAUkBSgFLAUwBTQFOAU8BUAFRAVIBUwFUAVUBVgFXAVgBWQFaAVsBXAFdAV4BXwFgAWEBYgFjAWQBZQFmAWcBaAFpAWoBawFsAQ==",
          "dtype": "i2"
         },
         "xaxis": "x2",
         "y": {
          "bdata": "AAAAAAAAAAAAAAAAAAAAAAAAAAAAAAAAAAAAAAAAAAAAAAAAAAAAAAAAAAAAAAAAAAAAAAAAAAAAAAAAAAAAAAAAAAAAAAAAAAAAAAAAAAAAAAAAAAAAAAAAAAAAAAAAAAAAAAAAAAAAAAAAAAAAAAAAAAAAAAAAAAAAAAAAAAAAAAAAAAAAAAAAAAAAAAAAAAAAAAAAAAAAAAAAAAAAAAAAAAAAAAAAAAAAAAAAAAAAAAAAAAAAAAAAAAAAAAAAAAAAAAAAAAAAAAAAAAAAAAAAAAAAAAAAAAAAAAAAAAAAAAAAAAAAAAAAAAAAAAAAAAAAAAAAAAAAAAAAAAAAAAAAAAAAAAAAAAAAAAAAAAAAAAAAAAAAAAAAAAAAAAAAAAAAAAAAAAAAAAAAAAAAAAAAAAAAAAAAAAAAAAAAAAAAAAAAAAAAAAAAAAAAAAAAAAAAAAAAAAAAAAAAAAAAAAAAAAAAAAAAAAAAAAAAAAAAAAAAAAAAAAAAAAAAAAAAAAAAAAAAAAAAAAAAAAAAAAAAAAAAAAAAAAAAAAAAAAAAAAAAAAAAAAAAAAAAAAAAAAAAAAAAAAAAAAAAAAAAAAAAAAAAAAAAAAAAAAAAAAAAAAAAAAAAAAAAAAAAAAAAAAAAAAAAAAAAAAAAAAAAAAAAAAAAAAAAAAAAAAAAAAAAAAAAAAAAAAAAAAAAAAAAAAAAAAAAAAAAAAAAAAAAAAAAAAAAAAAAAAAAAAAAAAAAAAAAAAAAAAAAAAAAAAAAAAAAAAAAAAAAAAAAAAAAAAAAAAAAAAAAAAAAAAAAAAAAAAAAAAAAAAAAAAAAAAAAAAAAAAAAAAAAAAAAAAAAAAAAAAAAAAAAAAAAAAAAAAAAAAAAAAAAAAAAAAAAAAAAAAAAAAAAAAAAAAAAAAAAAAAAAAAAAAAAAAAAAAAAAAAAAAAAAAAAAAAAAAAAAAAAAAAAAAAAAAAAAAAAAAAAAAAAAAAAAAAAAAAAAAAAAAAAAAAAAAAAAAAAAAAAAAAAAAAAAAAAAAAAAAAAAAAAAAAAAAAAAAAAAAAAAAAAAAAAAAAAAAAAAAAAAAAAAAAAAAAAAAAAAAAAAAAAAAAAAAAAAAAAAAAAAAAAAAAAAAAAAAAAAAAAAAAAAAAAAAAAAAAAAAAAAAAAAAAAAAAAAAAAAAAAAAAAAAAAAAAAAAAAAAAAAAAAAAAAAAAAAAAAAAAAAAAAAAAAAAAAAAAAAAAAAAAAAAAAAAAAAAAAAAAAAAAAAAAAAAAAAAAAAAAAAAAAAAAAAAAAAAAAAAAAAAAAAAAAAAAAAAAAAAAAAAAAAAAAAAAAAAAAAAAAAAAAAAAAAAAAAAAAAAAAAAAAAAAAAAAAAAAAAAAAAAAAAAAAAAAAAAAAAAAAAAAAAAAAAAAAAAAAAAAAAAAAAAAAAAAAAAAAAAAAAAAAAAAAAAAAAAAAAAAAAAAAAAAAAAAAAAAAAAAAAAAAAAAAAAAAAAAAAAAAAAAAAAAAAAAAAAAAAAAAAAAAAAAAAAAAAAAAAAAAAAAAAAAAAAAAAAAAAAAAAAAAAAAAAAAAAAAAAAAAAAAAAAAAAAAAAAAAAAAAAAAAAAAAAAAAAAAAAAAAAAAAAAAAAAAAAAAAAAAAAAAAAAAAAAAAAAAAAAAAAAAAAAAAAAAAAAAAAAAAAAAAAAAAAAAAAAAAAAAAAAAAAAAAAAAAAAAAAAAAAAAAAAAAAAAAAAAAAAAAAAAAAAAAAAAAAAAAAAAAAAAAAAAAAAAAAAAAAAAAAAAAAAAAAAAAAAAAAAAAAAAAAAAAAAAAAAAAAAAAAAAAAAAAAAAAAAAAAAAAAAAAAAAAAAAAAAAAAAAAAAAAAAAAAAAAAAAAAAAAAAAAAAAAAAAAAAAAAAAAAAAAAAAAAAAAAAAAAAAAAAAAAAAAAAAAAAAAAAAAAAAAAAAAAAAAAAAAAAAAAAAAAAAAAAAAAAAAAAAAAAAAAAAAAAAAAAAAAAAAAAAAAAAAAAAAAAAAAAAAAAAAAAAAAAAAAAAAAAAAAAAAAAAAAAAAAAAAAAAAAAAAAAAAAAAAAAAAAAAAAAAAAAAAAAAAAAAAAAAAAAAAAAAAAAAAAAAAAAAAAAAAAAAAAAAAAAAAAAAAAAAAAAAAAAAAAAAAAAAAAAAAAAAAAAAAAAAAAAAAAAAAAAAAAAAAAAAAAAAAAAAAAAAAAAAAAAAAAAAAAAAAAAAAAAAAAAAAAAAAAAAAAAAAAAAAAAAAAAAAAAAAAAAAAAAAAAAAAAAAAAAAAAAAAAAAAAAAAAAAAAAAAAAAAAAAAAAAAAAAAAAAAAAAAAAAAAAAAAAAAAAAAAAAAAAAAAAAAAAAAAAAAAAAAAAAAAAAAAAAAAAAAAAAAAAAAAAAAAAAAAAAAAAAAAAAAAAAAAAAAAAAAAAAAAAAAAAAAAAAAAAAAAAAAAAAAAAAAAAAAAAAAAAAAAAAAAAAAAAAAAAAAAAAAAAAAAAAAAAAAAAAAAAAAAAAAAAAAAAAAAAAAAAAAAAAAAAAAAAAAAAAAAAAAAAAAAAAAAAAAAAAAAAAAAAAAAAAAAAAAAAAAAAAAAAAAAAAAAAAAAAAAAAAAAAAAAAAAAAAAAAAAAAAAAAAAAAAAAAAAAAAAAAAAAAAAAAAAAAAAAAAAAAAAAAAAAAAAAAAAAAAAAAAAAAAAAAAAAAAAAAAAAAAAAAAAAAAAAAAAAAAAAAAAAAAAAAAAAAAAAAAAAAAAAAAAAAAAAAAAAAAAAAAAAAAAAAAAAAAAAAAAAAAAAAAAAAAAAAAAAAAAAAAAAAAAAAAAAAAAAAAAAAAAAAAAAAAAAAAAAAAAAAAAAAAAAAAAAAAAAAAAAAAAAAAAAAAAAAAAAAAAAAAAAAAAAAAAAAAAAAAAAAAAAAAAAAAAAAAAAAAAAAAAAAAAAAAAAAAAAAAAAAAAAAAAAAAAAAAAAAAAAAAAAAAAAAAAAAAAAAAAAAAAAAAAAAAAAAAAAAAAAAAAAAAAAAAAAAAAAAAAAAAAAAAAAAAAAAAAAAAAAAAAAAAAAAAAAAAAAAAAAAAAAAAAAAAAAAAAAAAAAAAAAAAAAAAAAAAAAAAAAAAAAAAAAAAAAAAAAAAAAAAAAAAAAAAAAAAAAAAAAAAAAAAAAAAAAAAAAAAAAAAAAAAAAAAAAAAAAAAAAAAAAAAAAAAAAAAAAAAAAAAAAAAAAAAAAAAAAAAAAAAAAAAAAAAAAAAAAAAAAAAAAAAAAAAAAAAAAAAAAAAAAAAAAAAAAAAAAAAAAAAAAAAAAAAAAAAAAAAAAAAAAAAAAAAAAAAAAAAAAAAAAAAAAAAAAAAAAAAAAAAAAAAAAAAAAAAAAAAAAAAAAAAAAAAAAAAAAAAAAAAAAAAAAAAAAAAAAAAAAAAAAAAAAAAAAAAAAAAAAAAAAAAAAAAAAAAAAAAAAAAAAAAAAAAAAAAAAAAAAAAAAAAAAAAAAAAAAAAAAAAAAAAAAAAAAAAAAAAAAAAAAAAAAAAAAAAAAAAAAAAAAAAAAAAAAAAAAAAAAAAAAAAAAAAAAAAAAAAAAAAAAAAAAAAAAAAAAAAAAAAAAAAAAAAAAAAAAAAAAAAAAAAAAAAAAAAAAAAAAAAAAAAAAAAAAAAAAAAAAAAAAAAAAAAAAAAAAAAAAAAAAAAAAAAAAAAAAAAAAAAAAAAAAAAAAAAAAAAAAAAAAAAAAAAAAAAAAAAAAAAAAAAAAAAAAAAAAAAAAAAAAAAAAAAAAAAAAAAAAAAAAAAAAAAAAAAAAAAAAAAAAAAAAAAAAAAAAAAAAAAAAAAAAAAAAAAAAAAAAAAAAAAAAAAAAAAAAAAAAAAAAAAAAAAAAAAAAAAAAAAAAAAAAAAAAAAAAAAAAAAAAAAAA==",
          "dtype": "f8"
         },
         "yaxis": "y2"
        },
        {
         "line": {
          "width": 2
         },
         "mode": "lines",
         "name": "simulator:/USDT:/total",
         "showlegend": true,
         "type": "scatter",
         "x": {
          "bdata": "AAABAAIAAwAEAAUABgAHAAgACQAKAAsADAANAA4ADwAQABEAEgATABQAFQAWABcAGAAZABoAGwAcAB0AHgAfACAAIQAiACMAJAAlACYAJwAoACkAKgArACwALQAuAC8AMAAxADIAMwA0ADUANgA3ADgAOQA6ADsAPAA9AD4APwBAAEEAQgBDAEQARQBGAEcASABJAEoASwBMAE0ATgBPAFAAUQBSAFMAVABVAFYAVwBYAFkAWgBbAFwAXQBeAF8AYABhAGIAYwBkAGUAZgBnAGgAaQBqAGsAbABtAG4AbwBwAHEAcgBzAHQAdQB2AHcAeAB5AHoAewB8AH0AfgB/AIAAgQCCAIMAhACFAIYAhwCIAIkAigCLAIwAjQCOAI8AkACRAJIAkwCUAJUAlgCXAJgAmQCaAJsAnACdAJ4AnwCgAKEAogCjAKQApQCmAKcAqACpAKoAqwCsAK0ArgCvALAAsQCyALMAtAC1ALYAtwC4ALkAugC7ALwAvQC+AL8AwADBAMIAwwDEAMUAxgDHAMgAyQDKAMsAzADNAM4AzwDQANEA0gDTANQA1QDWANcA2ADZANoA2wDcAN0A3gDfAOAA4QDiAOMA5ADlAOYA5wDoAOkA6gDrAOwA7QDuAO8A8ADxAPIA8wD0APUA9gD3APgA+QD6APsA/AD9AP4A/wAAAQEBAgEDAQQBBQEGAQcBCAEJAQoBCwEMAQ0BDgEPARABEQESARMBFAEVARYBFwEYARkBGgEbARwBHQEeAR8BIAEhASIBIwEkASUBJgEnASgBKQEqASsBLAEtAS4BLwEwATEBMgEzATQBNQE2ATcBOAE5AToBOwE8AT0BPgE/AUABQQFCAUMBRAFFAUYBRwFIAUkBSgFLAUwBTQFOAU8BUAFRAVIBUwFUAVUBVgFXAVgBWQFaAVsBXAFdAV4BXwFgAWEBYgFjAWQBZQFmAWcBaAFpAWoBawFsAQ==",
          "dtype": "i2"
         },
         "xaxis": "x2",
         "y": {
          "bdata": "AAAAAACIw0AAAAAAAHC3QAAAAAAAIKxAAAAAAADgoEAAAAAAAECUQM3MzMzMTIhAKVyPwvUofUDl0CLb+X5xQK36XG3F/mRANpNvtrkxWUANF7mnqztOQAhBomTNI0JACk5cEpDENUDw7F1JEx8qQMS4NOFnr5JACrxyQRZshkBpi++0Guh6QFMz99LcJHBAswkPHp7IlUAAT97w8COKQO9Tl4SOp51AmqlaHO/KkUAKtEMVlXGhQCqDUeay7pRAILJIE6eOokBab4p9yESWQLoOm+lgaKNAtlUg5Q1Kl0B+I/QSd/KLQJPQK9itxIBApz1nAzcfdEBDw0k3dSVoQADS7du/+VxAZuTBUKZiUUDbRxOUx9xEQNrj6J6zxkJAYOOfvgqINkBAd1l+pgkrQLRM8X79OCBAWmYymJZ3E0Ax68VQTlwHQDsah/pdCPw/I3a3/NHR8D+RWg/8+y7kP4G2k5BhONg/lPcvGHUQzT9lWx85RnDBPyvIKgAh7bQ/mlYzAI4cqT/vspkiRCKePyKiPQOPFJI/j8IWN0WyhT+6SCVlIAl6P0rUhwUpPm8/RCfXVuS+Yj97m+VPp35WPyNaXRRe/ko/UmMhvjwyQD/pT1WAc28zP8vJF/asUic/v4SG1Yr8Gz+oVoBr/soQP5kPxldUJwQ/dIKR8u4jAj8lNkhWuMT1PudHT9NflvM+gqUdq1KC5z6JX7GGr8OdQBWA0pK3yZpACfwjBPIbmEAfUJGeVe6MQKJYNL65vKlAJdyWjk4wtUDpcCFN4BGzQDXuakWwKbFAxdkhvDdIuUDIfx72/sC2QFF38cD+TatA1b6QQP9hoEDW9RPny6iTQLlrSxVbl4dAWceOGTpPfEBfTgEXgXp5QOxwz04Bk25ArjC3Wt+zqECUKQ+gpaSdQHDHQEPIrZpAqnfAjt4BkEDqbRp4cTWDQPrJIJDuDHdAS6yMRh6pa0D6AO7Dq5hgQJJn6rdn6lNAYMrhDxbmR0Cg6kYOR4JFQMBMiHeIzzlAp8f4KAr5LkDmTtl+bJUiQF9UWpjoTBZA1YMXt7DCCkAdyi8Hag4AQCqCSTt/RPM/Zs/xE/8e5z+ADz2ty77bP7nspWOtpdA/t6/JOwP6wz82P7y20Pi3P78M55YtxKw/vvvCr4FCoT8aeaxbNbaUP0z7SSmm2og/ctVEuCzTfT9quoVLGuVxPzSe59NTeWU/RKEKJM3EWT/rJ3NeKexOP5erYbe2jUI/QulNPblDNj92ZmlEvLcqPyxtJwC1ByA/nBz8zHI8Ez+8j8RHmxUHP+YgS5MQtPs+htLNtLOe8D47lpBypPHjPjiVFHGd8+E+xrwScQiP1T62aCLoP9bJPqwq6oKwCb8+2/VWTaXZuz6N7bWg98awPvAWimy0rqJAZ3Cl6D5rlkA5AAsuMNSrQJ8IPfbEC6lAigYpeLRJs0Af5h5UzC65QAr/2NoXb75AfZDp+XOWwUB3dTs5C7PDQBGchuo6qMVA9oVGZrNnx0BXIeUnFAbJQIF38mmWbspASP2SYGHBy0D6mZtrKOzMQF4I/0PP9M1Afwia5HnozkA5Tbi6jbXPQKp76OuTN9BAaxZgBn6M0EDWJoiZXNXQQH5cVZUvGNFAUKFfgNpT0UAq73hNiTDPQKK2ywZV5s9A/mStncwjw0CJFBzB0TnBQFdp/8GsAb9A0GnM2pqaskCUGMI5IFOmQND7tasmyppA51U6qzPpqkCVd7xmhSWgQMTouYVWEJ1AD/LV6TNwkUCCgOekkGOPQDr4V8lW1YJAPM5d4J7SoEALTQra8S+UQO9KP5+IOYhA1xN+JdcRfUBtXxewGnFxQMFMgAYg7mRA6CjNB8AdWUC2YZg8syNOQLeIvYprFUJAwXlIY3pGQEBWdxMZqUs9QNMR4dvLkzFA3VVZJaKjL0C4ZgKwx/siQF5SrWy8xxZAqKrxThVWC0Bh6wiW2WYAQA60CrServM/0nj5CMK28T9/zziitUHlP3y6NisNgtk/vOUL1g+czj9rplIeo13CP9sAx/n2CbY/BwEikltyqj8/TOsEbryfP+vKoSSoCpM/2/98MjEjkT9Ikjn5oZCEPzokMRiOrXg/2xQTxA6dbT+IsMhM9aZqP2dzB3eI+18/rqW6X4kwUz+90qaoAgdHP+9HvALyoTs/AkOY00yUMD8q0vUrOuUjP6zi8Pbe5yE/0OOD4Ol8FT8PWINBm4yZQKc19rqL/pZAWB1a4NqXi0BTVjYgUI6AQIMhQMD53XNA+U2CsyvXZ0DPN5oKzptcQIjIwGxIKlFA3Lq8tSOZRECn3bdzxLc4QCMPZSRSqS1APQ7FFf7LIUBMv6fmMFsVQCUEDhWhoAlAbVdkS8HA/j+2Uyksp3PyP3Rk/jRiJOY/7GEWdw+S2j8hjALxeOLPPyBON7t7IcM/Gso/6fr0tj/tWBlLYIyrP/gZOBxth6A/JtSA/7XVkz9oYewQQc2HP2UzycDoj3w/sRfpySUjcT8NM9nklZBkP9zWN6yArVg/T1yvZQmdTT8Gy4WIo8RBP3oL+6hMUjU/Edd7O9OVKT97aGFHyrMeP8nUVWi9axI/VvjQkZ4aBj86eezCaof6PuD3TlCz1e8+wLC63eQa4z7Q3aYmXvHWPqozzhG/g8s+6VsP9IqGwD5FwYS4D8yzPpDb7YLa0qc+bjzx/1fbnD7vcccXxHKRPjqMMOKOeYU+SK+8mvLXej4raaQpKxtwPjqMMOKOeWU+Ooww4o55VT46jDDijnlVPjqMMOKOeVU+Ooww4o55VT46jDDijnlVPjqMMOKOeVU+Ooww4o55VT46jDDijnlVPle8yyTekppAx/Iyswq+qEBK39aj2bCdQBgxgZWC0JFAGySOhnUIkECW2v++BtyMQCs3rARwBaJAZ3WbBSCglUADT2vkJMSmQLZgLWdUfaRA6GKZn/0Vr0BdXcJfy6aiQPMD9E6/ya1AegPlGYEFtEByqecw9ASyQITc4m2Ln6VA7HTWXX9VsEBPjDQKzJmjQB6PlW8EpKFAYYnmhTgrlUA/dtULPammQGlZc1cdZaRAc660zgBbokCfjNjEzQaWQAZk0IWQbopAqzSUoOC3f0BTpiQt7QdzQESnxs9P1mZAee5W+ZJnW0BxTjYvWHFQQLr3DZ82u0NAuL3uvnStN0Cq44RLv2ksQBvGk5M/DCFA7SB+Fxl1FEDmEtyChIwIQIHZsc9rdf0/VUXhSNqs8T984QDA0jXlP0uADrHJc9k/jZu3PW2soUCCSqZUnyWxQALzLf+Lk6RAGBJqZQ6xmECs8rF5RKGNQMSh0BUpx4FAcOKSgGRVdUCbIn7Nq5lpQAl1aMNnuF5AVSt2qKRuUkAdGZIwXx5GQGJ/wKDYijpATi34wNDZL0CwWD8NShwjQLx09kK/7hZA3t3Sg+WEC0Ame1sb8IIAQPPQkFRT0PM/mLNnZMrG5z80zDsUJojcPxmXokN9HtE/i2VEs/yKxD9A4B7XyKa4PwIZUxPxlK0/0SbB+sO/oT+Yed3ohEyVP5JXrW0Gj4k/ifvZ2aGrfj/JyN0QeJp7P8gDmbbij3A/CulbrMnPbT9QzbyHEeNhP6AZgutlFqdArJbPTXq0m0A0JxaVfJ+QQFPqs3+V8oNAHOXkbuH5qkByZ4lChy+gQDTNx/fZq7JA0m2JXNJnpkCpDVa12fK0QGkyZ6ZrI6lADpIVLoEqnkAnaUC1gBmSQKlssww0uIVA/xukdT4QekBZR/pZsUZvQAJeyQIExGJAhu/1nNGEVkC3oO9VyAVLQA6Ry2arNkBATw+frs10M0ARCK7R9lgnQMVlJmJbBBxAdqOwB2rPEEDtmpDWGCwEQB3tE5vqNPg/VukXukwM7T9YBu6jx23hPw==",
          "dtype": "f8"
         },
         "yaxis": "y2"
        },
        {
         "line": {
          "width": 2
         },
         "mode": "lines",
         "name": "simulator:/LINK:/free",
         "showlegend": true,
         "type": "scatter",
         "x": {
          "bdata": "AAABAAIAAwAEAAUABgAHAAgACQAKAAsADAANAA4ADwAQABEAEgATABQAFQAWABcAGAAZABoAGwAcAB0AHgAfACAAIQAiACMAJAAlACYAJwAoACkAKgArACwALQAuAC8AMAAxADIAMwA0ADUANgA3ADgAOQA6ADsAPAA9AD4APwBAAEEAQgBDAEQARQBGAEcASABJAEoASwBMAE0ATgBPAFAAUQBSAFMAVABVAFYAVwBYAFkAWgBbAFwAXQBeAF8AYABhAGIAYwBkAGUAZgBnAGgAaQBqAGsAbABtAG4AbwBwAHEAcgBzAHQAdQB2AHcAeAB5AHoAewB8AH0AfgB/AIAAgQCCAIMAhACFAIYAhwCIAIkAigCLAIwAjQCOAI8AkACRAJIAkwCUAJUAlgCXAJgAmQCaAJsAnACdAJ4AnwCgAKEAogCjAKQApQCmAKcAqACpAKoAqwCsAK0ArgCvALAAsQCyALMAtAC1ALYAtwC4ALkAugC7ALwAvQC+AL8AwADBAMIAwwDEAMUAxgDHAMgAyQDKAMsAzADNAM4AzwDQANEA0gDTANQA1QDWANcA2ADZANoA2wDcAN0A3gDfAOAA4QDiAOMA5ADlAOYA5wDoAOkA6gDrAOwA7QDuAO8A8ADxAPIA8wD0APUA9gD3APgA+QD6APsA/AD9AP4A/wAAAQEBAgEDAQQBBQEGAQcBCAEJAQoBCwEMAQ0BDgEPARABEQESARMBFAEVARYBFwEYARkBGgEbARwBHQEeAR8BIAEhASIBIwEkASUBJgEnASgBKQEqASsBLAEtAS4BLwEwATEBMgEzATQBNQE2ATcBOAE5AToBOwE8AT0BPgE/AUABQQFCAUMBRAFFAUYBRwFIAUkBSgFLAUwBTQFOAU8BUAFRAVIBUwFUAVUBVgFXAVgBWQFaAVsBXAFdAV4BXwFgAWEBYgFjAWQBZQFmAWcBaAFpAWoBawFsAQ==",
          "dtype": "i2"
         },
         "xaxis": "x2",
         "y": {
          "bdata": "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",
          "dtype": "f8"
         },
         "yaxis": "y2"
        },
        {
         "line": {
          "width": 2
         },
         "mode": "lines",
         "name": "simulator:/LINK:/locked",
         "showlegend": true,
         "type": "scatter",
         "x": {
          "bdata": "AAABAAIAAwAEAAUABgAHAAgACQAKAAsADAANAA4ADwAQABEAEgATABQAFQAWABcAGAAZABoAGwAcAB0AHgAfACAAIQAiACMAJAAlACYAJwAoACkAKgArACwALQAuAC8AMAAxADIAMwA0ADUANgA3ADgAOQA6ADsAPAA9AD4APwBAAEEAQgBDAEQARQBGAEcASABJAEoASwBMAE0ATgBPAFAAUQBSAFMAVABVAFYAVwBYAFkAWgBbAFwAXQBeAF8AYABhAGIAYwBkAGUAZgBnAGgAaQBqAGsAbABtAG4AbwBwAHEAcgBzAHQAdQB2AHcAeAB5AHoAewB8AH0AfgB/AIAAgQCCAIMAhACFAIYAhwCIAIkAigCLAIwAjQCOAI8AkACRAJIAkwCUAJUAlgCXAJgAmQCaAJsAnACdAJ4AnwCgAKEAogCjAKQApQCmAKcAqACpAKoAqwCsAK0ArgCvALAAsQCyALMAtAC1ALYAtwC4ALkAugC7ALwAvQC+AL8AwADBAMIAwwDEAMUAxgDHAMgAyQDKAMsAzADNAM4AzwDQANEA0gDTANQA1QDWANcA2ADZANoA2wDcAN0A3gDfAOAA4QDiAOMA5ADlAOYA5wDoAOkA6gDrAOwA7QDuAO8A8ADxAPIA8wD0APUA9gD3APgA+QD6APsA/AD9AP4A/wAAAQEBAgEDAQQBBQEGAQcBCAEJAQoBCwEMAQ0BDgEPARABEQESARMBFAEVARYBFwEYARkBGgEbARwBHQEeAR8BIAEhASIBIwEkASUBJgEnASgBKQEqASsBLAEtAS4BLwEwATEBMgEzATQBNQE2ATcBOAE5AToBOwE8AT0BPgE/AUABQQFCAUMBRAFFAUYBRwFIAUkBSgFLAUwBTQFOAU8BUAFRAVIBUwFUAVUBVgFXAVgBWQFaAVsBXAFdAV4BXwFgAWEBYgFjAWQBZQFmAWcBaAFpAWoBawFsAQ==",
          "dtype": "i2"
         },
         "xaxis": "x2",
         "y": {
          "bdata": "AAAAAAAAAAAAAAAAAAAAAAAAAAAAAAAAAAAAAAAAAAAAAAAAAAAAAAAAAAAAAAAAAAAAAAAAAAAAAAAAAAAAAAAAAAAAAAAAAAAAAAAAAAAAAAAAAAAAAAAAAAAAAAAAAAAAAAAAAAAAAAAAAAAAAAAAAAAAAAAAAAAAAAAAAAAAAAAAAAAAAAAAAAAAAAAAAAAAAAAAAAAAAAAAAAAAAAAAAAAAAAAAAAAAAAAAAAAAAAAAAAAAAAAAAAAAAAAAAAAAAAAAAAAAAAAAAAAAAAAAAAAAAAAAAAAAAAAAAAAAAAAAAAAAAAAAAAAAAAAAAAAAAAAAAAAAAAAAAAAAAAAAAAAAAAAAAAAAAAAAAAAAAAAAAAAAAAAAAAAAAAAAAAAAAAAAAAAAAAAAAAAAAAAAAAAAAAAAAAAAAAAAAAAAAAAAAAAAAAAAAAAAAAAAAAAAAAAAAAAAAAAAAAAAAAAAAAAAAAAAAAAAAAAAAAAAAAAAAAAAAAAAAAAAAAAAAAAAAAAAAAAAAAAAAAAAAAAAAAAAAAAAAAAAAAAAAAAAAAAAAAAAAAAAAAAAAAAAAAAAAAAAAAAAAAAAAAAAAAAAAAAAAAAAAAAAAAAAAAAAAAAAAAAAAAAAAAAAAAAAAAAAAAAAAAAAAAAAAAAAAAAAAAAAAAAAAAAAAAAAAAAAAAAAAAAAAAAAAAAAAAAAAAAAAAAAAAAAAAAAAAAAAAAAAAAAAAAAAAAAAAAAAAAAAAAAAAAAAAAAAAAAAAAAAAAAAAAAAAAAAAAAAAAAAAAAAAAAAAAAAAAAAAAAAAAAAAAAAAAAAAAAAAAAAAAAAAAAAAAAAAAAAAAAAAAAAAAAAAAAAAAAAAAAAAAAAAAAAAAAAAAAAAAAAAAAAAAAAAAAAAAAAAAAAAAAAAAAAAAAAAAAAAAAAAAAAAAAAAAAAAAAAAAAAAAAAAAAAAAAAAAAAAAAAAAAAAAAAAAAAAAAAAAAAAAAAAAAAAAAAAAAAAAAAAAAAAAAAAAAAAAAAAAAAAAAAAAAAAAAAAAAAAAAAAAAAAAAAAAAAAAAAAAAAAAAAAAAAAAAAAAAAAAAAAAAAAAAAAAAAAAAAAAAAAAAAAAAAAAAAAAAAAAAAAAAAAAAAAAAAAAAAAAAAAAAAAAAAAAAAAAAAAAAAAAAAAAAAAAAAAAAAAAAAAAAAAAAAAAAAAAAAAAAAAAAAAAAAAAAAAAAAAAAAAAAAAAAAAAAAAAAAAAAAAAAAAAAAAAAAAAAAAAAAAAAAAAAAAAAAAAAAAAAAAAAAAAAAAAAAAAAAAAAAAAAAAAAAAAAAAAAAAAAAAAAAAAAAAAAAAAAAAAAAAAAAAAAAAAAAAAAAAAAAAAAAAAAAAAAAAAAAAAAAAAAAAAAAAAAAAAAAAAAAAAAAAAAAAAAAAAAAAAAAAAAAAAAAAAAAAAAAAAAAAAAAAAAAAAAAAAAAAAAAAAAAAAAAAAAAAAAAAAAAAAAAAAAAAAAAAAAAAAAAAAAAAAAAAAAAAAAAAAAAAAAAAAAAAAAAAAAAAAAAAAAAAAAAAAAAAAAAAAAAAAAAAAAAAAAAAAAAAAAAAAAAAAAAAAAAAAAAAAAAAAAAAAAAAAAAAAAAAAAAAAAAAAAAAAAAAAAAAAAAAAAAAAAAAAAAAAAAAAAAAAAAAAAAAAAAAAAAAAAAAAAAAAAAAAAAAAAAAAAAAAAAAAAAAAAAAAAAAAAAAAAAAAAAAAAAAAAAAAAAAAAAAAAAAAAAAAAAAAAAAAAAAAAAAAAAAAAAAAAAAAAAAAAAAAAAAAAAAAAAAAAAAAAAAAAAAAAAAAAAAAAAAAAAAAAAAAAAAAAAAAAAAAAAAAAAAAAAAAAAAAAAAAAAAAAAAAAAAAAAAAAAAAAAAAAAAAAAAAAAAAAAAAAAAAAAAAAAAAAAAAAAAAAAAAAAAAAAAAAAAAAAAAAAAAAAAAAAAAAAAAAAAAAAAAAAAAAAAAAAAAAAAAAAAAAAAAAAAAAAAAAAAAAAAAAAAAAAAAAAAAAAAAAAAAAAAAAAAAAAAAAAAAAAAAAAAAAAAAAAAAAAAAAAAAAAAAAAAAAAAAAAAAAAAAAAAAAAAAAAAAAAAAAAAAAAAAAAAAAAAAAAAAAAAAAAAAAAAAAAAAAAAAAAAAAAAAAAAAAAAAAAAAAAAAAAAAAAAAAAAAAAAAAAAAAAAAAAAAAAAAAAAAAAAAAAAAAAAAAAAAAAAAAAAAAAAAAAAAAAAAAAAAAAAAAAAAAAAAAAAAAAAAAAAAAAAAAAAAAAAAAAAAAAAAAAAAAAAAAAAAAAAAAAAAAAAAAAAAAAAAAAAAAAAAAAAAAAAAAAAAAAAAAAAAAAAAAAAAAAAAAAAAAAAAAAAAAAAAAAAAAAAAAAAAAAAAAAAAAAAAAAAAAAAAAAAAAAAAAAAAAAAAAAAAAAAAAAAAAAAAAAAAAAAAAAAAAAAAAAAAAAAAAAAAAAAAAAAAAAAAAAAAAAAAAAAAAAAAAAAAAAAAAAAAAAAAAAAAAAAAAAAAAAAAAAAAAAAAAAAAAAAAAAAAAAAAAAAAAAAAAAAAAAAAAAAAAAAAAAAAAAAAAAAAAAAAAAAAAAAAAAAAAAAAAAAAAAAAAAAAAAAAAAAAAAAAAAAAAAAAAAAAAAAAAAAAAAAAAAAAAAAAAAAAAAAAAAAAAAAAAAAAAAAAAAAAAAAAAAAAAAAAAAAAAAAAAAAAAAAAAAAAAAAAAAAAAAAAAAAAAAAAAAAAAAAAAAAAAAAAAAAAAAAAAAAAAAAAAAAAAAAAAAAAAAAAAAAAAAAAAAAAAAAAAAAAAAAAAAAAAAAAAAAAAAAAAAAAAAAAAAAAAAAAAAAAAAAAAAAAAAAAAAAAAAAAAAAAAAAAAAAAAAAAAAAAAAAAAAAAAAAAAAAAAAAAAAAAAAAAAAAAAAAAAAAAAAAAAAAAAAAAAAAAAAAAAAAAAAAAAAAAAAAAAAAAAAAAAAAAAAAAAAAAAAAAAAAAAAAAAAAAAAAAAAAAAAAAAAAAAAAAAAAAAAAAAAAAAAAAAAAAAAAAAAAAAAAAAAAAAAAAAAAAAAAAAAAAAAAAAAAAAAAAAAAAAAAAAAAAAAAAAAAAAAAAAAAAAAAAAAAAAAAAAAAAAAAAAAAAAAAAAAAAAAAAAAAAAAAAAAAAAAAAAAAAAAAAAAAAAAAAAAAAAAAAAAAAAAAAAAAAAAAAAAAAAAAAAAAAAAAAAAAAAAAAAAAAAAAAAAAAAAAAAAAAAAAAAAAAAAAAAAAAAAAAAAAAAAAAAAAAAAAAAAAAAAAAAAAAAAAAAAAAAAAAAAAAAAAAAAAAAAAAAAAAAAAAAAAAAAAAAAAAAAAAAAAAAAAAAAAAAAAAAAAAAAAAAAAAAAAAAAAAAAAAAAAAAAAAAAAAAAAAAAAAAAAAAAAAAAAAAAAAAAAAAAAAAAAAAAAAAAAAAAAAAAAAAAAAAAAAAAAAAAAAAAAAAAAAAAAAAAAAAAAAAAAAAAAAAAAAAAAAAAAAAAAAAAAAAAAAAAAAAAAAAAAAAAAAAAAAAAAAAAAAAAAAAAAAAAAAAAAAAAAAAAAAAAAAAAAAAAAAAAAAAAAAAAAAAAAAAAAAAAAAAAAAAAAAAAAAAAAAAAAAAAAAAAAAAAAAAAAAAAAAAAAAAAAAAAAAAAAAAAAAAAAAAAAAAAAAAAAAAAAAAAAAAAAAAAAAAAAAAAAAAAAAAAAAAAAAAAAAAAAAAAAAAAAAAAAAAAAAAAAAAAAAAAAAAAAAAAAAAAAAAAAAAAAAAAAAAAAAAAAAAAAAAAAAAAAAAAAAAAAAAAAAAAAAAAAAAAAAAAAAAAAAAAAAAAAAAAAAAAAAAAAAAAAAAAAAAAAAAAAAAAAAAAAAAAA==",
          "dtype": "f8"
         },
         "yaxis": "y2"
        },
        {
         "line": {
          "width": 2
         },
         "mode": "lines",
         "name": "simulator:/LINK:/total",
         "showlegend": true,
         "type": "scatter",
         "x": {
          "bdata": "AAABAAIAAwAEAAUABgAHAAgACQAKAAsADAANAA4ADwAQABEAEgATABQAFQAWABcAGAAZABoAGwAcAB0AHgAfACAAIQAiACMAJAAlACYAJwAoACkAKgArACwALQAuAC8AMAAxADIAMwA0ADUANgA3ADgAOQA6ADsAPAA9AD4APwBAAEEAQgBDAEQARQBGAEcASABJAEoASwBMAE0ATgBPAFAAUQBSAFMAVABVAFYAVwBYAFkAWgBbAFwAXQBeAF8AYABhAGIAYwBkAGUAZgBnAGgAaQBqAGsAbABtAG4AbwBwAHEAcgBzAHQAdQB2AHcAeAB5AHoAewB8AH0AfgB/AIAAgQCCAIMAhACFAIYAhwCIAIkAigCLAIwAjQCOAI8AkACRAJIAkwCUAJUAlgCXAJgAmQCaAJsAnACdAJ4AnwCgAKEAogCjAKQApQCmAKcAqACpAKoAqwCsAK0ArgCvALAAsQCyALMAtAC1ALYAtwC4ALkAugC7ALwAvQC+AL8AwADBAMIAwwDEAMUAxgDHAMgAyQDKAMsAzADNAM4AzwDQANEA0gDTANQA1QDWANcA2ADZANoA2wDcAN0A3gDfAOAA4QDiAOMA5ADlAOYA5wDoAOkA6gDrAOwA7QDuAO8A8ADxAPIA8wD0APUA9gD3APgA+QD6APsA/AD9AP4A/wAAAQEBAgEDAQQBBQEGAQcBCAEJAQoBCwEMAQ0BDgEPARABEQESARMBFAEVARYBFwEYARkBGgEbARwBHQEeAR8BIAEhASIBIwEkASUBJgEnASgBKQEqASsBLAEtAS4BLwEwATEBMgEzATQBNQE2ATcBOAE5AToBOwE8AT0BPgE/AUABQQFCAUMBRAFFAUYBRwFIAUkBSgFLAUwBTQFOAU8BUAFRAVIBUwFUAVUBVgFXAVgBWQFaAVsBXAFdAV4BXwFgAWEBYgFjAWQBZQFmAWcBaAFpAWoBawFsAQ==",
          "dtype": "i2"
         },
         "xaxis": "x2",
         "y": {
          "bdata": "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",
          "dtype": "f8"
         },
         "yaxis": "y2"
        },
        {
         "line": {
          "width": 2
         },
         "mode": "lines",
         "name": "simulator:/LINK:/worth",
         "showlegend": true,
         "type": "scatter",
         "x": {
          "bdata": "AAABAAIAAwAEAAUABgAHAAgACQAKAAsADAANAA4ADwAQABEAEgATABQAFQAWABcAGAAZABoAGwAcAB0AHgAfACAAIQAiACMAJAAlACYAJwAoACkAKgArACwALQAuAC8AMAAxADIAMwA0ADUANgA3ADgAOQA6ADsAPAA9AD4APwBAAEEAQgBDAEQARQBGAEcASABJAEoASwBMAE0ATgBPAFAAUQBSAFMAVABVAFYAVwBYAFkAWgBbAFwAXQBeAF8AYABhAGIAYwBkAGUAZgBnAGgAaQBqAGsAbABtAG4AbwBwAHEAcgBzAHQAdQB2AHcAeAB5AHoAewB8AH0AfgB/AIAAgQCCAIMAhACFAIYAhwCIAIkAigCLAIwAjQCOAI8AkACRAJIAkwCUAJUAlgCXAJgAmQCaAJsAnACdAJ4AnwCgAKEAogCjAKQApQCmAKcAqACpAKoAqwCsAK0ArgCvALAAsQCyALMAtAC1ALYAtwC4ALkAugC7ALwAvQC+AL8AwADBAMIAwwDEAMUAxgDHAMgAyQDKAMsAzADNAM4AzwDQANEA0gDTANQA1QDWANcA2ADZANoA2wDcAN0A3gDfAOAA4QDiAOMA5ADlAOYA5wDoAOkA6gDrAOwA7QDuAO8A8ADxAPIA8wD0APUA9gD3APgA+QD6APsA/AD9AP4A/wAAAQEBAgEDAQQBBQEGAQcBCAEJAQoBCwEMAQ0BDgEPARABEQESARMBFAEVARYBFwEYARkBGgEbARwBHQEeAR8BIAEhASIBIwEkASUBJgEnASgBKQEqASsBLAEtAS4BLwEwATEBMgEzATQBNQE2ATcBOAE5AToBOwE8AT0BPgE/AUABQQFCAUMBRAFFAUYBRwFIAUkBSgFLAUwBTQFOAU8BUAFRAVIBUwFUAVUBVgFXAVgBWQFaAVsBXAFdAV4BXwFgAWEBYgFjAWQBZQFmAWcBaAFpAWoBawFsAQ==",
          "dtype": "i2"
         },
         "xaxis": "x2",
         "y": {
          "bdata": "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",
          "dtype": "f8"
         },
         "yaxis": "y2"
        },
        {
         "line": {
          "width": 2
         },
         "mode": "lines",
         "name": "pnl",
         "showlegend": true,
         "type": "scatter",
         "x": {
          "bdata": "AAABAAIAAwAEAAUABgAHAAgACQAKAAsADAANAA4ADwAQABEAEgATABQAFQAWABcAGAAZABoAGwAcAB0AHgAfACAAIQAiACMAJAAlACYAJwAoACkAKgArACwALQAuAC8AMAAxADIAMwA0ADUANgA3ADgAOQA6ADsAPAA9AD4APwBAAEEAQgBDAEQARQBGAEcASABJAEoASwBMAE0ATgBPAFAAUQBSAFMAVABVAFYAVwBYAFkAWgBbAFwAXQBeAF8AYABhAGIAYwBkAGUAZgBnAGgAaQBqAGsAbABtAG4AbwBwAHEAcgBzAHQAdQB2AHcAeAB5AHoAewB8AH0AfgB/AIAAgQCCAIMAhACFAIYAhwCIAIkAigCLAIwAjQCOAI8AkACRAJIAkwCUAJUAlgCXAJgAmQCaAJsAnACdAJ4AnwCgAKEAogCjAKQApQCmAKcAqACpAKoAqwCsAK0ArgCvALAAsQCyALMAtAC1ALYAtwC4ALkAugC7ALwAvQC+AL8AwADBAMIAwwDEAMUAxgDHAMgAyQDKAMsAzADNAM4AzwDQANEA0gDTANQA1QDWANcA2ADZANoA2wDcAN0A3gDfAOAA4QDiAOMA5ADlAOYA5wDoAOkA6gDrAOwA7QDuAO8A8ADxAPIA8wD0APUA9gD3APgA+QD6APsA/AD9AP4A/wAAAQEBAgEDAQQBBQEGAQcBCAEJAQoBCwEMAQ0BDgEPARABEQESARMBFAEVARYBFwEYARkBGgEbARwBHQEeAR8BIAEhASIBIwEkASUBJgEnASgBKQEqASsBLAEtAS4BLwEwATEBMgEzATQBNQE2ATcBOAE5AToBOwE8AT0BPgE/AUABQQFCAUMBRAFFAUYBRwFIAUkBSgFLAUwBTQFOAU8BUAFRAVIBUwFUAVUBVgFXAVgBWQFaAVsBXAFdAV4BXwFgAWEBYgFjAWQBZQFmAWcBaAFpAWoBawFsAQ==",
          "dtype": "i2"
         },
         "xaxis": "x2",
         "y": {
          "bdata": "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",
          "dtype": "f8"
         },
         "yaxis": "y2"
        },
        {
         "line": {
          "width": 2
         },
         "mode": "lines",
         "name": "ppl",
         "showlegend": true,
         "type": "scatter",
         "x": {
          "bdata": "AAABAAIAAwAEAAUABgAHAAgACQAKAAsADAANAA4ADwAQABEAEgATABQAFQAWABcAGAAZABoAGwAcAB0AHgAfACAAIQAiACMAJAAlACYAJwAoACkAKgArACwALQAuAC8AMAAxADIAMwA0ADUANgA3ADgAOQA6ADsAPAA9AD4APwBAAEEAQgBDAEQARQBGAEcASABJAEoASwBMAE0ATgBPAFAAUQBSAFMAVABVAFYAVwBYAFkAWgBbAFwAXQBeAF8AYABhAGIAYwBkAGUAZgBnAGgAaQBqAGsAbABtAG4AbwBwAHEAcgBzAHQAdQB2AHcAeAB5AHoAewB8AH0AfgB/AIAAgQCCAIMAhACFAIYAhwCIAIkAigCLAIwAjQCOAI8AkACRAJIAkwCUAJUAlgCXAJgAmQCaAJsAnACdAJ4AnwCgAKEAogCjAKQApQCmAKcAqACpAKoAqwCsAK0ArgCvALAAsQCyALMAtAC1ALYAtwC4ALkAugC7ALwAvQC+AL8AwADBAMIAwwDEAMUAxgDHAMgAyQDKAMsAzADNAM4AzwDQANEA0gDTANQA1QDWANcA2ADZANoA2wDcAN0A3gDfAOAA4QDiAOMA5ADlAOYA5wDoAOkA6gDrAOwA7QDuAO8A8ADxAPIA8wD0APUA9gD3APgA+QD6APsA/AD9AP4A/wAAAQEBAgEDAQQBBQEGAQcBCAEJAQoBCwEMAQ0BDgEPARABEQESARMBFAEVARYBFwEYARkBGgEbARwBHQEeAR8BIAEhASIBIwEkASUBJgEnASgBKQEqASsBLAEtAS4BLwEwATEBMgEzATQBNQE2ATcBOAE5AToBOwE8AT0BPgE/AUABQQFCAUMBRAFFAUYBRwFIAUkBSgFLAUwBTQFOAU8BUAFRAVIBUwFUAVUBVgFXAVgBWQFaAVsBXAFdAV4BXwFgAWEBYgFjAWQBZQFmAWcBaAFpAWoBawFsAQ==",
          "dtype": "i2"
         },
         "xaxis": "x2",
         "y": {
          "bdata": "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",
          "dtype": "f8"
         },
         "yaxis": "y2"
        },
        {
         "close": {
          "bdata": "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",
          "dtype": "f8"
         },
         "decreasing": {
          "line": {
           "color": "red"
          }
         },
         "high": {
          "bdata": "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",
          "dtype": "f8"
         },
         "increasing": {
          "line": {
           "color": "green"
          }
         },
         "low": {
          "bdata": "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",
          "dtype": "f8"
         },
         "name": "Price",
         "open": {
          "bdata": "zczMzMzMJkDNzMzMzEwoQLgehetROChAH4XrUbgeKUBSuB6F61EpQGZmZmZm5ilAcT0K16PwKEAzMzMzM7MnQIXrUbgeBSZAzczMzMxMJUBSuB6F61ElQClcj8L1KCZACtejcD2KJkCPwvUoXI8mQFK4HoXrUSZAKVyPwvWoJUAUrkfhehQlQJqZmZmZGSVAzczMzMzMJUAAAAAAAAAmQAAAAAAAgCVAFK5H4XqUJkBmZmZmZuYmQAAAAAAAgCZAj8L1KFwPJkD2KFyPwvUmQNejcD0K1yZA9ihcj8L1J0BmZmZmZmYnQPYoXI/C9SdApHA9CtejJkA9CtejcD0nQEjhehSuRyZAhetRuB4FJkB7FK5H4folQOF6FK5HYSZAmpmZmZmZJ0DNzMzMzMwoQFK4HoXr0SZAexSuR+F6JkDhehSuR2EmQAAAAAAAgCVAAAAAAACAJECuR+F6FK4lQNejcD0KVyhArkfhehQuKUDhehSuR2ErQI/C9ShcjytAhetRuB6FLEBSuB6F69EtQGZmZmZm5itAexSuR+H6KkAAAAAAAAAqQK5H4XoUritAj8L1KFwPLUAUrkfhepQrQArXo3A9ii5APQrXo3A9LUB7FK5H4XosQEjhehSuxy1AUrgeheuRMECkcD0K12MxQClcj8L16DFA16NwPQpXMUDXo3A9ClcxQClcj8L1qDJAcT0K16PwMUAAAAAAAEAyQAAAAAAAADNAKVyPwvXoMkC4HoXrUTg5QJqZmZmZGThAUrgehesROEBmZmZmZiY3QOF6FK5H4TlACtejcD3KOEDXo3A9Chc6QD0K16NwPTZAXI/C9SgcNkCPwvUoXA84QKRwPQrXIz1APQrXo3D9PEDhehSuRyE9QAAAAAAAQD1APQrXo3C9PEBcj8L1KNw7QJqZmZmZ2ThAj8L1KFzPNkBmZmZmZmY3QKRwPQrXIzZAFK5H4XoUNkDNzMzMzIw4QK5H4XoUbjlAcT0K16NwOECuR+F6FK42QI/C9ShcjzVAPQrXo3D9NUD2KFyPwvU0QFK4HoXrkTRAhetRuB4FNEB7FK5H4bo1QFK4HoXrETZAexSuR+F6N0CamZmZmZk3QBSuR+F6lDdAFK5H4XrUN0CkcD0K12M1QHE9CtejcDRApHA9CtejM0AAAAAAAEA0QPYoXI/CNTRAmpmZmZnZM0Bcj8L1KFwzQBSuR+F6VDRAmpmZmZkZNkBI4XoUrgc3QJqZmZmZGTlAH4XrUbgeOEDXo3A9Clc4QBSuR+F6FDlA7FG4HoWrOkAK16NwPUo5QClcj8L1qDlA7FG4HoUrOUCuR+F6FO44QOF6FK5H4ThAuB6F61E4OEAfhetRuJ42QClcj8L1qDdA9ihcj8J1OEApXI/C9Sg5QHsUrkfh+jZAuB6F61F4NECkcD0K16M1QHsUrkfh+jNAcT0K16MwM0DXo3A9CpcyQKRwPQrXYzJAcT0K16NwMkDD9Shcj0IyQM3MzMzMzDJAZmZmZmamMkAzMzMzMzMzQI/C9ShcjzJApHA9CtdjM0AAAAAAAAAzQDMzMzMzszJAH4XrUbgeM0DhehSuR+ExQHsUrkfh+jFASOF6FK5HMkCuR+F6FG4xQMP1KFyPwjFAH4XrUbieMUCF61G4HoUuQB+F61G4ni5AhetRuB6FLkC4HoXrUTguQB+F61G4ni1AAAAAAACALUDsUbgehWsxQOxRuB6F6yxAPQrXo3C9LUCuR+F6FG4wQI/C9ShcDzFAZmZmZmbmL0AK16NwPYouQB+F61G4nitAUrgehetRKUBI4XoUrkcqQHsUrkfh+ipAFK5H4XoUKkBSuB6F61ErQArXo3A9CixAw/UoXI/CKkCPwvUoXA8sQNejcD0K1ytAj8L1KFwPLkBxPQrXo3AsQOxRuB6F6ytAAAAAAACALEDsUbgehessQMP1KFyPQi5AXI/C9SjcLkAAAAAAAIAuQI/C9ShcDy9AAAAAAACALEAfhetRuB4rQNejcD0K1ypAAAAAAAAAK0AUrkfhehQsQM3MzMzMzClAzczMzMzMKUDhehSuR+EpQK5H4XoUrilAFK5H4XqUJkDsUbgehesmQFyPwvUo3CVAzczMzMxMKUCkcD0K1yMoQEjhehSuRylAzczMzMxMKkDD9Shcj0IpQEjhehSuRylAexSuR+F6KEAzMzMzM7MoQBSuR+F6FClApHA9CtcjKUBcj8L1KNwpQBSuR+F6lCpAMzMzMzMzKkDD9Shcj0IsQArXo3A9Ci5AH4XrUbgeLkDXo3A9CtctQD0K16NwvS1AH4XrUbgeLUCPwvUoXA8uQLgehetROC1AmpmZmZmZLEB7FK5H4XotQM3MzMzMTC1AexSuR+F6LEC4HoXrUbgrQM3MzMzMTCtApHA9CtejK0AfhetRuJ4rQEjhehSuxy9Aw/UoXI8CMEDXo3A9ClcxQJqZmZmZGTFAPQrXo3C9MEBmZmZmZmYxQIXrUbgeBTFACtejcD0KMECF61G4HoUvQClcj8L1qC5Aw/UoXI/CL0AUrkfhepQvQOxRuB6Fay9AmpmZmZkZMEA9CtejcL0wQI/C9ShcDy9ArkfhehSuLkAUrkfhehQvQBSuR+F6FC9AUrgehevRL0DhehSuR2EvQJqZmZmZGS5ASOF6FK7HK0BxPQrXo/ArQB+F61G4HixAKVyPwvUoLEA9CtejcD0sQK5H4XoUritASOF6FK7HKUCkcD0K1yMrQKRwPQrXoytA9ihcj8J1K0C4HoXrUbgsQGZmZmZm5i5ASOF6FK7HLUD2KFyPwvUrQGZmZmZm5ipAUrgehetRKkCamZmZmZkqQKRwPQrXIytAAAAAAAAAKkA9CtejcD0qQKRwPQrXIypAhetRuB4FKUCPwvUoXA8oQM3MzMzMTCdAKVyPwvWoKUDXo3A9CtcqQEjhehSuRypA4XoUrkfhKUCamZmZmRkqQM3MzMzMzCpA7FG4HoVrK0A9CtejcL0qQM3MzMzMzClAmpmZmZkZK0BSuB6F61ErQFK4HoXrUSpA9ihcj8J1KkB7FK5H4foqQFyPwvUo3CpAcT0K16PwK0AAAAAAAIAsQHsUrkfhei5AFK5H4XqULkC4HoXrUTguQFK4HoXrUS9AhetRuB6FL0Bcj8L1KBwwQK5H4XoUrjBAAAAAAAAAMkAUrkfhetQxQGZmZmZmZjJASOF6FK5HM0A9CtejcH0zQClcj8L1qDNArkfhehQuMkDsUbgehesxQArXo3A9SjJAKVyPwvVoMkA9CtejcD0zQFyPwvUoHDJA16NwPQrXMUC4HoXrUbgxQK5H4XoU7jBAUrgehesRMEBI4XoUrkcvQM3MzMzMTDBAH4XrUbgeMUCkcD0K12MwQOxRuB6FqzBAuB6F61F4MkCkcD0K1+MzQDMzMzMz8zVAUrgehesRNkBSuB6F6xE1QJqZmZmZmTdAexSuR+H6N0AzMzMzM3M2QAAAAAAAwDVApHA9CtejNkCkcD0K16M5QArXo3A9yjlAj8L1KFyPN0AzMzMzM3M6QFK4HoXr0ThAzczMzMzMOkBI4XoUrkc6QFK4HoXr0TlA4XoUrkdhN0AfhetRuF44QEjhehSuxzdArkfhehQuOUCuR+F6FG43QMP1KFyPgjdAMzMzMzMzN0CF61G4HoU2QD0K16NwfTdAcT0K16OwN0BSuB6F61E2QEjhehSuRzZAMzMzMzMzNkC4HoXrUXg2QArXo3A9CjdAzczMzMwMN0BSuB6F65E3QLgehetReDhAH4XrUbgeOUDhehSuR+E4QJqZmZmZGThAj8L1KFyPN0A9CtejcH03QAAAAAAAADhA4XoUrkehOEB7FK5H4Xo3QBSuR+F6VDdAMzMzMzPzNkApXI/C9ag1QA==",
          "dtype": "f8"
         },
         "showlegend": false,
         "type": "candlestick",
         "x": {
          "bdata": "AAABAAIAAwAEAAUABgAHAAgACQAKAAsADAANAA4ADwAQABEAEgATABQAFQAWABcAGAAZABoAGwAcAB0AHgAfACAAIQAiACMAJAAlACYAJwAoACkAKgArACwALQAuAC8AMAAxADIAMwA0ADUANgA3ADgAOQA6ADsAPAA9AD4APwBAAEEAQgBDAEQARQBGAEcASABJAEoASwBMAE0ATgBPAFAAUQBSAFMAVABVAFYAVwBYAFkAWgBbAFwAXQBeAF8AYABhAGIAYwBkAGUAZgBnAGgAaQBqAGsAbABtAG4AbwBwAHEAcgBzAHQAdQB2AHcAeAB5AHoAewB8AH0AfgB/AIAAgQCCAIMAhACFAIYAhwCIAIkAigCLAIwAjQCOAI8AkACRAJIAkwCUAJUAlgCXAJgAmQCaAJsAnACdAJ4AnwCgAKEAogCjAKQApQCmAKcAqACpAKoAqwCsAK0ArgCvALAAsQCyALMAtAC1ALYAtwC4ALkAugC7ALwAvQC+AL8AwADBAMIAwwDEAMUAxgDHAMgAyQDKAMsAzADNAM4AzwDQANEA0gDTANQA1QDWANcA2ADZANoA2wDcAN0A3gDfAOAA4QDiAOMA5ADlAOYA5wDoAOkA6gDrAOwA7QDuAO8A8ADxAPIA8wD0APUA9gD3APgA+QD6APsA/AD9AP4A/wAAAQEBAgEDAQQBBQEGAQcBCAEJAQoBCwEMAQ0BDgEPARABEQESARMBFAEVARYBFwEYARkBGgEbARwBHQEeAR8BIAEhASIBIwEkASUBJgEnASgBKQEqASsBLAEtAS4BLwEwATEBMgEzATQBNQE2ATcBOAE5AToBOwE8AT0BPgE/AUABQQFCAUMBRAFFAUYBRwFIAUkBSgFLAUwBTQFOAU8BUAFRAVIBUwFUAVUBVgFXAVgBWQFaAVsBXAFdAV4BXwFgAWEBYgFjAWQBZQFmAWcBaAFpAWoBawFsAQ==",
          "dtype": "i2"
         },
         "xaxis": "x3",
         "yaxis": "y3"
        },
        {
         "line": {
          "color": "blue",
          "width": 2
         },
         "mode": "lines",
         "name": "LINK Free",
         "showlegend": true,
         "type": "scatter",
         "x": {
          "bdata": "AAABAAIAAwAEAAUABgAHAAgACQAKAAsADAANAA4ADwAQABEAEgATABQAFQAWABcAGAAZABoAGwAcAB0AHgAfACAAIQAiACMAJAAlACYAJwAoACkAKgArACwALQAuAC8AMAAxADIAMwA0ADUANgA3ADgAOQA6ADsAPAA9AD4APwBAAEEAQgBDAEQARQBGAEcASABJAEoASwBMAE0ATgBPAFAAUQBSAFMAVABVAFYAVwBYAFkAWgBbAFwAXQBeAF8AYABhAGIAYwBkAGUAZgBnAGgAaQBqAGsAbABtAG4AbwBwAHEAcgBzAHQAdQB2AHcAeAB5AHoAewB8AH0AfgB/AIAAgQCCAIMAhACFAIYAhwCIAIkAigCLAIwAjQCOAI8AkACRAJIAkwCUAJUAlgCXAJgAmQCaAJsAnACdAJ4AnwCgAKEAogCjAKQApQCmAKcAqACpAKoAqwCsAK0ArgCvALAAsQCyALMAtAC1ALYAtwC4ALkAugC7ALwAvQC+AL8AwADBAMIAwwDEAMUAxgDHAMgAyQDKAMsAzADNAM4AzwDQANEA0gDTANQA1QDWANcA2ADZANoA2wDcAN0A3gDfAOAA4QDiAOMA5ADlAOYA5wDoAOkA6gDrAOwA7QDuAO8A8ADxAPIA8wD0APUA9gD3APgA+QD6APsA/AD9AP4A/wAAAQEBAgEDAQQBBQEGAQcBCAEJAQoBCwEMAQ0BDgEPARABEQESARMBFAEVARYBFwEYARkBGgEbARwBHQEeAR8BIAEhASIBIwEkASUBJgEnASgBKQEqASsBLAEtAS4BLwEwATEBMgEzATQBNQE2ATcBOAE5AToBOwE8AT0BPgE/AUABQQFCAUMBRAFFAUYBRwFIAUkBSgFLAUwBTQFOAU8BUAFRAVIBUwFUAVUBVgFXAVgBWQFaAVsBXAFdAV4BXwFgAWEBYgFjAWQBZQFmAWcBaAFpAWoBawFsAQ==",
          "dtype": "i2"
         },
         "xaxis": "x3",
         "y": {
          "bdata": "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",
          "dtype": "f8"
         },
         "yaxis": "y3"
        },
        {
         "line": {
          "color": "orange",
          "width": 2
         },
         "mode": "lines",
         "name": "LINK Reserved",
         "showlegend": true,
         "type": "scatter",
         "x": {
          "bdata": "AAABAAIAAwAEAAUABgAHAAgACQAKAAsADAANAA4ADwAQABEAEgATABQAFQAWABcAGAAZABoAGwAcAB0AHgAfACAAIQAiACMAJAAlACYAJwAoACkAKgArACwALQAuAC8AMAAxADIAMwA0ADUANgA3ADgAOQA6ADsAPAA9AD4APwBAAEEAQgBDAEQARQBGAEcASABJAEoASwBMAE0ATgBPAFAAUQBSAFMAVABVAFYAVwBYAFkAWgBbAFwAXQBeAF8AYABhAGIAYwBkAGUAZgBnAGgAaQBqAGsAbABtAG4AbwBwAHEAcgBzAHQAdQB2AHcAeAB5AHoAewB8AH0AfgB/AIAAgQCCAIMAhACFAIYAhwCIAIkAigCLAIwAjQCOAI8AkACRAJIAkwCUAJUAlgCXAJgAmQCaAJsAnACdAJ4AnwCgAKEAogCjAKQApQCmAKcAqACpAKoAqwCsAK0ArgCvALAAsQCyALMAtAC1ALYAtwC4ALkAugC7ALwAvQC+AL8AwADBAMIAwwDEAMUAxgDHAMgAyQDKAMsAzADNAM4AzwDQANEA0gDTANQA1QDWANcA2ADZANoA2wDcAN0A3gDfAOAA4QDiAOMA5ADlAOYA5wDoAOkA6gDrAOwA7QDuAO8A8ADxAPIA8wD0APUA9gD3APgA+QD6APsA/AD9AP4A/wAAAQEBAgEDAQQBBQEGAQcBCAEJAQoBCwEMAQ0BDgEPARABEQESARMBFAEVARYBFwEYARkBGgEbARwBHQEeAR8BIAEhASIBIwEkASUBJgEnASgBKQEqASsBLAEtAS4BLwEwATEBMgEzATQBNQE2ATcBOAE5AToBOwE8AT0BPgE/AUABQQFCAUMBRAFFAUYBRwFIAUkBSgFLAUwBTQFOAU8BUAFRAVIBUwFUAVUBVgFXAVgBWQFaAVsBXAFdAV4BXwFgAWEBYgFjAWQBZQFmAWcBaAFpAWoBawFsAQ==",
          "dtype": "i2"
         },
         "xaxis": "x3",
         "y": {
          "bdata": "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",
          "dtype": "f8"
         },
         "yaxis": "y3"
        }
       ],
       "layout": {
        "annotations": [
         {
          "font": {
           "size": 12
          },
          "showarrow": false,
          "text": "Net Worth (Portfolio Value)",
          "x": 0.5,
          "xanchor": "center",
          "xref": "paper",
          "y": 1,
          "yanchor": "bottom",
          "yref": "paper"
         },
         {
          "font": {
           "size": 12
          },
          "showarrow": false,
          "text": "Performance",
          "x": 0.5,
          "xanchor": "center",
          "xref": "paper",
          "y": 0.406,
          "yanchor": "bottom",
          "yref": "paper"
         },
         {
          "font": {
           "size": 12
          },
          "showarrow": false,
          "text": "Price & Balances",
          "x": 0.5,
          "xanchor": "center",
          "xref": "paper",
          "y": 0.188,
          "yanchor": "bottom",
          "yref": "paper"
         },
         {
          "arrowcolor": "DarkGreen",
          "arrowhead": 2,
          "arrowsize": 0.8,
          "arrowwidth": 4,
          "ax": 0,
          "ay": 15,
          "hoverlabel": {
           "bgcolor": "DarkGreen"
          },
          "hovertext": "Step 364 [2025-09-22 00:00:00]<br>BUY 0.01672107 LINK @ 21.65 USDT MARKET<br>Total: 0.36201127 USDT - Comm.: 0.00108930 USDT",
          "opacity": 0.6,
          "showarrow": true,
          "x": 363,
          "xref": "x",
          "y": 26985.3522389375,
          "yref": "y"
         },
         {
          "arrowcolor": "DarkGreen",
          "arrowhead": 2,
          "arrowsize": 0.8,
          "arrowwidth": 4,
          "ax": 0,
          "ay": 15,
          "hoverlabel": {
           "bgcolor": "DarkGreen"
          },
          "hovertext": "Step 363 [2025-09-21 00:00:00]<br>BUY 0.0262784 LINK @ 22.96 USDT MARKET<br>Total: 0.60335212 USDT - Comm.: 0.00181550 USDT",
          "opacity": 0.6,
          "showarrow": true,
          "x": 362,
          "xref": "x",
          "y": 28618.131065054004,
          "yref": "y"
         },
         {
          "arrowcolor": "DarkGreen",
          "arrowhead": 2,
          "arrowsize": 0.8,
          "arrowwidth": 4,
          "ax": 0,
          "ay": 15,
          "hoverlabel": {
           "bgcolor": "DarkGreen"
          },
          "hovertext": "Step 362 [2025-09-20 00:00:00]<br>BUY 0.04308427 LINK @ 23.34 USDT MARKET<br>Total: 1.00558686 USDT - Comm.: 0.00302584 USDT",
          "opacity": 0.6,
          "showarrow": true,
          "x": 361,
          "xref": "x",
          "y": 29091.754077629204,
          "yref": "y"
         },
         {
          "arrowcolor": "DarkGreen",
          "arrowhead": 2,
          "arrowsize": 0.8,
          "arrowwidth": 4,
          "ax": 0,
          "ay": 15,
          "hoverlabel": {
           "bgcolor": "DarkGreen"
          },
          "hovertext": "Step 361 [2025-09-19 00:00:00]<br>BUY 0.07140938 LINK @ 23.47 USDT MARKET<br>Total: 1.6759781 USDT - Comm.: 0.00504306 USDT",
          "opacity": 0.6,
          "showarrow": true,
          "x": 360,
          "xref": "x",
          "y": 29253.781409884996,
          "yref": "y"
         },
         {
          "arrowcolor": "DarkGreen",
          "arrowhead": 2,
          "arrowsize": 0.8,
          "arrowwidth": 4,
          "ax": 0,
          "ay": 15,
          "hoverlabel": {
           "bgcolor": "DarkGreen"
          },
          "hovertext": "Step 360 [2025-09-18 00:00:00]<br>BUY 0.11345641 LINK @ 24.62 USDT MARKET<br>Total: 2.79329683 USDT - Comm.: 0.00840511 USDT",
          "opacity": 0.6,
          "showarrow": true,
          "x": 359,
          "xref": "x",
          "y": 30686.981791385802,
          "yref": "y"
         },
         {
          "arrowcolor": "DarkGreen",
          "arrowhead": 2,
          "arrowsize": 0.8,
          "arrowwidth": 4,
          "ax": 0,
          "ay": 15,
          "hoverlabel": {
           "bgcolor": "DarkGreen"
          },
          "hovertext": "Step 359 [2025-09-17 00:00:00]<br>BUY 0.1940598 LINK @ 23.99 USDT MARKET<br>Total: 4.65549472 USDT - Comm.: 0.01400851 USDT",
          "opacity": 0.6,
          "showarrow": true,
          "x": 358,
          "xref": "x",
          "y": 29901.927325277098,
          "yref": "y"
         },
         {
          "arrowcolor": "DarkGreen",
          "arrowhead": 2,
          "arrowsize": 0.8,
          "arrowwidth": 4,
          "ax": 0,
          "ay": 15,
          "hoverlabel": {
           "bgcolor": "DarkGreen"
          },
          "hovertext": "Step 358 [2025-09-16 00:00:00]<br>BUY 0.33045817 LINK @ 23.48 USDT MARKET<br>Total: 7.75915786 USDT - Comm.: 0.02334752 USDT",
          "opacity": 0.6,
          "showarrow": true,
          "x": 357,
          "xref": "x",
          "y": 29266.518020917603,
          "yref": "y"
         },
         {
          "arrowcolor": "DarkGreen",
          "arrowhead": 2,
          "arrowsize": 0.8,
          "arrowwidth": 4,
          "ax": 0,
          "ay": 15,
          "hoverlabel": {
           "bgcolor": "DarkGreen"
          },
          "hovertext": "Step 357 [2025-09-15 00:00:00]<br>BUY 0.54889345 LINK @ 23.56 USDT MARKET<br>Total: 12.93192977 USDT - Comm.: 0.03891253 USDT",
          "opacity": 0.6,
          "showarrow": true,
          "x": 356,
          "xref": "x",
          "y": 29366.206206985196,
          "yref": "y"
         },
         {
          "arrowcolor": "DarkGreen",
          "arrowhead": 2,
          "arrowsize": 0.8,
          "arrowwidth": 4,
          "ax": 0,
          "ay": 15,
          "hoverlabel": {
           "bgcolor": "DarkGreen"
          },
          "hovertext": "Step 356 [2025-09-14 00:00:00]<br>BUY 0.89469557 LINK @ 24.09 USDT MARKET<br>Total: 21.55321629 USDT - Comm.: 0.06485421 USDT",
          "opacity": 0.6,
          "showarrow": true,
          "x": 355,
          "xref": "x",
          "y": 30026.156584279,
          "yref": "y"
         },
         {
          "arrowcolor": "DarkGreen",
          "arrowhead": 2,
          "arrowsize": 0.8,
          "arrowwidth": 4,
          "ax": 0,
          "ay": 15,
          "hoverlabel": {
           "bgcolor": "DarkGreen"
          },
          "hovertext": "Step 355 [2025-09-13 00:00:00]<br>BUY 1.44381138 LINK @ 24.88 USDT MARKET<br>Total: 35.92202716 USDT - Comm.: 0.10809035 USDT",
          "opacity": 0.6,
          "showarrow": true,
          "x": 354,
          "xref": "x",
          "y": 31009.160814643597,
          "yref": "y"
         },
         {
          "arrowcolor": "DarkGreen",
          "arrowhead": 2,
          "arrowsize": 0.8,
          "arrowwidth": 4,
          "ax": 0,
          "ay": 15,
          "hoverlabel": {
           "bgcolor": "DarkGreen"
          },
          "hovertext": "Step 354 [2025-09-12 00:00:00]<br>BUY 2.38241326 LINK @ 25.13 USDT MARKET<br>Total: 59.87004525 USDT - Comm.: 0.18015059 USDT",
          "opacity": 0.6,
          "showarrow": true,
          "x": 353,
          "xref": "x",
          "y": 31320.0230946898,
          "yref": "y"
         },
         {
          "arrowcolor": "DarkGreen",
          "arrowhead": 2,
          "arrowsize": 0.8,
          "arrowwidth": 4,
          "ax": 0,
          "ay": 15,
          "hoverlabel": {
           "bgcolor": "DarkGreen"
          },
          "hovertext": "Step 353 [2025-09-11 00:00:00]<br>BUY 4.0777854 LINK @ 24.47 USDT MARKET<br>Total: 99.78340876 USDT - Comm.: 0.30025098 USDT",
          "opacity": 0.6,
          "showarrow": true,
          "x": 352,
          "xref": "x",
          "y": 30501.6949167482,
          "yref": "y"
         },
         {
          "arrowcolor": "DarkGreen",
          "arrowhead": 2,
          "arrowsize": 0.8,
          "arrowwidth": 4,
          "ax": 0,
          "ay": 15,
          "hoverlabel": {
           "bgcolor": "DarkGreen"
          },
          "hovertext": "Step 352 [2025-09-10 00:00:00]<br>BUY 7.05582016 LINK @ 23.57 USDT MARKET<br>Total: 166.30568126 USDT - Comm.: 0.50041830 USDT",
          "opacity": 0.6,
          "showarrow": true,
          "x": 351,
          "xref": "x",
          "y": 29389.553847983,
          "yref": "y"
         },
         {
          "arrowcolor": "DarkGreen",
          "arrowhead": 2,
          "arrowsize": 0.8,
          "arrowwidth": 4,
          "ax": 0,
          "ay": 15,
          "hoverlabel": {
           "bgcolor": "DarkGreen"
          },
          "hovertext": "Step 351 [2025-09-09 00:00:00]<br>BUY 12.02499503 LINK @ 23.05 USDT MARKET<br>Total: 277.17613544 USDT - Comm.: 0.83403050 USDT",
          "opacity": 0.6,
          "showarrow": true,
          "x": 350,
          "xref": "x",
          "y": 28751.1973790535,
          "yref": "y"
         },
         {
          "arrowcolor": "DarkGreen",
          "arrowhead": 2,
          "arrowsize": 0.8,
          "arrowwidth": 4,
          "ax": 0,
          "ay": 15,
          "hoverlabel": {
           "bgcolor": "DarkGreen"
          },
          "hovertext": "Step 350 [2025-09-08 00:00:00]<br>BUY 20.05035702 LINK @ 23.04 USDT MARKET<br>Total: 461.96022574 USDT - Comm.: 1.39005083 USDT",
          "opacity": 0.6,
          "showarrow": true,
          "x": 349,
          "xref": "x",
          "y": 28740.415554843996,
          "yref": "y"
         },
         {
          "arrowcolor": "DarkGreen",
          "arrowhead": 2,
          "arrowsize": 0.8,
          "arrowwidth": 4,
          "ax": 0,
          "ay": 15,
          "hoverlabel": {
           "bgcolor": "DarkGreen"
          },
          "hovertext": "Step 349 [2025-09-07 00:00:00]<br>BUY 34.2649626 LINK @ 22.47 USDT MARKET<br>Total: 769.93370956 USDT - Comm.: 2.31675138 USDT",
          "opacity": 0.6,
          "showarrow": true,
          "x": 348,
          "xref": "x",
          "y": 28060.364132457496,
          "yref": "y"
         },
         {
          "arrowcolor": "DarkGreen",
          "arrowhead": 2,
          "arrowsize": 0.8,
          "arrowwidth": 4,
          "ax": 0,
          "ay": 15,
          "hoverlabel": {
           "bgcolor": "DarkGreen"
          },
          "hovertext": "Step 348 [2025-09-06 00:00:00]<br>BUY 57.82888009 LINK @ 22.19 USDT MARKET<br>Total: 1283.22284927 USDT - Comm.: 3.86125230 USDT",
          "opacity": 0.6,
          "showarrow": true,
          "x": 347,
          "xref": "x",
          "y": 27738.6211732404,
          "yref": "y"
         },
         {
          "arrowcolor": "DarkGreen",
          "arrowhead": 2,
          "arrowsize": 0.8,
          "arrowwidth": 4,
          "ax": 0,
          "ay": 15,
          "hoverlabel": {
           "bgcolor": "DarkGreen"
          },
          "hovertext": "Step 347 [2025-09-05 00:00:00]<br>BUY 95.99213415 LINK @ 22.28 USDT MARKET<br>Total: 2138.70474878 USDT - Comm.: 6.43542051 USDT",
          "opacity": 0.6,
          "showarrow": true,
          "x": 346,
          "xref": "x",
          "y": 27844.510491042798,
          "yref": "y"
         },
         {
          "arrowcolor": "FireBrick",
          "arrowhead": 2,
          "arrowsize": 0.8,
          "arrowwidth": 4,
          "ax": 0,
          "ay": -15,
          "hoverlabel": {
           "bgcolor": "FireBrick"
          },
          "hovertext": "Step 346 [2025-09-04 00:00:00]<br>SELL 111.78044628 LINK @ 22.32 USDT MARKET<br>Total: 2494.93956097 USDT - Comm.: 0.33635039 LINK",
          "opacity": 0.6,
          "showarrow": true,
          "x": 345,
          "xref": "x",
          "y": 27892.3798785476,
          "yref": "y"
         },
         {
          "arrowcolor": "DarkGreen",
          "arrowhead": 2,
          "arrowsize": 0.8,
          "arrowwidth": 4,
          "ax": 0,
          "ay": 15,
          "hoverlabel": {
           "bgcolor": "DarkGreen"
          },
          "hovertext": "Step 345 [2025-09-03 00:00:00]<br>BUY 80.46453158 LINK @ 23.69 USDT MARKET<br>Total: 1906.20475311 USDT - Comm.: 5.73582172 USDT",
          "opacity": 0.6,
          "showarrow": true,
          "x": 344,
          "xref": "x",
          "y": 29434.115814599,
          "yref": "y"
         },
         {
          "arrowcolor": "FireBrick",
          "arrowhead": 2,
          "arrowsize": 0.8,
          "arrowwidth": 4,
          "ax": 0,
          "ay": -15,
          "hoverlabel": {
           "bgcolor": "FireBrick"
          },
          "hovertext": "Step 344 [2025-09-02 00:00:00]<br>SELL 115.28681386 LINK @ 23.49 USDT MARKET<br>Total: 2708.08725757 USDT - Comm.: 0.34690115 LINK",
          "opacity": 0.6,
          "showarrow": true,
          "x": 343,
          "xref": "x",
          "y": 29234.1238355939,
          "yref": "y"
         },
         {
          "arrowcolor": "DarkGreen",
          "arrowhead": 2,
          "arrowsize": 0.8,
          "arrowwidth": 4,
          "ax": 0,
          "ay": 15,
          "hoverlabel": {
           "bgcolor": "DarkGreen"
          },
          "hovertext": "Step 343 [2025-09-01 00:00:00]<br>BUY 61.17425994 LINK @ 22.51 USDT MARKET<br>Total: 1377.03259131 USDT - Comm.: 4.14352836 USDT",
          "opacity": 0.6,
          "showarrow": true,
          "x": 342,
          "xref": "x",
          "y": 28105.0569569067,
          "yref": "y"
         },
         {
          "arrowcolor": "FireBrick",
          "arrowhead": 2,
          "arrowsize": 0.8,
          "arrowwidth": 4,
          "ax": 0,
          "ay": -15,
          "hoverlabel": {
           "bgcolor": "FireBrick"
          },
          "hovertext": "Step 342 [2025-08-31 00:00:00]<br>SELL 121.31971128 LINK @ 23.2 USDT MARKET<br>Total: 2814.6173017 USDT - Comm.: 0.36505430 LINK",
          "opacity": 0.6,
          "showarrow": true,
          "x": 341,
          "xref": "x",
          "y": 28869.188610880003,
          "yref": "y"
         },
         {
          "arrowcolor": "DarkGreen",
          "arrowhead": 2,
          "arrowsize": 0.8,
          "arrowwidth": 4,
          "ax": 0,
          "ay": 15,
          "hoverlabel": {
           "bgcolor": "DarkGreen"
          },
          "hovertext": "Step 341 [2025-08-30 00:00:00]<br>BUY 18.04644913 LINK @ 23.51 USDT MARKET<br>Total: 424.272019 USDT - Comm.: 1.27664599 USDT",
          "opacity": 0.6,
          "showarrow": true,
          "x": 340,
          "xref": "x",
          "y": 29247.688030106197,
          "yref": "y"
         },
         {
          "arrowcolor": "DarkGreen",
          "arrowhead": 2,
          "arrowsize": 0.8,
          "arrowwidth": 4,
          "ax": 0,
          "ay": 15,
          "hoverlabel": {
           "bgcolor": "DarkGreen"
          },
          "hovertext": "Step 340 [2025-08-29 00:00:00]<br>BUY 30.18011232 LINK @ 23.43 USDT MARKET<br>Total: 707.12003166 USDT - Comm.: 2.12774332 USDT",
          "opacity": 0.6,
          "showarrow": true,
          "x": 339,
          "xref": "x",
          "y": 29153.911676899002,
          "yref": "y"
         },
         {
          "arrowcolor": "DarkGreen",
          "arrowhead": 2,
          "arrowsize": 0.8,
          "arrowwidth": 4,
          "ax": 0,
          "ay": 15,
          "hoverlabel": {
           "bgcolor": "DarkGreen"
          },
          "hovertext": "Step 339 [2025-08-28 00:00:00]<br>BUY 46.80434417 LINK @ 25.18 USDT MARKET<br>Total: 1178.53338609 USDT - Comm.: 3.54623887 USDT",
          "opacity": 0.6,
          "showarrow": true,
          "x": 338,
          "xref": "x",
          "y": 31202.544830683397,
          "yref": "y"
         },
         {
          "arrowcolor": "FireBrick",
          "arrowhead": 2,
          "arrowsize": 0.8,
          "arrowwidth": 4,
          "ax": 0,
          "ay": -15,
          "hoverlabel": {
           "bgcolor": "FireBrick"
          },
          "hovertext": "Step 338 [2025-08-27 00:00:00]<br>SELL 124.27236665 LINK @ 23.78 USDT MARKET<br>Total: 2955.19687894 USDT - Comm.: 0.37393892 LINK",
          "opacity": 0.6,
          "showarrow": true,
          "x": 337,
          "xref": "x",
          "y": 29640.893648016,
          "yref": "y"
         },
         {
          "arrowcolor": "DarkGreen",
          "arrowhead": 2,
          "arrowsize": 0.8,
          "arrowwidth": 4,
          "ax": 0,
          "ay": 15,
          "hoverlabel": {
           "bgcolor": "DarkGreen"
          },
          "hovertext": "Step 337 [2025-08-26 00:00:00]<br>BUY 5.953e-05 LINK @ 24.38 USDT MARKET<br>Total: 0.00145128 USDT - Comm.: 0.00000437 USDT",
          "opacity": 0.6,
          "showarrow": true,
          "x": 336,
          "xref": "x",
          "y": 30388.7714857446,
          "yref": "y"
         },
         {
          "arrowcolor": "DarkGreen",
          "arrowhead": 2,
          "arrowsize": 0.8,
          "arrowwidth": 4,
          "ax": 0,
          "ay": 15,
          "hoverlabel": {
           "bgcolor": "DarkGreen"
          },
          "hovertext": "Step 336 [2025-08-25 00:00:00]<br>BUY 1.724e-05 LINK @ 23.38 USDT MARKET<br>Total: 0.00040314 USDT - Comm.: 0.00000121 USDT",
          "opacity": 0.6,
          "showarrow": true,
          "x": 335,
          "xref": "x",
          "y": 29142.308490853397,
          "yref": "y"
         },
         {
          "arrowcolor": "DarkGreen",
          "arrowhead": 2,
          "arrowsize": 0.8,
          "arrowwidth": 4,
          "ax": 0,
          "ay": 15,
          "hoverlabel": {
           "bgcolor": "DarkGreen"
          },
          "hovertext": "Step 335 [2025-08-24 00:00:00]<br>BUY 0.00010409 LINK @ 25.82 USDT MARKET<br>Total: 0.00268755 USDT - Comm.: 0.00000809 USDT",
          "opacity": 0.6,
          "showarrow": true,
          "x": 334,
          "xref": "x",
          "y": 32183.6781674788,
          "yref": "y"
         },
         {
          "arrowcolor": "DarkGreen",
          "arrowhead": 2,
          "arrowsize": 0.8,
          "arrowwidth": 4,
          "ax": 0,
          "ay": 15,
          "hoverlabel": {
           "bgcolor": "DarkGreen"
          },
          "hovertext": "Step 334 [2025-08-23 00:00:00]<br>BUY 2.841e-05 LINK @ 26.28 USDT MARKET<br>Total: 0.00074654 USDT - Comm.: 0.00000225 USDT",
          "opacity": 0.6,
          "showarrow": true,
          "x": 333,
          "xref": "x",
          "y": 32757.051092080397,
          "yref": "y"
         },
         {
          "arrowcolor": "DarkGreen",
          "arrowhead": 2,
          "arrowsize": 0.8,
          "arrowwidth": 4,
          "ax": 0,
          "ay": 15,
          "hoverlabel": {
           "bgcolor": "DarkGreen"
          },
          "hovertext": "Step 333 [2025-08-22 00:00:00]<br>BUY 0.00018578 LINK @ 26.79 USDT MARKET<br>Total: 0.00497695 USDT - Comm.: 0.00001498 USDT",
          "opacity": 0.6,
          "showarrow": true,
          "x": 332,
          "xref": "x",
          "y": 33392.747158643506,
          "yref": "y"
         },
         {
          "arrowcolor": "DarkGreen",
          "arrowhead": 2,
          "arrowsize": 0.8,
          "arrowwidth": 4,
          "ax": 0,
          "ay": 15,
          "hoverlabel": {
           "bgcolor": "DarkGreen"
          },
          "hovertext": "Step 332 [2025-08-21 00:00:00]<br>BUY 0.0003342 LINK @ 24.82 USDT MARKET<br>Total: 0.00829492 USDT - Comm.: 0.00002496 USDT",
          "opacity": 0.6,
          "showarrow": true,
          "x": 331,
          "xref": "x",
          "y": 30937.215742199,
          "yref": "y"
         },
         {
          "arrowcolor": "DarkGreen",
          "arrowhead": 2,
          "arrowsize": 0.8,
          "arrowwidth": 4,
          "ax": 0,
          "ay": 15,
          "hoverlabel": {
           "bgcolor": "DarkGreen"
          },
          "hovertext": "Step 331 [2025-08-20 00:00:00]<br>BUY 0.00052268 LINK @ 26.45 USDT MARKET<br>Total: 0.01382487 USDT - Comm.: 0.00004160 USDT",
          "opacity": 0.6,
          "showarrow": true,
          "x": 330,
          "xref": "x",
          "y": 32968.949375896496,
          "yref": "y"
         },
         {
          "arrowcolor": "DarkGreen",
          "arrowhead": 2,
          "arrowsize": 0.8,
          "arrowwidth": 4,
          "ax": 0,
          "ay": 15,
          "hoverlabel": {
           "bgcolor": "DarkGreen"
          },
          "hovertext": "Step 330 [2025-08-19 00:00:00]<br>BUY 0.00097799 LINK @ 23.56 USDT MARKET<br>Total: 0.02304145 USDT - Comm.: 0.00006933 USDT",
          "opacity": 0.6,
          "showarrow": true,
          "x": 329,
          "xref": "x",
          "y": 29366.674832336797,
          "yref": "y"
         },
         {
          "arrowcolor": "DarkGreen",
          "arrowhead": 2,
          "arrowsize": 0.8,
          "arrowwidth": 4,
          "ax": 0,
          "ay": 15,
          "hoverlabel": {
           "bgcolor": "DarkGreen"
          },
          "hovertext": "Step 329 [2025-08-18 00:00:00]<br>BUY 0.00148962 LINK @ 25.78 USDT MARKET<br>Total: 0.03840242 USDT - Comm.: 0.00011555 USDT",
          "opacity": 0.6,
          "showarrow": true,
          "x": 328,
          "xref": "x",
          "y": 32133.8179811348,
          "yref": "y"
         },
         {
          "arrowcolor": "DarkGreen",
          "arrowhead": 2,
          "arrowsize": 0.8,
          "arrowwidth": 4,
          "ax": 0,
          "ay": 15,
          "hoverlabel": {
           "bgcolor": "DarkGreen"
          },
          "hovertext": "Step 328 [2025-08-17 00:00:00]<br>BUY 0.00249626 LINK @ 25.64 USDT MARKET<br>Total: 0.06400403 USDT - Comm.: 0.00019259 USDT",
          "opacity": 0.6,
          "showarrow": true,
          "x": 327,
          "xref": "x",
          "y": 31959.313866586,
          "yref": "y"
         },
         {
          "arrowcolor": "DarkGreen",
          "arrowhead": 2,
          "arrowsize": 0.8,
          "arrowwidth": 4,
          "ax": 0,
          "ay": 15,
          "hoverlabel": {
           "bgcolor": "DarkGreen"
          },
          "hovertext": "Step 327 [2025-08-16 00:00:00]<br>BUY 0.00471172 LINK @ 22.64 USDT MARKET<br>Total: 0.10667339 USDT - Comm.: 0.00032098 USDT",
          "opacity": 0.6,
          "showarrow": true,
          "x": 326,
          "xref": "x",
          "y": 28219.943667915202,
          "yref": "y"
         },
         {
          "arrowcolor": "DarkGreen",
          "arrowhead": 2,
          "arrowsize": 0.8,
          "arrowwidth": 4,
          "ax": 0,
          "ay": 15,
          "hoverlabel": {
           "bgcolor": "DarkGreen"
          },
          "hovertext": "Step 326 [2025-08-15 00:00:00]<br>BUY 0.00817045 LINK @ 21.76 USDT MARKET<br>Total: 0.17778897 USDT - Comm.: 0.00053497 USDT",
          "opacity": 0.6,
          "showarrow": true,
          "x": 325,
          "xref": "x",
          "y": 27123.0663300648,
          "yref": "y"
         },
         {
          "arrowcolor": "DarkGreen",
          "arrowhead": 2,
          "arrowsize": 0.8,
          "arrowwidth": 4,
          "ax": 0,
          "ay": 15,
          "hoverlabel": {
           "bgcolor": "DarkGreen"
          },
          "hovertext": "Step 325 [2025-08-14 00:00:00]<br>BUY 0.01319301 LINK @ 22.46 USDT MARKET<br>Total: 0.29631495 USDT - Comm.: 0.00089162 USDT",
          "opacity": 0.6,
          "showarrow": true,
          "x": 324,
          "xref": "x",
          "y": 27995.577992041202,
          "yref": "y"
         },
         {
          "arrowcolor": "DarkGreen",
          "arrowhead": 2,
          "arrowsize": 0.8,
          "arrowwidth": 4,
          "ax": 0,
          "ay": 15,
          "hoverlabel": {
           "bgcolor": "DarkGreen"
          },
          "hovertext": "Step 324 [2025-08-13 00:00:00]<br>BUY 0.02059459 LINK @ 23.98 USDT MARKET<br>Total: 0.49385826 USDT - Comm.: 0.00148603 USDT",
          "opacity": 0.6,
          "showarrow": true,
          "x": 323,
          "xref": "x",
          "y": 29890.1542404374,
          "yref": "y"
         },
         {
          "arrowcolor": "DarkGreen",
          "arrowhead": 2,
          "arrowsize": 0.8,
          "arrowwidth": 4,
          "ax": 0,
          "ay": 15,
          "hoverlabel": {
           "bgcolor": "DarkGreen"
          },
          "hovertext": "Step 323 [2025-08-12 00:00:00]<br>BUY 0.034877 LINK @ 23.6 USDT MARKET<br>Total: 0.82309709 USDT - Comm.: 0.00247672 USDT",
          "opacity": 0.6,
          "showarrow": true,
          "x": 322,
          "xref": "x",
          "y": 29416.520852398004,
          "yref": "y"
         },
         {
          "arrowcolor": "DarkGreen",
          "arrowhead": 2,
          "arrowsize": 0.8,
          "arrowwidth": 4,
          "ax": 0,
          "ay": 15,
          "hoverlabel": {
           "bgcolor": "DarkGreen"
          },
          "hovertext": "Step 322 [2025-08-11 00:00:00]<br>BUY 0.06510814 LINK @ 21.07 USDT MARKET<br>Total: 1.37182849 USDT - Comm.: 0.00412787 USDT",
          "opacity": 0.6,
          "showarrow": true,
          "x": 321,
          "xref": "x",
          "y": 26263.1954886293,
          "yref": "y"
         },
         {
          "arrowcolor": "DarkGreen",
          "arrowhead": 2,
          "arrowsize": 0.8,
          "arrowwidth": 4,
          "ax": 0,
          "ay": 15,
          "hoverlabel": {
           "bgcolor": "DarkGreen"
          },
          "hovertext": "Step 321 [2025-08-10 00:00:00]<br>BUY 0.10364374 LINK @ 22.06 USDT MARKET<br>Total: 2.28638081 USDT - Comm.: 0.00687978 USDT",
          "opacity": 0.6,
          "showarrow": true,
          "x": 320,
          "xref": "x",
          "y": 27497.049451455,
          "yref": "y"
         },
         {
          "arrowcolor": "DarkGreen",
          "arrowhead": 2,
          "arrowsize": 0.8,
          "arrowwidth": 4,
          "ax": 0,
          "ay": 15,
          "hoverlabel": {
           "bgcolor": "DarkGreen"
          },
          "hovertext": "Step 320 [2025-08-09 00:00:00]<br>BUY 0.17368435 LINK @ 21.94 USDT MARKET<br>Total: 3.81063469 USDT - Comm.: 0.01146630 USDT",
          "opacity": 0.6,
          "showarrow": true,
          "x": 319,
          "xref": "x",
          "y": 27347.516132856003,
          "yref": "y"
         },
         {
          "arrowcolor": "DarkGreen",
          "arrowhead": 2,
          "arrowsize": 0.8,
          "arrowwidth": 4,
          "ax": 0,
          "ay": 15,
          "hoverlabel": {
           "bgcolor": "DarkGreen"
          },
          "hovertext": "Step 319 [2025-08-08 00:00:00]<br>BUY 0.31930909 LINK @ 19.89 USDT MARKET<br>Total: 6.35105782 USDT - Comm.: 0.01911050 USDT",
          "opacity": 0.6,
          "showarrow": true,
          "x": 318,
          "xref": "x",
          "y": 24793.1678867309,
          "yref": "y"
         },
         {
          "arrowcolor": "DarkGreen",
          "arrowhead": 2,
          "arrowsize": 0.8,
          "arrowwidth": 4,
          "ax": 0,
          "ay": 15,
          "hoverlabel": {
           "bgcolor": "DarkGreen"
          },
          "hovertext": "Step 318 [2025-08-07 00:00:00]<br>BUY 0.5727866 LINK @ 18.48 USDT MARKET<br>Total: 10.58509635 USDT - Comm.: 0.03185084 USDT",
          "opacity": 0.6,
          "showarrow": true,
          "x": 317,
          "xref": "x",
          "y": 23036.7436351408,
          "yref": "y"
         },
         {
          "arrowcolor": "DarkGreen",
          "arrowhead": 2,
          "arrowsize": 0.8,
          "arrowwidth": 4,
          "ax": 0,
          "ay": 15,
          "hoverlabel": {
           "bgcolor": "DarkGreen"
          },
          "hovertext": "Step 317 [2025-08-06 00:00:00]<br>BUY 1.05829797 LINK @ 16.67 USDT MARKET<br>Total: 17.64182724 USDT - Comm.: 0.05308474 USDT",
          "opacity": 0.6,
          "showarrow": true,
          "x": 316,
          "xref": "x",
          "y": 20783.091942170802,
          "yref": "y"
         },
         {
          "arrowcolor": "DarkGreen",
          "arrowhead": 2,
          "arrowsize": 0.8,
          "arrowwidth": 4,
          "ax": 0,
          "ay": 15,
          "hoverlabel": {
           "bgcolor": "DarkGreen"
          },
          "hovertext": "Step 316 [2025-08-05 00:00:00]<br>BUY 1.79505772 LINK @ 16.38 USDT MARKET<br>Total: 29.40304541 USDT - Comm.: 0.08847456 USDT",
          "opacity": 0.6,
          "showarrow": true,
          "x": 315,
          "xref": "x",
          "y": 20422.396502347598,
          "yref": "y"
         },
         {
          "arrowcolor": "DarkGreen",
          "arrowhead": 2,
          "arrowsize": 0.8,
          "arrowwidth": 4,
          "ax": 0,
          "ay": 15,
          "hoverlabel": {
           "bgcolor": "DarkGreen"
          },
          "hovertext": "Step 315 [2025-08-04 00:00:00]<br>BUY 2.86411898 LINK @ 17.11 USDT MARKET<br>Total: 49.00507568 USDT - Comm.: 0.14745760 USDT",
          "opacity": 0.6,
          "showarrow": true,
          "x": 314,
          "xref": "x",
          "y": 21329.413765909398,
          "yref": "y"
         },
         {
          "arrowcolor": "DarkGreen",
          "arrowhead": 2,
          "arrowsize": 0.8,
          "arrowwidth": 4,
          "ax": 0,
          "ay": 15,
          "hoverlabel": {
           "bgcolor": "DarkGreen"
          },
          "hovertext": "Step 314 [2025-08-03 00:00:00]<br>BUY 5.01074393 LINK @ 16.3 USDT MARKET<br>Total: 81.67512613 USDT - Comm.: 0.24576267 USDT",
          "opacity": 0.6,
          "showarrow": true,
          "x": 313,
          "xref": "x",
          "y": 20325.726666553,
          "yref": "y"
         },
         {
          "arrowcolor": "DarkGreen",
          "arrowhead": 2,
          "arrowsize": 0.8,
          "arrowwidth": 4,
          "ax": 0,
          "ay": 15,
          "hoverlabel": {
           "bgcolor": "DarkGreen"
          },
          "hovertext": "Step 313 [2025-08-02 00:00:00]<br>BUY 8.6980965 LINK @ 15.65 USDT MARKET<br>Total: 136.12521023 USDT - Comm.: 0.40960444 USDT",
          "opacity": 0.6,
          "showarrow": true,
          "x": 312,
          "xref": "x",
          "y": 19523.7681183015,
          "yref": "y"
         },
         {
          "arrowcolor": "DarkGreen",
          "arrowhead": 2,
          "arrowsize": 0.8,
          "arrowwidth": 4,
          "ax": 0,
          "ay": 15,
          "hoverlabel": {
           "bgcolor": "DarkGreen"
          },
          "hovertext": "Step 312 [2025-08-01 00:00:00]<br>BUY 14.1179434 LINK @ 16.07 USDT MARKET<br>Total: 226.87535039 USDT - Comm.: 0.68267407 USDT",
          "opacity": 0.6,
          "showarrow": true,
          "x": 311,
          "xref": "x",
          "y": 20039.250859689702,
          "yref": "y"
         },
         {
          "arrowcolor": "DarkGreen",
          "arrowhead": 2,
          "arrowsize": 0.8,
          "arrowwidth": 4,
          "ax": 0,
          "ay": 15,
          "hoverlabel": {
           "bgcolor": "DarkGreen"
          },
          "hovertext": "Step 311 [2025-07-31 00:00:00]<br>BUY 22.34784775 LINK @ 16.92 USDT MARKET<br>Total: 378.12558398 USDT - Comm.: 1.13779012 USDT",
          "opacity": 0.6,
          "showarrow": true,
          "x": 310,
          "xref": "x",
          "y": 21070.245677163202,
          "yref": "y"
         },
         {
          "arrowcolor": "DarkGreen",
          "arrowhead": 2,
          "arrowsize": 0.8,
          "arrowwidth": 4,
          "ax": 0,
          "ay": 15,
          "hoverlabel": {
           "bgcolor": "DarkGreen"
          },
          "hovertext": "Step 310 [2025-07-30 00:00:00]<br>BUY 35.58494109 LINK @ 17.71 USDT MARKET<br>Total: 630.20930663 USDT - Comm.: 1.89631687 USDT",
          "opacity": 0.6,
          "showarrow": true,
          "x": 309,
          "xref": "x",
          "y": 22011.648431377704,
          "yref": "y"
         },
         {
          "arrowcolor": "DarkGreen",
          "arrowhead": 2,
          "arrowsize": 0.8,
          "arrowwidth": 4,
          "ax": 0,
          "ay": 15,
          "hoverlabel": {
           "bgcolor": "DarkGreen"
          },
          "hovertext": "Step 309 [2025-07-29 00:00:00]<br>BUY 58.90907708 LINK @ 17.83 USDT MARKET<br>Total: 1050.34884438 USDT - Comm.: 3.16052812 USDT",
          "opacity": 0.6,
          "showarrow": true,
          "x": 308,
          "xref": "x",
          "y": 22153.248605205696,
          "yref": "y"
         },
         {
          "arrowcolor": "DarkGreen",
          "arrowhead": 2,
          "arrowsize": 0.8,
          "arrowwidth": 4,
          "ax": 0,
          "ay": 15,
          "hoverlabel": {
           "bgcolor": "DarkGreen"
          },
          "hovertext": "Step 308 [2025-07-28 00:00:00]<br>BUY 96.61045294 LINK @ 18.12 USDT MARKET<br>Total: 1750.5814073 USDT - Comm.: 5.26754686 USDT",
          "opacity": 0.6,
          "showarrow": true,
          "x": 307,
          "xref": "x",
          "y": 22475.994996761998,
          "yref": "y"
         },
         {
          "arrowcolor": "FireBrick",
          "arrowhead": 2,
          "arrowsize": 0.8,
          "arrowwidth": 4,
          "ax": 0,
          "ay": -15,
          "hoverlabel": {
           "bgcolor": "FireBrick"
          },
          "hovertext": "Step 307 [2025-07-27 00:00:00]<br>SELL 110.57219459 LINK @ 19.24 USDT MARKET<br>Total: 2127.40902391 USDT - Comm.: 0.33271473 LINK",
          "opacity": 0.6,
          "showarrow": true,
          "x": 306,
          "xref": "x",
          "y": 23600.317914080802,
          "yref": "y"
         },
         {
          "arrowcolor": "FireBrick",
          "arrowhead": 2,
          "arrowsize": 0.8,
          "arrowwidth": 4,
          "ax": 0,
          "ay": -15,
          "hoverlabel": {
           "bgcolor": "FireBrick"
          },
          "hovertext": "Step 306 [2025-07-26 00:00:00]<br>SELL 122.85799399 LINK @ 18.41 USDT MARKET<br>Total: 2261.81566936 USDT - Comm.: 0.36968303 LINK",
          "opacity": 0.6,
          "showarrow": true,
          "x": 305,
          "xref": "x",
          "y": 22686.613031327903,
          "yref": "y"
         },
         {
          "arrowcolor": "DarkGreen",
          "arrowhead": 2,
          "arrowsize": 0.8,
          "arrowwidth": 4,
          "ax": 0,
          "ay": 15,
          "hoverlabel": {
           "bgcolor": "DarkGreen"
          },
          "hovertext": "Step 305 [2025-07-25 00:00:00]<br>BUY 0.01446021 LINK @ 18.28 USDT MARKET<br>Total: 0.26433271 USDT - Comm.: 0.00079538 USDT",
          "opacity": 0.6,
          "showarrow": true,
          "x": 304,
          "xref": "x",
          "y": 22526.417846654404,
          "yref": "y"
         },
         {
          "arrowcolor": "DarkGreen",
          "arrowhead": 2,
          "arrowsize": 0.8,
          "arrowwidth": 4,
          "ax": 0,
          "ay": 15,
          "hoverlabel": {
           "bgcolor": "DarkGreen"
          },
          "hovertext": "Step 304 [2025-07-24 00:00:00]<br>BUY 0.02459824 LINK @ 17.91 USDT MARKET<br>Total: 0.4405545 USDT - Comm.: 0.00132564 USDT",
          "opacity": 0.6,
          "showarrow": true,
          "x": 303,
          "xref": "x",
          "y": 22070.482117623396,
          "yref": "y"
         },
         {
          "arrowcolor": "DarkGreen",
          "arrowhead": 2,
          "arrowsize": 0.8,
          "arrowwidth": 4,
          "ax": 0,
          "ay": 15,
          "hoverlabel": {
           "bgcolor": "DarkGreen"
          },
          "hovertext": "Step 303 [2025-07-23 00:00:00]<br>BUY 0.0403882 LINK @ 18.18 USDT MARKET<br>Total: 0.73425751 USDT - Comm.: 0.00220940 USDT",
          "opacity": 0.6,
          "showarrow": true,
          "x": 302,
          "xref": "x",
          "y": 22403.1885092272,
          "yref": "y"
         },
         {
          "arrowcolor": "DarkGreen",
          "arrowhead": 2,
          "arrowsize": 0.8,
          "arrowwidth": 4,
          "ax": 0,
          "ay": 15,
          "hoverlabel": {
           "bgcolor": "DarkGreen"
          },
          "hovertext": "Step 302 [2025-07-22 00:00:00]<br>BUY 0.06224631 LINK @ 19.66 USDT MARKET<br>Total: 1.22376252 USDT - Comm.: 0.00368233 USDT",
          "opacity": 0.6,
          "showarrow": true,
          "x": 301,
          "xref": "x",
          "y": 24226.8442304618,
          "yref": "y"
         },
         {
          "arrowcolor": "DarkGreen",
          "arrowhead": 2,
          "arrowsize": 0.8,
          "arrowwidth": 4,
          "ax": 0,
          "ay": 15,
          "hoverlabel": {
           "bgcolor": "DarkGreen"
          },
          "hovertext": "Step 301 [2025-07-21 00:00:00]<br>BUY 0.10459509 LINK @ 19.5 USDT MARKET<br>Total: 2.03960419 USDT - Comm.: 0.00613722 USDT",
          "opacity": 0.6,
          "showarrow": true,
          "x": 300,
          "xref": "x",
          "y": 24029.70875526,
          "yref": "y"
         },
         {
          "arrowcolor": "DarkGreen",
          "arrowhead": 2,
          "arrowsize": 0.8,
          "arrowwidth": 4,
          "ax": 0,
          "ay": 15,
          "hoverlabel": {
           "bgcolor": "DarkGreen"
          },
          "hovertext": "Step 300 [2025-07-20 00:00:00]<br>BUY 0.17640583 LINK @ 19.27 USDT MARKET<br>Total: 3.39934031 USDT - Comm.: 0.01022871 USDT",
          "opacity": 0.6,
          "showarrow": true,
          "x": 299,
          "xref": "x",
          "y": 23746.3519730437,
          "yref": "y"
         },
         {
          "arrowcolor": "DarkGreen",
          "arrowhead": 2,
          "arrowsize": 0.8,
          "arrowwidth": 4,
          "ax": 0,
          "ay": 15,
          "hoverlabel": {
           "bgcolor": "DarkGreen"
          },
          "hovertext": "Step 299 [2025-07-19 00:00:00]<br>BUY 0.30807869 LINK @ 18.39 USDT MARKET<br>Total: 5.66556719 USDT - Comm.: 0.01704785 USDT",
          "opacity": 0.6,
          "showarrow": true,
          "x": 298,
          "xref": "x",
          "y": 22662.3374338218,
          "yref": "y"
         },
         {
          "arrowcolor": "DarkGreen",
          "arrowhead": 2,
          "arrowsize": 0.8,
          "arrowwidth": 4,
          "ax": 0,
          "ay": 15,
          "hoverlabel": {
           "bgcolor": "DarkGreen"
          },
          "hovertext": "Step 298 [2025-07-18 00:00:00]<br>BUY 0.52959125 LINK @ 17.83 USDT MARKET<br>Total: 9.44261198 USDT - Comm.: 0.02841308 USDT",
          "opacity": 0.6,
          "showarrow": true,
          "x": 297,
          "xref": "x",
          "y": 21972.700088227095,
          "yref": "y"
         },
         {
          "arrowcolor": "DarkGreen",
          "arrowhead": 2,
          "arrowsize": 0.8,
          "arrowwidth": 4,
          "ax": 0,
          "ay": 15,
          "hoverlabel": {
           "bgcolor": "DarkGreen"
          },
          "hovertext": "Step 297 [2025-07-17 00:00:00]<br>BUY 0.87431592 LINK @ 18.0 USDT MARKET<br>Total: 15.73768663 USDT - Comm.: 0.04735513 USDT",
          "opacity": 0.6,
          "showarrow": true,
          "x": 296,
          "xref": "x",
          "y": 22182.020232510004,
          "yref": "y"
         },
         {
          "arrowcolor": "DarkGreen",
          "arrowhead": 2,
          "arrowsize": 0.8,
          "arrowwidth": 4,
          "ax": 0,
          "ay": 15,
          "hoverlabel": {
           "bgcolor": "DarkGreen"
          },
          "hovertext": "Step 296 [2025-07-16 00:00:00]<br>BUY 1.57345397 LINK @ 16.67 USDT MARKET<br>Total: 26.22947773 USDT - Comm.: 0.07892521 USDT",
          "opacity": 0.6,
          "showarrow": true,
          "x": 295,
          "xref": "x",
          "y": 20546.0101774716,
          "yref": "y"
         },
         {
          "arrowcolor": "DarkGreen",
          "arrowhead": 2,
          "arrowsize": 0.8,
          "arrowwidth": 4,
          "ax": 0,
          "ay": 15,
          "hoverlabel": {
           "bgcolor": "DarkGreen"
          },
          "hovertext": "Step 295 [2025-07-15 00:00:00]<br>BUY 2.71358139 LINK @ 16.11 USDT MARKET<br>Total: 43.71579622 USDT - Comm.: 0.13154201 USDT",
          "opacity": 0.6,
          "showarrow": true,
          "x": 294,
          "xref": "x",
          "y": 19858.1432830799,
          "yref": "y"
         },
         {
          "arrowcolor": "DarkGreen",
          "arrowhead": 2,
          "arrowsize": 0.8,
          "arrowwidth": 4,
          "ax": 0,
          "ay": 15,
          "hoverlabel": {
           "bgcolor": "DarkGreen"
          },
          "hovertext": "Step 294 [2025-07-14 00:00:00]<br>BUY 4.62601018 LINK @ 15.75 USDT MARKET<br>Total: 72.85966036 USDT - Comm.: 0.21923669 USDT",
          "opacity": 0.6,
          "showarrow": true,
          "x": 293,
          "xref": "x",
          "y": 19417.054699962504,
          "yref": "y"
         },
         {
          "arrowcolor": "DarkGreen",
          "arrowhead": 2,
          "arrowsize": 0.8,
          "arrowwidth": 4,
          "ax": 0,
          "ay": 15,
          "hoverlabel": {
           "bgcolor": "DarkGreen"
          },
          "hovertext": "Step 293 [2025-07-13 00:00:00]<br>BUY 7.75432741 LINK @ 15.66 USDT MARKET<br>Total: 121.43276726 USDT - Comm.: 0.36539449 USDT",
          "opacity": 0.6,
          "showarrow": true,
          "x": 292,
          "xref": "x",
          "y": 19307.50948043,
          "yref": "y"
         },
         {
          "arrowcolor": "DarkGreen",
          "arrowhead": 2,
          "arrowsize": 0.8,
          "arrowwidth": 4,
          "ax": 0,
          "ay": 15,
          "hoverlabel": {
           "bgcolor": "DarkGreen"
          },
          "hovertext": "Step 292 [2025-07-12 00:00:00]<br>BUY 13.39430479 LINK @ 15.11 USDT MARKET<br>Total: 202.38794545 USDT - Comm.: 0.60899081 USDT",
          "opacity": 0.6,
          "showarrow": true,
          "x": 291,
          "xref": "x",
          "y": 18640.7073766881,
          "yref": "y"
         },
         {
          "arrowcolor": "DarkGreen",
          "arrowhead": 2,
          "arrowsize": 0.8,
          "arrowwidth": 4,
          "ax": 0,
          "ay": 15,
          "hoverlabel": {
           "bgcolor": "DarkGreen"
          },
          "hovertext": "Step 291 [2025-07-11 00:00:00]<br>BUY 22.07547398 LINK @ 15.28 USDT MARKET<br>Total: 337.31324241 USDT - Comm.: 1.01498468 USDT",
          "opacity": 0.6,
          "showarrow": true,
          "x": 290,
          "xref": "x",
          "y": 18845.7360315244,
          "yref": "y"
         },
         {
          "arrowcolor": "DarkGreen",
          "arrowhead": 2,
          "arrowsize": 0.8,
          "arrowwidth": 4,
          "ax": 0,
          "ay": 15,
          "hoverlabel": {
           "bgcolor": "DarkGreen"
          },
          "hovertext": "Step 290 [2025-07-10 00:00:00]<br>BUY 36.91324605 LINK @ 15.23 USDT MARKET<br>Total: 562.18873735 USDT - Comm.: 1.69164114 USDT",
          "opacity": 0.6,
          "showarrow": true,
          "x": 289,
          "xref": "x",
          "y": 18788.5274257364,
          "yref": "y"
         },
         {
          "arrowcolor": "DarkGreen",
          "arrowhead": 2,
          "arrowsize": 0.8,
          "arrowwidth": 4,
          "ax": 0,
          "ay": 15,
          "hoverlabel": {
           "bgcolor": "DarkGreen"
          },
          "hovertext": "Step 289 [2025-07-09 00:00:00]<br>BUY 65.7530687 LINK @ 14.25 USDT MARKET<br>Total: 936.98122893 USDT - Comm.: 2.81940189 USDT",
          "opacity": 0.6,
          "showarrow": true,
          "x": 288,
          "xref": "x",
          "y": 17673.076968755,
          "yref": "y"
         },
         {
          "arrowcolor": "DarkGreen",
          "arrowhead": 2,
          "arrowsize": 0.8,
          "arrowwidth": 4,
          "ax": 0,
          "ay": 15,
          "hoverlabel": {
           "bgcolor": "DarkGreen"
          },
          "hovertext": "Step 288 [2025-07-08 00:00:00]<br>BUY 18.64416645 LINK @ 13.96 USDT MARKET<br>Total: 260.27256359 USDT - Comm.: 0.78316719 USDT",
          "opacity": 0.6,
          "showarrow": true,
          "x": 287,
          "xref": "x",
          "y": 17362.0119349388,
          "yref": "y"
         },
         {
          "arrowcolor": "DarkGreen",
          "arrowhead": 2,
          "arrowsize": 0.8,
          "arrowwidth": 4,
          "ax": 0,
          "ay": 15,
          "hoverlabel": {
           "bgcolor": "DarkGreen"
          },
          "hovertext": "Step 287 [2025-07-07 00:00:00]<br>BUY 21.51724236 LINK @ 13.44 USDT MARKET<br>Total: 289.19173732 USDT - Comm.: 0.87018577 USDT",
          "opacity": 0.6,
          "showarrow": true,
          "x": 286,
          "xref": "x",
          "y": 16813.4010027948,
          "yref": "y"
         },
         {
          "arrowcolor": "FireBrick",
          "arrowhead": 2,
          "arrowsize": 0.8,
          "arrowwidth": 4,
          "ax": 0,
          "ay": -15,
          "hoverlabel": {
           "bgcolor": "FireBrick"
          },
          "hovertext": "Step 286 [2025-07-06 00:00:00]<br>SELL 114.6746315 LINK @ 13.48 USDT MARKET<br>Total: 1545.81403262 USDT - Comm.: 0.34505907 LINK",
          "opacity": 0.6,
          "showarrow": true,
          "x": 285,
          "xref": "x",
          "y": 16859.4594876652,
          "yref": "y"
         },
         {
          "arrowcolor": "DarkGreen",
          "arrowhead": 2,
          "arrowsize": 0.8,
          "arrowwidth": 4,
          "ax": 0,
          "ay": 15,
          "hoverlabel": {
           "bgcolor": "DarkGreen"
          },
          "hovertext": "Step 285 [2025-07-05 00:00:00]<br>BUY 68.06453931 LINK @ 13.23 USDT MARKET<br>Total: 900.49385513 USDT - Comm.: 2.70961040 USDT",
          "opacity": 0.6,
          "showarrow": true,
          "x": 284,
          "xref": "x",
          "y": 16574.6198716889,
          "yref": "y"
         },
         {
          "arrowcolor": "DarkGreen",
          "arrowhead": 2,
          "arrowsize": 0.8,
          "arrowwidth": 4,
          "ax": 0,
          "ay": 15,
          "hoverlabel": {
           "bgcolor": "DarkGreen"
          },
          "hovertext": "Step 284 [2025-07-04 00:00:00]<br>BUY 19.00738465 LINK @ 13.16 USDT MARKET<br>Total: 250.13718199 USDT - Comm.: 0.75266955 USDT",
          "opacity": 0.6,
          "showarrow": true,
          "x": 283,
          "xref": "x",
          "y": 16499.6232755848,
          "yref": "y"
         },
         {
          "arrowcolor": "DarkGreen",
          "arrowhead": 2,
          "arrowsize": 0.8,
          "arrowwidth": 4,
          "ax": 0,
          "ay": 15,
          "hoverlabel": {
           "bgcolor": "DarkGreen"
          },
          "hovertext": "Step 283 [2025-07-03 00:00:00]<br>BUY 121.98838429 LINK @ 13.67 USDT MARKET<br>Total: 1667.58121321 USDT - Comm.: 5.01779703 USDT",
          "opacity": 0.6,
          "showarrow": true,
          "x": 282,
          "xref": "x",
          "y": 17046.8348132883,
          "yref": "y"
         },
         {
          "arrowcolor": "FireBrick",
          "arrowhead": 2,
          "arrowsize": 0.8,
          "arrowwidth": 4,
          "ax": 0,
          "ay": -15,
          "hoverlabel": {
           "bgcolor": "FireBrick"
          },
          "hovertext": "Step 282 [2025-07-02 00:00:00]<br>SELL 104.25702086 LINK @ 13.56 USDT MARKET<br>Total: 1413.72520286 USDT - Comm.: 0.31371220 LINK",
          "opacity": 0.6,
          "showarrow": true,
          "x": 281,
          "xref": "x",
          "y": 16947.563724998,
          "yref": "y"
         },
         {
          "arrowcolor": "DarkGreen",
          "arrowhead": 2,
          "arrowsize": 0.8,
          "arrowwidth": 4,
          "ax": 0,
          "ay": 15,
          "hoverlabel": {
           "bgcolor": "DarkGreen"
          },
          "hovertext": "Step 281 [2025-07-01 00:00:00]<br>BUY 142.60821735 LINK @ 12.9 USDT MARKET<br>Total: 1839.64600384 USDT - Comm.: 5.53554465 USDT",
          "opacity": 0.6,
          "showarrow": true,
          "x": 280,
          "xref": "x",
          "y": 16262.93243151,
          "yref": "y"
         },
         {
          "arrowcolor": "DarkGreen",
          "arrowhead": 2,
          "arrowsize": 0.8,
          "arrowwidth": 4,
          "ax": 0,
          "ay": 15,
          "hoverlabel": {
           "bgcolor": "DarkGreen"
          },
          "hovertext": "Step 280 [2025-06-30 00:00:00]<br>BUY 38.19228541 LINK @ 13.38 USDT MARKET<br>Total: 511.01277885 USDT - Comm.: 1.53765129 USDT",
          "opacity": 0.6,
          "showarrow": true,
          "x": 279,
          "xref": "x",
          "y": 16697.9576572002,
          "yref": "y"
         },
         {
          "arrowcolor": "FireBrick",
          "arrowhead": 2,
          "arrowsize": 0.8,
          "arrowwidth": 4,
          "ax": 0,
          "ay": -15,
          "hoverlabel": {
           "bgcolor": "FireBrick"
          },
          "hovertext": "Step 279 [2025-06-29 00:00:00]<br>SELL 95.81245636 LINK @ 13.7 USDT MARKET<br>Total: 1312.63065213 USDT - Comm.: 0.28830228 LINK",
          "opacity": 0.6,
          "showarrow": true,
          "x": 278,
          "xref": "x",
          "y": 16978.677583331,
          "yref": "y"
         },
         {
          "arrowcolor": "FireBrick",
          "arrowhead": 2,
          "arrowsize": 0.8,
          "arrowwidth": 4,
          "ax": 0,
          "ay": -15,
          "hoverlabel": {
           "bgcolor": "FireBrick"
          },
          "hovertext": "Step 278 [2025-06-28 00:00:00]<br>SELL 106.45828486 LINK @ 13.39 USDT MARKET<br>Total: 1425.47643428 USDT - Comm.: 0.32033586 LINK",
          "opacity": 0.6,
          "showarrow": true,
          "x": 277,
          "xref": "x",
          "y": 16685.054528698503,
          "yref": "y"
         },
         {
          "arrowcolor": "DarkGreen",
          "arrowhead": 2,
          "arrowsize": 0.8,
          "arrowwidth": 4,
          "ax": 0,
          "ay": 15,
          "hoverlabel": {
           "bgcolor": "DarkGreen"
          },
          "hovertext": "Step 277 [2025-06-27 00:00:00]<br>BUY 121.59565892 LINK @ 13.05 USDT MARKET<br>Total: 1586.82334888 USDT - Comm.: 4.77479443 USDT",
          "opacity": 0.6,
          "showarrow": true,
          "x": 276,
          "xref": "x",
          "y": 16326.782012671501,
          "yref": "y"
         },
         {
          "arrowcolor": "FireBrick",
          "arrowhead": 2,
          "arrowsize": 0.8,
          "arrowwidth": 4,
          "ax": 0,
          "ay": -15,
          "hoverlabel": {
           "bgcolor": "FireBrick"
          },
          "hovertext": "Step 276 [2025-06-26 00:00:00]<br>SELL 104.81688629 LINK @ 12.94 USDT MARKET<br>Total: 1356.33050859 USDT - Comm.: 0.31539685 LINK",
          "opacity": 0.6,
          "showarrow": true,
          "x": 275,
          "xref": "x",
          "y": 16226.782287607799,
          "yref": "y"
         },
         {
          "arrowcolor": "DarkGreen",
          "arrowhead": 2,
          "arrowsize": 0.8,
          "arrowwidth": 4,
          "ax": 0,
          "ay": 15,
          "hoverlabel": {
           "bgcolor": "DarkGreen"
          },
          "hovertext": "Step 275 [2025-06-25 00:00:00]<br>BUY 22.1274169 LINK @ 13.13 USDT MARKET<br>Total: 290.5329839 USDT - Comm.: 0.87422162 USDT",
          "opacity": 0.6,
          "showarrow": true,
          "x": 274,
          "xref": "x",
          "y": 16427.4078471911,
          "yref": "y"
         },
         {
          "arrowcolor": "FireBrick",
          "arrowhead": 2,
          "arrowsize": 0.8,
          "arrowwidth": 4,
          "ax": 0,
          "ay": -15,
          "hoverlabel": {
           "bgcolor": "FireBrick"
          },
          "hovertext": "Step 274 [2025-06-24 00:00:00]<br>SELL 114.01198091 LINK @ 13.42 USDT MARKET<br>Total: 1530.04078381 USDT - Comm.: 0.34306514 LINK",
          "opacity": 0.6,
          "showarrow": true,
          "x": 273,
          "xref": "x",
          "y": 16730.478451568397,
          "yref": "y"
         },
         {
          "arrowcolor": "DarkGreen",
          "arrowhead": 2,
          "arrowsize": 0.8,
          "arrowwidth": 4,
          "ax": 0,
          "ay": 15,
          "hoverlabel": {
           "bgcolor": "DarkGreen"
          },
          "hovertext": "Step 273 [2025-06-23 00:00:00]<br>BUY 71.7565875 LINK @ 12.82 USDT MARKET<br>Total: 919.91945172 USDT - Comm.: 2.76806254 USDT",
          "opacity": 0.6,
          "showarrow": true,
          "x": 272,
          "xref": "x",
          "y": 16047.116237766402,
          "yref": "y"
         },
         {
          "arrowcolor": "FireBrick",
          "arrowhead": 2,
          "arrowsize": 0.8,
          "arrowwidth": 4,
          "ax": 0,
          "ay": -15,
          "hoverlabel": {
           "bgcolor": "FireBrick"
          },
          "hovertext": "Step 272 [2025-06-22 00:00:00]<br>SELL 118.73094349 LINK @ 11.65 USDT MARKET<br>Total: 1383.21549166 USDT - Comm.: 0.35726462 LINK",
          "opacity": 0.6,
          "showarrow": true,
          "x": 271,
          "xref": "x",
          "y": 14797.279539154499,
          "yref": "y"
         },
         {
          "arrowcolor": "DarkGreen",
          "arrowhead": 2,
          "arrowsize": 0.8,
          "arrowwidth": 4,
          "ax": 0,
          "ay": 15,
          "hoverlabel": {
           "bgcolor": "DarkGreen"
          },
          "hovertext": "Step 271 [2025-06-21 00:00:00]<br>BUY 8.50404345 LINK @ 12.03 USDT MARKET<br>Total: 102.30364268 USDT - Comm.: 0.30783443 USDT",
          "opacity": 0.6,
          "showarrow": true,
          "x": 270,
          "xref": "x",
          "y": 15250.1225643904,
          "yref": "y"
         },
         {
          "arrowcolor": "DarkGreen",
          "arrowhead": 2,
          "arrowsize": 0.8,
          "arrowwidth": 4,
          "ax": 0,
          "ay": 15,
          "hoverlabel": {
           "bgcolor": "DarkGreen"
          },
          "hovertext": "Step 270 [2025-06-20 00:00:00]<br>BUY 9.08638802 LINK @ 12.51 USDT MARKET<br>Total: 113.67071408 USDT - Comm.: 0.34203826 USDT",
          "opacity": 0.6,
          "showarrow": true,
          "x": 269,
          "xref": "x",
          "y": 15818.0060606866,
          "yref": "y"
         },
         {
          "arrowcolor": "DarkGreen",
          "arrowhead": 2,
          "arrowsize": 0.8,
          "arrowwidth": 4,
          "ax": 0,
          "ay": 15,
          "hoverlabel": {
           "bgcolor": "DarkGreen"
          },
          "hovertext": "Step 269 [2025-06-19 00:00:00]<br>BUY 57.98047135 LINK @ 13.07 USDT MARKET<br>Total: 757.80476057 USDT - Comm.: 2.28025505 USDT",
          "opacity": 0.6,
          "showarrow": true,
          "x": 268,
          "xref": "x",
          "y": 16477.3296395717,
          "yref": "y"
         },
         {
          "arrowcolor": "DarkGreen",
          "arrowhead": 2,
          "arrowsize": 0.8,
          "arrowwidth": 4,
          "ax": 0,
          "ay": 15,
          "hoverlabel": {
           "bgcolor": "DarkGreen"
          },
          "hovertext": "Step 268 [2025-06-18 00:00:00]<br>BUY 96.33927798 LINK @ 13.11 USDT MARKET<br>Total: 1263.00793429 USDT - Comm.: 3.80042508 USDT",
          "opacity": 0.6,
          "showarrow": true,
          "x": 267,
          "xref": "x",
          "y": 16525.7425117563,
          "yref": "y"
         },
         {
          "arrowcolor": "FireBrick",
          "arrowhead": 2,
          "arrowsize": 0.8,
          "arrowwidth": 4,
          "ax": 0,
          "ay": -15,
          "hoverlabel": {
           "bgcolor": "FireBrick"
          },
          "hovertext": "Step 267 [2025-06-17 00:00:00]<br>SELL 112.87944274 LINK @ 12.99 USDT MARKET<br>Total: 1466.30396119 USDT - Comm.: 0.33965730 LINK",
          "opacity": 0.6,
          "showarrow": true,
          "x": 266,
          "xref": "x",
          "y": 16407.8780320463,
          "yref": "y"
         },
         {
          "arrowcolor": "FireBrick",
          "arrowhead": 2,
          "arrowsize": 0.8,
          "arrowwidth": 4,
          "ax": 0,
          "ay": -15,
          "hoverlabel": {
           "bgcolor": "FireBrick"
          },
          "hovertext": "Step 266 [2025-06-16 00:00:00]<br>SELL 125.42160304 LINK @ 13.56 USDT MARKET<br>Total: 1700.71693722 USDT - Comm.: 0.37739700 LINK",
          "opacity": 0.6,
          "showarrow": true,
          "x": 265,
          "xref": "x",
          "y": 17058.344405579603,
          "yref": "y"
         },
         {
          "arrowcolor": "DarkGreen",
          "arrowhead": 2,
          "arrowsize": 0.8,
          "arrowwidth": 4,
          "ax": 0,
          "ay": 15,
          "hoverlabel": {
           "bgcolor": "DarkGreen"
          },
          "hovertext": "Step 258 [2025-06-08 00:00:00]<br>BUY 0.0 LINK @ 13.73 USDT MARKET<br>Total: 1e-08 USDT - Comm.: 0.00000001 USDT",
          "opacity": 0.6,
          "showarrow": true,
          "x": 257,
          "xref": "x",
          "y": 17272.2027056693,
          "yref": "y"
         },
         {
          "arrowcolor": "DarkGreen",
          "arrowhead": 2,
          "arrowsize": 0.8,
          "arrowwidth": 4,
          "ax": 0,
          "ay": 15,
          "hoverlabel": {
           "bgcolor": "DarkGreen"
          },
          "hovertext": "Step 257 [2025-06-07 00:00:00]<br>BUY 0.0 LINK @ 13.83 USDT MARKET<br>Total: 1e-08 USDT - Comm.: 0.00000001 USDT",
          "opacity": 0.6,
          "showarrow": true,
          "x": 256,
          "xref": "x",
          "y": 17398.0017057303,
          "yref": "y"
         },
         {
          "arrowcolor": "DarkGreen",
          "arrowhead": 2,
          "arrowsize": 0.8,
          "arrowwidth": 4,
          "ax": 0,
          "ay": 15,
          "hoverlabel": {
           "bgcolor": "DarkGreen"
          },
          "hovertext": "Step 256 [2025-06-06 00:00:00]<br>BUY 0.0 LINK @ 13.56 USDT MARKET<br>Total: 3e-08 USDT - Comm.: 0.00000001 USDT",
          "opacity": 0.6,
          "showarrow": true,
          "x": 255,
          "xref": "x",
          "y": 17058.3444056596,
          "yref": "y"
         },
         {
          "arrowcolor": "DarkGreen",
          "arrowhead": 2,
          "arrowsize": 0.8,
          "arrowwidth": 4,
          "ax": 0,
          "ay": 15,
          "hoverlabel": {
           "bgcolor": "DarkGreen"
          },
          "hovertext": "Step 255 [2025-06-05 00:00:00]<br>BUY 0.0 LINK @ 12.89 USDT MARKET<br>Total: 5e-08 USDT - Comm.: 0.00000001 USDT",
          "opacity": 0.6,
          "showarrow": true,
          "x": 254,
          "xref": "x",
          "y": 16215.4911054449,
          "yref": "y"
         },
         {
          "arrowcolor": "DarkGreen",
          "arrowhead": 2,
          "arrowsize": 0.8,
          "arrowwidth": 4,
          "ax": 0,
          "ay": 15,
          "hoverlabel": {
           "bgcolor": "DarkGreen"
          },
          "hovertext": "Step 254 [2025-06-04 00:00:00]<br>BUY 1e-08 LINK @ 13.83 USDT MARKET<br>Total: 9e-08 USDT - Comm.: 0.00000001 USDT",
          "opacity": 0.6,
          "showarrow": true,
          "x": 253,
          "xref": "x",
          "y": 17398.001705792,
          "yref": "y"
         },
         {
          "arrowcolor": "DarkGreen",
          "arrowhead": 2,
          "arrowsize": 0.8,
          "arrowwidth": 4,
          "ax": 0,
          "ay": 15,
          "hoverlabel": {
           "bgcolor": "DarkGreen"
          },
          "hovertext": "Step 253 [2025-06-03 00:00:00]<br>BUY 1e-08 LINK @ 14.11 USDT MARKET<br>Total: 1.6e-07 USDT - Comm.: 0.00000001 USDT",
          "opacity": 0.6,
          "showarrow": true,
          "x": 252,
          "xref": "x",
          "y": 17750.238905932896,
          "yref": "y"
         },
         {
          "arrowcolor": "DarkGreen",
          "arrowhead": 2,
          "arrowsize": 0.8,
          "arrowwidth": 4,
          "ax": 0,
          "ay": 15,
          "hoverlabel": {
           "bgcolor": "DarkGreen"
          },
          "hovertext": "Step 252 [2025-06-02 00:00:00]<br>BUY 2e-08 LINK @ 14.07 USDT MARKET<br>Total: 2.7e-07 USDT - Comm.: 0.00000001 USDT",
          "opacity": 0.6,
          "showarrow": true,
          "x": 251,
          "xref": "x",
          "y": 17699.919305915897,
          "yref": "y"
         },
         {
          "arrowcolor": "DarkGreen",
          "arrowhead": 2,
          "arrowsize": 0.8,
          "arrowwidth": 4,
          "ax": 0,
          "ay": 15,
          "hoverlabel": {
           "bgcolor": "DarkGreen"
          },
          "hovertext": "Step 251 [2025-06-01 00:00:00]<br>BUY 3e-08 LINK @ 14.06 USDT MARKET<br>Total: 4.6e-07 USDT - Comm.: 0.00000001 USDT",
          "opacity": 0.6,
          "showarrow": true,
          "x": 250,
          "xref": "x",
          "y": 17687.339405960403,
          "yref": "y"
         },
         {
          "arrowcolor": "DarkGreen",
          "arrowhead": 2,
          "arrowsize": 0.8,
          "arrowwidth": 4,
          "ax": 0,
          "ay": 15,
          "hoverlabel": {
           "bgcolor": "DarkGreen"
          },
          "hovertext": "Step 250 [2025-05-31 00:00:00]<br>BUY 6e-08 LINK @ 13.97 USDT MARKET<br>Total: 7.8e-07 USDT - Comm.: 0.00000001 USDT",
          "opacity": 0.6,
          "showarrow": true,
          "x": 249,
          "xref": "x",
          "y": 17574.1203058816,
          "yref": "y"
         },
         {
          "arrowcolor": "DarkGreen",
          "arrowhead": 2,
          "arrowsize": 0.8,
          "arrowwidth": 4,
          "ax": 0,
          "ay": 15,
          "hoverlabel": {
           "bgcolor": "DarkGreen"
          },
          "hovertext": "Step 249 [2025-05-30 00:00:00]<br>BUY 9e-08 LINK @ 13.9 USDT MARKET<br>Total: 1.3e-06 USDT - Comm.: 0.00000001 USDT",
          "opacity": 0.6,
          "showarrow": true,
          "x": 248,
          "xref": "x",
          "y": 17486.061005921,
          "yref": "y"
         },
         {
          "arrowcolor": "DarkGreen",
          "arrowhead": 2,
          "arrowsize": 0.8,
          "arrowwidth": 4,
          "ax": 0,
          "ay": 15,
          "hoverlabel": {
           "bgcolor": "DarkGreen"
          },
          "hovertext": "Step 248 [2025-05-29 00:00:00]<br>BUY 1.4e-07 LINK @ 15.05 USDT MARKET<br>Total: 2.18e-06 USDT - Comm.: 0.00000001 USDT",
          "opacity": 0.6,
          "showarrow": true,
          "x": 247,
          "xref": "x",
          "y": 18932.7495062225,
          "yref": "y"
         },
         {
          "arrowcolor": "DarkGreen",
          "arrowhead": 2,
          "arrowsize": 0.8,
          "arrowwidth": 4,
          "ax": 0,
          "ay": 15,
          "hoverlabel": {
           "bgcolor": "DarkGreen"
          },
          "hovertext": "Step 247 [2025-05-28 00:00:00]<br>BUY 2.3e-07 LINK @ 15.69 USDT MARKET<br>Total: 3.63e-06 USDT - Comm.: 0.00000001 USDT",
          "opacity": 0.6,
          "showarrow": true,
          "x": 246,
          "xref": "x",
          "y": 19737.8631062858,
          "yref": "y"
         },
         {
          "arrowcolor": "DarkGreen",
          "arrowhead": 2,
          "arrowsize": 0.8,
          "arrowwidth": 4,
          "ax": 0,
          "ay": 15,
          "hoverlabel": {
           "bgcolor": "DarkGreen"
          },
          "hovertext": "Step 246 [2025-05-27 00:00:00]<br>BUY 3.8e-07 LINK @ 15.91 USDT MARKET<br>Total: 6.05e-06 USDT - Comm.: 0.00000002 USDT",
          "opacity": 0.6,
          "showarrow": true,
          "x": 245,
          "xref": "x",
          "y": 20014.6209062704,
          "yref": "y"
         },
         {
          "arrowcolor": "DarkGreen",
          "arrowhead": 2,
          "arrowsize": 0.8,
          "arrowwidth": 4,
          "ax": 0,
          "ay": 15,
          "hoverlabel": {
           "bgcolor": "DarkGreen"
          },
          "hovertext": "Step 245 [2025-05-26 00:00:00]<br>BUY 6.5e-07 LINK @ 15.54 USDT MARKET<br>Total: 1.009e-05 USDT - Comm.: 0.00000003 USDT",
          "opacity": 0.6,
          "showarrow": true,
          "x": 244,
          "xref": "x",
          "y": 19549.1646064966,
          "yref": "y"
         },
         {
          "arrowcolor": "DarkGreen",
          "arrowhead": 2,
          "arrowsize": 0.8,
          "arrowwidth": 4,
          "ax": 0,
          "ay": 15,
          "hoverlabel": {
           "bgcolor": "DarkGreen"
          },
          "hovertext": "Step 244 [2025-05-25 00:00:00]<br>BUY 1.08e-06 LINK @ 15.54 USDT MARKET<br>Total: 1.681e-05 USDT - Comm.: 0.00000005 USDT",
          "opacity": 0.6,
          "showarrow": true,
          "x": 243,
          "xref": "x",
          "y": 19549.1646065734,
          "yref": "y"
         },
         {
          "arrowcolor": "DarkGreen",
          "arrowhead": 2,
          "arrowsize": 0.8,
          "arrowwidth": 4,
          "ax": 0,
          "ay": 15,
          "hoverlabel": {
           "bgcolor": "DarkGreen"
          },
          "hovertext": "Step 243 [2025-05-24 00:00:00]<br>BUY 1.83e-06 LINK @ 15.34 USDT MARKET<br>Total: 2.803e-05 USDT - Comm.: 0.00000008 USDT",
          "opacity": 0.6,
          "showarrow": true,
          "x": 242,
          "xref": "x",
          "y": 19297.5666070692,
          "yref": "y"
         },
         {
          "arrowcolor": "DarkGreen",
          "arrowhead": 2,
          "arrowsize": 0.8,
          "arrowwidth": 4,
          "ax": 0,
          "ay": 15,
          "hoverlabel": {
           "bgcolor": "DarkGreen"
          },
          "hovertext": "Step 242 [2025-05-23 00:00:00]<br>BUY 3.01e-06 LINK @ 15.53 USDT MARKET<br>Total: 4.671e-05 USDT - Comm.: 0.00000014 USDT",
          "opacity": 0.6,
          "showarrow": true,
          "x": 241,
          "xref": "x",
          "y": 19536.584706391095,
          "yref": "y"
         },
         {
          "arrowcolor": "DarkGreen",
          "arrowhead": 2,
          "arrowsize": 0.8,
          "arrowwidth": 4,
          "ax": 0,
          "ay": 15,
          "hoverlabel": {
           "bgcolor": "DarkGreen"
          },
          "hovertext": "Step 241 [2025-05-22 00:00:00]<br>BUY 4.65e-06 LINK @ 16.74 USDT MARKET<br>Total: 7.785e-05 USDT - Comm.: 0.00000023 USDT",
          "opacity": 0.6,
          "showarrow": true,
          "x": 240,
          "xref": "x",
          "y": 21058.752598002797,
          "yref": "y"
         },
         {
          "arrowcolor": "DarkGreen",
          "arrowhead": 2,
          "arrowsize": 0.8,
          "arrowwidth": 4,
          "ax": 0,
          "ay": 15,
          "hoverlabel": {
           "bgcolor": "DarkGreen"
          },
          "hovertext": "Step 240 [2025-05-21 00:00:00]<br>BUY 8.06e-06 LINK @ 16.1 USDT MARKET<br>Total: 0.00012975 USDT - Comm.: 0.00000039 USDT",
          "opacity": 0.6,
          "showarrow": true,
          "x": 239,
          "xref": "x",
          "y": 20253.639005916,
          "yref": "y"
         },
         {
          "arrowcolor": "DarkGreen",
          "arrowhead": 2,
          "arrowsize": 0.8,
          "arrowwidth": 4,
          "ax": 0,
          "ay": 15,
          "hoverlabel": {
           "bgcolor": "DarkGreen"
          },
          "hovertext": "Step 239 [2025-05-20 00:00:00]<br>BUY 1.377e-05 LINK @ 15.71 USDT MARKET<br>Total: 0.00021625 USDT - Comm.: 0.00000065 USDT",
          "opacity": 0.6,
          "showarrow": true,
          "x": 238,
          "xref": "x",
          "y": 19763.0229142269,
          "yref": "y"
         },
         {
          "arrowcolor": "DarkGreen",
          "arrowhead": 2,
          "arrowsize": 0.8,
          "arrowwidth": 4,
          "ax": 0,
          "ay": 15,
          "hoverlabel": {
           "bgcolor": "DarkGreen"
          },
          "hovertext": "Step 238 [2025-05-19 00:00:00]<br>BUY 2.284e-05 LINK @ 15.78 USDT MARKET<br>Total: 0.00036041 USDT - Comm.: 0.00000108 USDT",
          "opacity": 0.6,
          "showarrow": true,
          "x": 237,
          "xref": "x",
          "y": 19851.082212948997,
          "yref": "y"
         },
         {
          "arrowcolor": "DarkGreen",
          "arrowhead": 2,
          "arrowsize": 0.8,
          "arrowwidth": 4,
          "ax": 0,
          "ay": 15,
          "hoverlabel": {
           "bgcolor": "DarkGreen"
          },
          "hovertext": "Step 237 [2025-05-18 00:00:00]<br>BUY 3.783e-05 LINK @ 15.88 USDT MARKET<br>Total: 0.00060067 USDT - Comm.: 0.00000181 USDT",
          "opacity": 0.6,
          "showarrow": true,
          "x": 236,
          "xref": "x",
          "y": 19976.8812090436,
          "yref": "y"
         },
         {
          "arrowcolor": "DarkGreen",
          "arrowhead": 2,
          "arrowsize": 0.8,
          "arrowwidth": 4,
          "ax": 0,
          "ay": 15,
          "hoverlabel": {
           "bgcolor": "DarkGreen"
          },
          "hovertext": "Step 236 [2025-05-17 00:00:00]<br>BUY 6.535e-05 LINK @ 15.32 USDT MARKET<br>Total: 0.00100113 USDT - Comm.: 0.00000301 USDT",
          "opacity": 0.6,
          "showarrow": true,
          "x": 235,
          "xref": "x",
          "y": 19272.4068648184,
          "yref": "y"
         },
         {
          "arrowcolor": "DarkGreen",
          "arrowhead": 2,
          "arrowsize": 0.8,
          "arrowwidth": 4,
          "ax": 0,
          "ay": 15,
          "hoverlabel": {
           "bgcolor": "DarkGreen"
          },
          "hovertext": "Step 235 [2025-05-16 00:00:00]<br>BUY 0.00010587 LINK @ 15.76 USDT MARKET<br>Total: 0.00166854 USDT - Comm.: 0.00000502 USDT",
          "opacity": 0.6,
          "showarrow": true,
          "x": 234,
          "xref": "x",
          "y": 19825.92239963,
          "yref": "y"
         },
         {
          "arrowcolor": "DarkGreen",
          "arrowhead": 2,
          "arrowsize": 0.8,
          "arrowwidth": 4,
          "ax": 0,
          "ay": 15,
          "hoverlabel": {
           "bgcolor": "DarkGreen"
          },
          "hovertext": "Step 234 [2025-05-15 00:00:00]<br>BUY 0.00017337 LINK @ 16.04 USDT MARKET<br>Total: 0.0027809 USDT - Comm.: 0.00000837 USDT",
          "opacity": 0.6,
          "showarrow": true,
          "x": 233,
          "xref": "x",
          "y": 20178.1595337052,
          "yref": "y"
         },
         {
          "arrowcolor": "DarkGreen",
          "arrowhead": 2,
          "arrowsize": 0.8,
          "arrowwidth": 4,
          "ax": 0,
          "ay": 15,
          "hoverlabel": {
           "bgcolor": "DarkGreen"
          },
          "hovertext": "Step 233 [2025-05-14 00:00:00]<br>BUY 0.00027248 LINK @ 17.01 USDT MARKET<br>Total: 0.00463483 USDT - Comm.: 0.00001395 USDT",
          "opacity": 0.6,
          "showarrow": true,
          "x": 232,
          "xref": "x",
          "y": 21398.4094218965,
          "yref": "y"
         },
         {
          "arrowcolor": "DarkGreen",
          "arrowhead": 2,
          "arrowsize": 0.8,
          "arrowwidth": 4,
          "ax": 0,
          "ay": 15,
          "hoverlabel": {
           "bgcolor": "DarkGreen"
          },
          "hovertext": "Step 232 [2025-05-13 00:00:00]<br>BUY 0.00044421 LINK @ 17.39 USDT MARKET<br>Total: 0.00772473 USDT - Comm.: 0.00002324 USDT",
          "opacity": 0.6,
          "showarrow": true,
          "x": 231,
          "xref": "x",
          "y": 21876.4453747416,
          "yref": "y"
         },
         {
          "arrowcolor": "DarkGreen",
          "arrowhead": 2,
          "arrowsize": 0.8,
          "arrowwidth": 4,
          "ax": 0,
          "ay": 15,
          "hoverlabel": {
           "bgcolor": "DarkGreen"
          },
          "hovertext": "Step 231 [2025-05-12 00:00:00]<br>BUY 0.00076909 LINK @ 16.74 USDT MARKET<br>Total: 0.01287455 USDT - Comm.: 0.00003874 USDT",
          "opacity": 0.6,
          "showarrow": true,
          "x": 230,
          "xref": "x",
          "y": 21058.752664578995,
          "yref": "y"
         },
         {
          "arrowcolor": "DarkGreen",
          "arrowhead": 2,
          "arrowsize": 0.8,
          "arrowwidth": 4,
          "ax": 0,
          "ay": 15,
          "hoverlabel": {
           "bgcolor": "DarkGreen"
          },
          "hovertext": "Step 230 [2025-05-11 00:00:00]<br>BUY 0.00125483 LINK @ 17.1 USDT MARKET<br>Total: 0.02145757 USDT - Comm.: 0.00006457 USDT",
          "opacity": 0.6,
          "showarrow": true,
          "x": 229,
          "xref": "x",
          "y": 21511.628436252002,
          "yref": "y"
         },
         {
          "arrowcolor": "DarkGreen",
          "arrowhead": 2,
          "arrowsize": 0.8,
          "arrowwidth": 4,
          "ax": 0,
          "ay": 15,
          "hoverlabel": {
           "bgcolor": "DarkGreen"
          },
          "hovertext": "Step 229 [2025-05-10 00:00:00]<br>BUY 0.00206244 LINK @ 17.34 USDT MARKET<br>Total: 0.03576263 USDT - Comm.: 0.00010761 USDT",
          "opacity": 0.6,
          "showarrow": true,
          "x": 228,
          "xref": "x",
          "y": 21813.545380707197,
          "yref": "y"
         },
         {
          "arrowcolor": "DarkGreen",
          "arrowhead": 2,
          "arrowsize": 0.8,
          "arrowwidth": 4,
          "ax": 0,
          "ay": 15,
          "hoverlabel": {
           "bgcolor": "DarkGreen"
          },
          "hovertext": "Step 228 [2025-05-09 00:00:00]<br>BUY 0.00372295 LINK @ 16.01 USDT MARKET<br>Total: 0.05960438 USDT - Comm.: 0.00017935 USDT",
          "opacity": 0.6,
          "showarrow": true,
          "x": 227,
          "xref": "x",
          "y": 20140.425831761302,
          "yref": "y"
         },
         {
          "arrowcolor": "DarkGreen",
          "arrowhead": 2,
          "arrowsize": 0.8,
          "arrowwidth": 4,
          "ax": 0,
          "ay": 15,
          "hoverlabel": {
           "bgcolor": "DarkGreen"
          },
          "hovertext": "Step 227 [2025-05-08 00:00:00]<br>BUY 0.00625571 LINK @ 15.88 USDT MARKET<br>Total: 0.09934064 USDT - Comm.: 0.00029892 USDT",
          "opacity": 0.6,
          "showarrow": true,
          "x": 226,
          "xref": "x",
          "y": 19976.8885960796,
          "yref": "y"
         },
         {
          "arrowcolor": "DarkGreen",
          "arrowhead": 2,
          "arrowsize": 0.8,
          "arrowwidth": 4,
          "ax": 0,
          "ay": 15,
          "hoverlabel": {
           "bgcolor": "DarkGreen"
          },
          "hovertext": "Step 226 [2025-05-07 00:00:00]<br>BUY 0.0119803 LINK @ 13.82 USDT MARKET<br>Total: 0.16556773 USDT - Comm.: 0.00049820 USDT",
          "opacity": 0.6,
          "showarrow": true,
          "x": 225,
          "xref": "x",
          "y": 17385.4610486584,
          "yref": "y"
         },
         {
          "arrowcolor": "DarkGreen",
          "arrowhead": 2,
          "arrowsize": 0.8,
          "arrowwidth": 4,
          "ax": 0,
          "ay": 15,
          "hoverlabel": {
           "bgcolor": "DarkGreen"
          },
          "hovertext": "Step 225 [2025-05-06 00:00:00]<br>BUY 0.01996716 LINK @ 13.82 USDT MARKET<br>Total: 0.27594621 USDT - Comm.: 0.00083033 USDT",
          "opacity": 0.6,
          "showarrow": true,
          "x": 224,
          "xref": "x",
          "y": 17385.4618790472,
          "yref": "y"
         },
         {
          "arrowcolor": "DarkGreen",
          "arrowhead": 2,
          "arrowsize": 0.8,
          "arrowwidth": 4,
          "ax": 0,
          "ay": 15,
          "hoverlabel": {
           "bgcolor": "DarkGreen"
          },
          "hovertext": "Step 224 [2025-05-05 00:00:00]<br>BUY 0.03369307 LINK @ 13.65 USDT MARKET<br>Total: 0.45991036 USDT - Comm.: 0.00138388 USDT",
          "opacity": 0.6,
          "showarrow": true,
          "x": 223,
          "xref": "x",
          "y": 17171.6129814485,
          "yref": "y"
         },
         {
          "arrowcolor": "DarkGreen",
          "arrowhead": 2,
          "arrowsize": 0.8,
          "arrowwidth": 4,
          "ax": 0,
          "ay": 15,
          "hoverlabel": {
           "bgcolor": "DarkGreen"
          },
          "hovertext": "Step 223 [2025-05-04 00:00:00]<br>BUY 0.05530428 LINK @ 13.86 USDT MARKET<br>Total: 0.76651727 USDT - Comm.: 0.00230647 USDT",
          "opacity": 0.6,
          "showarrow": true,
          "x": 222,
          "xref": "x",
          "y": 17435.776207034596,
          "yref": "y"
         },
         {
          "arrowcolor": "DarkGreen",
          "arrowhead": 2,
          "arrowsize": 0.8,
          "arrowwidth": 4,
          "ax": 0,
          "ay": 15,
          "hoverlabel": {
           "bgcolor": "DarkGreen"
          },
          "hovertext": "Step 222 [2025-05-03 00:00:00]<br>BUY 0.0897141 LINK @ 14.24 USDT MARKET<br>Total: 1.27752878 USDT - Comm.: 0.00384412 USDT",
          "opacity": 0.6,
          "showarrow": true,
          "x": 221,
          "xref": "x",
          "y": 17913.7645083024,
          "yref": "y"
         },
         {
          "arrowcolor": "DarkGreen",
          "arrowhead": 2,
          "arrowsize": 0.8,
          "arrowwidth": 4,
          "ax": 0,
          "ay": 15,
          "hoverlabel": {
           "bgcolor": "DarkGreen"
          },
          "hovertext": "Step 221 [2025-05-02 00:00:00]<br>BUY 0.14533888 LINK @ 14.65 USDT MARKET<br>Total: 2.12921463 USDT - Comm.: 0.00640686 USDT",
          "opacity": 0.6,
          "showarrow": true,
          "x": 220,
          "xref": "x",
          "y": 18429.4542046095,
          "yref": "y"
         },
         {
          "arrowcolor": "DarkGreen",
          "arrowhead": 2,
          "arrowsize": 0.8,
          "arrowwidth": 4,
          "ax": 0,
          "ay": 15,
          "hoverlabel": {
           "bgcolor": "DarkGreen"
          },
          "hovertext": "Step 220 [2025-05-01 00:00:00]<br>BUY 0.24075245 LINK @ 14.74 USDT MARKET<br>Total: 3.54869105 USDT - Comm.: 0.01067811 USDT",
          "opacity": 0.6,
          "showarrow": true,
          "x": 219,
          "xref": "x",
          "y": 18542.650573003204,
          "yref": "y"
         },
         {
          "arrowcolor": "DarkGreen",
          "arrowhead": 2,
          "arrowsize": 0.8,
          "arrowwidth": 4,
          "ax": 0,
          "ay": 15,
          "hoverlabel": {
           "bgcolor": "DarkGreen"
          },
          "hovertext": "Step 219 [2025-04-30 00:00:00]<br>BUY 0.41360036 LINK @ 14.3 USDT MARKET<br>Total: 5.91448508 USDT - Comm.: 0.01779685 USDT",
          "opacity": 0.6,
          "showarrow": true,
          "x": 218,
          "xref": "x",
          "y": 17989.422036946,
          "yref": "y"
         },
         {
          "arrowcolor": "DarkGreen",
          "arrowhead": 2,
          "arrowsize": 0.8,
          "arrowwidth": 4,
          "ax": 0,
          "ay": 15,
          "hoverlabel": {
           "bgcolor": "DarkGreen"
          },
          "hovertext": "Step 218 [2025-04-29 00:00:00]<br>BUY 0.67516953 LINK @ 14.6 USDT MARKET<br>Total: 9.85747514 USDT - Comm.: 0.02966141 USDT",
          "opacity": 0.6,
          "showarrow": true,
          "x": 217,
          "xref": "x",
          "y": 18366.541027003997,
          "yref": "y"
         },
         {
          "arrowcolor": "DarkGreen",
          "arrowhead": 2,
          "arrowsize": 0.8,
          "arrowwidth": 4,
          "ax": 0,
          "ay": 15,
          "hoverlabel": {
           "bgcolor": "DarkGreen"
          },
          "hovertext": "Step 217 [2025-04-28 00:00:00]<br>BUY 1.09308884 LINK @ 15.03 USDT MARKET<br>Total: 16.42912523 USDT - Comm.: 0.04943568 USDT",
          "opacity": 0.6,
          "showarrow": true,
          "x": 216,
          "xref": "x",
          "y": 18906.794844143496,
          "yref": "y"
         },
         {
          "arrowcolor": "DarkGreen",
          "arrowhead": 2,
          "arrowsize": 0.8,
          "arrowwidth": 4,
          "ax": 0,
          "ay": 15,
          "hoverlabel": {
           "bgcolor": "DarkGreen"
          },
          "hovertext": "Step 216 [2025-04-27 00:00:00]<br>BUY 1.88062331 LINK @ 14.56 USDT MARKET<br>Total: 27.38187538 USDT - Comm.: 0.08239280 USDT",
          "opacity": 0.6,
          "showarrow": true,
          "x": 215,
          "xref": "x",
          "y": 18316.935036818402,
          "yref": "y"
         },
         {
          "arrowcolor": "DarkGreen",
          "arrowhead": 2,
          "arrowsize": 0.8,
          "arrowwidth": 4,
          "ax": 0,
          "ay": 15,
          "hoverlabel": {
           "bgcolor": "DarkGreen"
          },
          "hovertext": "Step 215 [2025-04-26 00:00:00]<br>BUY 3.07109414 LINK @ 14.86 USDT MARKET<br>Total: 45.63645897 USDT - Comm.: 0.13732134 USDT",
          "opacity": 0.6,
          "showarrow": true,
          "x": 214,
          "xref": "x",
          "y": 18693.067022350002,
          "yref": "y"
         },
         {
          "arrowcolor": "DarkGreen",
          "arrowhead": 2,
          "arrowsize": 0.8,
          "arrowwidth": 4,
          "ax": 0,
          "ay": 15,
          "hoverlabel": {
           "bgcolor": "DarkGreen"
          },
          "hovertext": "Step 214 [2025-04-25 00:00:00]<br>BUY 5.0979065 LINK @ 14.92 USDT MARKET<br>Total: 76.06076495 USDT - Comm.: 0.22886890 USDT",
          "opacity": 0.6,
          "showarrow": true,
          "x": 213,
          "xref": "x",
          "y": 18768.3105584,
          "yref": "y"
         },
         {
          "arrowcolor": "DarkGreen",
          "arrowhead": 2,
          "arrowsize": 0.8,
          "arrowwidth": 4,
          "ax": 0,
          "ay": 15,
          "hoverlabel": {
           "bgcolor": "DarkGreen"
          },
          "hovertext": "Step 213 [2025-04-24 00:00:00]<br>BUY 8.417526 LINK @ 15.06 USDT MARKET<br>Total: 126.76794157 USDT - Comm.: 0.38144817 USDT",
          "opacity": 0.6,
          "showarrow": true,
          "x": 212,
          "xref": "x",
          "y": 18943.01252309,
          "yref": "y"
         },
         {
          "arrowcolor": "DarkGreen",
          "arrowhead": 2,
          "arrowsize": 0.8,
          "arrowwidth": 4,
          "ax": 0,
          "ay": 15,
          "hoverlabel": {
           "bgcolor": "DarkGreen"
          },
          "hovertext": "Step 212 [2025-04-23 00:00:00]<br>BUY 14.06657141 LINK @ 15.02 USDT MARKET<br>Total: 211.27990263 USDT - Comm.: 0.63574695 USDT",
          "opacity": 0.6,
          "showarrow": true,
          "x": 211,
          "xref": "x",
          "y": 18894.1791092718,
          "yref": "y"
         },
         {
          "arrowcolor": "DarkGreen",
          "arrowhead": 2,
          "arrowsize": 0.8,
          "arrowwidth": 4,
          "ax": 0,
          "ay": 15,
          "hoverlabel": {
           "bgcolor": "DarkGreen"
          },
          "hovertext": "Step 211 [2025-04-22 00:00:00]<br>BUY 24.92096044 LINK @ 14.13 USDT MARKET<br>Total: 352.13317104 USDT - Comm.: 1.05957825 USDT",
          "opacity": 0.6,
          "showarrow": true,
          "x": 210,
          "xref": "x",
          "y": 17807.069107854502,
          "yref": "y"
         },
         {
          "arrowcolor": "DarkGreen",
          "arrowhead": 2,
          "arrowsize": 0.8,
          "arrowwidth": 4,
          "ax": 0,
          "ay": 15,
          "hoverlabel": {
           "bgcolor": "DarkGreen"
          },
          "hovertext": "Step 210 [2025-04-21 00:00:00]<br>BUY 44.766485 LINK @ 13.11 USDT MARKET<br>Total: 586.88861841 USDT - Comm.: 1.76596375 USDT",
          "opacity": 0.6,
          "showarrow": true,
          "x": 209,
          "xref": "x",
          "y": 16587.1387532415,
          "yref": "y"
         },
         {
          "arrowcolor": "DarkGreen",
          "arrowhead": 2,
          "arrowsize": 0.8,
          "arrowwidth": 4,
          "ax": 0,
          "ay": 15,
          "hoverlabel": {
           "bgcolor": "DarkGreen"
          },
          "hovertext": "Step 209 [2025-04-20 00:00:00]<br>BUY 12.27595002 LINK @ 13.28 USDT MARKET<br>Total: 163.02461622 USDT - Comm.: 0.49054549 USDT",
          "opacity": 0.6,
          "showarrow": true,
          "x": 208,
          "xref": "x",
          "y": 16783.6350493064,
          "yref": "y"
         },
         {
          "arrowcolor": "FireBrick",
          "arrowhead": 2,
          "arrowsize": 0.8,
          "arrowwidth": 4,
          "ax": 0,
          "ay": -15,
          "hoverlabel": {
           "bgcolor": "FireBrick"
          },
          "hovertext": "Step 208 [2025-04-19 00:00:00]<br>SELL 126.36410627 LINK @ 12.94 USDT MARKET<br>Total: 1635.15153513 USDT - Comm.: 0.38023302 LINK",
          "opacity": 0.6,
          "showarrow": true,
          "x": 207,
          "xref": "x",
          "y": 16400.7175863548,
          "yref": "y"
         },
         {
          "arrowcolor": "DarkGreen",
          "arrowhead": 2,
          "arrowsize": 0.8,
          "arrowwidth": 4,
          "ax": 0,
          "ay": 15,
          "hoverlabel": {
           "bgcolor": "DarkGreen"
          },
          "hovertext": "Step 207 [2025-04-18 00:00:00]<br>BUY 4.34e-06 LINK @ 12.56 USDT MARKET<br>Total: 5.448e-05 USDT - Comm.: 0.00000016 USDT",
          "opacity": 0.6,
          "showarrow": true,
          "x": 206,
          "xref": "x",
          "y": 15919.0890971748,
          "yref": "y"
         },
         {
          "arrowcolor": "DarkGreen",
          "arrowhead": 2,
          "arrowsize": 0.8,
          "arrowwidth": 4,
          "ax": 0,
          "ay": 15,
          "hoverlabel": {
           "bgcolor": "DarkGreen"
          },
          "hovertext": "Step 206 [2025-04-17 00:00:00]<br>BUY 1.21e-06 LINK @ 12.54 USDT MARKET<br>Total: 1.513e-05 USDT - Comm.: 0.00000005 USDT",
          "opacity": 0.6,
          "showarrow": true,
          "x": 205,
          "xref": "x",
          "y": 15893.7402294098,
          "yref": "y"
         },
         {
          "arrowcolor": "DarkGreen",
          "arrowhead": 2,
          "arrowsize": 0.8,
          "arrowwidth": 4,
          "ax": 0,
          "ay": 15,
          "hoverlabel": {
           "bgcolor": "DarkGreen"
          },
          "hovertext": "Step 205 [2025-04-16 00:00:00]<br>BUY 8.17e-06 LINK @ 12.35 USDT MARKET<br>Total: 0.00010089 USDT - Comm.: 0.00000030 USDT",
          "opacity": 0.6,
          "showarrow": true,
          "x": 204,
          "xref": "x",
          "y": 15652.9259861,
          "yref": "y"
         },
         {
          "arrowcolor": "DarkGreen",
          "arrowhead": 2,
          "arrowsize": 0.8,
          "arrowwidth": 4,
          "ax": 0,
          "ay": 15,
          "hoverlabel": {
           "bgcolor": "DarkGreen"
          },
          "hovertext": "Step 204 [2025-04-15 00:00:00]<br>BUY 1.374e-05 LINK @ 12.24 USDT MARKET<br>Total: 0.00016815 USDT - Comm.: 0.00000051 USDT",
          "opacity": 0.6,
          "showarrow": true,
          "x": 203,
          "xref": "x",
          "y": 15513.5072148704,
          "yref": "y"
         },
         {
          "arrowcolor": "DarkGreen",
          "arrowhead": 2,
          "arrowsize": 0.8,
          "arrowwidth": 4,
          "ax": 0,
          "ay": 15,
          "hoverlabel": {
           "bgcolor": "DarkGreen"
          },
          "hovertext": "Step 203 [2025-04-14 00:00:00]<br>BUY 2.219e-05 LINK @ 12.63 USDT MARKET<br>Total: 0.00028026 USDT - Comm.: 0.00000084 USDT",
          "opacity": 0.6,
          "showarrow": true,
          "x": 202,
          "xref": "x",
          "y": 16007.810128240102,
          "yref": "y"
         },
         {
          "arrowcolor": "DarkGreen",
          "arrowhead": 2,
          "arrowsize": 0.8,
          "arrowwidth": 4,
          "ax": 0,
          "ay": 15,
          "hoverlabel": {
           "bgcolor": "DarkGreen"
          },
          "hovertext": "Step 202 [2025-04-13 00:00:00]<br>BUY 3.701e-05 LINK @ 12.62 USDT MARKET<br>Total: 0.00046709 USDT - Comm.: 0.00000141 USDT",
          "opacity": 0.6,
          "showarrow": true,
          "x": 201,
          "xref": "x",
          "y": 15995.1356962412,
          "yref": "y"
         },
         {
          "arrowcolor": "DarkGreen",
          "arrowhead": 2,
          "arrowsize": 0.8,
          "arrowwidth": 4,
          "ax": 0,
          "ay": 15,
          "hoverlabel": {
           "bgcolor": "DarkGreen"
          },
          "hovertext": "Step 201 [2025-04-12 00:00:00]<br>BUY 5.92e-05 LINK @ 13.15 USDT MARKET<br>Total: 0.00077848 USDT - Comm.: 0.00000234 USDT",
          "opacity": 0.6,
          "showarrow": true,
          "x": 200,
          "xref": "x",
          "y": 16666.880650899,
          "yref": "y"
         },
         {
          "arrowcolor": "DarkGreen",
          "arrowhead": 2,
          "arrowsize": 0.8,
          "arrowwidth": 4,
          "ax": 0,
          "ay": 15,
          "hoverlabel": {
           "bgcolor": "DarkGreen"
          },
          "hovertext": "Step 200 [2025-04-11 00:00:00]<br>BUY 0.00010265 LINK @ 12.64 USDT MARKET<br>Total: 0.00129748 USDT - Comm.: 0.00000390 USDT",
          "opacity": 0.6,
          "showarrow": true,
          "x": 199,
          "xref": "x",
          "y": 16020.484598782401,
          "yref": "y"
         },
         {
          "arrowcolor": "DarkGreen",
          "arrowhead": 2,
          "arrowsize": 0.8,
          "arrowwidth": 4,
          "ax": 0,
          "ay": 15,
          "hoverlabel": {
           "bgcolor": "DarkGreen"
          },
          "hovertext": "Step 199 [2025-04-10 00:00:00]<br>BUY 2.984e-05 LINK @ 12.08 USDT MARKET<br>Total: 0.00036041 USDT - Comm.: 0.00000108 USDT",
          "opacity": 0.6,
          "showarrow": true,
          "x": 198,
          "xref": "x",
          "y": 15310.7164389356,
          "yref": "y"
         },
         {
          "arrowcolor": "DarkGreen",
          "arrowhead": 2,
          "arrowsize": 0.8,
          "arrowwidth": 4,
          "ax": 0,
          "ay": 15,
          "hoverlabel": {
           "bgcolor": "DarkGreen"
          },
          "hovertext": "Step 198 [2025-04-09 00:00:00]<br>BUY 0.00018994 LINK @ 12.65 USDT MARKET<br>Total: 0.00240273 USDT - Comm.: 0.00000723 USDT",
          "opacity": 0.6,
          "showarrow": true,
          "x": 197,
          "xref": "x",
          "y": 16033.159021459503,
          "yref": "y"
         },
         {
          "arrowcolor": "DarkGreen",
          "arrowhead": 2,
          "arrowsize": 0.8,
          "arrowwidth": 4,
          "ax": 0,
          "ay": 15,
          "hoverlabel": {
           "bgcolor": "DarkGreen"
          },
          "hovertext": "Step 197 [2025-04-08 00:00:00]<br>BUY 0.00036638 LINK @ 10.93 USDT MARKET<br>Total: 0.00400455 USDT - Comm.: 0.00001205 USDT",
          "opacity": 0.6,
          "showarrow": true,
          "x": 196,
          "xref": "x",
          "y": 13853.1572031625,
          "yref": "y"
         },
         {
          "arrowcolor": "DarkGreen",
          "arrowhead": 2,
          "arrowsize": 0.8,
          "arrowwidth": 4,
          "ax": 0,
          "ay": 15,
          "hoverlabel": {
           "bgcolor": "DarkGreen"
          },
          "hovertext": "Step 196 [2025-04-07 00:00:00]<br>BUY 0.0005829 LINK @ 11.45 USDT MARKET<br>Total: 0.00667424 USDT - Comm.: 0.00002008 USDT",
          "opacity": 0.6,
          "showarrow": true,
          "x": 195,
          "xref": "x",
          "y": 14512.2273535675,
          "yref": "y"
         },
         {
          "arrowcolor": "DarkGreen",
          "arrowhead": 2,
          "arrowsize": 0.8,
          "arrowwidth": 4,
          "ax": 0,
          "ay": 15,
          "hoverlabel": {
           "bgcolor": "DarkGreen"
          },
          "hovertext": "Step 195 [2025-04-06 00:00:00]<br>BUY 0.00016436 LINK @ 11.28 USDT MARKET<br>Total: 0.00185395 USDT - Comm.: 0.00000558 USDT",
          "opacity": 0.6,
          "showarrow": true,
          "x": 194,
          "xref": "x",
          "y": 14296.7622233072,
          "yref": "y"
         },
         {
          "arrowcolor": "DarkGreen",
          "arrowhead": 2,
          "arrowsize": 0.8,
          "arrowwidth": 4,
          "ax": 0,
          "ay": 15,
          "hoverlabel": {
           "bgcolor": "DarkGreen"
          },
          "hovertext": "Step 194 [2025-04-05 00:00:00]<br>BUY 0.00096185 LINK @ 12.85 USDT MARKET<br>Total: 0.01235971 USDT - Comm.: 0.00003719 USDT",
          "opacity": 0.6,
          "showarrow": true,
          "x": 193,
          "xref": "x",
          "y": 16286.645903688997,
          "yref": "y"
         },
         {
          "arrowcolor": "DarkGreen",
          "arrowhead": 2,
          "arrowsize": 0.8,
          "arrowwidth": 4,
          "ax": 0,
          "ay": 15,
          "hoverlabel": {
           "bgcolor": "DarkGreen"
          },
          "hovertext": "Step 193 [2025-04-04 00:00:00]<br>BUY 0.00159193 LINK @ 12.94 USDT MARKET<br>Total: 0.02059951 USDT - Comm.: 0.00006198 USDT",
          "opacity": 0.6,
          "showarrow": true,
          "x": 192,
          "xref": "x",
          "y": 16400.7156420274,
          "yref": "y"
         },
         {
          "arrowcolor": "DarkGreen",
          "arrowhead": 2,
          "arrowsize": 0.8,
          "arrowwidth": 4,
          "ax": 0,
          "ay": 15,
          "hoverlabel": {
           "bgcolor": "DarkGreen"
          },
          "hovertext": "Step 192 [2025-04-03 00:00:00]<br>BUY 0.00266143 LINK @ 12.9 USDT MARKET<br>Total: 0.03433251 USDT - Comm.: 0.00010331 USDT",
          "opacity": 0.6,
          "showarrow": true,
          "x": 191,
          "xref": "x",
          "y": 16350.018175112002,
          "yref": "y"
         },
         {
          "arrowcolor": "DarkGreen",
          "arrowhead": 2,
          "arrowsize": 0.8,
          "arrowwidth": 4,
          "ax": 0,
          "ay": 15,
          "hoverlabel": {
           "bgcolor": "DarkGreen"
          },
          "hovertext": "Step 191 [2025-04-02 00:00:00]<br>BUY 0.00443572 LINK @ 12.9 USDT MARKET<br>Total: 0.05722085 USDT - Comm.: 0.00017218 USDT",
          "opacity": 0.6,
          "showarrow": true,
          "x": 190,
          "xref": "x",
          "y": 16350.018347354,
          "yref": "y"
         },
         {
          "arrowcolor": "DarkGreen",
          "arrowhead": 2,
          "arrowsize": 0.8,
          "arrowwidth": 4,
          "ax": 0,
          "ay": 15,
          "hoverlabel": {
           "bgcolor": "DarkGreen"
          },
          "hovertext": "Step 190 [2025-04-01 00:00:00]<br>BUY 0.0067926 LINK @ 14.04 USDT MARKET<br>Total: 0.09536808 USDT - Comm.: 0.00028697 USDT",
          "opacity": 0.6,
          "showarrow": true,
          "x": 189,
          "xref": "x",
          "y": 17794.891296768397,
          "yref": "y"
         },
         {
          "arrowcolor": "DarkGreen",
          "arrowhead": 2,
          "arrowsize": 0.8,
          "arrowwidth": 4,
          "ax": 0,
          "ay": 15,
          "hoverlabel": {
           "bgcolor": "DarkGreen"
          },
          "hovertext": "Step 189 [2025-03-31 00:00:00]<br>BUY 0.01176512 LINK @ 13.51 USDT MARKET<br>Total: 0.1589468 USDT - Comm.: 0.00047828 USDT",
          "opacity": 0.6,
          "showarrow": true,
          "x": 188,
          "xref": "x",
          "y": 17123.1563303234,
          "yref": "y"
         },
         {
          "arrowcolor": "DarkGreen",
          "arrowhead": 2,
          "arrowsize": 0.8,
          "arrowwidth": 4,
          "ax": 0,
          "ay": 15,
          "hoverlabel": {
           "bgcolor": "DarkGreen"
          },
          "hovertext": "Step 188 [2025-03-30 00:00:00]<br>BUY 0.01975476 LINK @ 13.41 USDT MARKET<br>Total: 0.26491134 USDT - Comm.: 0.00079713 USDT",
          "opacity": 0.6,
          "showarrow": true,
          "x": 187,
          "xref": "x",
          "y": 16996.4157672278,
          "yref": "y"
         },
         {
          "arrowcolor": "DarkGreen",
          "arrowhead": 2,
          "arrowsize": 0.8,
          "arrowwidth": 4,
          "ax": 0,
          "ay": 15,
          "hoverlabel": {
           "bgcolor": "DarkGreen"
          },
          "hovertext": "Step 187 [2025-03-29 00:00:00]<br>BUY 0.03258442 LINK @ 13.55 USDT MARKET<br>Total: 0.44151892 USDT - Comm.: 0.00132854 USDT",
          "opacity": 0.6,
          "showarrow": true,
          "x": 186,
          "xref": "x",
          "y": 17173.852234458,
          "yref": "y"
         },
         {
          "arrowcolor": "DarkGreen",
          "arrowhead": 2,
          "arrowsize": 0.8,
          "arrowwidth": 4,
          "ax": 0,
          "ay": 15,
          "hoverlabel": {
           "bgcolor": "DarkGreen"
          },
          "hovertext": "Step 186 [2025-03-28 00:00:00]<br>BUY 0.00860661 LINK @ 14.25 USDT MARKET<br>Total: 0.12264414 USDT - Comm.: 0.00036904 USDT",
          "opacity": 0.6,
          "showarrow": true,
          "x": 185,
          "xref": "x",
          "y": 18061.005487657498,
          "yref": "y"
         },
         {
          "arrowcolor": "DarkGreen",
          "arrowhead": 2,
          "arrowsize": 0.8,
          "arrowwidth": 4,
          "ax": 0,
          "ay": 15,
          "hoverlabel": {
           "bgcolor": "DarkGreen"
          },
          "hovertext": "Step 185 [2025-03-27 00:00:00]<br>BUY 0.05268219 LINK @ 15.52 USDT MARKET<br>Total: 0.81762762 USDT - Comm.: 0.00246026 USDT",
          "opacity": 0.6,
          "showarrow": true,
          "x": 184,
          "xref": "x",
          "y": 19670.5458217672,
          "yref": "y"
         },
         {
          "arrowcolor": "DarkGreen",
          "arrowhead": 2,
          "arrowsize": 0.8,
          "arrowwidth": 4,
          "ax": 0,
          "ay": 15,
          "hoverlabel": {
           "bgcolor": "DarkGreen"
          },
          "hovertext": "Step 184 [2025-03-26 00:00:00]<br>BUY 0.08941684 LINK @ 15.24 USDT MARKET<br>Total: 1.36271269 USDT - Comm.: 0.00410044 USDT",
          "opacity": 0.6,
          "showarrow": true,
          "x": 183,
          "xref": "x",
          "y": 19315.7059294348,
          "yref": "y"
         },
         {
          "arrowcolor": "DarkGreen",
          "arrowhead": 2,
          "arrowsize": 0.8,
          "arrowwidth": 4,
          "ax": 0,
          "ay": 15,
          "hoverlabel": {
           "bgcolor": "DarkGreen"
          },
          "hovertext": "Step 183 [2025-03-25 00:00:00]<br>BUY 0.14709766 LINK @ 15.44 USDT MARKET<br>Total: 2.27118782 USDT - Comm.: 0.00683407 USDT",
          "opacity": 0.6,
          "showarrow": true,
          "x": 182,
          "xref": "x",
          "y": 19569.1548749584,
          "yref": "y"
         },
         {
          "arrowcolor": "DarkGreen",
          "arrowhead": 2,
          "arrowsize": 0.8,
          "arrowwidth": 4,
          "ax": 0,
          "ay": 15,
          "hoverlabel": {
           "bgcolor": "DarkGreen"
          },
          "hovertext": "Step 182 [2025-03-24 00:00:00]<br>BUY 0.25018592 LINK @ 15.13 USDT MARKET<br>Total: 3.78531304 USDT - Comm.: 0.01139011 USDT",
          "opacity": 0.6,
          "showarrow": true,
          "x": 181,
          "xref": "x",
          "y": 19176.3765925822,
          "yref": "y"
         },
         {
          "arrowcolor": "DarkGreen",
          "arrowhead": 2,
          "arrowsize": 0.8,
          "arrowwidth": 4,
          "ax": 0,
          "ay": 15,
          "hoverlabel": {
           "bgcolor": "DarkGreen"
          },
          "hovertext": "Step 181 [2025-03-23 00:00:00]<br>BUY 0.43599551 LINK @ 14.47 USDT MARKET<br>Total: 6.30885506 USDT - Comm.: 0.01898352 USDT",
          "opacity": 0.6,
          "showarrow": true,
          "x": 180,
          "xref": "x",
          "y": 18340.298815332102,
          "yref": "y"
         },
         {
          "arrowcolor": "DarkGreen",
          "arrowhead": 2,
          "arrowsize": 0.8,
          "arrowwidth": 4,
          "ax": 0,
          "ay": 15,
          "hoverlabel": {
           "bgcolor": "DarkGreen"
          },
          "hovertext": "Step 180 [2025-03-22 00:00:00]<br>BUY 0.12297963 LINK @ 14.25 USDT MARKET<br>Total: 1.75245974 USDT - Comm.: 0.00527320 USDT",
          "opacity": 0.6,
          "showarrow": true,
          "x": 179,
          "xref": "x",
          "y": 18061.70108729,
          "yref": "y"
         },
         {
          "arrowcolor": "DarkGreen",
          "arrowhead": 2,
          "arrowsize": 0.8,
          "arrowwidth": 4,
          "ax": 0,
          "ay": 15,
          "hoverlabel": {
           "bgcolor": "DarkGreen"
          },
          "hovertext": "Step 179 [2025-03-21 00:00:00]<br>BUY 0.8362967 LINK @ 13.97 USDT MARKET<br>Total: 11.68306493 USDT - Comm.: 0.03515466 USDT",
          "opacity": 0.6,
          "showarrow": true,
          "x": 178,
          "xref": "x",
          "y": 17707.185038317002,
          "yref": "y"
         },
         {
          "arrowcolor": "DarkGreen",
          "arrowhead": 2,
          "arrowsize": 0.8,
          "arrowwidth": 4,
          "ax": 0,
          "ay": 15,
          "hoverlabel": {
           "bgcolor": "DarkGreen"
          },
          "hovertext": "Step 178 [2025-03-20 00:00:00]<br>BUY 0.22822052 LINK @ 14.22 USDT MARKET<br>Total: 3.24529582 USDT - Comm.: 0.00976518 USDT",
          "opacity": 0.6,
          "showarrow": true,
          "x": 177,
          "xref": "x",
          "y": 18023.549304047603,
          "yref": "y"
         },
         {
          "arrowcolor": "DarkGreen",
          "arrowhead": 2,
          "arrowsize": 0.8,
          "arrowwidth": 4,
          "ax": 0,
          "ay": 15,
          "hoverlabel": {
           "bgcolor": "DarkGreen"
          },
          "hovertext": "Step 177 [2025-03-19 00:00:00]<br>BUY 0.23991246 LINK @ 15.03 USDT MARKET<br>Total: 3.60588424 USDT - Comm.: 0.01085020 USDT",
          "opacity": 0.6,
          "showarrow": true,
          "x": 176,
          "xref": "x",
          "y": 19048.363877293596,
          "yref": "y"
         },
         {
          "arrowcolor": "DarkGreen",
          "arrowhead": 2,
          "arrowsize": 0.8,
          "arrowwidth": 4,
          "ax": 0,
          "ay": 15,
          "hoverlabel": {
           "bgcolor": "DarkGreen"
          },
          "hovertext": "Step 176 [2025-03-18 00:00:00]<br>BUY 1.72819757 LINK @ 13.91 USDT MARKET<br>Total: 24.03922826 USDT - Comm.: 0.07233469 USDT",
          "opacity": 0.6,
          "showarrow": true,
          "x": 175,
          "xref": "x",
          "y": 17631.692358630502,
          "yref": "y"
         },
         {
          "arrowcolor": "DarkGreen",
          "arrowhead": 2,
          "arrowsize": 0.8,
          "arrowwidth": 4,
          "ax": 0,
          "ay": 15,
          "hoverlabel": {
           "bgcolor": "DarkGreen"
          },
          "hovertext": "Step 175 [2025-03-17 00:00:00]<br>BUY 2.85569354 LINK @ 14.03 USDT MARKET<br>Total: 40.06538043 USDT - Comm.: 0.12055781 USDT",
          "opacity": 0.6,
          "showarrow": true,
          "x": 174,
          "xref": "x",
          "y": 17783.3995170903,
          "yref": "y"
         },
         {
          "arrowcolor": "DarkGreen",
          "arrowhead": 2,
          "arrowsize": 0.8,
          "arrowwidth": 4,
          "ax": 0,
          "ay": 15,
          "hoverlabel": {
           "bgcolor": "DarkGreen"
          },
          "hovertext": "Step 174 [2025-03-16 00:00:00]<br>BUY 4.99443785 LINK @ 13.37 USDT MARKET<br>Total: 66.77563405 USDT - Comm.: 0.20092969 USDT",
          "opacity": 0.6,
          "showarrow": true,
          "x": 173,
          "xref": "x",
          "y": 16951.758901289202,
          "yref": "y"
         },
         {
          "arrowcolor": "DarkGreen",
          "arrowhead": 2,
          "arrowsize": 0.8,
          "arrowwidth": 4,
          "ax": 0,
          "ay": 15,
          "hoverlabel": {
           "bgcolor": "DarkGreen"
          },
          "hovertext": "Step 173 [2025-03-15 00:00:00]<br>BUY 7.9438061 LINK @ 14.01 USDT MARKET<br>Total: 111.29272342 USDT - Comm.: 0.33488282 USDT",
          "opacity": 0.6,
          "showarrow": true,
          "x": 172,
          "xref": "x",
          "y": 17755.5315697706,
          "yref": "y"
         },
         {
          "arrowcolor": "DarkGreen",
          "arrowhead": 2,
          "arrowsize": 0.8,
          "arrowwidth": 4,
          "ax": 0,
          "ay": 15,
          "hoverlabel": {
           "bgcolor": "DarkGreen"
          },
          "hovertext": "Step 172 [2025-03-14 00:00:00]<br>BUY 13.5789072 LINK @ 13.66 USDT MARKET<br>Total: 185.48787237 USDT - Comm.: 0.55813803 USDT",
          "opacity": 0.6,
          "showarrow": true,
          "x": 171,
          "xref": "x",
          "y": 17319.490000897596,
          "yref": "y"
         },
         {
          "arrowcolor": "DarkGreen",
          "arrowhead": 2,
          "arrowsize": 0.8,
          "arrowwidth": 4,
          "ax": 0,
          "ay": 15,
          "hoverlabel": {
           "bgcolor": "DarkGreen"
          },
          "hovertext": "Step 171 [2025-03-13 00:00:00]<br>BUY 23.70755015 LINK @ 13.04 USDT MARKET<br>Total: 309.14645395 USDT - Comm.: 0.93023005 USDT",
          "opacity": 0.6,
          "showarrow": true,
          "x": 170,
          "xref": "x",
          "y": 16555.4339582884,
          "yref": "y"
         },
         {
          "arrowcolor": "DarkGreen",
          "arrowhead": 2,
          "arrowsize": 0.8,
          "arrowwidth": 4,
          "ax": 0,
          "ay": 15,
          "hoverlabel": {
           "bgcolor": "DarkGreen"
          },
          "hovertext": "Step 170 [2025-03-12 00:00:00]<br>BUY 38.19452112 LINK @ 13.49 USDT MARKET<br>Total: 515.24408991 USDT - Comm.: 1.55038342 USDT",
          "opacity": 0.6,
          "showarrow": true,
          "x": 169,
          "xref": "x",
          "y": 17101.5479162291,
          "yref": "y"
         },
         {
          "arrowcolor": "DarkGreen",
          "arrowhead": 2,
          "arrowsize": 0.8,
          "arrowwidth": 4,
          "ax": 0,
          "ay": 15,
          "hoverlabel": {
           "bgcolor": "DarkGreen"
          },
          "hovertext": "Step 169 [2025-03-11 00:00:00]<br>BUY 65.40290555 LINK @ 13.13 USDT MARKET<br>Total: 858.74014984 USDT - Comm.: 2.58397237 USDT",
          "opacity": 0.6,
          "showarrow": true,
          "x": 168,
          "xref": "x",
          "y": 16682.231056555203,
          "yref": "y"
         },
         {
          "arrowcolor": "FireBrick",
          "arrowhead": 2,
          "arrowsize": 0.8,
          "arrowwidth": 4,
          "ax": 0,
          "ay": -15,
          "hoverlabel": {
           "bgcolor": "FireBrick"
          },
          "hovertext": "Step 168 [2025-03-10 00:00:00]<br>SELL 122.58046872 LINK @ 12.65 USDT MARKET<br>Total: 1550.64292931 USDT - Comm.: 0.36884795 LINK",
          "opacity": 0.6,
          "showarrow": true,
          "x": 167,
          "xref": "x",
          "y": 16155.7559351015,
          "yref": "y"
         },
         {
          "arrowcolor": "DarkGreen",
          "arrowhead": 2,
          "arrowsize": 0.8,
          "arrowwidth": 4,
          "ax": 0,
          "ay": 15,
          "hoverlabel": {
           "bgcolor": "DarkGreen"
          },
          "hovertext": "Step 167 [2025-03-09 00:00:00]<br>BUY 29.00600406 LINK @ 13.81 USDT MARKET<br>Total: 400.57291606 USDT - Comm.: 1.20533475 USDT",
          "opacity": 0.6,
          "showarrow": true,
          "x": 166,
          "xref": "x",
          "y": 17583.173343226503,
          "yref": "y"
         },
         {
          "arrowcolor": "DarkGreen",
          "arrowhead": 2,
          "arrowsize": 0.8,
          "arrowwidth": 4,
          "ax": 0,
          "ay": 15,
          "hoverlabel": {
           "bgcolor": "DarkGreen"
          },
          "hovertext": "Step 166 [2025-03-08 00:00:00]<br>BUY 7.29162873 LINK @ 15.26 USDT MARKET<br>Total: 111.27025446 USDT - Comm.: 0.33481521 USDT",
          "opacity": 0.6,
          "showarrow": true,
          "x": 165,
          "xref": "x",
          "y": 19324.2145443192,
          "yref": "y"
         },
         {
          "arrowcolor": "DarkGreen",
          "arrowhead": 2,
          "arrowsize": 0.8,
          "arrowwidth": 4,
          "ax": 0,
          "ay": 15,
          "hoverlabel": {
           "bgcolor": "DarkGreen"
          },
          "hovertext": "Step 165 [2025-03-07 00:00:00]<br>BUY 46.53712023 LINK @ 15.94 USDT MARKET<br>Total: 741.80169641 USDT - Comm.: 2.23210139 USDT",
          "opacity": 0.6,
          "showarrow": true,
          "x": 164,
          "xref": "x",
          "y": 20137.8196087186,
          "yref": "y"
         },
         {
          "arrowcolor": "DarkGreen",
          "arrowhead": 2,
          "arrowsize": 0.8,
          "arrowwidth": 4,
          "ax": 0,
          "ay": 15,
          "hoverlabel": {
           "bgcolor": "DarkGreen"
          },
          "hovertext": "Step 164 [2025-03-06 00:00:00]<br>BUY 12.07831341 LINK @ 17.06 USDT MARKET<br>Total: 206.05602678 USDT - Comm.: 0.62002816 USDT",
          "opacity": 0.6,
          "showarrow": true,
          "x": 163,
          "xref": "x",
          "y": 21422.697060216797,
          "yref": "y"
         },
         {
          "arrowcolor": "DarkGreen",
          "arrowhead": 2,
          "arrowsize": 0.8,
          "arrowwidth": 4,
          "ax": 0,
          "ay": 15,
          "hoverlabel": {
           "bgcolor": "DarkGreen"
          },
          "hovertext": "Step 163 [2025-03-05 00:00:00]<br>BUY 83.609668 LINK @ 16.43 USDT MARKET<br>Total: 1373.7068452 USDT - Comm.: 4.13352110 USDT",
          "opacity": 0.6,
          "showarrow": true,
          "x": 162,
          "xref": "x",
          "y": 20712.045118100403,
          "yref": "y"
         },
         {
          "arrowcolor": "FireBrick",
          "arrowhead": 2,
          "arrowsize": 0.8,
          "arrowwidth": 4,
          "ax": 0,
          "ay": -15,
          "hoverlabel": {
           "bgcolor": "FireBrick"
          },
          "hovertext": "Step 162 [2025-03-04 00:00:00]<br>SELL 116.424169 LINK @ 14.86 USDT MARKET<br>Total: 1730.06315134 USDT - Comm.: 0.35032348 LINK",
          "opacity": 0.6,
          "showarrow": true,
          "x": 161,
          "xref": "x",
          "y": 19067.2273463336,
          "yref": "y"
         },
         {
          "arrowcolor": "DarkGreen",
          "arrowhead": 2,
          "arrowsize": 0.8,
          "arrowwidth": 4,
          "ax": 0,
          "ay": 15,
          "hoverlabel": {
           "bgcolor": "DarkGreen"
          },
          "hovertext": "Step 161 [2025-03-03 00:00:00]<br>BUY 78.8102421 LINK @ 14.46 USDT MARKET<br>Total: 1139.59610073 USDT - Comm.: 3.42907553 USDT",
          "opacity": 0.6,
          "showarrow": true,
          "x": 160,
          "xref": "x",
          "y": 18603.5584519236,
          "yref": "y"
         },
         {
          "arrowcolor": "DarkGreen",
          "arrowhead": 2,
          "arrowsize": 0.8,
          "arrowwidth": 4,
          "ax": 0,
          "ay": 15,
          "hoverlabel": {
           "bgcolor": "DarkGreen"
          },
          "hovertext": "Step 160 [2025-03-02 00:00:00]<br>BUY 109.03139119 LINK @ 17.42 USDT MARKET<br>Total: 1899.32683456 USDT - Comm.: 5.71512588 USDT",
          "opacity": 0.6,
          "showarrow": true,
          "x": 159,
          "xref": "x",
          "y": 21832.5202385074,
          "yref": "y"
         },
         {
          "arrowcolor": "DarkGreen",
          "arrowhead": 2,
          "arrowsize": 0.8,
          "arrowwidth": 4,
          "ax": 0,
          "ay": 15,
          "hoverlabel": {
           "bgcolor": "DarkGreen"
          },
          "hovertext": "Step 159 [2025-03-01 00:00:00]<br>BUY 214.61320165 LINK @ 14.75 USDT MARKET<br>Total: 3165.54472427 USDT - Comm.: 9.52520980 USDT",
          "opacity": 0.6,
          "showarrow": true,
          "x": 158,
          "xref": "x",
          "y": 19225.703660015002,
          "yref": "y"
         },
         {
          "arrowcolor": "DarkGreen",
          "arrowhead": 2,
          "arrowsize": 0.8,
          "arrowwidth": 4,
          "ax": 0,
          "ay": 15,
          "hoverlabel": {
           "bgcolor": "DarkGreen"
          },
          "hovertext": "Step 158 [2025-02-28 00:00:00]<br>BUY 59.37325989 LINK @ 14.81 USDT MARKET<br>Total: 879.31797896 USDT - Comm.: 2.64589161 USDT",
          "opacity": 0.6,
          "showarrow": true,
          "x": 157,
          "xref": "x",
          "y": 19274.2669570033,
          "yref": "y"
         },
         {
          "arrowcolor": "DarkGreen",
          "arrowhead": 2,
          "arrowsize": 0.8,
          "arrowwidth": 4,
          "ax": 0,
          "ay": 15,
          "hoverlabel": {
           "bgcolor": "DarkGreen"
          },
          "hovertext": "Step 157 [2025-02-27 00:00:00]<br>BUY 64.70330971 LINK @ 15.1 USDT MARKET<br>Total: 977.01997662 USDT - Comm.: 2.93987957 USDT",
          "opacity": 0.6,
          "showarrow": true,
          "x": 156,
          "xref": "x",
          "y": 19481.922717252,
          "yref": "y"
         },
         {
          "arrowcolor": "DarkGreen",
          "arrowhead": 2,
          "arrowsize": 0.8,
          "arrowwidth": 4,
          "ax": 0,
          "ay": 15,
          "hoverlabel": {
           "bgcolor": "DarkGreen"
          },
          "hovertext": "Step 156 [2025-02-26 00:00:00]<br>BUY 426.83266781 LINK @ 15.26 USDT MARKET<br>Total: 6513.46651084 USDT - Comm.: 19.59919712 USDT",
          "opacity": 0.6,
          "showarrow": true,
          "x": 155,
          "xref": "x",
          "y": 19604.1160776666,
          "yref": "y"
         },
         {
          "arrowcolor": "FireBrick",
          "arrowhead": 2,
          "arrowsize": 0.8,
          "arrowwidth": 4,
          "ax": 0,
          "ay": -15,
          "hoverlabel": {
           "bgcolor": "FireBrick"
          },
          "hovertext": "Step 155 [2025-02-25 00:00:00]<br>SELL 23.74863443 LINK @ 15.31 USDT MARKET<br>Total: 363.59159312 USDT - Comm.: 0.07146028 LINK",
          "opacity": 0.6,
          "showarrow": true,
          "x": 154,
          "xref": "x",
          "y": 19615.9291771772,
          "yref": "y"
         },
         {
          "arrowcolor": "DarkGreen",
          "arrowhead": 2,
          "arrowsize": 0.8,
          "arrowwidth": 4,
          "ax": 0,
          "ay": 15,
          "hoverlabel": {
           "bgcolor": "DarkGreen"
          },
          "hovertext": "Step 154 [2025-02-24 00:00:00]<br>BUY 115.92518901 LINK @ 15.26 USDT MARKET<br>Total: 1769.0183843 USDT - Comm.: 5.32302423 USDT",
          "opacity": 0.6,
          "showarrow": true,
          "x": 153,
          "xref": "x",
          "y": 19609.3421540586,
          "yref": "y"
         },
         {
          "arrowcolor": "FireBrick",
          "arrowhead": 2,
          "arrowsize": 0.8,
          "arrowwidth": 4,
          "ax": 0,
          "ay": -15,
          "hoverlabel": {
           "bgcolor": "FireBrick"
          },
          "hovertext": "Step 153 [2025-02-23 00:00:00]<br>SELL 13.54543676 LINK @ 17.62 USDT MARKET<br>Total: 238.67059571 USDT - Comm.: 0.04075859 LINK",
          "opacity": 0.6,
          "showarrow": true,
          "x": 152,
          "xref": "x",
          "y": 19898.6311095552,
          "yref": "y"
         },
         {
          "arrowcolor": "FireBrick",
          "arrowhead": 2,
          "arrowsize": 0.8,
          "arrowwidth": 4,
          "ax": 0,
          "ay": -15,
          "hoverlabel": {
           "bgcolor": "FireBrick"
          },
          "hovertext": "Step 152 [2025-02-22 00:00:00]<br>SELL 15.05048529 LINK @ 17.76 USDT MARKET<br>Total: 267.29661875 USDT - Comm.: 0.04528732 LINK",
          "opacity": 0.6,
          "showarrow": true,
          "x": 151,
          "xref": "x",
          "y": 19918.4560858432,
          "yref": "y"
         },
         {
          "arrowcolor": "FireBrick",
          "arrowhead": 2,
          "arrowsize": 0.8,
          "arrowwidth": 4,
          "ax": 0,
          "ay": -15,
          "hoverlabel": {
           "bgcolor": "FireBrick"
          },
          "hovertext": "Step 151 [2025-02-21 00:00:00]<br>SELL 16.72276143 LINK @ 17.43 USDT MARKET<br>Total: 291.47773172 USDT - Comm.: 0.05031924 LINK",
          "opacity": 0.6,
          "showarrow": true,
          "x": 150,
          "xref": "x",
          "y": 19869.517100598197,
          "yref": "y"
         },
         {
          "arrowcolor": "FireBrick",
          "arrowhead": 2,
          "arrowsize": 0.8,
          "arrowwidth": 4,
          "ax": 0,
          "ay": -15,
          "hoverlabel": {
           "bgcolor": "FireBrick"
          },
          "hovertext": "Step 150 [2025-02-20 00:00:00]<br>SELL 18.58084603 LINK @ 18.28 USDT MARKET<br>Total: 339.65786543 USDT - Comm.: 0.05591027 LINK",
          "opacity": 0.6,
          "showarrow": true,
          "x": 149,
          "xref": "x",
          "y": 20013.1103260612,
          "yref": "y"
         },
         {
          "arrowcolor": "FireBrick",
          "arrowhead": 2,
          "arrowsize": 0.8,
          "arrowwidth": 4,
          "ax": 0,
          "ay": -15,
          "hoverlabel": {
           "bgcolor": "FireBrick"
          },
          "hovertext": "Step 149 [2025-02-19 00:00:00]<br>SELL 20.64538448 LINK @ 17.98 USDT MARKET<br>Total: 371.20401295 USDT - Comm.: 0.06212252 LINK",
          "opacity": 0.6,
          "showarrow": true,
          "x": 148,
          "xref": "x",
          "y": 19958.3170200592,
          "yref": "y"
         },
         {
          "arrowcolor": "FireBrick",
          "arrowhead": 2,
          "arrowsize": 0.8,
          "arrowwidth": 4,
          "ax": 0,
          "ay": -15,
          "hoverlabel": {
           "bgcolor": "FireBrick"
          },
          "hovertext": "Step 148 [2025-02-18 00:00:00]<br>SELL 22.9393161 LINK @ 17.88 USDT MARKET<br>Total: 410.15497187 USDT - Comm.: 0.06902502 LINK",
          "opacity": 0.6,
          "showarrow": true,
          "x": 147,
          "xref": "x",
          "y": 19938.8436804108,
          "yref": "y"
         },
         {
          "arrowcolor": "FireBrick",
          "arrowhead": 2,
          "arrowsize": 0.8,
          "arrowwidth": 4,
          "ax": 0,
          "ay": -15,
          "hoverlabel": {
           "bgcolor": "FireBrick"
          },
          "hovertext": "Step 147 [2025-02-17 00:00:00]<br>SELL 25.48812899 LINK @ 19.12 USDT MARKET<br>Total: 487.33302629 USDT - Comm.: 0.07669447 LINK",
          "opacity": 0.6,
          "showarrow": true,
          "x": 146,
          "xref": "x",
          "y": 20225.613508514398,
          "yref": "y"
         },
         {
          "arrowcolor": "FireBrick",
          "arrowhead": 2,
          "arrowsize": 0.8,
          "arrowwidth": 4,
          "ax": 0,
          "ay": -15,
          "hoverlabel": {
           "bgcolor": "FireBrick"
          },
          "hovertext": "Step 146 [2025-02-16 00:00:00]<br>SELL 28.32014332 LINK @ 18.69 USDT MARKET<br>Total: 529.30347865 USDT - Comm.: 0.08521608 LINK",
          "opacity": 0.6,
          "showarrow": true,
          "x": 145,
          "xref": "x",
          "y": 20117.2774561638,
          "yref": "y"
         },
         {
          "arrowcolor": "FireBrick",
          "arrowhead": 2,
          "arrowsize": 0.8,
          "arrowwidth": 4,
          "ax": 0,
          "ay": -15,
          "hoverlabel": {
           "bgcolor": "FireBrick"
          },
          "hovertext": "Step 145 [2025-02-15 00:00:00]<br>SELL 31.46682592 LINK @ 18.99 USDT MARKET<br>Total: 597.55502422 USDT - Comm.: 0.09468453 LINK",
          "opacity": 0.6,
          "showarrow": true,
          "x": 144,
          "xref": "x",
          "y": 20204.2915935953,
          "yref": "y"
         },
         {
          "arrowcolor": "FireBrick",
          "arrowhead": 2,
          "arrowsize": 0.8,
          "arrowwidth": 4,
          "ax": 0,
          "ay": -15,
          "hoverlabel": {
           "bgcolor": "FireBrick"
          },
          "hovertext": "Step 144 [2025-02-14 00:00:00]<br>SELL 34.96313991 LINK @ 19.38 USDT MARKET<br>Total: 677.58565146 USDT - Comm.: 0.10520503 LINK",
          "opacity": 0.6,
          "showarrow": true,
          "x": 143,
          "xref": "x",
          "y": 20329.420357815798,
          "yref": "y"
         },
         {
          "arrowcolor": "FireBrick",
          "arrowhead": 2,
          "arrowsize": 0.8,
          "arrowwidth": 4,
          "ax": 0,
          "ay": -15,
          "hoverlabel": {
           "bgcolor": "FireBrick"
          },
          "hovertext": "Step 143 [2025-02-13 00:00:00]<br>SELL 38.84793323 LINK @ 18.56 USDT MARKET<br>Total: 721.01764075 USDT - Comm.: 0.11689448 LINK",
          "opacity": 0.6,
          "showarrow": true,
          "x": 142,
          "xref": "x",
          "y": 20044.0294908472,
          "yref": "y"
         },
         {
          "arrowcolor": "FireBrick",
          "arrowhead": 2,
          "arrowsize": 0.8,
          "arrowwidth": 4,
          "ax": 0,
          "ay": -15,
          "hoverlabel": {
           "bgcolor": "FireBrick"
          },
          "hovertext": "Step 142 [2025-02-12 00:00:00]<br>SELL 43.16437025 LINK @ 19.2 USDT MARKET<br>Total: 828.7559088 USDT - Comm.: 0.12988276 LINK",
          "opacity": 0.6,
          "showarrow": true,
          "x": 141,
          "xref": "x",
          "y": 20295.898137196,
          "yref": "y"
         },
         {
          "arrowcolor": "FireBrick",
          "arrowhead": 2,
          "arrowsize": 0.8,
          "arrowwidth": 4,
          "ax": 0,
          "ay": -15,
          "hoverlabel": {
           "bgcolor": "FireBrick"
          },
          "hovertext": "Step 141 [2025-02-11 00:00:00]<br>SELL 47.96041139 LINK @ 18.66 USDT MARKET<br>Total: 894.94127654 USDT - Comm.: 0.14431418 LINK",
          "opacity": 0.6,
          "showarrow": true,
          "x": 140,
          "xref": "x",
          "y": 20064.802073521998,
          "yref": "y"
         },
         {
          "arrowcolor": "FireBrick",
          "arrowhead": 2,
          "arrowsize": 0.8,
          "arrowwidth": 4,
          "ax": 0,
          "ay": -15,
          "hoverlabel": {
           "bgcolor": "FireBrick"
          },
          "hovertext": "Step 140 [2025-02-10 00:00:00]<br>SELL 53.28934599 LINK @ 18.81 USDT MARKET<br>Total: 1002.37259807 USDT - Comm.: 0.16034909 LINK",
          "opacity": 0.6,
          "showarrow": true,
          "x": 139,
          "xref": "x",
          "y": 20139.9753282618,
          "yref": "y"
         },
         {
          "arrowcolor": "FireBrick",
          "arrowhead": 2,
          "arrowsize": 0.8,
          "arrowwidth": 4,
          "ax": 0,
          "ay": -15,
          "hoverlabel": {
           "bgcolor": "FireBrick"
          },
          "hovertext": "Step 139 [2025-02-09 00:00:00]<br>SELL 59.21038444 LINK @ 18.26 USDT MARKET<br>Total: 1081.18161987 USDT - Comm.: 0.17816565 LINK",
          "opacity": 0.6,
          "showarrow": true,
          "x": 138,
          "xref": "x",
          "y": 19849.2553101062,
          "yref": "y"
         },
         {
          "arrowcolor": "FireBrick",
          "arrowhead": 2,
          "arrowsize": 0.8,
          "arrowwidth": 4,
          "ax": 0,
          "ay": -15,
          "hoverlabel": {
           "bgcolor": "FireBrick"
          },
          "hovertext": "Step 138 [2025-02-08 00:00:00]<br>SELL 65.78931605 LINK @ 18.45 USDT MARKET<br>Total: 1213.81288112 USDT - Comm.: 0.19796183 LINK",
          "opacity": 0.6,
          "showarrow": true,
          "x": 137,
          "xref": "x",
          "y": 19965.745951037497,
          "yref": "y"
         },
         {
          "arrowcolor": "FireBrick",
          "arrowhead": 2,
          "arrowsize": 0.8,
          "arrowwidth": 4,
          "ax": 0,
          "ay": -15,
          "hoverlabel": {
           "bgcolor": "FireBrick"
          },
          "hovertext": "Step 137 [2025-02-07 00:00:00]<br>SELL 73.09924005 LINK @ 18.39 USDT MARKET<br>Total: 1344.29502452 USDT - Comm.: 0.21995759 LINK",
          "opacity": 0.6,
          "showarrow": true,
          "x": 136,
          "xref": "x",
          "y": 19930.198604392102,
          "yref": "y"
         },
         {
          "arrowcolor": "FireBrick",
          "arrowhead": 2,
          "arrowsize": 0.8,
          "arrowwidth": 4,
          "ax": 0,
          "ay": -15,
          "hoverlabel": {
           "bgcolor": "FireBrick"
          },
          "hovertext": "Step 136 [2025-02-06 00:00:00]<br>SELL 81.22137783 LINK @ 18.58 USDT MARKET<br>Total: 1509.09320008 USDT - Comm.: 0.24439733 LINK",
          "opacity": 0.6,
          "showarrow": true,
          "x": 135,
          "xref": "x",
          "y": 20074.045982298998,
          "yref": "y"
         },
         {
          "arrowcolor": "FireBrick",
          "arrowhead": 2,
          "arrowsize": 0.8,
          "arrowwidth": 4,
          "ax": 0,
          "ay": -15,
          "hoverlabel": {
           "bgcolor": "FireBrick"
          },
          "hovertext": "Step 135 [2025-02-05 00:00:00]<br>SELL 90.24597537 LINK @ 19.19 USDT MARKET<br>Total: 1731.82026735 USDT - Comm.: 0.27155258 LINK",
          "opacity": 0.6,
          "showarrow": true,
          "x": 134,
          "xref": "x",
          "y": 20576.198304755002,
          "yref": "y"
         },
         {
          "arrowcolor": "DarkGreen",
          "arrowhead": 2,
          "arrowsize": 0.8,
          "arrowwidth": 4,
          "ax": 0,
          "ay": 15,
          "hoverlabel": {
           "bgcolor": "DarkGreen"
          },
          "hovertext": "Step 134 [2025-02-04 00:00:00]<br>BUY 17.78371467 LINK @ 19.97 USDT MARKET<br>Total: 355.1407819 USDT - Comm.: 1.06862823 USDT",
          "opacity": 0.6,
          "showarrow": true,
          "x": 133,
          "xref": "x",
          "y": 21283.303650935097,
          "yref": "y"
         },
         {
          "arrowcolor": "FireBrick",
          "arrowhead": 2,
          "arrowsize": 0.8,
          "arrowwidth": 4,
          "ax": 0,
          "ay": -15,
          "hoverlabel": {
           "bgcolor": "FireBrick"
          },
          "hovertext": "Step 133 [2025-02-03 00:00:00]<br>SELL 98.30326557 LINK @ 21.64 USDT MARKET<br>Total: 2127.28266693 USDT - Comm.: 0.29579719 LINK",
          "opacity": 0.6,
          "showarrow": true,
          "x": 132,
          "xref": "x",
          "y": 22771.6486153976,
          "yref": "y"
         },
         {
          "arrowcolor": "DarkGreen",
          "arrowhead": 2,
          "arrowsize": 0.8,
          "arrowwidth": 4,
          "ax": 0,
          "ay": 15,
          "hoverlabel": {
           "bgcolor": "DarkGreen"
          },
          "hovertext": "Step 132 [2025-02-02 00:00:00]<br>BUY 46.61150212 LINK @ 20.46 USDT MARKET<br>Total: 953.67133337 USDT - Comm.: 2.86962287 USDT",
          "opacity": 0.6,
          "showarrow": true,
          "x": 131,
          "xref": "x",
          "y": 21611.0492977062,
          "yref": "y"
         },
         {
          "arrowcolor": "FireBrick",
          "arrowhead": 2,
          "arrowsize": 0.8,
          "arrowwidth": 4,
          "ax": 0,
          "ay": -15,
          "hoverlabel": {
           "bgcolor": "FireBrick"
          },
          "hovertext": "Step 131 [2025-02-01 00:00:00]<br>SELL 104.06233201 LINK @ 22.98 USDT MARKET<br>Total: 2391.35238959 USDT - Comm.: 0.31312638 LINK",
          "opacity": 0.6,
          "showarrow": true,
          "x": 130,
          "xref": "x",
          "y": 23985.4803381028,
          "yref": "y"
         },
         {
          "arrowcolor": "DarkGreen",
          "arrowhead": 2,
          "arrowsize": 0.8,
          "arrowwidth": 4,
          "ax": 0,
          "ay": 15,
          "hoverlabel": {
           "bgcolor": "DarkGreen"
          },
          "hovertext": "Step 130 [2025-01-31 00:00:00]<br>BUY 3e-08 LINK @ 25.17 USDT MARKET<br>Total: 6.5e-07 USDT - Comm.: 0.00000001 USDT",
          "opacity": 0.6,
          "showarrow": true,
          "x": 129,
          "xref": "x",
          "y": 26271.302876661102,
          "yref": "y"
         },
         {
          "arrowcolor": "DarkGreen",
          "arrowhead": 2,
          "arrowsize": 0.8,
          "arrowwidth": 4,
          "ax": 0,
          "ay": 15,
          "hoverlabel": {
           "bgcolor": "DarkGreen"
          },
          "hovertext": "Step 129 [2025-01-30 00:00:00]<br>BUY 1e-08 LINK @ 24.46 USDT MARKET<br>Total: 1.8e-07 USDT - Comm.: 0.00000001 USDT",
          "opacity": 0.6,
          "showarrow": true,
          "x": 128,
          "xref": "x",
          "y": 25530.237122087205,
          "yref": "y"
         },
         {
          "arrowcolor": "DarkGreen",
          "arrowhead": 2,
          "arrowsize": 0.8,
          "arrowwidth": 4,
          "ax": 0,
          "ay": 15,
          "hoverlabel": {
           "bgcolor": "DarkGreen"
          },
          "hovertext": "Step 128 [2025-01-29 00:00:00]<br>BUY 5e-08 LINK @ 23.66 USDT MARKET<br>Total: 1.22e-06 USDT - Comm.: 0.00000001 USDT",
          "opacity": 0.6,
          "showarrow": true,
          "x": 127,
          "xref": "x",
          "y": 24695.2334550782,
          "yref": "y"
         },
         {
          "arrowcolor": "DarkGreen",
          "arrowhead": 2,
          "arrowsize": 0.8,
          "arrowwidth": 4,
          "ax": 0,
          "ay": 15,
          "hoverlabel": {
           "bgcolor": "DarkGreen"
          },
          "hovertext": "Step 127 [2025-01-28 00:00:00]<br>BUY 9e-08 LINK @ 22.61 USDT MARKET<br>Total: 2.05e-06 USDT - Comm.: 0.00000001 USDT",
          "opacity": 0.6,
          "showarrow": true,
          "x": 126,
          "xref": "x",
          "y": 23599.291142144797,
          "yref": "y"
         },
         {
          "arrowcolor": "DarkGreen",
          "arrowhead": 2,
          "arrowsize": 0.8,
          "arrowwidth": 4,
          "ax": 0,
          "ay": 15,
          "hoverlabel": {
           "bgcolor": "DarkGreen"
          },
          "hovertext": "Step 126 [2025-01-27 00:00:00]<br>BUY 1.4e-07 LINK @ 24.21 USDT MARKET<br>Total: 3.41e-06 USDT - Comm.: 0.00000001 USDT",
          "opacity": 0.6,
          "showarrow": true,
          "x": 125,
          "xref": "x",
          "y": 25269.298476063403,
          "yref": "y"
         },
         {
          "arrowcolor": "DarkGreen",
          "arrowhead": 2,
          "arrowsize": 0.8,
          "arrowwidth": 4,
          "ax": 0,
          "ay": 15,
          "hoverlabel": {
           "bgcolor": "DarkGreen"
          },
          "hovertext": "Step 125 [2025-01-26 00:00:00]<br>BUY 4e-08 LINK @ 24.88 USDT MARKET<br>Total: 9.4e-07 USDT - Comm.: 0.00000001 USDT",
          "opacity": 0.6,
          "showarrow": true,
          "x": 124,
          "xref": "x",
          "y": 25968.614046990002,
          "yref": "y"
         },
         {
          "arrowcolor": "DarkGreen",
          "arrowhead": 2,
          "arrowsize": 0.8,
          "arrowwidth": 4,
          "ax": 0,
          "ay": 15,
          "hoverlabel": {
           "bgcolor": "DarkGreen"
          },
          "hovertext": "Step 124 [2025-01-25 00:00:00]<br>BUY 2.5e-07 LINK @ 24.93 USDT MARKET<br>Total: 6.32e-06 USDT - Comm.: 0.00000002 USDT",
          "opacity": 0.6,
          "showarrow": true,
          "x": 123,
          "xref": "x",
          "y": 26020.8017762725,
          "yref": "y"
         },
         {
          "arrowcolor": "DarkGreen",
          "arrowhead": 2,
          "arrowsize": 0.8,
          "arrowwidth": 4,
          "ax": 0,
          "ay": 15,
          "hoverlabel": {
           "bgcolor": "DarkGreen"
          },
          "hovertext": "Step 123 [2025-01-24 00:00:00]<br>BUY 4.2e-07 LINK @ 25.18 USDT MARKET<br>Total: 1.054e-05 USDT - Comm.: 0.00000003 USDT",
          "opacity": 0.6,
          "showarrow": true,
          "x": 122,
          "xref": "x",
          "y": 26281.740422079394,
          "yref": "y"
         },
         {
          "arrowcolor": "DarkGreen",
          "arrowhead": 2,
          "arrowsize": 0.8,
          "arrowwidth": 4,
          "ax": 0,
          "ay": 15,
          "hoverlabel": {
           "bgcolor": "DarkGreen"
          },
          "hovertext": "Step 122 [2025-01-23 00:00:00]<br>BUY 6.8e-07 LINK @ 25.65 USDT MARKET<br>Total: 1.756e-05 USDT - Comm.: 0.00000005 USDT",
          "opacity": 0.6,
          "showarrow": true,
          "x": 121,
          "xref": "x",
          "y": 26772.305076177498,
          "yref": "y"
         },
         {
          "arrowcolor": "DarkGreen",
          "arrowhead": 2,
          "arrowsize": 0.8,
          "arrowwidth": 4,
          "ax": 0,
          "ay": 15,
          "hoverlabel": {
           "bgcolor": "DarkGreen"
          },
          "hovertext": "Step 121 [2025-01-22 00:00:00]<br>BUY 1.16e-06 LINK @ 25.3 USDT MARKET<br>Total: 2.926e-05 USDT - Comm.: 0.00000009 USDT",
          "opacity": 0.6,
          "showarrow": true,
          "x": 120,
          "xref": "x",
          "y": 26406.990972427004,
          "yref": "y"
         },
         {
          "arrowcolor": "DarkGreen",
          "arrowhead": 2,
          "arrowsize": 0.8,
          "arrowwidth": 4,
          "ax": 0,
          "ay": 15,
          "hoverlabel": {
           "bgcolor": "DarkGreen"
          },
          "hovertext": "Step 120 [2025-01-21 00:00:00]<br>BUY 1.83e-06 LINK @ 26.67 USDT MARKET<br>Total: 4.877e-05 USDT - Comm.: 0.00000015 USDT",
          "opacity": 0.6,
          "showarrow": true,
          "x": 119,
          "xref": "x",
          "y": 27836.934748497202,
          "yref": "y"
         },
         {
          "arrowcolor": "DarkGreen",
          "arrowhead": 2,
          "arrowsize": 0.8,
          "arrowwidth": 4,
          "ax": 0,
          "ay": 15,
          "hoverlabel": {
           "bgcolor": "DarkGreen"
          },
          "hovertext": "Step 119 [2025-01-20 00:00:00]<br>BUY 3.24e-06 LINK @ 25.09 USDT MARKET<br>Total: 8.13e-05 USDT - Comm.: 0.00000024 USDT",
          "opacity": 0.6,
          "showarrow": true,
          "x": 118,
          "xref": "x",
          "y": 26187.8025136728,
          "yref": "y"
         },
         {
          "arrowcolor": "DarkGreen",
          "arrowhead": 2,
          "arrowsize": 0.8,
          "arrowwidth": 4,
          "ax": 0,
          "ay": 15,
          "hoverlabel": {
           "bgcolor": "DarkGreen"
          },
          "hovertext": "Step 118 [2025-01-19 00:00:00]<br>BUY 5.57e-06 LINK @ 24.34 USDT MARKET<br>Total: 0.00013548 USDT - Comm.: 0.00000041 USDT",
          "opacity": 0.6,
          "showarrow": true,
          "x": 117,
          "xref": "x",
          "y": 25404.986582048998,
          "yref": "y"
         },
         {
          "arrowcolor": "DarkGreen",
          "arrowhead": 2,
          "arrowsize": 0.8,
          "arrowwidth": 4,
          "ax": 0,
          "ay": 15,
          "hoverlabel": {
           "bgcolor": "DarkGreen"
          },
          "hovertext": "Step 117 [2025-01-18 00:00:00]<br>BUY 9.36e-06 LINK @ 24.12 USDT MARKET<br>Total: 0.0002258 USDT - Comm.: 0.00000068 USDT",
          "opacity": 0.6,
          "showarrow": true,
          "x": 116,
          "xref": "x",
          "y": 25175.360577288804,
          "yref": "y"
         },
         {
          "arrowcolor": "DarkGreen",
          "arrowhead": 2,
          "arrowsize": 0.8,
          "arrowwidth": 4,
          "ax": 0,
          "ay": 15,
          "hoverlabel": {
           "bgcolor": "DarkGreen"
          },
          "hovertext": "Step 116 [2025-01-17 00:00:00]<br>BUY 1.5e-05 LINK @ 25.09 USDT MARKET<br>Total: 0.00037634 USDT - Comm.: 0.00000113 USDT",
          "opacity": 0.6,
          "showarrow": true,
          "x": 115,
          "xref": "x",
          "y": 26187.8025025691,
          "yref": "y"
         },
         {
          "arrowcolor": "DarkGreen",
          "arrowhead": 2,
          "arrowsize": 0.8,
          "arrowwidth": 4,
          "ax": 0,
          "ay": 15,
          "hoverlabel": {
           "bgcolor": "DarkGreen"
          },
          "hovertext": "Step 115 [2025-01-16 00:00:00]<br>BUY 2.724e-05 LINK @ 23.03 USDT MARKET<br>Total: 0.00062723 USDT - Comm.: 0.00000189 USDT",
          "opacity": 0.6,
          "showarrow": true,
          "x": 114,
          "xref": "x",
          "y": 24037.668139612502,
          "yref": "y"
         },
         {
          "arrowcolor": "DarkGreen",
          "arrowhead": 2,
          "arrowsize": 0.8,
          "arrowwidth": 4,
          "ax": 0,
          "ay": 15,
          "hoverlabel": {
           "bgcolor": "DarkGreen"
          },
          "hovertext": "Step 114 [2025-01-15 00:00:00]<br>BUY 4.73e-05 LINK @ 22.1 USDT MARKET<br>Total: 0.00104538 USDT - Comm.: 0.00000315 USDT",
          "opacity": 0.6,
          "showarrow": true,
          "x": 113,
          "xref": "x",
          "y": 23066.976440375,
          "yref": "y"
         },
         {
          "arrowcolor": "DarkGreen",
          "arrowhead": 2,
          "arrowsize": 0.8,
          "arrowwidth": 4,
          "ax": 0,
          "ay": 15,
          "hoverlabel": {
           "bgcolor": "DarkGreen"
          },
          "hovertext": "Step 113 [2025-01-14 00:00:00]<br>BUY 8.574e-05 LINK @ 20.32 USDT MARKET<br>Total: 0.00174231 USDT - Comm.: 0.00000524 USDT",
          "opacity": 0.6,
          "showarrow": true,
          "x": 112,
          "xref": "x",
          "y": 21209.093486507198,
          "yref": "y"
         },
         {
          "arrowcolor": "DarkGreen",
          "arrowhead": 2,
          "arrowsize": 0.8,
          "arrowwidth": 4,
          "ax": 0,
          "ay": 15,
          "hoverlabel": {
           "bgcolor": "DarkGreen"
          },
          "hovertext": "Step 112 [2025-01-13 00:00:00]<br>BUY 0.00015007 LINK @ 19.35 USDT MARKET<br>Total: 0.00290385 USDT - Comm.: 0.00000874 USDT",
          "opacity": 0.6,
          "showarrow": true,
          "x": 111,
          "xref": "x",
          "y": 20196.651741104,
          "yref": "y"
         },
         {
          "arrowcolor": "DarkGreen",
          "arrowhead": 2,
          "arrowsize": 0.8,
          "arrowwidth": 4,
          "ax": 0,
          "ay": 15,
          "hoverlabel": {
           "bgcolor": "DarkGreen"
          },
          "hovertext": "Step 111 [2025-01-12 00:00:00]<br>BUY 0.00024394 LINK @ 19.84 USDT MARKET<br>Total: 0.00483976 USDT - Comm.: 0.00001456 USDT",
          "opacity": 0.6,
          "showarrow": true,
          "x": 110,
          "xref": "x",
          "y": 20708.091331117997,
          "yref": "y"
         },
         {
          "arrowcolor": "DarkGreen",
          "arrowhead": 2,
          "arrowsize": 0.8,
          "arrowwidth": 4,
          "ax": 0,
          "ay": 15,
          "hoverlabel": {
           "bgcolor": "DarkGreen"
          },
          "hovertext": "Step 110 [2025-01-11 00:00:00]<br>BUY 0.00039912 LINK @ 20.21 USDT MARKET<br>Total: 0.00806626 USDT - Comm.: 0.00002427 USDT",
          "opacity": 0.6,
          "showarrow": true,
          "x": 109,
          "xref": "x",
          "y": 21094.280332361803,
          "yref": "y"
         },
         {
          "arrowcolor": "DarkGreen",
          "arrowhead": 2,
          "arrowsize": 0.8,
          "arrowwidth": 4,
          "ax": 0,
          "ay": 15,
          "hoverlabel": {
           "bgcolor": "DarkGreen"
          },
          "hovertext": "Step 109 [2025-01-10 00:00:00]<br>BUY 0.00066422 LINK @ 20.24 USDT MARKET<br>Total: 0.01344376 USDT - Comm.: 0.00004045 USDT",
          "opacity": 0.6,
          "showarrow": true,
          "x": 108,
          "xref": "x",
          "y": 21125.592980536396,
          "yref": "y"
         },
         {
          "arrowcolor": "DarkGreen",
          "arrowhead": 2,
          "arrowsize": 0.8,
          "arrowwidth": 4,
          "ax": 0,
          "ay": 15,
          "hoverlabel": {
           "bgcolor": "DarkGreen"
          },
          "hovertext": "Step 108 [2025-01-09 00:00:00]<br>BUY 0.00114027 LINK @ 19.65 USDT MARKET<br>Total: 0.02240627 USDT - Comm.: 0.00006742 USDT",
          "opacity": 0.6,
          "showarrow": true,
          "x": 107,
          "xref": "x",
          "y": 20509.778820188498,
          "yref": "y"
         },
         {
          "arrowcolor": "DarkGreen",
          "arrowhead": 2,
          "arrowsize": 0.8,
          "arrowwidth": 4,
          "ax": 0,
          "ay": 15,
          "hoverlabel": {
           "bgcolor": "DarkGreen"
          },
          "hovertext": "Step 107 [2025-01-08 00:00:00]<br>BUY 0.001827 LINK @ 20.44 USDT MARKET<br>Total: 0.03734378 USDT - Comm.: 0.00011237 USDT",
          "opacity": 0.6,
          "showarrow": true,
          "x": 106,
          "xref": "x",
          "y": 21334.3428450496,
          "yref": "y"
         },
         {
          "arrowcolor": "DarkGreen",
          "arrowhead": 2,
          "arrowsize": 0.8,
          "arrowwidth": 4,
          "ax": 0,
          "ay": 15,
          "hoverlabel": {
           "bgcolor": "DarkGreen"
          },
          "hovertext": "Step 106 [2025-01-07 00:00:00]<br>BUY 0.00291111 LINK @ 21.38 USDT MARKET<br>Total: 0.06223963 USDT - Comm.: 0.00018728 USDT",
          "opacity": 0.6,
          "showarrow": true,
          "x": 105,
          "xref": "x",
          "y": 22315.4679958524,
          "yref": "y"
         },
         {
          "arrowcolor": "DarkGreen",
          "arrowhead": 2,
          "arrowsize": 0.8,
          "arrowwidth": 4,
          "ax": 0,
          "ay": 15,
          "hoverlabel": {
           "bgcolor": "DarkGreen"
          },
          "hovertext": "Step 105 [2025-01-06 00:00:00]<br>BUY 0.00435303 LINK @ 23.83 USDT MARKET<br>Total: 0.10373273 USDT - Comm.: 0.00031213 USDT",
          "opacity": 0.6,
          "showarrow": true,
          "x": 104,
          "xref": "x",
          "y": 24872.6485804585,
          "yref": "y"
         },
         {
          "arrowcolor": "DarkGreen",
          "arrowhead": 2,
          "arrowsize": 0.8,
          "arrowwidth": 4,
          "ax": 0,
          "ay": 15,
          "hoverlabel": {
           "bgcolor": "DarkGreen"
          },
          "hovertext": "Step 104 [2025-01-05 00:00:00]<br>BUY 0.00733197 LINK @ 23.58 USDT MARKET<br>Total: 0.17288788 USDT - Comm.: 0.00052022 USDT",
          "opacity": 0.6,
          "showarrow": true,
          "x": 103,
          "xref": "x",
          "y": 24611.7134264684,
          "yref": "y"
         },
         {
          "arrowcolor": "DarkGreen",
          "arrowhead": 2,
          "arrowsize": 0.8,
          "arrowwidth": 4,
          "ax": 0,
          "ay": 15,
          "hoverlabel": {
           "bgcolor": "DarkGreen"
          },
          "hovertext": "Step 103 [2025-01-04 00:00:00]<br>BUY 0.0122096 LINK @ 23.6 USDT MARKET<br>Total: 0.28814646 USDT - Comm.: 0.00086704 USDT",
          "opacity": 0.6,
          "showarrow": true,
          "x": 102,
          "xref": "x",
          "y": 24632.589000708,
          "yref": "y"
         },
         {
          "arrowcolor": "DarkGreen",
          "arrowhead": 2,
          "arrowsize": 0.8,
          "arrowwidth": 4,
          "ax": 0,
          "ay": 15,
          "hoverlabel": {
           "bgcolor": "DarkGreen"
          },
          "hovertext": "Step 102 [2025-01-03 00:00:00]<br>BUY 0.02045333 LINK @ 23.48 USDT MARKET<br>Total: 0.48024409 USDT - Comm.: 0.00144507 USDT",
          "opacity": 0.6,
          "showarrow": true,
          "x": 101,
          "xref": "x",
          "y": 24507.343667033998,
          "yref": "y"
         },
         {
          "arrowcolor": "DarkGreen",
          "arrowhead": 2,
          "arrowsize": 0.8,
          "arrowwidth": 4,
          "ax": 0,
          "ay": 15,
          "hoverlabel": {
           "bgcolor": "DarkGreen"
          },
          "hovertext": "Step 101 [2025-01-02 00:00:00]<br>BUY 0.03626673 LINK @ 22.07 USDT MARKET<br>Total: 0.80040682 USDT - Comm.: 0.00240845 USDT",
          "opacity": 0.6,
          "showarrow": true,
          "x": 100,
          "xref": "x",
          "y": 23035.7252656824,
          "yref": "y"
         },
         {
          "arrowcolor": "DarkGreen",
          "arrowhead": 2,
          "arrowsize": 0.8,
          "arrowwidth": 4,
          "ax": 0,
          "ay": 15,
          "hoverlabel": {
           "bgcolor": "DarkGreen"
          },
          "hovertext": "Step 100 [2025-01-01 00:00:00]<br>BUY 0.06139031 LINK @ 21.73 USDT MARKET<br>Total: 1.33401137 USDT - Comm.: 0.00401408 USDT",
          "opacity": 0.6,
          "showarrow": true,
          "x": 99,
          "xref": "x",
          "y": 22680.882691687297,
          "yref": "y"
         },
         {
          "arrowcolor": "DarkGreen",
          "arrowhead": 2,
          "arrowsize": 0.8,
          "arrowwidth": 4,
          "ax": 0,
          "ay": 15,
          "hoverlabel": {
           "bgcolor": "DarkGreen"
          },
          "hovertext": "Step 99 [2024-12-31 00:00:00]<br>BUY 0.11111206 LINK @ 20.01 USDT MARKET<br>Total: 2.22335228 USDT - Comm.: 0.00669013 USDT",
          "opacity": 0.6,
          "showarrow": true,
          "x": 98,
          "xref": "x",
          "y": 20885.888704359502,
          "yref": "y"
         },
         {
          "arrowcolor": "DarkGreen",
          "arrowhead": 2,
          "arrowsize": 0.8,
          "arrowwidth": 4,
          "ax": 0,
          "ay": 15,
          "hoverlabel": {
           "bgcolor": "DarkGreen"
          },
          "hovertext": "Step 98 [2024-12-30 00:00:00]<br>BUY 0.18005768 LINK @ 20.58 USDT MARKET<br>Total: 3.70558714 USDT - Comm.: 0.01115021 USDT",
          "opacity": 0.6,
          "showarrow": true,
          "x": 97,
          "xref": "x",
          "y": 21480.691396436596,
          "yref": "y"
         },
         {
          "arrowcolor": "DarkGreen",
          "arrowhead": 2,
          "arrowsize": 0.8,
          "arrowwidth": 4,
          "ax": 0,
          "ay": 15,
          "hoverlabel": {
           "bgcolor": "DarkGreen"
          },
          "hovertext": "Step 97 [2024-12-29 00:00:00]<br>BUY 0.29465547 LINK @ 20.96 USDT MARKET<br>Total: 6.17597857 USDT - Comm.: 0.01858369 USDT",
          "opacity": 0.6,
          "showarrow": true,
          "x": 96,
          "xref": "x",
          "y": 21877.169252648,
          "yref": "y"
         },
         {
          "arrowcolor": "DarkGreen",
          "arrowhead": 2,
          "arrowsize": 0.8,
          "arrowwidth": 4,
          "ax": 0,
          "ay": 15,
          "hoverlabel": {
           "bgcolor": "DarkGreen"
          },
          "hovertext": "Step 96 [2024-12-28 00:00:00]<br>BUY 0.46808993 LINK @ 21.99 USDT MARKET<br>Total: 10.29329762 USDT - Comm.: 0.03097281 USDT",
          "opacity": 0.6,
          "showarrow": true,
          "x": 95,
          "xref": "x",
          "y": 22951.510021911297,
          "yref": "y"
         },
         {
          "arrowcolor": "DarkGreen",
          "arrowhead": 2,
          "arrowsize": 0.8,
          "arrowwidth": 4,
          "ax": 0,
          "ay": 15,
          "hoverlabel": {
           "bgcolor": "DarkGreen"
          },
          "hovertext": "Step 95 [2024-12-27 00:00:00]<br>BUY 0.79534057 LINK @ 21.57 USDT MARKET<br>Total: 17.15549603 USDT - Comm.: 0.05162135 USDT",
          "opacity": 0.6,
          "showarrow": true,
          "x": 94,
          "xref": "x",
          "y": 22513.690168651,
          "yref": "y"
         },
         {
          "arrowcolor": "DarkGreen",
          "arrowhead": 2,
          "arrowsize": 0.8,
          "arrowwidth": 4,
          "ax": 0,
          "ay": 15,
          "hoverlabel": {
           "bgcolor": "DarkGreen"
          },
          "hovertext": "Step 94 [2024-12-26 00:00:00]<br>BUY 0.21011532 LINK @ 22.68 USDT MARKET<br>Total: 4.76541557 USDT - Comm.: 0.01433926 USDT",
          "opacity": 0.6,
          "showarrow": true,
          "x": 93,
          "xref": "x",
          "y": 23670.053434146397,
          "yref": "y"
         },
         {
          "arrowcolor": "DarkGreen",
          "arrowhead": 2,
          "arrowsize": 0.8,
          "arrowwidth": 4,
          "ax": 0,
          "ay": 15,
          "hoverlabel": {
           "bgcolor": "DarkGreen"
          },
          "hovertext": "Step 93 [2024-12-25 00:00:00]<br>BUY 1.29989513 LINK @ 24.44 USDT MARKET<br>Total: 31.76943709 USDT - Comm.: 0.09559510 USDT",
          "opacity": 0.6,
          "showarrow": true,
          "x": 92,
          "xref": "x",
          "y": 25503.269415564006,
          "yref": "y"
         },
         {
          "arrowcolor": "DarkGreen",
          "arrowhead": 2,
          "arrowsize": 0.8,
          "arrowwidth": 4,
          "ax": 0,
          "ay": 15,
          "hoverlabel": {
           "bgcolor": "DarkGreen"
          },
          "hovertext": "Step 92 [2024-12-24 00:00:00]<br>BUY 2.0829686 LINK @ 25.42 USDT MARKET<br>Total: 52.94906182 USDT - Comm.: 0.15932516 USDT",
          "opacity": 0.6,
          "showarrow": true,
          "x": 91,
          "xref": "x",
          "y": 26522.869604004998,
          "yref": "y"
         },
         {
          "arrowcolor": "DarkGreen",
          "arrowhead": 2,
          "arrowsize": 0.8,
          "arrowwidth": 4,
          "ax": 0,
          "ay": 15,
          "hoverlabel": {
           "bgcolor": "DarkGreen"
          },
          "hovertext": "Step 91 [2024-12-23 00:00:00]<br>BUY 3.59464099 LINK @ 24.55 USDT MARKET<br>Total: 88.24843637 USDT - Comm.: 0.26554193 USDT",
          "opacity": 0.6,
          "showarrow": true,
          "x": 90,
          "xref": "x",
          "y": 25619.933501083004,
          "yref": "y"
         },
         {
          "arrowcolor": "DarkGreen",
          "arrowhead": 2,
          "arrowsize": 0.8,
          "arrowwidth": 4,
          "ax": 0,
          "ay": 15,
          "hoverlabel": {
           "bgcolor": "DarkGreen"
          },
          "hovertext": "Step 90 [2024-12-22 00:00:00]<br>BUY 6.66126482 LINK @ 22.08 USDT MARKET<br>Total: 147.08072728 USDT - Comm.: 0.44256989 USDT",
          "opacity": 0.6,
          "showarrow": true,
          "x": 89,
          "xref": "x",
          "y": 23064.9926929552,
          "yref": "y"
         },
         {
          "arrowcolor": "DarkGreen",
          "arrowhead": 2,
          "arrowsize": 0.8,
          "arrowwidth": 4,
          "ax": 0,
          "ay": 15,
          "hoverlabel": {
           "bgcolor": "DarkGreen"
          },
          "hovertext": "Step 89 [2024-12-21 00:00:00]<br>BUY 11.0770242 LINK @ 22.13 USDT MARKET<br>Total: 245.13454545 USDT - Comm.: 0.73761649 USDT",
          "opacity": 0.6,
          "showarrow": true,
          "x": 88,
          "xref": "x",
          "y": 23117.1256545712,
          "yref": "y"
         },
         {
          "arrowcolor": "DarkGreen",
          "arrowhead": 2,
          "arrowsize": 0.8,
          "arrowwidth": 4,
          "ax": 0,
          "ay": 15,
          "hoverlabel": {
           "bgcolor": "DarkGreen"
          },
          "hovertext": "Step 88 [2024-12-20 00:00:00]<br>BUY 17.46719007 LINK @ 23.39 USDT MARKET<br>Total: 408.55757576 USDT - Comm.: 1.22936081 USDT",
          "opacity": 0.6,
          "showarrow": true,
          "x": 87,
          "xref": "x",
          "y": 24399.5606645063,
          "yref": "y"
         },
         {
          "arrowcolor": "DarkGreen",
          "arrowhead": 2,
          "arrowsize": 0.8,
          "arrowwidth": 4,
          "ax": 0,
          "ay": 15,
          "hoverlabel": {
           "bgcolor": "DarkGreen"
          },
          "hovertext": "Step 87 [2024-12-19 00:00:00]<br>BUY 29.85222678 LINK @ 22.81 USDT MARKET<br>Total: 680.92929294 USDT - Comm.: 2.04893468 USDT",
          "opacity": 0.6,
          "showarrow": true,
          "x": 86,
          "xref": "x",
          "y": 23821.9792389759,
          "yref": "y"
         },
         {
          "arrowcolor": "DarkGreen",
          "arrowhead": 2,
          "arrowsize": 0.8,
          "arrowwidth": 4,
          "ax": 0,
          "ay": 15,
          "hoverlabel": {
           "bgcolor": "DarkGreen"
          },
          "hovertext": "Step 86 [2024-12-18 00:00:00]<br>BUY 7.60848857 LINK @ 24.86 USDT MARKET<br>Total: 189.14702582 USDT - Comm.: 0.56914852 USDT",
          "opacity": 0.6,
          "showarrow": true,
          "x": 85,
          "xref": "x",
          "y": 25810.044837415197,
          "yref": "y"
         },
         {
          "arrowcolor": "DarkGreen",
          "arrowhead": 2,
          "arrowsize": 0.8,
          "arrowwidth": 4,
          "ax": 0,
          "ay": 15,
          "hoverlabel": {
           "bgcolor": "DarkGreen"
          },
          "hovertext": "Step 85 [2024-12-17 00:00:00]<br>BUY 45.26131271 LINK @ 27.86 USDT MARKET<br>Total: 1260.9801721 USDT - Comm.: 3.79432349 USDT",
          "opacity": 0.6,
          "showarrow": true,
          "x": 84,
          "xref": "x",
          "y": 28699.5450853646,
          "yref": "y"
         },
         {
          "arrowcolor": "FireBrick",
          "arrowhead": 2,
          "arrowsize": 0.8,
          "arrowwidth": 4,
          "ax": 0,
          "ay": -15,
          "hoverlabel": {
           "bgcolor": "FireBrick"
          },
          "hovertext": "Step 84 [2024-12-16 00:00:00]<br>SELL 101.54341557 LINK @ 28.73 USDT MARKET<br>Total: 2917.34232933 USDT - Comm.: 0.30554689 LINK",
          "opacity": 0.6,
          "showarrow": true,
          "x": 83,
          "xref": "x",
          "y": 29505.800823546102,
          "yref": "y"
         },
         {
          "arrowcolor": "DarkGreen",
          "arrowhead": 2,
          "arrowsize": 0.8,
          "arrowwidth": 4,
          "ax": 0,
          "ay": 15,
          "hoverlabel": {
           "bgcolor": "DarkGreen"
          },
          "hovertext": "Step 83 [2024-12-15 00:00:00]<br>BUY 5.55616605 LINK @ 29.26 USDT MARKET<br>Total: 162.57341861 USDT - Comm.: 0.48918782 USDT",
          "opacity": 0.6,
          "showarrow": true,
          "x": 82,
          "xref": "x",
          "y": 30046.0895123752,
          "yref": "y"
         },
         {
          "arrowcolor": "DarkGreen",
          "arrowhead": 2,
          "arrowsize": 0.8,
          "arrowwidth": 4,
          "ax": 0,
          "ay": 15,
          "hoverlabel": {
           "bgcolor": "DarkGreen"
          },
          "hovertext": "Step 82 [2024-12-14 00:00:00]<br>BUY 1.55079955 LINK @ 29.12 USDT MARKET<br>Total: 45.15928294 USDT - Comm.: 0.13588551 USDT",
          "opacity": 0.6,
          "showarrow": true,
          "x": 81,
          "xref": "x",
          "y": 29904.414713736398,
          "yref": "y"
         },
         {
          "arrowcolor": "DarkGreen",
          "arrowhead": 2,
          "arrowsize": 0.8,
          "arrowwidth": 4,
          "ax": 0,
          "ay": 15,
          "hoverlabel": {
           "bgcolor": "DarkGreen"
          },
          "hovertext": "Step 81 [2024-12-13 00:00:00]<br>BUY 10.3850254 LINK @ 28.99 USDT MARKET<br>Total: 301.06188631 USDT - Comm.: 0.90590337 USDT",
          "opacity": 0.6,
          "showarrow": true,
          "x": 80,
          "xref": "x",
          "y": 29773.840871404296,
          "yref": "y"
         },
         {
          "arrowcolor": "DarkGreen",
          "arrowhead": 2,
          "arrowsize": 0.8,
          "arrowwidth": 4,
          "ax": 0,
          "ay": 15,
          "hoverlabel": {
           "bgcolor": "DarkGreen"
          },
          "hovertext": "Step 80 [2024-12-12 00:00:00]<br>BUY 17.22519089 LINK @ 29.13 USDT MARKET<br>Total: 501.76981052 USDT - Comm.: 1.50983895 USDT",
          "opacity": 0.6,
          "showarrow": true,
          "x": 79,
          "xref": "x",
          "y": 29915.490378948398,
          "yref": "y"
         },
         {
          "arrowcolor": "DarkGreen",
          "arrowhead": 2,
          "arrowsize": 0.8,
          "arrowwidth": 4,
          "ax": 0,
          "ay": 15,
          "hoverlabel": {
           "bgcolor": "DarkGreen"
          },
          "hovertext": "Step 79 [2024-12-11 00:00:00]<br>BUY 34.74378968 LINK @ 24.07 USDT MARKET<br>Total: 836.28301754 USDT - Comm.: 2.51639825 USDT",
          "opacity": 0.6,
          "showarrow": true,
          "x": 78,
          "xref": "x",
          "y": 24940.11821718,
          "yref": "y"
         },
         {
          "arrowcolor": "DarkGreen",
          "arrowhead": 2,
          "arrowsize": 0.8,
          "arrowwidth": 4,
          "ax": 0,
          "ay": 15,
          "hoverlabel": {
           "bgcolor": "DarkGreen"
          },
          "hovertext": "Step 78 [2024-12-10 00:00:00]<br>BUY 63.01107727 LINK @ 22.12 USDT MARKET<br>Total: 1393.80502924 USDT - Comm.: 4.19399708 USDT",
          "opacity": 0.6,
          "showarrow": true,
          "x": 77,
          "xref": "x",
          "y": 23093.7063409376,
          "yref": "y"
         },
         {
          "arrowcolor": "DarkGreen",
          "arrowhead": 2,
          "arrowsize": 0.8,
          "arrowwidth": 4,
          "ax": 0,
          "ay": 15,
          "hoverlabel": {
           "bgcolor": "DarkGreen"
          },
          "hovertext": "Step 77 [2024-12-09 00:00:00]<br>BUY 104.4048711 LINK @ 22.25 USDT MARKET<br>Total: 2323.00838206 USDT - Comm.: 6.98999513 USDT",
          "opacity": 0.6,
          "showarrow": true,
          "x": 76,
          "xref": "x",
          "y": 23215.8786209975,
          "yref": "y"
         },
         {
          "arrowcolor": "DarkGreen",
          "arrowhead": 2,
          "arrowsize": 0.8,
          "arrowwidth": 4,
          "ax": 0,
          "ay": 15,
          "hoverlabel": {
           "bgcolor": "DarkGreen"
          },
          "hovertext": "Step 76 [2024-12-08 00:00:00]<br>BUY 24.7328519 LINK @ 26.09 USDT MARKET<br>Total: 645.28010613 USDT - Comm.: 1.94166531 USDT",
          "opacity": 0.6,
          "showarrow": true,
          "x": 75,
          "xref": "x",
          "y": 26219.2130721457,
          "yref": "y"
         },
         {
          "arrowcolor": "FireBrick",
          "arrowhead": 2,
          "arrowsize": 0.8,
          "arrowwidth": 4,
          "ax": 0,
          "ay": -15,
          "hoverlabel": {
           "bgcolor": "FireBrick"
          },
          "hovertext": "Step 75 [2024-12-07 00:00:00]<br>SELL 83.84546814 LINK @ 24.79 USDT MARKET<br>Total: 2078.52915519 USDT - Comm.: 0.25229328 LINK",
          "opacity": 0.6,
          "showarrow": true,
          "x": 74,
          "xref": "x",
          "y": 25241.5236140085,
          "yref": "y"
         },
         {
          "arrowcolor": "DarkGreen",
          "arrowhead": 2,
          "arrowsize": 0.8,
          "arrowwidth": 4,
          "ax": 0,
          "ay": 15,
          "hoverlabel": {
           "bgcolor": "DarkGreen"
          },
          "hovertext": "Step 74 [2024-12-06 00:00:00]<br>BUY 18.81418844 LINK @ 25.87 USDT MARKET<br>Total: 486.72305484 USDT - Comm.: 1.46456285 USDT",
          "opacity": 0.6,
          "showarrow": true,
          "x": 73,
          "xref": "x",
          "y": 26151.2440000377,
          "yref": "y"
         },
         {
          "arrowcolor": "DarkGreen",
          "arrowhead": 2,
          "arrowsize": 0.8,
          "arrowwidth": 4,
          "ax": 0,
          "ay": 15,
          "hoverlabel": {
           "bgcolor": "DarkGreen"
          },
          "hovertext": "Step 73 [2024-12-05 00:00:00]<br>BUY 23.36083777 LINK @ 23.15 USDT MARKET<br>Total: 540.80339426 USDT - Comm.: 1.62729206 USDT",
          "opacity": 0.6,
          "showarrow": true,
          "x": 72,
          "xref": "x",
          "y": 23916.586774050997,
          "yref": "y"
         },
         {
          "arrowcolor": "FireBrick",
          "arrowhead": 2,
          "arrowsize": 0.8,
          "arrowwidth": 4,
          "ax": 0,
          "ay": -15,
          "hoverlabel": {
           "bgcolor": "FireBrick"
          },
          "hovertext": "Step 72 [2024-12-04 00:00:00]<br>SELL 88.48957557 LINK @ 24.07 USDT MARKET<br>Total: 2129.94408397 USDT - Comm.: 0.26626753 LINK",
          "opacity": 0.6,
          "showarrow": true,
          "x": 71,
          "xref": "x",
          "y": 24657.894214402797,
          "yref": "y"
         },
         {
          "arrowcolor": "FireBrick",
          "arrowhead": 2,
          "arrowsize": 0.8,
          "arrowwidth": 4,
          "ax": 0,
          "ay": -15,
          "hoverlabel": {
           "bgcolor": "FireBrick"
          },
          "hovertext": "Step 71 [2024-12-03 00:00:00]<br>SELL 98.32175064 LINK @ 24.09 USDT MARKET<br>Total: 2368.57097292 USDT - Comm.: 0.29585281 LINK",
          "opacity": 0.6,
          "showarrow": true,
          "x": 70,
          "xref": "x",
          "y": 24682.7724772141,
          "yref": "y"
         },
         {
          "arrowcolor": "DarkGreen",
          "arrowhead": 2,
          "arrowsize": 0.8,
          "arrowwidth": 4,
          "ax": 0,
          "ay": 15,
          "hoverlabel": {
           "bgcolor": "DarkGreen"
          },
          "hovertext": "Step 70 [2024-12-02 00:00:00]<br>BUY 24.38933626 LINK @ 25.23 USDT MARKET<br>Total: 615.34295396 USDT - Comm.: 1.85158361 USDT",
          "opacity": 0.6,
          "showarrow": true,
          "x": 69,
          "xref": "x",
          "y": 25808.8647402629,
          "yref": "y"
         },
         {
          "arrowcolor": "DarkGreen",
          "arrowhead": 2,
          "arrowsize": 0.8,
          "arrowwidth": 4,
          "ax": 0,
          "ay": 15,
          "hoverlabel": {
           "bgcolor": "DarkGreen"
          },
          "hovertext": "Step 69 [2024-12-01 00:00:00]<br>BUY 9.0342811 LINK @ 18.92 USDT MARKET<br>Total: 170.92859832 USDT - Comm.: 0.51432878 USDT",
          "opacity": 0.6,
          "showarrow": true,
          "x": 68,
          "xref": "x",
          "y": 19740.5050031196,
          "yref": "y"
         },
         {
          "arrowcolor": "DarkGreen",
          "arrowhead": 2,
          "arrowsize": 0.8,
          "arrowwidth": 4,
          "ax": 0,
          "ay": 15,
          "hoverlabel": {
           "bgcolor": "DarkGreen"
          },
          "hovertext": "Step 68 [2024-11-30 00:00:00]<br>BUY 9.99582446 LINK @ 19.0 USDT MARKET<br>Total: 189.92066481 USDT - Comm.: 0.57147642 USDT",
          "opacity": 0.6,
          "showarrow": true,
          "x": 67,
          "xref": "x",
          "y": 19817.296672980003,
          "yref": "y"
         },
         {
          "arrowcolor": "FireBrick",
          "arrowhead": 2,
          "arrowsize": 0.8,
          "arrowwidth": 4,
          "ax": 0,
          "ay": -15,
          "hoverlabel": {
           "bgcolor": "FireBrick"
          },
          "hovertext": "Step 67 [2024-11-29 00:00:00]<br>SELL 104.43648032 LINK @ 18.24 USDT MARKET<br>Total: 1904.92140104 USDT - Comm.: 0.31425220 LINK",
          "opacity": 0.6,
          "showarrow": true,
          "x": 66,
          "xref": "x",
          "y": 19106.533622675597,
          "yref": "y"
         },
         {
          "arrowcolor": "DarkGreen",
          "arrowhead": 2,
          "arrowsize": 0.8,
          "arrowwidth": 4,
          "ax": 0,
          "ay": 15,
          "hoverlabel": {
           "bgcolor": "DarkGreen"
          },
          "hovertext": "Step 66 [2024-11-28 00:00:00]<br>BUY 4.2e-07 LINK @ 17.93 USDT MARKET<br>Total: 7.45e-06 USDT - Comm.: 0.00000002 USDT",
          "opacity": 0.6,
          "showarrow": true,
          "x": 65,
          "xref": "x",
          "y": 18781.8063518061,
          "yref": "y"
         },
         {
          "arrowcolor": "DarkGreen",
          "arrowhead": 2,
          "arrowsize": 0.8,
          "arrowwidth": 4,
          "ax": 0,
          "ay": 15,
          "hoverlabel": {
           "bgcolor": "DarkGreen"
          },
          "hovertext": "Step 65 [2024-11-27 00:00:00]<br>BUY 1.1e-07 LINK @ 18.66 USDT MARKET<br>Total: 2.07e-06 USDT - Comm.: 0.00000001 USDT",
          "opacity": 0.6,
          "showarrow": true,
          "x": 64,
          "xref": "x",
          "y": 19546.4866989156,
          "yref": "y"
         },
         {
          "arrowcolor": "DarkGreen",
          "arrowhead": 2,
          "arrowsize": 0.8,
          "arrowwidth": 4,
          "ax": 0,
          "ay": 15,
          "hoverlabel": {
           "bgcolor": "DarkGreen"
          },
          "hovertext": "Step 64 [2024-11-26 00:00:00]<br>BUY 8e-07 LINK @ 17.34 USDT MARKET<br>Total: 1.38e-05 USDT - Comm.: 0.00000004 USDT",
          "opacity": 0.6,
          "showarrow": true,
          "x": 63,
          "xref": "x",
          "y": 18163.777030332403,
          "yref": "y"
         },
         {
          "arrowcolor": "DarkGreen",
          "arrowhead": 2,
          "arrowsize": 0.8,
          "arrowwidth": 4,
          "ax": 0,
          "ay": 15,
          "hoverlabel": {
           "bgcolor": "DarkGreen"
          },
          "hovertext": "Step 63 [2024-11-25 00:00:00]<br>BUY 2.2e-07 LINK @ 17.34 USDT MARKET<br>Total: 3.83e-06 USDT - Comm.: 0.00000001 USDT",
          "opacity": 0.6,
          "showarrow": true,
          "x": 62,
          "xref": "x",
          "y": 18163.777030357604,
          "yref": "y"
         },
         {
          "arrowcolor": "DarkGreen",
          "arrowhead": 2,
          "arrowsize": 0.8,
          "arrowwidth": 4,
          "ax": 0,
          "ay": 15,
          "hoverlabel": {
           "bgcolor": "DarkGreen"
          },
          "hovertext": "Step 62 [2024-11-24 00:00:00]<br>BUY 1.43e-06 LINK @ 17.91 USDT MARKET<br>Total: 2.554e-05 USDT - Comm.: 0.00000008 USDT",
          "opacity": 0.6,
          "showarrow": true,
          "x": 61,
          "xref": "x",
          "y": 18760.8562048411,
          "yref": "y"
         },
         {
          "arrowcolor": "DarkGreen",
          "arrowhead": 2,
          "arrowsize": 0.8,
          "arrowwidth": 4,
          "ax": 0,
          "ay": 15,
          "hoverlabel": {
           "bgcolor": "DarkGreen"
          },
          "hovertext": "Step 61 [2024-11-23 00:00:00]<br>BUY 2.45e-06 LINK @ 17.38 USDT MARKET<br>Total: 4.257e-05 USDT - Comm.: 0.00000013 USDT",
          "opacity": 0.6,
          "showarrow": true,
          "x": 60,
          "xref": "x",
          "y": 18205.677324188797,
          "yref": "y"
         },
         {
          "arrowcolor": "DarkGreen",
          "arrowhead": 2,
          "arrowsize": 0.8,
          "arrowwidth": 4,
          "ax": 0,
          "ay": 15,
          "hoverlabel": {
           "bgcolor": "DarkGreen"
          },
          "hovertext": "Step 60 [2024-11-22 00:00:00]<br>BUY 4.28e-06 LINK @ 16.57 USDT MARKET<br>Total: 7.097e-05 USDT - Comm.: 0.00000021 USDT",
          "opacity": 0.6,
          "showarrow": true,
          "x": 59,
          "xref": "x",
          "y": 17357.1963954436,
          "yref": "y"
         },
         {
          "arrowcolor": "DarkGreen",
          "arrowhead": 2,
          "arrowsize": 0.8,
          "arrowwidth": 4,
          "ax": 0,
          "ay": 15,
          "hoverlabel": {
           "bgcolor": "DarkGreen"
          },
          "hovertext": "Step 59 [2024-11-21 00:00:00]<br>BUY 7.94e-06 LINK @ 14.89 USDT MARKET<br>Total: 0.00011826 USDT - Comm.: 0.00000036 USDT",
          "opacity": 0.6,
          "showarrow": true,
          "x": 58,
          "xref": "x",
          "y": 15597.3841058306,
          "yref": "y"
         },
         {
          "arrowcolor": "DarkGreen",
          "arrowhead": 2,
          "arrowsize": 0.8,
          "arrowwidth": 4,
          "ax": 0,
          "ay": 15,
          "hoverlabel": {
           "bgcolor": "DarkGreen"
          },
          "hovertext": "Step 58 [2024-11-20 00:00:00]<br>BUY 1.384e-05 LINK @ 14.24 USDT MARKET<br>Total: 0.00019712 USDT - Comm.: 0.00000059 USDT",
          "opacity": 0.6,
          "showarrow": true,
          "x": 57,
          "xref": "x",
          "y": 14916.504356558,
          "yref": "y"
         },
         {
          "arrowcolor": "DarkGreen",
          "arrowhead": 2,
          "arrowsize": 0.8,
          "arrowwidth": 4,
          "ax": 0,
          "ay": 15,
          "hoverlabel": {
           "bgcolor": "DarkGreen"
          },
          "hovertext": "Step 57 [2024-11-19 00:00:00]<br>BUY 2.247e-05 LINK @ 14.62 USDT MARKET<br>Total: 0.00032852 USDT - Comm.: 0.00000099 USDT",
          "opacity": 0.6,
          "showarrow": true,
          "x": 56,
          "xref": "x",
          "y": 15314.557129162598,
          "yref": "y"
         },
         {
          "arrowcolor": "DarkGreen",
          "arrowhead": 2,
          "arrowsize": 0.8,
          "arrowwidth": 4,
          "ax": 0,
          "ay": 15,
          "hoverlabel": {
           "bgcolor": "DarkGreen"
          },
          "hovertext": "Step 56 [2024-11-18 00:00:00]<br>BUY 3.588e-05 LINK @ 15.26 USDT MARKET<br>Total: 0.00054754 USDT - Comm.: 0.00000165 USDT",
          "opacity": 0.6,
          "showarrow": true,
          "x": 55,
          "xref": "x",
          "y": 15984.961784411,
          "yref": "y"
         },
         {
          "arrowcolor": "DarkGreen",
          "arrowhead": 2,
          "arrowsize": 0.8,
          "arrowwidth": 4,
          "ax": 0,
          "ay": 15,
          "hoverlabel": {
           "bgcolor": "DarkGreen"
          },
          "hovertext": "Step 55 [2024-11-17 00:00:00]<br>BUY 6.622e-05 LINK @ 13.78 USDT MARKET<br>Total: 0.00091257 USDT - Comm.: 0.00000275 USDT",
          "opacity": 0.6,
          "showarrow": true,
          "x": 54,
          "xref": "x",
          "y": 14434.651078901397,
          "yref": "y"
         },
         {
          "arrowcolor": "DarkGreen",
          "arrowhead": 2,
          "arrowsize": 0.8,
          "arrowwidth": 4,
          "ax": 0,
          "ay": 15,
          "hoverlabel": {
           "bgcolor": "DarkGreen"
          },
          "hovertext": "Step 54 [2024-11-16 00:00:00]<br>BUY 0.00010475 LINK @ 14.52 USDT MARKET<br>Total: 0.00152095 USDT - Comm.: 0.00000458 USDT",
          "opacity": 0.6,
          "showarrow": true,
          "x": 53,
          "xref": "x",
          "y": 15209.806388617599,
          "yref": "y"
         },
         {
          "arrowcolor": "DarkGreen",
          "arrowhead": 2,
          "arrowsize": 0.8,
          "arrowwidth": 4,
          "ax": 0,
          "ay": 15,
          "hoverlabel": {
           "bgcolor": "DarkGreen"
          },
          "hovertext": "Step 53 [2024-11-15 00:00:00]<br>BUY 0.00018316 LINK @ 13.84 USDT MARKET<br>Total: 0.00253491 USDT - Comm.: 0.00000763 USDT",
          "opacity": 0.6,
          "showarrow": true,
          "x": 52,
          "xref": "x",
          "y": 14497.5015924448,
          "yref": "y"
         },
         {
          "arrowcolor": "DarkGreen",
          "arrowhead": 2,
          "arrowsize": 0.8,
          "arrowwidth": 4,
          "ax": 0,
          "ay": 15,
          "hoverlabel": {
           "bgcolor": "DarkGreen"
          },
          "hovertext": "Step 52 [2024-11-14 00:00:00]<br>BUY 0.00032499 LINK @ 13.0 USDT MARKET<br>Total: 0.00422486 USDT - Comm.: 0.00001271 USDT",
          "opacity": 0.6,
          "showarrow": true,
          "x": 51,
          "xref": "x",
          "y": 13617.595824919998,
          "yref": "y"
         },
         {
          "arrowcolor": "DarkGreen",
          "arrowhead": 2,
          "arrowsize": 0.8,
          "arrowwidth": 4,
          "ax": 0,
          "ay": 15,
          "hoverlabel": {
           "bgcolor": "DarkGreen"
          },
          "hovertext": "Step 51 [2024-11-13 00:00:00]<br>BUY 0.00052236 LINK @ 13.48 USDT MARKET<br>Total: 0.00704143 USDT - Comm.: 0.00002119 USDT",
          "opacity": 0.6,
          "showarrow": true,
          "x": 50,
          "xref": "x",
          "y": 14120.398993117602,
          "yref": "y"
         },
         {
          "arrowcolor": "DarkGreen",
          "arrowhead": 2,
          "arrowsize": 0.8,
          "arrowwidth": 4,
          "ax": 0,
          "ay": 15,
          "hoverlabel": {
           "bgcolor": "DarkGreen"
          },
          "hovertext": "Step 50 [2024-11-12 00:00:00]<br>BUY 0.00084127 LINK @ 13.95 USDT MARKET<br>Total: 0.01173573 USDT - Comm.: 0.00003531 USDT",
          "opacity": 0.6,
          "showarrow": true,
          "x": 49,
          "xref": "x",
          "y": 14612.72686436,
          "yref": "y"
         },
         {
          "arrowcolor": "DarkGreen",
          "arrowhead": 2,
          "arrowsize": 0.8,
          "arrowwidth": 4,
          "ax": 0,
          "ay": 15,
          "hoverlabel": {
           "bgcolor": "DarkGreen"
          },
          "hovertext": "Step 49 [2024-11-11 00:00:00]<br>BUY 0.00131184 LINK @ 14.91 USDT MARKET<br>Total: 0.01955953 USDT - Comm.: 0.00005886 USDT",
          "opacity": 0.6,
          "showarrow": true,
          "x": 48,
          "xref": "x",
          "y": 15618.331908111599,
          "yref": "y"
         },
         {
          "arrowcolor": "DarkGreen",
          "arrowhead": 2,
          "arrowsize": 0.8,
          "arrowwidth": 4,
          "ax": 0,
          "ay": 15,
          "hoverlabel": {
           "bgcolor": "DarkGreen"
          },
          "hovertext": "Step 48 [2024-11-10 00:00:00]<br>BUY 0.00228767 LINK @ 14.25 USDT MARKET<br>Total: 0.03259923 USDT - Comm.: 0.00009809 USDT",
          "opacity": 0.6,
          "showarrow": true,
          "x": 47,
          "xref": "x",
          "y": 14926.979444832497,
          "yref": "y"
         },
         {
          "arrowcolor": "DarkGreen",
          "arrowhead": 2,
          "arrowsize": 0.8,
          "arrowwidth": 4,
          "ax": 0,
          "ay": 15,
          "hoverlabel": {
           "bgcolor": "DarkGreen"
          },
          "hovertext": "Step 47 [2024-11-09 00:00:00]<br>BUY 0.00394282 LINK @ 13.78 USDT MARKET<br>Total: 0.05433205 USDT - Comm.: 0.00016349 USDT",
          "opacity": 0.6,
          "showarrow": true,
          "x": 46,
          "xref": "x",
          "y": 14434.653859560598,
          "yref": "y"
         },
         {
          "arrowcolor": "DarkGreen",
          "arrowhead": 2,
          "arrowsize": 0.8,
          "arrowwidth": 4,
          "ax": 0,
          "ay": 15,
          "hoverlabel": {
           "bgcolor": "DarkGreen"
          },
          "hovertext": "Step 46 [2024-11-08 00:00:00]<br>BUY 0.00661457 LINK @ 13.69 USDT MARKET<br>Total: 0.09055342 USDT - Comm.: 0.00027248 USDT",
          "opacity": 0.6,
          "showarrow": true,
          "x": 45,
          "xref": "x",
          "y": 14340.379343473001,
          "yref": "y"
         },
         {
          "arrowcolor": "DarkGreen",
          "arrowhead": 2,
          "arrowsize": 0.8,
          "arrowwidth": 4,
          "ax": 0,
          "ay": 15,
          "hoverlabel": {
           "bgcolor": "DarkGreen"
          },
          "hovertext": "Step 45 [2024-11-07 00:00:00]<br>BUY 0.01198748 LINK @ 12.59 USDT MARKET<br>Total: 0.15092236 USDT - Comm.: 0.00045413 USDT",
          "opacity": 0.6,
          "showarrow": true,
          "x": 44,
          "xref": "x",
          "y": 13188.1396583198,
          "yref": "y"
         },
         {
          "arrowcolor": "DarkGreen",
          "arrowhead": 2,
          "arrowsize": 0.8,
          "arrowwidth": 4,
          "ax": 0,
          "ay": 15,
          "hoverlabel": {
           "bgcolor": "DarkGreen"
          },
          "hovertext": "Step 44 [2024-11-06 00:00:00]<br>BUY 0.02066863 LINK @ 12.17 USDT MARKET<br>Total: 0.25153728 USDT - Comm.: 0.00075688 USDT",
          "opacity": 0.6,
          "showarrow": true,
          "x": 43,
          "xref": "x",
          "y": 12748.1992150003,
          "yref": "y"
         },
         {
          "arrowcolor": "DarkGreen",
          "arrowhead": 2,
          "arrowsize": 0.8,
          "arrowwidth": 4,
          "ax": 0,
          "ay": 15,
          "hoverlabel": {
           "bgcolor": "DarkGreen"
          },
          "hovertext": "Step 43 [2024-11-05 00:00:00]<br>BUY 0.03870995 LINK @ 10.83 USDT MARKET<br>Total: 0.41922879 USDT - Comm.: 0.00126147 USDT",
          "opacity": 0.6,
          "showarrow": true,
          "x": 42,
          "xref": "x",
          "y": 11344.6062478512,
          "yref": "y"
         },
         {
          "arrowcolor": "DarkGreen",
          "arrowhead": 2,
          "arrowsize": 0.8,
          "arrowwidth": 4,
          "ax": 0,
          "ay": 15,
          "hoverlabel": {
           "bgcolor": "DarkGreen"
          },
          "hovertext": "Step 42 [2024-11-04 00:00:00]<br>BUY 0.06810084 LINK @ 10.26 USDT MARKET<br>Total: 0.69871465 USDT - Comm.: 0.00210245 USDT",
          "opacity": 0.6,
          "showarrow": true,
          "x": 41,
          "xref": "x",
          "y": 10747.579138638,
          "yref": "y"
         },
         {
          "arrowcolor": "DarkGreen",
          "arrowhead": 2,
          "arrowsize": 0.8,
          "arrowwidth": 4,
          "ax": 0,
          "ay": 15,
          "hoverlabel": {
           "bgcolor": "DarkGreen"
          },
          "hovertext": "Step 41 [2024-11-03 00:00:00]<br>BUY 0.10822718 LINK @ 10.76 USDT MARKET<br>Total: 1.16452441 USDT - Comm.: 0.00350409 USDT",
          "opacity": 0.6,
          "showarrow": true,
          "x": 40,
          "xref": "x",
          "y": 11271.258427081199,
          "yref": "y"
         },
         {
          "arrowcolor": "DarkGreen",
          "arrowhead": 2,
          "arrowsize": 0.8,
          "arrowwidth": 4,
          "ax": 0,
          "ay": 15,
          "hoverlabel": {
           "bgcolor": "DarkGreen"
          },
          "hovertext": "Step 40 [2024-11-02 00:00:00]<br>BUY 0.17344719 LINK @ 11.19 USDT MARKET<br>Total: 1.94087402 USDT - Comm.: 0.00584014 USDT",
          "opacity": 0.6,
          "showarrow": true,
          "x": 39,
          "xref": "x",
          "y": 11721.5789040817,
          "yref": "y"
         },
         {
          "arrowcolor": "DarkGreen",
          "arrowhead": 2,
          "arrowsize": 0.8,
          "arrowwidth": 4,
          "ax": 0,
          "ay": 15,
          "hoverlabel": {
           "bgcolor": "DarkGreen"
          },
          "hovertext": "Step 39 [2024-11-01 00:00:00]<br>BUY 0.28753689 LINK @ 11.25 USDT MARKET<br>Total: 3.23479004 USDT - Comm.: 0.00973357 USDT",
          "opacity": 0.6,
          "showarrow": true,
          "x": 38,
          "xref": "x",
          "y": 11784.412831345,
          "yref": "y"
         },
         {
          "arrowcolor": "DarkGreen",
          "arrowhead": 2,
          "arrowsize": 0.8,
          "arrowwidth": 4,
          "ax": 0,
          "ay": 15,
          "hoverlabel": {
           "bgcolor": "DarkGreen"
          },
          "hovertext": "Step 38 [2024-10-31 00:00:00]<br>BUY 0.47250804 LINK @ 11.41 USDT MARKET<br>Total: 5.39131673 USDT - Comm.: 0.01622262 USDT",
          "opacity": 0.6,
          "showarrow": true,
          "x": 37,
          "xref": "x",
          "y": 11951.914231165,
          "yref": "y"
         },
         {
          "arrowcolor": "DarkGreen",
          "arrowhead": 2,
          "arrowsize": 0.8,
          "arrowwidth": 4,
          "ax": 0,
          "ay": 15,
          "hoverlabel": {
           "bgcolor": "DarkGreen"
          },
          "hovertext": "Step 37 [2024-10-30 00:00:00]<br>BUY 0.7252242 LINK @ 12.39 USDT MARKET<br>Total: 8.98552788 USDT - Comm.: 0.02703770 USDT",
          "opacity": 0.6,
          "showarrow": true,
          "x": 36,
          "xref": "x",
          "y": 12977.324921417001,
          "yref": "y"
         },
         {
          "arrowcolor": "DarkGreen",
          "arrowhead": 2,
          "arrowsize": 0.8,
          "arrowwidth": 4,
          "ax": 0,
          "ay": 15,
          "hoverlabel": {
           "bgcolor": "DarkGreen"
          },
          "hovertext": "Step 36 [2024-10-29 00:00:00]<br>BUY 1.26914236 LINK @ 11.8 USDT MARKET<br>Total: 14.97587981 USDT - Comm.: 0.04506283 USDT",
          "opacity": 0.6,
          "showarrow": true,
          "x": 35,
          "xref": "x",
          "y": 12360.475055282002,
          "yref": "y"
         },
         {
          "arrowcolor": "DarkGreen",
          "arrowhead": 2,
          "arrowsize": 0.8,
          "arrowwidth": 4,
          "ax": 0,
          "ay": 15,
          "hoverlabel": {
           "bgcolor": "DarkGreen"
          },
          "hovertext": "Step 35 [2024-10-28 00:00:00]<br>BUY 0.37209004 LINK @ 11.18 USDT MARKET<br>Total: 4.15996661 USDT - Comm.: 0.01251745 USDT",
          "opacity": 0.6,
          "showarrow": true,
          "x": 34,
          "xref": "x",
          "y": 11713.011973272,
          "yref": "y"
         },
         {
          "arrowcolor": "DarkGreen",
          "arrowhead": 2,
          "arrowsize": 0.8,
          "arrowwidth": 4,
          "ax": 0,
          "ay": 15,
          "hoverlabel": {
           "bgcolor": "DarkGreen"
          },
          "hovertext": "Step 34 [2024-10-27 00:00:00]<br>BUY 2.52348597 LINK @ 10.99 USDT MARKET<br>Total: 27.73311076 USDT - Comm.: 0.08344968 USDT",
          "opacity": 0.6,
          "showarrow": true,
          "x": 33,
          "xref": "x",
          "y": 11514.746178250702,
          "yref": "y"
         },
         {
          "arrowcolor": "DarkGreen",
          "arrowhead": 2,
          "arrowsize": 0.8,
          "arrowwidth": 4,
          "ax": 0,
          "ay": 15,
          "hoverlabel": {
           "bgcolor": "DarkGreen"
          },
          "hovertext": "Step 33 [2024-10-26 00:00:00]<br>BUY 4.19816996 LINK @ 11.01 USDT MARKET<br>Total: 46.22185126 USDT - Comm.: 0.13908280 USDT",
          "opacity": 0.6,
          "showarrow": true,
          "x": 32,
          "xref": "x",
          "y": 11535.7136591897,
          "yref": "y"
         },
         {
          "arrowcolor": "DarkGreen",
          "arrowhead": 2,
          "arrowsize": 0.8,
          "arrowwidth": 4,
          "ax": 0,
          "ay": 15,
          "hoverlabel": {
           "bgcolor": "DarkGreen"
          },
          "hovertext": "Step 32 [2024-10-25 00:00:00]<br>BUY 6.92151112 LINK @ 11.13 USDT MARKET<br>Total: 77.03641877 USDT - Comm.: 0.23180467 USDT",
          "opacity": 0.6,
          "showarrow": true,
          "x": 31,
          "xref": "x",
          "y": 11660.412072300502,
          "yref": "y"
         },
         {
          "arrowcolor": "DarkGreen",
          "arrowhead": 2,
          "arrowsize": 0.8,
          "arrowwidth": 4,
          "ax": 0,
          "ay": 15,
          "hoverlabel": {
           "bgcolor": "DarkGreen"
          },
          "hovertext": "Step 31 [2024-10-24 00:00:00]<br>BUY 11.04940028 LINK @ 11.62 USDT MARKET<br>Total: 128.39403127 USDT - Comm.: 0.38634112 USDT",
          "opacity": 0.6,
          "showarrow": true,
          "x": 30,
          "xref": "x",
          "y": 12165.645524103398,
          "yref": "y"
         },
         {
          "arrowcolor": "DarkGreen",
          "arrowhead": 2,
          "arrowsize": 0.8,
          "arrowwidth": 4,
          "ax": 0,
          "ay": 15,
          "hoverlabel": {
           "bgcolor": "DarkGreen"
          },
          "hovertext": "Step 30 [2024-10-23 00:00:00]<br>BUY 18.90371485 LINK @ 11.32 USDT MARKET<br>Total: 213.99005213 USDT - Comm.: 0.64390186 USDT",
          "opacity": 0.6,
          "showarrow": true,
          "x": 29,
          "xref": "x",
          "y": 11860.5141783204,
          "yref": "y"
         },
         {
          "arrowcolor": "DarkGreen",
          "arrowhead": 2,
          "arrowsize": 0.8,
          "arrowwidth": 4,
          "ax": 0,
          "ay": 15,
          "hoverlabel": {
           "bgcolor": "DarkGreen"
          },
          "hovertext": "Step 29 [2024-10-22 00:00:00]<br>BUY 29.7953289 LINK @ 11.97 USDT MARKET<br>Total: 356.65008688 USDT - Comm.: 1.07316977 USDT",
          "opacity": 0.6,
          "showarrow": true,
          "x": 28,
          "xref": "x",
          "y": 12511.812970005401,
          "yref": "y"
         },
         {
          "arrowcolor": "DarkGreen",
          "arrowhead": 2,
          "arrowsize": 0.8,
          "arrowwidth": 4,
          "ax": 0,
          "ay": 15,
          "hoverlabel": {
           "bgcolor": "DarkGreen"
          },
          "hovertext": "Step 28 [2024-10-21 00:00:00]<br>BUY 50.76146981 LINK @ 11.71 USDT MARKET<br>Total: 594.41681146 USDT - Comm.: 1.78861628 USDT",
          "opacity": 0.6,
          "showarrow": true,
          "x": 27,
          "xref": "x",
          "y": 12261.2581229971,
          "yref": "y"
         },
         {
          "arrowcolor": "DarkGreen",
          "arrowhead": 2,
          "arrowsize": 0.8,
          "arrowwidth": 4,
          "ax": 0,
          "ay": 15,
          "hoverlabel": {
           "bgcolor": "DarkGreen"
          },
          "hovertext": "Step 27 [2024-10-20 00:00:00]<br>BUY 82.69571668 LINK @ 11.98 USDT MARKET<br>Total: 990.69468577 USDT - Comm.: 2.98102714 USDT",
          "opacity": 0.6,
          "showarrow": true,
          "x": 26,
          "xref": "x",
          "y": 12512.5825343234,
          "yref": "y"
         },
         {
          "arrowcolor": "FireBrick",
          "arrowhead": 2,
          "arrowsize": 0.8,
          "arrowwidth": 4,
          "ax": 0,
          "ay": -15,
          "hoverlabel": {
           "bgcolor": "FireBrick"
          },
          "hovertext": "Step 26 [2024-10-19 00:00:00]<br>SELL 92.73147906 LINK @ 11.42 USDT MARKET<br>Total: 1058.99349087 USDT - Comm.: 0.27903153 LINK",
          "opacity": 0.6,
          "showarrow": true,
          "x": 25,
          "xref": "x",
          "y": 12046.9961010064,
          "yref": "y"
         },
         {
          "arrowcolor": "DarkGreen",
          "arrowhead": 2,
          "arrowsize": 0.8,
          "arrowwidth": 4,
          "ax": 0,
          "ay": 15,
          "hoverlabel": {
           "bgcolor": "DarkGreen"
          },
          "hovertext": "Step 25 [2024-10-18 00:00:00]<br>BUY 82.51569129 LINK @ 11.48 USDT MARKET<br>Total: 947.28013602 USDT - Comm.: 2.85039158 USDT",
          "opacity": 0.6,
          "showarrow": true,
          "x": 24,
          "xref": "x",
          "y": 12105.6527989524,
          "yref": "y"
         },
         {
          "arrowcolor": "FireBrick",
          "arrowhead": 2,
          "arrowsize": 0.8,
          "arrowwidth": 4,
          "ax": 0,
          "ay": -15,
          "hoverlabel": {
           "bgcolor": "FireBrick"
          },
          "hovertext": "Step 24 [2024-10-17 00:00:00]<br>SELL 93.89407183 LINK @ 11.03 USDT MARKET<br>Total: 1035.65161228 USDT - Comm.: 0.28252980 LINK",
          "opacity": 0.6,
          "showarrow": true,
          "x": 23,
          "xref": "x",
          "y": 11727.353866067799,
          "yref": "y"
         },
         {
          "arrowcolor": "DarkGreen",
          "arrowhead": 2,
          "arrowsize": 0.8,
          "arrowwidth": 4,
          "ax": 0,
          "ay": 15,
          "hoverlabel": {
           "bgcolor": "DarkGreen"
          },
          "hovertext": "Step 23 [2024-10-16 00:00:00]<br>BUY 79.2203845 LINK @ 11.24 USDT MARKET<br>Total: 890.43712173 USDT - Comm.: 2.67934941 USDT",
          "opacity": 0.6,
          "showarrow": true,
          "x": 22,
          "xref": "x",
          "y": 11927.8040788424,
          "yref": "y"
         },
         {
          "arrowcolor": "FireBrick",
          "arrowhead": 2,
          "arrowsize": 0.8,
          "arrowwidth": 4,
          "ax": 0,
          "ay": -15,
          "hoverlabel": {
           "bgcolor": "FireBrick"
          },
          "hovertext": "Step 22 [2024-10-15 00:00:00]<br>SELL 95.55088832 LINK @ 11.45 USDT MARKET<br>Total: 1094.05767126 USDT - Comm.: 0.28751521 LINK",
          "opacity": 0.6,
          "showarrow": true,
          "x": 21,
          "xref": "x",
          "y": 12112.2307106705,
          "yref": "y"
         },
         {
          "arrowcolor": "DarkGreen",
          "arrowhead": 2,
          "arrowsize": 0.8,
          "arrowwidth": 4,
          "ax": 0,
          "ay": 15,
          "hoverlabel": {
           "bgcolor": "DarkGreen"
          },
          "hovertext": "Step 21 [2024-10-14 00:00:00]<br>BUY 67.09913157 LINK @ 11.28 USDT MARKET<br>Total: 756.87820406 USDT - Comm.: 2.27746701 USDT",
          "opacity": 0.6,
          "showarrow": true,
          "x": 20,
          "xref": "x",
          "y": 11951.582891631599,
          "yref": "y"
         },
         {
          "arrowcolor": "FireBrick",
          "arrowhead": 2,
          "arrowsize": 0.8,
          "arrowwidth": 4,
          "ax": 0,
          "ay": -15,
          "hoverlabel": {
           "bgcolor": "FireBrick"
          },
          "hovertext": "Step 20 [2024-10-13 00:00:00]<br>SELL 98.734561 LINK @ 10.75 USDT MARKET<br>Total: 1061.39653075 USDT - Comm.: 0.29709497 LINK",
          "opacity": 0.6,
          "showarrow": true,
          "x": 19,
          "xref": "x",
          "y": 11482.3956635875,
          "yref": "y"
         },
         {
          "arrowcolor": "DarkGreen",
          "arrowhead": 2,
          "arrowsize": 0.8,
          "arrowwidth": 4,
          "ax": 0,
          "ay": 15,
          "hoverlabel": {
           "bgcolor": "DarkGreen"
          },
          "hovertext": "Step 19 [2024-10-12 00:00:00]<br>BUY 50.49852673 LINK @ 11.01 USDT MARKET<br>Total: 555.98877933 USDT - Comm.: 1.67298529 USDT",
          "opacity": 0.6,
          "showarrow": true,
          "x": 18,
          "xref": "x",
          "y": 11741.550954429598,
          "yref": "y"
         },
         {
          "arrowcolor": "FireBrick",
          "arrowhead": 2,
          "arrowsize": 0.8,
          "arrowwidth": 4,
          "ax": 0,
          "ay": -15,
          "hoverlabel": {
           "bgcolor": "FireBrick"
          },
          "hovertext": "Step 18 [2024-10-11 00:00:00]<br>SELL 104.1109532 LINK @ 10.91 USDT MARKET<br>Total: 1135.85049941 USDT - Comm.: 0.31327268 LINK",
          "opacity": 0.6,
          "showarrow": true,
          "x": 17,
          "xref": "x",
          "y": 11650.986956074401,
          "yref": "y"
         },
         {
          "arrowcolor": "DarkGreen",
          "arrowhead": 2,
          "arrowsize": 0.8,
          "arrowwidth": 4,
          "ax": 0,
          "ay": 15,
          "hoverlabel": {
           "bgcolor": "DarkGreen"
          },
          "hovertext": "Step 17 [2024-10-10 00:00:00]<br>BUY 16.25814396 LINK @ 10.56 USDT MARKET<br>Total: 171.68600026 USDT - Comm.: 0.51660782 USDT",
          "opacity": 0.6,
          "showarrow": true,
          "x": 16,
          "xref": "x",
          "y": 11286.018773342801,
          "yref": "y"
         },
         {
          "arrowcolor": "DarkGreen",
          "arrowhead": 2,
          "arrowsize": 0.8,
          "arrowwidth": 4,
          "ax": 0,
          "ay": 15,
          "hoverlabel": {
           "bgcolor": "DarkGreen"
          },
          "hovertext": "Step 16 [2024-10-09 00:00:00]<br>BUY 27.17410577 LINK @ 10.53 USDT MARKET<br>Total: 286.14333377 USDT - Comm.: 0.86101304 USDT",
          "opacity": 0.6,
          "showarrow": true,
          "x": 15,
          "xref": "x",
          "y": 11256.0402629483,
          "yref": "y"
         },
         {
          "arrowcolor": "DarkGreen",
          "arrowhead": 2,
          "arrowsize": 0.8,
          "arrowwidth": 4,
          "ax": 0,
          "ay": 15,
          "hoverlabel": {
           "bgcolor": "DarkGreen"
          },
          "hovertext": "Step 15 [2024-10-08 00:00:00]<br>BUY 44.0762991 LINK @ 10.82 USDT MARKET<br>Total: 476.90555628 USDT - Comm.: 1.43502173 USDT",
          "opacity": 0.6,
          "showarrow": true,
          "x": 14,
          "xref": "x",
          "y": 11547.710187338202,
          "yref": "y"
         },
         {
          "arrowcolor": "FireBrick",
          "arrowhead": 2,
          "arrowsize": 0.8,
          "arrowwidth": 4,
          "ax": 0,
          "ay": -15,
          "hoverlabel": {
           "bgcolor": "FireBrick"
          },
          "hovertext": "Step 14 [2024-10-07 00:00:00]<br>SELL 105.98483432 LINK @ 11.16 USDT MARKET<br>Total: 1182.79075101 USDT - Comm.: 0.31891124 LINK",
          "opacity": 0.6,
          "showarrow": true,
          "x": 13,
          "xref": "x",
          "y": 11876.5586981812,
          "yref": "y"
         },
         {
          "arrowcolor": "DarkGreen",
          "arrowhead": 2,
          "arrowsize": 0.8,
          "arrowwidth": 4,
          "ax": 0,
          "ay": 15,
          "hoverlabel": {
           "bgcolor": "DarkGreen"
          },
          "hovertext": "Step 13 [2024-10-06 00:00:00]<br>BUY 0.77027577 LINK @ 11.27 USDT MARKET<br>Total: 8.68100795 USDT - Comm.: 0.02612139 USDT",
          "opacity": 0.6,
          "showarrow": true,
          "x": 12,
          "xref": "x",
          "y": 11993.518939705998,
          "yref": "y"
         },
         {
          "arrowcolor": "DarkGreen",
          "arrowhead": 2,
          "arrowsize": 0.8,
          "arrowwidth": 4,
          "ax": 0,
          "ay": 15,
          "hoverlabel": {
           "bgcolor": "DarkGreen"
          },
          "hovertext": "Step 12 [2024-10-05 00:00:00]<br>BUY 1.28379295 LINK @ 11.27 USDT MARKET<br>Total: 14.46834659 USDT - Comm.: 0.04353565 USDT",
          "opacity": 0.6,
          "showarrow": true,
          "x": 11,
          "xref": "x",
          "y": 11993.5624753995,
          "yref": "y"
         },
         {
          "arrowcolor": "DarkGreen",
          "arrowhead": 2,
          "arrowsize": 0.8,
          "arrowwidth": 4,
          "ax": 0,
          "ay": 15,
          "hoverlabel": {
           "bgcolor": "DarkGreen"
          },
          "hovertext": "Step 11 [2024-10-04 00:00:00]<br>BUY 2.17634576 LINK @ 11.08 USDT MARKET<br>Total: 24.11391099 USDT - Comm.: 0.07255941 USDT",
          "opacity": 0.6,
          "showarrow": true,
          "x": 10,
          "xref": "x",
          "y": 11792.0481912772,
          "yref": "y"
         },
         {
          "arrowcolor": "DarkGreen",
          "arrowhead": 2,
          "arrowsize": 0.8,
          "arrowwidth": 4,
          "ax": 0,
          "ay": 15,
          "hoverlabel": {
           "bgcolor": "DarkGreen"
          },
          "hovertext": "Step 10 [2024-10-03 00:00:00]<br>BUY 3.77015494 LINK @ 10.66 USDT MARKET<br>Total: 40.18985165 USDT - Comm.: 0.12093235 USDT",
          "opacity": 0.6,
          "showarrow": true,
          "x": 9,
          "xref": "x",
          "y": 11347.470166359,
          "yref": "y"
         },
         {
          "arrowcolor": "DarkGreen",
          "arrowhead": 2,
          "arrowsize": 0.8,
          "arrowwidth": 4,
          "ax": 0,
          "ay": 15,
          "hoverlabel": {
           "bgcolor": "DarkGreen"
          },
          "hovertext": "Step 9 [2024-10-02 00:00:00]<br>BUY 6.28359156 LINK @ 10.66 USDT MARKET<br>Total: 66.98308608 USDT - Comm.: 0.20155392 USDT",
          "opacity": 0.6,
          "showarrow": true,
          "x": 8,
          "xref": "x",
          "y": 11347.671720329401,
          "yref": "y"
         },
         {
          "arrowcolor": "DarkGreen",
          "arrowhead": 2,
          "arrowsize": 0.8,
          "arrowwidth": 4,
          "ax": 0,
          "ay": 15,
          "hoverlabel": {
           "bgcolor": "DarkGreen"
          },
          "hovertext": "Step 8 [2024-10-01 00:00:00]<br>BUY 10.1397345 LINK @ 11.01 USDT MARKET<br>Total: 111.6384768 USDT - Comm.: 0.33592320 USDT",
          "opacity": 0.6,
          "showarrow": true,
          "x": 7,
          "xref": "x",
          "y": 11715.071296590899,
          "yref": "y"
         },
         {
          "arrowcolor": "DarkGreen",
          "arrowhead": 2,
          "arrowsize": 0.8,
          "arrowwidth": 4,
          "ax": 0,
          "ay": 15,
          "hoverlabel": {
           "bgcolor": "DarkGreen"
          },
          "hovertext": "Step 7 [2024-09-30 00:00:00]<br>BUY 15.70161418 LINK @ 11.85 USDT MARKET<br>Total: 186.064128 USDT - Comm.: 0.55987200 USDT",
          "opacity": 0.6,
          "showarrow": true,
          "x": 6,
          "xref": "x",
          "y": 12588.0665590335,
          "yref": "y"
         },
         {
          "arrowcolor": "DarkGreen",
          "arrowhead": 2,
          "arrowsize": 0.8,
          "arrowwidth": 4,
          "ax": 0,
          "ay": 15,
          "hoverlabel": {
           "bgcolor": "DarkGreen"
          },
          "hovertext": "Step 6 [2024-09-29 00:00:00]<br>BUY 24.88819262 LINK @ 12.46 USDT MARKET<br>Total: 310.10688 USDT - Comm.: 0.93312000 USDT",
          "opacity": 0.6,
          "showarrow": true,
          "x": 5,
          "xref": "x",
          "y": 13212.9759659934,
          "yref": "y"
         },
         {
          "arrowcolor": "DarkGreen",
          "arrowhead": 2,
          "arrowsize": 0.8,
          "arrowwidth": 4,
          "ax": 0,
          "ay": 15,
          "hoverlabel": {
           "bgcolor": "DarkGreen"
          },
          "hovertext": "Step 5 [2024-09-28 00:00:00]<br>BUY 39.91079537 LINK @ 12.95 USDT MARKET<br>Total: 516.8448 USDT - Comm.: 1.55520000 USDT",
          "opacity": 0.6,
          "showarrow": true,
          "x": 4,
          "xref": "x",
          "y": 13703.562805063999,
          "yref": "y"
         },
         {
          "arrowcolor": "DarkGreen",
          "arrowhead": 2,
          "arrowsize": 0.8,
          "arrowwidth": 4,
          "ax": 0,
          "ay": 15,
          "hoverlabel": {
           "bgcolor": "DarkGreen"
          },
          "hovertext": "Step 4 [2024-09-27 00:00:00]<br>BUY 67.98800316 LINK @ 12.67 USDT MARKET<br>Total: 861.408 USDT - Comm.: 2.59200000 USDT",
          "opacity": 0.6,
          "showarrow": true,
          "x": 3,
          "xref": "x",
          "y": 13437.8831768092,
          "yref": "y"
         },
         {
          "arrowcolor": "DarkGreen",
          "arrowhead": 2,
          "arrowsize": 0.8,
          "arrowwidth": 4,
          "ax": 0,
          "ay": 15,
          "hoverlabel": {
           "bgcolor": "DarkGreen"
          },
          "hovertext": "Step 3 [2024-09-26 00:00:00]<br>BUY 114.30573248 LINK @ 12.56 USDT MARKET<br>Total: 1435.68 USDT - Comm.: 4.32000000 USDT",
          "opacity": 0.6,
          "showarrow": true,
          "x": 2,
          "xref": "x",
          "y": 13344.2894318368,
          "yref": "y"
         },
         {
          "arrowcolor": "DarkGreen",
          "arrowhead": 2,
          "arrowsize": 0.8,
          "arrowwidth": 4,
          "ax": 0,
          "ay": 15,
          "hoverlabel": {
           "bgcolor": "DarkGreen"
          },
          "hovertext": "Step 2 [2024-09-25 00:00:00]<br>BUY 197.58876961 LINK @ 12.11 USDT MARKET<br>Total: 2392.8 USDT - Comm.: 7.20000000 USDT",
          "opacity": 0.6,
          "showarrow": true,
          "x": 1,
          "xref": "x",
          "y": 13002.370781833699,
          "yref": "y"
         },
         {
          "arrowcolor": "DarkGreen",
          "arrowhead": 2,
          "arrowsize": 0.8,
          "arrowwidth": 4,
          "ax": 0,
          "ay": 15,
          "hoverlabel": {
           "bgcolor": "DarkGreen"
          },
          "hovertext": "Step 1 [2024-09-24 00:00:00]<br>BUY 328.23045267 LINK @ 12.15 USDT MARKET<br>Total: 3988.0 USDT - Comm.: 12.00000000 USDT",
          "opacity": 0.6,
          "showarrow": true,
          "x": 0,
          "xref": "x",
          "y": 13037.5,
          "yref": "y"
         }
        ],
        "height": 800,
        "legend": {
         "orientation": "h",
         "x": 1,
         "xanchor": "right",
         "y": -0.36,
         "yanchor": "bottom"
        },
        "margin": {
         "b": 60,
         "l": 60,
         "r": 60,
         "t": 80
        },
        "showlegend": true,
        "template": {
         "data": {
          "bar": [
           {
            "error_x": {
             "color": "#2a3f5f"
            },
            "error_y": {
             "color": "#2a3f5f"
            },
            "marker": {
             "line": {
              "color": "white",
              "width": 0.5
             },
             "pattern": {
              "fillmode": "overlay",
              "size": 10,
              "solidity": 0.2
             }
            },
            "type": "bar"
           }
          ],
          "barpolar": [
           {
            "marker": {
             "line": {
              "color": "white",
              "width": 0.5
             },
             "pattern": {
              "fillmode": "overlay",
              "size": 10,
              "solidity": 0.2
             }
            },
            "type": "barpolar"
           }
          ],
          "carpet": [
           {
            "aaxis": {
             "endlinecolor": "#2a3f5f",
             "gridcolor": "#C8D4E3",
             "linecolor": "#C8D4E3",
             "minorgridcolor": "#C8D4E3",
             "startlinecolor": "#2a3f5f"
            },
            "baxis": {
             "endlinecolor": "#2a3f5f",
             "gridcolor": "#C8D4E3",
             "linecolor": "#C8D4E3",
             "minorgridcolor": "#C8D4E3",
             "startlinecolor": "#2a3f5f"
            },
            "type": "carpet"
           }
          ],
          "choropleth": [
           {
            "colorbar": {
             "outlinewidth": 0,
             "ticks": ""
            },
            "type": "choropleth"
           }
          ],
          "contour": [
           {
            "colorbar": {
             "outlinewidth": 0,
             "ticks": ""
            },
            "colorscale": [
             [
              0,
              "#0d0887"
             ],
             [
              0.1111111111111111,
              "#46039f"
             ],
             [
              0.2222222222222222,
              "#7201a8"
             ],
             [
              0.3333333333333333,
              "#9c179e"
             ],
             [
              0.4444444444444444,
              "#bd3786"
             ],
             [
              0.5555555555555556,
              "#d8576b"
             ],
             [
              0.6666666666666666,
              "#ed7953"
             ],
             [
              0.7777777777777778,
              "#fb9f3a"
             ],
             [
              0.8888888888888888,
              "#fdca26"
             ],
             [
              1,
              "#f0f921"
             ]
            ],
            "type": "contour"
           }
          ],
          "contourcarpet": [
           {
            "colorbar": {
             "outlinewidth": 0,
             "ticks": ""
            },
            "type": "contourcarpet"
           }
          ],
          "heatmap": [
           {
            "colorbar": {
             "outlinewidth": 0,
             "ticks": ""
            },
            "colorscale": [
             [
              0,
              "#0d0887"
             ],
             [
              0.1111111111111111,
              "#46039f"
             ],
             [
              0.2222222222222222,
              "#7201a8"
             ],
             [
              0.3333333333333333,
              "#9c179e"
             ],
             [
              0.4444444444444444,
              "#bd3786"
             ],
             [
              0.5555555555555556,
              "#d8576b"
             ],
             [
              0.6666666666666666,
              "#ed7953"
             ],
             [
              0.7777777777777778,
              "#fb9f3a"
             ],
             [
              0.8888888888888888,
              "#fdca26"
             ],
             [
              1,
              "#f0f921"
             ]
            ],
            "type": "heatmap"
           }
          ],
          "histogram": [
           {
            "marker": {
             "pattern": {
              "fillmode": "overlay",
              "size": 10,
              "solidity": 0.2
             }
            },
            "type": "histogram"
           }
          ],
          "histogram2d": [
           {
            "colorbar": {
             "outlinewidth": 0,
             "ticks": ""
            },
            "colorscale": [
             [
              0,
              "#0d0887"
             ],
             [
              0.1111111111111111,
              "#46039f"
             ],
             [
              0.2222222222222222,
              "#7201a8"
             ],
             [
              0.3333333333333333,
              "#9c179e"
             ],
             [
              0.4444444444444444,
              "#bd3786"
             ],
             [
              0.5555555555555556,
              "#d8576b"
             ],
             [
              0.6666666666666666,
              "#ed7953"
             ],
             [
              0.7777777777777778,
              "#fb9f3a"
             ],
             [
              0.8888888888888888,
              "#fdca26"
             ],
             [
              1,
              "#f0f921"
             ]
            ],
            "type": "histogram2d"
           }
          ],
          "histogram2dcontour": [
           {
            "colorbar": {
             "outlinewidth": 0,
             "ticks": ""
            },
            "colorscale": [
             [
              0,
              "#0d0887"
             ],
             [
              0.1111111111111111,
              "#46039f"
             ],
             [
              0.2222222222222222,
              "#7201a8"
             ],
             [
              0.3333333333333333,
              "#9c179e"
             ],
             [
              0.4444444444444444,
              "#bd3786"
             ],
             [
              0.5555555555555556,
              "#d8576b"
             ],
             [
              0.6666666666666666,
              "#ed7953"
             ],
             [
              0.7777777777777778,
              "#fb9f3a"
             ],
             [
              0.8888888888888888,
              "#fdca26"
             ],
             [
              1,
              "#f0f921"
             ]
            ],
            "type": "histogram2dcontour"
           }
          ],
          "mesh3d": [
           {
            "colorbar": {
             "outlinewidth": 0,
             "ticks": ""
            },
            "type": "mesh3d"
           }
          ],
          "parcoords": [
           {
            "line": {
             "colorbar": {
              "outlinewidth": 0,
              "ticks": ""
             }
            },
            "type": "parcoords"
           }
          ],
          "pie": [
           {
            "automargin": true,
            "type": "pie"
           }
          ],
          "scatter": [
           {
            "fillpattern": {
             "fillmode": "overlay",
             "size": 10,
             "solidity": 0.2
            },
            "type": "scatter"
           }
          ],
          "scatter3d": [
           {
            "line": {
             "colorbar": {
              "outlinewidth": 0,
              "ticks": ""
             }
            },
            "marker": {
             "colorbar": {
              "outlinewidth": 0,
              "ticks": ""
             }
            },
            "type": "scatter3d"
           }
          ],
          "scattercarpet": [
           {
            "marker": {
             "colorbar": {
              "outlinewidth": 0,
              "ticks": ""
             }
            },
            "type": "scattercarpet"
           }
          ],
          "scattergeo": [
           {
            "marker": {
             "colorbar": {
              "outlinewidth": 0,
              "ticks": ""
             }
            },
            "type": "scattergeo"
           }
          ],
          "scattergl": [
           {
            "marker": {
             "colorbar": {
              "outlinewidth": 0,
              "ticks": ""
             }
            },
            "type": "scattergl"
           }
          ],
          "scattermap": [
           {
            "marker": {
             "colorbar": {
              "outlinewidth": 0,
              "ticks": ""
             }
            },
            "type": "scattermap"
           }
          ],
          "scattermapbox": [
           {
            "marker": {
             "colorbar": {
              "outlinewidth": 0,
              "ticks": ""
             }
            },
            "type": "scattermapbox"
           }
          ],
          "scatterpolar": [
           {
            "marker": {
             "colorbar": {
              "outlinewidth": 0,
              "ticks": ""
             }
            },
            "type": "scatterpolar"
           }
          ],
          "scatterpolargl": [
           {
            "marker": {
             "colorbar": {
              "outlinewidth": 0,
              "ticks": ""
             }
            },
            "type": "scatterpolargl"
           }
          ],
          "scatterternary": [
           {
            "marker": {
             "colorbar": {
              "outlinewidth": 0,
              "ticks": ""
             }
            },
            "type": "scatterternary"
           }
          ],
          "surface": [
           {
            "colorbar": {
             "outlinewidth": 0,
             "ticks": ""
            },
            "colorscale": [
             [
              0,
              "#0d0887"
             ],
             [
              0.1111111111111111,
              "#46039f"
             ],
             [
              0.2222222222222222,
              "#7201a8"
             ],
             [
              0.3333333333333333,
              "#9c179e"
             ],
             [
              0.4444444444444444,
              "#bd3786"
             ],
             [
              0.5555555555555556,
              "#d8576b"
             ],
             [
              0.6666666666666666,
              "#ed7953"
             ],
             [
              0.7777777777777778,
              "#fb9f3a"
             ],
             [
              0.8888888888888888,
              "#fdca26"
             ],
             [
              1,
              "#f0f921"
             ]
            ],
            "type": "surface"
           }
          ],
          "table": [
           {
            "cells": {
             "fill": {
              "color": "#EBF0F8"
             },
             "line": {
              "color": "white"
             }
            },
            "header": {
             "fill": {
              "color": "#C8D4E3"
             },
             "line": {
              "color": "white"
             }
            },
            "type": "table"
           }
          ]
         },
         "layout": {
          "annotationdefaults": {
           "arrowcolor": "#2a3f5f",
           "arrowhead": 0,
           "arrowwidth": 1
          },
          "autotypenumbers": "strict",
          "coloraxis": {
           "colorbar": {
            "outlinewidth": 0,
            "ticks": ""
           }
          },
          "colorscale": {
           "diverging": [
            [
             0,
             "#8e0152"
            ],
            [
             0.1,
             "#c51b7d"
            ],
            [
             0.2,
             "#de77ae"
            ],
            [
             0.3,
             "#f1b6da"
            ],
            [
             0.4,
             "#fde0ef"
            ],
            [
             0.5,
             "#f7f7f7"
            ],
            [
             0.6,
             "#e6f5d0"
            ],
            [
             0.7,
             "#b8e186"
            ],
            [
             0.8,
             "#7fbc41"
            ],
            [
             0.9,
             "#4d9221"
            ],
            [
             1,
             "#276419"
            ]
           ],
           "sequential": [
            [
             0,
             "#0d0887"
            ],
            [
             0.1111111111111111,
             "#46039f"
            ],
            [
             0.2222222222222222,
             "#7201a8"
            ],
            [
             0.3333333333333333,
             "#9c179e"
            ],
            [
             0.4444444444444444,
             "#bd3786"
            ],
            [
             0.5555555555555556,
             "#d8576b"
            ],
            [
             0.6666666666666666,
             "#ed7953"
            ],
            [
             0.7777777777777778,
             "#fb9f3a"
            ],
            [
             0.8888888888888888,
             "#fdca26"
            ],
            [
             1,
             "#f0f921"
            ]
           ],
           "sequentialminus": [
            [
             0,
             "#0d0887"
            ],
            [
             0.1111111111111111,
             "#46039f"
            ],
            [
             0.2222222222222222,
             "#7201a8"
            ],
            [
             0.3333333333333333,
             "#9c179e"
            ],
            [
             0.4444444444444444,
             "#bd3786"
            ],
            [
             0.5555555555555556,
             "#d8576b"
            ],
            [
             0.6666666666666666,
             "#ed7953"
            ],
            [
             0.7777777777777778,
             "#fb9f3a"
            ],
            [
             0.8888888888888888,
             "#fdca26"
            ],
            [
             1,
             "#f0f921"
            ]
           ]
          },
          "colorway": [
           "#636efa",
           "#EF553B",
           "#00cc96",
           "#ab63fa",
           "#FFA15A",
           "#19d3f3",
           "#FF6692",
           "#B6E880",
           "#FF97FF",
           "#FECB52"
          ],
          "font": {
           "color": "#2a3f5f"
          },
          "geo": {
           "bgcolor": "white",
           "lakecolor": "white",
           "landcolor": "white",
           "showlakes": true,
           "showland": true,
           "subunitcolor": "#C8D4E3"
          },
          "hoverlabel": {
           "align": "left"
          },
          "hovermode": "closest",
          "mapbox": {
           "style": "light"
          },
          "paper_bgcolor": "white",
          "plot_bgcolor": "white",
          "polar": {
           "angularaxis": {
            "gridcolor": "#EBF0F8",
            "linecolor": "#EBF0F8",
            "ticks": ""
           },
           "bgcolor": "white",
           "radialaxis": {
            "gridcolor": "#EBF0F8",
            "linecolor": "#EBF0F8",
            "ticks": ""
           }
          },
          "scene": {
           "xaxis": {
            "backgroundcolor": "white",
            "gridcolor": "#DFE8F3",
            "gridwidth": 2,
            "linecolor": "#EBF0F8",
            "showbackground": true,
            "ticks": "",
            "zerolinecolor": "#EBF0F8"
           },
           "yaxis": {
            "backgroundcolor": "white",
            "gridcolor": "#DFE8F3",
            "gridwidth": 2,
            "linecolor": "#EBF0F8",
            "showbackground": true,
            "ticks": "",
            "zerolinecolor": "#EBF0F8"
           },
           "zaxis": {
            "backgroundcolor": "white",
            "gridcolor": "#DFE8F3",
            "gridwidth": 2,
            "linecolor": "#EBF0F8",
            "showbackground": true,
            "ticks": "",
            "zerolinecolor": "#EBF0F8"
           }
          },
          "shapedefaults": {
           "line": {
            "color": "#2a3f5f"
           }
          },
          "ternary": {
           "aaxis": {
            "gridcolor": "#DFE8F3",
            "linecolor": "#A2B1C6",
            "ticks": ""
           },
           "baxis": {
            "gridcolor": "#DFE8F3",
            "linecolor": "#A2B1C6",
            "ticks": ""
           },
           "bgcolor": "white",
           "caxis": {
            "gridcolor": "#DFE8F3",
            "linecolor": "#A2B1C6",
            "ticks": ""
           }
          },
          "title": {
           "x": 0.05
          },
          "xaxis": {
           "automargin": true,
           "gridcolor": "#EBF0F8",
           "linecolor": "#EBF0F8",
           "ticks": "",
           "title": {
            "standoff": 15
           },
           "zerolinecolor": "#EBF0F8",
           "zerolinewidth": 2
          },
          "yaxis": {
           "automargin": true,
           "gridcolor": "#EBF0F8",
           "linecolor": "#EBF0F8",
           "ticks": "",
           "title": {
            "standoff": 15
           },
           "zerolinecolor": "#EBF0F8",
           "zerolinewidth": 2
          }
         }
        },
        "title": {
         "text": " Chart: plotly: all trading info"
        },
        "xaxis": {
         "anchor": "y",
         "domain": [
          0,
          1
         ],
         "gridcolor": "Gainsboro",
         "linecolor": "Grey",
         "matches": "x3",
         "rangeslider": {
          "visible": false
         },
         "showticklabels": false
        },
        "xaxis2": {
         "anchor": "y2",
         "domain": [
          0,
          1
         ],
         "gridcolor": "Gainsboro",
         "linecolor": "Grey",
         "matches": "x3",
         "rangeslider": {
          "visible": false
         },
         "showticklabels": false
        },
        "xaxis3": {
         "anchor": "y3",
         "domain": [
          0,
          1
         ],
         "gridcolor": "Gainsboro",
         "linecolor": "Grey",
         "rangeslider": {
          "visible": false
         },
         "title": {
          "text": "Time"
         }
        },
        "yaxis": {
         "anchor": "x",
         "domain": [
          0.436,
          1
         ],
         "gridcolor": "Gainsboro",
         "linecolor": "Grey",
         "title": {
          "text": "Portfolio Value ($)"
         }
        },
        "yaxis2": {
         "anchor": "x2",
         "domain": [
          0.218,
          0.406
         ],
         "gridcolor": "Gainsboro",
         "linecolor": "Grey",
         "title": {
          "text": "Performance"
         }
        },
        "yaxis3": {
         "anchor": "x3",
         "domain": [
          0,
          0.188
         ],
         "gridcolor": "Gainsboro",
         "linecolor": "Grey",
         "title": {
          "text": "Price ($)"
         }
        },
        "yaxis4": {
         "gridcolor": "Gainsboro",
         "linecolor": "Grey",
         "overlaying": "y3",
         "side": "right",
         "title": {
          "text": "Balance"
         }
        }
       }
      }
     },
     "metadata": {},
     "output_type": "display_data"
    },
    {
     "data": {
      "application/vnd.plotly.v1+json": {
       "config": {
        "plotlyServerURL": "https://plot.ly"
       },
       "data": [
        {
         "mode": "lines",
         "name": "Sharpe(window=30)",
         "type": "scatter",
         "x": {
          "bdata": "AAABAAIAAwAEAAUABgAHAAgACQAKAAsADAANAA4ADwAQABEAEgATABQAFQAWABcAGAAZABoAGwAcAB0AHgAfACAAIQAiACMAJAAlACYAJwAoACkAKgArACwALQAuAC8AMAAxADIAMwA0ADUANgA3ADgAOQA6ADsAPAA9AD4APwBAAEEAQgBDAEQARQBGAEcASABJAEoASwBMAE0ATgBPAFAAUQBSAFMAVABVAFYAVwBYAFkAWgBbAFwAXQBeAF8AYABhAGIAYwBkAGUAZgBnAGgAaQBqAGsAbABtAG4AbwBwAHEAcgBzAHQAdQB2AHcAeAB5AHoAewB8AH0AfgB/AIAAgQCCAIMAhACFAIYAhwCIAIkAigCLAIwAjQCOAI8AkACRAJIAkwCUAJUAlgCXAJgAmQCaAJsAnACdAJ4AnwCgAKEAogCjAKQApQCmAKcAqACpAKoAqwCsAK0ArgCvALAAsQCyALMAtAC1ALYAtwC4ALkAugC7ALwAvQC+AL8AwADBAMIAwwDEAMUAxgDHAMgAyQDKAMsAzADNAM4AzwDQANEA0gDTANQA1QDWANcA2ADZANoA2wDcAN0A3gDfAOAA4QDiAOMA5ADlAOYA5wDoAOkA6gDrAOwA7QDuAO8A8ADxAPIA8wD0APUA9gD3APgA+QD6APsA/AD9AP4A/wAAAQEBAgEDAQQBBQEGAQcBCAEJAQoBCwEMAQ0BDgEPARABEQESARMBFAEVARYBFwEYARkBGgEbARwBHQEeAR8BIAEhASIBIwEkASUBJgEnASgBKQEqASsBLAEtAS4BLwEwATEBMgEzATQBNQE2ATcBOAE5AToBOwE8AT0BPgE/AUABQQFCAUMBRAFFAUYBRwFIAUkBSgFLAUwBTQFOAU8BUAFRAVIBUwFUAVUBVgFXAVgBWQFaAVsBXAFdAV4BXwFgAWEBYgFjAWQBZQFmAWcBaAFpAWoBawFsAQ==",
          "dtype": "i2"
         },
         "y": {
          "bdata": "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",
          "dtype": "f8"
         }
        }
       ],
       "layout": {
        "annotations": [
         {
          "bgcolor": "rgba(255,255,255,0.8)",
          "bordercolor": "lightgray",
          "borderwidth": 1,
          "font": {
           "color": "darkblue",
           "size": 11
          },
          "showarrow": false,
          "text": "<b>Sharpe Ratio</b><br>Measures risk-adjusted return. Higher values indicate better performance per unit of risk.<br>• >1.0: Good performance • >2.0: Very good • >3.0: Excellent<br>• Negative values indicate underperformance vs risk-free rate",
          "x": 0.5,
          "xanchor": "center",
          "xref": "paper",
          "y": -0.36,
          "yanchor": "bottom",
          "yref": "paper"
         }
        ],
        "height": 500,
        "margin": {
         "b": 120
        },
        "template": {
         "data": {
          "bar": [
           {
            "error_x": {
             "color": "#2a3f5f"
            },
            "error_y": {
             "color": "#2a3f5f"
            },
            "marker": {
             "line": {
              "color": "white",
              "width": 0.5
             },
             "pattern": {
              "fillmode": "overlay",
              "size": 10,
              "solidity": 0.2
             }
            },
            "type": "bar"
           }
          ],
          "barpolar": [
           {
            "marker": {
             "line": {
              "color": "white",
              "width": 0.5
             },
             "pattern": {
              "fillmode": "overlay",
              "size": 10,
              "solidity": 0.2
             }
            },
            "type": "barpolar"
           }
          ],
          "carpet": [
           {
            "aaxis": {
             "endlinecolor": "#2a3f5f",
             "gridcolor": "#C8D4E3",
             "linecolor": "#C8D4E3",
             "minorgridcolor": "#C8D4E3",
             "startlinecolor": "#2a3f5f"
            },
            "baxis": {
             "endlinecolor": "#2a3f5f",
             "gridcolor": "#C8D4E3",
             "linecolor": "#C8D4E3",
             "minorgridcolor": "#C8D4E3",
             "startlinecolor": "#2a3f5f"
            },
            "type": "carpet"
           }
          ],
          "choropleth": [
           {
            "colorbar": {
             "outlinewidth": 0,
             "ticks": ""
            },
            "type": "choropleth"
           }
          ],
          "contour": [
           {
            "colorbar": {
             "outlinewidth": 0,
             "ticks": ""
            },
            "colorscale": [
             [
              0,
              "#0d0887"
             ],
             [
              0.1111111111111111,
              "#46039f"
             ],
             [
              0.2222222222222222,
              "#7201a8"
             ],
             [
              0.3333333333333333,
              "#9c179e"
             ],
             [
              0.4444444444444444,
              "#bd3786"
             ],
             [
              0.5555555555555556,
              "#d8576b"
             ],
             [
              0.6666666666666666,
              "#ed7953"
             ],
             [
              0.7777777777777778,
              "#fb9f3a"
             ],
             [
              0.8888888888888888,
              "#fdca26"
             ],
             [
              1,
              "#f0f921"
             ]
            ],
            "type": "contour"
           }
          ],
          "contourcarpet": [
           {
            "colorbar": {
             "outlinewidth": 0,
             "ticks": ""
            },
            "type": "contourcarpet"
           }
          ],
          "heatmap": [
           {
            "colorbar": {
             "outlinewidth": 0,
             "ticks": ""
            },
            "colorscale": [
             [
              0,
              "#0d0887"
             ],
             [
              0.1111111111111111,
              "#46039f"
             ],
             [
              0.2222222222222222,
              "#7201a8"
             ],
             [
              0.3333333333333333,
              "#9c179e"
             ],
             [
              0.4444444444444444,
              "#bd3786"
             ],
             [
              0.5555555555555556,
              "#d8576b"
             ],
             [
              0.6666666666666666,
              "#ed7953"
             ],
             [
              0.7777777777777778,
              "#fb9f3a"
             ],
             [
              0.8888888888888888,
              "#fdca26"
             ],
             [
              1,
              "#f0f921"
             ]
            ],
            "type": "heatmap"
           }
          ],
          "histogram": [
           {
            "marker": {
             "pattern": {
              "fillmode": "overlay",
              "size": 10,
              "solidity": 0.2
             }
            },
            "type": "histogram"
           }
          ],
          "histogram2d": [
           {
            "colorbar": {
             "outlinewidth": 0,
             "ticks": ""
            },
            "colorscale": [
             [
              0,
              "#0d0887"
             ],
             [
              0.1111111111111111,
              "#46039f"
             ],
             [
              0.2222222222222222,
              "#7201a8"
             ],
             [
              0.3333333333333333,
              "#9c179e"
             ],
             [
              0.4444444444444444,
              "#bd3786"
             ],
             [
              0.5555555555555556,
              "#d8576b"
             ],
             [
              0.6666666666666666,
              "#ed7953"
             ],
             [
              0.7777777777777778,
              "#fb9f3a"
             ],
             [
              0.8888888888888888,
              "#fdca26"
             ],
             [
              1,
              "#f0f921"
             ]
            ],
            "type": "histogram2d"
           }
          ],
          "histogram2dcontour": [
           {
            "colorbar": {
             "outlinewidth": 0,
             "ticks": ""
            },
            "colorscale": [
             [
              0,
              "#0d0887"
             ],
             [
              0.1111111111111111,
              "#46039f"
             ],
             [
              0.2222222222222222,
              "#7201a8"
             ],
             [
              0.3333333333333333,
              "#9c179e"
             ],
             [
              0.4444444444444444,
              "#bd3786"
             ],
             [
              0.5555555555555556,
              "#d8576b"
             ],
             [
              0.6666666666666666,
              "#ed7953"
             ],
             [
              0.7777777777777778,
              "#fb9f3a"
             ],
             [
              0.8888888888888888,
              "#fdca26"
             ],
             [
              1,
              "#f0f921"
             ]
            ],
            "type": "histogram2dcontour"
           }
          ],
          "mesh3d": [
           {
            "colorbar": {
             "outlinewidth": 0,
             "ticks": ""
            },
            "type": "mesh3d"
           }
          ],
          "parcoords": [
           {
            "line": {
             "colorbar": {
              "outlinewidth": 0,
              "ticks": ""
             }
            },
            "type": "parcoords"
           }
          ],
          "pie": [
           {
            "automargin": true,
            "type": "pie"
           }
          ],
          "scatter": [
           {
            "fillpattern": {
             "fillmode": "overlay",
             "size": 10,
             "solidity": 0.2
            },
            "type": "scatter"
           }
          ],
          "scatter3d": [
           {
            "line": {
             "colorbar": {
              "outlinewidth": 0,
              "ticks": ""
             }
            },
            "marker": {
             "colorbar": {
              "outlinewidth": 0,
              "ticks": ""
             }
            },
            "type": "scatter3d"
           }
          ],
          "scattercarpet": [
           {
            "marker": {
             "colorbar": {
              "outlinewidth": 0,
              "ticks": ""
             }
            },
            "type": "scattercarpet"
           }
          ],
          "scattergeo": [
           {
            "marker": {
             "colorbar": {
              "outlinewidth": 0,
              "ticks": ""
             }
            },
            "type": "scattergeo"
           }
          ],
          "scattergl": [
           {
            "marker": {
             "colorbar": {
              "outlinewidth": 0,
              "ticks": ""
             }
            },
            "type": "scattergl"
           }
          ],
          "scattermap": [
           {
            "marker": {
             "colorbar": {
              "outlinewidth": 0,
              "ticks": ""
             }
            },
            "type": "scattermap"
           }
          ],
          "scattermapbox": [
           {
            "marker": {
             "colorbar": {
              "outlinewidth": 0,
              "ticks": ""
             }
            },
            "type": "scattermapbox"
           }
          ],
          "scatterpolar": [
           {
            "marker": {
             "colorbar": {
              "outlinewidth": 0,
              "ticks": ""
             }
            },
            "type": "scatterpolar"
           }
          ],
          "scatterpolargl": [
           {
            "marker": {
             "colorbar": {
              "outlinewidth": 0,
              "ticks": ""
             }
            },
            "type": "scatterpolargl"
           }
          ],
          "scatterternary": [
           {
            "marker": {
             "colorbar": {
              "outlinewidth": 0,
              "ticks": ""
             }
            },
            "type": "scatterternary"
           }
          ],
          "surface": [
           {
            "colorbar": {
             "outlinewidth": 0,
             "ticks": ""
            },
            "colorscale": [
             [
              0,
              "#0d0887"
             ],
             [
              0.1111111111111111,
              "#46039f"
             ],
             [
              0.2222222222222222,
              "#7201a8"
             ],
             [
              0.3333333333333333,
              "#9c179e"
             ],
             [
              0.4444444444444444,
              "#bd3786"
             ],
             [
              0.5555555555555556,
              "#d8576b"
             ],
             [
              0.6666666666666666,
              "#ed7953"
             ],
             [
              0.7777777777777778,
              "#fb9f3a"
             ],
             [
              0.8888888888888888,
              "#fdca26"
             ],
             [
              1,
              "#f0f921"
             ]
            ],
            "type": "surface"
           }
          ],
          "table": [
           {
            "cells": {
             "fill": {
              "color": "#EBF0F8"
             },
             "line": {
              "color": "white"
             }
            },
            "header": {
             "fill": {
              "color": "#C8D4E3"
             },
             "line": {
              "color": "white"
             }
            },
            "type": "table"
           }
          ]
         },
         "layout": {
          "annotationdefaults": {
           "arrowcolor": "#2a3f5f",
           "arrowhead": 0,
           "arrowwidth": 1
          },
          "autotypenumbers": "strict",
          "coloraxis": {
           "colorbar": {
            "outlinewidth": 0,
            "ticks": ""
           }
          },
          "colorscale": {
           "diverging": [
            [
             0,
             "#8e0152"
            ],
            [
             0.1,
             "#c51b7d"
            ],
            [
             0.2,
             "#de77ae"
            ],
            [
             0.3,
             "#f1b6da"
            ],
            [
             0.4,
             "#fde0ef"
            ],
            [
             0.5,
             "#f7f7f7"
            ],
            [
             0.6,
             "#e6f5d0"
            ],
            [
             0.7,
             "#b8e186"
            ],
            [
             0.8,
             "#7fbc41"
            ],
            [
             0.9,
             "#4d9221"
            ],
            [
             1,
             "#276419"
            ]
           ],
           "sequential": [
            [
             0,
             "#0d0887"
            ],
            [
             0.1111111111111111,
             "#46039f"
            ],
            [
             0.2222222222222222,
             "#7201a8"
            ],
            [
             0.3333333333333333,
             "#9c179e"
            ],
            [
             0.4444444444444444,
             "#bd3786"
            ],
            [
             0.5555555555555556,
             "#d8576b"
            ],
            [
             0.6666666666666666,
             "#ed7953"
            ],
            [
             0.7777777777777778,
             "#fb9f3a"
            ],
            [
             0.8888888888888888,
             "#fdca26"
            ],
            [
             1,
             "#f0f921"
            ]
           ],
           "sequentialminus": [
            [
             0,
             "#0d0887"
            ],
            [
             0.1111111111111111,
             "#46039f"
            ],
            [
             0.2222222222222222,
             "#7201a8"
            ],
            [
             0.3333333333333333,
             "#9c179e"
            ],
            [
             0.4444444444444444,
             "#bd3786"
            ],
            [
             0.5555555555555556,
             "#d8576b"
            ],
            [
             0.6666666666666666,
             "#ed7953"
            ],
            [
             0.7777777777777778,
             "#fb9f3a"
            ],
            [
             0.8888888888888888,
             "#fdca26"
            ],
            [
             1,
             "#f0f921"
            ]
           ]
          },
          "colorway": [
           "#636efa",
           "#EF553B",
           "#00cc96",
           "#ab63fa",
           "#FFA15A",
           "#19d3f3",
           "#FF6692",
           "#B6E880",
           "#FF97FF",
           "#FECB52"
          ],
          "font": {
           "color": "#2a3f5f"
          },
          "geo": {
           "bgcolor": "white",
           "lakecolor": "white",
           "landcolor": "white",
           "showlakes": true,
           "showland": true,
           "subunitcolor": "#C8D4E3"
          },
          "hoverlabel": {
           "align": "left"
          },
          "hovermode": "closest",
          "mapbox": {
           "style": "light"
          },
          "paper_bgcolor": "white",
          "plot_bgcolor": "white",
          "polar": {
           "angularaxis": {
            "gridcolor": "#EBF0F8",
            "linecolor": "#EBF0F8",
            "ticks": ""
           },
           "bgcolor": "white",
           "radialaxis": {
            "gridcolor": "#EBF0F8",
            "linecolor": "#EBF0F8",
            "ticks": ""
           }
          },
          "scene": {
           "xaxis": {
            "backgroundcolor": "white",
            "gridcolor": "#DFE8F3",
            "gridwidth": 2,
            "linecolor": "#EBF0F8",
            "showbackground": true,
            "ticks": "",
            "zerolinecolor": "#EBF0F8"
           },
           "yaxis": {
            "backgroundcolor": "white",
            "gridcolor": "#DFE8F3",
            "gridwidth": 2,
            "linecolor": "#EBF0F8",
            "showbackground": true,
            "ticks": "",
            "zerolinecolor": "#EBF0F8"
           },
           "zaxis": {
            "backgroundcolor": "white",
            "gridcolor": "#DFE8F3",
            "gridwidth": 2,
            "linecolor": "#EBF0F8",
            "showbackground": true,
            "ticks": "",
            "zerolinecolor": "#EBF0F8"
           }
          },
          "shapedefaults": {
           "line": {
            "color": "#2a3f5f"
           }
          },
          "ternary": {
           "aaxis": {
            "gridcolor": "#DFE8F3",
            "linecolor": "#A2B1C6",
            "ticks": ""
           },
           "baxis": {
            "gridcolor": "#DFE8F3",
            "linecolor": "#A2B1C6",
            "ticks": ""
           },
           "bgcolor": "white",
           "caxis": {
            "gridcolor": "#DFE8F3",
            "linecolor": "#A2B1C6",
            "ticks": ""
           }
          },
          "title": {
           "x": 0.05
          },
          "xaxis": {
           "automargin": true,
           "gridcolor": "#EBF0F8",
           "linecolor": "#EBF0F8",
           "ticks": "",
           "title": {
            "standoff": 15
           },
           "zerolinecolor": "#EBF0F8",
           "zerolinewidth": 2
          },
          "yaxis": {
           "automargin": true,
           "gridcolor": "#EBF0F8",
           "linecolor": "#EBF0F8",
           "ticks": "",
           "title": {
            "standoff": 15
           },
           "zerolinecolor": "#EBF0F8",
           "zerolinewidth": 2
          }
         }
        },
        "title": {
         "text": " Chart: sharpe"
        }
       }
      }
     },
     "metadata": {},
     "output_type": "display_data"
    },
    {
     "data": {
      "application/vnd.plotly.v1+json": {
       "config": {
        "plotlyServerURL": "https://plot.ly"
       },
       "data": [
        {
         "mode": "lines",
         "name": "Max Uprise from Start",
         "type": "scatter",
         "x": {
          "bdata": "AAABAAIAAwAEAAUABgAHAAgACQAKAAsADAANAA4ADwAQABEAEgATABQAFQAWABcAGAAZABoAGwAcAB0AHgAfACAAIQAiACMAJAAlACYAJwAoACkAKgArACwALQAuAC8AMAAxADIAMwA0ADUANgA3ADgAOQA6ADsAPAA9AD4APwBAAEEAQgBDAEQARQBGAEcASABJAEoASwBMAE0ATgBPAFAAUQBSAFMAVABVAFYAVwBYAFkAWgBbAFwAXQBeAF8AYABhAGIAYwBkAGUAZgBnAGgAaQBqAGsAbABtAG4AbwBwAHEAcgBzAHQAdQB2AHcAeAB5AHoAewB8AH0AfgB/AIAAgQCCAIMAhACFAIYAhwCIAIkAigCLAIwAjQCOAI8AkACRAJIAkwCUAJUAlgCXAJgAmQCaAJsAnACdAJ4AnwCgAKEAogCjAKQApQCmAKcAqACpAKoAqwCsAK0ArgCvALAAsQCyALMAtAC1ALYAtwC4ALkAugC7ALwAvQC+AL8AwADBAMIAwwDEAMUAxgDHAMgAyQDKAMsAzADNAM4AzwDQANEA0gDTANQA1QDWANcA2ADZANoA2wDcAN0A3gDfAOAA4QDiAOMA5ADlAOYA5wDoAOkA6gDrAOwA7QDuAO8A8ADxAPIA8wD0APUA9gD3APgA+QD6APsA/AD9AP4A/wAAAQEBAgEDAQQBBQEGAQcBCAEJAQoBCwEMAQ0BDgEPARABEQESARMBFAEVARYBFwEYARkBGgEbARwBHQEeAR8BIAEhASIBIwEkASUBJgEnASgBKQEqASsBLAEtAS4BLwEwATEBMgEzATQBNQE2ATcBOAE5AToBOwE8AT0BPgE/AUABQQFCAUMBRAFFAUYBRwFIAUkBSgFLAUwBTQFOAU8BUAFRAVIBUwFUAVUBVgFXAVgBWQFaAVsBXAFdAV4BXwFgAWEBYgFjAWQBZQFmAWcBaAFpAWoBawFsAQ==",
          "dtype": "i2"
         },
         "xaxis": "x",
         "y": {
          "bdata": "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",
          "dtype": "f8"
         },
         "yaxis": "y"
        },
        {
         "mode": "lines",
         "name": "Max Downfall from Start",
         "type": "scatter",
         "x": {
          "bdata": "AAABAAIAAwAEAAUABgAHAAgACQAKAAsADAANAA4ADwAQABEAEgATABQAFQAWABcAGAAZABoAGwAcAB0AHgAfACAAIQAiACMAJAAlACYAJwAoACkAKgArACwALQAuAC8AMAAxADIAMwA0ADUANgA3ADgAOQA6ADsAPAA9AD4APwBAAEEAQgBDAEQARQBGAEcASABJAEoASwBMAE0ATgBPAFAAUQBSAFMAVABVAFYAVwBYAFkAWgBbAFwAXQBeAF8AYABhAGIAYwBkAGUAZgBnAGgAaQBqAGsAbABtAG4AbwBwAHEAcgBzAHQAdQB2AHcAeAB5AHoAewB8AH0AfgB/AIAAgQCCAIMAhACFAIYAhwCIAIkAigCLAIwAjQCOAI8AkACRAJIAkwCUAJUAlgCXAJgAmQCaAJsAnACdAJ4AnwCgAKEAogCjAKQApQCmAKcAqACpAKoAqwCsAK0ArgCvALAAsQCyALMAtAC1ALYAtwC4ALkAugC7ALwAvQC+AL8AwADBAMIAwwDEAMUAxgDHAMgAyQDKAMsAzADNAM4AzwDQANEA0gDTANQA1QDWANcA2ADZANoA2wDcAN0A3gDfAOAA4QDiAOMA5ADlAOYA5wDoAOkA6gDrAOwA7QDuAO8A8ADxAPIA8wD0APUA9gD3APgA+QD6APsA/AD9AP4A/wAAAQEBAgEDAQQBBQEGAQcBCAEJAQoBCwEMAQ0BDgEPARABEQESARMBFAEVARYBFwEYARkBGgEbARwBHQEeAR8BIAEhASIBIwEkASUBJgEnASgBKQEqASsBLAEtAS4BLwEwATEBMgEzATQBNQE2ATcBOAE5AToBOwE8AT0BPgE/AUABQQFCAUMBRAFFAUYBRwFIAUkBSgFLAUwBTQFOAU8BUAFRAVIBUwFUAVUBVgFXAVgBWQFaAVsBXAFdAV4BXwFgAWEBYgFjAWQBZQFmAWcBaAFpAWoBawFsAQ==",
          "dtype": "i2"
         },
         "xaxis": "x2",
         "y": {
          "bdata": "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",
          "dtype": "f8"
         },
         "yaxis": "y2"
        }
       ],
       "layout": {
        "annotations": [
         {
          "bgcolor": "rgba(255,255,255,0.8)",
          "bordercolor": "lightgray",
          "borderwidth": 1,
          "font": {
           "color": "darkblue",
           "size": 11
          },
          "showarrow": false,
          "text": "<b>PnL Extrema Analysis</b><br>Shows maximum profit (uprise) and maximum loss (downfall) achieved from start.<br>• Top chart: Best performance reached so far (always ≥ 0)<br>• Bottom chart: Worst loss experienced so far (always ≤ 0)<br>• Helps assess peak performance and maximum risk exposure",
          "x": 0.5,
          "xanchor": "center",
          "xref": "paper",
          "y": -0.36,
          "yanchor": "bottom",
          "yref": "paper"
         },
         {
          "bgcolor": "rgba(255,255,255,0.8)",
          "bordercolor": "lightgray",
          "borderwidth": 1,
          "font": {
           "color": "darkblue",
           "size": 11
          },
          "showarrow": false,
          "text": "<b>PnL Extrema Analysis</b><br>Shows maximum profit (uprise) and maximum loss (downfall) achieved from start.<br>• Top chart: Best performance reached so far (always ≥ 0)<br>• Bottom chart: Worst loss experienced so far (always ≤ 0)<br>• Helps assess peak performance and maximum risk exposure",
          "x": 0.5,
          "xanchor": "center",
          "xref": "paper",
          "y": -0.36,
          "yanchor": "bottom",
          "yref": "paper"
         }
        ],
        "height": 600,
        "margin": {
         "b": 140
        },
        "template": {
         "data": {
          "bar": [
           {
            "error_x": {
             "color": "#2a3f5f"
            },
            "error_y": {
             "color": "#2a3f5f"
            },
            "marker": {
             "line": {
              "color": "white",
              "width": 0.5
             },
             "pattern": {
              "fillmode": "overlay",
              "size": 10,
              "solidity": 0.2
             }
            },
            "type": "bar"
           }
          ],
          "barpolar": [
           {
            "marker": {
             "line": {
              "color": "white",
              "width": 0.5
             },
             "pattern": {
              "fillmode": "overlay",
              "size": 10,
              "solidity": 0.2
             }
            },
            "type": "barpolar"
           }
          ],
          "carpet": [
           {
            "aaxis": {
             "endlinecolor": "#2a3f5f",
             "gridcolor": "#C8D4E3",
             "linecolor": "#C8D4E3",
             "minorgridcolor": "#C8D4E3",
             "startlinecolor": "#2a3f5f"
            },
            "baxis": {
             "endlinecolor": "#2a3f5f",
             "gridcolor": "#C8D4E3",
             "linecolor": "#C8D4E3",
             "minorgridcolor": "#C8D4E3",
             "startlinecolor": "#2a3f5f"
            },
            "type": "carpet"
           }
          ],
          "choropleth": [
           {
            "colorbar": {
             "outlinewidth": 0,
             "ticks": ""
            },
            "type": "choropleth"
           }
          ],
          "contour": [
           {
            "colorbar": {
             "outlinewidth": 0,
             "ticks": ""
            },
            "colorscale": [
             [
              0,
              "#0d0887"
             ],
             [
              0.1111111111111111,
              "#46039f"
             ],
             [
              0.2222222222222222,
              "#7201a8"
             ],
             [
              0.3333333333333333,
              "#9c179e"
             ],
             [
              0.4444444444444444,
              "#bd3786"
             ],
             [
              0.5555555555555556,
              "#d8576b"
             ],
             [
              0.6666666666666666,
              "#ed7953"
             ],
             [
              0.7777777777777778,
              "#fb9f3a"
             ],
             [
              0.8888888888888888,
              "#fdca26"
             ],
             [
              1,
              "#f0f921"
             ]
            ],
            "type": "contour"
           }
          ],
          "contourcarpet": [
           {
            "colorbar": {
             "outlinewidth": 0,
             "ticks": ""
            },
            "type": "contourcarpet"
           }
          ],
          "heatmap": [
           {
            "colorbar": {
             "outlinewidth": 0,
             "ticks": ""
            },
            "colorscale": [
             [
              0,
              "#0d0887"
             ],
             [
              0.1111111111111111,
              "#46039f"
             ],
             [
              0.2222222222222222,
              "#7201a8"
             ],
             [
              0.3333333333333333,
              "#9c179e"
             ],
             [
              0.4444444444444444,
              "#bd3786"
             ],
             [
              0.5555555555555556,
              "#d8576b"
             ],
             [
              0.6666666666666666,
              "#ed7953"
             ],
             [
              0.7777777777777778,
              "#fb9f3a"
             ],
             [
              0.8888888888888888,
              "#fdca26"
             ],
             [
              1,
              "#f0f921"
             ]
            ],
            "type": "heatmap"
           }
          ],
          "histogram": [
           {
            "marker": {
             "pattern": {
              "fillmode": "overlay",
              "size": 10,
              "solidity": 0.2
             }
            },
            "type": "histogram"
           }
          ],
          "histogram2d": [
           {
            "colorbar": {
             "outlinewidth": 0,
             "ticks": ""
            },
            "colorscale": [
             [
              0,
              "#0d0887"
             ],
             [
              0.1111111111111111,
              "#46039f"
             ],
             [
              0.2222222222222222,
              "#7201a8"
             ],
             [
              0.3333333333333333,
              "#9c179e"
             ],
             [
              0.4444444444444444,
              "#bd3786"
             ],
             [
              0.5555555555555556,
              "#d8576b"
             ],
             [
              0.6666666666666666,
              "#ed7953"
             ],
             [
              0.7777777777777778,
              "#fb9f3a"
             ],
             [
              0.8888888888888888,
              "#fdca26"
             ],
             [
              1,
              "#f0f921"
             ]
            ],
            "type": "histogram2d"
           }
          ],
          "histogram2dcontour": [
           {
            "colorbar": {
             "outlinewidth": 0,
             "ticks": ""
            },
            "colorscale": [
             [
              0,
              "#0d0887"
             ],
             [
              0.1111111111111111,
              "#46039f"
             ],
             [
              0.2222222222222222,
              "#7201a8"
             ],
             [
              0.3333333333333333,
              "#9c179e"
             ],
             [
              0.4444444444444444,
              "#bd3786"
             ],
             [
              0.5555555555555556,
              "#d8576b"
             ],
             [
              0.6666666666666666,
              "#ed7953"
             ],
             [
              0.7777777777777778,
              "#fb9f3a"
             ],
             [
              0.8888888888888888,
              "#fdca26"
             ],
             [
              1,
              "#f0f921"
             ]
            ],
            "type": "histogram2dcontour"
           }
          ],
          "mesh3d": [
           {
            "colorbar": {
             "outlinewidth": 0,
             "ticks": ""
            },
            "type": "mesh3d"
           }
          ],
          "parcoords": [
           {
            "line": {
             "colorbar": {
              "outlinewidth": 0,
              "ticks": ""
             }
            },
            "type": "parcoords"
           }
          ],
          "pie": [
           {
            "automargin": true,
            "type": "pie"
           }
          ],
          "scatter": [
           {
            "fillpattern": {
             "fillmode": "overlay",
             "size": 10,
             "solidity": 0.2
            },
            "type": "scatter"
           }
          ],
          "scatter3d": [
           {
            "line": {
             "colorbar": {
              "outlinewidth": 0,
              "ticks": ""
             }
            },
            "marker": {
             "colorbar": {
              "outlinewidth": 0,
              "ticks": ""
             }
            },
            "type": "scatter3d"
           }
          ],
          "scattercarpet": [
           {
            "marker": {
             "colorbar": {
              "outlinewidth": 0,
              "ticks": ""
             }
            },
            "type": "scattercarpet"
           }
          ],
          "scattergeo": [
           {
            "marker": {
             "colorbar": {
              "outlinewidth": 0,
              "ticks": ""
             }
            },
            "type": "scattergeo"
           }
          ],
          "scattergl": [
           {
            "marker": {
             "colorbar": {
              "outlinewidth": 0,
              "ticks": ""
             }
            },
            "type": "scattergl"
           }
          ],
          "scattermap": [
           {
            "marker": {
             "colorbar": {
              "outlinewidth": 0,
              "ticks": ""
             }
            },
            "type": "scattermap"
           }
          ],
          "scattermapbox": [
           {
            "marker": {
             "colorbar": {
              "outlinewidth": 0,
              "ticks": ""
             }
            },
            "type": "scattermapbox"
           }
          ],
          "scatterpolar": [
           {
            "marker": {
             "colorbar": {
              "outlinewidth": 0,
              "ticks": ""
             }
            },
            "type": "scatterpolar"
           }
          ],
          "scatterpolargl": [
           {
            "marker": {
             "colorbar": {
              "outlinewidth": 0,
              "ticks": ""
             }
            },
            "type": "scatterpolargl"
           }
          ],
          "scatterternary": [
           {
            "marker": {
             "colorbar": {
              "outlinewidth": 0,
              "ticks": ""
             }
            },
            "type": "scatterternary"
           }
          ],
          "surface": [
           {
            "colorbar": {
             "outlinewidth": 0,
             "ticks": ""
            },
            "colorscale": [
             [
              0,
              "#0d0887"
             ],
             [
              0.1111111111111111,
              "#46039f"
             ],
             [
              0.2222222222222222,
              "#7201a8"
             ],
             [
              0.3333333333333333,
              "#9c179e"
             ],
             [
              0.4444444444444444,
              "#bd3786"
             ],
             [
              0.5555555555555556,
              "#d8576b"
             ],
             [
              0.6666666666666666,
              "#ed7953"
             ],
             [
              0.7777777777777778,
              "#fb9f3a"
             ],
             [
              0.8888888888888888,
              "#fdca26"
             ],
             [
              1,
              "#f0f921"
             ]
            ],
            "type": "surface"
           }
          ],
          "table": [
           {
            "cells": {
             "fill": {
              "color": "#EBF0F8"
             },
             "line": {
              "color": "white"
             }
            },
            "header": {
             "fill": {
              "color": "#C8D4E3"
             },
             "line": {
              "color": "white"
             }
            },
            "type": "table"
           }
          ]
         },
         "layout": {
          "annotationdefaults": {
           "arrowcolor": "#2a3f5f",
           "arrowhead": 0,
           "arrowwidth": 1
          },
          "autotypenumbers": "strict",
          "coloraxis": {
           "colorbar": {
            "outlinewidth": 0,
            "ticks": ""
           }
          },
          "colorscale": {
           "diverging": [
            [
             0,
             "#8e0152"
            ],
            [
             0.1,
             "#c51b7d"
            ],
            [
             0.2,
             "#de77ae"
            ],
            [
             0.3,
             "#f1b6da"
            ],
            [
             0.4,
             "#fde0ef"
            ],
            [
             0.5,
             "#f7f7f7"
            ],
            [
             0.6,
             "#e6f5d0"
            ],
            [
             0.7,
             "#b8e186"
            ],
            [
             0.8,
             "#7fbc41"
            ],
            [
             0.9,
             "#4d9221"
            ],
            [
             1,
             "#276419"
            ]
           ],
           "sequential": [
            [
             0,
             "#0d0887"
            ],
            [
             0.1111111111111111,
             "#46039f"
            ],
            [
             0.2222222222222222,
             "#7201a8"
            ],
            [
             0.3333333333333333,
             "#9c179e"
            ],
            [
             0.4444444444444444,
             "#bd3786"
            ],
            [
             0.5555555555555556,
             "#d8576b"
            ],
            [
             0.6666666666666666,
             "#ed7953"
            ],
            [
             0.7777777777777778,
             "#fb9f3a"
            ],
            [
             0.8888888888888888,
             "#fdca26"
            ],
            [
             1,
             "#f0f921"
            ]
           ],
           "sequentialminus": [
            [
             0,
             "#0d0887"
            ],
            [
             0.1111111111111111,
             "#46039f"
            ],
            [
             0.2222222222222222,
             "#7201a8"
            ],
            [
             0.3333333333333333,
             "#9c179e"
            ],
            [
             0.4444444444444444,
             "#bd3786"
            ],
            [
             0.5555555555555556,
             "#d8576b"
            ],
            [
             0.6666666666666666,
             "#ed7953"
            ],
            [
             0.7777777777777778,
             "#fb9f3a"
            ],
            [
             0.8888888888888888,
             "#fdca26"
            ],
            [
             1,
             "#f0f921"
            ]
           ]
          },
          "colorway": [
           "#636efa",
           "#EF553B",
           "#00cc96",
           "#ab63fa",
           "#FFA15A",
           "#19d3f3",
           "#FF6692",
           "#B6E880",
           "#FF97FF",
           "#FECB52"
          ],
          "font": {
           "color": "#2a3f5f"
          },
          "geo": {
           "bgcolor": "white",
           "lakecolor": "white",
           "landcolor": "white",
           "showlakes": true,
           "showland": true,
           "subunitcolor": "#C8D4E3"
          },
          "hoverlabel": {
           "align": "left"
          },
          "hovermode": "closest",
          "mapbox": {
           "style": "light"
          },
          "paper_bgcolor": "white",
          "plot_bgcolor": "white",
          "polar": {
           "angularaxis": {
            "gridcolor": "#EBF0F8",
            "linecolor": "#EBF0F8",
            "ticks": ""
           },
           "bgcolor": "white",
           "radialaxis": {
            "gridcolor": "#EBF0F8",
            "linecolor": "#EBF0F8",
            "ticks": ""
           }
          },
          "scene": {
           "xaxis": {
            "backgroundcolor": "white",
            "gridcolor": "#DFE8F3",
            "gridwidth": 2,
            "linecolor": "#EBF0F8",
            "showbackground": true,
            "ticks": "",
            "zerolinecolor": "#EBF0F8"
           },
           "yaxis": {
            "backgroundcolor": "white",
            "gridcolor": "#DFE8F3",
            "gridwidth": 2,
            "linecolor": "#EBF0F8",
            "showbackground": true,
            "ticks": "",
            "zerolinecolor": "#EBF0F8"
           },
           "zaxis": {
            "backgroundcolor": "white",
            "gridcolor": "#DFE8F3",
            "gridwidth": 2,
            "linecolor": "#EBF0F8",
            "showbackground": true,
            "ticks": "",
            "zerolinecolor": "#EBF0F8"
           }
          },
          "shapedefaults": {
           "line": {
            "color": "#2a3f5f"
           }
          },
          "ternary": {
           "aaxis": {
            "gridcolor": "#DFE8F3",
            "linecolor": "#A2B1C6",
            "ticks": ""
           },
           "baxis": {
            "gridcolor": "#DFE8F3",
            "linecolor": "#A2B1C6",
            "ticks": ""
           },
           "bgcolor": "white",
           "caxis": {
            "gridcolor": "#DFE8F3",
            "linecolor": "#A2B1C6",
            "ticks": ""
           }
          },
          "title": {
           "x": 0.05
          },
          "xaxis": {
           "automargin": true,
           "gridcolor": "#EBF0F8",
           "linecolor": "#EBF0F8",
           "ticks": "",
           "title": {
            "standoff": 15
           },
           "zerolinecolor": "#EBF0F8",
           "zerolinewidth": 2
          },
          "yaxis": {
           "automargin": true,
           "gridcolor": "#EBF0F8",
           "linecolor": "#EBF0F8",
           "ticks": "",
           "title": {
            "standoff": 15
           },
           "zerolinecolor": "#EBF0F8",
           "zerolinewidth": 2
          }
         }
        },
        "title": {
         "text": " Chart: pnl_extrema"
        },
        "xaxis": {
         "anchor": "y",
         "domain": [
          0,
          1
         ],
         "matches": "x2",
         "showticklabels": false
        },
        "xaxis2": {
         "anchor": "y2",
         "domain": [
          0,
          1
         ]
        },
        "yaxis": {
         "anchor": "x",
         "domain": [
          0.53,
          1
         ]
        },
        "yaxis2": {
         "anchor": "x2",
         "domain": [
          0,
          0.47
         ]
        }
       }
      }
     },
     "metadata": {},
     "output_type": "display_data"
    },
    {
     "data": {
      "application/vnd.plotly.v1+json": {
       "config": {
        "plotlyServerURL": "https://plot.ly"
       },
       "data": [
        {
         "mode": "lines",
         "name": "ROI % (since start)",
         "type": "scatter",
         "x": {
          "bdata": "AAABAAIAAwAEAAUABgAHAAgACQAKAAsADAANAA4ADwAQABEAEgATABQAFQAWABcAGAAZABoAGwAcAB0AHgAfACAAIQAiACMAJAAlACYAJwAoACkAKgArACwALQAuAC8AMAAxADIAMwA0ADUANgA3ADgAOQA6ADsAPAA9AD4APwBAAEEAQgBDAEQARQBGAEcASABJAEoASwBMAE0ATgBPAFAAUQBSAFMAVABVAFYAVwBYAFkAWgBbAFwAXQBeAF8AYABhAGIAYwBkAGUAZgBnAGgAaQBqAGsAbABtAG4AbwBwAHEAcgBzAHQAdQB2AHcAeAB5AHoAewB8AH0AfgB/AIAAgQCCAIMAhACFAIYAhwCIAIkAigCLAIwAjQCOAI8AkACRAJIAkwCUAJUAlgCXAJgAmQCaAJsAnACdAJ4AnwCgAKEAogCjAKQApQCmAKcAqACpAKoAqwCsAK0ArgCvALAAsQCyALMAtAC1ALYAtwC4ALkAugC7ALwAvQC+AL8AwADBAMIAwwDEAMUAxgDHAMgAyQDKAMsAzADNAM4AzwDQANEA0gDTANQA1QDWANcA2ADZANoA2wDcAN0A3gDfAOAA4QDiAOMA5ADlAOYA5wDoAOkA6gDrAOwA7QDuAO8A8ADxAPIA8wD0APUA9gD3APgA+QD6APsA/AD9AP4A/wAAAQEBAgEDAQQBBQEGAQcBCAEJAQoBCwEMAQ0BDgEPARABEQESARMBFAEVARYBFwEYARkBGgEbARwBHQEeAR8BIAEhASIBIwEkASUBJgEnASgBKQEqASsBLAEtAS4BLwEwATEBMgEzATQBNQE2ATcBOAE5AToBOwE8AT0BPgE/AUABQQFCAUMBRAFFAUYBRwFIAUkBSgFLAUwBTQFOAU8BUAFRAVIBUwFUAVUBVgFXAVgBWQFaAVsBXAFdAV4BXwFgAWEBYgFjAWQBZQFmAWcBaAFpAWoBawFsAQ==",
          "dtype": "i2"
         },
         "y": {
          "bdata": "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",
          "dtype": "f8"
         }
        }
       ],
       "layout": {
        "annotations": [
         {
          "bgcolor": "rgba(255,255,255,0.8)",
          "bordercolor": "lightgray",
          "borderwidth": 1,
          "font": {
           "color": "darkblue",
           "size": 11
          },
          "showarrow": false,
          "text": "<b>Return on Investment (ROI %)</b><br>Shows percentage return relative to initial investment.<br>• Positive values: Profit above initial capital<br>• Negative values: Loss below initial capital<br>• 100% ROI = doubled your money • 50% ROI = 1.5x return",
          "x": 0.5,
          "xanchor": "center",
          "xref": "paper",
          "y": -0.36,
          "yanchor": "bottom",
          "yref": "paper"
         }
        ],
        "height": 500,
        "margin": {
         "b": 120
        },
        "template": {
         "data": {
          "bar": [
           {
            "error_x": {
             "color": "#2a3f5f"
            },
            "error_y": {
             "color": "#2a3f5f"
            },
            "marker": {
             "line": {
              "color": "white",
              "width": 0.5
             },
             "pattern": {
              "fillmode": "overlay",
              "size": 10,
              "solidity": 0.2
             }
            },
            "type": "bar"
           }
          ],
          "barpolar": [
           {
            "marker": {
             "line": {
              "color": "white",
              "width": 0.5
             },
             "pattern": {
              "fillmode": "overlay",
              "size": 10,
              "solidity": 0.2
             }
            },
            "type": "barpolar"
           }
          ],
          "carpet": [
           {
            "aaxis": {
             "endlinecolor": "#2a3f5f",
             "gridcolor": "#C8D4E3",
             "linecolor": "#C8D4E3",
             "minorgridcolor": "#C8D4E3",
             "startlinecolor": "#2a3f5f"
            },
            "baxis": {
             "endlinecolor": "#2a3f5f",
             "gridcolor": "#C8D4E3",
             "linecolor": "#C8D4E3",
             "minorgridcolor": "#C8D4E3",
             "startlinecolor": "#2a3f5f"
            },
            "type": "carpet"
           }
          ],
          "choropleth": [
           {
            "colorbar": {
             "outlinewidth": 0,
             "ticks": ""
            },
            "type": "choropleth"
           }
          ],
          "contour": [
           {
            "colorbar": {
             "outlinewidth": 0,
             "ticks": ""
            },
            "colorscale": [
             [
              0,
              "#0d0887"
             ],
             [
              0.1111111111111111,
              "#46039f"
             ],
             [
              0.2222222222222222,
              "#7201a8"
             ],
             [
              0.3333333333333333,
              "#9c179e"
             ],
             [
              0.4444444444444444,
              "#bd3786"
             ],
             [
              0.5555555555555556,
              "#d8576b"
             ],
             [
              0.6666666666666666,
              "#ed7953"
             ],
             [
              0.7777777777777778,
              "#fb9f3a"
             ],
             [
              0.8888888888888888,
              "#fdca26"
             ],
             [
              1,
              "#f0f921"
             ]
            ],
            "type": "contour"
           }
          ],
          "contourcarpet": [
           {
            "colorbar": {
             "outlinewidth": 0,
             "ticks": ""
            },
            "type": "contourcarpet"
           }
          ],
          "heatmap": [
           {
            "colorbar": {
             "outlinewidth": 0,
             "ticks": ""
            },
            "colorscale": [
             [
              0,
              "#0d0887"
             ],
             [
              0.1111111111111111,
              "#46039f"
             ],
             [
              0.2222222222222222,
              "#7201a8"
             ],
             [
              0.3333333333333333,
              "#9c179e"
             ],
             [
              0.4444444444444444,
              "#bd3786"
             ],
             [
              0.5555555555555556,
              "#d8576b"
             ],
             [
              0.6666666666666666,
              "#ed7953"
             ],
             [
              0.7777777777777778,
              "#fb9f3a"
             ],
             [
              0.8888888888888888,
              "#fdca26"
             ],
             [
              1,
              "#f0f921"
             ]
            ],
            "type": "heatmap"
           }
          ],
          "histogram": [
           {
            "marker": {
             "pattern": {
              "fillmode": "overlay",
              "size": 10,
              "solidity": 0.2
             }
            },
            "type": "histogram"
           }
          ],
          "histogram2d": [
           {
            "colorbar": {
             "outlinewidth": 0,
             "ticks": ""
            },
            "colorscale": [
             [
              0,
              "#0d0887"
             ],
             [
              0.1111111111111111,
              "#46039f"
             ],
             [
              0.2222222222222222,
              "#7201a8"
             ],
             [
              0.3333333333333333,
              "#9c179e"
             ],
             [
              0.4444444444444444,
              "#bd3786"
             ],
             [
              0.5555555555555556,
              "#d8576b"
             ],
             [
              0.6666666666666666,
              "#ed7953"
             ],
             [
              0.7777777777777778,
              "#fb9f3a"
             ],
             [
              0.8888888888888888,
              "#fdca26"
             ],
             [
              1,
              "#f0f921"
             ]
            ],
            "type": "histogram2d"
           }
          ],
          "histogram2dcontour": [
           {
            "colorbar": {
             "outlinewidth": 0,
             "ticks": ""
            },
            "colorscale": [
             [
              0,
              "#0d0887"
             ],
             [
              0.1111111111111111,
              "#46039f"
             ],
             [
              0.2222222222222222,
              "#7201a8"
             ],
             [
              0.3333333333333333,
              "#9c179e"
             ],
             [
              0.4444444444444444,
              "#bd3786"
             ],
             [
              0.5555555555555556,
              "#d8576b"
             ],
             [
              0.6666666666666666,
              "#ed7953"
             ],
             [
              0.7777777777777778,
              "#fb9f3a"
             ],
             [
              0.8888888888888888,
              "#fdca26"
             ],
             [
              1,
              "#f0f921"
             ]
            ],
            "type": "histogram2dcontour"
           }
          ],
          "mesh3d": [
           {
            "colorbar": {
             "outlinewidth": 0,
             "ticks": ""
            },
            "type": "mesh3d"
           }
          ],
          "parcoords": [
           {
            "line": {
             "colorbar": {
              "outlinewidth": 0,
              "ticks": ""
             }
            },
            "type": "parcoords"
           }
          ],
          "pie": [
           {
            "automargin": true,
            "type": "pie"
           }
          ],
          "scatter": [
           {
            "fillpattern": {
             "fillmode": "overlay",
             "size": 10,
             "solidity": 0.2
            },
            "type": "scatter"
           }
          ],
          "scatter3d": [
           {
            "line": {
             "colorbar": {
              "outlinewidth": 0,
              "ticks": ""
             }
            },
            "marker": {
             "colorbar": {
              "outlinewidth": 0,
              "ticks": ""
             }
            },
            "type": "scatter3d"
           }
          ],
          "scattercarpet": [
           {
            "marker": {
             "colorbar": {
              "outlinewidth": 0,
              "ticks": ""
             }
            },
            "type": "scattercarpet"
           }
          ],
          "scattergeo": [
           {
            "marker": {
             "colorbar": {
              "outlinewidth": 0,
              "ticks": ""
             }
            },
            "type": "scattergeo"
           }
          ],
          "scattergl": [
           {
            "marker": {
             "colorbar": {
              "outlinewidth": 0,
              "ticks": ""
             }
            },
            "type": "scattergl"
           }
          ],
          "scattermap": [
           {
            "marker": {
             "colorbar": {
              "outlinewidth": 0,
              "ticks": ""
             }
            },
            "type": "scattermap"
           }
          ],
          "scattermapbox": [
           {
            "marker": {
             "colorbar": {
              "outlinewidth": 0,
              "ticks": ""
             }
            },
            "type": "scattermapbox"
           }
          ],
          "scatterpolar": [
           {
            "marker": {
             "colorbar": {
              "outlinewidth": 0,
              "ticks": ""
             }
            },
            "type": "scatterpolar"
           }
          ],
          "scatterpolargl": [
           {
            "marker": {
             "colorbar": {
              "outlinewidth": 0,
              "ticks": ""
             }
            },
            "type": "scatterpolargl"
           }
          ],
          "scatterternary": [
           {
            "marker": {
             "colorbar": {
              "outlinewidth": 0,
              "ticks": ""
             }
            },
            "type": "scatterternary"
           }
          ],
          "surface": [
           {
            "colorbar": {
             "outlinewidth": 0,
             "ticks": ""
            },
            "colorscale": [
             [
              0,
              "#0d0887"
             ],
             [
              0.1111111111111111,
              "#46039f"
             ],
             [
              0.2222222222222222,
              "#7201a8"
             ],
             [
              0.3333333333333333,
              "#9c179e"
             ],
             [
              0.4444444444444444,
              "#bd3786"
             ],
             [
              0.5555555555555556,
              "#d8576b"
             ],
             [
              0.6666666666666666,
              "#ed7953"
             ],
             [
              0.7777777777777778,
              "#fb9f3a"
             ],
             [
              0.8888888888888888,
              "#fdca26"
             ],
             [
              1,
              "#f0f921"
             ]
            ],
            "type": "surface"
           }
          ],
          "table": [
           {
            "cells": {
             "fill": {
              "color": "#EBF0F8"
             },
             "line": {
              "color": "white"
             }
            },
            "header": {
             "fill": {
              "color": "#C8D4E3"
             },
             "line": {
              "color": "white"
             }
            },
            "type": "table"
           }
          ]
         },
         "layout": {
          "annotationdefaults": {
           "arrowcolor": "#2a3f5f",
           "arrowhead": 0,
           "arrowwidth": 1
          },
          "autotypenumbers": "strict",
          "coloraxis": {
           "colorbar": {
            "outlinewidth": 0,
            "ticks": ""
           }
          },
          "colorscale": {
           "diverging": [
            [
             0,
             "#8e0152"
            ],
            [
             0.1,
             "#c51b7d"
            ],
            [
             0.2,
             "#de77ae"
            ],
            [
             0.3,
             "#f1b6da"
            ],
            [
             0.4,
             "#fde0ef"
            ],
            [
             0.5,
             "#f7f7f7"
            ],
            [
             0.6,
             "#e6f5d0"
            ],
            [
             0.7,
             "#b8e186"
            ],
            [
             0.8,
             "#7fbc41"
            ],
            [
             0.9,
             "#4d9221"
            ],
            [
             1,
             "#276419"
            ]
           ],
           "sequential": [
            [
             0,
             "#0d0887"
            ],
            [
             0.1111111111111111,
             "#46039f"
            ],
            [
             0.2222222222222222,
             "#7201a8"
            ],
            [
             0.3333333333333333,
             "#9c179e"
            ],
            [
             0.4444444444444444,
             "#bd3786"
            ],
            [
             0.5555555555555556,
             "#d8576b"
            ],
            [
             0.6666666666666666,
             "#ed7953"
            ],
            [
             0.7777777777777778,
             "#fb9f3a"
            ],
            [
             0.8888888888888888,
             "#fdca26"
            ],
            [
             1,
             "#f0f921"
            ]
           ],
           "sequentialminus": [
            [
             0,
             "#0d0887"
            ],
            [
             0.1111111111111111,
             "#46039f"
            ],
            [
             0.2222222222222222,
             "#7201a8"
            ],
            [
             0.3333333333333333,
             "#9c179e"
            ],
            [
             0.4444444444444444,
             "#bd3786"
            ],
            [
             0.5555555555555556,
             "#d8576b"
            ],
            [
             0.6666666666666666,
             "#ed7953"
            ],
            [
             0.7777777777777778,
             "#fb9f3a"
            ],
            [
             0.8888888888888888,
             "#fdca26"
            ],
            [
             1,
             "#f0f921"
            ]
           ]
          },
          "colorway": [
           "#636efa",
           "#EF553B",
           "#00cc96",
           "#ab63fa",
           "#FFA15A",
           "#19d3f3",
           "#FF6692",
           "#B6E880",
           "#FF97FF",
           "#FECB52"
          ],
          "font": {
           "color": "#2a3f5f"
          },
          "geo": {
           "bgcolor": "white",
           "lakecolor": "white",
           "landcolor": "white",
           "showlakes": true,
           "showland": true,
           "subunitcolor": "#C8D4E3"
          },
          "hoverlabel": {
           "align": "left"
          },
          "hovermode": "closest",
          "mapbox": {
           "style": "light"
          },
          "paper_bgcolor": "white",
          "plot_bgcolor": "white",
          "polar": {
           "angularaxis": {
            "gridcolor": "#EBF0F8",
            "linecolor": "#EBF0F8",
            "ticks": ""
           },
           "bgcolor": "white",
           "radialaxis": {
            "gridcolor": "#EBF0F8",
            "linecolor": "#EBF0F8",
            "ticks": ""
           }
          },
          "scene": {
           "xaxis": {
            "backgroundcolor": "white",
            "gridcolor": "#DFE8F3",
            "gridwidth": 2,
            "linecolor": "#EBF0F8",
            "showbackground": true,
            "ticks": "",
            "zerolinecolor": "#EBF0F8"
           },
           "yaxis": {
            "backgroundcolor": "white",
            "gridcolor": "#DFE8F3",
            "gridwidth": 2,
            "linecolor": "#EBF0F8",
            "showbackground": true,
            "ticks": "",
            "zerolinecolor": "#EBF0F8"
           },
           "zaxis": {
            "backgroundcolor": "white",
            "gridcolor": "#DFE8F3",
            "gridwidth": 2,
            "linecolor": "#EBF0F8",
            "showbackground": true,
            "ticks": "",
            "zerolinecolor": "#EBF0F8"
           }
          },
          "shapedefaults": {
           "line": {
            "color": "#2a3f5f"
           }
          },
          "ternary": {
           "aaxis": {
            "gridcolor": "#DFE8F3",
            "linecolor": "#A2B1C6",
            "ticks": ""
           },
           "baxis": {
            "gridcolor": "#DFE8F3",
            "linecolor": "#A2B1C6",
            "ticks": ""
           },
           "bgcolor": "white",
           "caxis": {
            "gridcolor": "#DFE8F3",
            "linecolor": "#A2B1C6",
            "ticks": ""
           }
          },
          "title": {
           "x": 0.05
          },
          "xaxis": {
           "automargin": true,
           "gridcolor": "#EBF0F8",
           "linecolor": "#EBF0F8",
           "ticks": "",
           "title": {
            "standoff": 15
           },
           "zerolinecolor": "#EBF0F8",
           "zerolinewidth": 2
          },
          "yaxis": {
           "automargin": true,
           "gridcolor": "#EBF0F8",
           "linecolor": "#EBF0F8",
           "ticks": "",
           "title": {
            "standoff": 15
           },
           "zerolinecolor": "#EBF0F8",
           "zerolinewidth": 2
          }
         }
        },
        "title": {
         "text": " Chart: roi"
        }
       }
      }
     },
     "metadata": {},
     "output_type": "display_data"
    },
    {
     "data": {
      "application/vnd.plotly.v1+json": {
       "config": {
        "plotlyServerURL": "https://plot.ly"
       },
       "data": [
        {
         "mode": "lines",
         "name": "Drawdown % (≤0)",
         "type": "scatter",
         "x": {
          "bdata": "AAABAAIAAwAEAAUABgAHAAgACQAKAAsADAANAA4ADwAQABEAEgATABQAFQAWABcAGAAZABoAGwAcAB0AHgAfACAAIQAiACMAJAAlACYAJwAoACkAKgArACwALQAuAC8AMAAxADIAMwA0ADUANgA3ADgAOQA6ADsAPAA9AD4APwBAAEEAQgBDAEQARQBGAEcASABJAEoASwBMAE0ATgBPAFAAUQBSAFMAVABVAFYAVwBYAFkAWgBbAFwAXQBeAF8AYABhAGIAYwBkAGUAZgBnAGgAaQBqAGsAbABtAG4AbwBwAHEAcgBzAHQAdQB2AHcAeAB5AHoAewB8AH0AfgB/AIAAgQCCAIMAhACFAIYAhwCIAIkAigCLAIwAjQCOAI8AkACRAJIAkwCUAJUAlgCXAJgAmQCaAJsAnACdAJ4AnwCgAKEAogCjAKQApQCmAKcAqACpAKoAqwCsAK0ArgCvALAAsQCyALMAtAC1ALYAtwC4ALkAugC7ALwAvQC+AL8AwADBAMIAwwDEAMUAxgDHAMgAyQDKAMsAzADNAM4AzwDQANEA0gDTANQA1QDWANcA2ADZANoA2wDcAN0A3gDfAOAA4QDiAOMA5ADlAOYA5wDoAOkA6gDrAOwA7QDuAO8A8ADxAPIA8wD0APUA9gD3APgA+QD6APsA/AD9AP4A/wAAAQEBAgEDAQQBBQEGAQcBCAEJAQoBCwEMAQ0BDgEPARABEQESARMBFAEVARYBFwEYARkBGgEbARwBHQEeAR8BIAEhASIBIwEkASUBJgEnASgBKQEqASsBLAEtAS4BLwEwATEBMgEzATQBNQE2ATcBOAE5AToBOwE8AT0BPgE/AUABQQFCAUMBRAFFAUYBRwFIAUkBSgFLAUwBTQFOAU8BUAFRAVIBUwFUAVUBVgFXAVgBWQFaAVsBXAFdAV4BXwFgAWEBYgFjAWQBZQFmAWcBaAFpAWoBawFsAQ==",
          "dtype": "i2"
         },
         "y": {
          "bdata": "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",
          "dtype": "f8"
         }
        }
       ],
       "layout": {
        "annotations": [
         {
          "bgcolor": "rgba(255,255,255,0.8)",
          "bordercolor": "lightgray",
          "borderwidth": 1,
          "font": {
           "color": "darkblue",
           "size": 11
          },
          "showarrow": false,
          "text": "<b>Drawdown (%)</b><br>Shows percentage decline from previous peak. Always ≤ 0.<br>• 0%: At new peak • -10%: 10% below recent high<br>• -50%: Lost half of peak value • Lower is worse<br>• Measures downside risk and recovery ability",
          "x": 0.5,
          "xanchor": "center",
          "xref": "paper",
          "y": -0.36,
          "yanchor": "bottom",
          "yref": "paper"
         }
        ],
        "height": 500,
        "margin": {
         "b": 120
        },
        "template": {
         "data": {
          "bar": [
           {
            "error_x": {
             "color": "#2a3f5f"
            },
            "error_y": {
             "color": "#2a3f5f"
            },
            "marker": {
             "line": {
              "color": "white",
              "width": 0.5
             },
             "pattern": {
              "fillmode": "overlay",
              "size": 10,
              "solidity": 0.2
             }
            },
            "type": "bar"
           }
          ],
          "barpolar": [
           {
            "marker": {
             "line": {
              "color": "white",
              "width": 0.5
             },
             "pattern": {
              "fillmode": "overlay",
              "size": 10,
              "solidity": 0.2
             }
            },
            "type": "barpolar"
           }
          ],
          "carpet": [
           {
            "aaxis": {
             "endlinecolor": "#2a3f5f",
             "gridcolor": "#C8D4E3",
             "linecolor": "#C8D4E3",
             "minorgridcolor": "#C8D4E3",
             "startlinecolor": "#2a3f5f"
            },
            "baxis": {
             "endlinecolor": "#2a3f5f",
             "gridcolor": "#C8D4E3",
             "linecolor": "#C8D4E3",
             "minorgridcolor": "#C8D4E3",
             "startlinecolor": "#2a3f5f"
            },
            "type": "carpet"
           }
          ],
          "choropleth": [
           {
            "colorbar": {
             "outlinewidth": 0,
             "ticks": ""
            },
            "type": "choropleth"
           }
          ],
          "contour": [
           {
            "colorbar": {
             "outlinewidth": 0,
             "ticks": ""
            },
            "colorscale": [
             [
              0,
              "#0d0887"
             ],
             [
              0.1111111111111111,
              "#46039f"
             ],
             [
              0.2222222222222222,
              "#7201a8"
             ],
             [
              0.3333333333333333,
              "#9c179e"
             ],
             [
              0.4444444444444444,
              "#bd3786"
             ],
             [
              0.5555555555555556,
              "#d8576b"
             ],
             [
              0.6666666666666666,
              "#ed7953"
             ],
             [
              0.7777777777777778,
              "#fb9f3a"
             ],
             [
              0.8888888888888888,
              "#fdca26"
             ],
             [
              1,
              "#f0f921"
             ]
            ],
            "type": "contour"
           }
          ],
          "contourcarpet": [
           {
            "colorbar": {
             "outlinewidth": 0,
             "ticks": ""
            },
            "type": "contourcarpet"
           }
          ],
          "heatmap": [
           {
            "colorbar": {
             "outlinewidth": 0,
             "ticks": ""
            },
            "colorscale": [
             [
              0,
              "#0d0887"
             ],
             [
              0.1111111111111111,
              "#46039f"
             ],
             [
              0.2222222222222222,
              "#7201a8"
             ],
             [
              0.3333333333333333,
              "#9c179e"
             ],
             [
              0.4444444444444444,
              "#bd3786"
             ],
             [
              0.5555555555555556,
              "#d8576b"
             ],
             [
              0.6666666666666666,
              "#ed7953"
             ],
             [
              0.7777777777777778,
              "#fb9f3a"
             ],
             [
              0.8888888888888888,
              "#fdca26"
             ],
             [
              1,
              "#f0f921"
             ]
            ],
            "type": "heatmap"
           }
          ],
          "histogram": [
           {
            "marker": {
             "pattern": {
              "fillmode": "overlay",
              "size": 10,
              "solidity": 0.2
             }
            },
            "type": "histogram"
           }
          ],
          "histogram2d": [
           {
            "colorbar": {
             "outlinewidth": 0,
             "ticks": ""
            },
            "colorscale": [
             [
              0,
              "#0d0887"
             ],
             [
              0.1111111111111111,
              "#46039f"
             ],
             [
              0.2222222222222222,
              "#7201a8"
             ],
             [
              0.3333333333333333,
              "#9c179e"
             ],
             [
              0.4444444444444444,
              "#bd3786"
             ],
             [
              0.5555555555555556,
              "#d8576b"
             ],
             [
              0.6666666666666666,
              "#ed7953"
             ],
             [
              0.7777777777777778,
              "#fb9f3a"
             ],
             [
              0.8888888888888888,
              "#fdca26"
             ],
             [
              1,
              "#f0f921"
             ]
            ],
            "type": "histogram2d"
           }
          ],
          "histogram2dcontour": [
           {
            "colorbar": {
             "outlinewidth": 0,
             "ticks": ""
            },
            "colorscale": [
             [
              0,
              "#0d0887"
             ],
             [
              0.1111111111111111,
              "#46039f"
             ],
             [
              0.2222222222222222,
              "#7201a8"
             ],
             [
              0.3333333333333333,
              "#9c179e"
             ],
             [
              0.4444444444444444,
              "#bd3786"
             ],
             [
              0.5555555555555556,
              "#d8576b"
             ],
             [
              0.6666666666666666,
              "#ed7953"
             ],
             [
              0.7777777777777778,
              "#fb9f3a"
             ],
             [
              0.8888888888888888,
              "#fdca26"
             ],
             [
              1,
              "#f0f921"
             ]
            ],
            "type": "histogram2dcontour"
           }
          ],
          "mesh3d": [
           {
            "colorbar": {
             "outlinewidth": 0,
             "ticks": ""
            },
            "type": "mesh3d"
           }
          ],
          "parcoords": [
           {
            "line": {
             "colorbar": {
              "outlinewidth": 0,
              "ticks": ""
             }
            },
            "type": "parcoords"
           }
          ],
          "pie": [
           {
            "automargin": true,
            "type": "pie"
           }
          ],
          "scatter": [
           {
            "fillpattern": {
             "fillmode": "overlay",
             "size": 10,
             "solidity": 0.2
            },
            "type": "scatter"
           }
          ],
          "scatter3d": [
           {
            "line": {
             "colorbar": {
              "outlinewidth": 0,
              "ticks": ""
             }
            },
            "marker": {
             "colorbar": {
              "outlinewidth": 0,
              "ticks": ""
             }
            },
            "type": "scatter3d"
           }
          ],
          "scattercarpet": [
           {
            "marker": {
             "colorbar": {
              "outlinewidth": 0,
              "ticks": ""
             }
            },
            "type": "scattercarpet"
           }
          ],
          "scattergeo": [
           {
            "marker": {
             "colorbar": {
              "outlinewidth": 0,
              "ticks": ""
             }
            },
            "type": "scattergeo"
           }
          ],
          "scattergl": [
           {
            "marker": {
             "colorbar": {
              "outlinewidth": 0,
              "ticks": ""
             }
            },
            "type": "scattergl"
           }
          ],
          "scattermap": [
           {
            "marker": {
             "colorbar": {
              "outlinewidth": 0,
              "ticks": ""
             }
            },
            "type": "scattermap"
           }
          ],
          "scattermapbox": [
           {
            "marker": {
             "colorbar": {
              "outlinewidth": 0,
              "ticks": ""
             }
            },
            "type": "scattermapbox"
           }
          ],
          "scatterpolar": [
           {
            "marker": {
             "colorbar": {
              "outlinewidth": 0,
              "ticks": ""
             }
            },
            "type": "scatterpolar"
           }
          ],
          "scatterpolargl": [
           {
            "marker": {
             "colorbar": {
              "outlinewidth": 0,
              "ticks": ""
             }
            },
            "type": "scatterpolargl"
           }
          ],
          "scatterternary": [
           {
            "marker": {
             "colorbar": {
              "outlinewidth": 0,
              "ticks": ""
             }
            },
            "type": "scatterternary"
           }
          ],
          "surface": [
           {
            "colorbar": {
             "outlinewidth": 0,
             "ticks": ""
            },
            "colorscale": [
             [
              0,
              "#0d0887"
             ],
             [
              0.1111111111111111,
              "#46039f"
             ],
             [
              0.2222222222222222,
              "#7201a8"
             ],
             [
              0.3333333333333333,
              "#9c179e"
             ],
             [
              0.4444444444444444,
              "#bd3786"
             ],
             [
              0.5555555555555556,
              "#d8576b"
             ],
             [
              0.6666666666666666,
              "#ed7953"
             ],
             [
              0.7777777777777778,
              "#fb9f3a"
             ],
             [
              0.8888888888888888,
              "#fdca26"
             ],
             [
              1,
              "#f0f921"
             ]
            ],
            "type": "surface"
           }
          ],
          "table": [
           {
            "cells": {
             "fill": {
              "color": "#EBF0F8"
             },
             "line": {
              "color": "white"
             }
            },
            "header": {
             "fill": {
              "color": "#C8D4E3"
             },
             "line": {
              "color": "white"
             }
            },
            "type": "table"
           }
          ]
         },
         "layout": {
          "annotationdefaults": {
           "arrowcolor": "#2a3f5f",
           "arrowhead": 0,
           "arrowwidth": 1
          },
          "autotypenumbers": "strict",
          "coloraxis": {
           "colorbar": {
            "outlinewidth": 0,
            "ticks": ""
           }
          },
          "colorscale": {
           "diverging": [
            [
             0,
             "#8e0152"
            ],
            [
             0.1,
             "#c51b7d"
            ],
            [
             0.2,
             "#de77ae"
            ],
            [
             0.3,
             "#f1b6da"
            ],
            [
             0.4,
             "#fde0ef"
            ],
            [
             0.5,
             "#f7f7f7"
            ],
            [
             0.6,
             "#e6f5d0"
            ],
            [
             0.7,
             "#b8e186"
            ],
            [
             0.8,
             "#7fbc41"
            ],
            [
             0.9,
             "#4d9221"
            ],
            [
             1,
             "#276419"
            ]
           ],
           "sequential": [
            [
             0,
             "#0d0887"
            ],
            [
             0.1111111111111111,
             "#46039f"
            ],
            [
             0.2222222222222222,
             "#7201a8"
            ],
            [
             0.3333333333333333,
             "#9c179e"
            ],
            [
             0.4444444444444444,
             "#bd3786"
            ],
            [
             0.5555555555555556,
             "#d8576b"
            ],
            [
             0.6666666666666666,
             "#ed7953"
            ],
            [
             0.7777777777777778,
             "#fb9f3a"
            ],
            [
             0.8888888888888888,
             "#fdca26"
            ],
            [
             1,
             "#f0f921"
            ]
           ],
           "sequentialminus": [
            [
             0,
             "#0d0887"
            ],
            [
             0.1111111111111111,
             "#46039f"
            ],
            [
             0.2222222222222222,
             "#7201a8"
            ],
            [
             0.3333333333333333,
             "#9c179e"
            ],
            [
             0.4444444444444444,
             "#bd3786"
            ],
            [
             0.5555555555555556,
             "#d8576b"
            ],
            [
             0.6666666666666666,
             "#ed7953"
            ],
            [
             0.7777777777777778,
             "#fb9f3a"
            ],
            [
             0.8888888888888888,
             "#fdca26"
            ],
            [
             1,
             "#f0f921"
            ]
           ]
          },
          "colorway": [
           "#636efa",
           "#EF553B",
           "#00cc96",
           "#ab63fa",
           "#FFA15A",
           "#19d3f3",
           "#FF6692",
           "#B6E880",
           "#FF97FF",
           "#FECB52"
          ],
          "font": {
           "color": "#2a3f5f"
          },
          "geo": {
           "bgcolor": "white",
           "lakecolor": "white",
           "landcolor": "white",
           "showlakes": true,
           "showland": true,
           "subunitcolor": "#C8D4E3"
          },
          "hoverlabel": {
           "align": "left"
          },
          "hovermode": "closest",
          "mapbox": {
           "style": "light"
          },
          "paper_bgcolor": "white",
          "plot_bgcolor": "white",
          "polar": {
           "angularaxis": {
            "gridcolor": "#EBF0F8",
            "linecolor": "#EBF0F8",
            "ticks": ""
           },
           "bgcolor": "white",
           "radialaxis": {
            "gridcolor": "#EBF0F8",
            "linecolor": "#EBF0F8",
            "ticks": ""
           }
          },
          "scene": {
           "xaxis": {
            "backgroundcolor": "white",
            "gridcolor": "#DFE8F3",
            "gridwidth": 2,
            "linecolor": "#EBF0F8",
            "showbackground": true,
            "ticks": "",
            "zerolinecolor": "#EBF0F8"
           },
           "yaxis": {
            "backgroundcolor": "white",
            "gridcolor": "#DFE8F3",
            "gridwidth": 2,
            "linecolor": "#EBF0F8",
            "showbackground": true,
            "ticks": "",
            "zerolinecolor": "#EBF0F8"
           },
           "zaxis": {
            "backgroundcolor": "white",
            "gridcolor": "#DFE8F3",
            "gridwidth": 2,
            "linecolor": "#EBF0F8",
            "showbackground": true,
            "ticks": "",
            "zerolinecolor": "#EBF0F8"
           }
          },
          "shapedefaults": {
           "line": {
            "color": "#2a3f5f"
           }
          },
          "ternary": {
           "aaxis": {
            "gridcolor": "#DFE8F3",
            "linecolor": "#A2B1C6",
            "ticks": ""
           },
           "baxis": {
            "gridcolor": "#DFE8F3",
            "linecolor": "#A2B1C6",
            "ticks": ""
           },
           "bgcolor": "white",
           "caxis": {
            "gridcolor": "#DFE8F3",
            "linecolor": "#A2B1C6",
            "ticks": ""
           }
          },
          "title": {
           "x": 0.05
          },
          "xaxis": {
           "automargin": true,
           "gridcolor": "#EBF0F8",
           "linecolor": "#EBF0F8",
           "ticks": "",
           "title": {
            "standoff": 15
           },
           "zerolinecolor": "#EBF0F8",
           "zerolinewidth": 2
          },
          "yaxis": {
           "automargin": true,
           "gridcolor": "#EBF0F8",
           "linecolor": "#EBF0F8",
           "ticks": "",
           "title": {
            "standoff": 15
           },
           "zerolinecolor": "#EBF0F8",
           "zerolinewidth": 2
          }
         }
        },
        "title": {
         "text": " Chart: drawdown"
        }
       }
      }
     },
     "metadata": {},
     "output_type": "display_data"
    },
    {
     "data": {
      "application/vnd.plotly.v1+json": {
       "config": {
        "plotlyServerURL": "https://plot.ly"
       },
       "data": [
        {
         "mode": "lines",
         "name": "PnL (since start)",
         "type": "scatter",
         "x": {
          "bdata": "AAABAAIAAwAEAAUABgAHAAgACQAKAAsADAANAA4ADwAQABEAEgATABQAFQAWABcAGAAZABoAGwAcAB0AHgAfACAAIQAiACMAJAAlACYAJwAoACkAKgArACwALQAuAC8AMAAxADIAMwA0ADUANgA3ADgAOQA6ADsAPAA9AD4APwBAAEEAQgBDAEQARQBGAEcASABJAEoASwBMAE0ATgBPAFAAUQBSAFMAVABVAFYAVwBYAFkAWgBbAFwAXQBeAF8AYABhAGIAYwBkAGUAZgBnAGgAaQBqAGsAbABtAG4AbwBwAHEAcgBzAHQAdQB2AHcAeAB5AHoAewB8AH0AfgB/AIAAgQCCAIMAhACFAIYAhwCIAIkAigCLAIwAjQCOAI8AkACRAJIAkwCUAJUAlgCXAJgAmQCaAJsAnACdAJ4AnwCgAKEAogCjAKQApQCmAKcAqACpAKoAqwCsAK0ArgCvALAAsQCyALMAtAC1ALYAtwC4ALkAugC7ALwAvQC+AL8AwADBAMIAwwDEAMUAxgDHAMgAyQDKAMsAzADNAM4AzwDQANEA0gDTANQA1QDWANcA2ADZANoA2wDcAN0A3gDfAOAA4QDiAOMA5ADlAOYA5wDoAOkA6gDrAOwA7QDuAO8A8ADxAPIA8wD0APUA9gD3APgA+QD6APsA/AD9AP4A/wAAAQEBAgEDAQQBBQEGAQcBCAEJAQoBCwEMAQ0BDgEPARABEQESARMBFAEVARYBFwEYARkBGgEbARwBHQEeAR8BIAEhASIBIwEkASUBJgEnASgBKQEqASsBLAEtAS4BLwEwATEBMgEzATQBNQE2ATcBOAE5AToBOwE8AT0BPgE/AUABQQFCAUMBRAFFAUYBRwFIAUkBSgFLAUwBTQFOAU8BUAFRAVIBUwFUAVUBVgFXAVgBWQFaAVsBXAFdAV4BXwFgAWEBYgFjAWQBZQFmAWcBaAFpAWoBawFsAQ==",
          "dtype": "i2"
         },
         "y": {
          "bdata": "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",
          "dtype": "f8"
         }
        }
       ],
       "layout": {
        "annotations": [
         {
          "bgcolor": "rgba(255,255,255,0.8)",
          "bordercolor": "lightgray",
          "borderwidth": 1,
          "font": {
           "color": "darkblue",
           "size": 11
          },
          "showarrow": false,
          "text": "<b>Profit & Loss (PnL)</b><br>Shows cumulative profit/loss in absolute terms from start.<br>• Positive values: Total profit made<br>• Negative values: Total loss incurred<br>• Zero line: Break-even point • Slope indicates performance trend",
          "x": 0.5,
          "xanchor": "center",
          "xref": "paper",
          "y": -0.36,
          "yanchor": "bottom",
          "yref": "paper"
         }
        ],
        "height": 500,
        "margin": {
         "b": 120
        },
        "template": {
         "data": {
          "bar": [
           {
            "error_x": {
             "color": "#2a3f5f"
            },
            "error_y": {
             "color": "#2a3f5f"
            },
            "marker": {
             "line": {
              "color": "white",
              "width": 0.5
             },
             "pattern": {
              "fillmode": "overlay",
              "size": 10,
              "solidity": 0.2
             }
            },
            "type": "bar"
           }
          ],
          "barpolar": [
           {
            "marker": {
             "line": {
              "color": "white",
              "width": 0.5
             },
             "pattern": {
              "fillmode": "overlay",
              "size": 10,
              "solidity": 0.2
             }
            },
            "type": "barpolar"
           }
          ],
          "carpet": [
           {
            "aaxis": {
             "endlinecolor": "#2a3f5f",
             "gridcolor": "#C8D4E3",
             "linecolor": "#C8D4E3",
             "minorgridcolor": "#C8D4E3",
             "startlinecolor": "#2a3f5f"
            },
            "baxis": {
             "endlinecolor": "#2a3f5f",
             "gridcolor": "#C8D4E3",
             "linecolor": "#C8D4E3",
             "minorgridcolor": "#C8D4E3",
             "startlinecolor": "#2a3f5f"
            },
            "type": "carpet"
           }
          ],
          "choropleth": [
           {
            "colorbar": {
             "outlinewidth": 0,
             "ticks": ""
            },
            "type": "choropleth"
           }
          ],
          "contour": [
           {
            "colorbar": {
             "outlinewidth": 0,
             "ticks": ""
            },
            "colorscale": [
             [
              0,
              "#0d0887"
             ],
             [
              0.1111111111111111,
              "#46039f"
             ],
             [
              0.2222222222222222,
              "#7201a8"
             ],
             [
              0.3333333333333333,
              "#9c179e"
             ],
             [
              0.4444444444444444,
              "#bd3786"
             ],
             [
              0.5555555555555556,
              "#d8576b"
             ],
             [
              0.6666666666666666,
              "#ed7953"
             ],
             [
              0.7777777777777778,
              "#fb9f3a"
             ],
             [
              0.8888888888888888,
              "#fdca26"
             ],
             [
              1,
              "#f0f921"
             ]
            ],
            "type": "contour"
           }
          ],
          "contourcarpet": [
           {
            "colorbar": {
             "outlinewidth": 0,
             "ticks": ""
            },
            "type": "contourcarpet"
           }
          ],
          "heatmap": [
           {
            "colorbar": {
             "outlinewidth": 0,
             "ticks": ""
            },
            "colorscale": [
             [
              0,
              "#0d0887"
             ],
             [
              0.1111111111111111,
              "#46039f"
             ],
             [
              0.2222222222222222,
              "#7201a8"
             ],
             [
              0.3333333333333333,
              "#9c179e"
             ],
             [
              0.4444444444444444,
              "#bd3786"
             ],
             [
              0.5555555555555556,
              "#d8576b"
             ],
             [
              0.6666666666666666,
              "#ed7953"
             ],
             [
              0.7777777777777778,
              "#fb9f3a"
             ],
             [
              0.8888888888888888,
              "#fdca26"
             ],
             [
              1,
              "#f0f921"
             ]
            ],
            "type": "heatmap"
           }
          ],
          "histogram": [
           {
            "marker": {
             "pattern": {
              "fillmode": "overlay",
              "size": 10,
              "solidity": 0.2
             }
            },
            "type": "histogram"
           }
          ],
          "histogram2d": [
           {
            "colorbar": {
             "outlinewidth": 0,
             "ticks": ""
            },
            "colorscale": [
             [
              0,
              "#0d0887"
             ],
             [
              0.1111111111111111,
              "#46039f"
             ],
             [
              0.2222222222222222,
              "#7201a8"
             ],
             [
              0.3333333333333333,
              "#9c179e"
             ],
             [
              0.4444444444444444,
              "#bd3786"
             ],
             [
              0.5555555555555556,
              "#d8576b"
             ],
             [
              0.6666666666666666,
              "#ed7953"
             ],
             [
              0.7777777777777778,
              "#fb9f3a"
             ],
             [
              0.8888888888888888,
              "#fdca26"
             ],
             [
              1,
              "#f0f921"
             ]
            ],
            "type": "histogram2d"
           }
          ],
          "histogram2dcontour": [
           {
            "colorbar": {
             "outlinewidth": 0,
             "ticks": ""
            },
            "colorscale": [
             [
              0,
              "#0d0887"
             ],
             [
              0.1111111111111111,
              "#46039f"
             ],
             [
              0.2222222222222222,
              "#7201a8"
             ],
             [
              0.3333333333333333,
              "#9c179e"
             ],
             [
              0.4444444444444444,
              "#bd3786"
             ],
             [
              0.5555555555555556,
              "#d8576b"
             ],
             [
              0.6666666666666666,
              "#ed7953"
             ],
             [
              0.7777777777777778,
              "#fb9f3a"
             ],
             [
              0.8888888888888888,
              "#fdca26"
             ],
             [
              1,
              "#f0f921"
             ]
            ],
            "type": "histogram2dcontour"
           }
          ],
          "mesh3d": [
           {
            "colorbar": {
             "outlinewidth": 0,
             "ticks": ""
            },
            "type": "mesh3d"
           }
          ],
          "parcoords": [
           {
            "line": {
             "colorbar": {
              "outlinewidth": 0,
              "ticks": ""
             }
            },
            "type": "parcoords"
           }
          ],
          "pie": [
           {
            "automargin": true,
            "type": "pie"
           }
          ],
          "scatter": [
           {
            "fillpattern": {
             "fillmode": "overlay",
             "size": 10,
             "solidity": 0.2
            },
            "type": "scatter"
           }
          ],
          "scatter3d": [
           {
            "line": {
             "colorbar": {
              "outlinewidth": 0,
              "ticks": ""
             }
            },
            "marker": {
             "colorbar": {
              "outlinewidth": 0,
              "ticks": ""
             }
            },
            "type": "scatter3d"
           }
          ],
          "scattercarpet": [
           {
            "marker": {
             "colorbar": {
              "outlinewidth": 0,
              "ticks": ""
             }
            },
            "type": "scattercarpet"
           }
          ],
          "scattergeo": [
           {
            "marker": {
             "colorbar": {
              "outlinewidth": 0,
              "ticks": ""
             }
            },
            "type": "scattergeo"
           }
          ],
          "scattergl": [
           {
            "marker": {
             "colorbar": {
              "outlinewidth": 0,
              "ticks": ""
             }
            },
            "type": "scattergl"
           }
          ],
          "scattermap": [
           {
            "marker": {
             "colorbar": {
              "outlinewidth": 0,
              "ticks": ""
             }
            },
            "type": "scattermap"
           }
          ],
          "scattermapbox": [
           {
            "marker": {
             "colorbar": {
              "outlinewidth": 0,
              "ticks": ""
             }
            },
            "type": "scattermapbox"
           }
          ],
          "scatterpolar": [
           {
            "marker": {
             "colorbar": {
              "outlinewidth": 0,
              "ticks": ""
             }
            },
            "type": "scatterpolar"
           }
          ],
          "scatterpolargl": [
           {
            "marker": {
             "colorbar": {
              "outlinewidth": 0,
              "ticks": ""
             }
            },
            "type": "scatterpolargl"
           }
          ],
          "scatterternary": [
           {
            "marker": {
             "colorbar": {
              "outlinewidth": 0,
              "ticks": ""
             }
            },
            "type": "scatterternary"
           }
          ],
          "surface": [
           {
            "colorbar": {
             "outlinewidth": 0,
             "ticks": ""
            },
            "colorscale": [
             [
              0,
              "#0d0887"
             ],
             [
              0.1111111111111111,
              "#46039f"
             ],
             [
              0.2222222222222222,
              "#7201a8"
             ],
             [
              0.3333333333333333,
              "#9c179e"
             ],
             [
              0.4444444444444444,
              "#bd3786"
             ],
             [
              0.5555555555555556,
              "#d8576b"
             ],
             [
              0.6666666666666666,
              "#ed7953"
             ],
             [
              0.7777777777777778,
              "#fb9f3a"
             ],
             [
              0.8888888888888888,
              "#fdca26"
             ],
             [
              1,
              "#f0f921"
             ]
            ],
            "type": "surface"
           }
          ],
          "table": [
           {
            "cells": {
             "fill": {
              "color": "#EBF0F8"
             },
             "line": {
              "color": "white"
             }
            },
            "header": {
             "fill": {
              "color": "#C8D4E3"
             },
             "line": {
              "color": "white"
             }
            },
            "type": "table"
           }
          ]
         },
         "layout": {
          "annotationdefaults": {
           "arrowcolor": "#2a3f5f",
           "arrowhead": 0,
           "arrowwidth": 1
          },
          "autotypenumbers": "strict",
          "coloraxis": {
           "colorbar": {
            "outlinewidth": 0,
            "ticks": ""
           }
          },
          "colorscale": {
           "diverging": [
            [
             0,
             "#8e0152"
            ],
            [
             0.1,
             "#c51b7d"
            ],
            [
             0.2,
             "#de77ae"
            ],
            [
             0.3,
             "#f1b6da"
            ],
            [
             0.4,
             "#fde0ef"
            ],
            [
             0.5,
             "#f7f7f7"
            ],
            [
             0.6,
             "#e6f5d0"
            ],
            [
             0.7,
             "#b8e186"
            ],
            [
             0.8,
             "#7fbc41"
            ],
            [
             0.9,
             "#4d9221"
            ],
            [
             1,
             "#276419"
            ]
           ],
           "sequential": [
            [
             0,
             "#0d0887"
            ],
            [
             0.1111111111111111,
             "#46039f"
            ],
            [
             0.2222222222222222,
             "#7201a8"
            ],
            [
             0.3333333333333333,
             "#9c179e"
            ],
            [
             0.4444444444444444,
             "#bd3786"
            ],
            [
             0.5555555555555556,
             "#d8576b"
            ],
            [
             0.6666666666666666,
             "#ed7953"
            ],
            [
             0.7777777777777778,
             "#fb9f3a"
            ],
            [
             0.8888888888888888,
             "#fdca26"
            ],
            [
             1,
             "#f0f921"
            ]
           ],
           "sequentialminus": [
            [
             0,
             "#0d0887"
            ],
            [
             0.1111111111111111,
             "#46039f"
            ],
            [
             0.2222222222222222,
             "#7201a8"
            ],
            [
             0.3333333333333333,
             "#9c179e"
            ],
            [
             0.4444444444444444,
             "#bd3786"
            ],
            [
             0.5555555555555556,
             "#d8576b"
            ],
            [
             0.6666666666666666,
             "#ed7953"
            ],
            [
             0.7777777777777778,
             "#fb9f3a"
            ],
            [
             0.8888888888888888,
             "#fdca26"
            ],
            [
             1,
             "#f0f921"
            ]
           ]
          },
          "colorway": [
           "#636efa",
           "#EF553B",
           "#00cc96",
           "#ab63fa",
           "#FFA15A",
           "#19d3f3",
           "#FF6692",
           "#B6E880",
           "#FF97FF",
           "#FECB52"
          ],
          "font": {
           "color": "#2a3f5f"
          },
          "geo": {
           "bgcolor": "white",
           "lakecolor": "white",
           "landcolor": "white",
           "showlakes": true,
           "showland": true,
           "subunitcolor": "#C8D4E3"
          },
          "hoverlabel": {
           "align": "left"
          },
          "hovermode": "closest",
          "mapbox": {
           "style": "light"
          },
          "paper_bgcolor": "white",
          "plot_bgcolor": "white",
          "polar": {
           "angularaxis": {
            "gridcolor": "#EBF0F8",
            "linecolor": "#EBF0F8",
            "ticks": ""
           },
           "bgcolor": "white",
           "radialaxis": {
            "gridcolor": "#EBF0F8",
            "linecolor": "#EBF0F8",
            "ticks": ""
           }
          },
          "scene": {
           "xaxis": {
            "backgroundcolor": "white",
            "gridcolor": "#DFE8F3",
            "gridwidth": 2,
            "linecolor": "#EBF0F8",
            "showbackground": true,
            "ticks": "",
            "zerolinecolor": "#EBF0F8"
           },
           "yaxis": {
            "backgroundcolor": "white",
            "gridcolor": "#DFE8F3",
            "gridwidth": 2,
            "linecolor": "#EBF0F8",
            "showbackground": true,
            "ticks": "",
            "zerolinecolor": "#EBF0F8"
           },
           "zaxis": {
            "backgroundcolor": "white",
            "gridcolor": "#DFE8F3",
            "gridwidth": 2,
            "linecolor": "#EBF0F8",
            "showbackground": true,
            "ticks": "",
            "zerolinecolor": "#EBF0F8"
           }
          },
          "shapedefaults": {
           "line": {
            "color": "#2a3f5f"
           }
          },
          "ternary": {
           "aaxis": {
            "gridcolor": "#DFE8F3",
            "linecolor": "#A2B1C6",
            "ticks": ""
           },
           "baxis": {
            "gridcolor": "#DFE8F3",
            "linecolor": "#A2B1C6",
            "ticks": ""
           },
           "bgcolor": "white",
           "caxis": {
            "gridcolor": "#DFE8F3",
            "linecolor": "#A2B1C6",
            "ticks": ""
           }
          },
          "title": {
           "x": 0.05
          },
          "xaxis": {
           "automargin": true,
           "gridcolor": "#EBF0F8",
           "linecolor": "#EBF0F8",
           "ticks": "",
           "title": {
            "standoff": 15
           },
           "zerolinecolor": "#EBF0F8",
           "zerolinewidth": 2
          },
          "yaxis": {
           "automargin": true,
           "gridcolor": "#EBF0F8",
           "linecolor": "#EBF0F8",
           "ticks": "",
           "title": {
            "standoff": 15
           },
           "zerolinecolor": "#EBF0F8",
           "zerolinewidth": 2
          }
         }
        },
        "title": {
         "text": " Chart: pnl"
        }
       }
      }
     },
     "metadata": {},
     "output_type": "display_data"
    },
    {
     "data": {
      "application/vnd.plotly.v1+json": {
       "config": {
        "plotlyServerURL": "https://plot.ly"
       },
       "data": [
        {
         "mode": "lines",
         "name": "Calmar (to date)",
         "type": "scatter",
         "x": {
          "bdata": "AAABAAIAAwAEAAUABgAHAAgACQAKAAsADAANAA4ADwAQABEAEgATABQAFQAWABcAGAAZABoAGwAcAB0AHgAfACAAIQAiACMAJAAlACYAJwAoACkAKgArACwALQAuAC8AMAAxADIAMwA0ADUANgA3ADgAOQA6ADsAPAA9AD4APwBAAEEAQgBDAEQARQBGAEcASABJAEoASwBMAE0ATgBPAFAAUQBSAFMAVABVAFYAVwBYAFkAWgBbAFwAXQBeAF8AYABhAGIAYwBkAGUAZgBnAGgAaQBqAGsAbABtAG4AbwBwAHEAcgBzAHQAdQB2AHcAeAB5AHoAewB8AH0AfgB/AIAAgQCCAIMAhACFAIYAhwCIAIkAigCLAIwAjQCOAI8AkACRAJIAkwCUAJUAlgCXAJgAmQCaAJsAnACdAJ4AnwCgAKEAogCjAKQApQCmAKcAqACpAKoAqwCsAK0ArgCvALAAsQCyALMAtAC1ALYAtwC4ALkAugC7ALwAvQC+AL8AwADBAMIAwwDEAMUAxgDHAMgAyQDKAMsAzADNAM4AzwDQANEA0gDTANQA1QDWANcA2ADZANoA2wDcAN0A3gDfAOAA4QDiAOMA5ADlAOYA5wDoAOkA6gDrAOwA7QDuAO8A8ADxAPIA8wD0APUA9gD3APgA+QD6APsA/AD9AP4A/wAAAQEBAgEDAQQBBQEGAQcBCAEJAQoBCwEMAQ0BDgEPARABEQESARMBFAEVARYBFwEYARkBGgEbARwBHQEeAR8BIAEhASIBIwEkASUBJgEnASgBKQEqASsBLAEtAS4BLwEwATEBMgEzATQBNQE2ATcBOAE5AToBOwE8AT0BPgE/AUABQQFCAUMBRAFFAUYBRwFIAUkBSgFLAUwBTQFOAU8BUAFRAVIBUwFUAVUBVgFXAVgBWQFaAVsBXAFdAV4BXwFgAWEBYgFjAWQBZQFmAWcBaAFpAWoBawFsAQ==",
          "dtype": "i2"
         },
         "y": {
          "bdata": "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",
          "dtype": "f8"
         }
        }
       ],
       "layout": {
        "annotations": [
         {
          "bgcolor": "rgba(255,255,255,0.8)",
          "bordercolor": "lightgray",
          "borderwidth": 1,
          "font": {
           "color": "darkblue",
           "size": 11
          },
          "showarrow": false,
          "text": "<b>Calmar Ratio</b><br>Risk-adjusted return: Annualized return ÷ Maximum Drawdown.<br>• Higher values indicate better risk-adjusted performance<br>• >1.0: Good • >2.0: Very good • >3.0: Excellent<br>• Considers both returns and maximum loss exposure",
          "x": 0.5,
          "xanchor": "center",
          "xref": "paper",
          "y": -0.36,
          "yanchor": "bottom",
          "yref": "paper"
         }
        ],
        "height": 500,
        "margin": {
         "b": 120
        },
        "template": {
         "data": {
          "bar": [
           {
            "error_x": {
             "color": "#2a3f5f"
            },
            "error_y": {
             "color": "#2a3f5f"
            },
            "marker": {
             "line": {
              "color": "white",
              "width": 0.5
             },
             "pattern": {
              "fillmode": "overlay",
              "size": 10,
              "solidity": 0.2
             }
            },
            "type": "bar"
           }
          ],
          "barpolar": [
           {
            "marker": {
             "line": {
              "color": "white",
              "width": 0.5
             },
             "pattern": {
              "fillmode": "overlay",
              "size": 10,
              "solidity": 0.2
             }
            },
            "type": "barpolar"
           }
          ],
          "carpet": [
           {
            "aaxis": {
             "endlinecolor": "#2a3f5f",
             "gridcolor": "#C8D4E3",
             "linecolor": "#C8D4E3",
             "minorgridcolor": "#C8D4E3",
             "startlinecolor": "#2a3f5f"
            },
            "baxis": {
             "endlinecolor": "#2a3f5f",
             "gridcolor": "#C8D4E3",
             "linecolor": "#C8D4E3",
             "minorgridcolor": "#C8D4E3",
             "startlinecolor": "#2a3f5f"
            },
            "type": "carpet"
           }
          ],
          "choropleth": [
           {
            "colorbar": {
             "outlinewidth": 0,
             "ticks": ""
            },
            "type": "choropleth"
           }
          ],
          "contour": [
           {
            "colorbar": {
             "outlinewidth": 0,
             "ticks": ""
            },
            "colorscale": [
             [
              0,
              "#0d0887"
             ],
             [
              0.1111111111111111,
              "#46039f"
             ],
             [
              0.2222222222222222,
              "#7201a8"
             ],
             [
              0.3333333333333333,
              "#9c179e"
             ],
             [
              0.4444444444444444,
              "#bd3786"
             ],
             [
              0.5555555555555556,
              "#d8576b"
             ],
             [
              0.6666666666666666,
              "#ed7953"
             ],
             [
              0.7777777777777778,
              "#fb9f3a"
             ],
             [
              0.8888888888888888,
              "#fdca26"
             ],
             [
              1,
              "#f0f921"
             ]
            ],
            "type": "contour"
           }
          ],
          "contourcarpet": [
           {
            "colorbar": {
             "outlinewidth": 0,
             "ticks": ""
            },
            "type": "contourcarpet"
           }
          ],
          "heatmap": [
           {
            "colorbar": {
             "outlinewidth": 0,
             "ticks": ""
            },
            "colorscale": [
             [
              0,
              "#0d0887"
             ],
             [
              0.1111111111111111,
              "#46039f"
             ],
             [
              0.2222222222222222,
              "#7201a8"
             ],
             [
              0.3333333333333333,
              "#9c179e"
             ],
             [
              0.4444444444444444,
              "#bd3786"
             ],
             [
              0.5555555555555556,
              "#d8576b"
             ],
             [
              0.6666666666666666,
              "#ed7953"
             ],
             [
              0.7777777777777778,
              "#fb9f3a"
             ],
             [
              0.8888888888888888,
              "#fdca26"
             ],
             [
              1,
              "#f0f921"
             ]
            ],
            "type": "heatmap"
           }
          ],
          "histogram": [
           {
            "marker": {
             "pattern": {
              "fillmode": "overlay",
              "size": 10,
              "solidity": 0.2
             }
            },
            "type": "histogram"
           }
          ],
          "histogram2d": [
           {
            "colorbar": {
             "outlinewidth": 0,
             "ticks": ""
            },
            "colorscale": [
             [
              0,
              "#0d0887"
             ],
             [
              0.1111111111111111,
              "#46039f"
             ],
             [
              0.2222222222222222,
              "#7201a8"
             ],
             [
              0.3333333333333333,
              "#9c179e"
             ],
             [
              0.4444444444444444,
              "#bd3786"
             ],
             [
              0.5555555555555556,
              "#d8576b"
             ],
             [
              0.6666666666666666,
              "#ed7953"
             ],
             [
              0.7777777777777778,
              "#fb9f3a"
             ],
             [
              0.8888888888888888,
              "#fdca26"
             ],
             [
              1,
              "#f0f921"
             ]
            ],
            "type": "histogram2d"
           }
          ],
          "histogram2dcontour": [
           {
            "colorbar": {
             "outlinewidth": 0,
             "ticks": ""
            },
            "colorscale": [
             [
              0,
              "#0d0887"
             ],
             [
              0.1111111111111111,
              "#46039f"
             ],
             [
              0.2222222222222222,
              "#7201a8"
             ],
             [
              0.3333333333333333,
              "#9c179e"
             ],
             [
              0.4444444444444444,
              "#bd3786"
             ],
             [
              0.5555555555555556,
              "#d8576b"
             ],
             [
              0.6666666666666666,
              "#ed7953"
             ],
             [
              0.7777777777777778,
              "#fb9f3a"
             ],
             [
              0.8888888888888888,
              "#fdca26"
             ],
             [
              1,
              "#f0f921"
             ]
            ],
            "type": "histogram2dcontour"
           }
          ],
          "mesh3d": [
           {
            "colorbar": {
             "outlinewidth": 0,
             "ticks": ""
            },
            "type": "mesh3d"
           }
          ],
          "parcoords": [
           {
            "line": {
             "colorbar": {
              "outlinewidth": 0,
              "ticks": ""
             }
            },
            "type": "parcoords"
           }
          ],
          "pie": [
           {
            "automargin": true,
            "type": "pie"
           }
          ],
          "scatter": [
           {
            "fillpattern": {
             "fillmode": "overlay",
             "size": 10,
             "solidity": 0.2
            },
            "type": "scatter"
           }
          ],
          "scatter3d": [
           {
            "line": {
             "colorbar": {
              "outlinewidth": 0,
              "ticks": ""
             }
            },
            "marker": {
             "colorbar": {
              "outlinewidth": 0,
              "ticks": ""
             }
            },
            "type": "scatter3d"
           }
          ],
          "scattercarpet": [
           {
            "marker": {
             "colorbar": {
              "outlinewidth": 0,
              "ticks": ""
             }
            },
            "type": "scattercarpet"
           }
          ],
          "scattergeo": [
           {
            "marker": {
             "colorbar": {
              "outlinewidth": 0,
              "ticks": ""
             }
            },
            "type": "scattergeo"
           }
          ],
          "scattergl": [
           {
            "marker": {
             "colorbar": {
              "outlinewidth": 0,
              "ticks": ""
             }
            },
            "type": "scattergl"
           }
          ],
          "scattermap": [
           {
            "marker": {
             "colorbar": {
              "outlinewidth": 0,
              "ticks": ""
             }
            },
            "type": "scattermap"
           }
          ],
          "scattermapbox": [
           {
            "marker": {
             "colorbar": {
              "outlinewidth": 0,
              "ticks": ""
             }
            },
            "type": "scattermapbox"
           }
          ],
          "scatterpolar": [
           {
            "marker": {
             "colorbar": {
              "outlinewidth": 0,
              "ticks": ""
             }
            },
            "type": "scatterpolar"
           }
          ],
          "scatterpolargl": [
           {
            "marker": {
             "colorbar": {
              "outlinewidth": 0,
              "ticks": ""
             }
            },
            "type": "scatterpolargl"
           }
          ],
          "scatterternary": [
           {
            "marker": {
             "colorbar": {
              "outlinewidth": 0,
              "ticks": ""
             }
            },
            "type": "scatterternary"
           }
          ],
          "surface": [
           {
            "colorbar": {
             "outlinewidth": 0,
             "ticks": ""
            },
            "colorscale": [
             [
              0,
              "#0d0887"
             ],
             [
              0.1111111111111111,
              "#46039f"
             ],
             [
              0.2222222222222222,
              "#7201a8"
             ],
             [
              0.3333333333333333,
              "#9c179e"
             ],
             [
              0.4444444444444444,
              "#bd3786"
             ],
             [
              0.5555555555555556,
              "#d8576b"
             ],
             [
              0.6666666666666666,
              "#ed7953"
             ],
             [
              0.7777777777777778,
              "#fb9f3a"
             ],
             [
              0.8888888888888888,
              "#fdca26"
             ],
             [
              1,
              "#f0f921"
             ]
            ],
            "type": "surface"
           }
          ],
          "table": [
           {
            "cells": {
             "fill": {
              "color": "#EBF0F8"
             },
             "line": {
              "color": "white"
             }
            },
            "header": {
             "fill": {
              "color": "#C8D4E3"
             },
             "line": {
              "color": "white"
             }
            },
            "type": "table"
           }
          ]
         },
         "layout": {
          "annotationdefaults": {
           "arrowcolor": "#2a3f5f",
           "arrowhead": 0,
           "arrowwidth": 1
          },
          "autotypenumbers": "strict",
          "coloraxis": {
           "colorbar": {
            "outlinewidth": 0,
            "ticks": ""
           }
          },
          "colorscale": {
           "diverging": [
            [
             0,
             "#8e0152"
            ],
            [
             0.1,
             "#c51b7d"
            ],
            [
             0.2,
             "#de77ae"
            ],
            [
             0.3,
             "#f1b6da"
            ],
            [
             0.4,
             "#fde0ef"
            ],
            [
             0.5,
             "#f7f7f7"
            ],
            [
             0.6,
             "#e6f5d0"
            ],
            [
             0.7,
             "#b8e186"
            ],
            [
             0.8,
             "#7fbc41"
            ],
            [
             0.9,
             "#4d9221"
            ],
            [
             1,
             "#276419"
            ]
           ],
           "sequential": [
            [
             0,
             "#0d0887"
            ],
            [
             0.1111111111111111,
             "#46039f"
            ],
            [
             0.2222222222222222,
             "#7201a8"
            ],
            [
             0.3333333333333333,
             "#9c179e"
            ],
            [
             0.4444444444444444,
             "#bd3786"
            ],
            [
             0.5555555555555556,
             "#d8576b"
            ],
            [
             0.6666666666666666,
             "#ed7953"
            ],
            [
             0.7777777777777778,
             "#fb9f3a"
            ],
            [
             0.8888888888888888,
             "#fdca26"
            ],
            [
             1,
             "#f0f921"
            ]
           ],
           "sequentialminus": [
            [
             0,
             "#0d0887"
            ],
            [
             0.1111111111111111,
             "#46039f"
            ],
            [
             0.2222222222222222,
             "#7201a8"
            ],
            [
             0.3333333333333333,
             "#9c179e"
            ],
            [
             0.4444444444444444,
             "#bd3786"
            ],
            [
             0.5555555555555556,
             "#d8576b"
            ],
            [
             0.6666666666666666,
             "#ed7953"
            ],
            [
             0.7777777777777778,
             "#fb9f3a"
            ],
            [
             0.8888888888888888,
             "#fdca26"
            ],
            [
             1,
             "#f0f921"
            ]
           ]
          },
          "colorway": [
           "#636efa",
           "#EF553B",
           "#00cc96",
           "#ab63fa",
           "#FFA15A",
           "#19d3f3",
           "#FF6692",
           "#B6E880",
           "#FF97FF",
           "#FECB52"
          ],
          "font": {
           "color": "#2a3f5f"
          },
          "geo": {
           "bgcolor": "white",
           "lakecolor": "white",
           "landcolor": "white",
           "showlakes": true,
           "showland": true,
           "subunitcolor": "#C8D4E3"
          },
          "hoverlabel": {
           "align": "left"
          },
          "hovermode": "closest",
          "mapbox": {
           "style": "light"
          },
          "paper_bgcolor": "white",
          "plot_bgcolor": "white",
          "polar": {
           "angularaxis": {
            "gridcolor": "#EBF0F8",
            "linecolor": "#EBF0F8",
            "ticks": ""
           },
           "bgcolor": "white",
           "radialaxis": {
            "gridcolor": "#EBF0F8",
            "linecolor": "#EBF0F8",
            "ticks": ""
           }
          },
          "scene": {
           "xaxis": {
            "backgroundcolor": "white",
            "gridcolor": "#DFE8F3",
            "gridwidth": 2,
            "linecolor": "#EBF0F8",
            "showbackground": true,
            "ticks": "",
            "zerolinecolor": "#EBF0F8"
           },
           "yaxis": {
            "backgroundcolor": "white",
            "gridcolor": "#DFE8F3",
            "gridwidth": 2,
            "linecolor": "#EBF0F8",
            "showbackground": true,
            "ticks": "",
            "zerolinecolor": "#EBF0F8"
           },
           "zaxis": {
            "backgroundcolor": "white",
            "gridcolor": "#DFE8F3",
            "gridwidth": 2,
            "linecolor": "#EBF0F8",
            "showbackground": true,
            "ticks": "",
            "zerolinecolor": "#EBF0F8"
           }
          },
          "shapedefaults": {
           "line": {
            "color": "#2a3f5f"
           }
          },
          "ternary": {
           "aaxis": {
            "gridcolor": "#DFE8F3",
            "linecolor": "#A2B1C6",
            "ticks": ""
           },
           "baxis": {
            "gridcolor": "#DFE8F3",
            "linecolor": "#A2B1C6",
            "ticks": ""
           },
           "bgcolor": "white",
           "caxis": {
            "gridcolor": "#DFE8F3",
            "linecolor": "#A2B1C6",
            "ticks": ""
           }
          },
          "title": {
           "x": 0.05
          },
          "xaxis": {
           "automargin": true,
           "gridcolor": "#EBF0F8",
           "linecolor": "#EBF0F8",
           "ticks": "",
           "title": {
            "standoff": 15
           },
           "zerolinecolor": "#EBF0F8",
           "zerolinewidth": 2
          },
          "yaxis": {
           "automargin": true,
           "gridcolor": "#EBF0F8",
           "linecolor": "#EBF0F8",
           "ticks": "",
           "title": {
            "standoff": 15
           },
           "zerolinecolor": "#EBF0F8",
           "zerolinewidth": 2
          }
         }
        },
        "title": {
         "text": " Chart: calmar"
        }
       }
      }
     },
     "metadata": {},
     "output_type": "display_data"
    },
    {
     "data": {
      "application/vnd.plotly.v1+json": {
       "config": {
        "plotlyServerURL": "https://plot.ly"
       },
       "data": [
        {
         "mode": "lines",
         "name": "Hit Ratio (periods)",
         "type": "scatter",
         "x": {
          "bdata": "AAABAAIAAwAEAAUABgAHAAgACQAKAAsADAANAA4ADwAQABEAEgATABQAFQAWABcAGAAZABoAGwAcAB0AHgAfACAAIQAiACMAJAAlACYAJwAoACkAKgArACwALQAuAC8AMAAxADIAMwA0ADUANgA3ADgAOQA6ADsAPAA9AD4APwBAAEEAQgBDAEQARQBGAEcASABJAEoASwBMAE0ATgBPAFAAUQBSAFMAVABVAFYAVwBYAFkAWgBbAFwAXQBeAF8AYABhAGIAYwBkAGUAZgBnAGgAaQBqAGsAbABtAG4AbwBwAHEAcgBzAHQAdQB2AHcAeAB5AHoAewB8AH0AfgB/AIAAgQCCAIMAhACFAIYAhwCIAIkAigCLAIwAjQCOAI8AkACRAJIAkwCUAJUAlgCXAJgAmQCaAJsAnACdAJ4AnwCgAKEAogCjAKQApQCmAKcAqACpAKoAqwCsAK0ArgCvALAAsQCyALMAtAC1ALYAtwC4ALkAugC7ALwAvQC+AL8AwADBAMIAwwDEAMUAxgDHAMgAyQDKAMsAzADNAM4AzwDQANEA0gDTANQA1QDWANcA2ADZANoA2wDcAN0A3gDfAOAA4QDiAOMA5ADlAOYA5wDoAOkA6gDrAOwA7QDuAO8A8ADxAPIA8wD0APUA9gD3APgA+QD6APsA/AD9AP4A/wAAAQEBAgEDAQQBBQEGAQcBCAEJAQoBCwEMAQ0BDgEPARABEQESARMBFAEVARYBFwEYARkBGgEbARwBHQEeAR8BIAEhASIBIwEkASUBJgEnASgBKQEqASsBLAEtAS4BLwEwATEBMgEzATQBNQE2ATcBOAE5AToBOwE8AT0BPgE/AUABQQFCAUMBRAFFAUYBRwFIAUkBSgFLAUwBTQFOAU8BUAFRAVIBUwFUAVUBVgFXAVgBWQFaAVsBXAFdAV4BXwFgAWEBYgFjAWQBZQFmAWcBaAFpAWoBawFsAQ==",
          "dtype": "i2"
         },
         "y": {
          "bdata": "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",
          "dtype": "f8"
         }
        }
       ],
       "layout": {
        "annotations": [
         {
          "bgcolor": "rgba(255,255,255,0.8)",
          "bordercolor": "lightgray",
          "borderwidth": 1,
          "font": {
           "color": "darkblue",
           "size": 11
          },
          "showarrow": false,
          "text": "<b>Hit Ratio</b><br>Percentage of profitable periods (based on returns, not trades).<br>• 0.5 (50%): Half of periods were profitable<br>• >0.6 (60%): Good consistency • >0.7 (70%): Very consistent<br>• Measures win rate but not magnitude of wins/losses",
          "x": 0.5,
          "xanchor": "center",
          "xref": "paper",
          "y": -0.36,
          "yanchor": "bottom",
          "yref": "paper"
         }
        ],
        "height": 500,
        "margin": {
         "b": 120
        },
        "template": {
         "data": {
          "bar": [
           {
            "error_x": {
             "color": "#2a3f5f"
            },
            "error_y": {
             "color": "#2a3f5f"
            },
            "marker": {
             "line": {
              "color": "white",
              "width": 0.5
             },
             "pattern": {
              "fillmode": "overlay",
              "size": 10,
              "solidity": 0.2
             }
            },
            "type": "bar"
           }
          ],
          "barpolar": [
           {
            "marker": {
             "line": {
              "color": "white",
              "width": 0.5
             },
             "pattern": {
              "fillmode": "overlay",
              "size": 10,
              "solidity": 0.2
             }
            },
            "type": "barpolar"
           }
          ],
          "carpet": [
           {
            "aaxis": {
             "endlinecolor": "#2a3f5f",
             "gridcolor": "#C8D4E3",
             "linecolor": "#C8D4E3",
             "minorgridcolor": "#C8D4E3",
             "startlinecolor": "#2a3f5f"
            },
            "baxis": {
             "endlinecolor": "#2a3f5f",
             "gridcolor": "#C8D4E3",
             "linecolor": "#C8D4E3",
             "minorgridcolor": "#C8D4E3",
             "startlinecolor": "#2a3f5f"
            },
            "type": "carpet"
           }
          ],
          "choropleth": [
           {
            "colorbar": {
             "outlinewidth": 0,
             "ticks": ""
            },
            "type": "choropleth"
           }
          ],
          "contour": [
           {
            "colorbar": {
             "outlinewidth": 0,
             "ticks": ""
            },
            "colorscale": [
             [
              0,
              "#0d0887"
             ],
             [
              0.1111111111111111,
              "#46039f"
             ],
             [
              0.2222222222222222,
              "#7201a8"
             ],
             [
              0.3333333333333333,
              "#9c179e"
             ],
             [
              0.4444444444444444,
              "#bd3786"
             ],
             [
              0.5555555555555556,
              "#d8576b"
             ],
             [
              0.6666666666666666,
              "#ed7953"
             ],
             [
              0.7777777777777778,
              "#fb9f3a"
             ],
             [
              0.8888888888888888,
              "#fdca26"
             ],
             [
              1,
              "#f0f921"
             ]
            ],
            "type": "contour"
           }
          ],
          "contourcarpet": [
           {
            "colorbar": {
             "outlinewidth": 0,
             "ticks": ""
            },
            "type": "contourcarpet"
           }
          ],
          "heatmap": [
           {
            "colorbar": {
             "outlinewidth": 0,
             "ticks": ""
            },
            "colorscale": [
             [
              0,
              "#0d0887"
             ],
             [
              0.1111111111111111,
              "#46039f"
             ],
             [
              0.2222222222222222,
              "#7201a8"
             ],
             [
              0.3333333333333333,
              "#9c179e"
             ],
             [
              0.4444444444444444,
              "#bd3786"
             ],
             [
              0.5555555555555556,
              "#d8576b"
             ],
             [
              0.6666666666666666,
              "#ed7953"
             ],
             [
              0.7777777777777778,
              "#fb9f3a"
             ],
             [
              0.8888888888888888,
              "#fdca26"
             ],
             [
              1,
              "#f0f921"
             ]
            ],
            "type": "heatmap"
           }
          ],
          "histogram": [
           {
            "marker": {
             "pattern": {
              "fillmode": "overlay",
              "size": 10,
              "solidity": 0.2
             }
            },
            "type": "histogram"
           }
          ],
          "histogram2d": [
           {
            "colorbar": {
             "outlinewidth": 0,
             "ticks": ""
            },
            "colorscale": [
             [
              0,
              "#0d0887"
             ],
             [
              0.1111111111111111,
              "#46039f"
             ],
             [
              0.2222222222222222,
              "#7201a8"
             ],
             [
              0.3333333333333333,
              "#9c179e"
             ],
             [
              0.4444444444444444,
              "#bd3786"
             ],
             [
              0.5555555555555556,
              "#d8576b"
             ],
             [
              0.6666666666666666,
              "#ed7953"
             ],
             [
              0.7777777777777778,
              "#fb9f3a"
             ],
             [
              0.8888888888888888,
              "#fdca26"
             ],
             [
              1,
              "#f0f921"
             ]
            ],
            "type": "histogram2d"
           }
          ],
          "histogram2dcontour": [
           {
            "colorbar": {
             "outlinewidth": 0,
             "ticks": ""
            },
            "colorscale": [
             [
              0,
              "#0d0887"
             ],
             [
              0.1111111111111111,
              "#46039f"
             ],
             [
              0.2222222222222222,
              "#7201a8"
             ],
             [
              0.3333333333333333,
              "#9c179e"
             ],
             [
              0.4444444444444444,
              "#bd3786"
             ],
             [
              0.5555555555555556,
              "#d8576b"
             ],
             [
              0.6666666666666666,
              "#ed7953"
             ],
             [
              0.7777777777777778,
              "#fb9f3a"
             ],
             [
              0.8888888888888888,
              "#fdca26"
             ],
             [
              1,
              "#f0f921"
             ]
            ],
            "type": "histogram2dcontour"
           }
          ],
          "mesh3d": [
           {
            "colorbar": {
             "outlinewidth": 0,
             "ticks": ""
            },
            "type": "mesh3d"
           }
          ],
          "parcoords": [
           {
            "line": {
             "colorbar": {
              "outlinewidth": 0,
              "ticks": ""
             }
            },
            "type": "parcoords"
           }
          ],
          "pie": [
           {
            "automargin": true,
            "type": "pie"
           }
          ],
          "scatter": [
           {
            "fillpattern": {
             "fillmode": "overlay",
             "size": 10,
             "solidity": 0.2
            },
            "type": "scatter"
           }
          ],
          "scatter3d": [
           {
            "line": {
             "colorbar": {
              "outlinewidth": 0,
              "ticks": ""
             }
            },
            "marker": {
             "colorbar": {
              "outlinewidth": 0,
              "ticks": ""
             }
            },
            "type": "scatter3d"
           }
          ],
          "scattercarpet": [
           {
            "marker": {
             "colorbar": {
              "outlinewidth": 0,
              "ticks": ""
             }
            },
            "type": "scattercarpet"
           }
          ],
          "scattergeo": [
           {
            "marker": {
             "colorbar": {
              "outlinewidth": 0,
              "ticks": ""
             }
            },
            "type": "scattergeo"
           }
          ],
          "scattergl": [
           {
            "marker": {
             "colorbar": {
              "outlinewidth": 0,
              "ticks": ""
             }
            },
            "type": "scattergl"
           }
          ],
          "scattermap": [
           {
            "marker": {
             "colorbar": {
              "outlinewidth": 0,
              "ticks": ""
             }
            },
            "type": "scattermap"
           }
          ],
          "scattermapbox": [
           {
            "marker": {
             "colorbar": {
              "outlinewidth": 0,
              "ticks": ""
             }
            },
            "type": "scattermapbox"
           }
          ],
          "scatterpolar": [
           {
            "marker": {
             "colorbar": {
              "outlinewidth": 0,
              "ticks": ""
             }
            },
            "type": "scatterpolar"
           }
          ],
          "scatterpolargl": [
           {
            "marker": {
             "colorbar": {
              "outlinewidth": 0,
              "ticks": ""
             }
            },
            "type": "scatterpolargl"
           }
          ],
          "scatterternary": [
           {
            "marker": {
             "colorbar": {
              "outlinewidth": 0,
              "ticks": ""
             }
            },
            "type": "scatterternary"
           }
          ],
          "surface": [
           {
            "colorbar": {
             "outlinewidth": 0,
             "ticks": ""
            },
            "colorscale": [
             [
              0,
              "#0d0887"
             ],
             [
              0.1111111111111111,
              "#46039f"
             ],
             [
              0.2222222222222222,
              "#7201a8"
             ],
             [
              0.3333333333333333,
              "#9c179e"
             ],
             [
              0.4444444444444444,
              "#bd3786"
             ],
             [
              0.5555555555555556,
              "#d8576b"
             ],
             [
              0.6666666666666666,
              "#ed7953"
             ],
             [
              0.7777777777777778,
              "#fb9f3a"
             ],
             [
              0.8888888888888888,
              "#fdca26"
             ],
             [
              1,
              "#f0f921"
             ]
            ],
            "type": "surface"
           }
          ],
          "table": [
           {
            "cells": {
             "fill": {
              "color": "#EBF0F8"
             },
             "line": {
              "color": "white"
             }
            },
            "header": {
             "fill": {
              "color": "#C8D4E3"
             },
             "line": {
              "color": "white"
             }
            },
            "type": "table"
           }
          ]
         },
         "layout": {
          "annotationdefaults": {
           "arrowcolor": "#2a3f5f",
           "arrowhead": 0,
           "arrowwidth": 1
          },
          "autotypenumbers": "strict",
          "coloraxis": {
           "colorbar": {
            "outlinewidth": 0,
            "ticks": ""
           }
          },
          "colorscale": {
           "diverging": [
            [
             0,
             "#8e0152"
            ],
            [
             0.1,
             "#c51b7d"
            ],
            [
             0.2,
             "#de77ae"
            ],
            [
             0.3,
             "#f1b6da"
            ],
            [
             0.4,
             "#fde0ef"
            ],
            [
             0.5,
             "#f7f7f7"
            ],
            [
             0.6,
             "#e6f5d0"
            ],
            [
             0.7,
             "#b8e186"
            ],
            [
             0.8,
             "#7fbc41"
            ],
            [
             0.9,
             "#4d9221"
            ],
            [
             1,
             "#276419"
            ]
           ],
           "sequential": [
            [
             0,
             "#0d0887"
            ],
            [
             0.1111111111111111,
             "#46039f"
            ],
            [
             0.2222222222222222,
             "#7201a8"
            ],
            [
             0.3333333333333333,
             "#9c179e"
            ],
            [
             0.4444444444444444,
             "#bd3786"
            ],
            [
             0.5555555555555556,
             "#d8576b"
            ],
            [
             0.6666666666666666,
             "#ed7953"
            ],
            [
             0.7777777777777778,
             "#fb9f3a"
            ],
            [
             0.8888888888888888,
             "#fdca26"
            ],
            [
             1,
             "#f0f921"
            ]
           ],
           "sequentialminus": [
            [
             0,
             "#0d0887"
            ],
            [
             0.1111111111111111,
             "#46039f"
            ],
            [
             0.2222222222222222,
             "#7201a8"
            ],
            [
             0.3333333333333333,
             "#9c179e"
            ],
            [
             0.4444444444444444,
             "#bd3786"
            ],
            [
             0.5555555555555556,
             "#d8576b"
            ],
            [
             0.6666666666666666,
             "#ed7953"
            ],
            [
             0.7777777777777778,
             "#fb9f3a"
            ],
            [
             0.8888888888888888,
             "#fdca26"
            ],
            [
             1,
             "#f0f921"
            ]
           ]
          },
          "colorway": [
           "#636efa",
           "#EF553B",
           "#00cc96",
           "#ab63fa",
           "#FFA15A",
           "#19d3f3",
           "#FF6692",
           "#B6E880",
           "#FF97FF",
           "#FECB52"
          ],
          "font": {
           "color": "#2a3f5f"
          },
          "geo": {
           "bgcolor": "white",
           "lakecolor": "white",
           "landcolor": "white",
           "showlakes": true,
           "showland": true,
           "subunitcolor": "#C8D4E3"
          },
          "hoverlabel": {
           "align": "left"
          },
          "hovermode": "closest",
          "mapbox": {
           "style": "light"
          },
          "paper_bgcolor": "white",
          "plot_bgcolor": "white",
          "polar": {
           "angularaxis": {
            "gridcolor": "#EBF0F8",
            "linecolor": "#EBF0F8",
            "ticks": ""
           },
           "bgcolor": "white",
           "radialaxis": {
            "gridcolor": "#EBF0F8",
            "linecolor": "#EBF0F8",
            "ticks": ""
           }
          },
          "scene": {
           "xaxis": {
            "backgroundcolor": "white",
            "gridcolor": "#DFE8F3",
            "gridwidth": 2,
            "linecolor": "#EBF0F8",
            "showbackground": true,
            "ticks": "",
            "zerolinecolor": "#EBF0F8"
           },
           "yaxis": {
            "backgroundcolor": "white",
            "gridcolor": "#DFE8F3",
            "gridwidth": 2,
            "linecolor": "#EBF0F8",
            "showbackground": true,
            "ticks": "",
            "zerolinecolor": "#EBF0F8"
           },
           "zaxis": {
            "backgroundcolor": "white",
            "gridcolor": "#DFE8F3",
            "gridwidth": 2,
            "linecolor": "#EBF0F8",
            "showbackground": true,
            "ticks": "",
            "zerolinecolor": "#EBF0F8"
           }
          },
          "shapedefaults": {
           "line": {
            "color": "#2a3f5f"
           }
          },
          "ternary": {
           "aaxis": {
            "gridcolor": "#DFE8F3",
            "linecolor": "#A2B1C6",
            "ticks": ""
           },
           "baxis": {
            "gridcolor": "#DFE8F3",
            "linecolor": "#A2B1C6",
            "ticks": ""
           },
           "bgcolor": "white",
           "caxis": {
            "gridcolor": "#DFE8F3",
            "linecolor": "#A2B1C6",
            "ticks": ""
           }
          },
          "title": {
           "x": 0.05
          },
          "xaxis": {
           "automargin": true,
           "gridcolor": "#EBF0F8",
           "linecolor": "#EBF0F8",
           "ticks": "",
           "title": {
            "standoff": 15
           },
           "zerolinecolor": "#EBF0F8",
           "zerolinewidth": 2
          },
          "yaxis": {
           "automargin": true,
           "gridcolor": "#EBF0F8",
           "linecolor": "#EBF0F8",
           "ticks": "",
           "title": {
            "standoff": 15
           },
           "zerolinecolor": "#EBF0F8",
           "zerolinewidth": 2
          }
         }
        },
        "title": {
         "text": " Chart: hitratio"
        }
       }
      }
     },
     "metadata": {},
     "output_type": "display_data"
    },
    {
     "data": {
      "application/vnd.plotly.v1+json": {
       "config": {
        "plotlyServerURL": "https://plot.ly"
       },
       "data": [
        {
         "mode": "lines",
         "name": "Turnover (per step)",
         "type": "scatter",
         "x": {
          "bdata": "AAABAAIAAwAEAAUABgAHAAgACQAKAAsADAANAA4ADwAQABEAEgATABQAFQAWABcAGAAZABoAGwAcAB0AHgAfACAAIQAiACMAJAAlACYAJwAoACkAKgArACwALQAuAC8AMAAxADIAMwA0ADUANgA3ADgAOQA6ADsAPAA9AD4APwBAAEEAQgBDAEQARQBGAEcASABJAEoASwBMAE0ATgBPAFAAUQBSAFMAVABVAFYAVwBYAFkAWgBbAFwAXQBeAF8AYABhAGIAYwBkAGUAZgBnAGgAaQBqAGsAbABtAG4AbwBwAHEAcgBzAHQAdQB2AHcAeAB5AHoAewB8AH0AfgB/AIAAgQCCAIMAhACFAIYAhwCIAIkAigCLAIwAjQCOAI8AkACRAJIAkwCUAJUAlgCXAJgAmQCaAJsAnACdAJ4AnwCgAKEAogCjAKQApQCmAKcAqACpAKoAqwCsAK0ArgCvALAAsQCyALMAtAC1ALYAtwC4ALkAugC7ALwAvQC+AL8AwADBAMIAwwDEAMUAxgDHAMgAyQDKAMsAzADNAM4AzwDQANEA0gDTANQA1QDWANcA2ADZANoA2wDcAN0A3gDfAOAA4QDiAOMA5ADlAOYA5wDoAOkA6gDrAOwA7QDuAO8A8ADxAPIA8wD0APUA9gD3APgA+QD6APsA/AD9AP4A/wAAAQEBAgEDAQQBBQEGAQcBCAEJAQoBCwEMAQ0BDgEPARABEQESARMBFAEVARYBFwEYARkBGgEbARwBHQEeAR8BIAEhASIBIwEkASUBJgEnASgBKQEqASsBLAEtAS4BLwEwATEBMgEzATQBNQE2ATcBOAE5AToBOwE8AT0BPgE/AUABQQFCAUMBRAFFAUYBRwFIAUkBSgFLAUwBTQFOAU8BUAFRAVIBUwFUAVUBVgFXAVgBWQFaAVsBXAFdAV4BXwFgAWEBYgFjAWQBZQFmAWcBaAFpAWoBawFsAQ==",
          "dtype": "i2"
         },
         "y": {
          "bdata": "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",
          "dtype": "f8"
         }
        }
       ],
       "layout": {
        "annotations": [
         {
          "bgcolor": "rgba(255,255,255,0.8)",
          "bordercolor": "lightgray",
          "borderwidth": 1,
          "font": {
           "color": "darkblue",
           "size": 11
          },
          "showarrow": false,
          "text": "<b>Turnover Rate</b><br>Trading activity relative to portfolio value (per step).<br>• 0.1: 10% of portfolio traded • 1.0: 100% portfolio turnover<br>• Higher values indicate more active trading<br>• Useful for assessing transaction costs and strategy intensity",
          "x": 0.5,
          "xanchor": "center",
          "xref": "paper",
          "y": -0.36,
          "yanchor": "bottom",
          "yref": "paper"
         }
        ],
        "height": 500,
        "margin": {
         "b": 120
        },
        "template": {
         "data": {
          "bar": [
           {
            "error_x": {
             "color": "#2a3f5f"
            },
            "error_y": {
             "color": "#2a3f5f"
            },
            "marker": {
             "line": {
              "color": "white",
              "width": 0.5
             },
             "pattern": {
              "fillmode": "overlay",
              "size": 10,
              "solidity": 0.2
             }
            },
            "type": "bar"
           }
          ],
          "barpolar": [
           {
            "marker": {
             "line": {
              "color": "white",
              "width": 0.5
             },
             "pattern": {
              "fillmode": "overlay",
              "size": 10,
              "solidity": 0.2
             }
            },
            "type": "barpolar"
           }
          ],
          "carpet": [
           {
            "aaxis": {
             "endlinecolor": "#2a3f5f",
             "gridcolor": "#C8D4E3",
             "linecolor": "#C8D4E3",
             "minorgridcolor": "#C8D4E3",
             "startlinecolor": "#2a3f5f"
            },
            "baxis": {
             "endlinecolor": "#2a3f5f",
             "gridcolor": "#C8D4E3",
             "linecolor": "#C8D4E3",
             "minorgridcolor": "#C8D4E3",
             "startlinecolor": "#2a3f5f"
            },
            "type": "carpet"
           }
          ],
          "choropleth": [
           {
            "colorbar": {
             "outlinewidth": 0,
             "ticks": ""
            },
            "type": "choropleth"
           }
          ],
          "contour": [
           {
            "colorbar": {
             "outlinewidth": 0,
             "ticks": ""
            },
            "colorscale": [
             [
              0,
              "#0d0887"
             ],
             [
              0.1111111111111111,
              "#46039f"
             ],
             [
              0.2222222222222222,
              "#7201a8"
             ],
             [
              0.3333333333333333,
              "#9c179e"
             ],
             [
              0.4444444444444444,
              "#bd3786"
             ],
             [
              0.5555555555555556,
              "#d8576b"
             ],
             [
              0.6666666666666666,
              "#ed7953"
             ],
             [
              0.7777777777777778,
              "#fb9f3a"
             ],
             [
              0.8888888888888888,
              "#fdca26"
             ],
             [
              1,
              "#f0f921"
             ]
            ],
            "type": "contour"
           }
          ],
          "contourcarpet": [
           {
            "colorbar": {
             "outlinewidth": 0,
             "ticks": ""
            },
            "type": "contourcarpet"
           }
          ],
          "heatmap": [
           {
            "colorbar": {
             "outlinewidth": 0,
             "ticks": ""
            },
            "colorscale": [
             [
              0,
              "#0d0887"
             ],
             [
              0.1111111111111111,
              "#46039f"
             ],
             [
              0.2222222222222222,
              "#7201a8"
             ],
             [
              0.3333333333333333,
              "#9c179e"
             ],
             [
              0.4444444444444444,
              "#bd3786"
             ],
             [
              0.5555555555555556,
              "#d8576b"
             ],
             [
              0.6666666666666666,
              "#ed7953"
             ],
             [
              0.7777777777777778,
              "#fb9f3a"
             ],
             [
              0.8888888888888888,
              "#fdca26"
             ],
             [
              1,
              "#f0f921"
             ]
            ],
            "type": "heatmap"
           }
          ],
          "histogram": [
           {
            "marker": {
             "pattern": {
              "fillmode": "overlay",
              "size": 10,
              "solidity": 0.2
             }
            },
            "type": "histogram"
           }
          ],
          "histogram2d": [
           {
            "colorbar": {
             "outlinewidth": 0,
             "ticks": ""
            },
            "colorscale": [
             [
              0,
              "#0d0887"
             ],
             [
              0.1111111111111111,
              "#46039f"
             ],
             [
              0.2222222222222222,
              "#7201a8"
             ],
             [
              0.3333333333333333,
              "#9c179e"
             ],
             [
              0.4444444444444444,
              "#bd3786"
             ],
             [
              0.5555555555555556,
              "#d8576b"
             ],
             [
              0.6666666666666666,
              "#ed7953"
             ],
             [
              0.7777777777777778,
              "#fb9f3a"
             ],
             [
              0.8888888888888888,
              "#fdca26"
             ],
             [
              1,
              "#f0f921"
             ]
            ],
            "type": "histogram2d"
           }
          ],
          "histogram2dcontour": [
           {
            "colorbar": {
             "outlinewidth": 0,
             "ticks": ""
            },
            "colorscale": [
             [
              0,
              "#0d0887"
             ],
             [
              0.1111111111111111,
              "#46039f"
             ],
             [
              0.2222222222222222,
              "#7201a8"
             ],
             [
              0.3333333333333333,
              "#9c179e"
             ],
             [
              0.4444444444444444,
              "#bd3786"
             ],
             [
              0.5555555555555556,
              "#d8576b"
             ],
             [
              0.6666666666666666,
              "#ed7953"
             ],
             [
              0.7777777777777778,
              "#fb9f3a"
             ],
             [
              0.8888888888888888,
              "#fdca26"
             ],
             [
              1,
              "#f0f921"
             ]
            ],
            "type": "histogram2dcontour"
           }
          ],
          "mesh3d": [
           {
            "colorbar": {
             "outlinewidth": 0,
             "ticks": ""
            },
            "type": "mesh3d"
           }
          ],
          "parcoords": [
           {
            "line": {
             "colorbar": {
              "outlinewidth": 0,
              "ticks": ""
             }
            },
            "type": "parcoords"
           }
          ],
          "pie": [
           {
            "automargin": true,
            "type": "pie"
           }
          ],
          "scatter": [
           {
            "fillpattern": {
             "fillmode": "overlay",
             "size": 10,
             "solidity": 0.2
            },
            "type": "scatter"
           }
          ],
          "scatter3d": [
           {
            "line": {
             "colorbar": {
              "outlinewidth": 0,
              "ticks": ""
             }
            },
            "marker": {
             "colorbar": {
              "outlinewidth": 0,
              "ticks": ""
             }
            },
            "type": "scatter3d"
           }
          ],
          "scattercarpet": [
           {
            "marker": {
             "colorbar": {
              "outlinewidth": 0,
              "ticks": ""
             }
            },
            "type": "scattercarpet"
           }
          ],
          "scattergeo": [
           {
            "marker": {
             "colorbar": {
              "outlinewidth": 0,
              "ticks": ""
             }
            },
            "type": "scattergeo"
           }
          ],
          "scattergl": [
           {
            "marker": {
             "colorbar": {
              "outlinewidth": 0,
              "ticks": ""
             }
            },
            "type": "scattergl"
           }
          ],
          "scattermap": [
           {
            "marker": {
             "colorbar": {
              "outlinewidth": 0,
              "ticks": ""
             }
            },
            "type": "scattermap"
           }
          ],
          "scattermapbox": [
           {
            "marker": {
             "colorbar": {
              "outlinewidth": 0,
              "ticks": ""
             }
            },
            "type": "scattermapbox"
           }
          ],
          "scatterpolar": [
           {
            "marker": {
             "colorbar": {
              "outlinewidth": 0,
              "ticks": ""
             }
            },
            "type": "scatterpolar"
           }
          ],
          "scatterpolargl": [
           {
            "marker": {
             "colorbar": {
              "outlinewidth": 0,
              "ticks": ""
             }
            },
            "type": "scatterpolargl"
           }
          ],
          "scatterternary": [
           {
            "marker": {
             "colorbar": {
              "outlinewidth": 0,
              "ticks": ""
             }
            },
            "type": "scatterternary"
           }
          ],
          "surface": [
           {
            "colorbar": {
             "outlinewidth": 0,
             "ticks": ""
            },
            "colorscale": [
             [
              0,
              "#0d0887"
             ],
             [
              0.1111111111111111,
              "#46039f"
             ],
             [
              0.2222222222222222,
              "#7201a8"
             ],
             [
              0.3333333333333333,
              "#9c179e"
             ],
             [
              0.4444444444444444,
              "#bd3786"
             ],
             [
              0.5555555555555556,
              "#d8576b"
             ],
             [
              0.6666666666666666,
              "#ed7953"
             ],
             [
              0.7777777777777778,
              "#fb9f3a"
             ],
             [
              0.8888888888888888,
              "#fdca26"
             ],
             [
              1,
              "#f0f921"
             ]
            ],
            "type": "surface"
           }
          ],
          "table": [
           {
            "cells": {
             "fill": {
              "color": "#EBF0F8"
             },
             "line": {
              "color": "white"
             }
            },
            "header": {
             "fill": {
              "color": "#C8D4E3"
             },
             "line": {
              "color": "white"
             }
            },
            "type": "table"
           }
          ]
         },
         "layout": {
          "annotationdefaults": {
           "arrowcolor": "#2a3f5f",
           "arrowhead": 0,
           "arrowwidth": 1
          },
          "autotypenumbers": "strict",
          "coloraxis": {
           "colorbar": {
            "outlinewidth": 0,
            "ticks": ""
           }
          },
          "colorscale": {
           "diverging": [
            [
             0,
             "#8e0152"
            ],
            [
             0.1,
             "#c51b7d"
            ],
            [
             0.2,
             "#de77ae"
            ],
            [
             0.3,
             "#f1b6da"
            ],
            [
             0.4,
             "#fde0ef"
            ],
            [
             0.5,
             "#f7f7f7"
            ],
            [
             0.6,
             "#e6f5d0"
            ],
            [
             0.7,
             "#b8e186"
            ],
            [
             0.8,
             "#7fbc41"
            ],
            [
             0.9,
             "#4d9221"
            ],
            [
             1,
             "#276419"
            ]
           ],
           "sequential": [
            [
             0,
             "#0d0887"
            ],
            [
             0.1111111111111111,
             "#46039f"
            ],
            [
             0.2222222222222222,
             "#7201a8"
            ],
            [
             0.3333333333333333,
             "#9c179e"
            ],
            [
             0.4444444444444444,
             "#bd3786"
            ],
            [
             0.5555555555555556,
             "#d8576b"
            ],
            [
             0.6666666666666666,
             "#ed7953"
            ],
            [
             0.7777777777777778,
             "#fb9f3a"
            ],
            [
             0.8888888888888888,
             "#fdca26"
            ],
            [
             1,
             "#f0f921"
            ]
           ],
           "sequentialminus": [
            [
             0,
             "#0d0887"
            ],
            [
             0.1111111111111111,
             "#46039f"
            ],
            [
             0.2222222222222222,
             "#7201a8"
            ],
            [
             0.3333333333333333,
             "#9c179e"
            ],
            [
             0.4444444444444444,
             "#bd3786"
            ],
            [
             0.5555555555555556,
             "#d8576b"
            ],
            [
             0.6666666666666666,
             "#ed7953"
            ],
            [
             0.7777777777777778,
             "#fb9f3a"
            ],
            [
             0.8888888888888888,
             "#fdca26"
            ],
            [
             1,
             "#f0f921"
            ]
           ]
          },
          "colorway": [
           "#636efa",
           "#EF553B",
           "#00cc96",
           "#ab63fa",
           "#FFA15A",
           "#19d3f3",
           "#FF6692",
           "#B6E880",
           "#FF97FF",
           "#FECB52"
          ],
          "font": {
           "color": "#2a3f5f"
          },
          "geo": {
           "bgcolor": "white",
           "lakecolor": "white",
           "landcolor": "white",
           "showlakes": true,
           "showland": true,
           "subunitcolor": "#C8D4E3"
          },
          "hoverlabel": {
           "align": "left"
          },
          "hovermode": "closest",
          "mapbox": {
           "style": "light"
          },
          "paper_bgcolor": "white",
          "plot_bgcolor": "white",
          "polar": {
           "angularaxis": {
            "gridcolor": "#EBF0F8",
            "linecolor": "#EBF0F8",
            "ticks": ""
           },
           "bgcolor": "white",
           "radialaxis": {
            "gridcolor": "#EBF0F8",
            "linecolor": "#EBF0F8",
            "ticks": ""
           }
          },
          "scene": {
           "xaxis": {
            "backgroundcolor": "white",
            "gridcolor": "#DFE8F3",
            "gridwidth": 2,
            "linecolor": "#EBF0F8",
            "showbackground": true,
            "ticks": "",
            "zerolinecolor": "#EBF0F8"
           },
           "yaxis": {
            "backgroundcolor": "white",
            "gridcolor": "#DFE8F3",
            "gridwidth": 2,
            "linecolor": "#EBF0F8",
            "showbackground": true,
            "ticks": "",
            "zerolinecolor": "#EBF0F8"
           },
           "zaxis": {
            "backgroundcolor": "white",
            "gridcolor": "#DFE8F3",
            "gridwidth": 2,
            "linecolor": "#EBF0F8",
            "showbackground": true,
            "ticks": "",
            "zerolinecolor": "#EBF0F8"
           }
          },
          "shapedefaults": {
           "line": {
            "color": "#2a3f5f"
           }
          },
          "ternary": {
           "aaxis": {
            "gridcolor": "#DFE8F3",
            "linecolor": "#A2B1C6",
            "ticks": ""
           },
           "baxis": {
            "gridcolor": "#DFE8F3",
            "linecolor": "#A2B1C6",
            "ticks": ""
           },
           "bgcolor": "white",
           "caxis": {
            "gridcolor": "#DFE8F3",
            "linecolor": "#A2B1C6",
            "ticks": ""
           }
          },
          "title": {
           "x": 0.05
          },
          "xaxis": {
           "automargin": true,
           "gridcolor": "#EBF0F8",
           "linecolor": "#EBF0F8",
           "ticks": "",
           "title": {
            "standoff": 15
           },
           "zerolinecolor": "#EBF0F8",
           "zerolinewidth": 2
          },
          "yaxis": {
           "automargin": true,
           "gridcolor": "#EBF0F8",
           "linecolor": "#EBF0F8",
           "ticks": "",
           "title": {
            "standoff": 15
           },
           "zerolinecolor": "#EBF0F8",
           "zerolinewidth": 2
          }
         }
        },
        "title": {
         "text": " Chart: turnover"
        }
       }
      }
     },
     "metadata": {},
     "output_type": "display_data"
    }
   ],
   "source": [
    "from pipelines.rl_agent_policy.train.a2c import A2CTrainer\n",
    "import tempfile\n",
    "import logging\n",
    "\n",
    "PATH_TO_CHECKPOINT = '/mnt/virtual_ai0001071-01239_SR006-nfs1/afedorov/mft_prj/outputs/2025-09-21/a2c_train/checkpoints/6460086'\n",
    "\n",
    "agent = instantiate(config.model, env=train_env)\n",
    "train_config = instantiate(config.train.approach)\n",
    "if hasattr(config, 'seed') and config.seed is not None:\n",
    "    train_config.seed = config.seed\n",
    "\n",
    "with tempfile.TemporaryDirectory() as temp_dir:\n",
    "    pt = Path(temp_dir)\n",
    "    \n",
    "    trainer = A2CTrainer(\n",
    "        agent=agent, \n",
    "        train_env=train_env, \n",
    "        valid_env=valid_env, \n",
    "        output_dir=pt, \n",
    "        config=train_config,\n",
    "        max_episode_length=config.env.get('max_episode_length', None),\n",
    "        use_accelerate=False\n",
    "    )\n",
    "    \n",
    "    trainer._load_checkpoint(PATH_TO_CHECKPOINT)\n",
    "    trainer._validate(save_validation_output=False)"
   ]
  },
  {
   "cell_type": "code",
   "execution_count": null,
   "id": "f3f0e5ad",
   "metadata": {},
   "outputs": [],
   "source": []
  }
 ],
 "metadata": {
  "kernelspec": {
   "display_name": "Python 3",
   "language": "python",
   "name": "python3"
  },
  "language_info": {
   "codemirror_mode": {
    "name": "ipython",
    "version": 3
   },
   "file_extension": ".py",
   "mimetype": "text/x-python",
   "name": "python",
   "nbconvert_exporter": "python",
   "pygments_lexer": "ipython3",
   "version": "3.11.13"
  }
 },
 "nbformat": 4,
 "nbformat_minor": 5
}
