{
 "cells": [
  {
   "cell_type": "code",
   "execution_count": null,
   "id": "b1e38bf0",
   "metadata": {},
   "outputs": [],
   "source": [
    "from pathlib import Path\n",
    "import sys, os\n",
    "sys.path.append(str(Path.cwd().parent))\n",
    "\n",
    "from simulator import StockSimulator\n",
    "from policy import KNNPolicy\n",
    "\n",
    "# Define the coin names to be used in the simulation\n",
    "coin_names = [ 'DOGEUSDT', 'LINKUSDT', 'TONUSDT', 'SOLUSDT', 'BNBUSDT', \n",
    "    'PEPEUSDT', 'BTCUSDT', 'ADAUSDT', 'XRPUSDT', 'USDCUSDT'\n",
    "]"
   ]
  },
  {
   "cell_type": "code",
   "execution_count": null,
   "id": "1ef07899",
   "metadata": {},
   "outputs": [
    {
     "name": "stderr",
     "output_type": "stream",
     "text": [
      "/Users/artemon/.local/share/virtualenvs/MFT-project-lheyyFxX/lib/python3.11/site-packages/tqdm/auto.py:21: TqdmWarning: IProgress not found. Please update jupyter and ipywidgets. See https://ipywidgets.readthedocs.io/en/stable/user_install.html\n",
      "  from .autonotebook import tqdm as notebook_tqdm\n"
     ]
    },
    {
     "ename": "NameError",
     "evalue": "name 'coin_names' is not defined",
     "output_type": "error",
     "traceback": [
      "\u001b[31m---------------------------------------------------------------------------\u001b[39m",
      "\u001b[31mNameError\u001b[39m                                 Traceback (most recent call last)",
      "\u001b[36mCell\u001b[39m\u001b[36m \u001b[39m\u001b[32mIn[1]\u001b[39m\u001b[32m, line 6\u001b[39m\n\u001b[32m      3\u001b[39m warnings.filterwarnings(\u001b[33m\"\u001b[39m\u001b[33mignore\u001b[39m\u001b[33m\"\u001b[39m)\n\u001b[32m      4\u001b[39m \u001b[38;5;28;01mfrom\u001b[39;00m\u001b[38;5;250m \u001b[39m\u001b[34;01mfunctools\u001b[39;00m\u001b[38;5;250m \u001b[39m\u001b[38;5;28;01mimport\u001b[39;00m partial\n\u001b[32m----> \u001b[39m\u001b[32m6\u001b[39m \u001b[38;5;28;01mfor\u001b[39;00m cn \u001b[38;5;129;01min\u001b[39;00m \u001b[43mcoin_names\u001b[49m:\n\u001b[32m      8\u001b[39m     \u001b[38;5;28;01mdef\u001b[39;00m\u001b[38;5;250m \u001b[39m\u001b[34mtrial\u001b[39m(trial: optuna.trial.Trial):\n\u001b[32m      9\u001b[39m         k_neighbours = trial.suggest_categorical(\u001b[33m\"\u001b[39m\u001b[33mk_neighbours\u001b[39m\u001b[33m\"\u001b[39m, \u001b[38;5;28mrange\u001b[39m(\u001b[32m1\u001b[39m, \u001b[32m10\u001b[39m))\n",
      "\u001b[31mNameError\u001b[39m: name 'coin_names' is not defined"
     ]
    }
   ],
   "source": [
    "import optuna\n",
    "import warnings\n",
    "warnings.filterwarnings(\"ignore\")\n",
    "from functools import partial\n",
    "\n",
    "# for each coin complete research\n",
    "for cn in coin_names:\n",
    "\n",
    "    def trial(trial: optuna.trial.Trial):\n",
    "        # define hyperparameters of KNN\n",
    "        k_neighbours = trial.suggest_categorical(\"k_neighbours\", range(1, 10))\n",
    "        weighted = trial.suggest_categorical(\"KNN_weighted\", [True, False])\n",
    "        distance_type = trial.suggest_categorical('distance_type', ['euclidean', 'manhattan'])\n",
    "\n",
    "        day_window = trial.suggest_categorical('day_window', range(5, 21))\n",
    "        \n",
    "        # create simulator object and policy\n",
    "        simulator = StockSimulator()\n",
    "        policy = KNNPolicy(\n",
    "            day_window=day_window, \n",
    "            k_neighbours=k_neighbours, \n",
    "            weighted=weighted, \n",
    "            metric=distance_type\n",
    "        )\n",
    "        \n",
    "        # obtain metrics\n",
    "        metrics = simulator.run_simulation(\n",
    "            model=policy,\n",
    "            coin_name=cn,\n",
    "            path_to_storage='../data/',\n",
    "            warm_start=300\n",
    "        )\n",
    "        \n",
    "        # main goal is spp\n",
    "        return metrics['profitability']['spp'] # Return simple percentage profitability\n",
    "\n",
    "    try:\n",
    "        sampler = optuna.samplers.TPESampler(n_startup_trials=10, group=True, multivariate=True)\n",
    "        study = optuna.create_study(\n",
    "            sampler=sampler,\n",
    "            load_if_exists=True,\n",
    "            storage=\"sqlite:///../optuna/KNN_db.sqlite3\",\n",
    "            direction=\"maximize\", \n",
    "            study_name=cn)\n",
    "        study.optimize(trial, n_trials=75, n_jobs=15, show_progress_bar=True)\n",
    "    except: pass"
   ]
  }
 ],
 "metadata": {
  "kernelspec": {
   "display_name": "Python 3",
   "language": "python",
   "name": "python3"
  },
  "language_info": {
   "codemirror_mode": {
    "name": "ipython",
    "version": 3
   },
   "file_extension": ".py",
   "mimetype": "text/x-python",
   "name": "python",
   "nbconvert_exporter": "python",
   "pygments_lexer": "ipython3",
   "version": "3.11.5"
  }
 },
 "nbformat": 4,
 "nbformat_minor": 5
}
