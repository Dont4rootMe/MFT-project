{
 "cells": [
  {
   "cell_type": "markdown",
   "id": "0bcda363",
   "metadata": {},
   "source": [
    "# Equal Risk Contribution (ERC) Portfolio\n",
    "\n",
    "This section formalizes the **ERC (risk parity)** portfolio used in the multi-asset backtest, specifies the optimization and the **warm start + every $n$-day** rebalance schedule"
   ]
  },
  {
   "cell_type": "markdown",
   "id": "7a470082",
   "metadata": {},
   "source": [
    "\n",
    "## Formal specification\n",
    "\n",
    "**Data.** Let $P_{i,t}$ be the close of asset $i$ at time $t$ on a uniform grid; $p_{i,t}=\\ln P_{i,t}$, $r_{i,t}=p_{i,t}-p_{i,t-1}$. Using **right-aligned** windows (no look-ahead), estimate a positive-definite covariance $\\Sigma_t$ of the return vector $r_t=(r_{1,t},\\ldots,r_{N,t})^\\top$ by EWMA or sample covariance with Ledoit–Wolf shrinkage.\n",
    "\n",
    "**Portfolio risk.**\n",
    "$$\n",
    "\\sigma_p(w)=\\sqrt{w^\\top\\Sigma_t w},\\qquad \n",
    "\\mathrm{MRC}_i=\\frac{(\\Sigma_t w)_i}{\\sigma_p(w)},\\qquad\n",
    "\\mathrm{RC}_i=w_i\\,\\mathrm{MRC}_i=\\frac{w_i(\\Sigma_t w)_i}{\\sigma_p(w)}.\n",
    "$$\n",
    "**Percentage risk contributions (PRC).**\n",
    "$$\n",
    "\\mathrm{PRC}_i(w)=\\frac{\\mathrm{RC}_i}{\\sum_j\\mathrm{RC}_j}\n",
    "=\\frac{w_i(\\Sigma_t w)_i}{w^\\top \\Sigma_t w}\\stackrel{!}{=}\\frac{1}{N}\\quad\\forall i.\n",
    "$$\n",
    "\n",
    "**Optimization (risk budgeting).**\n",
    "$$\n",
    "\\min_{w\\ge0,\\ \\mathbf1^\\top w=1}\\ \\sum_{i=1}^N\\Big(w_i(\\Sigma_t w)_i - \\tfrac{1}{N}\\,w^\\top\\Sigma_t w\\Big)^2,\n",
    "$$\n",
    "or the log-barrier surrogate\n",
    "$$\n",
    "\\min_{w\\ge0,\\ \\mathbf1^\\top w=1}\\ \\tfrac{1}{2}w^\\top\\Sigma_t w - \\alpha\\sum_{i=1}^N \\log w_i\n",
    "$$\n",
    "with $\\alpha>0$ chosen so that PRCs are approximately equal (Spinu, 2013). Optional box constraints $w_{\\min}\\le w_i \\le w_{\\max}$.\n",
    "\n",
    "**Rebalance schedule.** After a **warm start** of $L$ bars to estimate $\\Sigma_L$, reoptimize **every $n$ bars**. Between rebalances, keep weights fixed and accrue PnL from realized returns.\n"
   ]
  },
  {
   "cell_type": "code",
   "execution_count": 1,
   "id": "d964b845",
   "metadata": {
    "execution": {
     "iopub.execute_input": "2025-09-24T11:01:51.382959Z",
     "iopub.status.busy": "2025-09-24T11:01:51.382581Z",
     "iopub.status.idle": "2025-09-24T11:01:52.439195Z",
     "shell.execute_reply": "2025-09-24T11:01:52.438230Z"
    }
   },
   "outputs": [],
   "source": [
    "%matplotlib inline\n",
    "%config InlineBackend.figure_format = 'svg'\n",
    "\n",
    "import sys\n",
    "from pathlib import Path\n",
    "\n",
    "# setup path to project root\n",
    "sys.path.append(str(Path.cwd().parent))"
   ]
  },
  {
   "cell_type": "code",
   "execution_count": 2,
   "id": "861c7a67",
   "metadata": {
    "execution": {
     "iopub.execute_input": "2025-09-24T11:01:52.442931Z",
     "iopub.status.busy": "2025-09-24T11:01:52.442575Z",
     "iopub.status.idle": "2025-09-24T11:01:52.479372Z",
     "shell.execute_reply": "2025-09-24T11:01:52.478416Z"
    }
   },
   "outputs": [],
   "source": [
    "from typing import Dict, Any, Optional\n",
    "from pathlib import Path\n",
    "import logging\n",
    "import random\n",
    "\n",
    "import numpy as np\n",
    "import yaml\n",
    "\n",
    "try:\n",
    "    import torch\n",
    "except ImportError:  # pragma: no cover - optional dependency\n",
    "    torch = None\n",
    "\n",
    "logging.basicConfig(level=logging.INFO)\n",
    "LOGGER = logging.getLogger(\"erc_notebook\")\n",
    "\n",
    "\n",
    "def load_config(path: Optional[Path] = None) -> Dict[str, Any]:\n",
    "    if path is None:\n",
    "        path = Path(__file__).with_name(\"config.yaml\")\n",
    "    with path.open(\"r\", encoding=\"utf-8\") as f:\n",
    "        return yaml.safe_load(f)\n",
    "\n",
    "\n",
    "\n",
    "def set_global_seed(seed: int) -> None:\n",
    "    random.seed(seed)\n",
    "    np.random.seed(seed)\n",
    "    if torch is not None:\n",
    "        torch.manual_seed(seed)\n",
    "        if torch.cuda.is_available():\n",
    "            torch.cuda.manual_seed_all(seed)\n",
    "\n",
    "\n",
    "config_path = Path('../pipelines/portfolio_erc_static/config.yaml').resolve().absolute()\n",
    "config = load_config(Path(config_path) if config_path else None)\n",
    "\n",
    "seed = int(config.get(\"seed\", 42))\n",
    "set_global_seed(seed)\n"
   ]
  },
  {
   "cell_type": "code",
   "execution_count": 3,
   "id": "d7d2e47c",
   "metadata": {
    "execution": {
     "iopub.execute_input": "2025-09-24T11:01:52.482470Z",
     "iopub.status.busy": "2025-09-24T11:01:52.482181Z",
     "iopub.status.idle": "2025-09-24T11:01:56.772775Z",
     "shell.execute_reply": "2025-09-24T11:01:56.771651Z"
    }
   },
   "outputs": [
    {
     "name": "stderr",
     "output_type": "stream",
     "text": [
      "INFO:pipelines.portfolio_erc_static.data_loader:Fetching LINK/USDT from Binance (d)\n",
      "INFO:pipelines.portfolio_erc_static.data_loader:Fetching SOL/USDT from Binance (d)\n",
      "INFO:pipelines.portfolio_erc_static.data_loader:Fetching XRP/USDT from Binance (d)\n",
      "INFO:pipelines.portfolio_erc_static.data_loader:Fetching BNB/USDT from Binance (d)\n",
      "INFO:pipelines.portfolio_erc_static.data_loader:Fetching ADA/USDT from Binance (d)\n",
      "INFO:pipelines.portfolio_erc_static.data_loader:Fetching DOT/USDT from Binance (d)\n"
     ]
    },
    {
     "data": {
      "text/plain": [
       "<Axes: xlabel='date'>"
      ]
     },
     "execution_count": 3,
     "metadata": {},
     "output_type": "execute_result"
    },
    {
     "data": {
      "image/svg+xml": [
       "<?xml version=\"1.0\" encoding=\"utf-8\" standalone=\"no\"?>\n",
       "<!DOCTYPE svg PUBLIC \"-//W3C//DTD SVG 1.1//EN\"\n",
       "  \"http://www.w3.org/Graphics/SVG/1.1/DTD/svg11.dtd\">\n",
       "<svg xmlns:xlink=\"http://www.w3.org/1999/xlink\" width=\"397.6075pt\" height=\"324.239175pt\" viewBox=\"0 0 397.6075 324.239175\" xmlns=\"http://www.w3.org/2000/svg\" version=\"1.1\">\n",
       " <metadata>\n",
       "  <rdf:RDF xmlns:dc=\"http://purl.org/dc/elements/1.1/\" xmlns:cc=\"http://creativecommons.org/ns#\" xmlns:rdf=\"http://www.w3.org/1999/02/22-rdf-syntax-ns#\">\n",
       "   <cc:Work>\n",
       "    <dc:type rdf:resource=\"http://purl.org/dc/dcmitype/StillImage\"/>\n",
       "    <dc:date>2025-09-24T16:47:51.868752</dc:date>\n",
       "    <dc:format>image/svg+xml</dc:format>\n",
       "    <dc:creator>\n",
       "     <cc:Agent>\n",
       "      <dc:title>Matplotlib v3.10.6, https://matplotlib.org/</dc:title>\n",
       "     </cc:Agent>\n",
       "    </dc:creator>\n",
       "   </cc:Work>\n",
       "  </rdf:RDF>\n",
       " </metadata>\n",
       " <defs>\n",
       "  <style type=\"text/css\">*{stroke-linejoin: round; stroke-linecap: butt}</style>\n",
       " </defs>\n",
       " <g id=\"figure_1\">\n",
       "  <g id=\"patch_1\">\n",
       "   <path d=\"M 0 324.239175 \n",
       "L 397.6075 324.239175 \n",
       "L 397.6075 0 \n",
       "L 0 0 \n",
       "z\n",
       "\" style=\"fill: #ffffff\"/>\n",
       "  </g>\n",
       "  <g id=\"axes_1\">\n",
       "   <g id=\"patch_2\">\n",
       "    <path d=\"M 33.2875 273.549488 \n",
       "L 390.4075 273.549488 \n",
       "L 390.4075 7.437488 \n",
       "L 33.2875 7.437488 \n",
       "z\n",
       "\" style=\"fill: #e5e5e5\"/>\n",
       "   </g>\n",
       "   <g id=\"matplotlib.axis_1\">\n",
       "    <g id=\"xtick_1\">\n",
       "     <g id=\"line2d_1\">\n",
       "      <path d=\"M 33.2875 273.549488 \n",
       "L 33.2875 7.437488 \n",
       "\" clip-path=\"url(#p07947b6771)\" style=\"fill: none; stroke: #ffffff; stroke-width: 0.8; stroke-linecap: square\"/>\n",
       "     </g>\n",
       "     <g id=\"line2d_2\">\n",
       "      <defs>\n",
       "       <path id=\"m1f7341274f\" d=\"M 0 0 \n",
       "L 0 3.5 \n",
       "\" style=\"stroke: #555555; stroke-width: 0.8\"/>\n",
       "      </defs>\n",
       "      <g>\n",
       "       <use xlink:href=\"#m1f7341274f\" x=\"33.2875\" y=\"273.549488\" style=\"fill: #555555; stroke: #555555; stroke-width: 0.8\"/>\n",
       "      </g>\n",
       "     </g>\n",
       "    </g>\n",
       "    <g id=\"xtick_2\">\n",
       "     <g id=\"line2d_3\">\n",
       "      <path d=\"M 72.773939 273.549488 \n",
       "L 72.773939 7.437488 \n",
       "\" clip-path=\"url(#p07947b6771)\" style=\"fill: none; stroke: #ffffff; stroke-width: 0.8; stroke-linecap: square\"/>\n",
       "     </g>\n",
       "     <g id=\"line2d_4\">\n",
       "      <g>\n",
       "       <use xlink:href=\"#m1f7341274f\" x=\"72.773939\" y=\"273.549488\" style=\"fill: #555555; stroke: #555555; stroke-width: 0.8\"/>\n",
       "      </g>\n",
       "     </g>\n",
       "     <g id=\"text_1\">\n",
       "      <!-- Jan -->\n",
       "      <g style=\"fill: #555555\" transform=\"translate(65.066127 288.147925) scale(0.1 -0.1)\">\n",
       "       <defs>\n",
       "        <path id=\"DejaVuSans-4a\" d=\"M 628 4666 \n",
       "L 1259 4666 \n",
       "L 1259 325 \n",
       "Q 1259 -519 939 -900 \n",
       "Q 619 -1281 -91 -1281 \n",
       "L -331 -1281 \n",
       "L -331 -750 \n",
       "L -134 -750 \n",
       "Q 284 -750 456 -515 \n",
       "Q 628 -281 628 325 \n",
       "L 628 4666 \n",
       "z\n",
       "\" transform=\"scale(0.015625)\"/>\n",
       "        <path id=\"DejaVuSans-61\" d=\"M 2194 1759 \n",
       "Q 1497 1759 1228 1600 \n",
       "Q 959 1441 959 1056 \n",
       "Q 959 750 1161 570 \n",
       "Q 1363 391 1709 391 \n",
       "Q 2188 391 2477 730 \n",
       "Q 2766 1069 2766 1631 \n",
       "L 2766 1759 \n",
       "L 2194 1759 \n",
       "z\n",
       "M 3341 1997 \n",
       "L 3341 0 \n",
       "L 2766 0 \n",
       "L 2766 531 \n",
       "Q 2569 213 2275 61 \n",
       "Q 1981 -91 1556 -91 \n",
       "Q 1019 -91 701 211 \n",
       "Q 384 513 384 1019 \n",
       "Q 384 1609 779 1909 \n",
       "Q 1175 2209 1959 2209 \n",
       "L 2766 2209 \n",
       "L 2766 2266 \n",
       "Q 2766 2663 2505 2880 \n",
       "Q 2244 3097 1772 3097 \n",
       "Q 1472 3097 1187 3025 \n",
       "Q 903 2953 641 2809 \n",
       "L 641 3341 \n",
       "Q 956 3463 1253 3523 \n",
       "Q 1550 3584 1831 3584 \n",
       "Q 2591 3584 2966 3190 \n",
       "Q 3341 2797 3341 1997 \n",
       "z\n",
       "\" transform=\"scale(0.015625)\"/>\n",
       "        <path id=\"DejaVuSans-6e\" d=\"M 3513 2113 \n",
       "L 3513 0 \n",
       "L 2938 0 \n",
       "L 2938 2094 \n",
       "Q 2938 2591 2744 2837 \n",
       "Q 2550 3084 2163 3084 \n",
       "Q 1697 3084 1428 2787 \n",
       "Q 1159 2491 1159 1978 \n",
       "L 1159 0 \n",
       "L 581 0 \n",
       "L 581 3500 \n",
       "L 1159 3500 \n",
       "L 1159 2956 \n",
       "Q 1366 3272 1645 3428 \n",
       "Q 1925 3584 2291 3584 \n",
       "Q 2894 3584 3203 3211 \n",
       "Q 3513 2838 3513 2113 \n",
       "z\n",
       "\" transform=\"scale(0.015625)\"/>\n",
       "       </defs>\n",
       "       <use xlink:href=\"#DejaVuSans-4a\"/>\n",
       "       <use xlink:href=\"#DejaVuSans-61\" transform=\"translate(29.492188 0)\"/>\n",
       "       <use xlink:href=\"#DejaVuSans-6e\" transform=\"translate(90.771484 0)\"/>\n",
       "      </g>\n",
       "      <!-- 2021 -->\n",
       "      <g style=\"fill: #555555\" transform=\"translate(60.048939 299.345738) scale(0.1 -0.1)\">\n",
       "       <defs>\n",
       "        <path id=\"DejaVuSans-32\" d=\"M 1228 531 \n",
       "L 3431 531 \n",
       "L 3431 0 \n",
       "L 469 0 \n",
       "L 469 531 \n",
       "Q 828 903 1448 1529 \n",
       "Q 2069 2156 2228 2338 \n",
       "Q 2531 2678 2651 2914 \n",
       "Q 2772 3150 2772 3378 \n",
       "Q 2772 3750 2511 3984 \n",
       "Q 2250 4219 1831 4219 \n",
       "Q 1534 4219 1204 4116 \n",
       "Q 875 4013 500 3803 \n",
       "L 500 4441 \n",
       "Q 881 4594 1212 4672 \n",
       "Q 1544 4750 1819 4750 \n",
       "Q 2544 4750 2975 4387 \n",
       "Q 3406 4025 3406 3419 \n",
       "Q 3406 3131 3298 2873 \n",
       "Q 3191 2616 2906 2266 \n",
       "Q 2828 2175 2409 1742 \n",
       "Q 1991 1309 1228 531 \n",
       "z\n",
       "\" transform=\"scale(0.015625)\"/>\n",
       "        <path id=\"DejaVuSans-30\" d=\"M 2034 4250 \n",
       "Q 1547 4250 1301 3770 \n",
       "Q 1056 3291 1056 2328 \n",
       "Q 1056 1369 1301 889 \n",
       "Q 1547 409 2034 409 \n",
       "Q 2525 409 2770 889 \n",
       "Q 3016 1369 3016 2328 \n",
       "Q 3016 3291 2770 3770 \n",
       "Q 2525 4250 2034 4250 \n",
       "z\n",
       "M 2034 4750 \n",
       "Q 2819 4750 3233 4129 \n",
       "Q 3647 3509 3647 2328 \n",
       "Q 3647 1150 3233 529 \n",
       "Q 2819 -91 2034 -91 \n",
       "Q 1250 -91 836 529 \n",
       "Q 422 1150 422 2328 \n",
       "Q 422 3509 836 4129 \n",
       "Q 1250 4750 2034 4750 \n",
       "z\n",
       "\" transform=\"scale(0.015625)\"/>\n",
       "        <path id=\"DejaVuSans-31\" d=\"M 794 531 \n",
       "L 1825 531 \n",
       "L 1825 4091 \n",
       "L 703 3866 \n",
       "L 703 4441 \n",
       "L 1819 4666 \n",
       "L 2450 4666 \n",
       "L 2450 531 \n",
       "L 3481 531 \n",
       "L 3481 0 \n",
       "L 794 0 \n",
       "L 794 531 \n",
       "z\n",
       "\" transform=\"scale(0.015625)\"/>\n",
       "       </defs>\n",
       "       <use xlink:href=\"#DejaVuSans-32\"/>\n",
       "       <use xlink:href=\"#DejaVuSans-30\" transform=\"translate(63.623047 0)\"/>\n",
       "       <use xlink:href=\"#DejaVuSans-32\" transform=\"translate(127.246094 0)\"/>\n",
       "       <use xlink:href=\"#DejaVuSans-31\" transform=\"translate(190.869141 0)\"/>\n",
       "      </g>\n",
       "     </g>\n",
       "    </g>\n",
       "    <g id=\"xtick_3\">\n",
       "     <g id=\"line2d_5\">\n",
       "      <path d=\"M 178.748573 273.549488 \n",
       "L 178.748573 7.437488 \n",
       "\" clip-path=\"url(#p07947b6771)\" style=\"fill: none; stroke: #ffffff; stroke-width: 0.8; stroke-linecap: square\"/>\n",
       "     </g>\n",
       "     <g id=\"line2d_6\">\n",
       "      <g>\n",
       "       <use xlink:href=\"#m1f7341274f\" x=\"178.748573\" y=\"273.549488\" style=\"fill: #555555; stroke: #555555; stroke-width: 0.8\"/>\n",
       "      </g>\n",
       "     </g>\n",
       "     <g id=\"text_2\">\n",
       "      <!-- Jan -->\n",
       "      <g style=\"fill: #555555\" transform=\"translate(171.040761 288.147925) scale(0.1 -0.1)\">\n",
       "       <use xlink:href=\"#DejaVuSans-4a\"/>\n",
       "       <use xlink:href=\"#DejaVuSans-61\" transform=\"translate(29.492188 0)\"/>\n",
       "       <use xlink:href=\"#DejaVuSans-6e\" transform=\"translate(90.771484 0)\"/>\n",
       "      </g>\n",
       "      <!-- 2022 -->\n",
       "      <g style=\"fill: #555555\" transform=\"translate(166.023573 299.345738) scale(0.1 -0.1)\">\n",
       "       <use xlink:href=\"#DejaVuSans-32\"/>\n",
       "       <use xlink:href=\"#DejaVuSans-30\" transform=\"translate(63.623047 0)\"/>\n",
       "       <use xlink:href=\"#DejaVuSans-32\" transform=\"translate(127.246094 0)\"/>\n",
       "       <use xlink:href=\"#DejaVuSans-32\" transform=\"translate(190.869141 0)\"/>\n",
       "      </g>\n",
       "     </g>\n",
       "    </g>\n",
       "    <g id=\"xtick_4\">\n",
       "     <g id=\"line2d_7\">\n",
       "      <path d=\"M 284.723207 273.549488 \n",
       "L 284.723207 7.437488 \n",
       "\" clip-path=\"url(#p07947b6771)\" style=\"fill: none; stroke: #ffffff; stroke-width: 0.8; stroke-linecap: square\"/>\n",
       "     </g>\n",
       "     <g id=\"line2d_8\">\n",
       "      <g>\n",
       "       <use xlink:href=\"#m1f7341274f\" x=\"284.723207\" y=\"273.549488\" style=\"fill: #555555; stroke: #555555; stroke-width: 0.8\"/>\n",
       "      </g>\n",
       "     </g>\n",
       "     <g id=\"text_3\">\n",
       "      <!-- Jan -->\n",
       "      <g style=\"fill: #555555\" transform=\"translate(277.015395 288.147925) scale(0.1 -0.1)\">\n",
       "       <use xlink:href=\"#DejaVuSans-4a\"/>\n",
       "       <use xlink:href=\"#DejaVuSans-61\" transform=\"translate(29.492188 0)\"/>\n",
       "       <use xlink:href=\"#DejaVuSans-6e\" transform=\"translate(90.771484 0)\"/>\n",
       "      </g>\n",
       "      <!-- 2023 -->\n",
       "      <g style=\"fill: #555555\" transform=\"translate(271.998207 299.345738) scale(0.1 -0.1)\">\n",
       "       <defs>\n",
       "        <path id=\"DejaVuSans-33\" d=\"M 2597 2516 \n",
       "Q 3050 2419 3304 2112 \n",
       "Q 3559 1806 3559 1356 \n",
       "Q 3559 666 3084 287 \n",
       "Q 2609 -91 1734 -91 \n",
       "Q 1441 -91 1130 -33 \n",
       "Q 819 25 488 141 \n",
       "L 488 750 \n",
       "Q 750 597 1062 519 \n",
       "Q 1375 441 1716 441 \n",
       "Q 2309 441 2620 675 \n",
       "Q 2931 909 2931 1356 \n",
       "Q 2931 1769 2642 2001 \n",
       "Q 2353 2234 1838 2234 \n",
       "L 1294 2234 \n",
       "L 1294 2753 \n",
       "L 1863 2753 \n",
       "Q 2328 2753 2575 2939 \n",
       "Q 2822 3125 2822 3475 \n",
       "Q 2822 3834 2567 4026 \n",
       "Q 2313 4219 1838 4219 \n",
       "Q 1578 4219 1281 4162 \n",
       "Q 984 4106 628 3988 \n",
       "L 628 4550 \n",
       "Q 988 4650 1302 4700 \n",
       "Q 1616 4750 1894 4750 \n",
       "Q 2613 4750 3031 4423 \n",
       "Q 3450 4097 3450 3541 \n",
       "Q 3450 3153 3228 2886 \n",
       "Q 3006 2619 2597 2516 \n",
       "z\n",
       "\" transform=\"scale(0.015625)\"/>\n",
       "       </defs>\n",
       "       <use xlink:href=\"#DejaVuSans-32\"/>\n",
       "       <use xlink:href=\"#DejaVuSans-30\" transform=\"translate(63.623047 0)\"/>\n",
       "       <use xlink:href=\"#DejaVuSans-32\" transform=\"translate(127.246094 0)\"/>\n",
       "       <use xlink:href=\"#DejaVuSans-33\" transform=\"translate(190.869141 0)\"/>\n",
       "      </g>\n",
       "     </g>\n",
       "    </g>\n",
       "    <g id=\"xtick_5\">\n",
       "     <g id=\"line2d_9\">\n",
       "      <path d=\"M 390.4075 273.549488 \n",
       "L 390.4075 7.437488 \n",
       "\" clip-path=\"url(#p07947b6771)\" style=\"fill: none; stroke: #ffffff; stroke-width: 0.8; stroke-linecap: square\"/>\n",
       "     </g>\n",
       "     <g id=\"line2d_10\">\n",
       "      <g>\n",
       "       <use xlink:href=\"#m1f7341274f\" x=\"390.4075\" y=\"273.549488\" style=\"fill: #555555; stroke: #555555; stroke-width: 0.8\"/>\n",
       "      </g>\n",
       "     </g>\n",
       "    </g>\n",
       "    <g id=\"xtick_6\">\n",
       "     <g id=\"line2d_11\">\n",
       "      <defs>\n",
       "       <path id=\"ma2670e24ca\" d=\"M 0 0 \n",
       "L 0 2 \n",
       "\" style=\"stroke: #555555; stroke-width: 0.6\"/>\n",
       "      </defs>\n",
       "      <g>\n",
       "       <use xlink:href=\"#ma2670e24ca\" x=\"37.35228\" y=\"273.549488\" style=\"fill: #555555; stroke: #555555; stroke-width: 0.6\"/>\n",
       "      </g>\n",
       "     </g>\n",
       "    </g>\n",
       "    <g id=\"xtick_7\">\n",
       "     <g id=\"line2d_12\">\n",
       "      <g>\n",
       "       <use xlink:href=\"#ma2670e24ca\" x=\"46.062524\" y=\"273.549488\" style=\"fill: #555555; stroke: #555555; stroke-width: 0.6\"/>\n",
       "      </g>\n",
       "     </g>\n",
       "    </g>\n",
       "    <g id=\"xtick_8\">\n",
       "     <g id=\"line2d_13\">\n",
       "      <g>\n",
       "       <use xlink:href=\"#ma2670e24ca\" x=\"55.06311\" y=\"273.549488\" style=\"fill: #555555; stroke: #555555; stroke-width: 0.6\"/>\n",
       "      </g>\n",
       "     </g>\n",
       "    </g>\n",
       "    <g id=\"xtick_9\">\n",
       "     <g id=\"line2d_14\">\n",
       "      <g>\n",
       "       <use xlink:href=\"#ma2670e24ca\" x=\"63.773354\" y=\"273.549488\" style=\"fill: #555555; stroke: #555555; stroke-width: 0.6\"/>\n",
       "      </g>\n",
       "     </g>\n",
       "    </g>\n",
       "    <g id=\"xtick_10\">\n",
       "     <g id=\"line2d_15\">\n",
       "      <g>\n",
       "       <use xlink:href=\"#ma2670e24ca\" x=\"81.774524\" y=\"273.549488\" style=\"fill: #555555; stroke: #555555; stroke-width: 0.6\"/>\n",
       "      </g>\n",
       "     </g>\n",
       "    </g>\n",
       "    <g id=\"xtick_11\">\n",
       "     <g id=\"line2d_16\">\n",
       "      <g>\n",
       "       <use xlink:href=\"#ma2670e24ca\" x=\"89.904085\" y=\"273.549488\" style=\"fill: #555555; stroke: #555555; stroke-width: 0.6\"/>\n",
       "      </g>\n",
       "     </g>\n",
       "    </g>\n",
       "    <g id=\"xtick_12\">\n",
       "     <g id=\"line2d_17\">\n",
       "      <g>\n",
       "       <use xlink:href=\"#ma2670e24ca\" x=\"98.904671\" y=\"273.549488\" style=\"fill: #555555; stroke: #555555; stroke-width: 0.6\"/>\n",
       "      </g>\n",
       "     </g>\n",
       "    </g>\n",
       "    <g id=\"xtick_13\">\n",
       "     <g id=\"line2d_18\">\n",
       "      <g>\n",
       "       <use xlink:href=\"#ma2670e24ca\" x=\"107.614915\" y=\"273.549488\" style=\"fill: #555555; stroke: #555555; stroke-width: 0.6\"/>\n",
       "      </g>\n",
       "     </g>\n",
       "    </g>\n",
       "    <g id=\"xtick_14\">\n",
       "     <g id=\"line2d_19\">\n",
       "      <g>\n",
       "       <use xlink:href=\"#ma2670e24ca\" x=\"116.6155\" y=\"273.549488\" style=\"fill: #555555; stroke: #555555; stroke-width: 0.6\"/>\n",
       "      </g>\n",
       "     </g>\n",
       "    </g>\n",
       "    <g id=\"xtick_15\">\n",
       "     <g id=\"line2d_20\">\n",
       "      <g>\n",
       "       <use xlink:href=\"#ma2670e24ca\" x=\"125.325744\" y=\"273.549488\" style=\"fill: #555555; stroke: #555555; stroke-width: 0.6\"/>\n",
       "      </g>\n",
       "     </g>\n",
       "     <g id=\"text_4\">\n",
       "      <!-- Jul -->\n",
       "      <g style=\"fill: #555555\" transform=\"translate(119.292931 286.547925) scale(0.1 -0.1)\">\n",
       "       <defs>\n",
       "        <path id=\"DejaVuSans-75\" d=\"M 544 1381 \n",
       "L 544 3500 \n",
       "L 1119 3500 \n",
       "L 1119 1403 \n",
       "Q 1119 906 1312 657 \n",
       "Q 1506 409 1894 409 \n",
       "Q 2359 409 2629 706 \n",
       "Q 2900 1003 2900 1516 \n",
       "L 2900 3500 \n",
       "L 3475 3500 \n",
       "L 3475 0 \n",
       "L 2900 0 \n",
       "L 2900 538 \n",
       "Q 2691 219 2414 64 \n",
       "Q 2138 -91 1772 -91 \n",
       "Q 1169 -91 856 284 \n",
       "Q 544 659 544 1381 \n",
       "z\n",
       "M 1991 3584 \n",
       "L 1991 3584 \n",
       "z\n",
       "\" transform=\"scale(0.015625)\"/>\n",
       "        <path id=\"DejaVuSans-6c\" d=\"M 603 4863 \n",
       "L 1178 4863 \n",
       "L 1178 0 \n",
       "L 603 0 \n",
       "L 603 4863 \n",
       "z\n",
       "\" transform=\"scale(0.015625)\"/>\n",
       "       </defs>\n",
       "       <use xlink:href=\"#DejaVuSans-4a\"/>\n",
       "       <use xlink:href=\"#DejaVuSans-75\" transform=\"translate(29.492188 0)\"/>\n",
       "       <use xlink:href=\"#DejaVuSans-6c\" transform=\"translate(92.871094 0)\"/>\n",
       "      </g>\n",
       "     </g>\n",
       "    </g>\n",
       "    <g id=\"xtick_16\">\n",
       "     <g id=\"line2d_21\">\n",
       "      <g>\n",
       "       <use xlink:href=\"#ma2670e24ca\" x=\"134.326329\" y=\"273.549488\" style=\"fill: #555555; stroke: #555555; stroke-width: 0.6\"/>\n",
       "      </g>\n",
       "     </g>\n",
       "    </g>\n",
       "    <g id=\"xtick_17\">\n",
       "     <g id=\"line2d_22\">\n",
       "      <g>\n",
       "       <use xlink:href=\"#ma2670e24ca\" x=\"143.326915\" y=\"273.549488\" style=\"fill: #555555; stroke: #555555; stroke-width: 0.6\"/>\n",
       "      </g>\n",
       "     </g>\n",
       "    </g>\n",
       "    <g id=\"xtick_18\">\n",
       "     <g id=\"line2d_23\">\n",
       "      <g>\n",
       "       <use xlink:href=\"#ma2670e24ca\" x=\"152.037159\" y=\"273.549488\" style=\"fill: #555555; stroke: #555555; stroke-width: 0.6\"/>\n",
       "      </g>\n",
       "     </g>\n",
       "    </g>\n",
       "    <g id=\"xtick_19\">\n",
       "     <g id=\"line2d_24\">\n",
       "      <g>\n",
       "       <use xlink:href=\"#ma2670e24ca\" x=\"161.037744\" y=\"273.549488\" style=\"fill: #555555; stroke: #555555; stroke-width: 0.6\"/>\n",
       "      </g>\n",
       "     </g>\n",
       "    </g>\n",
       "    <g id=\"xtick_20\">\n",
       "     <g id=\"line2d_25\">\n",
       "      <g>\n",
       "       <use xlink:href=\"#ma2670e24ca\" x=\"169.747988\" y=\"273.549488\" style=\"fill: #555555; stroke: #555555; stroke-width: 0.6\"/>\n",
       "      </g>\n",
       "     </g>\n",
       "    </g>\n",
       "    <g id=\"xtick_21\">\n",
       "     <g id=\"line2d_26\">\n",
       "      <g>\n",
       "       <use xlink:href=\"#ma2670e24ca\" x=\"187.749159\" y=\"273.549488\" style=\"fill: #555555; stroke: #555555; stroke-width: 0.6\"/>\n",
       "      </g>\n",
       "     </g>\n",
       "    </g>\n",
       "    <g id=\"xtick_22\">\n",
       "     <g id=\"line2d_27\">\n",
       "      <g>\n",
       "       <use xlink:href=\"#ma2670e24ca\" x=\"195.87872\" y=\"273.549488\" style=\"fill: #555555; stroke: #555555; stroke-width: 0.6\"/>\n",
       "      </g>\n",
       "     </g>\n",
       "    </g>\n",
       "    <g id=\"xtick_23\">\n",
       "     <g id=\"line2d_28\">\n",
       "      <g>\n",
       "       <use xlink:href=\"#ma2670e24ca\" x=\"204.879305\" y=\"273.549488\" style=\"fill: #555555; stroke: #555555; stroke-width: 0.6\"/>\n",
       "      </g>\n",
       "     </g>\n",
       "    </g>\n",
       "    <g id=\"xtick_24\">\n",
       "     <g id=\"line2d_29\">\n",
       "      <g>\n",
       "       <use xlink:href=\"#ma2670e24ca\" x=\"213.589549\" y=\"273.549488\" style=\"fill: #555555; stroke: #555555; stroke-width: 0.6\"/>\n",
       "      </g>\n",
       "     </g>\n",
       "    </g>\n",
       "    <g id=\"xtick_25\">\n",
       "     <g id=\"line2d_30\">\n",
       "      <g>\n",
       "       <use xlink:href=\"#ma2670e24ca\" x=\"222.590134\" y=\"273.549488\" style=\"fill: #555555; stroke: #555555; stroke-width: 0.6\"/>\n",
       "      </g>\n",
       "     </g>\n",
       "    </g>\n",
       "    <g id=\"xtick_26\">\n",
       "     <g id=\"line2d_31\">\n",
       "      <g>\n",
       "       <use xlink:href=\"#ma2670e24ca\" x=\"231.300378\" y=\"273.549488\" style=\"fill: #555555; stroke: #555555; stroke-width: 0.6\"/>\n",
       "      </g>\n",
       "     </g>\n",
       "     <g id=\"text_5\">\n",
       "      <!-- Jul -->\n",
       "      <g style=\"fill: #555555\" transform=\"translate(225.267566 286.547925) scale(0.1 -0.1)\">\n",
       "       <use xlink:href=\"#DejaVuSans-4a\"/>\n",
       "       <use xlink:href=\"#DejaVuSans-75\" transform=\"translate(29.492188 0)\"/>\n",
       "       <use xlink:href=\"#DejaVuSans-6c\" transform=\"translate(92.871094 0)\"/>\n",
       "      </g>\n",
       "     </g>\n",
       "    </g>\n",
       "    <g id=\"xtick_27\">\n",
       "     <g id=\"line2d_32\">\n",
       "      <g>\n",
       "       <use xlink:href=\"#ma2670e24ca\" x=\"240.300963\" y=\"273.549488\" style=\"fill: #555555; stroke: #555555; stroke-width: 0.6\"/>\n",
       "      </g>\n",
       "     </g>\n",
       "    </g>\n",
       "    <g id=\"xtick_28\">\n",
       "     <g id=\"line2d_33\">\n",
       "      <g>\n",
       "       <use xlink:href=\"#ma2670e24ca\" x=\"249.301549\" y=\"273.549488\" style=\"fill: #555555; stroke: #555555; stroke-width: 0.6\"/>\n",
       "      </g>\n",
       "     </g>\n",
       "    </g>\n",
       "    <g id=\"xtick_29\">\n",
       "     <g id=\"line2d_34\">\n",
       "      <g>\n",
       "       <use xlink:href=\"#ma2670e24ca\" x=\"258.011793\" y=\"273.549488\" style=\"fill: #555555; stroke: #555555; stroke-width: 0.6\"/>\n",
       "      </g>\n",
       "     </g>\n",
       "    </g>\n",
       "    <g id=\"xtick_30\">\n",
       "     <g id=\"line2d_35\">\n",
       "      <g>\n",
       "       <use xlink:href=\"#ma2670e24ca\" x=\"267.012378\" y=\"273.549488\" style=\"fill: #555555; stroke: #555555; stroke-width: 0.6\"/>\n",
       "      </g>\n",
       "     </g>\n",
       "    </g>\n",
       "    <g id=\"xtick_31\">\n",
       "     <g id=\"line2d_36\">\n",
       "      <g>\n",
       "       <use xlink:href=\"#ma2670e24ca\" x=\"275.722622\" y=\"273.549488\" style=\"fill: #555555; stroke: #555555; stroke-width: 0.6\"/>\n",
       "      </g>\n",
       "     </g>\n",
       "    </g>\n",
       "    <g id=\"xtick_32\">\n",
       "     <g id=\"line2d_37\">\n",
       "      <g>\n",
       "       <use xlink:href=\"#ma2670e24ca\" x=\"293.723793\" y=\"273.549488\" style=\"fill: #555555; stroke: #555555; stroke-width: 0.6\"/>\n",
       "      </g>\n",
       "     </g>\n",
       "    </g>\n",
       "    <g id=\"xtick_33\">\n",
       "     <g id=\"line2d_38\">\n",
       "      <g>\n",
       "       <use xlink:href=\"#ma2670e24ca\" x=\"301.853354\" y=\"273.549488\" style=\"fill: #555555; stroke: #555555; stroke-width: 0.6\"/>\n",
       "      </g>\n",
       "     </g>\n",
       "    </g>\n",
       "    <g id=\"xtick_34\">\n",
       "     <g id=\"line2d_39\">\n",
       "      <g>\n",
       "       <use xlink:href=\"#ma2670e24ca\" x=\"310.853939\" y=\"273.549488\" style=\"fill: #555555; stroke: #555555; stroke-width: 0.6\"/>\n",
       "      </g>\n",
       "     </g>\n",
       "    </g>\n",
       "    <g id=\"xtick_35\">\n",
       "     <g id=\"line2d_40\">\n",
       "      <g>\n",
       "       <use xlink:href=\"#ma2670e24ca\" x=\"319.564183\" y=\"273.549488\" style=\"fill: #555555; stroke: #555555; stroke-width: 0.6\"/>\n",
       "      </g>\n",
       "     </g>\n",
       "    </g>\n",
       "    <g id=\"xtick_36\">\n",
       "     <g id=\"line2d_41\">\n",
       "      <g>\n",
       "       <use xlink:href=\"#ma2670e24ca\" x=\"328.564768\" y=\"273.549488\" style=\"fill: #555555; stroke: #555555; stroke-width: 0.6\"/>\n",
       "      </g>\n",
       "     </g>\n",
       "    </g>\n",
       "    <g id=\"xtick_37\">\n",
       "     <g id=\"line2d_42\">\n",
       "      <g>\n",
       "       <use xlink:href=\"#ma2670e24ca\" x=\"337.275012\" y=\"273.549488\" style=\"fill: #555555; stroke: #555555; stroke-width: 0.6\"/>\n",
       "      </g>\n",
       "     </g>\n",
       "     <g id=\"text_6\">\n",
       "      <!-- Jul -->\n",
       "      <g style=\"fill: #555555\" transform=\"translate(331.2422 286.547925) scale(0.1 -0.1)\">\n",
       "       <use xlink:href=\"#DejaVuSans-4a\"/>\n",
       "       <use xlink:href=\"#DejaVuSans-75\" transform=\"translate(29.492188 0)\"/>\n",
       "       <use xlink:href=\"#DejaVuSans-6c\" transform=\"translate(92.871094 0)\"/>\n",
       "      </g>\n",
       "     </g>\n",
       "    </g>\n",
       "    <g id=\"xtick_38\">\n",
       "     <g id=\"line2d_43\">\n",
       "      <g>\n",
       "       <use xlink:href=\"#ma2670e24ca\" x=\"346.275598\" y=\"273.549488\" style=\"fill: #555555; stroke: #555555; stroke-width: 0.6\"/>\n",
       "      </g>\n",
       "     </g>\n",
       "    </g>\n",
       "    <g id=\"xtick_39\">\n",
       "     <g id=\"line2d_44\">\n",
       "      <g>\n",
       "       <use xlink:href=\"#ma2670e24ca\" x=\"355.276183\" y=\"273.549488\" style=\"fill: #555555; stroke: #555555; stroke-width: 0.6\"/>\n",
       "      </g>\n",
       "     </g>\n",
       "    </g>\n",
       "    <g id=\"xtick_40\">\n",
       "     <g id=\"line2d_45\">\n",
       "      <g>\n",
       "       <use xlink:href=\"#ma2670e24ca\" x=\"363.986427\" y=\"273.549488\" style=\"fill: #555555; stroke: #555555; stroke-width: 0.6\"/>\n",
       "      </g>\n",
       "     </g>\n",
       "    </g>\n",
       "    <g id=\"xtick_41\">\n",
       "     <g id=\"line2d_46\">\n",
       "      <g>\n",
       "       <use xlink:href=\"#ma2670e24ca\" x=\"372.987012\" y=\"273.549488\" style=\"fill: #555555; stroke: #555555; stroke-width: 0.6\"/>\n",
       "      </g>\n",
       "     </g>\n",
       "    </g>\n",
       "    <g id=\"xtick_42\">\n",
       "     <g id=\"line2d_47\">\n",
       "      <g>\n",
       "       <use xlink:href=\"#ma2670e24ca\" x=\"381.697256\" y=\"273.549488\" style=\"fill: #555555; stroke: #555555; stroke-width: 0.6\"/>\n",
       "      </g>\n",
       "     </g>\n",
       "    </g>\n",
       "    <g id=\"text_7\">\n",
       "     <!-- date -->\n",
       "     <g style=\"fill: #555555\" transform=\"translate(198.3175 314.54355) scale(0.12 -0.12)\">\n",
       "      <defs>\n",
       "       <path id=\"DejaVuSans-64\" d=\"M 2906 2969 \n",
       "L 2906 4863 \n",
       "L 3481 4863 \n",
       "L 3481 0 \n",
       "L 2906 0 \n",
       "L 2906 525 \n",
       "Q 2725 213 2448 61 \n",
       "Q 2172 -91 1784 -91 \n",
       "Q 1150 -91 751 415 \n",
       "Q 353 922 353 1747 \n",
       "Q 353 2572 751 3078 \n",
       "Q 1150 3584 1784 3584 \n",
       "Q 2172 3584 2448 3432 \n",
       "Q 2725 3281 2906 2969 \n",
       "z\n",
       "M 947 1747 \n",
       "Q 947 1113 1208 752 \n",
       "Q 1469 391 1925 391 \n",
       "Q 2381 391 2643 752 \n",
       "Q 2906 1113 2906 1747 \n",
       "Q 2906 2381 2643 2742 \n",
       "Q 2381 3103 1925 3103 \n",
       "Q 1469 3103 1208 2742 \n",
       "Q 947 2381 947 1747 \n",
       "z\n",
       "\" transform=\"scale(0.015625)\"/>\n",
       "       <path id=\"DejaVuSans-74\" d=\"M 1172 4494 \n",
       "L 1172 3500 \n",
       "L 2356 3500 \n",
       "L 2356 3053 \n",
       "L 1172 3053 \n",
       "L 1172 1153 \n",
       "Q 1172 725 1289 603 \n",
       "Q 1406 481 1766 481 \n",
       "L 2356 481 \n",
       "L 2356 0 \n",
       "L 1766 0 \n",
       "Q 1100 0 847 248 \n",
       "Q 594 497 594 1153 \n",
       "L 594 3053 \n",
       "L 172 3053 \n",
       "L 172 3500 \n",
       "L 594 3500 \n",
       "L 594 4494 \n",
       "L 1172 4494 \n",
       "z\n",
       "\" transform=\"scale(0.015625)\"/>\n",
       "       <path id=\"DejaVuSans-65\" d=\"M 3597 1894 \n",
       "L 3597 1613 \n",
       "L 953 1613 \n",
       "Q 991 1019 1311 708 \n",
       "Q 1631 397 2203 397 \n",
       "Q 2534 397 2845 478 \n",
       "Q 3156 559 3463 722 \n",
       "L 3463 178 \n",
       "Q 3153 47 2828 -22 \n",
       "Q 2503 -91 2169 -91 \n",
       "Q 1331 -91 842 396 \n",
       "Q 353 884 353 1716 \n",
       "Q 353 2575 817 3079 \n",
       "Q 1281 3584 2069 3584 \n",
       "Q 2775 3584 3186 3129 \n",
       "Q 3597 2675 3597 1894 \n",
       "z\n",
       "M 3022 2063 \n",
       "Q 3016 2534 2758 2815 \n",
       "Q 2500 3097 2075 3097 \n",
       "Q 1594 3097 1305 2825 \n",
       "Q 1016 2553 972 2059 \n",
       "L 3022 2063 \n",
       "z\n",
       "\" transform=\"scale(0.015625)\"/>\n",
       "      </defs>\n",
       "      <use xlink:href=\"#DejaVuSans-64\"/>\n",
       "      <use xlink:href=\"#DejaVuSans-61\" transform=\"translate(63.476562 0)\"/>\n",
       "      <use xlink:href=\"#DejaVuSans-74\" transform=\"translate(124.755859 0)\"/>\n",
       "      <use xlink:href=\"#DejaVuSans-65\" transform=\"translate(163.964844 0)\"/>\n",
       "     </g>\n",
       "    </g>\n",
       "   </g>\n",
       "   <g id=\"matplotlib.axis_2\">\n",
       "    <g id=\"ytick_1\">\n",
       "     <g id=\"line2d_48\">\n",
       "      <path d=\"M 33.2875 261.480908 \n",
       "L 390.4075 261.480908 \n",
       "\" clip-path=\"url(#p07947b6771)\" style=\"fill: none; stroke: #ffffff; stroke-width: 0.8; stroke-linecap: square\"/>\n",
       "     </g>\n",
       "     <g id=\"line2d_49\">\n",
       "      <defs>\n",
       "       <path id=\"m67afdc0fef\" d=\"M 0 0 \n",
       "L -3.5 0 \n",
       "\" style=\"stroke: #555555; stroke-width: 0.8\"/>\n",
       "      </defs>\n",
       "      <g>\n",
       "       <use xlink:href=\"#m67afdc0fef\" x=\"33.2875\" y=\"261.480908\" style=\"fill: #555555; stroke: #555555; stroke-width: 0.8\"/>\n",
       "      </g>\n",
       "     </g>\n",
       "     <g id=\"text_8\">\n",
       "      <!-- 0 -->\n",
       "      <g style=\"fill: #555555\" transform=\"translate(19.925 265.280127) scale(0.1 -0.1)\">\n",
       "       <use xlink:href=\"#DejaVuSans-30\"/>\n",
       "      </g>\n",
       "     </g>\n",
       "    </g>\n",
       "    <g id=\"ytick_2\">\n",
       "     <g id=\"line2d_50\">\n",
       "      <path d=\"M 33.2875 225.69781 \n",
       "L 390.4075 225.69781 \n",
       "\" clip-path=\"url(#p07947b6771)\" style=\"fill: none; stroke: #ffffff; stroke-width: 0.8; stroke-linecap: square\"/>\n",
       "     </g>\n",
       "     <g id=\"line2d_51\">\n",
       "      <g>\n",
       "       <use xlink:href=\"#m67afdc0fef\" x=\"33.2875\" y=\"225.69781\" style=\"fill: #555555; stroke: #555555; stroke-width: 0.8\"/>\n",
       "      </g>\n",
       "     </g>\n",
       "     <g id=\"text_9\">\n",
       "      <!-- 100 -->\n",
       "      <g style=\"fill: #555555\" transform=\"translate(7.2 229.497029) scale(0.1 -0.1)\">\n",
       "       <use xlink:href=\"#DejaVuSans-31\"/>\n",
       "       <use xlink:href=\"#DejaVuSans-30\" transform=\"translate(63.623047 0)\"/>\n",
       "       <use xlink:href=\"#DejaVuSans-30\" transform=\"translate(127.246094 0)\"/>\n",
       "      </g>\n",
       "     </g>\n",
       "    </g>\n",
       "    <g id=\"ytick_3\">\n",
       "     <g id=\"line2d_52\">\n",
       "      <path d=\"M 33.2875 189.914711 \n",
       "L 390.4075 189.914711 \n",
       "\" clip-path=\"url(#p07947b6771)\" style=\"fill: none; stroke: #ffffff; stroke-width: 0.8; stroke-linecap: square\"/>\n",
       "     </g>\n",
       "     <g id=\"line2d_53\">\n",
       "      <g>\n",
       "       <use xlink:href=\"#m67afdc0fef\" x=\"33.2875\" y=\"189.914711\" style=\"fill: #555555; stroke: #555555; stroke-width: 0.8\"/>\n",
       "      </g>\n",
       "     </g>\n",
       "     <g id=\"text_10\">\n",
       "      <!-- 200 -->\n",
       "      <g style=\"fill: #555555\" transform=\"translate(7.2 193.71393) scale(0.1 -0.1)\">\n",
       "       <use xlink:href=\"#DejaVuSans-32\"/>\n",
       "       <use xlink:href=\"#DejaVuSans-30\" transform=\"translate(63.623047 0)\"/>\n",
       "       <use xlink:href=\"#DejaVuSans-30\" transform=\"translate(127.246094 0)\"/>\n",
       "      </g>\n",
       "     </g>\n",
       "    </g>\n",
       "    <g id=\"ytick_4\">\n",
       "     <g id=\"line2d_54\">\n",
       "      <path d=\"M 33.2875 154.131613 \n",
       "L 390.4075 154.131613 \n",
       "\" clip-path=\"url(#p07947b6771)\" style=\"fill: none; stroke: #ffffff; stroke-width: 0.8; stroke-linecap: square\"/>\n",
       "     </g>\n",
       "     <g id=\"line2d_55\">\n",
       "      <g>\n",
       "       <use xlink:href=\"#m67afdc0fef\" x=\"33.2875\" y=\"154.131613\" style=\"fill: #555555; stroke: #555555; stroke-width: 0.8\"/>\n",
       "      </g>\n",
       "     </g>\n",
       "     <g id=\"text_11\">\n",
       "      <!-- 300 -->\n",
       "      <g style=\"fill: #555555\" transform=\"translate(7.2 157.930832) scale(0.1 -0.1)\">\n",
       "       <use xlink:href=\"#DejaVuSans-33\"/>\n",
       "       <use xlink:href=\"#DejaVuSans-30\" transform=\"translate(63.623047 0)\"/>\n",
       "       <use xlink:href=\"#DejaVuSans-30\" transform=\"translate(127.246094 0)\"/>\n",
       "      </g>\n",
       "     </g>\n",
       "    </g>\n",
       "    <g id=\"ytick_5\">\n",
       "     <g id=\"line2d_56\">\n",
       "      <path d=\"M 33.2875 118.348514 \n",
       "L 390.4075 118.348514 \n",
       "\" clip-path=\"url(#p07947b6771)\" style=\"fill: none; stroke: #ffffff; stroke-width: 0.8; stroke-linecap: square\"/>\n",
       "     </g>\n",
       "     <g id=\"line2d_57\">\n",
       "      <g>\n",
       "       <use xlink:href=\"#m67afdc0fef\" x=\"33.2875\" y=\"118.348514\" style=\"fill: #555555; stroke: #555555; stroke-width: 0.8\"/>\n",
       "      </g>\n",
       "     </g>\n",
       "     <g id=\"text_12\">\n",
       "      <!-- 400 -->\n",
       "      <g style=\"fill: #555555\" transform=\"translate(7.2 122.147733) scale(0.1 -0.1)\">\n",
       "       <defs>\n",
       "        <path id=\"DejaVuSans-34\" d=\"M 2419 4116 \n",
       "L 825 1625 \n",
       "L 2419 1625 \n",
       "L 2419 4116 \n",
       "z\n",
       "M 2253 4666 \n",
       "L 3047 4666 \n",
       "L 3047 1625 \n",
       "L 3713 1625 \n",
       "L 3713 1100 \n",
       "L 3047 1100 \n",
       "L 3047 0 \n",
       "L 2419 0 \n",
       "L 2419 1100 \n",
       "L 313 1100 \n",
       "L 313 1709 \n",
       "L 2253 4666 \n",
       "z\n",
       "\" transform=\"scale(0.015625)\"/>\n",
       "       </defs>\n",
       "       <use xlink:href=\"#DejaVuSans-34\"/>\n",
       "       <use xlink:href=\"#DejaVuSans-30\" transform=\"translate(63.623047 0)\"/>\n",
       "       <use xlink:href=\"#DejaVuSans-30\" transform=\"translate(127.246094 0)\"/>\n",
       "      </g>\n",
       "     </g>\n",
       "    </g>\n",
       "    <g id=\"ytick_6\">\n",
       "     <g id=\"line2d_58\">\n",
       "      <path d=\"M 33.2875 82.565416 \n",
       "L 390.4075 82.565416 \n",
       "\" clip-path=\"url(#p07947b6771)\" style=\"fill: none; stroke: #ffffff; stroke-width: 0.8; stroke-linecap: square\"/>\n",
       "     </g>\n",
       "     <g id=\"line2d_59\">\n",
       "      <g>\n",
       "       <use xlink:href=\"#m67afdc0fef\" x=\"33.2875\" y=\"82.565416\" style=\"fill: #555555; stroke: #555555; stroke-width: 0.8\"/>\n",
       "      </g>\n",
       "     </g>\n",
       "     <g id=\"text_13\">\n",
       "      <!-- 500 -->\n",
       "      <g style=\"fill: #555555\" transform=\"translate(7.2 86.364635) scale(0.1 -0.1)\">\n",
       "       <defs>\n",
       "        <path id=\"DejaVuSans-35\" d=\"M 691 4666 \n",
       "L 3169 4666 \n",
       "L 3169 4134 \n",
       "L 1269 4134 \n",
       "L 1269 2991 \n",
       "Q 1406 3038 1543 3061 \n",
       "Q 1681 3084 1819 3084 \n",
       "Q 2600 3084 3056 2656 \n",
       "Q 3513 2228 3513 1497 \n",
       "Q 3513 744 3044 326 \n",
       "Q 2575 -91 1722 -91 \n",
       "Q 1428 -91 1123 -41 \n",
       "Q 819 9 494 109 \n",
       "L 494 744 \n",
       "Q 775 591 1075 516 \n",
       "Q 1375 441 1709 441 \n",
       "Q 2250 441 2565 725 \n",
       "Q 2881 1009 2881 1497 \n",
       "Q 2881 1984 2565 2268 \n",
       "Q 2250 2553 1709 2553 \n",
       "Q 1456 2553 1204 2497 \n",
       "Q 953 2441 691 2322 \n",
       "L 691 4666 \n",
       "z\n",
       "\" transform=\"scale(0.015625)\"/>\n",
       "       </defs>\n",
       "       <use xlink:href=\"#DejaVuSans-35\"/>\n",
       "       <use xlink:href=\"#DejaVuSans-30\" transform=\"translate(63.623047 0)\"/>\n",
       "       <use xlink:href=\"#DejaVuSans-30\" transform=\"translate(127.246094 0)\"/>\n",
       "      </g>\n",
       "     </g>\n",
       "    </g>\n",
       "    <g id=\"ytick_7\">\n",
       "     <g id=\"line2d_60\">\n",
       "      <path d=\"M 33.2875 46.782317 \n",
       "L 390.4075 46.782317 \n",
       "\" clip-path=\"url(#p07947b6771)\" style=\"fill: none; stroke: #ffffff; stroke-width: 0.8; stroke-linecap: square\"/>\n",
       "     </g>\n",
       "     <g id=\"line2d_61\">\n",
       "      <g>\n",
       "       <use xlink:href=\"#m67afdc0fef\" x=\"33.2875\" y=\"46.782317\" style=\"fill: #555555; stroke: #555555; stroke-width: 0.8\"/>\n",
       "      </g>\n",
       "     </g>\n",
       "     <g id=\"text_14\">\n",
       "      <!-- 600 -->\n",
       "      <g style=\"fill: #555555\" transform=\"translate(7.2 50.581536) scale(0.1 -0.1)\">\n",
       "       <defs>\n",
       "        <path id=\"DejaVuSans-36\" d=\"M 2113 2584 \n",
       "Q 1688 2584 1439 2293 \n",
       "Q 1191 2003 1191 1497 \n",
       "Q 1191 994 1439 701 \n",
       "Q 1688 409 2113 409 \n",
       "Q 2538 409 2786 701 \n",
       "Q 3034 994 3034 1497 \n",
       "Q 3034 2003 2786 2293 \n",
       "Q 2538 2584 2113 2584 \n",
       "z\n",
       "M 3366 4563 \n",
       "L 3366 3988 \n",
       "Q 3128 4100 2886 4159 \n",
       "Q 2644 4219 2406 4219 \n",
       "Q 1781 4219 1451 3797 \n",
       "Q 1122 3375 1075 2522 \n",
       "Q 1259 2794 1537 2939 \n",
       "Q 1816 3084 2150 3084 \n",
       "Q 2853 3084 3261 2657 \n",
       "Q 3669 2231 3669 1497 \n",
       "Q 3669 778 3244 343 \n",
       "Q 2819 -91 2113 -91 \n",
       "Q 1303 -91 875 529 \n",
       "Q 447 1150 447 2328 \n",
       "Q 447 3434 972 4092 \n",
       "Q 1497 4750 2381 4750 \n",
       "Q 2619 4750 2861 4703 \n",
       "Q 3103 4656 3366 4563 \n",
       "z\n",
       "\" transform=\"scale(0.015625)\"/>\n",
       "       </defs>\n",
       "       <use xlink:href=\"#DejaVuSans-36\"/>\n",
       "       <use xlink:href=\"#DejaVuSans-30\" transform=\"translate(63.623047 0)\"/>\n",
       "       <use xlink:href=\"#DejaVuSans-30\" transform=\"translate(127.246094 0)\"/>\n",
       "      </g>\n",
       "     </g>\n",
       "    </g>\n",
       "    <g id=\"ytick_8\">\n",
       "     <g id=\"line2d_62\">\n",
       "      <path d=\"M 33.2875 10.999219 \n",
       "L 390.4075 10.999219 \n",
       "\" clip-path=\"url(#p07947b6771)\" style=\"fill: none; stroke: #ffffff; stroke-width: 0.8; stroke-linecap: square\"/>\n",
       "     </g>\n",
       "     <g id=\"line2d_63\">\n",
       "      <g>\n",
       "       <use xlink:href=\"#m67afdc0fef\" x=\"33.2875\" y=\"10.999219\" style=\"fill: #555555; stroke: #555555; stroke-width: 0.8\"/>\n",
       "      </g>\n",
       "     </g>\n",
       "     <g id=\"text_15\">\n",
       "      <!-- 700 -->\n",
       "      <g style=\"fill: #555555\" transform=\"translate(7.2 14.798437) scale(0.1 -0.1)\">\n",
       "       <defs>\n",
       "        <path id=\"DejaVuSans-37\" d=\"M 525 4666 \n",
       "L 3525 4666 \n",
       "L 3525 4397 \n",
       "L 1831 0 \n",
       "L 1172 0 \n",
       "L 2766 4134 \n",
       "L 525 4134 \n",
       "L 525 4666 \n",
       "z\n",
       "\" transform=\"scale(0.015625)\"/>\n",
       "       </defs>\n",
       "       <use xlink:href=\"#DejaVuSans-37\"/>\n",
       "       <use xlink:href=\"#DejaVuSans-30\" transform=\"translate(63.623047 0)\"/>\n",
       "       <use xlink:href=\"#DejaVuSans-30\" transform=\"translate(127.246094 0)\"/>\n",
       "      </g>\n",
       "     </g>\n",
       "    </g>\n",
       "   </g>\n",
       "   <g id=\"line2d_64\">\n",
       "    <path d=\"M 33.2875 255.686659 \n",
       "L 33.868183 255.738329 \n",
       "L 34.158524 256.531211 \n",
       "L 34.448866 255.824388 \n",
       "L 34.739207 256.062345 \n",
       "L 35.029549 256.062667 \n",
       "L 35.31989 256.429623 \n",
       "L 35.610232 256.041877 \n",
       "L 35.900573 256.283986 \n",
       "L 36.190915 256.070253 \n",
       "L 36.481256 255.626364 \n",
       "L 36.771598 255.584283 \n",
       "L 37.061939 255.906904 \n",
       "L 37.35228 255.743697 \n",
       "L 37.642622 256.185654 \n",
       "L 37.932963 257.226477 \n",
       "L 38.223305 257.054253 \n",
       "L 38.513646 257.687292 \n",
       "L 38.803988 256.899097 \n",
       "L 39.094329 257.018756 \n",
       "L 39.384671 257.277826 \n",
       "L 39.675012 257.0637 \n",
       "L 40.546037 256.929763 \n",
       "L 40.836378 257.162962 \n",
       "L 41.12672 257.137771 \n",
       "L 41.417061 257.569315 \n",
       "L 41.707402 257.638984 \n",
       "L 41.997744 257.539794 \n",
       "L 42.288085 257.868962 \n",
       "L 42.578427 257.859337 \n",
       "L 42.868768 257.997173 \n",
       "L 43.15911 258.363699 \n",
       "L 43.449451 258.35343 \n",
       "L 43.739793 258.748368 \n",
       "L 44.030134 257.949117 \n",
       "L 44.320476 257.642133 \n",
       "L 44.610817 257.789202 \n",
       "L 44.901159 257.618516 \n",
       "L 45.481841 257.854291 \n",
       "L 46.643207 258.164173 \n",
       "L 47.22389 258.039433 \n",
       "L 47.514232 258.343124 \n",
       "L 47.804573 258.267622 \n",
       "L 48.675598 257.716598 \n",
       "L 49.25628 257.392367 \n",
       "L 49.836963 257.584272 \n",
       "L 50.707988 257.678346 \n",
       "L 50.998329 257.565915 \n",
       "L 51.288671 257.57529 \n",
       "L 51.579012 257.953088 \n",
       "L 52.159695 257.203433 \n",
       "L 52.450037 257.130185 \n",
       "L 52.740378 256.936419 \n",
       "L 53.321061 257.290851 \n",
       "L 53.611402 257.214704 \n",
       "L 54.192085 257.445577 \n",
       "L 54.482427 257.512563 \n",
       "L 55.06311 257.340017 \n",
       "L 55.643793 257.762651 \n",
       "L 55.934134 257.733953 \n",
       "L 56.224476 257.552139 \n",
       "L 56.514817 257.12657 \n",
       "L 56.805159 257.271456 \n",
       "L 57.0955 256.932877 \n",
       "L 57.385841 257.004192 \n",
       "L 57.676183 256.828497 \n",
       "L 58.256866 257.042444 \n",
       "L 58.547207 256.876089 \n",
       "L 59.12789 257.144283 \n",
       "L 59.998915 256.628792 \n",
       "L 60.289256 256.607715 \n",
       "L 60.579598 256.437889 \n",
       "L 60.869939 255.952026 \n",
       "L 61.16028 256.288852 \n",
       "L 61.740963 255.873589 \n",
       "L 62.321646 256.971164 \n",
       "L 62.611988 257.008415 \n",
       "L 63.483012 256.375483 \n",
       "L 63.773354 256.70526 \n",
       "L 64.063695 256.478467 \n",
       "L 64.354037 256.480256 \n",
       "L 64.644378 256.943611 \n",
       "L 65.225061 256.64815 \n",
       "L 65.515402 256.803914 \n",
       "L 65.805744 257.138415 \n",
       "L 66.096085 256.964652 \n",
       "L 66.386427 257.216565 \n",
       "L 66.676768 257.318082 \n",
       "L 67.257451 256.850862 \n",
       "L 67.838134 256.942967 \n",
       "L 68.128476 256.655486 \n",
       "L 69.289841 256.807493 \n",
       "L 69.580183 257.077834 \n",
       "L 69.870524 256.906325 \n",
       "L 70.160866 257.554214 \n",
       "L 70.451207 257.339945 \n",
       "L 70.741549 257.346422 \n",
       "L 71.03189 257.551602 \n",
       "L 71.322232 257.131795 \n",
       "L 71.612573 256.969339 \n",
       "L 72.193256 257.457636 \n",
       "L 72.483598 257.460176 \n",
       "L 73.06428 257.107677 \n",
       "L 73.354622 256.585279 \n",
       "L 73.644963 256.616733 \n",
       "L 73.935305 256.286562 \n",
       "L 74.225646 255.314693 \n",
       "L 74.806329 256.028244 \n",
       "L 75.096671 255.200939 \n",
       "L 75.967695 256.48362 \n",
       "L 76.548378 255.046964 \n",
       "L 76.83872 254.060388 \n",
       "L 77.129061 254.286573 \n",
       "L 77.419402 253.149923 \n",
       "L 78.000085 254.125442 \n",
       "L 78.290427 253.662945 \n",
       "L 78.580768 254.89256 \n",
       "L 79.161451 252.605054 \n",
       "L 79.451793 252.609026 \n",
       "L 79.742134 253.128489 \n",
       "L 80.032476 253.215692 \n",
       "L 80.322817 253.981272 \n",
       "L 80.613159 253.245607 \n",
       "L 80.9035 253.340969 \n",
       "L 81.193841 253.02182 \n",
       "L 81.484183 253.407776 \n",
       "L 81.774524 253.295274 \n",
       "L 82.064866 253.015271 \n",
       "L 82.355207 252.504002 \n",
       "L 82.645549 252.716912 \n",
       "L 82.93589 252.068737 \n",
       "L 83.226232 252.526868 \n",
       "L 83.516573 252.633394 \n",
       "L 83.806915 252.387886 \n",
       "L 84.097256 251.603557 \n",
       "L 84.387598 251.886708 \n",
       "L 84.677939 251.51621 \n",
       "L 85.258622 249.2452 \n",
       "L 85.839305 249.819232 \n",
       "L 86.129646 250.043485 \n",
       "L 86.710329 249.858522 \n",
       "L 87.000671 249.069684 \n",
       "L 87.291012 249.33659 \n",
       "L 87.581354 249.281913 \n",
       "L 87.871695 250.225621 \n",
       "L 88.162037 252.204176 \n",
       "L 88.452378 251.431189 \n",
       "L 88.74272 252.63733 \n",
       "L 89.033061 252.468506 \n",
       "L 89.323402 252.109458 \n",
       "L 89.613744 252.64191 \n",
       "L 89.904085 251.564839 \n",
       "L 90.194427 251.290991 \n",
       "L 90.484768 250.799653 \n",
       "L 90.77511 251.57103 \n",
       "L 91.355793 251.408718 \n",
       "L 91.646134 251.249375 \n",
       "L 91.936476 250.085101 \n",
       "L 92.226817 250.21231 \n",
       "L 92.517159 250.780474 \n",
       "L 92.8075 250.704256 \n",
       "L 93.097841 251.334503 \n",
       "L 93.388183 250.839587 \n",
       "L 93.968866 251.6373 \n",
       "L 94.259207 251.493881 \n",
       "L 94.549549 250.367429 \n",
       "L 94.83989 250.962502 \n",
       "L 95.130232 250.825775 \n",
       "L 95.710915 251.028773 \n",
       "L 96.001256 251.732483 \n",
       "L 96.291598 251.897729 \n",
       "L 96.581939 252.582224 \n",
       "L 96.87228 252.343694 \n",
       "L 97.162622 251.678952 \n",
       "L 97.743305 251.941564 \n",
       "L 98.033646 251.448866 \n",
       "L 98.323988 251.522436 \n",
       "L 98.614329 250.954702 \n",
       "L 98.904671 250.721503 \n",
       "L 99.195012 249.856268 \n",
       "L 99.485354 250.998965 \n",
       "L 100.066037 249.894663 \n",
       "L 100.356378 249.055227 \n",
       "L 100.64672 250.349144 \n",
       "L 100.937061 249.748203 \n",
       "L 101.227402 250.177278 \n",
       "L 101.517744 250.068104 \n",
       "L 101.808085 249.357201 \n",
       "L 102.098427 249.63384 \n",
       "L 102.388768 248.770143 \n",
       "L 102.67911 246.679552 \n",
       "L 102.969451 246.251586 \n",
       "L 103.259793 246.456981 \n",
       "L 103.550134 247.19855 \n",
       "L 103.840476 247.496909 \n",
       "L 104.130817 248.693496 \n",
       "L 104.421159 247.527146 \n",
       "L 104.7115 248.517622 \n",
       "L 105.001841 248.910091 \n",
       "L 105.292183 248.880928 \n",
       "L 105.582524 250.30073 \n",
       "L 105.872866 250.140529 \n",
       "L 106.163207 248.910306 \n",
       "L 106.453549 248.317022 \n",
       "L 106.74389 248.515618 \n",
       "L 107.034232 248.431886 \n",
       "L 107.324573 247.847548 \n",
       "L 107.614915 246.717875 \n",
       "L 107.905256 247.36054 \n",
       "L 108.485939 245.189937 \n",
       "L 108.77628 243.741437 \n",
       "L 109.066622 244.607746 \n",
       "L 109.356963 243.90103 \n",
       "L 109.647305 244.091396 \n",
       "L 109.937646 242.777441 \n",
       "L 110.227988 244.901167 \n",
       "L 110.518329 244.009453 \n",
       "L 110.808671 246.587267 \n",
       "L 111.099012 245.991478 \n",
       "L 111.389354 244.817793 \n",
       "L 111.679695 246.633785 \n",
       "L 111.970037 246.927922 \n",
       "L 112.260378 248.177826 \n",
       "L 112.55072 246.249475 \n",
       "L 112.841061 252.096075 \n",
       "L 113.131402 250.529133 \n",
       "L 113.421744 252.339758 \n",
       "L 113.712085 253.144878 \n",
       "L 114.002427 254.38011 \n",
       "L 114.292768 252.029876 \n",
       "L 114.58311 251.639483 \n",
       "L 114.873451 249.308214 \n",
       "L 115.163793 250.126216 \n",
       "L 115.744476 252.404525 \n",
       "L 116.034817 251.884597 \n",
       "L 116.325159 249.995249 \n",
       "L 116.6155 250.488698 \n",
       "L 116.905841 250.506232 \n",
       "L 117.196183 249.959466 \n",
       "L 117.486524 251.166072 \n",
       "L 117.776866 251.773312 \n",
       "L 118.067207 251.629106 \n",
       "L 118.357549 252.683991 \n",
       "L 118.64789 252.86577 \n",
       "L 118.938232 252.325803 \n",
       "L 119.518915 253.795414 \n",
       "L 119.809256 253.726711 \n",
       "L 120.389939 252.544795 \n",
       "L 120.68028 252.72049 \n",
       "L 120.970622 253.235051 \n",
       "L 121.260963 253.109095 \n",
       "L 121.551305 253.883083 \n",
       "L 121.841646 254.236262 \n",
       "L 122.131988 253.735299 \n",
       "L 122.422329 255.267173 \n",
       "L 122.712671 255.451456 \n",
       "L 123.003012 254.898607 \n",
       "L 123.293354 254.66065 \n",
       "L 123.583695 255.4443 \n",
       "L 123.874037 255.414957 \n",
       "L 124.164378 254.894671 \n",
       "L 125.035402 254.497479 \n",
       "L 125.325744 254.973394 \n",
       "L 125.906427 254.845648 \n",
       "L 126.196768 254.595525 \n",
       "L 126.48711 254.910416 \n",
       "L 126.777451 254.298167 \n",
       "L 127.067793 254.400149 \n",
       "L 127.358134 254.913636 \n",
       "L 127.648476 254.805213 \n",
       "L 127.938817 254.966953 \n",
       "L 128.229159 254.902901 \n",
       "L 128.809841 255.4443 \n",
       "L 129.100183 255.420683 \n",
       "L 129.390524 255.840061 \n",
       "L 129.680866 256.029711 \n",
       "L 130.261549 255.945263 \n",
       "L 130.842232 256.563595 \n",
       "L 131.132573 256.007168 \n",
       "L 131.713256 255.575981 \n",
       "L 132.293939 255.488671 \n",
       "L 132.874622 254.50714 \n",
       "L 133.164963 254.643116 \n",
       "L 133.455305 254.549722 \n",
       "L 133.745646 253.51237 \n",
       "L 134.035988 253.353493 \n",
       "L 134.326329 253.586441 \n",
       "L 134.616671 253.081899 \n",
       "L 135.197354 252.823903 \n",
       "L 135.778037 252.932326 \n",
       "L 136.068378 252.64463 \n",
       "L 136.35872 253.240419 \n",
       "L 136.649061 252.822472 \n",
       "L 136.939402 252.700809 \n",
       "L 137.229744 252.210939 \n",
       "L 137.520085 252.555172 \n",
       "L 137.810427 251.551814 \n",
       "L 138.100768 251.767944 \n",
       "L 138.39111 251.497066 \n",
       "L 138.681451 251.481679 \n",
       "L 138.971793 252.125059 \n",
       "L 139.262134 252.413113 \n",
       "L 139.842817 251.219031 \n",
       "L 140.133159 251.517462 \n",
       "L 140.4235 251.468082 \n",
       "L 140.713841 251.264118 \n",
       "L 141.004183 252.274633 \n",
       "L 141.294524 251.95831 \n",
       "L 141.584866 252.753411 \n",
       "L 141.875207 252.162989 \n",
       "L 142.165549 252.273917 \n",
       "L 142.45589 252.263182 \n",
       "L 142.746232 252.52082 \n",
       "L 143.036573 251.926821 \n",
       "L 143.326915 250.846171 \n",
       "L 143.617256 250.76387 \n",
       "L 143.907598 250.477606 \n",
       "L 144.197939 250.788918 \n",
       "L 144.48828 249.475679 \n",
       "L 144.778622 249.024812 \n",
       "L 145.068963 251.368605 \n",
       "L 145.359305 251.762219 \n",
       "L 145.649646 251.458062 \n",
       "L 145.939988 252.037749 \n",
       "L 146.230329 251.82305 \n",
       "L 146.520671 250.953521 \n",
       "L 146.811012 251.833785 \n",
       "L 147.101354 250.459714 \n",
       "L 147.391695 250.506232 \n",
       "L 147.682037 250.817545 \n",
       "L 147.972378 251.561833 \n",
       "L 148.26272 251.322087 \n",
       "L 148.553061 251.690653 \n",
       "L 148.843402 253.046832 \n",
       "L 149.133744 253.816169 \n",
       "L 149.424085 252.731941 \n",
       "L 149.714427 252.388423 \n",
       "L 150.004768 253.15776 \n",
       "L 150.29511 252.710471 \n",
       "L 150.585451 252.678266 \n",
       "L 151.166134 253.572844 \n",
       "L 151.746817 252.892965 \n",
       "L 152.037159 252.066375 \n",
       "L 152.617841 251.615508 \n",
       "L 152.908183 251.962604 \n",
       "L 153.198524 251.737171 \n",
       "L 153.488866 251.891038 \n",
       "L 153.779207 251.880303 \n",
       "L 154.069549 252.037749 \n",
       "L 154.35989 251.658448 \n",
       "L 154.650232 252.334748 \n",
       "L 155.230915 252.660375 \n",
       "L 155.811598 251.919664 \n",
       "L 156.39228 251.737171 \n",
       "L 156.972963 252.281074 \n",
       "L 157.263305 252.209508 \n",
       "L 157.553646 251.644135 \n",
       "L 158.134329 251.221894 \n",
       "L 158.424671 250.259329 \n",
       "L 158.715012 250.853328 \n",
       "L 159.005354 249.894341 \n",
       "L 159.295695 249.844245 \n",
       "L 159.586037 251.146749 \n",
       "L 160.16672 250.402461 \n",
       "L 160.457061 250.821123 \n",
       "L 160.747402 250.745979 \n",
       "L 161.037744 250.151979 \n",
       "L 161.328085 249.937281 \n",
       "L 161.618427 250.04463 \n",
       "L 161.908768 250.388148 \n",
       "L 162.19911 249.722582 \n",
       "L 162.489451 250.012425 \n",
       "L 162.779793 249.908654 \n",
       "L 163.070134 249.150053 \n",
       "L 163.360476 249.379064 \n",
       "L 163.941159 249.067751 \n",
       "L 164.812183 249.404113 \n",
       "L 165.102524 250.016004 \n",
       "L 165.392866 251.046557 \n",
       "L 165.683207 251.0394 \n",
       "L 165.973549 251.980496 \n",
       "L 166.26389 251.365026 \n",
       "L 166.554232 251.332822 \n",
       "L 166.844573 251.110966 \n",
       "L 167.134915 251.901773 \n",
       "L 167.425256 251.840942 \n",
       "L 167.715598 252.327592 \n",
       "L 168.005939 252.030592 \n",
       "L 168.29628 252.907278 \n",
       "L 168.586622 252.857182 \n",
       "L 168.876963 252.621013 \n",
       "L 169.747988 252.420628 \n",
       "L 170.038329 252.696158 \n",
       "L 170.328671 253.139868 \n",
       "L 170.619012 254.095277 \n",
       "L 170.909354 254.510361 \n",
       "L 171.199695 254.395855 \n",
       "L 171.780378 253.283 \n",
       "L 172.361061 254.839565 \n",
       "L 172.651402 254.335024 \n",
       "L 172.941744 254.177578 \n",
       "L 173.232085 255.118673 \n",
       "L 173.522427 254.882505 \n",
       "L 173.812768 254.435216 \n",
       "L 174.393451 254.950493 \n",
       "L 174.683793 254.488891 \n",
       "L 174.974134 254.732216 \n",
       "L 175.264476 254.760842 \n",
       "L 175.845159 254.349337 \n",
       "L 176.1355 253.547795 \n",
       "L 176.425841 253.794699 \n",
       "L 177.296866 253.243639 \n",
       "L 177.587207 254.191891 \n",
       "L 177.877549 254.417325 \n",
       "L 178.16789 254.349337 \n",
       "L 178.458232 254.499626 \n",
       "L 179.329256 252.993157 \n",
       "L 179.619598 253.100507 \n",
       "L 179.909939 252.449254 \n",
       "L 180.20028 252.399158 \n",
       "L 180.490622 252.184459 \n",
       "L 180.780963 252.420628 \n",
       "L 181.071305 251.626243 \n",
       "L 181.361646 251.468797 \n",
       "L 181.651988 251.966182 \n",
       "L 181.942329 251.908929 \n",
       "L 182.232671 252.58523 \n",
       "L 182.523012 252.277495 \n",
       "L 182.813354 252.474302 \n",
       "L 183.103695 252.356218 \n",
       "L 183.394037 252.968109 \n",
       "L 183.684378 253.265109 \n",
       "L 184.265061 254.263457 \n",
       "L 184.555402 255.247493 \n",
       "L 184.845744 255.809287 \n",
       "L 185.136085 255.526601 \n",
       "L 185.426427 255.905902 \n",
       "L 186.297451 256.034721 \n",
       "L 186.587793 255.701938 \n",
       "L 186.878134 255.673311 \n",
       "L 187.168476 255.122252 \n",
       "L 187.458817 255.344107 \n",
       "L 187.749159 255.404938 \n",
       "L 188.0395 255.834335 \n",
       "L 188.329841 255.648263 \n",
       "L 188.620183 255.218866 \n",
       "L 189.200866 255.014902 \n",
       "L 189.491207 254.725059 \n",
       "L 189.781549 254.903975 \n",
       "L 190.07189 254.800204 \n",
       "L 190.652573 255.680468 \n",
       "L 191.233256 255.898745 \n",
       "L 191.523598 255.791396 \n",
       "L 191.813939 255.276119 \n",
       "L 192.10428 255.354842 \n",
       "L 192.394622 255.902323 \n",
       "L 192.684963 256.045456 \n",
       "L 192.975305 255.93095 \n",
       "L 193.555988 256.646612 \n",
       "L 193.846329 256.474853 \n",
       "L 194.136671 256.703865 \n",
       "L 194.427012 256.732491 \n",
       "L 194.717354 256.342455 \n",
       "L 195.007695 256.213636 \n",
       "L 195.298037 256.600094 \n",
       "L 195.588378 256.066926 \n",
       "L 196.169061 256.013251 \n",
       "L 196.459402 256.152805 \n",
       "L 196.749744 256.567889 \n",
       "L 197.040085 256.46054 \n",
       "L 197.620768 256.943611 \n",
       "L 197.91111 256.800479 \n",
       "L 198.201451 256.467696 \n",
       "L 198.491793 256.768274 \n",
       "L 199.362817 256.936455 \n",
       "L 199.653159 256.682395 \n",
       "L 199.9435 256.582202 \n",
       "L 200.233841 256.235106 \n",
       "L 200.524183 256.328142 \n",
       "L 200.814524 256.109865 \n",
       "L 201.104866 256.109865 \n",
       "L 201.395207 256.278046 \n",
       "L 202.556573 255.694781 \n",
       "L 202.846915 255.902323 \n",
       "L 203.137256 255.816444 \n",
       "L 203.427598 255.4443 \n",
       "L 203.717939 255.576697 \n",
       "L 204.298622 255.319059 \n",
       "L 204.588963 255.429986 \n",
       "L 204.879305 255.276119 \n",
       "L 205.169646 255.254649 \n",
       "L 205.459988 255.011324 \n",
       "L 206.040671 255.490818 \n",
       "L 206.331012 255.966733 \n",
       "L 206.621354 255.84507 \n",
       "L 206.911695 256.066926 \n",
       "L 207.202037 255.959576 \n",
       "L 207.492378 256.027564 \n",
       "L 207.78272 256.557154 \n",
       "L 208.363402 256.403287 \n",
       "L 208.653744 256.596515 \n",
       "L 208.944085 256.431913 \n",
       "L 209.234427 256.421178 \n",
       "L 209.524768 256.567889 \n",
       "L 210.105451 256.385395 \n",
       "L 211.557159 256.736069 \n",
       "L 211.8475 256.67166 \n",
       "L 212.137841 257.054539 \n",
       "L 212.428183 256.922142 \n",
       "L 212.718524 256.950768 \n",
       "L 213.299207 257.562659 \n",
       "L 213.589549 257.43384 \n",
       "L 214.170232 257.501828 \n",
       "L 214.460573 257.11537 \n",
       "L 214.750915 257.576972 \n",
       "L 215.041256 257.619912 \n",
       "L 215.621939 257.902598 \n",
       "L 215.91228 258.582477 \n",
       "L 216.202622 258.40714 \n",
       "L 216.492963 258.993983 \n",
       "L 216.783305 259.133537 \n",
       "L 217.073646 258.922417 \n",
       "L 217.363988 258.883055 \n",
       "L 217.654329 258.632574 \n",
       "L 217.944671 258.825802 \n",
       "L 218.235012 258.718453 \n",
       "L 218.525354 259.044079 \n",
       "L 218.815695 258.897369 \n",
       "L 219.106037 259.022609 \n",
       "L 219.68672 258.858007 \n",
       "L 219.977061 258.968935 \n",
       "L 220.267402 258.89379 \n",
       "L 221.138427 259.230151 \n",
       "L 222.299793 258.764971 \n",
       "L 222.590134 259.00114 \n",
       "L 222.880476 258.908104 \n",
       "L 223.170817 259.029766 \n",
       "L 223.7515 258.74708 \n",
       "L 224.041841 258.628995 \n",
       "L 224.332183 258.3642 \n",
       "L 224.622524 258.367779 \n",
       "L 224.912866 258.163815 \n",
       "L 225.493549 258.961778 \n",
       "L 225.78389 259.237308 \n",
       "L 226.074232 259.358971 \n",
       "L 226.654915 258.858007 \n",
       "L 226.945256 259.205103 \n",
       "L 227.235598 259.205103 \n",
       "L 227.525939 259.362549 \n",
       "L 228.106622 258.983248 \n",
       "L 228.687305 259.108489 \n",
       "L 229.267988 258.883055 \n",
       "L 229.558329 258.883055 \n",
       "L 229.848671 259.083441 \n",
       "L 231.300378 259.305296 \n",
       "L 232.171402 259.180055 \n",
       "L 232.752085 259.21226 \n",
       "L 233.042427 259.104911 \n",
       "L 233.332768 259.205103 \n",
       "L 233.62311 259.162164 \n",
       "L 234.494134 259.355392 \n",
       "L 235.6555 259.121013 \n",
       "L 235.945841 259.209755 \n",
       "L 236.236183 258.962852 \n",
       "L 236.526524 258.885202 \n",
       "L 236.816866 259.023683 \n",
       "L 237.107207 258.978238 \n",
       "L 237.68789 259.031913 \n",
       "L 237.978232 258.942455 \n",
       "L 238.268573 259.179697 \n",
       "L 238.558915 259.211902 \n",
       "L 239.429939 258.660127 \n",
       "L 240.300963 258.772128 \n",
       "L 240.591305 258.912755 \n",
       "L 241.171988 258.845841 \n",
       "L 241.462329 258.661916 \n",
       "L 241.752671 258.692689 \n",
       "L 242.333354 258.400699 \n",
       "L 243.785061 258.208902 \n",
       "L 244.365744 258.387102 \n",
       "L 244.946427 258.596433 \n",
       "L 245.817451 259.011875 \n",
       "L 246.688476 258.889854 \n",
       "L 247.269159 258.93172 \n",
       "L 247.5595 259.153576 \n",
       "L 249.882232 259.026546 \n",
       "L 250.462915 258.841905 \n",
       "L 250.753256 259.098112 \n",
       "L 251.62428 258.710581 \n",
       "L 252.204963 258.608241 \n",
       "L 252.495305 258.703424 \n",
       "L 252.785646 258.967146 \n",
       "L 253.366329 258.773559 \n",
       "L 253.656671 258.741354 \n",
       "L 253.947012 258.58534 \n",
       "L 254.527695 258.868384 \n",
       "L 255.108378 259.090597 \n",
       "L 255.689061 258.815425 \n",
       "L 256.850427 258.598222 \n",
       "L 257.140768 258.691616 \n",
       "L 257.43111 258.654401 \n",
       "L 258.302134 258.93673 \n",
       "L 259.173159 258.662989 \n",
       "L 260.044183 258.813278 \n",
       "L 260.334524 258.750658 \n",
       "L 260.915207 258.927784 \n",
       "L 262.947598 258.930647 \n",
       "L 263.52828 259.098827 \n",
       "L 264.399305 258.952475 \n",
       "L 264.689646 259.009728 \n",
       "L 265.270329 258.919912 \n",
       "L 265.560671 259.014737 \n",
       "L 267.012378 258.731335 \n",
       "L 267.30272 258.819719 \n",
       "L 267.593061 258.718453 \n",
       "L 267.883402 258.362411 \n",
       "L 268.173744 258.381019 \n",
       "L 268.464085 258.58212 \n",
       "L 268.754427 258.276174 \n",
       "L 269.33511 259.251263 \n",
       "L 269.625451 258.900947 \n",
       "L 269.915793 258.960347 \n",
       "L 270.206134 259.233372 \n",
       "L 270.496476 259.306012 \n",
       "L 271.077159 259.183276 \n",
       "L 271.657841 259.25341 \n",
       "L 272.238524 259.281679 \n",
       "L 272.528866 259.416939 \n",
       "L 272.819207 259.378293 \n",
       "L 273.39989 259.080936 \n",
       "L 276.012963 258.757815 \n",
       "L 276.303305 258.892001 \n",
       "L 276.593646 258.817214 \n",
       "L 278.045354 259.025114 \n",
       "L 279.497061 259.077 \n",
       "L 280.658427 259.352172 \n",
       "L 280.948768 259.409067 \n",
       "L 281.529451 259.337859 \n",
       "L 283.2715 259.368632 \n",
       "L 284.142524 259.521784 \n",
       "L 285.594232 259.402268 \n",
       "L 286.174915 259.436978 \n",
       "L 289.368671 259.046226 \n",
       "L 289.659012 259.214407 \n",
       "L 291.11072 258.970724 \n",
       "L 291.401061 259.097396 \n",
       "L 292.272085 258.838684 \n",
       "L 292.562427 258.900589 \n",
       "L 292.852768 258.842978 \n",
       "L 293.14311 259.006865 \n",
       "L 294.885159 258.981459 \n",
       "L 295.1755 259.036207 \n",
       "L 295.465841 258.905599 \n",
       "L 297.498232 259.044795 \n",
       "L 297.788573 258.875541 \n",
       "L 298.078915 258.972155 \n",
       "L 298.659598 258.622197 \n",
       "L 299.24028 258.612177 \n",
       "L 299.530622 258.74708 \n",
       "L 300.111305 258.641519 \n",
       "L 300.401646 258.809342 \n",
       "L 301.563012 258.906314 \n",
       "L 301.853354 258.784294 \n",
       "L 302.724378 259.027261 \n",
       "L 303.595402 259.018673 \n",
       "L 304.466427 259.256989 \n",
       "L 304.756768 259.275954 \n",
       "L 305.337451 259.061613 \n",
       "L 305.627793 258.990405 \n",
       "L 305.918134 259.138547 \n",
       "L 306.208476 259.099185 \n",
       "L 306.498817 258.90202 \n",
       "L 306.789159 259.004002 \n",
       "L 307.660183 258.841905 \n",
       "L 307.950524 258.914187 \n",
       "L 308.240866 258.757815 \n",
       "L 308.821549 258.949254 \n",
       "L 309.11189 258.882698 \n",
       "L 309.402232 259.022609 \n",
       "L 309.692573 258.995056 \n",
       "L 309.982915 258.8394 \n",
       "L 310.273256 258.892717 \n",
       "L 310.563598 258.765687 \n",
       "L 314.047695 258.89379 \n",
       "L 315.789744 258.411434 \n",
       "L 316.080085 258.707003 \n",
       "L 317.241451 258.946749 \n",
       "L 320.435207 258.976807 \n",
       "L 320.725549 258.895222 \n",
       "L 321.596573 259.125665 \n",
       "L 323.04828 259.158227 \n",
       "L 324.499988 259.143914 \n",
       "L 327.403402 259.108131 \n",
       "L 328.274427 259.162879 \n",
       "L 328.85511 259.172898 \n",
       "L 330.016476 259.240529 \n",
       "L 330.306817 259.363622 \n",
       "L 330.8875 259.336427 \n",
       "L 331.177841 259.608379 \n",
       "L 332.339207 259.602296 \n",
       "L 333.210232 259.591919 \n",
       "L 333.790915 259.644162 \n",
       "L 334.661939 259.492084 \n",
       "L 334.95228 259.308874 \n",
       "L 336.113646 259.263072 \n",
       "L 336.403988 259.400121 \n",
       "L 336.694329 259.372926 \n",
       "L 337.275012 259.153933 \n",
       "L 338.146037 259.147492 \n",
       "L 339.017061 259.278101 \n",
       "L 340.468768 259.243749 \n",
       "L 340.75911 258.93172 \n",
       "L 341.630134 259.116719 \n",
       "L 341.920476 258.909535 \n",
       "L 342.501159 259.006507 \n",
       "L 342.7915 258.489083 \n",
       "L 344.243207 258.835822 \n",
       "L 344.82389 258.622197 \n",
       "L 345.694915 258.777495 \n",
       "L 346.565939 258.850493 \n",
       "L 347.146622 258.924922 \n",
       "L 349.179012 258.800039 \n",
       "L 350.340378 258.960705 \n",
       "L 351.501744 259.269155 \n",
       "L 352.953451 259.303865 \n",
       "L 354.114817 259.340721 \n",
       "L 354.405159 259.264503 \n",
       "L 354.985841 259.37722 \n",
       "L 357.598915 259.27488 \n",
       "L 358.469939 259.349309 \n",
       "L 360.211988 259.131032 \n",
       "L 360.792671 259.010085 \n",
       "L 361.083012 259.096323 \n",
       "L 361.663695 258.908461 \n",
       "L 361.954037 258.986111 \n",
       "L 362.244378 258.799323 \n",
       "L 362.53472 258.848704 \n",
       "L 363.696085 258.549915 \n",
       "L 363.986427 258.598938 \n",
       "L 364.276768 258.807911 \n",
       "L 364.56711 258.829739 \n",
       "L 364.857451 258.734913 \n",
       "L 365.147793 258.8097 \n",
       "L 366.018817 258.735271 \n",
       "L 366.309159 258.87733 \n",
       "L 368.051207 258.824729 \n",
       "L 368.63189 258.861586 \n",
       "L 369.502915 258.772128 \n",
       "L 370.083598 257.834611 \n",
       "L 370.373939 257.69613 \n",
       "L 370.66428 257.769485 \n",
       "L 370.954622 257.524013 \n",
       "L 371.244963 257.570531 \n",
       "L 371.535305 257.478569 \n",
       "L 371.825646 257.57232 \n",
       "L 372.987012 257.316471 \n",
       "L 373.277354 257.542263 \n",
       "L 373.567695 257.380165 \n",
       "L 373.858037 257.367283 \n",
       "L 374.43872 256.834831 \n",
       "L 374.729061 256.814792 \n",
       "L 375.019402 256.142428 \n",
       "L 375.309744 256.255502 \n",
       "L 375.890427 255.584927 \n",
       "L 376.180768 255.746667 \n",
       "L 376.47111 256.343171 \n",
       "L 376.761451 256.490955 \n",
       "L 377.051793 256.103782 \n",
       "L 377.342134 256.519224 \n",
       "L 377.922817 256.560732 \n",
       "L 378.213159 256.146364 \n",
       "L 378.5035 256.300589 \n",
       "L 378.793841 256.700644 \n",
       "L 379.084183 256.395414 \n",
       "L 380.245549 256.197176 \n",
       "L 380.53589 256.404718 \n",
       "L 380.826232 256.284845 \n",
       "L 381.406915 256.323848 \n",
       "L 381.697256 256.117738 \n",
       "L 381.987598 255.758475 \n",
       "L 382.277939 255.861173 \n",
       "L 382.858622 255.852585 \n",
       "L 383.148963 256.017545 \n",
       "L 383.439305 255.866182 \n",
       "L 383.729646 255.424619 \n",
       "L 384.019988 255.685478 \n",
       "L 384.310329 255.624289 \n",
       "L 384.600671 256.19646 \n",
       "L 384.891012 256.284129 \n",
       "L 385.181354 256.195745 \n",
       "L 385.471695 255.981046 \n",
       "L 385.762037 256.370724 \n",
       "L 386.052378 256.356769 \n",
       "L 386.34272 256.466623 \n",
       "L 386.633061 256.230096 \n",
       "L 386.923402 256.435491 \n",
       "L 387.213744 256.380743 \n",
       "L 387.504085 256.004305 \n",
       "L 388.084768 255.869403 \n",
       "L 388.37511 256.019692 \n",
       "L 388.665451 255.904112 \n",
       "L 388.955793 256.080523 \n",
       "L 389.246134 255.50191 \n",
       "L 389.826817 255.920215 \n",
       "L 390.4075 256.134556 \n",
       "L 390.4075 256.134556 \n",
       "\" clip-path=\"url(#p07947b6771)\" style=\"fill: none; stroke: #e24a33; stroke-width: 1.5; stroke-linecap: square\"/>\n",
       "   </g>\n",
       "   <g id=\"line2d_65\">\n",
       "    <path d=\"M 33.2875 260.285502 \n",
       "L 33.577841 260.447922 \n",
       "L 33.868183 260.334489 \n",
       "L 34.158524 260.431855 \n",
       "L 35.900573 260.246356 \n",
       "L 36.190915 260.04733 \n",
       "L 36.481256 260.066224 \n",
       "L 37.061939 259.783537 \n",
       "L 37.932963 260.226675 \n",
       "L 38.223305 260.217729 \n",
       "L 38.513646 260.548687 \n",
       "L 38.803988 260.373743 \n",
       "L 39.384671 260.597781 \n",
       "L 39.675012 260.192681 \n",
       "L 41.997744 260.449317 \n",
       "L 42.578427 260.396323 \n",
       "L 43.15911 260.490718 \n",
       "L 44.320476 260.338104 \n",
       "L 48.965939 260.613991 \n",
       "L 49.25628 260.556416 \n",
       "L 50.417646 260.715222 \n",
       "L 51.288671 260.744063 \n",
       "L 51.869354 260.805073 \n",
       "L 52.740378 260.795948 \n",
       "L 54.482427 260.966312 \n",
       "L 55.353451 260.953537 \n",
       "L 56.224476 260.979694 \n",
       "L 56.514817 260.801029 \n",
       "L 57.676183 260.670028 \n",
       "L 58.256866 260.797845 \n",
       "L 59.708573 260.693752 \n",
       "L 60.579598 260.728282 \n",
       "L 60.869939 260.628483 \n",
       "L 61.16028 260.711071 \n",
       "L 62.031305 260.670028 \n",
       "L 62.611988 260.814985 \n",
       "L 65.515402 260.82708 \n",
       "L 66.676768 260.966025 \n",
       "L 68.9995 260.88308 \n",
       "L 70.451207 260.993829 \n",
       "L 71.03189 261.006496 \n",
       "L 71.612573 260.938007 \n",
       "L 72.193256 260.931638 \n",
       "L 72.483598 260.94155 \n",
       "L 72.773939 260.821748 \n",
       "L 73.06428 260.836848 \n",
       "L 73.644963 260.589587 \n",
       "L 74.225646 260.786215 \n",
       "L 74.515988 260.635175 \n",
       "L 74.806329 260.328192 \n",
       "L 75.387012 260.246749 \n",
       "L 75.677354 260.37106 \n",
       "L 75.967695 260.18005 \n",
       "L 77.129061 260.255445 \n",
       "L 77.419402 260.111561 \n",
       "L 78.290427 260.150994 \n",
       "L 78.580768 260.411029 \n",
       "L 79.161451 260.225673 \n",
       "L 80.613159 260.117572 \n",
       "L 80.9035 260.110666 \n",
       "L 81.193841 259.967999 \n",
       "L 81.484183 259.959232 \n",
       "L 82.064866 259.608343 \n",
       "L 82.93589 259.083262 \n",
       "L 83.226232 259.290088 \n",
       "L 83.516573 259.0843 \n",
       "L 83.806915 258.670146 \n",
       "L 84.097256 258.689648 \n",
       "L 84.387598 258.228225 \n",
       "L 84.96828 258.188863 \n",
       "L 85.258622 258.351998 \n",
       "L 85.839305 258.313532 \n",
       "L 86.129646 258.51084 \n",
       "L 86.419988 258.53392 \n",
       "L 86.710329 258.268624 \n",
       "L 87.000671 257.369001 \n",
       "L 87.291012 257.907286 \n",
       "L 87.581354 257.517823 \n",
       "L 87.871695 256.321308 \n",
       "L 88.162037 256.033146 \n",
       "L 88.452378 255.337272 \n",
       "L 88.74272 256.527025 \n",
       "L 89.613744 256.797366 \n",
       "L 89.904085 256.118632 \n",
       "L 90.194427 256.491385 \n",
       "L 90.484768 256.444723 \n",
       "L 90.77511 256.810928 \n",
       "L 91.065451 256.994352 \n",
       "L 91.646134 256.536614 \n",
       "L 91.936476 256.613405 \n",
       "L 92.226817 256.171054 \n",
       "L 92.517159 256.397991 \n",
       "L 92.8075 255.74452 \n",
       "L 93.097841 256.270997 \n",
       "L 93.388183 256.004913 \n",
       "L 93.678524 256.306493 \n",
       "L 94.259207 256.60038 \n",
       "L 94.549549 256.399064 \n",
       "L 95.710915 256.350614 \n",
       "L 96.001256 256.186298 \n",
       "L 96.87228 256.836727 \n",
       "L 97.743305 255.016871 \n",
       "L 98.033646 254.699868 \n",
       "L 98.904671 254.666268 \n",
       "L 99.195012 254.413711 \n",
       "L 99.485354 253.429711 \n",
       "L 99.775695 252.973298 \n",
       "L 100.066037 253.260922 \n",
       "L 100.64672 251.984611 \n",
       "L 101.227402 251.598618 \n",
       "L 101.517744 251.890286 \n",
       "L 102.098427 251.267553 \n",
       "L 102.67911 252.031773 \n",
       "L 102.969451 251.539791 \n",
       "L 103.259793 252.427928 \n",
       "L 103.550134 252.588808 \n",
       "L 103.840476 249.910157 \n",
       "L 104.130817 250.219574 \n",
       "L 104.421159 250.136664 \n",
       "L 104.7115 249.832293 \n",
       "L 105.001841 247.561283 \n",
       "L 105.292183 248.101858 \n",
       "L 105.582524 246.867055 \n",
       "L 105.872866 244.51793 \n",
       "L 106.163207 245.78 \n",
       "L 106.453549 246.041575 \n",
       "L 106.74389 245.438272 \n",
       "L 107.034232 246.278817 \n",
       "L 107.324573 246.170752 \n",
       "L 107.614915 243.707443 \n",
       "L 107.905256 244.699709 \n",
       "L 108.195598 245.052172 \n",
       "L 108.485939 246.224426 \n",
       "L 108.77628 245.385671 \n",
       "L 109.066622 245.916692 \n",
       "L 109.356963 246.029051 \n",
       "L 109.647305 245.159521 \n",
       "L 110.227988 246.146419 \n",
       "L 110.518329 245.543832 \n",
       "L 110.808671 245.840474 \n",
       "L 111.099012 246.792304 \n",
       "L 111.389354 246.201525 \n",
       "L 111.679695 245.92027 \n",
       "L 111.970037 244.716527 \n",
       "L 112.260378 244.767339 \n",
       "L 112.55072 241.450603 \n",
       "L 112.841061 248.961118 \n",
       "L 113.131402 245.586056 \n",
       "L 113.421744 247.552337 \n",
       "L 114.002427 252.701167 \n",
       "L 114.292768 250.23929 \n",
       "L 114.58311 250.75564 \n",
       "L 114.873451 248.802957 \n",
       "L 115.163793 249.405186 \n",
       "L 115.454134 251.107746 \n",
       "L 115.744476 251.680633 \n",
       "L 116.034817 251.251236 \n",
       "L 116.325159 249.761944 \n",
       "L 116.6155 250.410333 \n",
       "L 116.905841 249.316802 \n",
       "L 117.196183 247.310086 \n",
       "L 117.486524 248.120215 \n",
       "L 118.067207 246.378652 \n",
       "L 118.357549 247.799241 \n",
       "L 118.64789 246.722169 \n",
       "L 118.938232 246.440556 \n",
       "L 119.228573 246.772266 \n",
       "L 119.518915 248.542813 \n",
       "L 119.809256 248.428665 \n",
       "L 120.099598 247.630702 \n",
       "L 120.389939 247.277165 \n",
       "L 120.68028 247.333703 \n",
       "L 120.970622 247.264999 \n",
       "L 121.260963 247.430675 \n",
       "L 121.841646 248.888836 \n",
       "L 122.131988 248.864861 \n",
       "L 122.422329 251.966182 \n",
       "L 122.712671 251.834501 \n",
       "L 123.003012 250.446474 \n",
       "L 123.293354 250.337694 \n",
       "L 123.583695 251.232271 \n",
       "L 123.874037 250.854044 \n",
       "L 124.164378 250.067173 \n",
       "L 125.035402 248.77433 \n",
       "L 125.325744 249.575514 \n",
       "L 125.906427 249.136455 \n",
       "L 126.196768 249.214462 \n",
       "L 126.48711 249.705406 \n",
       "L 126.777451 249.233785 \n",
       "L 127.067793 248.358173 \n",
       "L 127.358134 249.621674 \n",
       "L 127.648476 249.559769 \n",
       "L 127.938817 250.140171 \n",
       "L 128.229159 249.965192 \n",
       "L 128.809841 251.055145 \n",
       "L 129.100183 250.257539 \n",
       "L 129.680866 252.080331 \n",
       "L 129.971207 251.890322 \n",
       "L 130.261549 251.936482 \n",
       "L 130.55189 252.710829 \n",
       "L 130.842232 253.081184 \n",
       "L 131.132573 251.926821 \n",
       "L 131.713256 251.277 \n",
       "L 132.003598 251.241217 \n",
       "L 132.58428 251.3958 \n",
       "L 133.164963 251.50637 \n",
       "L 133.455305 250.304058 \n",
       "L 133.745646 249.903645 \n",
       "L 134.035988 248.332767 \n",
       "L 134.326329 249.255613 \n",
       "L 134.616671 249.612728 \n",
       "L 134.907012 249.277083 \n",
       "L 135.778037 247.337639 \n",
       "L 136.068378 247.357677 \n",
       "L 136.35872 248.008572 \n",
       "L 136.649061 247.652172 \n",
       "L 136.939402 246.938657 \n",
       "L 137.229744 246.587625 \n",
       "L 137.520085 246.773339 \n",
       "L 137.810427 245.439345 \n",
       "L 138.100768 245.686249 \n",
       "L 138.681451 239.289662 \n",
       "L 138.971793 238.535712 \n",
       "L 139.262134 235.479835 \n",
       "L 139.552476 235.443695 \n",
       "L 139.842817 233.340006 \n",
       "L 140.133159 235.072624 \n",
       "L 140.4235 235.439758 \n",
       "L 140.713841 234.420656 \n",
       "L 141.004183 236.244162 \n",
       "L 141.294524 235.726739 \n",
       "L 141.584866 234.672211 \n",
       "L 142.165549 227.050411 \n",
       "L 142.45589 227.762495 \n",
       "L 142.746232 222.030042 \n",
       "L 143.036573 222.738548 \n",
       "L 143.326915 221.86544 \n",
       "L 143.907598 209.094452 \n",
       "L 144.197939 211.785341 \n",
       "L 144.48828 210.668908 \n",
       "L 144.778622 202.717904 \n",
       "L 145.068963 199.411546 \n",
       "L 145.359305 193.128034 \n",
       "L 145.649646 194.244466 \n",
       "L 145.939988 197.214463 \n",
       "L 146.230329 197.414849 \n",
       "L 146.811012 200.817821 \n",
       "L 147.101354 204.628721 \n",
       "L 147.391695 204.660926 \n",
       "L 147.972378 208.672212 \n",
       "L 148.26272 200.928749 \n",
       "L 149.133744 217.006095 \n",
       "L 149.424085 208.514766 \n",
       "L 149.714427 207.838465 \n",
       "L 150.004768 211.695883 \n",
       "L 150.29511 212.794424 \n",
       "L 150.585451 212.944714 \n",
       "L 150.875793 212.690654 \n",
       "L 151.166134 214.175652 \n",
       "L 151.456476 213.084268 \n",
       "L 151.746817 210.894342 \n",
       "L 152.037159 203.669734 \n",
       "L 152.3275 201.014628 \n",
       "L 152.617841 199.583305 \n",
       "L 152.908183 201.676616 \n",
       "L 153.198524 202.574772 \n",
       "L 153.488866 206.421455 \n",
       "L 153.779207 206.281901 \n",
       "L 154.069549 204.635878 \n",
       "L 154.35989 205.358697 \n",
       "L 154.650232 208.682946 \n",
       "L 154.940573 209.677717 \n",
       "L 155.230915 206.976093 \n",
       "L 155.521256 208.507609 \n",
       "L 155.811598 207.799104 \n",
       "L 156.101939 203.090048 \n",
       "L 156.39228 205.108215 \n",
       "L 156.682622 204.185011 \n",
       "L 156.972963 205.258504 \n",
       "L 157.263305 205.737997 \n",
       "L 157.843988 193.314106 \n",
       "L 158.134329 191.242264 \n",
       "L 158.424671 190.719831 \n",
       "L 158.715012 189.148953 \n",
       "L 159.005354 186.443751 \n",
       "L 159.295695 189.968386 \n",
       "L 159.586037 195.46467 \n",
       "L 159.876378 191.553577 \n",
       "L 160.16672 189.768001 \n",
       "L 160.457061 191.453385 \n",
       "L 160.747402 189.023712 \n",
       "L 161.037744 188.51917 \n",
       "L 161.618427 174.395581 \n",
       "L 161.908768 173.071607 \n",
       "L 162.19911 177.011326 \n",
       "L 162.489451 169.003069 \n",
       "L 162.779793 172.137668 \n",
       "L 163.070134 172.645788 \n",
       "L 163.650817 178.074084 \n",
       "L 163.941159 177.973891 \n",
       "L 164.2315 179.723685 \n",
       "L 164.521841 175.032521 \n",
       "L 164.812183 176.088122 \n",
       "L 165.102524 176.245568 \n",
       "L 165.392866 183.101609 \n",
       "L 165.683207 183.137392 \n",
       "L 165.973549 191.700288 \n",
       "L 166.26389 184.457789 \n",
       "L 166.554232 183.606151 \n",
       "L 166.844573 178.997288 \n",
       "L 167.134915 184.336126 \n",
       "L 167.425256 182.131887 \n",
       "L 167.715598 187.875075 \n",
       "L 168.005939 186.347136 \n",
       "L 168.29628 192.62707 \n",
       "L 168.586622 192.512564 \n",
       "L 168.876963 189.667808 \n",
       "L 169.457646 186.862413 \n",
       "L 169.747988 179.24777 \n",
       "L 170.038329 177.89159 \n",
       "L 170.328671 185.74598 \n",
       "L 170.619012 189.674965 \n",
       "L 171.199695 192.219143 \n",
       "L 171.490037 193.425033 \n",
       "L 171.780378 191.84342 \n",
       "L 172.361061 201.58358 \n",
       "L 172.651402 199.880304 \n",
       "L 172.941744 199.647714 \n",
       "L 173.232085 205.941961 \n",
       "L 173.522427 203.777084 \n",
       "L 173.812768 197.600921 \n",
       "L 174.393451 198.677992 \n",
       "L 174.683793 196.076561 \n",
       "L 174.974134 197.096379 \n",
       "L 175.264476 199.2541 \n",
       "L 175.554817 197.203728 \n",
       "L 175.845159 197.643861 \n",
       "L 176.1355 193.482286 \n",
       "L 176.425841 193.364202 \n",
       "L 176.716183 192.383745 \n",
       "L 177.006524 190.698361 \n",
       "L 177.296866 191.464119 \n",
       "L 177.587207 198.030318 \n",
       "L 177.877549 200.424207 \n",
       "L 178.16789 199.747907 \n",
       "L 178.458232 200.653219 \n",
       "L 178.748573 197.407692 \n",
       "L 179.038915 198.377414 \n",
       "L 179.329256 200.595966 \n",
       "L 179.619598 201.465496 \n",
       "L 179.909939 206.188865 \n",
       "L 180.20028 207.713225 \n",
       "L 180.490622 212.65487 \n",
       "L 180.780963 210.618812 \n",
       "L 181.071305 211.091149 \n",
       "L 181.361646 212.865991 \n",
       "L 181.651988 211.313004 \n",
       "L 181.942329 207.265936 \n",
       "L 182.232671 209.187488 \n",
       "L 182.523012 209.176753 \n",
       "L 182.813354 208.650742 \n",
       "L 183.103695 208.529079 \n",
       "L 183.394037 211.456137 \n",
       "L 183.684378 210.948017 \n",
       "L 184.265061 215.843144 \n",
       "L 184.845744 227.651567 \n",
       "L 185.136085 225.776533 \n",
       "L 185.426427 228.585506 \n",
       "L 185.716768 227.605049 \n",
       "L 186.297451 229.451457 \n",
       "L 186.587793 228.796626 \n",
       "L 186.878134 227.082616 \n",
       "L 187.168476 228.098856 \n",
       "L 187.458817 225.880304 \n",
       "L 187.749159 222.112343 \n",
       "L 188.0395 225.025088 \n",
       "L 188.329841 225.064449 \n",
       "L 188.620183 221.181983 \n",
       "L 189.200866 220.230152 \n",
       "L 189.491207 219.417876 \n",
       "L 189.781549 220.884983 \n",
       "L 190.07189 220.713224 \n",
       "L 190.652573 226.939483 \n",
       "L 190.942915 227.143447 \n",
       "L 191.233256 228.256301 \n",
       "L 191.523598 226.996736 \n",
       "L 191.813939 223.722583 \n",
       "L 192.10428 225.032244 \n",
       "L 192.394622 228.016555 \n",
       "L 192.684963 229.326216 \n",
       "L 192.975305 228.821674 \n",
       "L 193.265646 229.018481 \n",
       "L 193.555988 231.79525 \n",
       "L 193.846329 230.571468 \n",
       "L 194.136671 231.211985 \n",
       "L 194.717354 228.306398 \n",
       "L 195.007695 229.193819 \n",
       "L 195.298037 230.839841 \n",
       "L 195.588378 225.812316 \n",
       "L 195.87872 226.177303 \n",
       "L 196.169061 225.454485 \n",
       "L 196.459402 227.26511 \n",
       "L 196.749744 229.877276 \n",
       "L 197.040085 229.408517 \n",
       "L 197.330427 231.219142 \n",
       "L 197.620768 232.26043 \n",
       "L 197.91111 232.024262 \n",
       "L 198.201451 229.970312 \n",
       "L 198.491793 231.827455 \n",
       "L 198.782134 232.614683 \n",
       "L 199.072476 232.360623 \n",
       "L 199.362817 233.308875 \n",
       "L 199.9435 231.83819 \n",
       "L 200.233841 230.074083 \n",
       "L 200.524183 230.063348 \n",
       "L 201.104866 228.44953 \n",
       "L 201.395207 229.769926 \n",
       "L 201.685549 229.780661 \n",
       "L 201.97589 229.122252 \n",
       "L 202.266232 227.526326 \n",
       "L 202.556573 224.867642 \n",
       "L 202.846915 226.198773 \n",
       "L 203.137256 225.078762 \n",
       "L 203.427598 223.17868 \n",
       "L 203.717939 223.640282 \n",
       "L 204.00828 221.539814 \n",
       "L 204.298622 218.247769 \n",
       "L 204.588963 217.549998 \n",
       "L 204.879305 213.345484 \n",
       "L 205.169646 214.071881 \n",
       "L 205.459988 212.493846 \n",
       "L 206.040671 216.082891 \n",
       "L 206.331012 221.063899 \n",
       "L 206.621354 219.085093 \n",
       "L 206.911695 222.148126 \n",
       "L 207.202037 221.06032 \n",
       "L 207.492378 221.736621 \n",
       "L 207.78272 225.815894 \n",
       "L 208.073061 224.545594 \n",
       "L 208.363402 223.930125 \n",
       "L 208.653744 225.42228 \n",
       "L 209.234427 224.960678 \n",
       "L 209.524768 225.644135 \n",
       "L 209.81511 224.864064 \n",
       "L 210.105451 222.652668 \n",
       "L 210.976476 225.501003 \n",
       "L 211.266817 225.472376 \n",
       "L 211.557159 225.97334 \n",
       "L 211.8475 225.343557 \n",
       "L 212.137841 227.236483 \n",
       "L 212.428183 226.284653 \n",
       "L 212.718524 226.327592 \n",
       "L 213.008866 227.859109 \n",
       "L 213.299207 231.197672 \n",
       "L 213.589549 229.390626 \n",
       "L 214.170232 230.75754 \n",
       "L 214.460573 228.284928 \n",
       "L 214.750915 231.237033 \n",
       "L 215.621939 234.507609 \n",
       "L 215.91228 239.238134 \n",
       "L 216.202622 237.542015 \n",
       "L 216.492963 243.267311 \n",
       "L 216.783305 245.507333 \n",
       "L 217.654329 240.429711 \n",
       "L 217.944671 242.23318 \n",
       "L 218.235012 241.077386 \n",
       "L 218.525354 243.614407 \n",
       "L 218.815695 242.802131 \n",
       "L 219.106037 243.793323 \n",
       "L 219.396378 243.478431 \n",
       "L 219.68672 242.701938 \n",
       "L 219.977061 243.886359 \n",
       "L 220.267402 243.707443 \n",
       "L 220.557744 244.312178 \n",
       "L 220.848085 245.93673 \n",
       "L 221.138427 246.749007 \n",
       "L 221.428768 245.646887 \n",
       "L 221.71911 245.385671 \n",
       "L 222.009451 244.584129 \n",
       "L 222.299793 245.102984 \n",
       "L 222.590134 247.128308 \n",
       "L 222.880476 246.863513 \n",
       "L 223.170817 247.783138 \n",
       "L 223.461159 247.5255 \n",
       "L 223.7515 247.697259 \n",
       "L 224.041841 246.312453 \n",
       "L 224.332183 247.414572 \n",
       "L 224.622524 247.586331 \n",
       "L 224.912866 247.181982 \n",
       "L 226.074232 251.246942 \n",
       "L 226.364573 250.892689 \n",
       "L 226.654915 249.042703 \n",
       "L 226.945256 250.703039 \n",
       "L 227.235598 250.491919 \n",
       "L 227.525939 250.02316 \n",
       "L 227.81628 249.246667 \n",
       "L 228.396963 248.448704 \n",
       "L 228.687305 249.271715 \n",
       "L 229.267988 246.484212 \n",
       "L 229.558329 246.373284 \n",
       "L 229.848671 247.385946 \n",
       "L 230.139012 247.697259 \n",
       "L 230.429354 248.831583 \n",
       "L 230.719695 249.296763 \n",
       "L 231.010037 249.400534 \n",
       "L 231.300378 249.729739 \n",
       "L 231.59072 249.543667 \n",
       "L 231.881061 249.532932 \n",
       "L 232.171402 248.344933 \n",
       "L 232.461744 248.813691 \n",
       "L 233.042427 247.718729 \n",
       "L 233.62311 247.861861 \n",
       "L 233.913451 248.344933 \n",
       "L 234.203793 249.522197 \n",
       "L 234.494134 249.786992 \n",
       "L 235.074817 248.187487 \n",
       "L 235.365159 248.112343 \n",
       "L 235.6555 247.317958 \n",
       "L 235.945841 247.661476 \n",
       "L 236.236183 245.908104 \n",
       "L 236.526524 245.425032 \n",
       "L 236.816866 246.437694 \n",
       "L 237.107207 246.054815 \n",
       "L 237.397549 246.97444 \n",
       "L 237.68789 247.178404 \n",
       "L 237.978232 246.834886 \n",
       "L 238.268573 248.366403 \n",
       "L 238.558915 248.509535 \n",
       "L 239.139598 246.126381 \n",
       "L 239.429939 246.484212 \n",
       "L 239.72028 245.793598 \n",
       "L 240.010622 246.326766 \n",
       "L 240.300963 246.577248 \n",
       "L 240.881646 247.690102 \n",
       "L 241.171988 247.586331 \n",
       "L 241.462329 246.970862 \n",
       "L 241.752671 247.142621 \n",
       "L 242.043012 246.95297 \n",
       "L 242.333354 246.387597 \n",
       "L 242.623695 247.049585 \n",
       "L 242.914037 246.283826 \n",
       "L 243.204378 246.176477 \n",
       "L 243.49472 245.206755 \n",
       "L 243.785061 244.805984 \n",
       "L 244.365744 245.836538 \n",
       "L 244.656085 246.065549 \n",
       "L 244.946427 246.97444 \n",
       "L 245.236768 247.339428 \n",
       "L 245.52711 248.666981 \n",
       "L 245.817451 248.856631 \n",
       "L 246.107793 248.430812 \n",
       "L 246.398134 248.810113 \n",
       "L 246.688476 248.713499 \n",
       "L 246.978817 248.996185 \n",
       "L 247.269159 248.860209 \n",
       "L 247.5595 250.130509 \n",
       "L 247.849841 250.198497 \n",
       "L 248.140183 250.588533 \n",
       "L 248.430524 249.880028 \n",
       "L 248.720866 250.219967 \n",
       "L 249.301549 250.169871 \n",
       "L 249.882232 250.345208 \n",
       "L 250.172573 249.973064 \n",
       "L 250.462915 249.965907 \n",
       "L 250.753256 250.431088 \n",
       "L 251.043598 249.783413 \n",
       "L 251.914622 248.946089 \n",
       "L 252.204963 248.960402 \n",
       "L 252.495305 248.083716 \n",
       "L 252.785646 249.672486 \n",
       "L 253.075988 249.271715 \n",
       "L 253.656671 249.940859 \n",
       "L 253.947012 249.429161 \n",
       "L 254.237354 250.352365 \n",
       "L 254.527695 249.808462 \n",
       "L 255.108378 250.513389 \n",
       "L 255.689061 249.436317 \n",
       "L 255.979402 249.53651 \n",
       "L 256.269744 249.908654 \n",
       "L 256.560085 249.357595 \n",
       "L 256.850427 249.783413 \n",
       "L 257.43111 249.339703 \n",
       "L 258.302134 250.008847 \n",
       "L 258.882817 249.28245 \n",
       "L 259.173159 249.300342 \n",
       "L 259.753841 249.679642 \n",
       "L 260.044183 249.822775 \n",
       "L 260.334524 249.701112 \n",
       "L 260.915207 250.459714 \n",
       "L 261.205549 250.330895 \n",
       "L 261.786232 250.745979 \n",
       "L 262.076573 250.892689 \n",
       "L 262.366915 250.685148 \n",
       "L 262.657256 250.313003 \n",
       "L 263.52828 251.458062 \n",
       "L 264.108963 251.458062 \n",
       "L 264.399305 251.003617 \n",
       "L 264.689646 251.354291 \n",
       "L 264.979988 250.438244 \n",
       "L 265.270329 250.284377 \n",
       "L 265.560671 250.538437 \n",
       "L 265.851012 250.005269 \n",
       "L 266.141354 249.719004 \n",
       "L 266.431695 249.693956 \n",
       "L 267.012378 249.958751 \n",
       "L 267.30272 250.459714 \n",
       "L 267.593061 250.441822 \n",
       "L 268.173744 248.276945 \n",
       "L 269.044768 252.756989 \n",
       "L 269.33511 256.442648 \n",
       "L 269.625451 255.161613 \n",
       "L 269.915793 255.594589 \n",
       "L 270.496476 256.764696 \n",
       "L 270.786817 256.471275 \n",
       "L 271.077159 256.356769 \n",
       "L 271.3675 256.37466 \n",
       "L 271.948183 256.732491 \n",
       "L 272.819207 257.247768 \n",
       "L 273.109549 257.029491 \n",
       "L 273.39989 256.342455 \n",
       "L 273.690232 256.260154 \n",
       "L 273.980573 256.46054 \n",
       "L 274.561256 256.428335 \n",
       "L 274.851598 256.7146 \n",
       "L 275.141939 256.707443 \n",
       "L 275.43228 256.414022 \n",
       "L 275.722622 256.646612 \n",
       "L 276.012963 256.575046 \n",
       "L 276.303305 256.725335 \n",
       "L 277.174329 256.363925 \n",
       "L 277.464671 256.653768 \n",
       "L 278.045354 256.617985 \n",
       "L 278.916378 256.718178 \n",
       "L 279.497061 256.428335 \n",
       "L 279.787402 256.456961 \n",
       "L 280.077744 257.097479 \n",
       "L 280.368085 257.004443 \n",
       "L 283.2715 257.512563 \n",
       "L 283.561841 257.988478 \n",
       "L 283.852183 258.031418 \n",
       "L 284.432866 257.913333 \n",
       "L 284.723207 257.906177 \n",
       "L 285.013549 257.444575 \n",
       "L 285.30389 256.696708 \n",
       "L 286.174915 256.65019 \n",
       "L 286.465256 256.793322 \n",
       "L 287.045939 255.666155 \n",
       "L 287.626622 255.626793 \n",
       "L 287.916963 255.544492 \n",
       "L 288.207305 254.93618 \n",
       "L 288.497646 252.807085 \n",
       "L 288.787988 253.290157 \n",
       "L 289.078329 253.043254 \n",
       "L 289.368671 253.300892 \n",
       "L 289.659012 254.041602 \n",
       "L 289.949354 253.823325 \n",
       "L 290.239695 252.35264 \n",
       "L 290.530037 252.689001 \n",
       "L 290.820378 252.81782 \n",
       "L 291.11072 252.77488 \n",
       "L 291.401061 253.329518 \n",
       "L 291.691402 252.706893 \n",
       "L 292.562427 252.892965 \n",
       "L 292.852768 252.152255 \n",
       "L 293.14311 252.907278 \n",
       "L 293.433451 252.921591 \n",
       "L 293.723793 252.535134 \n",
       "L 294.014134 252.778459 \n",
       "L 294.304476 252.646061 \n",
       "L 294.594817 252.771302 \n",
       "L 295.1755 253.372458 \n",
       "L 295.465841 252.957374 \n",
       "L 295.756183 253.172073 \n",
       "L 296.046524 254.15253 \n",
       "L 296.336866 254.284927 \n",
       "L 296.917549 253.79112 \n",
       "L 297.20789 254.048759 \n",
       "L 297.498232 253.66588 \n",
       "L 297.788573 252.943061 \n",
       "L 298.078915 253.522747 \n",
       "L 298.369256 253.200699 \n",
       "L 298.659598 253.089772 \n",
       "L 299.24028 252.084267 \n",
       "L 299.820963 252.835712 \n",
       "L 300.111305 252.925169 \n",
       "L 300.691988 253.476229 \n",
       "L 300.982329 253.161338 \n",
       "L 301.563012 253.647988 \n",
       "L 301.853354 253.426133 \n",
       "L 302.724378 253.973614 \n",
       "L 303.01472 253.977193 \n",
       "L 303.595402 254.234831 \n",
       "L 304.176085 255.279697 \n",
       "L 304.466427 254.979119 \n",
       "L 304.756768 255.014902 \n",
       "L 305.04711 254.252722 \n",
       "L 305.627793 254.016554 \n",
       "L 305.918134 254.59624 \n",
       "L 306.208476 254.442373 \n",
       "L 306.498817 253.751759 \n",
       "L 306.789159 253.894891 \n",
       "L 307.369841 253.562109 \n",
       "L 307.660183 253.418976 \n",
       "L 307.950524 253.816169 \n",
       "L 308.240866 253.551374 \n",
       "L 308.531207 254.08812 \n",
       "L 308.821549 254.177578 \n",
       "L 309.11189 253.987928 \n",
       "L 309.402232 254.356493 \n",
       "L 309.982915 253.930675 \n",
       "L 310.273256 254.127482 \n",
       "L 310.563598 253.909205 \n",
       "L 310.853939 253.937831 \n",
       "L 311.14428 254.138217 \n",
       "L 311.434622 254.163265 \n",
       "L 311.724963 253.995084 \n",
       "L 312.015305 253.977193 \n",
       "L 312.886329 254.309975 \n",
       "L 313.176671 254.224096 \n",
       "L 313.467012 254.005819 \n",
       "L 313.757354 253.257952 \n",
       "L 314.338037 252.739097 \n",
       "L 314.628378 252.638905 \n",
       "L 314.91872 252.875073 \n",
       "L 315.209061 252.413471 \n",
       "L 315.499402 252.685423 \n",
       "L 315.789744 252.599543 \n",
       "L 316.080085 253.372458 \n",
       "L 316.370427 253.53706 \n",
       "L 316.660768 253.877 \n",
       "L 316.95111 253.683771 \n",
       "L 317.531793 253.830482 \n",
       "L 317.822134 253.633675 \n",
       "L 318.112476 253.866265 \n",
       "L 318.693159 253.129133 \n",
       "L 319.273841 253.343832 \n",
       "L 319.564183 253.62294 \n",
       "L 320.144866 253.522747 \n",
       "L 320.435207 253.701663 \n",
       "L 320.725549 253.315205 \n",
       "L 321.01589 253.640831 \n",
       "L 321.306232 253.730289 \n",
       "L 321.596573 254.102433 \n",
       "L 322.177256 253.998662 \n",
       "L 322.467598 254.263457 \n",
       "L 322.757939 254.002241 \n",
       "L 323.919305 254.084542 \n",
       "L 324.209646 253.944988 \n",
       "L 324.499988 254.202626 \n",
       "L 325.080671 254.224096 \n",
       "L 325.371012 254.463843 \n",
       "L 325.661354 254.492469 \n",
       "L 325.951695 254.317132 \n",
       "L 326.242037 254.603397 \n",
       "L 326.82272 254.556879 \n",
       "L 327.113061 254.170421 \n",
       "L 327.403402 254.034446 \n",
       "L 327.693744 254.120325 \n",
       "L 327.984085 253.877 \n",
       "L 328.564768 254.148951 \n",
       "L 328.85511 253.873422 \n",
       "L 329.145451 253.89847 \n",
       "L 329.435793 253.673036 \n",
       "L 329.726134 254.324289 \n",
       "L 330.016476 254.188313 \n",
       "L 330.306817 254.810939 \n",
       "L 330.597159 254.721481 \n",
       "L 331.177841 255.895167 \n",
       "L 331.758524 256.045456 \n",
       "L 332.048866 256.09913 \n",
       "L 332.339207 256.299516 \n",
       "L 333.790915 255.719829 \n",
       "L 334.371598 255.31548 \n",
       "L 334.661939 255.533757 \n",
       "L 334.95228 255.351264 \n",
       "L 335.242622 255.526601 \n",
       "L 335.532963 255.412095 \n",
       "L 335.823305 255.658998 \n",
       "L 336.113646 255.530179 \n",
       "L 336.403988 255.766348 \n",
       "L 336.694329 255.043529 \n",
       "L 336.984671 254.732216 \n",
       "L 337.275012 254.789469 \n",
       "L 337.565354 254.521096 \n",
       "L 338.436378 254.68212 \n",
       "L 338.72672 254.463843 \n",
       "L 339.017061 253.787542 \n",
       "L 339.307402 253.676615 \n",
       "L 339.597744 253.851952 \n",
       "L 339.888085 253.859108 \n",
       "L 340.178427 253.583578 \n",
       "L 340.468768 253.630097 \n",
       "L 340.75911 252.173724 \n",
       "L 341.339793 251.654869 \n",
       "L 341.630134 251.669183 \n",
       "L 341.920476 251.891038 \n",
       "L 342.210817 252.341905 \n",
       "L 342.501159 252.066375 \n",
       "L 342.7915 252.399158 \n",
       "L 343.081841 252.356218 \n",
       "L 343.372183 252.706893 \n",
       "L 343.662524 252.621013 \n",
       "L 343.952866 253.118398 \n",
       "L 344.243207 253.154181 \n",
       "L 344.533549 252.474302 \n",
       "L 345.404573 252.474302 \n",
       "L 345.985256 252.989579 \n",
       "L 346.275598 252.875073 \n",
       "L 346.85628 253.376037 \n",
       "L 348.017646 253.207856 \n",
       "L 348.307988 252.814242 \n",
       "L 349.469354 252.567338 \n",
       "L 349.759695 252.810664 \n",
       "L 350.050037 252.470724 \n",
       "L 350.921061 253.730289 \n",
       "L 351.211402 253.844795 \n",
       "L 351.501744 253.64441 \n",
       "L 351.792085 253.690928 \n",
       "L 352.372768 254.113168 \n",
       "L 352.66311 253.701663 \n",
       "L 353.243793 254.174 \n",
       "L 353.534134 254.220518 \n",
       "L 353.824476 254.041602 \n",
       "L 354.114817 254.123903 \n",
       "L 354.405159 253.683771 \n",
       "L 355.276183 254.564035 \n",
       "L 355.856866 254.478156 \n",
       "L 356.147207 254.496048 \n",
       "L 356.437549 254.231253 \n",
       "L 356.72789 254.453108 \n",
       "L 357.018232 254.352915 \n",
       "L 357.598915 254.524674 \n",
       "L 357.889256 254.954071 \n",
       "L 358.179598 255.140143 \n",
       "L 358.76028 254.896818 \n",
       "L 359.340963 254.632023 \n",
       "L 359.921646 254.750108 \n",
       "L 360.502329 254.313554 \n",
       "L 360.792671 254.220518 \n",
       "L 361.083012 254.517517 \n",
       "L 362.825061 254.632023 \n",
       "L 363.115402 254.338602 \n",
       "L 363.405744 254.224096 \n",
       "L 363.696085 253.83406 \n",
       "L 363.986427 252.939483 \n",
       "L 364.276768 253.118398 \n",
       "L 364.56711 253.036097 \n",
       "L 365.147793 253.358145 \n",
       "L 365.438134 253.104085 \n",
       "L 366.018817 253.172073 \n",
       "L 366.309159 253.572844 \n",
       "L 366.889841 253.605048 \n",
       "L 367.180183 253.866265 \n",
       "L 367.470524 253.66588 \n",
       "L 368.051207 253.633675 \n",
       "L 368.341549 252.910856 \n",
       "L 368.63189 252.918013 \n",
       "L 368.922232 253.100507 \n",
       "L 369.502915 251.808737 \n",
       "L 369.793256 250.989304 \n",
       "L 370.083598 251.085918 \n",
       "L 370.373939 250.073257 \n",
       "L 370.66428 250.685148 \n",
       "L 370.954622 249.872871 \n",
       "L 371.244963 249.754787 \n",
       "L 371.535305 250.126931 \n",
       "L 371.825646 250.162714 \n",
       "L 372.115988 249.733317 \n",
       "L 372.406329 248.978294 \n",
       "L 372.987012 246.756163 \n",
       "L 373.567695 247.364476 \n",
       "L 373.858037 246.305296 \n",
       "L 374.148378 246.756163 \n",
       "L 374.729061 246.119224 \n",
       "L 375.019402 246.047658 \n",
       "L 375.309744 245.274743 \n",
       "L 375.600085 241.202626 \n",
       "L 376.180768 241.34218 \n",
       "L 376.47111 243.01683 \n",
       "L 376.761451 241.15253 \n",
       "L 377.051793 238.068027 \n",
       "L 377.342134 240.798277 \n",
       "L 377.632476 240.544217 \n",
       "L 377.922817 240.526326 \n",
       "L 378.213159 239.617435 \n",
       "L 378.793841 242.998938 \n",
       "L 379.084183 240.884157 \n",
       "L 379.374524 241.259879 \n",
       "L 379.664866 241.134639 \n",
       "L 379.955207 240.43329 \n",
       "L 380.245549 240.880579 \n",
       "L 380.53589 241.778734 \n",
       "L 380.826232 240.662302 \n",
       "L 381.116573 240.257953 \n",
       "L 381.406915 240.261531 \n",
       "L 381.697256 240.100507 \n",
       "L 381.987598 238.701388 \n",
       "L 382.277939 238.944713 \n",
       "L 382.56828 239.424206 \n",
       "L 382.858622 239.642483 \n",
       "L 383.148963 239.349062 \n",
       "L 383.729646 234.665054 \n",
       "L 384.019988 235.609728 \n",
       "L 384.310329 234.690102 \n",
       "L 384.600671 236.343282 \n",
       "L 384.891012 236.933703 \n",
       "L 385.181354 236.210884 \n",
       "L 385.471695 234.400259 \n",
       "L 385.762037 235.534584 \n",
       "L 386.052378 235.101608 \n",
       "L 386.34272 236.121426 \n",
       "L 386.633061 234.851126 \n",
       "L 386.923402 235.359246 \n",
       "L 388.084768 222.878102 \n",
       "L 388.37511 221.242814 \n",
       "L 388.665451 218.215564 \n",
       "L 389.246134 223.225198 \n",
       "L 389.536476 225.053714 \n",
       "L 389.826817 223.489993 \n",
       "L 390.117159 225.017931 \n",
       "L 390.4075 225.082341 \n",
       "L 390.4075 225.082341 \n",
       "\" clip-path=\"url(#p07947b6771)\" style=\"fill: none; stroke: #348abd; stroke-width: 1.5; stroke-linecap: square\"/>\n",
       "   </g>\n",
       "   <g id=\"line2d_66\">\n",
       "    <path d=\"M 33.2875 261.372661 \n",
       "L 41.417061 261.393844 \n",
       "L 69.870524 261.321165 \n",
       "L 70.451207 261.359736 \n",
       "L 74.806329 261.366288 \n",
       "L 100.066037 261.153192 \n",
       "L 100.356378 261.0885 \n",
       "L 100.64672 261.153343 \n",
       "L 102.969451 260.851909 \n",
       "L 103.840476 260.977093 \n",
       "L 105.582524 261.105783 \n",
       "L 105.872866 261.110517 \n",
       "L 106.453549 260.979337 \n",
       "L 107.034232 260.980732 \n",
       "L 107.614915 260.890129 \n",
       "L 108.485939 260.984346 \n",
       "L 109.066622 260.907377 \n",
       "L 113.421744 261.120859 \n",
       "L 114.292768 261.125582 \n",
       "L 124.45472 261.250322 \n",
       "L 125.906427 261.240017 \n",
       "L 129.100183 261.25916 \n",
       "L 132.874622 261.250072 \n",
       "L 134.035988 261.213966 \n",
       "L 136.649061 261.18856 \n",
       "L 141.294524 261.060994 \n",
       "L 142.165549 261.07087 \n",
       "L 161.037744 261.090336 \n",
       "L 163.650817 261.055018 \n",
       "L 165.683207 261.088976 \n",
       "L 167.425256 261.099425 \n",
       "L 171.780378 261.172386 \n",
       "L 199.9435 261.206917 \n",
       "L 204.298622 261.172709 \n",
       "L 206.621354 261.19926 \n",
       "L 209.524768 261.211855 \n",
       "L 212.718524 261.250895 \n",
       "L 217.363988 261.328401 \n",
       "L 220.848085 261.340639 \n",
       "L 231.59072 261.367977 \n",
       "L 247.5595 261.359496 \n",
       "L 258.592476 261.315555 \n",
       "L 263.237939 261.319741 \n",
       "L 289.949354 261.340352 \n",
       "L 294.594817 261.333983 \n",
       "L 303.01472 261.349656 \n",
       "L 352.66311 261.291222 \n",
       "L 361.083012 261.299452 \n",
       "L 385.471695 261.254902 \n",
       "L 390.4075 261.260628 \n",
       "L 390.4075 261.260628 \n",
       "\" clip-path=\"url(#p07947b6771)\" style=\"fill: none; stroke: #988ed5; stroke-width: 1.5; stroke-linecap: square\"/>\n",
       "   </g>\n",
       "   <g id=\"line2d_67\">\n",
       "    <path d=\"M 33.2875 253.261352 \n",
       "L 33.577841 253.474046 \n",
       "L 33.868183 253.21902 \n",
       "L 34.158524 253.573273 \n",
       "L 34.448866 253.535486 \n",
       "L 34.739207 253.660333 \n",
       "L 35.029549 253.39561 \n",
       "L 35.31989 253.827548 \n",
       "L 35.900573 253.210468 \n",
       "L 36.481256 253.272337 \n",
       "L 36.771598 253.028654 \n",
       "L 37.061939 253.197944 \n",
       "L 37.35228 252.641481 \n",
       "L 37.642622 252.619152 \n",
       "L 37.932963 254.195756 \n",
       "L 38.223305 253.976763 \n",
       "L 38.513646 254.514011 \n",
       "L 38.803988 253.199984 \n",
       "L 39.094329 253.450251 \n",
       "L 40.255695 252.392359 \n",
       "L 40.836378 250.328891 \n",
       "L 41.12672 250.297867 \n",
       "L 41.417061 251.777212 \n",
       "L 41.707402 251.508338 \n",
       "L 41.997744 251.785478 \n",
       "L 42.288085 251.594396 \n",
       "L 42.578427 251.746653 \n",
       "L 42.868768 252.064228 \n",
       "L 43.15911 253.206711 \n",
       "L 43.449451 252.876218 \n",
       "L 43.739793 253.310518 \n",
       "L 44.030134 252.687391 \n",
       "L 44.320476 252.645203 \n",
       "L 44.610817 252.105808 \n",
       "L 44.901159 252.087487 \n",
       "L 45.1915 251.82466 \n",
       "L 45.481841 251.141525 \n",
       "L 45.772183 251.00877 \n",
       "L 46.062524 251.652257 \n",
       "L 46.352866 251.698918 \n",
       "L 46.933549 251.11569 \n",
       "L 47.22389 251.241288 \n",
       "L 47.514232 251.575717 \n",
       "L 48.094915 251.553818 \n",
       "L 48.385256 251.315789 \n",
       "L 48.965939 251.273028 \n",
       "L 49.25628 250.513281 \n",
       "L 49.836963 250.446116 \n",
       "L 50.127305 250.271638 \n",
       "L 50.417646 250.727515 \n",
       "L 50.998329 250.510061 \n",
       "L 51.579012 251.167253 \n",
       "L 52.159695 250.51711 \n",
       "L 52.740378 250.508415 \n",
       "L 53.03072 250.700176 \n",
       "L 53.321061 250.371437 \n",
       "L 53.611402 250.215459 \n",
       "L 53.901744 250.626535 \n",
       "L 54.192085 250.792425 \n",
       "L 54.482427 251.285982 \n",
       "L 55.06311 251.271346 \n",
       "L 55.643793 251.868208 \n",
       "L 55.934134 251.833785 \n",
       "L 56.224476 251.573463 \n",
       "L 56.514817 251.088244 \n",
       "L 56.805159 251.545695 \n",
       "L 57.0955 251.314894 \n",
       "L 57.385841 251.427969 \n",
       "L 57.676183 251.383347 \n",
       "L 58.256866 251.573499 \n",
       "L 58.547207 251.391005 \n",
       "L 59.12789 251.576648 \n",
       "L 59.418232 251.481286 \n",
       "L 59.708573 251.262973 \n",
       "L 59.998915 251.428327 \n",
       "L 60.289256 251.41201 \n",
       "L 60.579598 251.114008 \n",
       "L 60.869939 250.561302 \n",
       "L 61.16028 250.737892 \n",
       "L 61.450622 250.389937 \n",
       "L 61.740963 249.335874 \n",
       "L 62.321646 251.377336 \n",
       "L 62.611988 251.296824 \n",
       "L 63.192671 250.708585 \n",
       "L 63.483012 250.211558 \n",
       "L 63.773354 250.674556 \n",
       "L 64.063695 250.643102 \n",
       "L 64.354037 250.493171 \n",
       "L 64.644378 251.095544 \n",
       "L 64.93472 250.843309 \n",
       "L 65.515402 250.971412 \n",
       "L 65.805744 251.579546 \n",
       "L 66.096085 251.409684 \n",
       "L 66.676768 251.697129 \n",
       "L 67.547793 250.733884 \n",
       "L 67.838134 250.922998 \n",
       "L 68.128476 250.546416 \n",
       "L 68.418817 250.665288 \n",
       "L 68.709159 250.39237 \n",
       "L 68.9995 249.559161 \n",
       "L 69.289841 249.20201 \n",
       "L 69.580183 250.012425 \n",
       "L 69.870524 249.488167 \n",
       "L 70.160866 250.3222 \n",
       "L 70.451207 249.855159 \n",
       "L 71.03189 249.44487 \n",
       "L 71.322232 249.431308 \n",
       "L 71.902915 247.501633 \n",
       "L 72.483598 248.112772 \n",
       "L 73.06428 247.79992 \n",
       "L 73.354622 246.717696 \n",
       "L 73.644963 246.762139 \n",
       "L 74.515988 245.88921 \n",
       "L 74.806329 246.324619 \n",
       "L 75.096671 245.790771 \n",
       "L 75.387012 246.307765 \n",
       "L 75.677354 247.82343 \n",
       "L 75.967695 247.792406 \n",
       "L 76.548378 246.497702 \n",
       "L 76.83872 246.857501 \n",
       "L 77.419402 245.068096 \n",
       "L 77.709744 245.256422 \n",
       "L 78.000085 246.264468 \n",
       "L 78.290427 246.234839 \n",
       "L 78.580768 247.656359 \n",
       "L 78.87111 246.847911 \n",
       "L 79.161451 246.841721 \n",
       "L 79.451793 246.514162 \n",
       "L 80.032476 246.509403 \n",
       "L 80.322817 246.851847 \n",
       "L 80.613159 246.264003 \n",
       "L 80.9035 246.143628 \n",
       "L 81.193841 245.455483 \n",
       "L 81.484183 245.618547 \n",
       "L 81.774524 243.060449 \n",
       "L 82.064866 243.228987 \n",
       "L 82.355207 242.830757 \n",
       "L 82.645549 241.456722 \n",
       "L 82.93589 237.255572 \n",
       "L 83.226232 235.418074 \n",
       "L 83.516573 237.021658 \n",
       "L 83.806915 232.912613 \n",
       "L 84.387598 215.331053 \n",
       "L 84.677939 217.079451 \n",
       "L 84.96828 212.596222 \n",
       "L 85.258622 213.76429 \n",
       "L 85.548963 212.865168 \n",
       "L 85.839305 214.854457 \n",
       "L 86.129646 214.897397 \n",
       "L 86.710329 191.489168 \n",
       "L 87.000671 142.283471 \n",
       "L 87.291012 170.949669 \n",
       "L 87.581354 155.827839 \n",
       "L 88.162037 178.691486 \n",
       "L 88.452378 170.410919 \n",
       "L 89.033061 182.143696 \n",
       "L 89.323402 180.831064 \n",
       "L 89.613744 186.259897 \n",
       "L 89.904085 170.246996 \n",
       "L 90.194427 175.714511 \n",
       "L 90.484768 175.397472 \n",
       "L 90.77511 179.30971 \n",
       "L 91.065451 180.800255 \n",
       "L 91.355793 180.474629 \n",
       "L 91.646134 175.56211 \n",
       "L 91.936476 175.404343 \n",
       "L 92.226817 156.563003 \n",
       "L 92.517159 161.842906 \n",
       "L 92.8075 157.699152 \n",
       "L 93.097841 167.292601 \n",
       "L 93.388183 162.618577 \n",
       "L 93.968866 170.40777 \n",
       "L 94.259207 168.969003 \n",
       "L 94.549549 164.94183 \n",
       "L 94.83989 167.91469 \n",
       "L 95.420573 166.905356 \n",
       "L 95.710915 166.780473 \n",
       "L 96.001256 170.306432 \n",
       "L 96.291598 170.067759 \n",
       "L 96.581939 172.551464 \n",
       "L 96.87228 177.767566 \n",
       "L 97.452963 165.144434 \n",
       "L 97.743305 165.429661 \n",
       "L 98.033646 162.97036 \n",
       "L 98.323988 150.089482 \n",
       "L 98.614329 153.282695 \n",
       "L 98.904671 141.679417 \n",
       "L 99.195012 140.429119 \n",
       "L 99.485354 146.27733 \n",
       "L 100.356378 117.144485 \n",
       "L 100.64672 127.096122 \n",
       "L 101.227402 99.027895 \n",
       "L 101.517744 92.83606 \n",
       "L 102.098427 47.959438 \n",
       "L 102.388768 64.085521 \n",
       "L 102.67911 64.667354 \n",
       "L 102.969451 67.578595 \n",
       "L 103.259793 79.604615 \n",
       "L 103.550134 77.310274 \n",
       "L 103.840476 89.20794 \n",
       "L 104.130817 81.12257 \n",
       "L 104.421159 51.661879 \n",
       "L 105.001841 80.689988 \n",
       "L 105.292183 73.07012 \n",
       "L 105.582524 83.641771 \n",
       "L 105.872866 80.776261 \n",
       "L 106.453549 57.953801 \n",
       "L 106.74389 60.100787 \n",
       "L 107.324573 38.677445 \n",
       "L 107.614915 39.625698 \n",
       "L 107.905256 38.988758 \n",
       "L 108.195598 19.533488 \n",
       "L 108.485939 43.454489 \n",
       "L 108.77628 28.497154 \n",
       "L 109.066622 34.619642 \n",
       "L 109.356963 38.087024 \n",
       "L 109.937646 24.689832 \n",
       "L 110.227988 35.653774 \n",
       "L 110.518329 21.050691 \n",
       "L 110.808671 48.696713 \n",
       "L 111.099012 57.123633 \n",
       "L 111.389354 45.848378 \n",
       "L 111.679695 59.875353 \n",
       "L 111.970037 59.549727 \n",
       "L 112.260378 78.246396 \n",
       "L 112.55072 79.745708 \n",
       "L 112.841061 141.679095 \n",
       "L 113.131402 121.508162 \n",
       "L 113.421744 144.824429 \n",
       "L 113.712085 154.217492 \n",
       "L 114.002427 168.187214 \n",
       "L 114.292768 137.800207 \n",
       "L 114.58311 138.680471 \n",
       "L 114.873451 125.805712 \n",
       "L 115.163793 129.201528 \n",
       "L 115.454134 143.818924 \n",
       "L 115.744476 152.328145 \n",
       "L 116.6155 131.806538 \n",
       "L 117.196183 108.157488 \n",
       "L 117.486524 121.676342 \n",
       "L 117.776866 121.898198 \n",
       "L 118.067207 120.592115 \n",
       "L 118.357549 133.391729 \n",
       "L 118.64789 135.345486 \n",
       "L 118.938232 127.10106 \n",
       "L 119.228573 135.545871 \n",
       "L 119.518915 137.760845 \n",
       "L 119.809256 138.494399 \n",
       "L 120.099598 130.586334 \n",
       "L 120.389939 129.015456 \n",
       "L 120.68028 130.343009 \n",
       "L 120.970622 137.234834 \n",
       "L 121.260963 135.220245 \n",
       "L 121.551305 140.834613 \n",
       "L 121.841646 141.961781 \n",
       "L 122.131988 140.147578 \n",
       "L 122.422329 164.594591 \n",
       "L 122.712671 167.693407 \n",
       "L 123.003012 155.473479 \n",
       "L 123.293354 151.04711 \n",
       "L 123.583695 160.998389 \n",
       "L 123.874037 161.413473 \n",
       "L 124.164378 157.39861 \n",
       "L 124.45472 157.709923 \n",
       "L 124.745061 153.848926 \n",
       "L 125.035402 152.80406 \n",
       "L 125.325744 158.629548 \n",
       "L 125.616085 158.722584 \n",
       "L 126.196768 151.404941 \n",
       "L 126.48711 153.408794 \n",
       "L 126.777451 147.00362 \n",
       "L 127.067793 144.287682 \n",
       "L 127.358134 150.503207 \n",
       "L 127.648476 148.016281 \n",
       "L 127.938817 148.363377 \n",
       "L 128.229159 146.202078 \n",
       "L 128.809841 150.932604 \n",
       "L 129.100183 150.768002 \n",
       "L 129.390524 148.366956 \n",
       "L 129.680866 153.10106 \n",
       "L 129.971207 153.945541 \n",
       "L 130.261549 153.380168 \n",
       "L 130.842232 166.856083 \n",
       "L 131.132573 156.543394 \n",
       "L 131.422915 156.507611 \n",
       "L 131.713256 154.392829 \n",
       "L 132.003598 153.573396 \n",
       "L 132.58428 152.700289 \n",
       "L 132.874622 149.308051 \n",
       "L 133.164963 149.193545 \n",
       "L 133.455305 148.037751 \n",
       "L 133.745646 146.051789 \n",
       "L 134.035988 142.545045 \n",
       "L 134.326329 142.469901 \n",
       "L 134.616671 143.199876 \n",
       "L 134.907012 145.747633 \n",
       "L 135.197354 141.689829 \n",
       "L 135.487695 140.56624 \n",
       "L 135.778037 138.963157 \n",
       "L 136.068378 134.028668 \n",
       "L 136.35872 139.177856 \n",
       "L 136.649061 134.694234 \n",
       "L 137.229744 121.583306 \n",
       "L 137.520085 123.479811 \n",
       "L 137.810427 114.498253 \n",
       "L 138.100768 115.24612 \n",
       "L 138.39111 113.320989 \n",
       "L 138.681451 112.723411 \n",
       "L 138.971793 117.704419 \n",
       "L 139.262134 119.726164 \n",
       "L 139.842817 98.692858 \n",
       "L 140.133159 100.907832 \n",
       "L 140.4235 100.929302 \n",
       "L 140.713841 82.901777 \n",
       "L 141.004183 92.720659 \n",
       "L 141.294524 81.423935 \n",
       "L 141.584866 90.401914 \n",
       "L 141.875207 84.533486 \n",
       "L 142.45589 89.829385 \n",
       "L 142.746232 96.771306 \n",
       "L 143.036573 95.483114 \n",
       "L 143.326915 86.358424 \n",
       "L 143.617256 88.398061 \n",
       "L 143.907598 86.680472 \n",
       "L 144.48828 80.847827 \n",
       "L 144.778622 83.960957 \n",
       "L 145.068963 111.657075 \n",
       "L 145.359305 112.98105 \n",
       "L 145.649646 110.726714 \n",
       "L 145.939988 117.847551 \n",
       "L 146.230329 116.523576 \n",
       "L 146.520671 112.515869 \n",
       "L 146.811012 118.670562 \n",
       "L 147.391695 107.148404 \n",
       "L 147.682037 109.653221 \n",
       "L 147.972378 115.98683 \n",
       "L 148.26272 114.519723 \n",
       "L 148.553061 115.271168 \n",
       "L 148.843402 131.194647 \n",
       "L 149.133744 138.243917 \n",
       "L 149.424085 125.862965 \n",
       "L 149.714427 124.252726 \n",
       "L 150.004768 134.450909 \n",
       "L 150.585451 138.387049 \n",
       "L 150.875793 141.428613 \n",
       "L 151.166134 142.32319 \n",
       "L 151.456476 129.906455 \n",
       "L 151.746817 122.821402 \n",
       "L 152.037159 110.655148 \n",
       "L 152.3275 108.651295 \n",
       "L 152.617841 107.434669 \n",
       "L 152.908183 108.937559 \n",
       "L 153.198524 103.28383 \n",
       "L 153.488866 105.860213 \n",
       "L 153.779207 104.572021 \n",
       "L 154.069549 111.478159 \n",
       "L 154.35989 110.512016 \n",
       "L 154.650232 116.881407 \n",
       "L 154.940573 113.660928 \n",
       "L 155.521256 93.014081 \n",
       "L 156.101939 91.690106 \n",
       "L 156.39228 94.803235 \n",
       "L 156.682622 92.978297 \n",
       "L 156.972963 87.968664 \n",
       "L 157.263305 86.823604 \n",
       "L 157.553646 82.100235 \n",
       "L 157.843988 92.978297 \n",
       "L 158.424671 87.753965 \n",
       "L 158.715012 91.224926 \n",
       "L 159.005354 87.897097 \n",
       "L 159.295695 90.401914 \n",
       "L 159.586037 100.922145 \n",
       "L 160.16672 71.723137 \n",
       "L 160.457061 72.438799 \n",
       "L 160.747402 73.762774 \n",
       "L 161.037744 64.208686 \n",
       "L 161.328085 63.09941 \n",
       "L 161.618427 58.089776 \n",
       "L 161.908768 61.560737 \n",
       "L 162.489451 33.292089 \n",
       "L 162.779793 29.0339 \n",
       "L 163.070134 27.63836 \n",
       "L 163.650817 41.7369 \n",
       "L 163.941159 36.619917 \n",
       "L 164.2315 37.156664 \n",
       "L 164.521841 29.069683 \n",
       "L 164.812183 28.604503 \n",
       "L 165.102524 34.68763 \n",
       "L 165.392866 50.825807 \n",
       "L 165.683207 54.654599 \n",
       "L 165.973549 71.18639 \n",
       "L 166.26389 53.581106 \n",
       "L 166.554232 45.243644 \n",
       "L 167.134915 61.346038 \n",
       "L 167.425256 49.967013 \n",
       "L 167.715598 50.253278 \n",
       "L 168.005939 32.791126 \n",
       "L 168.29628 51.326771 \n",
       "L 169.167305 38.409072 \n",
       "L 169.457646 38.73112 \n",
       "L 169.747988 36.941965 \n",
       "L 170.038329 39.661481 \n",
       "L 170.619012 58.01821 \n",
       "L 170.909354 61.882785 \n",
       "L 171.199695 51.255205 \n",
       "L 171.490037 54.404117 \n",
       "L 171.780378 44.205934 \n",
       "L 172.07072 57.445681 \n",
       "L 172.361061 63.815072 \n",
       "L 172.651402 59.485317 \n",
       "L 172.941744 57.409898 \n",
       "L 173.232085 75.050965 \n",
       "L 173.522427 72.510365 \n",
       "L 173.812768 67.858562 \n",
       "L 174.10311 73.190244 \n",
       "L 174.393451 73.440726 \n",
       "L 174.683793 70.434945 \n",
       "L 174.974134 71.902052 \n",
       "L 175.264476 73.977472 \n",
       "L 175.845159 70.542295 \n",
       "L 176.1355 65.031698 \n",
       "L 176.425841 67.500731 \n",
       "L 176.716183 65.604227 \n",
       "L 177.006524 65.962058 \n",
       "L 177.296866 59.771582 \n",
       "L 177.877549 77.376866 \n",
       "L 178.16789 75.945543 \n",
       "L 178.458232 78.486143 \n",
       "L 178.748573 72.79663 \n",
       "L 179.038915 71.472655 \n",
       "L 179.329256 78.307227 \n",
       "L 179.619598 80.096382 \n",
       "L 179.909939 91.833238 \n",
       "L 180.20028 92.369985 \n",
       "L 180.780963 107.649368 \n",
       "L 181.071305 104.500455 \n",
       "L 181.361646 109.510089 \n",
       "L 181.942329 86.930954 \n",
       "L 182.232671 91.439624 \n",
       "L 182.523012 86.143726 \n",
       "L 183.103695 83.066379 \n",
       "L 183.394037 91.439624 \n",
       "L 183.684378 92.799382 \n",
       "L 183.97472 96.198776 \n",
       "L 184.265061 103.963709 \n",
       "L 184.555402 124.109593 \n",
       "L 184.845744 133.270066 \n",
       "L 185.136085 124.109593 \n",
       "L 185.426427 128.618264 \n",
       "L 185.716768 123.680196 \n",
       "L 186.00711 127.258506 \n",
       "L 186.297451 121.962607 \n",
       "L 186.587793 123.393931 \n",
       "L 186.878134 122.177306 \n",
       "L 187.168476 126.507061 \n",
       "L 187.458817 127.544771 \n",
       "L 187.749159 124.002244 \n",
       "L 188.0395 130.19272 \n",
       "L 188.329841 128.260433 \n",
       "L 188.620183 118.52743 \n",
       "L 188.910524 113.44623 \n",
       "L 189.200866 111.227678 \n",
       "L 189.491207 106.361176 \n",
       "L 189.781549 115.557433 \n",
       "L 190.07189 110.154185 \n",
       "L 190.362232 113.088399 \n",
       "L 190.652573 118.348514 \n",
       "L 190.942915 117.060323 \n",
       "L 191.233256 119.099959 \n",
       "L 191.523598 117.131889 \n",
       "L 191.813939 106.75479 \n",
       "L 192.10428 108.579728 \n",
       "L 192.394622 117.48972 \n",
       "L 192.684963 118.634779 \n",
       "L 192.975305 118.42008 \n",
       "L 193.555988 133.878379 \n",
       "L 193.846329 127.544771 \n",
       "L 194.136671 130.6579 \n",
       "L 194.427012 132.232357 \n",
       "L 194.717354 127.294289 \n",
       "L 195.007695 127.759469 \n",
       "L 195.298037 132.625971 \n",
       "L 195.588378 119.922971 \n",
       "L 195.87872 115.235385 \n",
       "L 196.169061 115.020686 \n",
       "L 196.459402 117.418154 \n",
       "L 196.749744 127.580554 \n",
       "L 197.040085 123.823328 \n",
       "L 197.330427 127.294289 \n",
       "L 197.620768 125.290435 \n",
       "L 197.91111 125.004171 \n",
       "L 198.201451 120.781765 \n",
       "L 198.491793 128.367782 \n",
       "L 198.782134 128.403565 \n",
       "L 199.072476 128.224649 \n",
       "L 199.362817 132.16079 \n",
       "L 199.653159 127.866818 \n",
       "L 199.9435 128.475131 \n",
       "L 200.233841 123.572847 \n",
       "L 200.814524 119.350441 \n",
       "L 201.104866 118.384297 \n",
       "L 201.395207 121.640559 \n",
       "L 201.685549 119.779838 \n",
       "L 201.97589 116.809841 \n",
       "L 202.266232 115.342734 \n",
       "L 202.556573 113.267314 \n",
       "L 202.846915 114.662855 \n",
       "L 203.137256 112.694785 \n",
       "L 203.427598 107.434669 \n",
       "L 203.717939 107.542019 \n",
       "L 204.00828 106.110695 \n",
       "L 204.298622 103.28383 \n",
       "L 204.588963 108.007199 \n",
       "L 204.879305 101.279976 \n",
       "L 205.169646 105.037202 \n",
       "L 205.459988 100.313833 \n",
       "L 206.040671 102.353469 \n",
       "L 206.331012 111.156111 \n",
       "L 206.621354 105.466599 \n",
       "L 206.911695 110.655148 \n",
       "L 207.202037 108.83021 \n",
       "L 207.492378 111.871773 \n",
       "L 207.78272 120.280802 \n",
       "L 208.073061 113.482013 \n",
       "L 208.363402 109.975269 \n",
       "L 208.653744 113.088399 \n",
       "L 208.944085 112.158038 \n",
       "L 209.234427 112.158038 \n",
       "L 209.524768 115.98683 \n",
       "L 209.81511 112.336954 \n",
       "L 210.105451 110.368883 \n",
       "L 210.395793 111.764424 \n",
       "L 210.686134 116.595142 \n",
       "L 210.976476 115.98683 \n",
       "L 211.266817 117.9549 \n",
       "L 211.557159 118.777911 \n",
       "L 211.8475 116.809841 \n",
       "L 212.137841 123.393931 \n",
       "L 212.428183 121.461644 \n",
       "L 212.718524 115.807914 \n",
       "L 213.299207 126.542844 \n",
       "L 213.589549 121.962607 \n",
       "L 213.87989 122.10574 \n",
       "L 214.170232 124.109593 \n",
       "L 214.460573 117.418154 \n",
       "L 214.750915 126.077664 \n",
       "L 215.041256 125.827182 \n",
       "L 215.621939 134.128861 \n",
       "L 215.91228 155.527154 \n",
       "L 216.202622 147.297041 \n",
       "L 216.492963 164.329796 \n",
       "L 216.783305 165.224373 \n",
       "L 217.073646 157.495224 \n",
       "L 217.363988 155.240889 \n",
       "L 217.654329 149.694509 \n",
       "L 217.944671 155.13354 \n",
       "L 218.235012 151.913061 \n",
       "L 218.525354 158.532934 \n",
       "L 218.815695 151.591013 \n",
       "L 219.106037 153.344385 \n",
       "L 219.68672 147.189692 \n",
       "L 219.977061 147.97692 \n",
       "L 220.267402 144.004996 \n",
       "L 220.557744 144.935356 \n",
       "L 220.848085 153.05812 \n",
       "L 221.138427 153.559083 \n",
       "L 221.428768 151.44788 \n",
       "L 221.71911 152.056193 \n",
       "L 222.009451 146.330897 \n",
       "L 222.299793 146.652945 \n",
       "L 222.590134 153.98848 \n",
       "L 222.880476 151.161616 \n",
       "L 223.170817 154.632576 \n",
       "L 223.461159 153.666433 \n",
       "L 223.7515 154.453661 \n",
       "L 224.622524 158.246669 \n",
       "L 224.912866 157.745706 \n",
       "L 225.203207 158.998114 \n",
       "L 225.78389 170.305573 \n",
       "L 226.074232 181.684599 \n",
       "L 226.364573 181.684599 \n",
       "L 226.654915 177.89159 \n",
       "L 226.945256 186.264835 \n",
       "L 227.235598 184.260982 \n",
       "L 227.525939 190.988204 \n",
       "L 227.81628 184.511463 \n",
       "L 228.106622 184.0105 \n",
       "L 228.396963 182.722309 \n",
       "L 228.687305 184.761945 \n",
       "L 229.267988 175.529906 \n",
       "L 229.558329 175.708821 \n",
       "L 229.848671 177.784241 \n",
       "L 230.139012 177.820024 \n",
       "L 230.719695 182.865441 \n",
       "L 231.010037 182.901224 \n",
       "L 231.300378 183.867368 \n",
       "L 231.881061 183.044356 \n",
       "L 232.171402 178.643035 \n",
       "L 232.461744 178.893517 \n",
       "L 232.752085 176.102435 \n",
       "L 233.042427 175.100509 \n",
       "L 233.332768 175.35099 \n",
       "L 233.62311 174.42063 \n",
       "L 234.494134 182.543393 \n",
       "L 235.074817 176.138218 \n",
       "L 235.365159 176.138218 \n",
       "L 235.6555 172.094728 \n",
       "L 235.945841 172.81039 \n",
       "L 236.236183 166.977745 \n",
       "L 236.526524 165.367506 \n",
       "L 236.816866 169.088948 \n",
       "L 237.107207 166.440999 \n",
       "L 237.68789 168.731117 \n",
       "L 237.978232 167.943889 \n",
       "L 238.268573 173.955449 \n",
       "L 238.558915 172.237861 \n",
       "L 238.849256 164.294013 \n",
       "L 239.139598 162.290159 \n",
       "L 239.429939 156.421731 \n",
       "L 240.010622 160.071607 \n",
       "L 240.300963 160.143173 \n",
       "L 240.591305 159.928475 \n",
       "L 241.171988 149.909207 \n",
       "L 241.462329 148.4421 \n",
       "L 241.752671 148.692582 \n",
       "L 242.043012 145.973066 \n",
       "L 242.333354 145.221621 \n",
       "L 242.623695 145.400537 \n",
       "L 242.914037 143.82608 \n",
       "L 243.204378 145.686802 \n",
       "L 243.49472 144.148128 \n",
       "L 243.785061 145.43632 \n",
       "L 244.075402 147.833787 \n",
       "L 244.365744 147.153909 \n",
       "L 244.656085 148.370534 \n",
       "L 245.236768 154.811492 \n",
       "L 245.52711 161.61028 \n",
       "L 245.817451 159.964258 \n",
       "L 246.107793 153.451734 \n",
       "L 246.398134 154.131613 \n",
       "L 246.688476 154.382094 \n",
       "L 246.978817 155.419804 \n",
       "L 247.269159 153.702216 \n",
       "L 247.5595 161.431365 \n",
       "L 248.140183 162.540641 \n",
       "L 248.430524 159.17703 \n",
       "L 248.720866 160.715703 \n",
       "L 249.011207 161.574497 \n",
       "L 249.59189 162.18281 \n",
       "L 249.882232 162.075461 \n",
       "L 250.172573 161.61028 \n",
       "L 250.462915 162.397509 \n",
       "L 250.753256 167.550275 \n",
       "L 251.043598 161.681847 \n",
       "L 251.333939 161.109317 \n",
       "L 251.62428 156.493297 \n",
       "L 251.914622 155.312455 \n",
       "L 252.495305 156.242816 \n",
       "L 252.785646 162.218593 \n",
       "L 253.075988 161.538714 \n",
       "L 253.366329 164.472928 \n",
       "L 253.947012 161.61028 \n",
       "L 254.237354 166.2263 \n",
       "L 254.527695 164.186663 \n",
       "L 254.818037 166.190517 \n",
       "L 255.108378 167.013528 \n",
       "L 255.39872 162.970038 \n",
       "L 255.689061 162.469075 \n",
       "L 255.979402 163.292086 \n",
       "L 256.269744 163.327869 \n",
       "L 256.560085 162.683773 \n",
       "L 256.850427 164.043531 \n",
       "L 257.140768 160.715703 \n",
       "L 257.43111 159.821125 \n",
       "L 257.721451 159.570644 \n",
       "L 258.011793 160.250523 \n",
       "L 258.592476 158.819199 \n",
       "L 258.882817 155.491371 \n",
       "L 259.173159 156.207033 \n",
       "L 259.753841 160.465221 \n",
       "L 260.044183 162.576424 \n",
       "L 260.334524 161.932328 \n",
       "L 260.624866 164.329796 \n",
       "L 260.915207 164.365579 \n",
       "L 261.205549 164.544494 \n",
       "L 261.49589 164.294013 \n",
       "L 261.786232 165.081241 \n",
       "L 262.076573 165.510638 \n",
       "L 262.657256 162.862689 \n",
       "L 262.947598 163.757266 \n",
       "L 263.237939 164.15088 \n",
       "L 263.52828 165.224373 \n",
       "L 263.818622 164.830759 \n",
       "L 264.108963 164.72341 \n",
       "L 264.399305 162.719556 \n",
       "L 264.689646 163.399435 \n",
       "L 264.979988 159.785342 \n",
       "L 265.270329 157.638356 \n",
       "L 265.560671 158.890765 \n",
       "L 265.851012 154.883058 \n",
       "L 266.141354 152.557156 \n",
       "L 266.722037 144.935356 \n",
       "L 267.012378 145.579452 \n",
       "L 267.30272 146.903427 \n",
       "L 267.593061 143.575599 \n",
       "L 267.883402 134.594041 \n",
       "L 268.173744 136.526328 \n",
       "L 268.464085 140.569818 \n",
       "L 268.754427 140.891866 \n",
       "L 269.044768 144.327044 \n",
       "L 269.33511 165.832686 \n",
       "L 269.625451 152.700289 \n",
       "L 269.915793 157.56679 \n",
       "L 270.496476 162.576424 \n",
       "L 270.786817 161.646063 \n",
       "L 271.077159 162.361725 \n",
       "L 271.657841 165.617987 \n",
       "L 271.948183 163.399435 \n",
       "L 272.238524 163.936182 \n",
       "L 272.819207 170.627621 \n",
       "L 273.109549 166.047385 \n",
       "L 273.39989 154.56101 \n",
       "L 273.690232 154.060047 \n",
       "L 273.980573 153.845348 \n",
       "L 274.270915 150.05234 \n",
       "L 274.561256 151.412097 \n",
       "L 274.851598 156.457514 \n",
       "L 275.141939 155.777635 \n",
       "L 275.43228 153.916914 \n",
       "L 275.722622 156.886911 \n",
       "L 276.012963 156.493297 \n",
       "L 276.303305 157.56679 \n",
       "L 276.593646 157.065827 \n",
       "L 276.883988 158.282452 \n",
       "L 277.174329 157.638356 \n",
       "L 277.464671 159.785342 \n",
       "L 277.755012 157.56679 \n",
       "L 278.045354 159.141247 \n",
       "L 278.335695 158.354018 \n",
       "L 278.626037 159.713776 \n",
       "L 278.916378 162.683773 \n",
       "L 279.497061 165.689554 \n",
       "L 279.787402 168.874249 \n",
       "L 280.077744 178.750385 \n",
       "L 280.658427 171.665331 \n",
       "L 280.948768 175.45834 \n",
       "L 281.23911 171.522199 \n",
       "L 281.529451 173.38292 \n",
       "L 281.819793 173.526052 \n",
       "L 282.110134 173.38292 \n",
       "L 282.690817 174.456413 \n",
       "L 282.981159 174.062799 \n",
       "L 283.2715 173.204004 \n",
       "L 283.561841 173.991232 \n",
       "L 283.852183 173.347137 \n",
       "L 284.142524 173.526052 \n",
       "L 284.432866 173.347137 \n",
       "L 284.723207 174.027016 \n",
       "L 285.30389 173.418703 \n",
       "L 285.594232 168.838466 \n",
       "L 285.884573 169.625694 \n",
       "L 286.174915 168.480635 \n",
       "L 286.465256 167.979672 \n",
       "L 286.755598 163.113171 \n",
       "L 287.045939 163.936182 \n",
       "L 287.33628 162.325942 \n",
       "L 287.626622 159.570644 \n",
       "L 287.916963 158.532934 \n",
       "L 288.207305 156.385948 \n",
       "L 288.497646 152.306675 \n",
       "L 289.078329 154.489444 \n",
       "L 289.368671 154.346311 \n",
       "L 289.659012 158.890765 \n",
       "L 290.239695 152.306675 \n",
       "L 290.530037 154.489444 \n",
       "L 290.820378 153.05812 \n",
       "L 291.11072 152.306675 \n",
       "L 291.401061 154.024264 \n",
       "L 291.691402 151.662579 \n",
       "L 291.981744 152.449807 \n",
       "L 292.272085 151.268965 \n",
       "L 292.562427 151.948844 \n",
       "L 292.852768 147.97692 \n",
       "L 293.14311 151.55523 \n",
       "L 293.723793 148.048486 \n",
       "L 294.304476 142.609455 \n",
       "L 294.594817 143.253551 \n",
       "L 295.1755 145.43632 \n",
       "L 295.465841 142.32319 \n",
       "L 295.756183 144.040779 \n",
       "L 296.046524 151.913061 \n",
       "L 296.336866 152.056193 \n",
       "L 296.627207 150.410171 \n",
       "L 296.917549 149.622942 \n",
       "L 297.20789 156.171249 \n",
       "L 297.498232 155.491371 \n",
       "L 297.788573 147.905354 \n",
       "L 298.078915 152.557156 \n",
       "L 298.369256 149.47981 \n",
       "L 298.659598 148.227402 \n",
       "L 298.949939 150.016556 \n",
       "L 299.24028 148.621016 \n",
       "L 299.530622 150.016556 \n",
       "L 299.820963 149.694509 \n",
       "L 300.111305 151.161616 \n",
       "L 300.401646 153.308602 \n",
       "L 300.691988 153.272818 \n",
       "L 300.982329 151.018483 \n",
       "L 301.563012 153.630649 \n",
       "L 301.853354 153.165469 \n",
       "L 302.143695 154.203179 \n",
       "L 302.434037 157.56679 \n",
       "L 303.305061 158.497151 \n",
       "L 303.595402 157.960404 \n",
       "L 303.885744 158.747633 \n",
       "L 304.176085 162.325942 \n",
       "L 304.466427 162.218593 \n",
       "L 304.756768 162.719556 \n",
       "L 305.04711 158.389802 \n",
       "L 305.337451 151.304748 \n",
       "L 305.627793 151.125833 \n",
       "L 305.918134 151.877278 \n",
       "L 306.208476 143.611382 \n",
       "L 306.498817 140.211987 \n",
       "L 306.789159 143.038852 \n",
       "L 307.0795 140.999216 \n",
       "L 307.369841 142.502106 \n",
       "L 307.660183 141.822227 \n",
       "L 307.950524 146.581379 \n",
       "L 308.240866 143.611382 \n",
       "L 308.531207 146.223548 \n",
       "L 308.821549 146.116199 \n",
       "L 309.11189 143.897647 \n",
       "L 309.402232 150.338604 \n",
       "L 309.692573 149.408244 \n",
       "L 309.982915 149.229328 \n",
       "L 310.273256 148.263185 \n",
       "L 310.563598 148.084269 \n",
       "L 311.14428 149.229328 \n",
       "L 311.434622 150.9827 \n",
       "L 311.724963 150.267038 \n",
       "L 312.015305 149.157762 \n",
       "L 312.595988 150.445954 \n",
       "L 312.886329 150.374387 \n",
       "L 313.176671 149.551376 \n",
       "L 313.757354 146.151982 \n",
       "L 314.047695 147.010776 \n",
       "L 314.91872 142.32319 \n",
       "L 315.209061 137.063075 \n",
       "L 315.499402 139.818373 \n",
       "L 315.789744 138.709097 \n",
       "L 316.080085 146.116199 \n",
       "L 316.370427 147.654872 \n",
       "L 316.660768 146.545596 \n",
       "L 316.95111 142.609455 \n",
       "L 317.241451 143.146202 \n",
       "L 317.531793 142.967286 \n",
       "L 317.822134 140.390903 \n",
       "L 318.112476 143.181985 \n",
       "L 318.402817 143.074635 \n",
       "L 318.693159 145.507886 \n",
       "L 318.9835 146.295114 \n",
       "L 319.273841 140.712951 \n",
       "L 319.854524 146.438247 \n",
       "L 320.144866 144.86379 \n",
       "L 320.435207 145.615235 \n",
       "L 320.725549 144.649092 \n",
       "L 321.01589 146.295114 \n",
       "L 321.306232 146.617162 \n",
       "L 321.596573 149.193545 \n",
       "L 321.886915 149.801858 \n",
       "L 322.177256 149.01463 \n",
       "L 322.467598 151.44788 \n",
       "L 322.757939 151.090049 \n",
       "L 323.338622 149.801858 \n",
       "L 323.628963 149.336678 \n",
       "L 323.919305 150.05234 \n",
       "L 324.209646 149.01463 \n",
       "L 324.499988 150.803785 \n",
       "L 324.790329 150.946917 \n",
       "L 325.080671 150.338604 \n",
       "L 325.371012 151.841494 \n",
       "L 325.661354 150.911134 \n",
       "L 325.951695 149.300894 \n",
       "L 326.242037 151.984627 \n",
       "L 326.532378 152.521373 \n",
       "L 326.82272 151.698362 \n",
       "L 327.113061 151.483664 \n",
       "L 327.403402 149.086196 \n",
       "L 327.693744 149.980773 \n",
       "L 327.984085 150.016556 \n",
       "L 328.274427 151.698362 \n",
       "L 328.564768 152.378241 \n",
       "L 328.85511 151.55523 \n",
       "L 329.145451 151.769928 \n",
       "L 329.435793 152.342458 \n",
       "L 329.726134 162.397509 \n",
       "L 330.016476 160.858835 \n",
       "L 330.306817 168.695334 \n",
       "L 330.597159 167.72919 \n",
       "L 330.8875 168.265937 \n",
       "L 331.177841 176.066652 \n",
       "L 331.758524 178.714601 \n",
       "L 332.048866 174.098582 \n",
       "L 332.339207 176.352917 \n",
       "L 332.629549 176.889663 \n",
       "L 332.91989 175.851954 \n",
       "L 333.210232 173.991232 \n",
       "L 333.500573 174.134365 \n",
       "L 333.790915 174.492196 \n",
       "L 334.081256 172.846173 \n",
       "L 334.371598 172.452559 \n",
       "L 334.661939 175.315207 \n",
       "L 334.95228 174.062799 \n",
       "L 335.242622 176.889663 \n",
       "L 335.532963 176.030869 \n",
       "L 335.823305 176.997013 \n",
       "L 336.113646 176.496049 \n",
       "L 336.403988 178.965083 \n",
       "L 336.694329 178.070506 \n",
       "L 337.275012 172.774607 \n",
       "L 337.565354 173.275571 \n",
       "L 337.855695 173.275571 \n",
       "L 338.436378 175.995086 \n",
       "L 338.72672 178.392554 \n",
       "L 339.017061 177.175928 \n",
       "L 339.307402 176.925447 \n",
       "L 339.597744 177.712675 \n",
       "L 339.888085 173.38292 \n",
       "L 340.178427 172.524125 \n",
       "L 340.468768 174.205931 \n",
       "L 340.75911 169.840393 \n",
       "L 341.049451 172.703041 \n",
       "L 341.339793 171.629548 \n",
       "L 341.630134 174.778461 \n",
       "L 341.920476 174.134365 \n",
       "L 342.210817 175.529906 \n",
       "L 342.501159 175.315207 \n",
       "L 342.7915 174.599545 \n",
       "L 343.081841 174.277497 \n",
       "L 343.372183 175.207858 \n",
       "L 343.662524 174.706894 \n",
       "L 343.952866 175.995086 \n",
       "L 344.243207 176.424483 \n",
       "L 345.404573 174.742678 \n",
       "L 345.694915 174.706894 \n",
       "L 345.985256 175.243641 \n",
       "L 346.275598 172.846173 \n",
       "L 346.565939 175.35099 \n",
       "L 347.146622 174.993159 \n",
       "L 347.436963 174.456413 \n",
       "L 347.727305 174.456413 \n",
       "L 348.017646 174.850027 \n",
       "L 348.307988 173.740751 \n",
       "L 348.598329 174.241714 \n",
       "L 349.179012 175.708821 \n",
       "L 349.469354 175.494123 \n",
       "L 350.050037 175.45834 \n",
       "L 350.63072 178.46412 \n",
       "L 350.921061 183.43797 \n",
       "L 351.211402 184.153632 \n",
       "L 351.501744 183.903151 \n",
       "L 351.792085 184.0105 \n",
       "L 352.082427 186.193269 \n",
       "L 352.372768 186.014354 \n",
       "L 352.66311 183.974717 \n",
       "L 352.953451 183.115923 \n",
       "L 353.243793 183.330621 \n",
       "L 353.534134 184.0105 \n",
       "L 353.824476 183.330621 \n",
       "L 354.114817 183.187489 \n",
       "L 354.405159 180.289058 \n",
       "L 354.6955 181.398334 \n",
       "L 354.985841 183.938934 \n",
       "L 355.276183 185.012427 \n",
       "L 355.566524 184.761945 \n",
       "L 355.856866 184.761945 \n",
       "L 356.147207 184.47568 \n",
       "L 356.437549 184.690379 \n",
       "L 356.72789 184.47568 \n",
       "L 357.018232 183.795801 \n",
       "L 357.308573 184.654596 \n",
       "L 357.598915 184.869294 \n",
       "L 357.889256 185.477607 \n",
       "L 358.179598 187.731942 \n",
       "L 358.469939 186.08592 \n",
       "L 358.76028 185.441824 \n",
       "L 359.050622 185.549173 \n",
       "L 359.340963 184.869294 \n",
       "L 359.631305 184.58303 \n",
       "L 359.921646 184.0105 \n",
       "L 360.211988 184.189416 \n",
       "L 360.502329 183.760018 \n",
       "L 361.083012 186.050137 \n",
       "L 361.373354 185.942787 \n",
       "L 361.663695 186.157486 \n",
       "L 361.954037 186.944714 \n",
       "L 362.244378 186.372185 \n",
       "L 362.53472 185.406041 \n",
       "L 362.825061 185.620739 \n",
       "L 363.115402 184.547247 \n",
       "L 363.405744 184.47568 \n",
       "L 363.696085 184.690379 \n",
       "L 363.986427 183.402187 \n",
       "L 364.276768 184.690379 \n",
       "L 364.56711 185.083993 \n",
       "L 364.857451 185.119776 \n",
       "L 365.147793 186.121703 \n",
       "L 365.438134 185.119776 \n",
       "L 366.018817 185.835438 \n",
       "L 366.309159 187.839292 \n",
       "L 366.5995 186.837365 \n",
       "L 367.180183 188.089773 \n",
       "L 367.470524 187.731942 \n",
       "L 367.760866 187.58881 \n",
       "L 368.051207 186.443751 \n",
       "L 368.341549 184.690379 \n",
       "L 368.63189 185.835438 \n",
       "L 368.922232 186.264835 \n",
       "L 369.502915 185.584956 \n",
       "L 369.793256 184.833511 \n",
       "L 370.083598 183.54532 \n",
       "L 370.373939 179.716528 \n",
       "L 370.954622 182.006647 \n",
       "L 371.825646 180.718455 \n",
       "L 372.406329 179.895444 \n",
       "L 372.696671 180.539539 \n",
       "L 372.987012 179.931227 \n",
       "L 373.277354 178.499903 \n",
       "L 373.567695 179.108216 \n",
       "L 374.148378 174.170148 \n",
       "L 374.43872 170.198224 \n",
       "L 374.729061 173.38292 \n",
       "L 375.019402 173.204004 \n",
       "L 375.309744 171.450632 \n",
       "L 375.600085 171.665331 \n",
       "L 375.890427 171.486416 \n",
       "L 376.180768 172.953523 \n",
       "L 376.47111 175.207858 \n",
       "L 376.761451 174.778461 \n",
       "L 377.051793 170.699187 \n",
       "L 377.342134 174.635328 \n",
       "L 377.632476 173.8481 \n",
       "L 377.922817 173.883883 \n",
       "L 378.213159 173.311354 \n",
       "L 378.5035 170.913886 \n",
       "L 378.793841 180.790021 \n",
       "L 379.084183 176.997013 \n",
       "L 379.374524 177.820024 \n",
       "L 379.664866 178.213638 \n",
       "L 379.955207 177.605325 \n",
       "L 380.245549 178.571469 \n",
       "L 380.53589 180.181709 \n",
       "L 380.826232 179.322914 \n",
       "L 381.116573 180.145925 \n",
       "L 381.406915 180.038576 \n",
       "L 381.987598 179.537613 \n",
       "L 382.277939 179.859661 \n",
       "L 382.56828 177.927373 \n",
       "L 383.148963 179.39448 \n",
       "L 383.439305 178.249421 \n",
       "L 383.729646 175.995086 \n",
       "L 384.019988 176.424483 \n",
       "L 384.310329 175.673038 \n",
       "L 384.891012 170.37714 \n",
       "L 385.181354 171.3075 \n",
       "L 385.471695 170.84232 \n",
       "L 385.762037 173.8481 \n",
       "L 386.052378 174.027016 \n",
       "L 386.34272 176.030869 \n",
       "L 386.633061 174.993159 \n",
       "L 387.504085 164.115097 \n",
       "L 387.794427 164.472928 \n",
       "L 388.084768 164.508711 \n",
       "L 388.37511 166.834613 \n",
       "L 388.665451 165.975818 \n",
       "L 389.246134 145.507886 \n",
       "L 389.536476 146.044633 \n",
       "L 389.826817 149.229328 \n",
       "L 390.117159 148.012703 \n",
       "L 390.4075 149.909207 \n",
       "L 390.4075 149.909207 \n",
       "\" clip-path=\"url(#p07947b6771)\" style=\"fill: none; stroke: #777777; stroke-width: 1.5; stroke-linecap: square\"/>\n",
       "   </g>\n",
       "   <g id=\"line2d_68\">\n",
       "    <path d=\"M 33.2875 261.431918 \n",
       "L 47.22389 261.446063 \n",
       "L 62.902329 261.421906 \n",
       "L 82.93589 261.287977 \n",
       "L 84.96828 261.150179 \n",
       "L 88.74272 261.095557 \n",
       "L 89.613744 261.011423 \n",
       "L 94.259207 261.033892 \n",
       "L 94.83989 261.041045 \n",
       "L 95.710915 261.05666 \n",
       "L 96.87228 261.088869 \n",
       "L 97.743305 261.05515 \n",
       "L 104.7115 261.05023 \n",
       "L 105.872866 261.090407 \n",
       "L 106.74389 261.002166 \n",
       "L 108.485939 261.026535 \n",
       "L 109.356963 260.889414 \n",
       "L 110.808671 260.919328 \n",
       "L 111.389354 260.762777 \n",
       "L 111.970037 260.657826 \n",
       "L 112.841061 260.956221 \n",
       "L 113.131402 260.836598 \n",
       "L 114.002427 261.010754 \n",
       "L 114.873451 260.844291 \n",
       "L 116.034817 260.917289 \n",
       "L 116.905841 260.853487 \n",
       "L 117.486524 260.86984 \n",
       "L 119.809256 260.951712 \n",
       "L 120.970622 260.949494 \n",
       "L 122.422329 261.060815 \n",
       "L 124.45472 261.006424 \n",
       "L 126.777451 260.974327 \n",
       "L 135.197354 260.988354 \n",
       "L 136.939402 260.880468 \n",
       "L 138.681451 260.739697 \n",
       "L 138.971793 260.792477 \n",
       "L 140.713841 260.437759 \n",
       "L 141.584866 260.576312 \n",
       "L 141.875207 260.426738 \n",
       "L 143.036573 260.49079 \n",
       "L 143.907598 260.419582 \n",
       "L 145.359305 260.597066 \n",
       "L 146.811012 260.621398 \n",
       "L 148.843402 260.736978 \n",
       "L 149.133744 260.770256 \n",
       "L 149.714427 260.648236 \n",
       "L 151.746817 260.724096 \n",
       "L 152.617841 260.675431 \n",
       "L 154.069549 260.68044 \n",
       "L 156.39228 260.701195 \n",
       "L 162.779793 260.757732 \n",
       "L 163.650817 260.730537 \n",
       "L 172.07072 261.019664 \n",
       "L 173.232085 261.043281 \n",
       "L 176.716183 260.961338 \n",
       "L 180.490622 261.047933 \n",
       "L 182.523012 261.018591 \n",
       "L 183.103695 260.976367 \n",
       "L 183.394037 260.907305 \n",
       "L 184.845744 261.097671 \n",
       "L 186.297451 261.108048 \n",
       "L 193.265646 261.147768 \n",
       "L 194.427012 261.175679 \n",
       "L 196.459402 261.157787 \n",
       "L 198.201451 261.17711 \n",
       "L 200.233841 261.181046 \n",
       "L 202.266232 261.084432 \n",
       "L 206.040671 261.061888 \n",
       "L 206.911695 261.114489 \n",
       "L 210.105451 261.140253 \n",
       "L 223.461159 261.278197 \n",
       "L 261.49589 261.346078 \n",
       "L 271.657841 261.364613 \n",
       "L 350.050037 261.376923 \n",
       "L 361.954037 261.394063 \n",
       "L 390.4075 261.268357 \n",
       "L 390.4075 261.268357 \n",
       "\" clip-path=\"url(#p07947b6771)\" style=\"fill: none; stroke: #fbc15e; stroke-width: 1.5; stroke-linecap: square\"/>\n",
       "   </g>\n",
       "   <g id=\"line2d_69\">\n",
       "    <path d=\"M 33.2875 260.371632 \n",
       "L 34.158524 260.467173 \n",
       "L 34.448866 259.886914 \n",
       "L 34.739207 260.057492 \n",
       "L 35.610232 259.308588 \n",
       "L 35.900573 259.457481 \n",
       "L 36.190915 259.269083 \n",
       "L 37.932963 259.450468 \n",
       "L 38.223305 259.65529 \n",
       "L 38.513646 259.997484 \n",
       "L 38.803988 259.769045 \n",
       "L 39.384671 259.949857 \n",
       "L 39.675012 259.798995 \n",
       "L 40.255695 259.817066 \n",
       "L 40.836378 259.576782 \n",
       "L 41.12672 259.564544 \n",
       "L 41.707402 259.666276 \n",
       "L 41.997744 259.571737 \n",
       "L 42.578427 259.718949 \n",
       "L 43.739793 260.046829 \n",
       "L 44.320476 259.901478 \n",
       "L 45.1915 259.888525 \n",
       "L 46.062524 259.925489 \n",
       "L 46.643207 260.027864 \n",
       "L 47.22389 259.99158 \n",
       "L 47.514232 260.140295 \n",
       "L 49.546622 259.961093 \n",
       "L 51.579012 260.084151 \n",
       "L 52.159695 259.953578 \n",
       "L 53.03072 259.931142 \n",
       "L 53.321061 259.797993 \n",
       "L 53.901744 259.921839 \n",
       "L 54.482427 260.019348 \n",
       "L 55.06311 259.970468 \n",
       "L 55.643793 260.036631 \n",
       "L 56.224476 259.969824 \n",
       "L 56.514817 259.841112 \n",
       "L 56.805159 259.965816 \n",
       "L 57.676183 259.898186 \n",
       "L 60.289256 259.778814 \n",
       "L 60.869939 259.411786 \n",
       "L 61.16028 259.50425 \n",
       "L 61.450622 259.366378 \n",
       "L 62.031305 259.58376 \n",
       "L 62.321646 259.760099 \n",
       "L 62.902329 259.729719 \n",
       "L 63.483012 259.556958 \n",
       "L 63.773354 259.662912 \n",
       "L 64.063695 259.525541 \n",
       "L 64.354037 259.548728 \n",
       "L 64.644378 259.691753 \n",
       "L 65.225061 259.64638 \n",
       "L 67.257451 259.729075 \n",
       "L 67.547793 259.728646 \n",
       "L 68.128476 259.561252 \n",
       "L 69.289841 259.624911 \n",
       "L 69.580183 259.7382 \n",
       "L 69.870524 259.63629 \n",
       "L 70.160866 259.793771 \n",
       "L 70.741549 259.616645 \n",
       "L 71.322232 259.639689 \n",
       "L 71.902915 258.782791 \n",
       "L 72.193256 258.894434 \n",
       "L 72.483598 258.166714 \n",
       "L 72.773939 258.518927 \n",
       "L 73.354622 257.85583 \n",
       "L 73.644963 258.077005 \n",
       "L 74.225646 257.878302 \n",
       "L 74.806329 258.153152 \n",
       "L 75.096671 257.997281 \n",
       "L 75.387012 258.156265 \n",
       "L 75.677354 258.521968 \n",
       "L 75.967695 258.50812 \n",
       "L 76.548378 256.297118 \n",
       "L 76.83872 256.769026 \n",
       "L 77.129061 255.043779 \n",
       "L 77.709744 255.544564 \n",
       "L 78.000085 255.614878 \n",
       "L 78.290427 255.046821 \n",
       "L 78.580768 255.762125 \n",
       "L 79.161451 254.77351 \n",
       "L 79.742134 255.323711 \n",
       "L 80.032476 255.361533 \n",
       "L 80.322817 255.959576 \n",
       "L 80.613159 255.446339 \n",
       "L 81.193841 255.564209 \n",
       "L 81.484183 255.715249 \n",
       "L 81.774524 255.598704 \n",
       "L 82.064866 255.334624 \n",
       "L 82.355207 254.018773 \n",
       "L 82.645549 254.443196 \n",
       "L 82.93589 254.023711 \n",
       "L 83.516573 254.419293 \n",
       "L 83.806915 253.256056 \n",
       "L 84.097256 253.220523 \n",
       "L 84.387598 253.042502 \n",
       "L 84.677939 252.527118 \n",
       "L 84.96828 251.227083 \n",
       "L 85.548963 251.865131 \n",
       "L 85.839305 251.532456 \n",
       "L 86.419988 250.035255 \n",
       "L 86.710329 250.348786 \n",
       "L 87.291012 247.546254 \n",
       "L 87.581354 247.315704 \n",
       "L 87.871695 248.021346 \n",
       "L 88.162037 249.12411 \n",
       "L 88.452378 249.443617 \n",
       "L 88.74272 250.30438 \n",
       "L 89.033061 250.232062 \n",
       "L 89.323402 249.508778 \n",
       "L 89.613744 249.386221 \n",
       "L 89.904085 248.732356 \n",
       "L 90.194427 248.549147 \n",
       "L 90.484768 248.205916 \n",
       "L 91.065451 249.450845 \n",
       "L 91.355793 249.54381 \n",
       "L 91.646134 248.92283 \n",
       "L 91.936476 248.966235 \n",
       "L 92.226817 247.815987 \n",
       "L 93.097841 248.615059 \n",
       "L 93.388183 248.190421 \n",
       "L 93.678524 248.440581 \n",
       "L 93.968866 249.20863 \n",
       "L 94.549549 248.561922 \n",
       "L 94.83989 248.835197 \n",
       "L 95.130232 247.821247 \n",
       "L 96.291598 249.236862 \n",
       "L 96.581939 250.666934 \n",
       "L 96.87228 250.815434 \n",
       "L 97.162622 249.60872 \n",
       "L 97.743305 249.946906 \n",
       "L 98.033646 249.192885 \n",
       "L 98.323988 249.322599 \n",
       "L 98.614329 248.213788 \n",
       "L 98.904671 248.076202 \n",
       "L 99.195012 246.800141 \n",
       "L 99.485354 246.673791 \n",
       "L 99.775695 245.624165 \n",
       "L 100.066037 245.092142 \n",
       "L 100.356378 245.968935 \n",
       "L 100.64672 247.346119 \n",
       "L 100.937061 246.690322 \n",
       "L 101.227402 246.878363 \n",
       "L 101.517744 246.599863 \n",
       "L 101.808085 246.695475 \n",
       "L 102.098427 247.003067 \n",
       "L 102.388768 246.119188 \n",
       "L 102.67911 246.266973 \n",
       "L 102.969451 245.939665 \n",
       "L 103.259793 246.670355 \n",
       "L 103.550134 246.43136 \n",
       "L 103.840476 248.111269 \n",
       "L 104.130817 249.050826 \n",
       "L 104.421159 248.808932 \n",
       "L 104.7115 249.387903 \n",
       "L 105.292183 249.947193 \n",
       "L 105.582524 251.117085 \n",
       "L 105.872866 250.80681 \n",
       "L 106.163207 249.529353 \n",
       "L 106.453549 249.012288 \n",
       "L 106.74389 249.324674 \n",
       "L 107.034232 248.606507 \n",
       "L 107.614915 248.274082 \n",
       "L 107.905256 248.374991 \n",
       "L 108.195598 248.151704 \n",
       "L 108.485939 249.03662 \n",
       "L 108.77628 247.016664 \n",
       "L 109.066622 246.599433 \n",
       "L 109.356963 247.216334 \n",
       "L 109.647305 247.20381 \n",
       "L 109.937646 247.06032 \n",
       "L 110.227988 248.424371 \n",
       "L 110.518329 247.655393 \n",
       "L 110.808671 248.911021 \n",
       "L 111.099012 247.171963 \n",
       "L 111.389354 244.312535 \n",
       "L 111.679695 245.864091 \n",
       "L 111.970037 246.295993 \n",
       "L 112.260378 247.635354 \n",
       "L 112.55072 246.954759 \n",
       "L 112.841061 252.519389 \n",
       "L 113.131402 251.118839 \n",
       "L 113.421744 252.75019 \n",
       "L 113.712085 253.58823 \n",
       "L 114.002427 255.07144 \n",
       "L 114.292768 253.157402 \n",
       "L 114.58311 253.551374 \n",
       "L 114.873451 252.70403 \n",
       "L 115.163793 252.899406 \n",
       "L 115.454134 253.841217 \n",
       "L 115.744476 254.371522 \n",
       "L 116.034817 254.157897 \n",
       "L 116.325159 253.156328 \n",
       "L 116.6155 253.308049 \n",
       "L 116.905841 252.207361 \n",
       "L 117.196183 251.81804 \n",
       "L 117.776866 252.974908 \n",
       "L 118.067207 252.827124 \n",
       "L 118.357549 253.720986 \n",
       "L 118.64789 253.733868 \n",
       "L 118.938232 253.17422 \n",
       "L 119.228573 253.364228 \n",
       "L 119.518915 253.984349 \n",
       "L 119.809256 254.058778 \n",
       "L 120.099598 253.594313 \n",
       "L 120.389939 252.228115 \n",
       "L 120.68028 252.913719 \n",
       "L 121.841646 254.24485 \n",
       "L 122.131988 254.103507 \n",
       "L 122.422329 255.860457 \n",
       "L 122.712671 256.225087 \n",
       "L 123.003012 255.830041 \n",
       "L 123.293354 255.675816 \n",
       "L 123.583695 256.32027 \n",
       "L 123.874037 256.288423 \n",
       "L 125.035402 255.611765 \n",
       "L 125.325744 256.051181 \n",
       "L 125.906427 255.927371 \n",
       "L 126.196768 255.764558 \n",
       "L 126.48711 256.031858 \n",
       "L 127.067793 255.44752 \n",
       "L 127.358134 256.000011 \n",
       "L 127.648476 255.869761 \n",
       "L 127.938817 256.014682 \n",
       "L 128.229159 255.936317 \n",
       "L 129.680866 257.177633 \n",
       "L 130.261549 256.95542 \n",
       "L 130.55189 257.380165 \n",
       "L 130.842232 257.559796 \n",
       "L 131.422915 256.774715 \n",
       "L 133.164963 256.275899 \n",
       "L 134.035988 255.475073 \n",
       "L 134.326329 254.890377 \n",
       "L 134.907012 255.245703 \n",
       "L 135.197354 254.628445 \n",
       "L 135.487695 254.637749 \n",
       "L 135.778037 254.175431 \n",
       "L 136.068378 253.979697 \n",
       "L 136.35872 254.449529 \n",
       "L 136.649061 254.121756 \n",
       "L 136.939402 254.103865 \n",
       "L 137.229744 253.84229 \n",
       "L 137.520085 254.054126 \n",
       "L 137.810427 253.349915 \n",
       "L 138.39111 253.197121 \n",
       "L 138.681451 252.738382 \n",
       "L 138.971793 253.055778 \n",
       "L 139.262134 252.940198 \n",
       "L 139.552476 251.969045 \n",
       "L 139.842817 251.408324 \n",
       "L 140.4235 251.574358 \n",
       "L 140.713841 251.505654 \n",
       "L 141.004183 252.511159 \n",
       "L 141.294524 252.183744 \n",
       "L 141.584866 252.921591 \n",
       "L 141.875207 251.987652 \n",
       "L 142.45589 252.284652 \n",
       "L 142.746232 252.166568 \n",
       "L 143.036573 250.262907 \n",
       "L 143.326915 249.608076 \n",
       "L 143.617256 250.105461 \n",
       "L 143.907598 249.468522 \n",
       "L 144.197939 249.887184 \n",
       "L 144.48828 249.164366 \n",
       "L 144.778622 249.189414 \n",
       "L 145.068963 251.472376 \n",
       "L 145.359305 251.54752 \n",
       "L 145.649646 250.810388 \n",
       "L 145.939988 251.035822 \n",
       "L 146.230329 250.184184 \n",
       "L 146.520671 248.674137 \n",
       "L 146.811012 249.014077 \n",
       "L 147.101354 248.112343 \n",
       "L 147.682037 248.777908 \n",
       "L 147.972378 249.661751 \n",
       "L 148.26272 249.003342 \n",
       "L 148.553061 249.368329 \n",
       "L 148.843402 251.350713 \n",
       "L 149.133744 252.037749 \n",
       "L 149.424085 250.173449 \n",
       "L 149.714427 249.525775 \n",
       "L 150.004768 250.463292 \n",
       "L 150.875793 251.565412 \n",
       "L 151.166134 252.066375 \n",
       "L 151.746817 251.239786 \n",
       "L 152.037159 250.051787 \n",
       "L 152.617841 249.990955 \n",
       "L 152.908183 250.334473 \n",
       "L 153.198524 250.248594 \n",
       "L 153.488866 249.962329 \n",
       "L 153.779207 249.321811 \n",
       "L 154.069549 249.547245 \n",
       "L 154.35989 248.480909 \n",
       "L 154.650232 249.160788 \n",
       "L 154.940573 249.268137 \n",
       "L 155.230915 248.895993 \n",
       "L 155.521256 246.562935 \n",
       "L 155.811598 246.913609 \n",
       "L 156.101939 245.993983 \n",
       "L 156.39228 246.541465 \n",
       "L 156.682622 246.409067 \n",
       "L 156.972963 246.749007 \n",
       "L 157.263305 246.688175 \n",
       "L 157.553646 245.586056 \n",
       "L 157.843988 246.151429 \n",
       "L 158.424671 245.754237 \n",
       "L 158.715012 246.341079 \n",
       "L 159.005354 245.539538 \n",
       "L 159.295695 245.403562 \n",
       "L 159.586037 247.010223 \n",
       "L 159.876378 246.516417 \n",
       "L 160.16672 245.664779 \n",
       "L 160.457061 246.19079 \n",
       "L 160.747402 246.176477 \n",
       "L 161.037744 243.596516 \n",
       "L 161.618427 242.394204 \n",
       "L 161.908768 242.222445 \n",
       "L 162.19911 242.959577 \n",
       "L 162.779793 242.794974 \n",
       "L 163.070134 242.387047 \n",
       "L 163.360476 243.310251 \n",
       "L 163.650817 244.755888 \n",
       "L 163.941159 244.505406 \n",
       "L 164.2315 245.056466 \n",
       "L 164.521841 244.637804 \n",
       "L 164.812183 244.881129 \n",
       "L 165.102524 245.460815 \n",
       "L 165.392866 246.867091 \n",
       "L 165.683207 246.183634 \n",
       "L 165.973549 247.514765 \n",
       "L 166.26389 246.723959 \n",
       "L 166.554232 246.416224 \n",
       "L 166.844573 246.473477 \n",
       "L 167.134915 247.350163 \n",
       "L 167.425256 246.888561 \n",
       "L 167.715598 247.783138 \n",
       "L 168.005939 247.357319 \n",
       "L 168.29628 249.114269 \n",
       "L 168.876963 248.684872 \n",
       "L 169.457646 247.901222 \n",
       "L 170.038329 248.688451 \n",
       "L 170.328671 249.422004 \n",
       "L 170.619012 250.967834 \n",
       "L 170.909354 251.350713 \n",
       "L 171.199695 251.415123 \n",
       "L 171.490037 250.567063 \n",
       "L 171.780378 250.803232 \n",
       "L 172.07072 251.855255 \n",
       "L 172.361061 252.019857 \n",
       "L 172.941744 250.910581 \n",
       "L 173.232085 252.191616 \n",
       "L 173.522427 252.123628 \n",
       "L 173.812768 251.769375 \n",
       "L 174.393451 252.663953 \n",
       "L 174.683793 252.359797 \n",
       "L 175.264476 252.867917 \n",
       "L 175.554817 252.477881 \n",
       "L 176.1355 251.046557 \n",
       "L 176.425841 251.411544 \n",
       "L 176.716183 251.161063 \n",
       "L 177.006524 250.273642 \n",
       "L 177.296866 250.398883 \n",
       "L 177.587207 251.522472 \n",
       "L 177.877549 251.883881 \n",
       "L 178.16789 251.626243 \n",
       "L 178.458232 251.941134 \n",
       "L 178.748573 251.246942 \n",
       "L 179.038915 250.856906 \n",
       "L 179.329256 250.706617 \n",
       "L 179.909939 251.919664 \n",
       "L 180.20028 251.919664 \n",
       "L 180.490622 252.570917 \n",
       "L 180.780963 252.896543 \n",
       "L 181.071305 252.667531 \n",
       "L 181.361646 252.993157 \n",
       "L 181.942329 251.704966 \n",
       "L 182.232671 252.252447 \n",
       "L 182.523012 251.551098 \n",
       "L 183.103695 251.56899 \n",
       "L 183.394037 252.28823 \n",
       "L 183.684378 252.481459 \n",
       "L 184.265061 253.247217 \n",
       "L 184.555402 254.442373 \n",
       "L 184.845744 254.943336 \n",
       "L 185.136085 254.750108 \n",
       "L 185.426427 255.032794 \n",
       "L 185.716768 254.929023 \n",
       "L 186.297451 254.997011 \n",
       "L 186.878134 254.775156 \n",
       "L 187.168476 254.986276 \n",
       "L 187.458817 254.549722 \n",
       "L 187.749159 254.478156 \n",
       "L 188.0395 254.767999 \n",
       "L 188.329841 254.710746 \n",
       "L 188.620183 254.15253 \n",
       "L 189.200866 253.640831 \n",
       "L 189.491207 253.483386 \n",
       "L 189.781549 253.730289 \n",
       "L 190.07189 253.630097 \n",
       "L 190.652573 254.689276 \n",
       "L 191.523598 254.789469 \n",
       "L 191.813939 254.267036 \n",
       "L 192.10428 254.410168 \n",
       "L 192.394622 254.982698 \n",
       "L 192.684963 255.10436 \n",
       "L 192.975305 255.097204 \n",
       "L 193.555988 255.691203 \n",
       "L 193.846329 255.540914 \n",
       "L 194.136671 255.766348 \n",
       "L 194.427012 255.69836 \n",
       "L 195.007695 255.029216 \n",
       "L 195.298037 255.218866 \n",
       "L 195.588378 254.703589 \n",
       "L 196.169061 254.821674 \n",
       "L 196.459402 255.032794 \n",
       "L 196.749744 255.472926 \n",
       "L 197.040085 255.279697 \n",
       "L 197.620768 255.608902 \n",
       "L 198.201451 255.090047 \n",
       "L 198.491793 255.412095 \n",
       "L 199.072476 254.989854 \n",
       "L 199.362817 255.319059 \n",
       "L 199.653159 255.1473 \n",
       "L 199.9435 255.107938 \n",
       "L 200.233841 254.664228 \n",
       "L 200.524183 254.771577 \n",
       "L 201.104866 254.538987 \n",
       "L 201.395207 254.80736 \n",
       "L 201.685549 254.775156 \n",
       "L 201.97589 254.249144 \n",
       "L 202.266232 253.959301 \n",
       "L 202.556573 253.873422 \n",
       "L 202.846915 254.134638 \n",
       "L 203.137256 253.998662 \n",
       "L 203.427598 253.444024 \n",
       "L 203.717939 253.612205 \n",
       "L 204.00828 253.458338 \n",
       "L 204.298622 253.447603 \n",
       "L 204.588963 253.848373 \n",
       "L 205.459988 253.175651 \n",
       "L 205.750329 253.290157 \n",
       "L 206.040671 253.687349 \n",
       "L 206.331012 254.377963 \n",
       "L 206.621354 254.181156 \n",
       "L 206.911695 254.528252 \n",
       "L 207.202037 254.413746 \n",
       "L 207.492378 254.603397 \n",
       "L 207.78272 255.326215 \n",
       "L 208.363402 254.968384 \n",
       "L 208.653744 255.072155 \n",
       "L 209.234427 254.821674 \n",
       "L 209.524768 255.132987 \n",
       "L 210.395793 254.649915 \n",
       "L 210.686134 254.975541 \n",
       "L 211.557159 254.979119 \n",
       "L 211.8475 255.004168 \n",
       "L 212.137841 255.512288 \n",
       "L 212.718524 255.40136 \n",
       "L 213.008866 255.687625 \n",
       "L 213.299207 256.292359 \n",
       "L 213.589549 255.984624 \n",
       "L 214.170232 256.213636 \n",
       "L 214.460573 255.63395 \n",
       "L 214.750915 256.263733 \n",
       "L 215.331598 256.560732 \n",
       "L 215.621939 256.739648 \n",
       "L 215.91228 257.680743 \n",
       "L 216.202622 257.415948 \n",
       "L 216.492963 258.228225 \n",
       "L 216.783305 258.3642 \n",
       "L 217.073646 257.737996 \n",
       "L 217.654329 257.254924 \n",
       "L 217.944671 257.677165 \n",
       "L 218.235012 257.530454 \n",
       "L 218.525354 258.085092 \n",
       "L 218.815695 257.891864 \n",
       "L 219.106037 258.020683 \n",
       "L 219.68672 257.845346 \n",
       "L 219.977061 257.945538 \n",
       "L 220.267402 257.834611 \n",
       "L 220.557744 257.949117 \n",
       "L 220.848085 258.210333 \n",
       "L 221.138427 258.21749 \n",
       "L 222.009451 257.734418 \n",
       "L 222.299793 257.777358 \n",
       "L 222.590134 258.095827 \n",
       "L 222.880476 257.94196 \n",
       "L 223.170817 258.128032 \n",
       "L 224.041841 258.077936 \n",
       "L 224.622524 258.256851 \n",
       "L 224.912866 258.17455 \n",
       "L 226.074232 258.961778 \n",
       "L 226.364573 258.847272 \n",
       "L 226.654915 258.442923 \n",
       "L 226.945256 258.929573 \n",
       "L 227.235598 258.875899 \n",
       "L 227.525939 258.9582 \n",
       "L 228.106622 258.664778 \n",
       "L 228.977646 258.696983 \n",
       "L 229.267988 258.553851 \n",
       "L 230.139012 258.711297 \n",
       "L 230.719695 258.965357 \n",
       "L 231.010037 258.954622 \n",
       "L 231.300378 259.065549 \n",
       "L 233.62311 258.886634 \n",
       "L 234.494134 259.23373 \n",
       "L 236.526524 258.693405 \n",
       "L 236.816866 258.807911 \n",
       "L 237.397549 258.87232 \n",
       "L 237.978232 258.832959 \n",
       "L 238.268573 259.061971 \n",
       "L 238.558915 259.054814 \n",
       "L 238.849256 258.732766 \n",
       "L 240.010622 258.396405 \n",
       "L 240.591305 258.643309 \n",
       "L 241.171988 258.582477 \n",
       "L 241.462329 258.331996 \n",
       "L 241.752671 258.432188 \n",
       "L 242.043012 258.38567 \n",
       "L 242.333354 258.163815 \n",
       "L 242.623695 258.299791 \n",
       "L 242.914037 258.074357 \n",
       "L 243.204378 258.188863 \n",
       "L 243.49472 258.088671 \n",
       "L 244.946427 258.485863 \n",
       "L 245.236768 258.589634 \n",
       "L 245.52711 258.865164 \n",
       "L 246.107793 258.818646 \n",
       "L 247.269159 258.768549 \n",
       "L 247.5595 259.00114 \n",
       "L 248.430524 258.879477 \n",
       "L 249.011207 258.965357 \n",
       "L 250.172573 258.843694 \n",
       "L 250.462915 258.847272 \n",
       "L 250.753256 259.022609 \n",
       "L 251.62428 258.707718 \n",
       "L 252.495305 258.739923 \n",
       "L 252.785646 258.954622 \n",
       "L 253.075988 258.900947 \n",
       "L 253.656671 259.011875 \n",
       "L 253.947012 258.954622 \n",
       "L 254.237354 259.176477 \n",
       "L 256.269744 259.262356 \n",
       "L 256.560085 259.133537 \n",
       "L 257.140768 259.197947 \n",
       "L 258.011793 259.237308 \n",
       "L 258.302134 259.280248 \n",
       "L 258.882817 259.155007 \n",
       "L 262.076573 259.316031 \n",
       "L 262.947598 259.276669 \n",
       "L 264.689646 259.362549 \n",
       "L 264.979988 259.180055 \n",
       "L 267.012378 259.16932 \n",
       "L 267.30272 259.244465 \n",
       "L 267.593061 259.187212 \n",
       "L 267.883402 258.9582 \n",
       "L 268.754427 258.933152 \n",
       "L 269.33511 259.545043 \n",
       "L 269.625451 259.344657 \n",
       "L 270.206134 259.416224 \n",
       "L 272.528866 259.584404 \n",
       "L 273.109549 259.591561 \n",
       "L 273.690232 259.552199 \n",
       "L 274.851598 259.645235 \n",
       "L 276.012963 259.469898 \n",
       "L 276.883988 259.519995 \n",
       "L 278.335695 259.595139 \n",
       "L 279.20672 259.591561 \n",
       "L 279.787402 259.609452 \n",
       "L 280.077744 259.816279 \n",
       "L 280.658427 259.814489 \n",
       "L 281.23911 259.833097 \n",
       "L 282.110134 259.88033 \n",
       "L 285.30389 259.861365 \n",
       "L 287.045939 259.732188 \n",
       "L 287.916963 259.608737 \n",
       "L 288.207305 259.548263 \n",
       "L 288.497646 259.324619 \n",
       "L 289.949354 259.404773 \n",
       "L 290.239695 259.245538 \n",
       "L 290.820378 259.259851 \n",
       "L 291.11072 259.133537 \n",
       "L 291.401061 259.265577 \n",
       "L 292.272085 259.124591 \n",
       "L 292.562427 259.191864 \n",
       "L 292.852768 259.115288 \n",
       "L 293.14311 259.265935 \n",
       "L 294.014134 259.13962 \n",
       "L 294.304476 258.973229 \n",
       "L 295.1755 259.157154 \n",
       "L 295.465841 258.997203 \n",
       "L 295.756183 259.063044 \n",
       "L 296.046524 259.249832 \n",
       "L 297.498232 259.252695 \n",
       "L 297.788573 259.11493 \n",
       "L 298.078915 259.216912 \n",
       "L 298.369256 258.874467 \n",
       "L 298.949939 258.819361 \n",
       "L 299.24028 258.778927 \n",
       "L 299.820963 258.909535 \n",
       "L 300.111305 258.942813 \n",
       "L 300.401646 259.114214 \n",
       "L 303.885744 259.476697 \n",
       "L 304.176085 259.553988 \n",
       "L 305.627793 259.254126 \n",
       "L 305.918134 259.379009 \n",
       "L 307.0795 259.172541 \n",
       "L 307.369841 259.301002 \n",
       "L 307.660183 259.20403 \n",
       "L 307.950524 259.314957 \n",
       "L 308.240866 259.219059 \n",
       "L 308.821549 259.367916 \n",
       "L 309.982915 259.268439 \n",
       "L 310.563598 259.211186 \n",
       "L 314.338037 259.107058 \n",
       "L 315.209061 259.03907 \n",
       "L 315.499402 259.084872 \n",
       "L 315.789744 259.006865 \n",
       "L 316.080085 259.223353 \n",
       "L 316.95111 259.352172 \n",
       "L 318.693159 259.352887 \n",
       "L 319.273841 259.377936 \n",
       "L 319.854524 259.43662 \n",
       "L 320.725549 259.388671 \n",
       "L 321.596573 259.559714 \n",
       "L 323.919305 259.585835 \n",
       "L 324.790329 259.55864 \n",
       "L 326.242037 259.60158 \n",
       "L 330.8875 259.698194 \n",
       "L 331.177841 259.864586 \n",
       "L 334.661939 259.754374 \n",
       "L 334.95228 259.656686 \n",
       "L 335.823305 259.683165 \n",
       "L 338.146037 259.567228 \n",
       "L 339.017061 259.649172 \n",
       "L 340.468768 259.639152 \n",
       "L 340.75911 259.496736 \n",
       "L 342.501159 259.622692 \n",
       "L 343.081841 259.518205 \n",
       "L 343.952866 259.616967 \n",
       "L 348.017646 259.702131 \n",
       "L 348.888671 259.689606 \n",
       "L 350.340378 259.756879 \n",
       "L 351.501744 259.864586 \n",
       "L 354.985841 259.952612 \n",
       "L 356.437549 259.957622 \n",
       "L 357.889256 259.996268 \n",
       "L 358.469939 260.054594 \n",
       "L 366.018817 260.04529 \n",
       "L 367.180183 260.165522 \n",
       "L 368.922232 260.173394 \n",
       "L 369.793256 260.082147 \n",
       "L 370.083598 260.061393 \n",
       "L 370.373939 259.921839 \n",
       "L 370.954622 259.945456 \n",
       "L 372.115988 259.936868 \n",
       "L 372.987012 259.789441 \n",
       "L 373.858037 259.805901 \n",
       "L 375.890427 259.492442 \n",
       "L 376.180768 259.438051 \n",
       "L 376.761451 259.621261 \n",
       "L 377.051793 259.489937 \n",
       "L 377.632476 259.604443 \n",
       "L 378.5035 259.583688 \n",
       "L 378.793841 259.742565 \n",
       "L 379.084183 259.629491 \n",
       "L 380.53589 259.635932 \n",
       "L 381.987598 259.490652 \n",
       "L 382.56828 259.465604 \n",
       "L 384.310329 258.851566 \n",
       "L 384.600671 259.08022 \n",
       "L 385.181354 258.760319 \n",
       "L 385.471695 258.794671 \n",
       "L 385.762037 258.993625 \n",
       "L 386.052378 258.943171 \n",
       "L 386.34272 259.053383 \n",
       "L 387.213744 258.993625 \n",
       "L 387.504085 258.467971 \n",
       "L 387.794427 258.634721 \n",
       "L 388.665451 258.192084 \n",
       "L 389.246134 258.369926 \n",
       "L 389.826817 258.514132 \n",
       "L 390.4075 258.545979 \n",
       "L 390.4075 258.545979 \n",
       "\" clip-path=\"url(#p07947b6771)\" style=\"fill: none; stroke: #8eba42; stroke-width: 1.5; stroke-linecap: square\"/>\n",
       "   </g>\n",
       "   <g id=\"patch_3\">\n",
       "    <path d=\"M 33.2875 273.549488 \n",
       "L 33.2875 7.437488 \n",
       "\" style=\"fill: none; stroke: #ffffff; stroke-linejoin: miter; stroke-linecap: square\"/>\n",
       "   </g>\n",
       "   <g id=\"patch_4\">\n",
       "    <path d=\"M 390.4075 273.549488 \n",
       "L 390.4075 7.437488 \n",
       "\" style=\"fill: none; stroke: #ffffff; stroke-linejoin: miter; stroke-linecap: square\"/>\n",
       "   </g>\n",
       "   <g id=\"patch_5\">\n",
       "    <path d=\"M 33.2875 273.549488 \n",
       "L 390.4075 273.549488 \n",
       "\" style=\"fill: none; stroke: #ffffff; stroke-linejoin: miter; stroke-linecap: square\"/>\n",
       "   </g>\n",
       "   <g id=\"patch_6\">\n",
       "    <path d=\"M 33.2875 7.437488 \n",
       "L 390.4075 7.437488 \n",
       "\" style=\"fill: none; stroke: #ffffff; stroke-linejoin: miter; stroke-linecap: square\"/>\n",
       "   </g>\n",
       "   <g id=\"legend_1\">\n",
       "    <g id=\"patch_7\">\n",
       "     <path d=\"M 298.08875 105.174988 \n",
       "L 383.4075 105.174988 \n",
       "Q 385.4075 105.174988 385.4075 103.174988 \n",
       "L 385.4075 14.437488 \n",
       "Q 385.4075 12.437488 383.4075 12.437488 \n",
       "L 298.08875 12.437488 \n",
       "Q 296.08875 12.437488 296.08875 14.437488 \n",
       "L 296.08875 103.174988 \n",
       "Q 296.08875 105.174988 298.08875 105.174988 \n",
       "z\n",
       "\" style=\"fill: #e5e5e5; opacity: 0.8; stroke: #cccccc; stroke-width: 0.5; stroke-linejoin: miter\"/>\n",
       "    </g>\n",
       "    <g id=\"line2d_70\">\n",
       "     <path d=\"M 300.08875 20.535925 \n",
       "L 310.08875 20.535925 \n",
       "L 320.08875 20.535925 \n",
       "\" style=\"fill: none; stroke: #e24a33; stroke-width: 1.5; stroke-linecap: square\"/>\n",
       "    </g>\n",
       "    <g id=\"text_16\">\n",
       "     <!-- LINK_close -->\n",
       "     <g transform=\"translate(328.08875 24.035925) scale(0.1 -0.1)\">\n",
       "      <defs>\n",
       "       <path id=\"DejaVuSans-4c\" d=\"M 628 4666 \n",
       "L 1259 4666 \n",
       "L 1259 531 \n",
       "L 3531 531 \n",
       "L 3531 0 \n",
       "L 628 0 \n",
       "L 628 4666 \n",
       "z\n",
       "\" transform=\"scale(0.015625)\"/>\n",
       "       <path id=\"DejaVuSans-49\" d=\"M 628 4666 \n",
       "L 1259 4666 \n",
       "L 1259 0 \n",
       "L 628 0 \n",
       "L 628 4666 \n",
       "z\n",
       "\" transform=\"scale(0.015625)\"/>\n",
       "       <path id=\"DejaVuSans-4e\" d=\"M 628 4666 \n",
       "L 1478 4666 \n",
       "L 3547 763 \n",
       "L 3547 4666 \n",
       "L 4159 4666 \n",
       "L 4159 0 \n",
       "L 3309 0 \n",
       "L 1241 3903 \n",
       "L 1241 0 \n",
       "L 628 0 \n",
       "L 628 4666 \n",
       "z\n",
       "\" transform=\"scale(0.015625)\"/>\n",
       "       <path id=\"DejaVuSans-4b\" d=\"M 628 4666 \n",
       "L 1259 4666 \n",
       "L 1259 2694 \n",
       "L 3353 4666 \n",
       "L 4166 4666 \n",
       "L 1850 2491 \n",
       "L 4331 0 \n",
       "L 3500 0 \n",
       "L 1259 2247 \n",
       "L 1259 0 \n",
       "L 628 0 \n",
       "L 628 4666 \n",
       "z\n",
       "\" transform=\"scale(0.015625)\"/>\n",
       "       <path id=\"DejaVuSans-5f\" d=\"M 3263 -1063 \n",
       "L 3263 -1509 \n",
       "L -63 -1509 \n",
       "L -63 -1063 \n",
       "L 3263 -1063 \n",
       "z\n",
       "\" transform=\"scale(0.015625)\"/>\n",
       "       <path id=\"DejaVuSans-63\" d=\"M 3122 3366 \n",
       "L 3122 2828 \n",
       "Q 2878 2963 2633 3030 \n",
       "Q 2388 3097 2138 3097 \n",
       "Q 1578 3097 1268 2742 \n",
       "Q 959 2388 959 1747 \n",
       "Q 959 1106 1268 751 \n",
       "Q 1578 397 2138 397 \n",
       "Q 2388 397 2633 464 \n",
       "Q 2878 531 3122 666 \n",
       "L 3122 134 \n",
       "Q 2881 22 2623 -34 \n",
       "Q 2366 -91 2075 -91 \n",
       "Q 1284 -91 818 406 \n",
       "Q 353 903 353 1747 \n",
       "Q 353 2603 823 3093 \n",
       "Q 1294 3584 2113 3584 \n",
       "Q 2378 3584 2631 3529 \n",
       "Q 2884 3475 3122 3366 \n",
       "z\n",
       "\" transform=\"scale(0.015625)\"/>\n",
       "       <path id=\"DejaVuSans-6f\" d=\"M 1959 3097 \n",
       "Q 1497 3097 1228 2736 \n",
       "Q 959 2375 959 1747 \n",
       "Q 959 1119 1226 758 \n",
       "Q 1494 397 1959 397 \n",
       "Q 2419 397 2687 759 \n",
       "Q 2956 1122 2956 1747 \n",
       "Q 2956 2369 2687 2733 \n",
       "Q 2419 3097 1959 3097 \n",
       "z\n",
       "M 1959 3584 \n",
       "Q 2709 3584 3137 3096 \n",
       "Q 3566 2609 3566 1747 \n",
       "Q 3566 888 3137 398 \n",
       "Q 2709 -91 1959 -91 \n",
       "Q 1206 -91 779 398 \n",
       "Q 353 888 353 1747 \n",
       "Q 353 2609 779 3096 \n",
       "Q 1206 3584 1959 3584 \n",
       "z\n",
       "\" transform=\"scale(0.015625)\"/>\n",
       "       <path id=\"DejaVuSans-73\" d=\"M 2834 3397 \n",
       "L 2834 2853 \n",
       "Q 2591 2978 2328 3040 \n",
       "Q 2066 3103 1784 3103 \n",
       "Q 1356 3103 1142 2972 \n",
       "Q 928 2841 928 2578 \n",
       "Q 928 2378 1081 2264 \n",
       "Q 1234 2150 1697 2047 \n",
       "L 1894 2003 \n",
       "Q 2506 1872 2764 1633 \n",
       "Q 3022 1394 3022 966 \n",
       "Q 3022 478 2636 193 \n",
       "Q 2250 -91 1575 -91 \n",
       "Q 1294 -91 989 -36 \n",
       "Q 684 19 347 128 \n",
       "L 347 722 \n",
       "Q 666 556 975 473 \n",
       "Q 1284 391 1588 391 \n",
       "Q 1994 391 2212 530 \n",
       "Q 2431 669 2431 922 \n",
       "Q 2431 1156 2273 1281 \n",
       "Q 2116 1406 1581 1522 \n",
       "L 1381 1569 \n",
       "Q 847 1681 609 1914 \n",
       "Q 372 2147 372 2553 \n",
       "Q 372 3047 722 3315 \n",
       "Q 1072 3584 1716 3584 \n",
       "Q 2034 3584 2315 3537 \n",
       "Q 2597 3491 2834 3397 \n",
       "z\n",
       "\" transform=\"scale(0.015625)\"/>\n",
       "      </defs>\n",
       "      <use xlink:href=\"#DejaVuSans-4c\"/>\n",
       "      <use xlink:href=\"#DejaVuSans-49\" transform=\"translate(55.712891 0)\"/>\n",
       "      <use xlink:href=\"#DejaVuSans-4e\" transform=\"translate(85.205078 0)\"/>\n",
       "      <use xlink:href=\"#DejaVuSans-4b\" transform=\"translate(160.009766 0)\"/>\n",
       "      <use xlink:href=\"#DejaVuSans-5f\" transform=\"translate(225.585938 0)\"/>\n",
       "      <use xlink:href=\"#DejaVuSans-63\" transform=\"translate(275.585938 0)\"/>\n",
       "      <use xlink:href=\"#DejaVuSans-6c\" transform=\"translate(330.566406 0)\"/>\n",
       "      <use xlink:href=\"#DejaVuSans-6f\" transform=\"translate(358.349609 0)\"/>\n",
       "      <use xlink:href=\"#DejaVuSans-73\" transform=\"translate(419.53125 0)\"/>\n",
       "      <use xlink:href=\"#DejaVuSans-65\" transform=\"translate(471.630859 0)\"/>\n",
       "     </g>\n",
       "    </g>\n",
       "    <g id=\"line2d_71\">\n",
       "     <path d=\"M 300.08875 35.492175 \n",
       "L 310.08875 35.492175 \n",
       "L 320.08875 35.492175 \n",
       "\" style=\"fill: none; stroke: #348abd; stroke-width: 1.5; stroke-linecap: square\"/>\n",
       "    </g>\n",
       "    <g id=\"text_17\">\n",
       "     <!-- SOL_close -->\n",
       "     <g transform=\"translate(328.08875 38.992175) scale(0.1 -0.1)\">\n",
       "      <defs>\n",
       "       <path id=\"DejaVuSans-53\" d=\"M 3425 4513 \n",
       "L 3425 3897 \n",
       "Q 3066 4069 2747 4153 \n",
       "Q 2428 4238 2131 4238 \n",
       "Q 1616 4238 1336 4038 \n",
       "Q 1056 3838 1056 3469 \n",
       "Q 1056 3159 1242 3001 \n",
       "Q 1428 2844 1947 2747 \n",
       "L 2328 2669 \n",
       "Q 3034 2534 3370 2195 \n",
       "Q 3706 1856 3706 1288 \n",
       "Q 3706 609 3251 259 \n",
       "Q 2797 -91 1919 -91 \n",
       "Q 1588 -91 1214 -16 \n",
       "Q 841 59 441 206 \n",
       "L 441 856 \n",
       "Q 825 641 1194 531 \n",
       "Q 1563 422 1919 422 \n",
       "Q 2459 422 2753 634 \n",
       "Q 3047 847 3047 1241 \n",
       "Q 3047 1584 2836 1778 \n",
       "Q 2625 1972 2144 2069 \n",
       "L 1759 2144 \n",
       "Q 1053 2284 737 2584 \n",
       "Q 422 2884 422 3419 \n",
       "Q 422 4038 858 4394 \n",
       "Q 1294 4750 2059 4750 \n",
       "Q 2388 4750 2728 4690 \n",
       "Q 3069 4631 3425 4513 \n",
       "z\n",
       "\" transform=\"scale(0.015625)\"/>\n",
       "       <path id=\"DejaVuSans-4f\" d=\"M 2522 4238 \n",
       "Q 1834 4238 1429 3725 \n",
       "Q 1025 3213 1025 2328 \n",
       "Q 1025 1447 1429 934 \n",
       "Q 1834 422 2522 422 \n",
       "Q 3209 422 3611 934 \n",
       "Q 4013 1447 4013 2328 \n",
       "Q 4013 3213 3611 3725 \n",
       "Q 3209 4238 2522 4238 \n",
       "z\n",
       "M 2522 4750 \n",
       "Q 3503 4750 4090 4092 \n",
       "Q 4678 3434 4678 2328 \n",
       "Q 4678 1225 4090 567 \n",
       "Q 3503 -91 2522 -91 \n",
       "Q 1538 -91 948 565 \n",
       "Q 359 1222 359 2328 \n",
       "Q 359 3434 948 4092 \n",
       "Q 1538 4750 2522 4750 \n",
       "z\n",
       "\" transform=\"scale(0.015625)\"/>\n",
       "      </defs>\n",
       "      <use xlink:href=\"#DejaVuSans-53\"/>\n",
       "      <use xlink:href=\"#DejaVuSans-4f\" transform=\"translate(63.476562 0)\"/>\n",
       "      <use xlink:href=\"#DejaVuSans-4c\" transform=\"translate(142.1875 0)\"/>\n",
       "      <use xlink:href=\"#DejaVuSans-5f\" transform=\"translate(197.900391 0)\"/>\n",
       "      <use xlink:href=\"#DejaVuSans-63\" transform=\"translate(247.900391 0)\"/>\n",
       "      <use xlink:href=\"#DejaVuSans-6c\" transform=\"translate(302.880859 0)\"/>\n",
       "      <use xlink:href=\"#DejaVuSans-6f\" transform=\"translate(330.664062 0)\"/>\n",
       "      <use xlink:href=\"#DejaVuSans-73\" transform=\"translate(391.845703 0)\"/>\n",
       "      <use xlink:href=\"#DejaVuSans-65\" transform=\"translate(443.945312 0)\"/>\n",
       "     </g>\n",
       "    </g>\n",
       "    <g id=\"line2d_72\">\n",
       "     <path d=\"M 300.08875 50.448425 \n",
       "L 310.08875 50.448425 \n",
       "L 320.08875 50.448425 \n",
       "\" style=\"fill: none; stroke: #988ed5; stroke-width: 1.5; stroke-linecap: square\"/>\n",
       "    </g>\n",
       "    <g id=\"text_18\">\n",
       "     <!-- XRP_close -->\n",
       "     <g transform=\"translate(328.08875 53.948425) scale(0.1 -0.1)\">\n",
       "      <defs>\n",
       "       <path id=\"DejaVuSans-58\" d=\"M 403 4666 \n",
       "L 1081 4666 \n",
       "L 2241 2931 \n",
       "L 3406 4666 \n",
       "L 4084 4666 \n",
       "L 2584 2425 \n",
       "L 4184 0 \n",
       "L 3506 0 \n",
       "L 2194 1984 \n",
       "L 872 0 \n",
       "L 191 0 \n",
       "L 1856 2491 \n",
       "L 403 4666 \n",
       "z\n",
       "\" transform=\"scale(0.015625)\"/>\n",
       "       <path id=\"DejaVuSans-52\" d=\"M 2841 2188 \n",
       "Q 3044 2119 3236 1894 \n",
       "Q 3428 1669 3622 1275 \n",
       "L 4263 0 \n",
       "L 3584 0 \n",
       "L 2988 1197 \n",
       "Q 2756 1666 2539 1819 \n",
       "Q 2322 1972 1947 1972 \n",
       "L 1259 1972 \n",
       "L 1259 0 \n",
       "L 628 0 \n",
       "L 628 4666 \n",
       "L 2053 4666 \n",
       "Q 2853 4666 3247 4331 \n",
       "Q 3641 3997 3641 3322 \n",
       "Q 3641 2881 3436 2590 \n",
       "Q 3231 2300 2841 2188 \n",
       "z\n",
       "M 1259 4147 \n",
       "L 1259 2491 \n",
       "L 2053 2491 \n",
       "Q 2509 2491 2742 2702 \n",
       "Q 2975 2913 2975 3322 \n",
       "Q 2975 3731 2742 3939 \n",
       "Q 2509 4147 2053 4147 \n",
       "L 1259 4147 \n",
       "z\n",
       "\" transform=\"scale(0.015625)\"/>\n",
       "       <path id=\"DejaVuSans-50\" d=\"M 1259 4147 \n",
       "L 1259 2394 \n",
       "L 2053 2394 \n",
       "Q 2494 2394 2734 2622 \n",
       "Q 2975 2850 2975 3272 \n",
       "Q 2975 3691 2734 3919 \n",
       "Q 2494 4147 2053 4147 \n",
       "L 1259 4147 \n",
       "z\n",
       "M 628 4666 \n",
       "L 2053 4666 \n",
       "Q 2838 4666 3239 4311 \n",
       "Q 3641 3956 3641 3272 \n",
       "Q 3641 2581 3239 2228 \n",
       "Q 2838 1875 2053 1875 \n",
       "L 1259 1875 \n",
       "L 1259 0 \n",
       "L 628 0 \n",
       "L 628 4666 \n",
       "z\n",
       "\" transform=\"scale(0.015625)\"/>\n",
       "      </defs>\n",
       "      <use xlink:href=\"#DejaVuSans-58\"/>\n",
       "      <use xlink:href=\"#DejaVuSans-52\" transform=\"translate(68.505859 0)\"/>\n",
       "      <use xlink:href=\"#DejaVuSans-50\" transform=\"translate(137.988281 0)\"/>\n",
       "      <use xlink:href=\"#DejaVuSans-5f\" transform=\"translate(198.291016 0)\"/>\n",
       "      <use xlink:href=\"#DejaVuSans-63\" transform=\"translate(248.291016 0)\"/>\n",
       "      <use xlink:href=\"#DejaVuSans-6c\" transform=\"translate(303.271484 0)\"/>\n",
       "      <use xlink:href=\"#DejaVuSans-6f\" transform=\"translate(331.054688 0)\"/>\n",
       "      <use xlink:href=\"#DejaVuSans-73\" transform=\"translate(392.236328 0)\"/>\n",
       "      <use xlink:href=\"#DejaVuSans-65\" transform=\"translate(444.335938 0)\"/>\n",
       "     </g>\n",
       "    </g>\n",
       "    <g id=\"line2d_73\">\n",
       "     <path d=\"M 300.08875 65.404675 \n",
       "L 310.08875 65.404675 \n",
       "L 320.08875 65.404675 \n",
       "\" style=\"fill: none; stroke: #777777; stroke-width: 1.5; stroke-linecap: square\"/>\n",
       "    </g>\n",
       "    <g id=\"text_19\">\n",
       "     <!-- BNB_close -->\n",
       "     <g transform=\"translate(328.08875 68.904675) scale(0.1 -0.1)\">\n",
       "      <defs>\n",
       "       <path id=\"DejaVuSans-42\" d=\"M 1259 2228 \n",
       "L 1259 519 \n",
       "L 2272 519 \n",
       "Q 2781 519 3026 730 \n",
       "Q 3272 941 3272 1375 \n",
       "Q 3272 1813 3026 2020 \n",
       "Q 2781 2228 2272 2228 \n",
       "L 1259 2228 \n",
       "z\n",
       "M 1259 4147 \n",
       "L 1259 2741 \n",
       "L 2194 2741 \n",
       "Q 2656 2741 2882 2914 \n",
       "Q 3109 3088 3109 3444 \n",
       "Q 3109 3797 2882 3972 \n",
       "Q 2656 4147 2194 4147 \n",
       "L 1259 4147 \n",
       "z\n",
       "M 628 4666 \n",
       "L 2241 4666 \n",
       "Q 2963 4666 3353 4366 \n",
       "Q 3744 4066 3744 3513 \n",
       "Q 3744 3084 3544 2831 \n",
       "Q 3344 2578 2956 2516 \n",
       "Q 3422 2416 3680 2098 \n",
       "Q 3938 1781 3938 1306 \n",
       "Q 3938 681 3513 340 \n",
       "Q 3088 0 2303 0 \n",
       "L 628 0 \n",
       "L 628 4666 \n",
       "z\n",
       "\" transform=\"scale(0.015625)\"/>\n",
       "      </defs>\n",
       "      <use xlink:href=\"#DejaVuSans-42\"/>\n",
       "      <use xlink:href=\"#DejaVuSans-4e\" transform=\"translate(68.603516 0)\"/>\n",
       "      <use xlink:href=\"#DejaVuSans-42\" transform=\"translate(143.408203 0)\"/>\n",
       "      <use xlink:href=\"#DejaVuSans-5f\" transform=\"translate(212.011719 0)\"/>\n",
       "      <use xlink:href=\"#DejaVuSans-63\" transform=\"translate(262.011719 0)\"/>\n",
       "      <use xlink:href=\"#DejaVuSans-6c\" transform=\"translate(316.992188 0)\"/>\n",
       "      <use xlink:href=\"#DejaVuSans-6f\" transform=\"translate(344.775391 0)\"/>\n",
       "      <use xlink:href=\"#DejaVuSans-73\" transform=\"translate(405.957031 0)\"/>\n",
       "      <use xlink:href=\"#DejaVuSans-65\" transform=\"translate(458.056641 0)\"/>\n",
       "     </g>\n",
       "    </g>\n",
       "    <g id=\"line2d_74\">\n",
       "     <path d=\"M 300.08875 80.360925 \n",
       "L 310.08875 80.360925 \n",
       "L 320.08875 80.360925 \n",
       "\" style=\"fill: none; stroke: #fbc15e; stroke-width: 1.5; stroke-linecap: square\"/>\n",
       "    </g>\n",
       "    <g id=\"text_20\">\n",
       "     <!-- ADA_close -->\n",
       "     <g transform=\"translate(328.08875 83.860925) scale(0.1 -0.1)\">\n",
       "      <defs>\n",
       "       <path id=\"DejaVuSans-41\" d=\"M 2188 4044 \n",
       "L 1331 1722 \n",
       "L 3047 1722 \n",
       "L 2188 4044 \n",
       "z\n",
       "M 1831 4666 \n",
       "L 2547 4666 \n",
       "L 4325 0 \n",
       "L 3669 0 \n",
       "L 3244 1197 \n",
       "L 1141 1197 \n",
       "L 716 0 \n",
       "L 50 0 \n",
       "L 1831 4666 \n",
       "z\n",
       "\" transform=\"scale(0.015625)\"/>\n",
       "       <path id=\"DejaVuSans-44\" d=\"M 1259 4147 \n",
       "L 1259 519 \n",
       "L 2022 519 \n",
       "Q 2988 519 3436 956 \n",
       "Q 3884 1394 3884 2338 \n",
       "Q 3884 3275 3436 3711 \n",
       "Q 2988 4147 2022 4147 \n",
       "L 1259 4147 \n",
       "z\n",
       "M 628 4666 \n",
       "L 1925 4666 \n",
       "Q 3281 4666 3915 4102 \n",
       "Q 4550 3538 4550 2338 \n",
       "Q 4550 1131 3912 565 \n",
       "Q 3275 0 1925 0 \n",
       "L 628 0 \n",
       "L 628 4666 \n",
       "z\n",
       "\" transform=\"scale(0.015625)\"/>\n",
       "      </defs>\n",
       "      <use xlink:href=\"#DejaVuSans-41\"/>\n",
       "      <use xlink:href=\"#DejaVuSans-44\" transform=\"translate(68.408203 0)\"/>\n",
       "      <use xlink:href=\"#DejaVuSans-41\" transform=\"translate(143.660156 0)\"/>\n",
       "      <use xlink:href=\"#DejaVuSans-5f\" transform=\"translate(212.068359 0)\"/>\n",
       "      <use xlink:href=\"#DejaVuSans-63\" transform=\"translate(262.068359 0)\"/>\n",
       "      <use xlink:href=\"#DejaVuSans-6c\" transform=\"translate(317.048828 0)\"/>\n",
       "      <use xlink:href=\"#DejaVuSans-6f\" transform=\"translate(344.832031 0)\"/>\n",
       "      <use xlink:href=\"#DejaVuSans-73\" transform=\"translate(406.013672 0)\"/>\n",
       "      <use xlink:href=\"#DejaVuSans-65\" transform=\"translate(458.113281 0)\"/>\n",
       "     </g>\n",
       "    </g>\n",
       "    <g id=\"line2d_75\">\n",
       "     <path d=\"M 300.08875 95.317175 \n",
       "L 310.08875 95.317175 \n",
       "L 320.08875 95.317175 \n",
       "\" style=\"fill: none; stroke: #8eba42; stroke-width: 1.5; stroke-linecap: square\"/>\n",
       "    </g>\n",
       "    <g id=\"text_21\">\n",
       "     <!-- DOT_close -->\n",
       "     <g transform=\"translate(328.08875 98.817175) scale(0.1 -0.1)\">\n",
       "      <defs>\n",
       "       <path id=\"DejaVuSans-54\" d=\"M -19 4666 \n",
       "L 3928 4666 \n",
       "L 3928 4134 \n",
       "L 2272 4134 \n",
       "L 2272 0 \n",
       "L 1638 0 \n",
       "L 1638 4134 \n",
       "L -19 4134 \n",
       "L -19 4666 \n",
       "z\n",
       "\" transform=\"scale(0.015625)\"/>\n",
       "      </defs>\n",
       "      <use xlink:href=\"#DejaVuSans-44\"/>\n",
       "      <use xlink:href=\"#DejaVuSans-4f\" transform=\"translate(77.001953 0)\"/>\n",
       "      <use xlink:href=\"#DejaVuSans-54\" transform=\"translate(155.712891 0)\"/>\n",
       "      <use xlink:href=\"#DejaVuSans-5f\" transform=\"translate(216.796875 0)\"/>\n",
       "      <use xlink:href=\"#DejaVuSans-63\" transform=\"translate(266.796875 0)\"/>\n",
       "      <use xlink:href=\"#DejaVuSans-6c\" transform=\"translate(321.777344 0)\"/>\n",
       "      <use xlink:href=\"#DejaVuSans-6f\" transform=\"translate(349.560547 0)\"/>\n",
       "      <use xlink:href=\"#DejaVuSans-73\" transform=\"translate(410.742188 0)\"/>\n",
       "      <use xlink:href=\"#DejaVuSans-65\" transform=\"translate(462.841797 0)\"/>\n",
       "     </g>\n",
       "    </g>\n",
       "   </g>\n",
       "  </g>\n",
       " </g>\n",
       " <defs>\n",
       "  <clipPath id=\"p07947b6771\">\n",
       "   <rect x=\"33.2875\" y=\"7.437488\" width=\"357.12\" height=\"266.112\"/>\n",
       "  </clipPath>\n",
       " </defs>\n",
       "</svg>\n"
      ],
      "text/plain": [
       "<Figure size 640x480 with 1 Axes>"
      ]
     },
     "metadata": {},
     "output_type": "display_data"
    }
   ],
   "source": [
    "from pipelines.portfolio_erc_static.data_loader import load_price_panel\n",
    "\n",
    "data_cfg = config[\"data\"]\n",
    "symbols = data_cfg[\"symbols\"]\n",
    "data = load_price_panel(data_cfg)\n",
    "\n",
    "data[[f'{symbol}_close' for symbol in symbols]].plot()"
   ]
  },
  {
   "cell_type": "code",
   "execution_count": 4,
   "id": "ace336a2",
   "metadata": {
    "execution": {
     "iopub.execute_input": "2025-09-24T11:01:56.776395Z",
     "iopub.status.busy": "2025-09-24T11:01:56.776012Z",
     "iopub.status.idle": "2025-09-24T11:01:56.784638Z",
     "shell.execute_reply": "2025-09-24T11:01:56.783645Z"
    }
   },
   "outputs": [
    {
     "name": "stderr",
     "output_type": "stream",
     "text": [
      "INFO:erc_notebook:Restricting dataset to last 465 rows (warm-up 100 + validation 365)\n"
     ]
    }
   ],
   "source": [
    "portfolio_section = config.get(\"portfolio\", {})\n",
    "\n",
    "warm_start = int(portfolio_section.get(\"warm_start_days\", 60))\n",
    "validation_duration = data_cfg.get(\"validation_duration_days\")\n",
    "if validation_duration is not None:\n",
    "    validation_days = max(int(validation_duration), 0)\n",
    "    total_required = warm_start + validation_days\n",
    "    if total_required <= warm_start:\n",
    "        total_required = warm_start + 1\n",
    "        LOGGER.warning(\n",
    "            \"Validation window %d adjusted to ensure at least one trading day\",\n",
    "            validation_days,\n",
    "        )\n",
    "    if total_required < len(data):\n",
    "        data = data.tail(total_required)\n",
    "        LOGGER.info(\n",
    "            \"Restricting dataset to last %d rows (warm-up %d + validation %d)\",\n",
    "            len(data),\n",
    "            warm_start,\n",
    "            validation_days,\n",
    "        )\n",
    "    elif total_required > len(data):\n",
    "        LOGGER.warning(\n",
    "            \"Requested validation window (%d) exceeds dataset length %d; using full history\",\n",
    "            total_required,\n",
    "            len(data),\n",
    "        )\n"
   ]
  },
  {
   "cell_type": "code",
   "execution_count": 5,
   "id": "84740aa8",
   "metadata": {
    "execution": {
     "iopub.execute_input": "2025-09-24T11:01:56.788090Z",
     "iopub.status.busy": "2025-09-24T11:01:56.787761Z",
     "iopub.status.idle": "2025-09-24T11:01:56.794272Z",
     "shell.execute_reply": "2025-09-24T11:01:56.793191Z"
    }
   },
   "outputs": [],
   "source": [
    "import tensortrade.env.default as default_env\n",
    "from tensortrade.env.default import renderers as renderer_module\n",
    "from tensortrade.env.default import rewards as reward_api\n",
    "from tensortrade.env.default.renderers import construct_renderers\n",
    "from tensortrade.feed.core import DataFeed, NameSpace, Stream\n",
    "from tensortrade.oms.exchanges import Exchange, ExchangeOptions\n",
    "from tensortrade.oms.instruments import Instrument, registry\n",
    "from tensortrade.oms.services.execution.simulated import execute_order\n",
    "from tensortrade.oms.wallets import Portfolio, Wallet"
   ]
  },
  {
   "cell_type": "code",
   "execution_count": 6,
   "id": "a8030a08",
   "metadata": {
    "execution": {
     "iopub.execute_input": "2025-09-24T11:01:56.797450Z",
     "iopub.status.busy": "2025-09-24T11:01:56.797104Z",
     "iopub.status.idle": "2025-09-24T11:01:56.853379Z",
     "shell.execute_reply": "2025-09-24T11:01:56.852423Z"
    }
   },
   "outputs": [
    {
     "name": "stdout",
     "output_type": "stream",
     "text": [
      "Constructing renderers: type(identifier)=<class 'list'>\n"
     ]
    }
   ],
   "source": [
    "from pipelines.portfolio_erc_static.action_scheme import ScheduledOrdersActionScheme\n",
    "from pathlib import Path\n",
    "from typing import Dict, List, Optional, Tuple, TypedDict\n",
    "import numpy as np\n",
    "import pandas as pd\n",
    "\n",
    "def build_environment(\n",
    "    data: pd.DataFrame, config: Dict, portfolio_cfg: Dict\n",
    ") -> Tuple[default_env.TradingEnv, List[str]]:\n",
    "    symbols = portfolio_cfg[\"symbols\"]\n",
    "    base_symbol = portfolio_cfg.get(\"base_symbol\", portfolio_cfg.get(\"main_currency\", \"USDT\"))\n",
    "\n",
    "    if base_symbol not in registry:\n",
    "        registry[base_symbol] = Instrument(base_symbol, 2, base_symbol)\n",
    "    base_instrument = registry[base_symbol]\n",
    "\n",
    "    for sym in symbols:\n",
    "        if sym not in registry:\n",
    "            registry[sym] = Instrument(sym, 8, sym)\n",
    "\n",
    "    price_streams = [\n",
    "        Stream.source(list(data[f\"{sym}_close\"]), dtype=\"float\").rename(f\"{base_symbol}-{sym}\")\n",
    "        for sym in symbols\n",
    "    ]\n",
    "\n",
    "    exchange_name = config.get(\"exchange\", \"simulator\")\n",
    "    exchange = Exchange(exchange_name, service=execute_order, options=ExchangeOptions(commission=0.0))(*price_streams)\n",
    "\n",
    "    initial_cash = float(portfolio_cfg.get(\"initial_cash\", 0.0))\n",
    "    initial_assets = float(portfolio_cfg.get(\"initial_assets\", 0.0))\n",
    "    cash_wallet = Wallet(exchange, initial_cash * base_instrument)\n",
    "    asset_wallets = [Wallet(exchange, initial_assets * registry[sym]) for sym in symbols]\n",
    "    portfolio = Portfolio(base_instrument, [cash_wallet, *asset_wallets])\n",
    "\n",
    "    timestamp_values = (data.index.view(\"int64\") // 10**9).astype(float)\n",
    "    feature_columns = [\"timestamp\", *list(data.columns)]\n",
    "\n",
    "    with NameSpace(exchange_name):\n",
    "        feature_streams = [\n",
    "            Stream.source(list(timestamp_values), dtype=\"float\").rename(\"timestamp\"),\n",
    "            *[\n",
    "                Stream.source(list(data[column]), dtype=\"float\").rename(column)\n",
    "                for column in data.columns\n",
    "            ],\n",
    "        ]\n",
    "\n",
    "    feed = DataFeed(feature_streams)\n",
    "    feed.compile()\n",
    "\n",
    "    renderer_streams: List[Stream] = []\n",
    "    renderer_streams.append(Stream.source(list(data.index.astype(str)), dtype=\"str\").rename(\"date\"))\n",
    "    for sym in symbols:\n",
    "        for field in [\"open\", \"high\", \"low\", \"close\", \"volume\"]:\n",
    "            column = f\"{sym}_{field}\"\n",
    "            if column in data.columns:\n",
    "                renderer_streams.append(Stream.source(list(data[column]), dtype=\"float\").rename(column))\n",
    "    renderer_feed = DataFeed(renderer_streams)\n",
    "    renderer_feed.compile()\n",
    "\n",
    "    renderer_cfg = config.get(\"renderer\", \"all\")\n",
    "    if renderer_cfg == \"all\":\n",
    "        renderer_cfg = [\n",
    "            name for name in renderer_module._registry.keys() if name != \"screen-log\"\n",
    "        ]\n",
    "    renderer_formats = config.get(\"renderer_formats\", [\"png\", \"html\"])\n",
    "    renderers = construct_renderers(\n",
    "        renderer_cfg, display=True, save_formats=renderer_formats\n",
    "    )\n",
    "\n",
    "    action_scheme = ScheduledOrdersActionScheme(portfolio)\n",
    "    reward_scheme = reward_api.get(config.get(\"reward_scheme\", \"simple\"))\n",
    "\n",
    "    env = default_env.create(\n",
    "        portfolio=portfolio,\n",
    "        action_scheme=action_scheme,\n",
    "        reward_scheme=reward_scheme,\n",
    "        feed=feed,\n",
    "        renderer_feed=renderer_feed,\n",
    "        window_size=int(config.get(\"window_size\", 1)),\n",
    "        enable_logger=False,\n",
    "        renderer=renderers,\n",
    "    )\n",
    "    return env, feature_columns\n",
    "\n",
    "\n",
    "portfolio_cfg = {\n",
    "    \"symbols\": symbols,\n",
    "    \"base_symbol\": data_cfg.get(\"main_currency\", \"USDT\"),\n",
    "    \"initial_cash\": portfolio_section.get(\"initial_cash\", 1_000_000),\n",
    "}\n",
    "\n",
    "env, feature_columns = build_environment(\n",
    "    data, config.get(\"environment\", {}), portfolio_cfg\n",
    ")"
   ]
  },
  {
   "cell_type": "code",
   "execution_count": 7,
   "id": "2eb4abdb",
   "metadata": {
    "execution": {
     "iopub.execute_input": "2025-09-24T11:01:56.856495Z",
     "iopub.status.busy": "2025-09-24T11:01:56.856224Z",
     "iopub.status.idle": "2025-09-24T11:01:56.867312Z",
     "shell.execute_reply": "2025-09-24T11:01:56.866540Z"
    }
   },
   "outputs": [],
   "source": [
    "from pipelines.portfolio_erc_static.action_scheme import ScheduledOrdersActionScheme\n",
    "from pipelines.portfolio_erc_static.covariance import LedoitWolfConfig, LedoitWolfShrinkage\n",
    "from pipelines.portfolio_erc_static.data_loader import load_price_panel\n",
    "from pipelines.portfolio_erc_static.erc_solver import ERCSolver, ERCSolverConfig\n",
    "from pipelines.portfolio_erc_static.rebalancer import ExecutionConfig, PortfolioRebalancer\n",
    "from pipelines.portfolio_erc_static.scheduler import RebalanceScheduler"
   ]
  },
  {
   "cell_type": "code",
   "execution_count": 8,
   "id": "278752c4",
   "metadata": {
    "execution": {
     "iopub.execute_input": "2025-09-24T11:01:56.870342Z",
     "iopub.status.busy": "2025-09-24T11:01:56.870084Z",
     "iopub.status.idle": "2025-09-24T11:01:56.885397Z",
     "shell.execute_reply": "2025-09-24T11:01:56.884461Z"
    }
   },
   "outputs": [],
   "source": [
    "def to_mapping(value) -> Dict[str, float]:\n",
    "    if value is None:\n",
    "        return {}\n",
    "    if isinstance(value, dict):\n",
    "        return {str(k): float(v) for k, v in value.items()}\n",
    "    return {\"default\": float(value)}\n",
    "\n",
    "\n",
    "action_scheme: ScheduledOrdersActionScheme = env.action_scheme  # type: ignore[assignment]\n",
    "portfolio = action_scheme.portfolio\n",
    "\n",
    "close_prices = data[[f\"{sym}_close\" for sym in symbols]]\n",
    "returns = close_prices.pct_change().dropna()\n",
    "\n",
    "scheduler = RebalanceScheduler(\n",
    "    warm_start_days=warm_start,\n",
    "    rebalance_period_days=int(portfolio_section.get(\"rebalance_period_days\", 30)),\n",
    "    enable_online_rebalance=bool(\n",
    "        portfolio_section.get(\"enable_online_rebalance\", True)\n",
    "    ),\n",
    ")\n",
    "\n",
    "cov_cfg = portfolio_section.get(\"covariance\", {})\n",
    "estimator = LedoitWolfShrinkage(\n",
    "    LedoitWolfConfig(\n",
    "        window=int(cov_cfg.get(\"window\", warm_start)),\n",
    "        min_history=int(cov_cfg.get(\"min_history\", warm_start)),\n",
    "    )\n",
    ")\n",
    "\n",
    "erc_cfg = portfolio_section.get(\"erc\", {})\n",
    "solver = ERCSolver(\n",
    "    ERCSolverConfig(\n",
    "        tolerance=float(erc_cfg.get(\"tolerance\", 1e-5)),\n",
    "        max_iterations=int(erc_cfg.get(\"max_iterations\", 500)),\n",
    "        min_weight=float(erc_cfg.get(\"w_min\", 0.0)),\n",
    "        max_weight=float(erc_cfg.get(\"w_max\", 1.0)),\n",
    "    )\n",
    ")\n",
    "\n",
    "exec_cfg = ExecutionConfig(\n",
    "    base_symbol=portfolio_cfg[\"base_symbol\"],\n",
    "    symbols=symbols,\n",
    "    commission_buy=float(portfolio_section.get(\"commission_buy\", 0.0)),\n",
    "    commission_sell=float(portfolio_section.get(\"commission_sell\", 0.0)),\n",
    "    slippage_bps=float(portfolio_section.get(\"slippage_bps\", 0.0)),\n",
    "    delta=to_mapping(portfolio_section.get(\"delta\", 0.0)),\n",
    "    lot_size=to_mapping(portfolio_section.get(\"lot_size\")),\n",
    "    tick_size=to_mapping(portfolio_section.get(\"tick_size\")),\n",
    ")\n",
    "rebalancer = PortfolioRebalancer(exec_cfg)"
   ]
  },
  {
   "cell_type": "code",
   "execution_count": 9,
   "id": "3c083797",
   "metadata": {
    "execution": {
     "iopub.execute_input": "2025-09-24T11:01:56.888468Z",
     "iopub.status.busy": "2025-09-24T11:01:56.888095Z",
     "iopub.status.idle": "2025-09-24T11:01:56.903297Z",
     "shell.execute_reply": "2025-09-24T11:01:56.902313Z"
    }
   },
   "outputs": [],
   "source": [
    "class PendingTarget(TypedDict):\n",
    "    weights: np.ndarray\n",
    "    close_prices: pd.Series\n",
    "\n",
    "\n",
    "\n",
    "def parse_observation(obs: np.ndarray) -> Tuple[pd.Timestamp, pd.Series]:\n",
    "    array = np.asarray(obs)\n",
    "    if array.ndim == 2 and array.shape[0] > 0:\n",
    "        row = array[-1]\n",
    "    else:\n",
    "        row = array\n",
    "    if row.shape[0] != len(feature_columns):\n",
    "        raise ValueError(\"Observation width does not match feature columns\")\n",
    "    series = pd.Series(row, index=feature_columns, dtype=float)\n",
    "    timestamp = pd.to_datetime(series[\"timestamp\"], unit=\"s\", utc=True)\n",
    "    prices = series.drop(labels=[\"timestamp\"])\n",
    "    return timestamp, prices\n",
    "\n",
    "\n",
    "\n",
    "def create_orders_for_pending_target(\n",
    "    rebalancer: PortfolioRebalancer,\n",
    "    portfolio: Portfolio,\n",
    "    target: Optional[PendingTarget],\n",
    "    execution_prices: pd.Series,\n",
    ") -> Tuple[List, Optional[PendingTarget]]:\n",
    "    if target is None:\n",
    "        return [], None\n",
    "    orders = rebalancer.compute_orders(\n",
    "        portfolio,\n",
    "        target[\"close_prices\"],\n",
    "        execution_prices,\n",
    "        target[\"weights\"],\n",
    "    )\n",
    "    return orders, None\n",
    "\n",
    "\n",
    "\n",
    "def interpret_step_output(step_result) -> Tuple[np.ndarray, float, bool, bool, Dict]:\n",
    "    \"\"\"Normalise environment.step outputs across Gym/Gymnasium variants.\"\"\"\n",
    "\n",
    "    if not isinstance(step_result, tuple):\n",
    "        raise TypeError(\n",
    "            \"TradingEnv.step is expected to return a tuple of results, \"\n",
    "            f\"received {type(step_result)!r}\"\n",
    "        )\n",
    "\n",
    "    length = len(step_result)\n",
    "    if length == 5:\n",
    "        state, reward, terminated, truncated, info = step_result\n",
    "        return state, float(reward), bool(terminated), bool(truncated), info\n",
    "    if length == 4:\n",
    "        state, reward, done, info = step_result\n",
    "        terminated = bool(done)\n",
    "        truncated = False\n",
    "        return state, float(reward), terminated, truncated, info\n",
    "\n",
    "    raise ValueError(\n",
    "        \"TradingEnv.step returned an unexpected number of values \"\n",
    "        f\"({length}); expected 4 or 5\"\n",
    "    )\n",
    "\n",
    "\n",
    "\n",
    "def get_portfolio_weights(\n",
    "    portfolio: Portfolio, symbols: List[str], prices: pd.Series\n",
    ") -> np.ndarray:\n",
    "    exchange = portfolio.exchange_pairs[0].exchange\n",
    "    base_symbol = portfolio.base_instrument.symbol\n",
    "    cash_wallet = portfolio.get_wallet(exchange.id, registry[base_symbol])\n",
    "    cash_balance = float(cash_wallet.balance.as_float())\n",
    "\n",
    "    asset_values = np.zeros(len(symbols), dtype=float)\n",
    "    for i, sym in enumerate(symbols):\n",
    "        wallet = portfolio.get_wallet(exchange.id, registry[sym])\n",
    "        quantity = float(wallet.balance.as_float())\n",
    "        price = float(prices[f\"{sym}_close\"])\n",
    "        asset_values[i] = quantity * price\n",
    "\n",
    "    net_worth = cash_balance + float(asset_values.sum())\n",
    "    weights = np.zeros(len(symbols), dtype=float)\n",
    "    if net_worth > 0:\n",
    "        weights = asset_values / net_worth\n",
    "    return weights\n"
   ]
  },
  {
   "cell_type": "code",
   "execution_count": 10,
   "id": "f1120664",
   "metadata": {
    "execution": {
     "iopub.execute_input": "2025-09-24T11:01:56.906107Z",
     "iopub.status.busy": "2025-09-24T11:01:56.905862Z",
     "iopub.status.idle": "2025-09-24T11:01:57.641819Z",
     "shell.execute_reply": "2025-09-24T11:01:57.640901Z"
    }
   },
   "outputs": [],
   "source": [
    "state, info = env.reset(begin_from_start=True)\n",
    "\n",
    "pending_target: Optional[PendingTarget] = None\n",
    "target_history: List[Dict] = []\n",
    "\n",
    "current_date, current_prices = parse_observation(state)\n",
    "\n",
    "step_index = 0\n",
    "done = False\n",
    "\n",
    "while not done:\n",
    "\n",
    "    orders_today, pending_target = create_orders_for_pending_target(\n",
    "        rebalancer,\n",
    "        portfolio,\n",
    "        pending_target,\n",
    "        current_prices,\n",
    "    )\n",
    "\n",
    "    if orders_today:\n",
    "        action_scheme.schedule(orders_today)\n",
    "    else:\n",
    "        action_scheme.clear()\n",
    "\n",
    "    step_state, reward, terminated, truncated, _ = interpret_step_output(\n",
    "        env.step(0, skip_decision=not bool(orders_today))\n",
    "    )\n",
    "    state = step_state\n",
    "    done = bool(terminated or truncated)\n",
    "\n",
    "    current_weights = get_portfolio_weights(portfolio, symbols, current_prices)\n",
    "\n",
    "    if not done and scheduler.should_rebalance(step_index):\n",
    "        window_returns = returns.loc[:current_date].tail(estimator.config.window)\n",
    "        try:\n",
    "            cov_matrix, shrinkage = estimator.estimate(window_returns)\n",
    "        except ValueError as err:\n",
    "            LOGGER.warning(\n",
    "                \"Covariance estimation failed at %s: %s\", current_date, err\n",
    "            )\n",
    "            cov_matrix = None\n",
    "        if cov_matrix is not None:\n",
    "            try:\n",
    "                weights, diag = solver.solve(\n",
    "                    cov_matrix, initial_weights=current_weights\n",
    "                )\n",
    "            except ValueError as err:\n",
    "                LOGGER.warning(\"ERC solver failed at %s: %s\", current_date, err)\n",
    "            else:\n",
    "                pending_target = PendingTarget(\n",
    "                    weights=weights,\n",
    "                    close_prices=current_prices.copy(),\n",
    "                )\n",
    "                target_history.append(\n",
    "                    {\n",
    "                        \"date\": current_date.isoformat(),\n",
    "                        \"weights\": {\n",
    "                            sym: float(weights[i]) for i, sym in enumerate(symbols)\n",
    "                        },\n",
    "                        \"shrinkage\": float(shrinkage),\n",
    "                        \"portfolio_variance\": float(\n",
    "                            diag.get(\"portfolio_variance\", 0.0)\n",
    "                        ),\n",
    "                        \"max_error\": float(diag.get(\"max_error\", 0.0)),\n",
    "                    }\n",
    "                )\n",
    "\n",
    "    if done:\n",
    "        break\n",
    "\n",
    "    step_index += 1\n",
    "    current_date, current_prices = parse_observation(state)\n"
   ]
  },
  {
   "cell_type": "code",
   "execution_count": 11,
   "id": "3240fe1b",
   "metadata": {
    "execution": {
     "iopub.execute_input": "2025-09-24T11:01:57.644734Z",
     "iopub.status.busy": "2025-09-24T11:01:57.644455Z",
     "iopub.status.idle": "2025-09-24T11:01:58.486829Z",
     "shell.execute_reply": "2025-09-24T11:01:58.485862Z"
    }
   },
   "outputs": [
    {
     "data": {
      "application/vnd.plotly.v1+json": {
       "config": {
        "plotlyServerURL": "https://plot.ly"
       },
       "data": [
        {
         "line": {
          "color": "DarkGreen",
          "width": 3
         },
         "mode": "lines",
         "name": "Net Worth",
         "showlegend": true,
         "type": "scatter",
         "x": {
          "bdata": "AAABAAIAAwAEAAUABgAHAAgACQAKAAsADAANAA4ADwAQABEAEgATABQAFQAWABcAGAAZABoAGwAcAB0AHgAfACAAIQAiACMAJAAlACYAJwAoACkAKgArACwALQAuAC8AMAAxADIAMwA0ADUANgA3ADgAOQA6ADsAPAA9AD4APwBAAEEAQgBDAEQARQBGAEcASABJAEoASwBMAE0ATgBPAFAAUQBSAFMAVABVAFYAVwBYAFkAWgBbAFwAXQBeAF8AYABhAGIAYwBkAGUAZgBnAGgAaQBqAGsAbABtAG4AbwBwAHEAcgBzAHQAdQB2AHcAeAB5AHoAewB8AH0AfgB/AIAAgQCCAIMAhACFAIYAhwCIAIkAigCLAIwAjQCOAI8AkACRAJIAkwCUAJUAlgCXAJgAmQCaAJsAnACdAJ4AnwCgAKEAogCjAKQApQCmAKcAqACpAKoAqwCsAK0ArgCvALAAsQCyALMAtAC1ALYAtwC4ALkAugC7ALwAvQC+AL8AwADBAMIAwwDEAMUAxgDHAMgAyQDKAMsAzADNAM4AzwDQANEA0gDTANQA1QDWANcA2ADZANoA2wDcAN0A3gDfAOAA4QDiAOMA5ADlAOYA5wDoAOkA6gDrAOwA7QDuAO8A8ADxAPIA8wD0APUA9gD3APgA+QD6APsA/AD9AP4A/wAAAQEBAgEDAQQBBQEGAQcBCAEJAQoBCwEMAQ0BDgEPARABEQESARMBFAEVARYBFwEYARkBGgEbARwBHQEeAR8BIAEhASIBIwEkASUBJgEnASgBKQEqASsBLAEtAS4BLwEwATEBMgEzATQBNQE2ATcBOAE5AToBOwE8AT0BPgE/AUABQQFCAUMBRAFFAUYBRwFIAUkBSgFLAUwBTQFOAU8BUAFRAVIBUwFUAVUBVgFXAVgBWQFaAVsBXAFdAV4BXwFgAWEBYgFjAWQBZQFmAWcBaAFpAWoBawFsAW0BbgFvAXABcQFyAXMBdAF1AXYBdwF4AXkBegF7AXwBfQF+AX8BgAGBAYIBgwGEAYUBhgGHAYgBiQGKAYsBjAGNAY4BjwGQAZEBkgGTAZQBlQGWAZcBmAGZAZoBmwGcAZ0BngGfAaABoQGiAaMBpAGlAaYBpwGoAakBqgGrAawBrQGuAa8BsAGxAbIBswG0AbUBtgG3AbgBuQG6AbsBvAG9Ab4BvwHAAcEBwgHDAcQBxQHGAccByAHJAcoBywHMAc0BzgHPAdAB",
          "dtype": "i2"
         },
         "xaxis": "x",
         "y": {
          "bdata": "AAAAAICELkEAAAAAgIQuQQAAAACAhC5BAAAAAICELkEAAAAAgIQuQQAAAACAhC5BAAAAAICELkEAAAAAgIQuQQAAAACAhC5BAAAAAICELkEAAAAAgIQuQQAAAACAhC5BAAAAAICELkEAAAAAgIQuQQAAAACAhC5BAAAAAICELkEAAAAAgIQuQQAAAACAhC5BAAAAAICELkEAAAAAgIQuQQAAAACAhC5BAAAAAICELkEAAAAAgIQuQQAAAACAhC5BAAAAAICELkEAAAAAgIQuQQAAAACAhC5BAAAAAICELkEAAAAAgIQuQQAAAACAhC5BAAAAAICELkEAAAAAgIQuQQAAAACAhC5BAAAAAICELkEAAAAAgIQuQQAAAACAhC5BAAAAAICELkEAAAAAgIQuQQAAAACAhC5BAAAAAICELkEAAAAAgIQuQQAAAACAhC5BAAAAAICELkEAAAAAgIQuQQAAAACAhC5BAAAAAICELkEAAAAAgIQuQQAAAACAhC5BAAAAAICELkEAAAAAgIQuQQAAAACAhC5BAAAAAICELkEAAAAAgIQuQQAAAACAhC5BAAAAAICELkEAAAAAgIQuQQAAAACAhC5BAAAAAICELkEAAAAAgIQuQQAAAACAhC5BAAAAAICELkEAAAAAgIQuQQAAAACAhC5BAAAAAICELkEAAAAAgIQuQQAAAACAhC5BAAAAAICELkEAAAAAgIQuQQAAAACAhC5BAAAAAICELkEAAAAAgIQuQQAAAACAhC5BAAAAAICELkEAAAAAgIQuQQAAAACAhC5BAAAAAICELkEAAAAAgIQuQQAAAACAhC5BAAAAAICELkEAAAAAgIQuQQAAAACAhC5BAAAAAICELkEAAAAAgIQuQQAAAACAhC5BAAAAAICELkEAAAAAgIQuQQAAAACAhC5BAAAAAICELkEAAAAAgIQuQQAAAACAhC5BAAAAAICELkEAAAAAgIQuQQAAAACAhC5BAAAAAICELkEAAAAAgIQuQQAAAACAhC5BAAAAAICELkEAAAAAgIQuQQAAAACAhC5BAAAAAICELkEAAAAAgIQuQZ9rkTT0mi9BgEd3lWlJMEGqUUJPD8IwQWT3yE9mmzBBEPYYrFTcMEH+Oh+MwsswQScNl2MSpjFBTZdbkDZjMkGVVoVloY0yQfrRIo8EBjNBLV1t3ORKM0EAhkukeDo0QRf3qaK5dzZBlcuamy/eNUG8L9Cu4PE1QR8o0gby3zVBebQ1m9WNNEGAIdh8tS01QXIWD0gJPjdB7go5qojaNkFnkRItyOU2QWHCC4EDUzdBOsU5ous0NkEk9i8/aTM3QWWgoibgSTdBKr3BGVGlN0FMe82HhTQ3QQXms0Z/PjhBPQV5pbO7NkH/R5NeiBY3Qds/ucVmyjdBCbp/R9GjN0GvqS4rKkA4QawO8xpE/DdBl196Dg9PN0EUSkIyjcI2QUC5nbZT1TdBF/ZLZtlnN0Ee9duVmLA1QQBqnPqveDVBZQy3pxPrNUHlQsKUaNo1QcFyL75bVDVBUKAYCScZNkFkQ+xah7w3QZrhYHwedjZBGBW0iV7jN0EG0mO+ZSo4QaYXN4nSfjhBKiKuj5gZOUHaBOC1ezQ4QRqlgImc/TdBhDyzgXrVN0Frr+0jAs82Qfxq2rNVfzZBtPYEYWEAN0HJiWHYF5k2QWSQmJjPCzZBZj46tfGjNkGVQL6uIBc2QXzWFiB1czVB8l28cJcdNUHC6VbtsCM1QV6ZqN9Z6zRBSbcG5rDiNEF6Iib4VQY0QblWIzXiGjNBJHv6m/N9M0FznVOuUDwzQQhHpfQupTRBcx74LLg8NUEL8e4PLYg1QXBKGeRMZDRBnVHEYobwNEF3iyI92nc2QRsBTTjUzjVBtuN44vhaNkGVum/m1fM1QSzACZS5ejdBFGmWVrxUNkEI1iQSAEM3QRJT8aiPKjZBIMcQBU0GNkGOl7Wk4Xg2QZTUK0S53zVBLPuqRWerNkFGIyLodXo3QSnaKoRQHjdBKmHoe9jaN0HUecXjFIU3QcCFkPeMIDdBdHSAJB8KN0E2k1P39VM3QQ8jdwu1XzdBBpdm3ewFN0G5RwZLOwM3QclFZ3ooxTZBA9WCHFP7NkF1cxkD2nk3QVttbscQJDhBMjQEgPs7OEH1ybkJRPI4QUQDjV1SdjlBQFgEqhOdOUEh14oivSo6QWDXPXGOmDlBUSvOppJHOkE93usUGy84QSaSn3iWhDdB2YXQTEeRNkGOo8WbkzE3QQeztMf45jZBfiCRYKDJNkGatv6+LVY3QbG38gnY4TZB/VOs/ilvN0HXZGc1JZk3Qap++f5lozdBlnwcpxZcN0EMKT+mHcM2QebowpWG5DZBwfwgb6wNN0EQUpz1IrE2QUt0PrnfVDdBwkctAAqONkGUAqEanmE2QXUtY+I7dzVBR044G+BiNUEK3U33G6g1QVyKF6/OAzVBB1twCo+QNUEg16p5iGU1QZMHNZvkiDVB5QyD1wCQNUEe1rxVBZc1Qa9eyWi29DVB+Y9bje6ZNUGSaMaWg6M1QXgS1R62ozVBoaSA18ArNUGDbRs20Vo1QRPTba2ymzVBm14ZQk7/NEFXD0aMveo0QVnPSA5+JjVBLBD2XxuaNUEM12rNtTA2QSDNk8IrIzZBtfRs2ap6NkFIOJAu2B02QRByc2M8tjVB1SjQkxdMNkFoI5FYBTs2QTSa9JP3hTZBHDh/T2D/NEEe8IZ8kn41Qej52fnvLTRBYB7MGWhaNEEpXtWc4sMzQVgizw78AjJB3Fj/4/UEMkHi3mP6dvIxQXcI505tGzJBwrItKzdwMUGIehyUrmgxQT1XZf0ClzFBYo1jtR/SMUGg0Pt5E7UxQWxi5jFk7TFBBoK2LGVRMkFjmBpFY+0yQcYTqqC2sDJBVkDZMt9bM0FvqsBeof8yQWPlwDhtRzNBCaRvG4a6MkEm2Q+TpAszQdpQNyWHJzJBzjTt3OX1MkGLDA+7sa4zQarWFrmw9TNBVPNv3pxSNEEMhnVIRF00QR9wCykFIzRBTnRNUOq4M0GN/ZQwz20zQU6mu334KDRBvCI9/85YNEEFtX90zBE0QYSvHxwBUTRBk5zFqVyiNEGAY8lf6Hk0QRiEnXTejjlBg9o5IweDOEFyZg5L9qs4QbfCLs7gezhBKSnsnmWJOEFXXwE1VT04QVwYkyhe5ThBO8RewDVCOUGwWt1m1Aw5QdgG+M/qOjhBy4hhf152OEH9hopZT2s3QfHVWVctTDdBGANKfHkbOEEva6e4lTk4QTp+lf2ICzhBqPzU3s45OEG5dKix7cQ3QUQfDeDxbzdBhk4L2InJN0GpF2OSJfw2QTr4QXHSdTZBicCnw3dUNkEpFrEVc0o2QUGVgs3SVTZBKEEScIBiNkHZOdOHBQU3QSTssbPtNTdBov+++cwRN0H38yoEl/I2QcKOjwwV+jZB/Ola8MqwNkGS0sttiwo3QWYLgExAHzZBskH7HkRWNUF+hnjPZaszQezMKMy1sDNBkrPId5z/M0Fsc6ywzSI0Qdhv4UgGrjNBPmkhN9psM0HKxez31Rg0QcJy4B9LqDNBfuNPLl9+M0FPWqWKH20zQR9Ym2timjNBcLABibugM0Fli4fb7lc0QZkThwlorzNBlr9YQTjwMkHpyZfSyrQyQR4p3SZz0DJBWlX6PbTmMkGXCVKFd+syQdij2fcmKjNBInBjZW4VM0FW4GiGxT4zQYQoQr6qBzNBWpoDER/kMkEcsxl0TlcyQWHeoxDhuTFBZWIYYir2MUFYFWxV0jEyQfJ8UXBsezJBZ5+tlmPPMkHQCkIqWMkyQY2dAIaAfzJB944+znISM0Gd2aNzF3gzQehOrBcSjzNBL8XKlfrwMkEeVIT2fyEzQSgke/ITPzNBjEtDj777MkFqfmUaW2AzQYBRXpneKzNBkBYa1SZOM0GG5Gy+5cszQTKBm2sKDDRBwjRqLE13NEEu/juxU1s1QabB6wavpzRBDiGBefzdNEGRjh1+5co0Qay1t9+XeTRBoN3SklfdNEG0TujtpKs0QWlj5npZpDRBTC75tCHcM0E+6V8YEcUzQRN8I38AsDNBR/gpbDdIM0G23gHF+oEzQeJBLtlGnzNB4zFjmymzM0Hea3gvYXQ0QaOQebMBKDRBxDA9Qt/2M0FfCbCSZJ00Qey9BYAbWzVBLfWMQo7lNkG0eB1BO543Qd7StSj7OTlBp5TvyhGeOEEme5u+PJY5QaRcLIlpoTlBOK9hndxiOUGuZn7pu0o5QZ3daxkf6DlBxzuf387lOkGx1cFShOA7QdeuS4g+Hz1BMg5kDNOpPEFIc5GEQsc8QWiV32Bhrj1B4BZB6p5RPkH1q3Fm0co/QaIGmHwdlz9BuB39lExhQEFWBLYYJJhAQQ4IjrNTbkJBBIb2fCq5QkGRZFoNJZ1CQbsKGOGMV0FBpPRld4W7QUGd8oLkq3dDQdR/5HYL4kFBsuUcp4bmQUEfyxDGfPhBQYIba7nyvUJBw+fsxfD1QUHFEdoEkIlAQQ4CPKbA50FBMW+cgLrdQUHQK5WqRfRBQUmpNq0YXEJByauI/kcgQkH/pU0srnxBQfPtAzV4F0JBiNdWVPwqQkEz1FFfjzFCQf9qH846eEJBvEIhcHtdQ0FtBVsMvC9DQWGj04UKJ0NBJH70IpsyQ0ETs0qkEF9DQQ8tmT01ZURBV7sjORxmRkEq3B2txgtGQRceFadVmEZBtAyNzjEMRUGxKVpplw9FQTPY5dmE+UVBAz1fNGKrRkEMJ7DJIoJFQVAauHyzxEVBLyaTQ2cIRUGREqh27tJFQeCUQUEkVUVBJHm54aDKRkESr0x0l05JQalW67+9r0lB+9FNjksWS0HSFdQf539LQc800462Jk1Bc3+yjvXIS0E+oUynQLhLQeFYiV2ts0pBIwVk/uH+SkHSia8pxlNKQV2vAbmAIEpB",
          "dtype": "f8"
         },
         "yaxis": "y"
        },
        {
         "line": {
          "width": 2
         },
         "mode": "lines",
         "name": "simulator:/USDT-LINK",
         "showlegend": true,
         "type": "scatter",
         "x": {
          "bdata": "AAABAAIAAwAEAAUABgAHAAgACQAKAAsADAANAA4ADwAQABEAEgATABQAFQAWABcAGAAZABoAGwAcAB0AHgAfACAAIQAiACMAJAAlACYAJwAoACkAKgArACwALQAuAC8AMAAxADIAMwA0ADUANgA3ADgAOQA6ADsAPAA9AD4APwBAAEEAQgBDAEQARQBGAEcASABJAEoASwBMAE0ATgBPAFAAUQBSAFMAVABVAFYAVwBYAFkAWgBbAFwAXQBeAF8AYABhAGIAYwBkAGUAZgBnAGgAaQBqAGsAbABtAG4AbwBwAHEAcgBzAHQAdQB2AHcAeAB5AHoAewB8AH0AfgB/AIAAgQCCAIMAhACFAIYAhwCIAIkAigCLAIwAjQCOAI8AkACRAJIAkwCUAJUAlgCXAJgAmQCaAJsAnACdAJ4AnwCgAKEAogCjAKQApQCmAKcAqACpAKoAqwCsAK0ArgCvALAAsQCyALMAtAC1ALYAtwC4ALkAugC7ALwAvQC+AL8AwADBAMIAwwDEAMUAxgDHAMgAyQDKAMsAzADNAM4AzwDQANEA0gDTANQA1QDWANcA2ADZANoA2wDcAN0A3gDfAOAA4QDiAOMA5ADlAOYA5wDoAOkA6gDrAOwA7QDuAO8A8ADxAPIA8wD0APUA9gD3APgA+QD6APsA/AD9AP4A/wAAAQEBAgEDAQQBBQEGAQcBCAEJAQoBCwEMAQ0BDgEPARABEQESARMBFAEVARYBFwEYARkBGgEbARwBHQEeAR8BIAEhASIBIwEkASUBJgEnASgBKQEqASsBLAEtAS4BLwEwATEBMgEzATQBNQE2ATcBOAE5AToBOwE8AT0BPgE/AUABQQFCAUMBRAFFAUYBRwFIAUkBSgFLAUwBTQFOAU8BUAFRAVIBUwFUAVUBVgFXAVgBWQFaAVsBXAFdAV4BXwFgAWEBYgFjAWQBZQFmAWcBaAFpAWoBawFsAW0BbgFvAXABcQFyAXMBdAF1AXYBdwF4AXkBegF7AXwBfQF+AX8BgAGBAYIBgwGEAYUBhgGHAYgBiQGKAYsBjAGNAY4BjwGQAZEBkgGTAZQBlQGWAZcBmAGZAZoBmwGcAZ0BngGfAaABoQGiAaMBpAGlAaYBpwGoAakBqgGrAawBrQGuAa8BsAGxAbIBswG0AbUBtgG3AbgBuQG6AbsBvAG9Ab4BvwHAAcEBwgHDAcQBxQHGAccByAHJAcoBywHMAc0BzgHPAdAB",
          "dtype": "i2"
         },
         "xaxis": "x2",
         "y": {
          "bdata": "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",
          "dtype": "f8"
         },
         "yaxis": "y2"
        },
        {
         "line": {
          "width": 2
         },
         "mode": "lines",
         "name": "simulator:/USDT-SOL",
         "showlegend": true,
         "type": "scatter",
         "x": {
          "bdata": "AAABAAIAAwAEAAUABgAHAAgACQAKAAsADAANAA4ADwAQABEAEgATABQAFQAWABcAGAAZABoAGwAcAB0AHgAfACAAIQAiACMAJAAlACYAJwAoACkAKgArACwALQAuAC8AMAAxADIAMwA0ADUANgA3ADgAOQA6ADsAPAA9AD4APwBAAEEAQgBDAEQARQBGAEcASABJAEoASwBMAE0ATgBPAFAAUQBSAFMAVABVAFYAVwBYAFkAWgBbAFwAXQBeAF8AYABhAGIAYwBkAGUAZgBnAGgAaQBqAGsAbABtAG4AbwBwAHEAcgBzAHQAdQB2AHcAeAB5AHoAewB8AH0AfgB/AIAAgQCCAIMAhACFAIYAhwCIAIkAigCLAIwAjQCOAI8AkACRAJIAkwCUAJUAlgCXAJgAmQCaAJsAnACdAJ4AnwCgAKEAogCjAKQApQCmAKcAqACpAKoAqwCsAK0ArgCvALAAsQCyALMAtAC1ALYAtwC4ALkAugC7ALwAvQC+AL8AwADBAMIAwwDEAMUAxgDHAMgAyQDKAMsAzADNAM4AzwDQANEA0gDTANQA1QDWANcA2ADZANoA2wDcAN0A3gDfAOAA4QDiAOMA5ADlAOYA5wDoAOkA6gDrAOwA7QDuAO8A8ADxAPIA8wD0APUA9gD3APgA+QD6APsA/AD9AP4A/wAAAQEBAgEDAQQBBQEGAQcBCAEJAQoBCwEMAQ0BDgEPARABEQESARMBFAEVARYBFwEYARkBGgEbARwBHQEeAR8BIAEhASIBIwEkASUBJgEnASgBKQEqASsBLAEtAS4BLwEwATEBMgEzATQBNQE2ATcBOAE5AToBOwE8AT0BPgE/AUABQQFCAUMBRAFFAUYBRwFIAUkBSgFLAUwBTQFOAU8BUAFRAVIBUwFUAVUBVgFXAVgBWQFaAVsBXAFdAV4BXwFgAWEBYgFjAWQBZQFmAWcBaAFpAWoBawFsAW0BbgFvAXABcQFyAXMBdAF1AXYBdwF4AXkBegF7AXwBfQF+AX8BgAGBAYIBgwGEAYUBhgGHAYgBiQGKAYsBjAGNAY4BjwGQAZEBkgGTAZQBlQGWAZcBmAGZAZoBmwGcAZ0BngGfAaABoQGiAaMBpAGlAaYBpwGoAakBqgGrAawBrQGuAa8BsAGxAbIBswG0AbUBtgG3AbgBuQG6AbsBvAG9Ab4BvwHAAcEBwgHDAcQBxQHGAccByAHJAcoBywHMAc0BzgHPAdAB",
          "dtype": "i2"
         },
         "xaxis": "x2",
         "y": {
          "bdata": "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",
          "dtype": "f8"
         },
         "yaxis": "y2"
        },
        {
         "line": {
          "width": 2
         },
         "mode": "lines",
         "name": "simulator:/USDT-XRP",
         "showlegend": true,
         "type": "scatter",
         "x": {
          "bdata": "AAABAAIAAwAEAAUABgAHAAgACQAKAAsADAANAA4ADwAQABEAEgATABQAFQAWABcAGAAZABoAGwAcAB0AHgAfACAAIQAiACMAJAAlACYAJwAoACkAKgArACwALQAuAC8AMAAxADIAMwA0ADUANgA3ADgAOQA6ADsAPAA9AD4APwBAAEEAQgBDAEQARQBGAEcASABJAEoASwBMAE0ATgBPAFAAUQBSAFMAVABVAFYAVwBYAFkAWgBbAFwAXQBeAF8AYABhAGIAYwBkAGUAZgBnAGgAaQBqAGsAbABtAG4AbwBwAHEAcgBzAHQAdQB2AHcAeAB5AHoAewB8AH0AfgB/AIAAgQCCAIMAhACFAIYAhwCIAIkAigCLAIwAjQCOAI8AkACRAJIAkwCUAJUAlgCXAJgAmQCaAJsAnACdAJ4AnwCgAKEAogCjAKQApQCmAKcAqACpAKoAqwCsAK0ArgCvALAAsQCyALMAtAC1ALYAtwC4ALkAugC7ALwAvQC+AL8AwADBAMIAwwDEAMUAxgDHAMgAyQDKAMsAzADNAM4AzwDQANEA0gDTANQA1QDWANcA2ADZANoA2wDcAN0A3gDfAOAA4QDiAOMA5ADlAOYA5wDoAOkA6gDrAOwA7QDuAO8A8ADxAPIA8wD0APUA9gD3APgA+QD6APsA/AD9AP4A/wAAAQEBAgEDAQQBBQEGAQcBCAEJAQoBCwEMAQ0BDgEPARABEQESARMBFAEVARYBFwEYARkBGgEbARwBHQEeAR8BIAEhASIBIwEkASUBJgEnASgBKQEqASsBLAEtAS4BLwEwATEBMgEzATQBNQE2ATcBOAE5AToBOwE8AT0BPgE/AUABQQFCAUMBRAFFAUYBRwFIAUkBSgFLAUwBTQFOAU8BUAFRAVIBUwFUAVUBVgFXAVgBWQFaAVsBXAFdAV4BXwFgAWEBYgFjAWQBZQFmAWcBaAFpAWoBawFsAW0BbgFvAXABcQFyAXMBdAF1AXYBdwF4AXkBegF7AXwBfQF+AX8BgAGBAYIBgwGEAYUBhgGHAYgBiQGKAYsBjAGNAY4BjwGQAZEBkgGTAZQBlQGWAZcBmAGZAZoBmwGcAZ0BngGfAaABoQGiAaMBpAGlAaYBpwGoAakBqgGrAawBrQGuAa8BsAGxAbIBswG0AbUBtgG3AbgBuQG6AbsBvAG9Ab4BvwHAAcEBwgHDAcQBxQHGAccByAHJAcoBywHMAc0BzgHPAdAB",
          "dtype": "i2"
         },
         "xaxis": "x2",
         "y": {
          "bdata": "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",
          "dtype": "f8"
         },
         "yaxis": "y2"
        },
        {
         "line": {
          "width": 2
         },
         "mode": "lines",
         "name": "simulator:/USDT-BNB",
         "showlegend": true,
         "type": "scatter",
         "x": {
          "bdata": "AAABAAIAAwAEAAUABgAHAAgACQAKAAsADAANAA4ADwAQABEAEgATABQAFQAWABcAGAAZABoAGwAcAB0AHgAfACAAIQAiACMAJAAlACYAJwAoACkAKgArACwALQAuAC8AMAAxADIAMwA0ADUANgA3ADgAOQA6ADsAPAA9AD4APwBAAEEAQgBDAEQARQBGAEcASABJAEoASwBMAE0ATgBPAFAAUQBSAFMAVABVAFYAVwBYAFkAWgBbAFwAXQBeAF8AYABhAGIAYwBkAGUAZgBnAGgAaQBqAGsAbABtAG4AbwBwAHEAcgBzAHQAdQB2AHcAeAB5AHoAewB8AH0AfgB/AIAAgQCCAIMAhACFAIYAhwCIAIkAigCLAIwAjQCOAI8AkACRAJIAkwCUAJUAlgCXAJgAmQCaAJsAnACdAJ4AnwCgAKEAogCjAKQApQCmAKcAqACpAKoAqwCsAK0ArgCvALAAsQCyALMAtAC1ALYAtwC4ALkAugC7ALwAvQC+AL8AwADBAMIAwwDEAMUAxgDHAMgAyQDKAMsAzADNAM4AzwDQANEA0gDTANQA1QDWANcA2ADZANoA2wDcAN0A3gDfAOAA4QDiAOMA5ADlAOYA5wDoAOkA6gDrAOwA7QDuAO8A8ADxAPIA8wD0APUA9gD3APgA+QD6APsA/AD9AP4A/wAAAQEBAgEDAQQBBQEGAQcBCAEJAQoBCwEMAQ0BDgEPARABEQESARMBFAEVARYBFwEYARkBGgEbARwBHQEeAR8BIAEhASIBIwEkASUBJgEnASgBKQEqASsBLAEtAS4BLwEwATEBMgEzATQBNQE2ATcBOAE5AToBOwE8AT0BPgE/AUABQQFCAUMBRAFFAUYBRwFIAUkBSgFLAUwBTQFOAU8BUAFRAVIBUwFUAVUBVgFXAVgBWQFaAVsBXAFdAV4BXwFgAWEBYgFjAWQBZQFmAWcBaAFpAWoBawFsAW0BbgFvAXABcQFyAXMBdAF1AXYBdwF4AXkBegF7AXwBfQF+AX8BgAGBAYIBgwGEAYUBhgGHAYgBiQGKAYsBjAGNAY4BjwGQAZEBkgGTAZQBlQGWAZcBmAGZAZoBmwGcAZ0BngGfAaABoQGiAaMBpAGlAaYBpwGoAakBqgGrAawBrQGuAa8BsAGxAbIBswG0AbUBtgG3AbgBuQG6AbsBvAG9Ab4BvwHAAcEBwgHDAcQBxQHGAccByAHJAcoBywHMAc0BzgHPAdAB",
          "dtype": "i2"
         },
         "xaxis": "x2",
         "y": {
          "bdata": "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",
          "dtype": "f8"
         },
         "yaxis": "y2"
        },
        {
         "line": {
          "width": 2
         },
         "mode": "lines",
         "name": "simulator:/USDT-ADA",
         "showlegend": true,
         "type": "scatter",
         "x": {
          "bdata": "AAABAAIAAwAEAAUABgAHAAgACQAKAAsADAANAA4ADwAQABEAEgATABQAFQAWABcAGAAZABoAGwAcAB0AHgAfACAAIQAiACMAJAAlACYAJwAoACkAKgArACwALQAuAC8AMAAxADIAMwA0ADUANgA3ADgAOQA6ADsAPAA9AD4APwBAAEEAQgBDAEQARQBGAEcASABJAEoASwBMAE0ATgBPAFAAUQBSAFMAVABVAFYAVwBYAFkAWgBbAFwAXQBeAF8AYABhAGIAYwBkAGUAZgBnAGgAaQBqAGsAbABtAG4AbwBwAHEAcgBzAHQAdQB2AHcAeAB5AHoAewB8AH0AfgB/AIAAgQCCAIMAhACFAIYAhwCIAIkAigCLAIwAjQCOAI8AkACRAJIAkwCUAJUAlgCXAJgAmQCaAJsAnACdAJ4AnwCgAKEAogCjAKQApQCmAKcAqACpAKoAqwCsAK0ArgCvALAAsQCyALMAtAC1ALYAtwC4ALkAugC7ALwAvQC+AL8AwADBAMIAwwDEAMUAxgDHAMgAyQDKAMsAzADNAM4AzwDQANEA0gDTANQA1QDWANcA2ADZANoA2wDcAN0A3gDfAOAA4QDiAOMA5ADlAOYA5wDoAOkA6gDrAOwA7QDuAO8A8ADxAPIA8wD0APUA9gD3APgA+QD6APsA/AD9AP4A/wAAAQEBAgEDAQQBBQEGAQcBCAEJAQoBCwEMAQ0BDgEPARABEQESARMBFAEVARYBFwEYARkBGgEbARwBHQEeAR8BIAEhASIBIwEkASUBJgEnASgBKQEqASsBLAEtAS4BLwEwATEBMgEzATQBNQE2ATcBOAE5AToBOwE8AT0BPgE/AUABQQFCAUMBRAFFAUYBRwFIAUkBSgFLAUwBTQFOAU8BUAFRAVIBUwFUAVUBVgFXAVgBWQFaAVsBXAFdAV4BXwFgAWEBYgFjAWQBZQFmAWcBaAFpAWoBawFsAW0BbgFvAXABcQFyAXMBdAF1AXYBdwF4AXkBegF7AXwBfQF+AX8BgAGBAYIBgwGEAYUBhgGHAYgBiQGKAYsBjAGNAY4BjwGQAZEBkgGTAZQBlQGWAZcBmAGZAZoBmwGcAZ0BngGfAaABoQGiAaMBpAGlAaYBpwGoAakBqgGrAawBrQGuAa8BsAGxAbIBswG0AbUBtgG3AbgBuQG6AbsBvAG9Ab4BvwHAAcEBwgHDAcQBxQHGAccByAHJAcoBywHMAc0BzgHPAdAB",
          "dtype": "i2"
         },
         "xaxis": "x2",
         "y": {
          "bdata": "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",
          "dtype": "f8"
         },
         "yaxis": "y2"
        },
        {
         "line": {
          "width": 2
         },
         "mode": "lines",
         "name": "simulator:/USDT-DOT",
         "showlegend": true,
         "type": "scatter",
         "x": {
          "bdata": "AAABAAIAAwAEAAUABgAHAAgACQAKAAsADAANAA4ADwAQABEAEgATABQAFQAWABcAGAAZABoAGwAcAB0AHgAfACAAIQAiACMAJAAlACYAJwAoACkAKgArACwALQAuAC8AMAAxADIAMwA0ADUANgA3ADgAOQA6ADsAPAA9AD4APwBAAEEAQgBDAEQARQBGAEcASABJAEoASwBMAE0ATgBPAFAAUQBSAFMAVABVAFYAVwBYAFkAWgBbAFwAXQBeAF8AYABhAGIAYwBkAGUAZgBnAGgAaQBqAGsAbABtAG4AbwBwAHEAcgBzAHQAdQB2AHcAeAB5AHoAewB8AH0AfgB/AIAAgQCCAIMAhACFAIYAhwCIAIkAigCLAIwAjQCOAI8AkACRAJIAkwCUAJUAlgCXAJgAmQCaAJsAnACdAJ4AnwCgAKEAogCjAKQApQCmAKcAqACpAKoAqwCsAK0ArgCvALAAsQCyALMAtAC1ALYAtwC4ALkAugC7ALwAvQC+AL8AwADBAMIAwwDEAMUAxgDHAMgAyQDKAMsAzADNAM4AzwDQANEA0gDTANQA1QDWANcA2ADZANoA2wDcAN0A3gDfAOAA4QDiAOMA5ADlAOYA5wDoAOkA6gDrAOwA7QDuAO8A8ADxAPIA8wD0APUA9gD3APgA+QD6APsA/AD9AP4A/wAAAQEBAgEDAQQBBQEGAQcBCAEJAQoBCwEMAQ0BDgEPARABEQESARMBFAEVARYBFwEYARkBGgEbARwBHQEeAR8BIAEhASIBIwEkASUBJgEnASgBKQEqASsBLAEtAS4BLwEwATEBMgEzATQBNQE2ATcBOAE5AToBOwE8AT0BPgE/AUABQQFCAUMBRAFFAUYBRwFIAUkBSgFLAUwBTQFOAU8BUAFRAVIBUwFUAVUBVgFXAVgBWQFaAVsBXAFdAV4BXwFgAWEBYgFjAWQBZQFmAWcBaAFpAWoBawFsAW0BbgFvAXABcQFyAXMBdAF1AXYBdwF4AXkBegF7AXwBfQF+AX8BgAGBAYIBgwGEAYUBhgGHAYgBiQGKAYsBjAGNAY4BjwGQAZEBkgGTAZQBlQGWAZcBmAGZAZoBmwGcAZ0BngGfAaABoQGiAaMBpAGlAaYBpwGoAakBqgGrAawBrQGuAa8BsAGxAbIBswG0AbUBtgG3AbgBuQG6AbsBvAG9Ab4BvwHAAcEBwgHDAcQBxQHGAccByAHJAcoBywHMAc0BzgHPAdAB",
          "dtype": "i2"
         },
         "xaxis": "x2",
         "y": {
          "bdata": "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",
          "dtype": "f8"
         },
         "yaxis": "y2"
        },
        {
         "line": {
          "width": 2
         },
         "mode": "lines",
         "name": "simulator:/USDT:/free",
         "showlegend": true,
         "type": "scatter",
         "x": {
          "bdata": "AAABAAIAAwAEAAUABgAHAAgACQAKAAsADAANAA4ADwAQABEAEgATABQAFQAWABcAGAAZABoAGwAcAB0AHgAfACAAIQAiACMAJAAlACYAJwAoACkAKgArACwALQAuAC8AMAAxADIAMwA0ADUANgA3ADgAOQA6ADsAPAA9AD4APwBAAEEAQgBDAEQARQBGAEcASABJAEoASwBMAE0ATgBPAFAAUQBSAFMAVABVAFYAVwBYAFkAWgBbAFwAXQBeAF8AYABhAGIAYwBkAGUAZgBnAGgAaQBqAGsAbABtAG4AbwBwAHEAcgBzAHQAdQB2AHcAeAB5AHoAewB8AH0AfgB/AIAAgQCCAIMAhACFAIYAhwCIAIkAigCLAIwAjQCOAI8AkACRAJIAkwCUAJUAlgCXAJgAmQCaAJsAnACdAJ4AnwCgAKEAogCjAKQApQCmAKcAqACpAKoAqwCsAK0ArgCvALAAsQCyALMAtAC1ALYAtwC4ALkAugC7ALwAvQC+AL8AwADBAMIAwwDEAMUAxgDHAMgAyQDKAMsAzADNAM4AzwDQANEA0gDTANQA1QDWANcA2ADZANoA2wDcAN0A3gDfAOAA4QDiAOMA5ADlAOYA5wDoAOkA6gDrAOwA7QDuAO8A8ADxAPIA8wD0APUA9gD3APgA+QD6APsA/AD9AP4A/wAAAQEBAgEDAQQBBQEGAQcBCAEJAQoBCwEMAQ0BDgEPARABEQESARMBFAEVARYBFwEYARkBGgEbARwBHQEeAR8BIAEhASIBIwEkASUBJgEnASgBKQEqASsBLAEtAS4BLwEwATEBMgEzATQBNQE2ATcBOAE5AToBOwE8AT0BPgE/AUABQQFCAUMBRAFFAUYBRwFIAUkBSgFLAUwBTQFOAU8BUAFRAVIBUwFUAVUBVgFXAVgBWQFaAVsBXAFdAV4BXwFgAWEBYgFjAWQBZQFmAWcBaAFpAWoBawFsAW0BbgFvAXABcQFyAXMBdAF1AXYBdwF4AXkBegF7AXwBfQF+AX8BgAGBAYIBgwGEAYUBhgGHAYgBiQGKAYsBjAGNAY4BjwGQAZEBkgGTAZQBlQGWAZcBmAGZAZoBmwGcAZ0BngGfAaABoQGiAaMBpAGlAaYBpwGoAakBqgGrAawBrQGuAa8BsAGxAbIBswG0AbUBtgG3AbgBuQG6AbsBvAG9Ab4BvwHAAcEBwgHDAcQBxQHGAccByAHJAcoBywHMAc0BzgHPAdAB",
          "dtype": "i2"
         },
         "xaxis": "x2",
         "y": {
          "bdata": "AAAAAICELkEAAAAAgIQuQQAAAACAhC5BAAAAAICELkEAAAAAgIQuQQAAAACAhC5BAAAAAICELkEAAAAAgIQuQQAAAACAhC5BAAAAAICELkEAAAAAgIQuQQAAAACAhC5BAAAAAICELkEAAAAAgIQuQQAAAACAhC5BAAAAAICELkEAAAAAgIQuQQAAAACAhC5BAAAAAICELkEAAAAAgIQuQQAAAACAhC5BAAAAAICELkEAAAAAgIQuQQAAAACAhC5BAAAAAICELkEAAAAAgIQuQQAAAACAhC5BAAAAAICELkEAAAAAgIQuQQAAAACAhC5BAAAAAICELkEAAAAAgIQuQQAAAACAhC5BAAAAAICELkEAAAAAgIQuQQAAAACAhC5BAAAAAICELkEAAAAAgIQuQQAAAACAhC5BAAAAAICELkEAAAAAgIQuQQAAAACAhC5BAAAAAICELkEAAAAAgIQuQQAAAACAhC5BAAAAAICELkEAAAAAgIQuQQAAAACAhC5BAAAAAICELkEAAAAAgIQuQQAAAACAhC5BAAAAAICELkEAAAAAgIQuQQAAAACAhC5BAAAAAICELkEAAAAAgIQuQQAAAACAhC5BAAAAAICELkEAAAAAgIQuQQAAAACAhC5BAAAAAICELkEAAAAAgIQuQQAAAACAhC5BAAAAAICELkEAAAAAgIQuQQAAAACAhC5BAAAAAICELkEAAAAAgIQuQQAAAACAhC5BAAAAAICELkEAAAAAgIQuQQAAAACAhC5BAAAAAICELkEAAAAAgIQuQQAAAACAhC5BAAAAAICELkEAAAAAgIQuQQAAAACAhC5BAAAAAICELkEAAAAAgIQuQQAAAACAhC5BAAAAAICELkEAAAAAgIQuQQAAAACAhC5BAAAAAICELkEAAAAAgIQuQQAAAACAhC5BAAAAAICELkEAAAAAgIQuQQAAAACAhC5BAAAAAICELkEAAAAAgIQuQQAAAACAhC5BAAAAAICELkEAAAAAgIQuQQAAAACAhC5BAAAAAICELkEAAAAAgIQuQQAAAACAhC5BAAAAAICELkEAAAAAgIQuQSdp/pgGZ5dAJ2n+mAZnl0Anaf6YBmeXQCdp/pgGZ5dAJ2n+mAZnl0Anaf6YBmeXQCdp/pgGZ5dAJ2n+mAZnl0Anaf6YBmeXQCdp/pgGZ5dAJ2n+mAZnl0Anaf6YBmeXQCdp/pgGZ5dAJ2n+mAZnl0AAAAAAAAAAAAAAAAAAAAAAAAAAAAAAAAAAAAAAAAAAAAAAAAAAAAAAAAAAAAAAAAAAAAAAAAAAAAAAAAAAAAAAAAAAAAAAAAAAAAAAAAAAAAAAAAAAAAAAAAAAAAAAAAAAAAAAAAAAAAAAAAAAAAAAAAAAAAAAAAAAAAAAAAAAAAAAAAAAAAAAAAAAAAAAAAAAAAAAAAAAAAAAAAAAAAAAAAAAAAAAAAAAAAAAAAAAAAAAAAAAAAAAAAAAAAAAAAAAAAAAAAAAAAAAAAAAAAAAAAAAAAAAAAAAAAAAAAAAAAAAAAAAAAAAAAAAAAAAAAAAAAAAAAAAAAAAAAAAAAAAAAAAAAAAAAAAAAAAAAAAAAAAAAAAAAAAAAAAAAAAAAAAAAAAAAAAAAAAAAAAAAAAAAAAAAAAAAAAAAAAAAAAAAAAAAAAAAAAAAAAAAAAAAAAAAAAAAAAAAAAAAAAAAAAAAAAAAAAAAAAAAAAAAAAAAAAAAAAAAAAAAAAAAAAAAAAAAAAAAAAAAAAAAAAAAAAAAAAAAAAAAAAAAAAAAAAAAAAAAAAAAAAAAAAAAAAAAAAAAAAAAAAAAAAAAAAAAAAAAAAAAAAAAAAAAAAAAAAAAAAAAAAAAAAAAAAAAAAAAAAAAAAAAAAAAAAAAAAAAAAAAAAAAAAAAAAAAAAAAAAAAAAAAAAAAAAAAAAAAAAAAAAAAAAAAAAAAAAAAAAAAAAAAAAAAAAAAAAAAAAAAAAAAAAAAAAAAAAAAAAAAAAAAAAAAAAAAAAAAAAAAAAAAAAAAAAAAAAAAAAAAAAAAAAAAAAAAAAAAAAAAAAAAAAAAAAAAAAAAAAAAAAAAAAAAAAAAAAAAAAAAAAAAAAAAAAAAAAAAAAAAAAAAAAAAAAAAAAAAAAAAAAAAAAAAAAAAAAAAAAAAAAAAAAAAAAAAAAAAAAAAAAAAAAAAAAAAAAAAAAAAAAAAAAAAAAAAAAAAAAAAAAAAAAAAAAAAAAAAAAAAAAAAAAAAAAAAAAAAAAAAAAAAAAAAAAAAAAAAAAAAAAAAAAAAAAAAAAAAAAAAAAAAAAAAAAAAAAAAAAAAAAAAAAAAAAAAAAAAAAAAAAAAAAAAAAAAAAAAAAAAAAAAAAAAAAAAAAAAAAAAAAAAAAAAAAAAAAAAAAAAAAAAAAAAAAAAAAAAAAAAAAAAAAAAAAAAAAAAAAAAAAAAAAAAAAAAAAAAAAAAAAAAAAAAAAAAAAAAAAAAAAAAAAAAAAAAAAAAAAAAAAAAAAAAAAAAAAAAAAAAAAAAAAAAAAAAAAAAAAAAAAAAAAAAAAAAAAAAAAAAAAAAAAAAAAAAAAAAAAAAAAAAAAAAAAAAAAAAAAAAAAAAAAAAAAAAAAAAAAAAAAAAAAAAAAAAAAAAAAAAAAAAAAAAAAAAAAAAAAAAAAAAAAAAAAAAAAAAAAAAAAAAAAAAAAAAAAAAAAAAAAAAAAAAAAAAAAAAAAAAAAAAAAAAAAAAAAAAAAAAAAAAAAAAAAAAAAAAAAAAAAAAAAAAAAAAAAAAAAAAAAAAAAAAAAAAAAAAAAAAAAAAAAAAAAAAAAAAAAAAAAAAAAAAAAAAAAAAAAAAAAAAAAAAAAAAAAAAAAAAAAAAAAAAAAAAAAAAAAAAAAAAAAAAAAAAAAAAAAAAAAAAAAAAAAAAAAAAAAAAAAAAAAAAAAAAAAAAAAAAAAAAAAAAAAAAAAAAAAAAAAAAAAAAAAAAAAAAAAAAAAAAAAAAAAAAAAAAAAAAAAAAAAAAAAAAAAAAAAAAAAAAAAAAAAAAAAAAAAAAAAAAAAAAAAAAAAAAAAAAAAAAAAAAAAAAAAAAAAAAAAAAAAAAAAAAAAAAAAAAAAAAAAAAAAAAAAAAAAAAAAAAAAAAAAAAAAAAAAAAAAAAAAAAAAAAAAAAAAAAAAAAAAAAAAAAAAAAAAAAAAAAAAAAAAAAAAAAAAAAAAAAAAAAAAAAAAAAAAAAAAAAAAAAAAAAAAAAAAAAAAAAAAAAAAAAAAAAAAAAAAAAAAAAAAAAAAAAAAAAAAAAAAAAAAAAAAAAAAAAAAAAAAAAAAAAAAAAAAAAAAAAAAAAAAAAAAAAAAAAAAAAAAAAAAAAAAAAAAAAAAAAAAAAAAAAAAAAAAAAAAAAAAAAAAAAAAAAAAAAAAAAAAAAAAAAAAAAAAAAAAAAAAAAAAAAAAAAAAAAAAAAAAAAAAAAAAAAAAAAAAAAAAAAAAAAAAAAAAAAAAAAAAAAAAAAAAAAAAAAAAAAAAAAAAAAAAAAAAAAAAAAAAAAAAAAAAAAAAAAAAAAAAAAAAAAAAAAAAAAAAAAAAAAAAAAAAAAAAAAAAAAAAAAAAAAAAAAAAAAAAAAAAAAAAAAAAAAAAAAAAAAAAAAAAAAAAAAAAAAAAAAAAAAAAAAAAAAAAAAAAAAAAAAAAAAAAAAAAAAAAAAAAAAAAAAAAAAAAAAAAAAAAAAAAAAAAAAAAAAAAAAAAAAAAAAAAAAAAAAAAAAAAAAAAAAAAAAAAAAAAAAAAAAAAAAAAAAAAAAAAAAAAAAAAAAAAAAAAAAAAAAAAAAAAAAAAAAAAAAAAAAAAAAAAAAAAAAAAAAAAAAAAAAAAAAAAAAAAAAAAAAAAAAAAAAAAAAAAAAAAAAAAAAAAAAAAAAAAAAAAAAAAAAAAAAAAAAAAAAAAAAAAAAAAAAAAAAAAAAAAAAAAAAAAAAAAAAAAAAAAAAAAAAAAAAAAAAAAAAAAAAAAAAAAAAAAAAAAAAAAAAAAAAAAAAAAAAAAAAAAAAAAAAAAAAAAAAAAAAAAAAAAAAAAAAAAAAAAAAAAAAAAAAAAAAAAAAAAAAAAAAAAAAAAAAAAAAAAAAAAAAAAAAAAAAAAAAAAAAAAAAAAAAAAAAAAAAAAAAAAAAAAAAAAAAAAAAAAAAAAAAAAAAAAAAAAAAAAAAAAAAAAAAAAAAAAAAAAAAAAAAAAAAAAAAAAAAAAAAAAAAAAAAAAAAAAAAAAAAAAAAAAAAAAAAAAAAAAAAAAAAAAAAAAAAAAAAAAAAAAAAAAAAAAAAAAAAAAAAAAAAAAAAAAAAAAAAAAAAAAAAAAAAAAAAAAAAAAAAAAAAAAAAAAAAAAAAAAAAAAAAAAAAAAAAAAAAAAAAAAAAAAAAAAAAAAAAAAAAAAAAAAAAAAAAAAAAAAAAAAAAAAAAAAAAAAAAAAAAAAAAAAAAAAAAAAAAAAAAAAAAAAAAAAAAAAAAAAAAAAAAAAAAAAAAAAAAAAAAAAAAAAAAAAAAAAAAAAAAAAAAAAAAAAAAAAAAAAAAAAAAAAAAAAAAAAAAAAAAAAAAAAAAAAAAAAAAAAAAAAAAAAAAAAAAAAAAAAAAAAAAAAAAAAAAAAAAAAAAAAAAAAAAAAAAAAAAAAAAAAAAAAAAAAAAAAAAAAAAAAAAAAAAAAAAAAAAAAAAAAAAAAAAAAAAAAAAAAAAAAAAAAAAAAAAAAAAAAAAAAAAAAAAAAAAAAAAAAAAAAAAAAAAAAAAAAAAAAAAAAAAAAAAAAAAAAAAAAAAAAAAAAAAAAAAAAAAAAAAAAAAAAAAAAAAAAAAAAAAAAAAAAAAAAAAAAAAAAAAAAAAAAAAAAAAAAAAAAAAAAAAAAAAAAAAAAAAAAAAAAAAAAAAAAAAAAAAAAAAAAAAAAAAAAAAAAAAAAAAAAAAAAAAAAAAAAAAAAAAAAAAAAAAAAAAAAAAAAAAAAAAAAAAAA",
          "dtype": "f8"
         },
         "yaxis": "y2"
        },
        {
         "line": {
          "width": 2
         },
         "mode": "lines",
         "name": "simulator:/USDT:/locked",
         "showlegend": true,
         "type": "scatter",
         "x": {
          "bdata": "AAABAAIAAwAEAAUABgAHAAgACQAKAAsADAANAA4ADwAQABEAEgATABQAFQAWABcAGAAZABoAGwAcAB0AHgAfACAAIQAiACMAJAAlACYAJwAoACkAKgArACwALQAuAC8AMAAxADIAMwA0ADUANgA3ADgAOQA6ADsAPAA9AD4APwBAAEEAQgBDAEQARQBGAEcASABJAEoASwBMAE0ATgBPAFAAUQBSAFMAVABVAFYAVwBYAFkAWgBbAFwAXQBeAF8AYABhAGIAYwBkAGUAZgBnAGgAaQBqAGsAbABtAG4AbwBwAHEAcgBzAHQAdQB2AHcAeAB5AHoAewB8AH0AfgB/AIAAgQCCAIMAhACFAIYAhwCIAIkAigCLAIwAjQCOAI8AkACRAJIAkwCUAJUAlgCXAJgAmQCaAJsAnACdAJ4AnwCgAKEAogCjAKQApQCmAKcAqACpAKoAqwCsAK0ArgCvALAAsQCyALMAtAC1ALYAtwC4ALkAugC7ALwAvQC+AL8AwADBAMIAwwDEAMUAxgDHAMgAyQDKAMsAzADNAM4AzwDQANEA0gDTANQA1QDWANcA2ADZANoA2wDcAN0A3gDfAOAA4QDiAOMA5ADlAOYA5wDoAOkA6gDrAOwA7QDuAO8A8ADxAPIA8wD0APUA9gD3APgA+QD6APsA/AD9AP4A/wAAAQEBAgEDAQQBBQEGAQcBCAEJAQoBCwEMAQ0BDgEPARABEQESARMBFAEVARYBFwEYARkBGgEbARwBHQEeAR8BIAEhASIBIwEkASUBJgEnASgBKQEqASsBLAEtAS4BLwEwATEBMgEzATQBNQE2ATcBOAE5AToBOwE8AT0BPgE/AUABQQFCAUMBRAFFAUYBRwFIAUkBSgFLAUwBTQFOAU8BUAFRAVIBUwFUAVUBVgFXAVgBWQFaAVsBXAFdAV4BXwFgAWEBYgFjAWQBZQFmAWcBaAFpAWoBawFsAW0BbgFvAXABcQFyAXMBdAF1AXYBdwF4AXkBegF7AXwBfQF+AX8BgAGBAYIBgwGEAYUBhgGHAYgBiQGKAYsBjAGNAY4BjwGQAZEBkgGTAZQBlQGWAZcBmAGZAZoBmwGcAZ0BngGfAaABoQGiAaMBpAGlAaYBpwGoAakBqgGrAawBrQGuAa8BsAGxAbIBswG0AbUBtgG3AbgBuQG6AbsBvAG9Ab4BvwHAAcEBwgHDAcQBxQHGAccByAHJAcoBywHMAc0BzgHPAdAB",
          "dtype": "i2"
         },
         "xaxis": "x2",
         "y": {
          "bdata": "AAAAAAAAAAAAAAAAAAAAAAAAAAAAAAAAAAAAAAAAAAAAAAAAAAAAAAAAAAAAAAAAAAAAAAAAAAAAAAAAAAAAAAAAAAAAAAAAAAAAAAAAAAAAAAAAAAAAAAAAAAAAAAAAAAAAAAAAAAAAAAAAAAAAAAAAAAAAAAAAAAAAAAAAAAAAAAAAAAAAAAAAAAAAAAAAAAAAAAAAAAAAAAAAAAAAAAAAAAAAAAAAAAAAAAAAAAAAAAAAAAAAAAAAAAAAAAAAAAAAAAAAAAAAAAAAAAAAAAAAAAAAAAAAAAAAAAAAAAAAAAAAAAAAAAAAAAAAAAAAAAAAAAAAAAAAAAAAAAAAAAAAAAAAAAAAAAAAAAAAAAAAAAAAAAAAAAAAAAAAAAAAAAAAAAAAAAAAAAAAAAAAAAAAAAAAAAAAAAAAAAAAAAAAAAAAAAAAAAAAAAAAAAAAAAAAAAAAAAAAAAAAAAAAAAAAAAAAAAAAAAAAAAAAAAAAAAAAAAAAAAAAAAAAAAAAAAAAAAAAAAAAAAAAAAAAAAAAAAAAAAAAAAAAAAAAAAAAAAAAAAAAAAAAAAAAAAAAAAAAAAAAAAAAAAAAAAAAAAAAAAAAAAAAAAAAAAAAAAAAAAAAAAAAAAAAAAAAAAAAAAAAAAAAAAAAAAAAAAAAAAAAAAAAAAAAAAAAAAAAAAAAAAAAAAAAAAAAAAAAAAAAAAAAAAAAAAAAAAAAAAAAAAAAAAAAAAAAAAAAAAAAAAAAAAAAAAAAAAAAAAAAAAAAAAAAAAAAAAAAAAAAAAAAAAAAAAAAAAAAAAAAAAAAAAAAAAAAAAAAAAAAAAAAAAAAAAAAAAAAAAAAAAAAAAAAAAAAAAAAAAAAAAAAAAAAAAAAAAAAAAAAAAAAAAAAAAAAAAAAAAAAAAAAAAAAAAAAAAAAAAAAAAAAAAAAAAAAAAAAAAAAAAAAAAAAAAAAAAAAAAAAAAAAAAAAAAAAAAAAAAAAAAAAAAAAAAAAAAAAAAAAAAAAAAAAAAAAAAAAAAAAAAAAAAAAAAAAAAAAAAAAAAAAAAAAAAAAAAAAAAAAAAAAAAAAAAAAALkXHE6mErFAuRccTqYSsUC5FxxOphKxQLkXHE6mErFAuRccTqYSsUC5FxxOphKxQLkXHE6mErFAuRccTqYSsUC5FxxOphKxQLkXHE6mErFAuRccTqYSsUC5FxxOphKxQLkXHE6mErFAuRccTqYSsUC5FxxOphKxQLkXHE6mErFAuRccTqYSsUC5FxxOphKxQLkXHE6mErFAuRccTqYSsUC5FxxOphKxQLkXHE6mErFAuRccTqYSsUC5FxxOphKxQLkXHE6mErFAuRccTqYSsUC5FxxOphKxQLkXHE6mErFAuRccTqYSsUC5FxxOphKxQLkXHE6mErFAuRccTqYSsUC5FxxOphKxQLkXHE6mErFAuRccTqYSsUC5FxxOphKxQLkXHE6mErFAuRccTqYSsUC5FxxOphKxQLkXHE6mErFAuRccTqYSsUC5FxxOphKxQLkXHE6mErFAuRccTqYSsUC5FxxOphKxQLkXHE6mErFAuRccTqYSsUC5FxxOphKxQLkXHE6mErFAuRccTqYSsUC5FxxOphKxQLkXHE6mErFAuRccTqYSsUC5FxxOphKxQLkXHE6mErFAuRccTqYSsUC5FxxOphKxQLkXHE6mErFAuRccTqYSsUC5FxxOphKxQLkXHE6mErFAuRccTqYSsUC5FxxOphKxQLkXHE6mErFAuRccTqYSsUC5FxxOphKxQLkXHE6mErFAuRccTqYSsUC5FxxOphKxQLkXHE6mErFAuRccTqYSsUC5FxxOphKxQLkXHE6mErFAuRccTqYSsUC5FxxOphKxQLkXHE6mErFAuRccTqYSsUC5FxxOphKxQLkXHE6mErFAuRccTqYSsUC5FxxOphKxQLkXHE6mErFAuRccTqYSsUC5FxxOphKxQLkXHE6mErFAuRccTqYSsUC5FxxOphKxQLkXHE6mErFAuRccTqYSsUC5FxxOphKxQLkXHE6mErFAuRccTqYSsUC5FxxOphKxQLkXHE6mErFAuRccTqYSsUC5FxxOphKxQLkXHE6mErFAuRccTqYSsUC5FxxOphKxQLkXHE6mErFAuRccTqYSsUC5FxxOphKxQLkXHE6mErFAuRccTqYSsUC5FxxOphKxQLkXHE6mErFAuRccTqYSsUC5FxxOphKxQLkXHE6mErFAuRccTqYSsUC5FxxOphKxQLkXHE6mErFAuRccTqYSsUC5FxxOphKxQLkXHE6mErFAuRccTqYSsUC5FxxOphKxQLkXHE6mErFAuRccTqYSsUC5FxxOphKxQLkXHE6mErFAuRccTqYSsUC5FxxOphKxQLkXHE6mErFAuRccTqYSsUC5FxxOphKxQLkXHE6mErFAuRccTqYSsUC5FxxOphKxQLkXHE6mErFAuRccTqYSsUC5FxxOphKxQLkXHE6mErFAuRccTqYSsUC5FxxOphKxQLkXHE6mErFAuRccTqYSsUC5FxxOphKxQLkXHE6mErFAuRccTqYSsUC5FxxOphKxQLkXHE6mErFAuRccTqYSsUC5FxxOphKxQLkXHE6mErFAuRccTqYSsUC5FxxOphKxQLkXHE6mErFAuRccTqYSsUC5FxxOphKxQLkXHE6mErFAuRccTqYSsUC5FxxOphKxQLkXHE6mErFAuRccTqYSsUC5FxxOphKxQLkXHE6mErFAuRccTqYSsUC5FxxOphKxQLkXHE6mErFAuRccTqYSsUC5FxxOphKxQLkXHE6mErFAuRccTqYSsUC5FxxOphKxQLkXHE6mErFAuRccTqYSsUC5FxxOphKxQLkXHE6mErFAuRccTqYSsUC5FxxOphKxQLkXHE6mErFAuRccTqYSsUC5FxxOphKxQLkXHE6mErFAuRccTqYSsUC5FxxOphKxQLkXHE6mErFAuRccTqYSsUC5FxxOphKxQLkXHE6mErFAuRccTqYSsUC5FxxOphKxQLkXHE6mErFAuRccTqYSsUC5FxxOphKxQLkXHE6mErFAuRccTqYSsUC5FxxOphKxQLkXHE6mErFAuRccTqYSsUC5FxxOphKxQLkXHE6mErFAuRccTqYSsUC5FxxOphKxQLkXHE6mErFAuRccTqYSsUC5FxxOphKxQLkXHE6mErFAuRccTqYSsUC5FxxOphKxQLkXHE6mErFAuRccTqYSsUC5FxxOphKxQLkXHE6mErFAuRccTqYSsUC5FxxOphKxQLkXHE6mErFAuRccTqYSsUC5FxxOphKxQLkXHE6mErFAuRccTqYSsUC5FxxOphKxQLkXHE6mErFAuRccTqYSsUC5FxxOphKxQLkXHE6mErFAuRccTqYSsUC5FxxOphKxQLkXHE6mErFAuRccTqYSsUC5FxxOphKxQLkXHE6mErFAuRccTqYSsUC5FxxOphKxQLkXHE6mErFAuRccTqYSsUC5FxxOphKxQLkXHE6mErFAuRccTqYSsUC5FxxOphKxQLkXHE6mErFAuRccTqYSsUC5FxxOphKxQLkXHE6mErFAuRccTqYSsUC5FxxOphKxQLkXHE6mErFAuRccTqYSsUC5FxxOphKxQLkXHE6mErFAuRccTqYSsUC5FxxOphKxQLkXHE6mErFAuRccTqYSsUC5FxxOphKxQLkXHE6mErFAuRccTqYSsUC5FxxOphKxQLkXHE6mErFAuRccTqYSsUC5FxxOphKxQLkXHE6mErFAuRccTqYSsUC5FxxOphKxQLkXHE6mErFAuRccTqYSsUC5FxxOphKxQLkXHE6mErFAuRccTqYSsUC5FxxOphKxQLkXHE6mErFAuRccTqYSsUC5FxxOphKxQLkXHE6mErFAuRccTqYSsUC5FxxOphKxQLkXHE6mErFAuRccTqYSsUC5FxxOphKxQLkXHE6mErFAuRccTqYSsUC5FxxOphKxQLkXHE6mErFAuRccTqYSsUC5FxxOphKxQLkXHE6mErFAuRccTqYSsUC5FxxOphKxQLkXHE6mErFAuRccTqYSsUC5FxxOphKxQLkXHE6mErFAuRccTqYSsUC5FxxOphKxQLkXHE6mErFAuRccTqYSsUC5FxxOphKxQLkXHE6mErFAuRccTqYSsUC5FxxOphKxQLkXHE6mErFAuRccTqYSsUC5FxxOphKxQLkXHE6mErFAuRccTqYSsUC5FxxOphKxQLkXHE6mErFAuRccTqYSsUC5FxxOphKxQLkXHE6mErFAuRccTqYSsUC5FxxOphKxQLkXHE6mErFAuRccTqYSsUC5FxxOphKxQLkXHE6mErFAuRccTqYSsUC5FxxOphKxQLkXHE6mErFAuRccTqYSsUC5FxxOphKxQLkXHE6mErFAuRccTqYSsUC5FxxOphKxQLkXHE6mErFAuRccTqYSsUC5FxxOphKxQLkXHE6mErFAuRccTqYSsUC5FxxOphKxQLkXHE6mErFAuRccTqYSsUC5FxxOphKxQLkXHE6mErFAuRccTqYSsUC5FxxOphKxQLkXHE6mErFAuRccTqYSsUC5FxxOphKxQLkXHE6mErFAuRccTqYSsUC5FxxOphKxQLkXHE6mErFAuRccTqYSsUC5FxxOphKxQLkXHE6mErFAuRccTqYSsUC5FxxOphKxQLkXHE6mErFAuRccTqYSsUC5FxxOphKxQLkXHE6mErFAuRccTqYSsUC5FxxOphKxQLkXHE6mErFAuRccTqYSsUC5FxxOphKxQLkXHE6mErFAuRccTqYSsUC5FxxOphKxQLkXHE6mErFAuRccTqYSsUC5FxxOphKxQLkXHE6mErFAuRccTqYSsUC5FxxOphKxQLkXHE6mErFAuRccTqYSsUC5FxxOphKxQLkXHE6mErFAuRccTqYSsUC5FxxOphKxQLkXHE6mErFA",
          "dtype": "f8"
         },
         "yaxis": "y2"
        },
        {
         "line": {
          "width": 2
         },
         "mode": "lines",
         "name": "simulator:/USDT:/total",
         "showlegend": true,
         "type": "scatter",
         "x": {
          "bdata": "AAABAAIAAwAEAAUABgAHAAgACQAKAAsADAANAA4ADwAQABEAEgATABQAFQAWABcAGAAZABoAGwAcAB0AHgAfACAAIQAiACMAJAAlACYAJwAoACkAKgArACwALQAuAC8AMAAxADIAMwA0ADUANgA3ADgAOQA6ADsAPAA9AD4APwBAAEEAQgBDAEQARQBGAEcASABJAEoASwBMAE0ATgBPAFAAUQBSAFMAVABVAFYAVwBYAFkAWgBbAFwAXQBeAF8AYABhAGIAYwBkAGUAZgBnAGgAaQBqAGsAbABtAG4AbwBwAHEAcgBzAHQAdQB2AHcAeAB5AHoAewB8AH0AfgB/AIAAgQCCAIMAhACFAIYAhwCIAIkAigCLAIwAjQCOAI8AkACRAJIAkwCUAJUAlgCXAJgAmQCaAJsAnACdAJ4AnwCgAKEAogCjAKQApQCmAKcAqACpAKoAqwCsAK0ArgCvALAAsQCyALMAtAC1ALYAtwC4ALkAugC7ALwAvQC+AL8AwADBAMIAwwDEAMUAxgDHAMgAyQDKAMsAzADNAM4AzwDQANEA0gDTANQA1QDWANcA2ADZANoA2wDcAN0A3gDfAOAA4QDiAOMA5ADlAOYA5wDoAOkA6gDrAOwA7QDuAO8A8ADxAPIA8wD0APUA9gD3APgA+QD6APsA/AD9AP4A/wAAAQEBAgEDAQQBBQEGAQcBCAEJAQoBCwEMAQ0BDgEPARABEQESARMBFAEVARYBFwEYARkBGgEbARwBHQEeAR8BIAEhASIBIwEkASUBJgEnASgBKQEqASsBLAEtAS4BLwEwATEBMgEzATQBNQE2ATcBOAE5AToBOwE8AT0BPgE/AUABQQFCAUMBRAFFAUYBRwFIAUkBSgFLAUwBTQFOAU8BUAFRAVIBUwFUAVUBVgFXAVgBWQFaAVsBXAFdAV4BXwFgAWEBYgFjAWQBZQFmAWcBaAFpAWoBawFsAW0BbgFvAXABcQFyAXMBdAF1AXYBdwF4AXkBegF7AXwBfQF+AX8BgAGBAYIBgwGEAYUBhgGHAYgBiQGKAYsBjAGNAY4BjwGQAZEBkgGTAZQBlQGWAZcBmAGZAZoBmwGcAZ0BngGfAaABoQGiAaMBpAGlAaYBpwGoAakBqgGrAawBrQGuAa8BsAGxAbIBswG0AbUBtgG3AbgBuQG6AbsBvAG9Ab4BvwHAAcEBwgHDAcQBxQHGAccByAHJAcoBywHMAc0BzgHPAdAB",
          "dtype": "i2"
         },
         "xaxis": "x2",
         "y": {
          "bdata": "AAAAAICELkEAAAAAgIQuQQAAAACAhC5BAAAAAICELkEAAAAAgIQuQQAAAACAhC5BAAAAAICELkEAAAAAgIQuQQAAAACAhC5BAAAAAICELkEAAAAAgIQuQQAAAACAhC5BAAAAAICELkEAAAAAgIQuQQAAAACAhC5BAAAAAICELkEAAAAAgIQuQQAAAACAhC5BAAAAAICELkEAAAAAgIQuQQAAAACAhC5BAAAAAICELkEAAAAAgIQuQQAAAACAhC5BAAAAAICELkEAAAAAgIQuQQAAAACAhC5BAAAAAICELkEAAAAAgIQuQQAAAACAhC5BAAAAAICELkEAAAAAgIQuQQAAAACAhC5BAAAAAICELkEAAAAAgIQuQQAAAACAhC5BAAAAAICELkEAAAAAgIQuQQAAAACAhC5BAAAAAICELkEAAAAAgIQuQQAAAACAhC5BAAAAAICELkEAAAAAgIQuQQAAAACAhC5BAAAAAICELkEAAAAAgIQuQQAAAACAhC5BAAAAAICELkEAAAAAgIQuQQAAAACAhC5BAAAAAICELkEAAAAAgIQuQQAAAACAhC5BAAAAAICELkEAAAAAgIQuQQAAAACAhC5BAAAAAICELkEAAAAAgIQuQQAAAACAhC5BAAAAAICELkEAAAAAgIQuQQAAAACAhC5BAAAAAICELkEAAAAAgIQuQQAAAACAhC5BAAAAAICELkEAAAAAgIQuQQAAAACAhC5BAAAAAICELkEAAAAAgIQuQQAAAACAhC5BAAAAAICELkEAAAAAgIQuQQAAAACAhC5BAAAAAICELkEAAAAAgIQuQQAAAACAhC5BAAAAAICELkEAAAAAgIQuQQAAAACAhC5BAAAAAICELkEAAAAAgIQuQQAAAACAhC5BAAAAAICELkEAAAAAgIQuQQAAAACAhC5BAAAAAICELkEAAAAAgIQuQQAAAACAhC5BAAAAAICELkEAAAAAgIQuQQAAAACAhC5BAAAAAICELkEAAAAAgIQuQQAAAACAhC5BAAAAAICELkEAAAAAgIQuQQAAAACAhC5BAAAAAICELkEAAAAAgIQuQQKyW/Rn7LZAArJb9GfstkACslv0Z+y2QAKyW/Rn7LZAArJb9GfstkACslv0Z+y2QAKyW/Rn7LZAArJb9GfstkACslv0Z+y2QAKyW/Rn7LZAArJb9GfstkACslv0Z+y2QAKyW/Rn7LZAArJb9GfstkC5FxxOphKxQLkXHE6mErFAuRccTqYSsUC5FxxOphKxQLkXHE6mErFAuRccTqYSsUC5FxxOphKxQLkXHE6mErFAuRccTqYSsUC5FxxOphKxQLkXHE6mErFAuRccTqYSsUC5FxxOphKxQLkXHE6mErFAuRccTqYSsUC5FxxOphKxQLkXHE6mErFAuRccTqYSsUC5FxxOphKxQLkXHE6mErFAuRccTqYSsUC5FxxOphKxQLkXHE6mErFAuRccTqYSsUC5FxxOphKxQLkXHE6mErFAuRccTqYSsUC5FxxOphKxQLkXHE6mErFAuRccTqYSsUC5FxxOphKxQLkXHE6mErFAuRccTqYSsUC5FxxOphKxQLkXHE6mErFAuRccTqYSsUC5FxxOphKxQLkXHE6mErFAuRccTqYSsUC5FxxOphKxQLkXHE6mErFAuRccTqYSsUC5FxxOphKxQLkXHE6mErFAuRccTqYSsUC5FxxOphKxQLkXHE6mErFAuRccTqYSsUC5FxxOphKxQLkXHE6mErFAuRccTqYSsUC5FxxOphKxQLkXHE6mErFAuRccTqYSsUC5FxxOphKxQLkXHE6mErFAuRccTqYSsUC5FxxOphKxQLkXHE6mErFAuRccTqYSsUC5FxxOphKxQLkXHE6mErFAuRccTqYSsUC5FxxOphKxQLkXHE6mErFAuRccTqYSsUC5FxxOphKxQLkXHE6mErFAuRccTqYSsUC5FxxOphKxQLkXHE6mErFAuRccTqYSsUC5FxxOphKxQLkXHE6mErFAuRccTqYSsUC5FxxOphKxQLkXHE6mErFAuRccTqYSsUC5FxxOphKxQLkXHE6mErFAuRccTqYSsUC5FxxOphKxQLkXHE6mErFAuRccTqYSsUC5FxxOphKxQLkXHE6mErFAuRccTqYSsUC5FxxOphKxQLkXHE6mErFAuRccTqYSsUC5FxxOphKxQLkXHE6mErFAuRccTqYSsUC5FxxOphKxQLkXHE6mErFAuRccTqYSsUC5FxxOphKxQLkXHE6mErFAuRccTqYSsUC5FxxOphKxQLkXHE6mErFAuRccTqYSsUC5FxxOphKxQLkXHE6mErFAuRccTqYSsUC5FxxOphKxQLkXHE6mErFAuRccTqYSsUC5FxxOphKxQLkXHE6mErFAuRccTqYSsUC5FxxOphKxQLkXHE6mErFAuRccTqYSsUC5FxxOphKxQLkXHE6mErFAuRccTqYSsUC5FxxOphKxQLkXHE6mErFAuRccTqYSsUC5FxxOphKxQLkXHE6mErFAuRccTqYSsUC5FxxOphKxQLkXHE6mErFAuRccTqYSsUC5FxxOphKxQLkXHE6mErFAuRccTqYSsUC5FxxOphKxQLkXHE6mErFAuRccTqYSsUC5FxxOphKxQLkXHE6mErFAuRccTqYSsUC5FxxOphKxQLkXHE6mErFAuRccTqYSsUC5FxxOphKxQLkXHE6mErFAuRccTqYSsUC5FxxOphKxQLkXHE6mErFAuRccTqYSsUC5FxxOphKxQLkXHE6mErFAuRccTqYSsUC5FxxOphKxQLkXHE6mErFAuRccTqYSsUC5FxxOphKxQLkXHE6mErFAuRccTqYSsUC5FxxOphKxQLkXHE6mErFAuRccTqYSsUC5FxxOphKxQLkXHE6mErFAuRccTqYSsUC5FxxOphKxQLkXHE6mErFAuRccTqYSsUC5FxxOphKxQLkXHE6mErFAuRccTqYSsUC5FxxOphKxQLkXHE6mErFAuRccTqYSsUC5FxxOphKxQLkXHE6mErFAuRccTqYSsUC5FxxOphKxQLkXHE6mErFAuRccTqYSsUC5FxxOphKxQLkXHE6mErFAuRccTqYSsUC5FxxOphKxQLkXHE6mErFAuRccTqYSsUC5FxxOphKxQLkXHE6mErFAuRccTqYSsUC5FxxOphKxQLkXHE6mErFAuRccTqYSsUC5FxxOphKxQLkXHE6mErFAuRccTqYSsUC5FxxOphKxQLkXHE6mErFAuRccTqYSsUC5FxxOphKxQLkXHE6mErFAuRccTqYSsUC5FxxOphKxQLkXHE6mErFAuRccTqYSsUC5FxxOphKxQLkXHE6mErFAuRccTqYSsUC5FxxOphKxQLkXHE6mErFAuRccTqYSsUC5FxxOphKxQLkXHE6mErFAuRccTqYSsUC5FxxOphKxQLkXHE6mErFAuRccTqYSsUC5FxxOphKxQLkXHE6mErFAuRccTqYSsUC5FxxOphKxQLkXHE6mErFAuRccTqYSsUC5FxxOphKxQLkXHE6mErFAuRccTqYSsUC5FxxOphKxQLkXHE6mErFAuRccTqYSsUC5FxxOphKxQLkXHE6mErFAuRccTqYSsUC5FxxOphKxQLkXHE6mErFAuRccTqYSsUC5FxxOphKxQLkXHE6mErFAuRccTqYSsUC5FxxOphKxQLkXHE6mErFAuRccTqYSsUC5FxxOphKxQLkXHE6mErFAuRccTqYSsUC5FxxOphKxQLkXHE6mErFAuRccTqYSsUC5FxxOphKxQLkXHE6mErFAuRccTqYSsUC5FxxOphKxQLkXHE6mErFAuRccTqYSsUC5FxxOphKxQLkXHE6mErFAuRccTqYSsUC5FxxOphKxQLkXHE6mErFAuRccTqYSsUC5FxxOphKxQLkXHE6mErFAuRccTqYSsUC5FxxOphKxQLkXHE6mErFAuRccTqYSsUC5FxxOphKxQLkXHE6mErFAuRccTqYSsUC5FxxOphKxQLkXHE6mErFAuRccTqYSsUC5FxxOphKxQLkXHE6mErFAuRccTqYSsUC5FxxOphKxQLkXHE6mErFAuRccTqYSsUC5FxxOphKxQLkXHE6mErFAuRccTqYSsUC5FxxOphKxQLkXHE6mErFAuRccTqYSsUC5FxxOphKxQLkXHE6mErFAuRccTqYSsUC5FxxOphKxQLkXHE6mErFAuRccTqYSsUC5FxxOphKxQLkXHE6mErFAuRccTqYSsUC5FxxOphKxQLkXHE6mErFAuRccTqYSsUC5FxxOphKxQLkXHE6mErFAuRccTqYSsUC5FxxOphKxQLkXHE6mErFAuRccTqYSsUC5FxxOphKxQLkXHE6mErFAuRccTqYSsUC5FxxOphKxQLkXHE6mErFAuRccTqYSsUC5FxxOphKxQLkXHE6mErFAuRccTqYSsUC5FxxOphKxQLkXHE6mErFAuRccTqYSsUC5FxxOphKxQLkXHE6mErFAuRccTqYSsUC5FxxOphKxQLkXHE6mErFAuRccTqYSsUC5FxxOphKxQLkXHE6mErFAuRccTqYSsUC5FxxOphKxQLkXHE6mErFAuRccTqYSsUC5FxxOphKxQLkXHE6mErFAuRccTqYSsUC5FxxOphKxQLkXHE6mErFAuRccTqYSsUC5FxxOphKxQLkXHE6mErFAuRccTqYSsUC5FxxOphKxQLkXHE6mErFAuRccTqYSsUC5FxxOphKxQLkXHE6mErFAuRccTqYSsUC5FxxOphKxQLkXHE6mErFAuRccTqYSsUC5FxxOphKxQLkXHE6mErFAuRccTqYSsUC5FxxOphKxQLkXHE6mErFAuRccTqYSsUC5FxxOphKxQLkXHE6mErFAuRccTqYSsUC5FxxOphKxQLkXHE6mErFAuRccTqYSsUC5FxxOphKxQLkXHE6mErFA",
          "dtype": "f8"
         },
         "yaxis": "y2"
        },
        {
         "line": {
          "width": 2
         },
         "mode": "lines",
         "name": "simulator:/LINK:/free",
         "showlegend": true,
         "type": "scatter",
         "x": {
          "bdata": "AAABAAIAAwAEAAUABgAHAAgACQAKAAsADAANAA4ADwAQABEAEgATABQAFQAWABcAGAAZABoAGwAcAB0AHgAfACAAIQAiACMAJAAlACYAJwAoACkAKgArACwALQAuAC8AMAAxADIAMwA0ADUANgA3ADgAOQA6ADsAPAA9AD4APwBAAEEAQgBDAEQARQBGAEcASABJAEoASwBMAE0ATgBPAFAAUQBSAFMAVABVAFYAVwBYAFkAWgBbAFwAXQBeAF8AYABhAGIAYwBkAGUAZgBnAGgAaQBqAGsAbABtAG4AbwBwAHEAcgBzAHQAdQB2AHcAeAB5AHoAewB8AH0AfgB/AIAAgQCCAIMAhACFAIYAhwCIAIkAigCLAIwAjQCOAI8AkACRAJIAkwCUAJUAlgCXAJgAmQCaAJsAnACdAJ4AnwCgAKEAogCjAKQApQCmAKcAqACpAKoAqwCsAK0ArgCvALAAsQCyALMAtAC1ALYAtwC4ALkAugC7ALwAvQC+AL8AwADBAMIAwwDEAMUAxgDHAMgAyQDKAMsAzADNAM4AzwDQANEA0gDTANQA1QDWANcA2ADZANoA2wDcAN0A3gDfAOAA4QDiAOMA5ADlAOYA5wDoAOkA6gDrAOwA7QDuAO8A8ADxAPIA8wD0APUA9gD3APgA+QD6APsA/AD9AP4A/wAAAQEBAgEDAQQBBQEGAQcBCAEJAQoBCwEMAQ0BDgEPARABEQESARMBFAEVARYBFwEYARkBGgEbARwBHQEeAR8BIAEhASIBIwEkASUBJgEnASgBKQEqASsBLAEtAS4BLwEwATEBMgEzATQBNQE2ATcBOAE5AToBOwE8AT0BPgE/AUABQQFCAUMBRAFFAUYBRwFIAUkBSgFLAUwBTQFOAU8BUAFRAVIBUwFUAVUBVgFXAVgBWQFaAVsBXAFdAV4BXwFgAWEBYgFjAWQBZQFmAWcBaAFpAWoBawFsAW0BbgFvAXABcQFyAXMBdAF1AXYBdwF4AXkBegF7AXwBfQF+AX8BgAGBAYIBgwGEAYUBhgGHAYgBiQGKAYsBjAGNAY4BjwGQAZEBkgGTAZQBlQGWAZcBmAGZAZoBmwGcAZ0BngGfAaABoQGiAaMBpAGlAaYBpwGoAakBqgGrAawBrQGuAa8BsAGxAbIBswG0AbUBtgG3AbgBuQG6AbsBvAG9Ab4BvwHAAcEBwgHDAcQBxQHGAccByAHJAcoBywHMAc0BzgHPAdAB",
          "dtype": "i2"
         },
         "xaxis": "x2",
         "y": {
          "bdata": "AAAAAAAAAAAAAAAAAAAAAAAAAAAAAAAAAAAAAAAAAAAAAAAAAAAAAAAAAAAAAAAAAAAAAAAAAAAAAAAAAAAAAAAAAAAAAAAAAAAAAAAAAAAAAAAAAAAAAAAAAAAAAAAAAAAAAAAAAAAAAAAAAAAAAAAAAAAAAAAAAAAAAAAAAAAAAAAAAAAAAAAAAAAAAAAAAAAAAAAAAAAAAAAAAAAAAAAAAAAAAAAAAAAAAAAAAAAAAAAAAAAAAAAAAAAAAAAAAAAAAAAAAAAAAAAAAAAAAAAAAAAAAAAAAAAAAAAAAAAAAAAAAAAAAAAAAAAAAAAAAAAAAAAAAAAAAAAAAAAAAAAAAAAAAAAAAAAAAAAAAAAAAAAAAAAAAAAAAAAAAAAAAAAAAAAAAAAAAAAAAAAAAAAAAAAAAAAAAAAAAAAAAAAAAAAAAAAAAAAAAAAAAAAAAAAAAAAAAAAAAAAAAAAAAAAAAAAAAAAAAAAAAAAAAAAAAAAAAAAAAAAAAAAAAAAAAAAAAAAAAAAAAAAAAAAAAAAAAAAAAAAAAAAAAAAAAAAAAAAAAAAAAAAAAAAAAAAAAAAAAAAAAAAAAAAAAAAAAAAAAAAAAAAAAAAAAAAAAAAAAAAAAAAAAAAAAAAAAAAAAAAAAAAAAAAAAAAAAAAAAAAAAAAAAAAAAAAAAAAAAAAAAAAAAAAAAAAAAAAAAAAAAAAAAAAAAAAAAAAAAAAAAAAAAAAAAAAAAAAAAAAAAAAAAAAAAAAAAAAAAAAAAAAAAAAAAAAAAAAAAAAAAAAAAAAAAAAAAAAAAAAAAAAAAAAAAAAAAAAAAAAAAAAAAAAAAAAAAAAAAAAAAAAAAAAAAAAAAAAAAAAAAAAAAAAAAAAAAAAAAAAAAAAAAAAAAAAAAAAAAAAAAAAAAAAAAAAAAAAAAAAAAAAAAAAAAAAAAAAAAAAAAAAAAAAAAAAAAAAAAAAAAAAAAAAAAAAAAAAAAAAAAAAAAAAAAAAAAAAAAAAAAAAAAAAAAAAAAAAAAAAAAAAAAAAAAAAAAAAAAAAAAAAAAAAAAAAAAAAAAAAAAAAAAAAAAAAAAAAAAAAAAAAAAAAAAAAAAAAAAAAAAAAAAAAAAAAAAAAAAAAAAAAAAAAAAAAAAAAAAAAAAAAAAAAAAAAAAAAAAAAAAAAAAAAAAAAAAAAAAAAAAAAAAAAAAAAAAAAAAAAAAAAAAAAAAAAAAAAAAAAAAAANwXEZ55CyQA3BcRnnkLJADcFxGeeQskANwXEZ55CyQA3BcRnnkLJADcFxGeeQskANwXEZ55CyQA3BcRnnkLJADcFxGeeQskANwXEZ55CyQA3BcRnnkLJADcFxGeeQskANwXEZ55CyQA3BcRnnkLJADcFxGeeQskANwXEZ55CyQA3BcRnnkLJADcFxGeeQskANwXEZ55CyQA3BcRnnkLJADcFxGeeQskANwXEZ55CyQA3BcRnnkLJADcFxGeeQskANwXEZ55CyQA3BcRnnkLJADcFxGeeQskANwXEZ55CyQA3BcRnnkLJADcFxGeeQskANwXEZ55CyQA3BcRnnkLJADcFxGeeQskANwXEZ55CyQA3BcRnnkLJADcFxGeeQskANwXEZ55CyQA3BcRnnkLJADcFxGeeQskANwXEZ55CyQA3BcRnnkLJADcFxGeeQskANwXEZ55CyQA3BcRnnkLJADcFxGeeQskANwXEZ55CyQA3BcRnnkLJADcFxGeeQskANwXEZ55CyQA3BcRnnkLJADcFxGeeQskANwXEZ55CyQA3BcRnnkLJADcFxGeeQskANwXEZ55CyQA3BcRnnkLJADcFxGeeQskANwXEZ55CyQA3BcRnnkLJADcFxGeeQskANwXEZ55CyQA3BcRnnkLJADcFxGeeQskANwXEZ55CyQA3BcRnnkLJADcFxGeeQskANwXEZ55CyQA3BcRnnkLJADcFxGeeQskANwXEZ55CyQA3BcRnnkLJADcFxGeeQskANwXEZ55CyQA3BcRnnkLJADcFxGeeQskANwXEZ55CyQA3BcRnnkLJADcFxGeeQskANwXEZ55CyQA3BcRnnkLJADcFxGeeQskANwXEZ55CyQA3BcRnnkLJADcFxGeeQskANwXEZ55CyQA3BcRnnkLJADcFxGeeQskANwXEZ55CyQA3BcRnnkLJADcFxGeeQskANwXEZ55CyQA3BcRnnkLJADcFxGeeQskANwXEZ55CyQA3BcRnnkLJADcFxGeeQskANwXEZ55CyQA3BcRnnkLJADcFxGeeQskANwXEZ55CyQA3BcRnnkLJADcFxGeeQskANwXEZ55CyQA3BcRnnkLJADcFxGeeQskANwXEZ55CyQA3BcRnnkLJADcFxGeeQskANwXEZ55CyQA3BcRnnkLJADcFxGeeQskANwXEZ55CyQA3BcRnnkLJADcFxGeeQskANwXEZ55CyQA3BcRnnkLJADcFxGeeQskANwXEZ55CyQA3BcRnnkLJADcFxGeeQskANwXEZ55CyQA3BcRnnkLJADcFxGeeQskANwXEZ55CyQA3BcRnnkLJADcFxGeeQskANwXEZ55CyQA3BcRnnkLJADcFxGeeQskANwXEZ55CyQA3BcRnnkLJADcFxGeeQskANwXEZ55CyQA3BcRnnkLJADcFxGeeQskANwXEZ55CyQA3BcRnnkLJADcFxGeeQskANwXEZ55CyQA3BcRnnkLJADcFxGeeQskANwXEZ55CyQA3BcRnnkLJADcFxGeeQskANwXEZ55CyQA3BcRnnkLJADcFxGeeQskANwXEZ55CyQA3BcRnnkLJADcFxGeeQskANwXEZ55CyQA3BcRnnkLJADcFxGeeQskANwXEZ55CyQA3BcRnnkLJADcFxGeeQskANwXEZ55CyQA3BcRnnkLJADcFxGeeQskANwXEZ55CyQA3BcRnnkLJADcFxGeeQskANwXEZ55CyQA3BcRnnkLJADcFxGeeQskANwXEZ55CyQA3BcRnnkLJADcFxGeeQskANwXEZ55CyQA3BcRnnkLJADcFxGeeQskANwXEZ55CyQA3BcRnnkLJADcFxGeeQskANwXEZ55CyQA3BcRnnkLJADcFxGeeQskANwXEZ55CyQA3BcRnnkLJADcFxGeeQskANwXEZ55CyQA3BcRnnkLJADcFxGeeQskANwXEZ55CyQA3BcRnnkLJADcFxGeeQskANwXEZ55CyQA3BcRnnkLJADcFxGeeQskANwXEZ55CyQA3BcRnnkLJADcFxGeeQskANwXEZ55CyQA3BcRnnkLJADcFxGeeQskANwXEZ55CyQA3BcRnnkLJADcFxGeeQskANwXEZ55CyQA3BcRnnkLJADcFxGeeQskANwXEZ55CyQA3BcRnnkLJADcFxGeeQskANwXEZ55CyQA3BcRnnkLJADcFxGeeQskANwXEZ55CyQA3BcRnnkLJADcFxGeeQskANwXEZ55CyQA3BcRnnkLJADcFxGeeQskANwXEZ55CyQA3BcRnnkLJADcFxGeeQskANwXEZ55CyQA3BcRnnkLJADcFxGeeQskANwXEZ55CyQA3BcRnnkLJADcFxGeeQskANwXEZ55CyQA3BcRnnkLJADcFxGeeQskANwXEZ55CyQA3BcRnnkLJADcFxGeeQskANwXEZ55CyQA3BcRnnkLJADcFxGeeQskANwXEZ55CyQA3BcRnnkLJADcFxGeeQskANwXEZ55CyQA3BcRnnkLJADcFxGeeQskANwXEZ55CyQA3BcRnnkLJADcFxGeeQskANwXEZ55CyQA3BcRnnkLJADcFxGeeQskANwXEZ55CyQA3BcRnnkLJADcFxGeeQskANwXEZ55CyQA3BcRnnkLJADcFxGeeQskANwXEZ55CyQA3BcRnnkLJADcFxGeeQskANwXEZ55CyQA3BcRnnkLJADcFxGeeQskANwXEZ55CyQA3BcRnnkLJADcFxGeeQskANwXEZ55CyQA3BcRnnkLJADcFxGeeQskANwXEZ55CyQA3BcRnnkLJADcFxGeeQskANwXEZ55CyQA3BcRnnkLJADcFxGeeQskANwXEZ55CyQA3BcRnnkLJADcFxGeeQskANwXEZ55CyQA3BcRnnkLJADcFxGeeQskANwXEZ55CyQA3BcRnnkLJADcFxGeeQskANwXEZ55CyQA3BcRnnkLJADcFxGeeQskANwXEZ55CyQA3BcRnnkLJADcFxGeeQskANwXEZ55CyQA3BcRnnkLJADcFxGeeQskANwXEZ55CyQA3BcRnnkLJADcFxGeeQskANwXEZ55CyQA3BcRnnkLJADcFxGeeQskANwXEZ55CyQA3BcRnnkLJADcFxGeeQskANwXEZ55CyQA3BcRnnkLJADcFxGeeQskANwXEZ55CyQA3BcRnnkLJADcFxGeeQskANwXEZ55CyQA3BcRnnkLJADcFxGeeQskANwXEZ55CyQA3BcRnnkLJADcFxGeeQskANwXEZ55CyQA3BcRnnkLJADcFxGeeQskANwXEZ55CyQA3BcRnnkLJADcFxGeeQskANwXEZ55CyQA3BcRnnkLJADcFxGeeQskANwXEZ55CyQA3BcRnnkLJADcFxGeeQskANwXEZ55CyQA3BcRnnkLJADcFxGeeQskANwXEZ55CyQA3BcRnnkLJADcFxGeeQskANwXEZ55CyQA3BcRnnkLJADcFxGeeQskANwXEZ55CyQA3BcRnnkLJADcFxGeeQskANwXEZ55CyQA3BcRnnkLJADcFxGeeQskANwXEZ55CyQA3BcRnnkLJADcFxGeeQskANwXEZ55CyQA3BcRnnkLJADcFxGeeQskANwXEZ55CyQA3BcRnnkLJADcFxGeeQskANwXEZ55CyQA3BcRnnkLJADcFxGeeQskANwXEZ55CyQA3BcRnnkLJADcFxGeeQskANwXEZ55CyQA3BcRnnkLJA",
          "dtype": "f8"
         },
         "yaxis": "y2"
        },
        {
         "line": {
          "width": 2
         },
         "mode": "lines",
         "name": "simulator:/LINK:/locked",
         "showlegend": true,
         "type": "scatter",
         "x": {
          "bdata": "AAABAAIAAwAEAAUABgAHAAgACQAKAAsADAANAA4ADwAQABEAEgATABQAFQAWABcAGAAZABoAGwAcAB0AHgAfACAAIQAiACMAJAAlACYAJwAoACkAKgArACwALQAuAC8AMAAxADIAMwA0ADUANgA3ADgAOQA6ADsAPAA9AD4APwBAAEEAQgBDAEQARQBGAEcASABJAEoASwBMAE0ATgBPAFAAUQBSAFMAVABVAFYAVwBYAFkAWgBbAFwAXQBeAF8AYABhAGIAYwBkAGUAZgBnAGgAaQBqAGsAbABtAG4AbwBwAHEAcgBzAHQAdQB2AHcAeAB5AHoAewB8AH0AfgB/AIAAgQCCAIMAhACFAIYAhwCIAIkAigCLAIwAjQCOAI8AkACRAJIAkwCUAJUAlgCXAJgAmQCaAJsAnACdAJ4AnwCgAKEAogCjAKQApQCmAKcAqACpAKoAqwCsAK0ArgCvALAAsQCyALMAtAC1ALYAtwC4ALkAugC7ALwAvQC+AL8AwADBAMIAwwDEAMUAxgDHAMgAyQDKAMsAzADNAM4AzwDQANEA0gDTANQA1QDWANcA2ADZANoA2wDcAN0A3gDfAOAA4QDiAOMA5ADlAOYA5wDoAOkA6gDrAOwA7QDuAO8A8ADxAPIA8wD0APUA9gD3APgA+QD6APsA/AD9AP4A/wAAAQEBAgEDAQQBBQEGAQcBCAEJAQoBCwEMAQ0BDgEPARABEQESARMBFAEVARYBFwEYARkBGgEbARwBHQEeAR8BIAEhASIBIwEkASUBJgEnASgBKQEqASsBLAEtAS4BLwEwATEBMgEzATQBNQE2ATcBOAE5AToBOwE8AT0BPgE/AUABQQFCAUMBRAFFAUYBRwFIAUkBSgFLAUwBTQFOAU8BUAFRAVIBUwFUAVUBVgFXAVgBWQFaAVsBXAFdAV4BXwFgAWEBYgFjAWQBZQFmAWcBaAFpAWoBawFsAW0BbgFvAXABcQFyAXMBdAF1AXYBdwF4AXkBegF7AXwBfQF+AX8BgAGBAYIBgwGEAYUBhgGHAYgBiQGKAYsBjAGNAY4BjwGQAZEBkgGTAZQBlQGWAZcBmAGZAZoBmwGcAZ0BngGfAaABoQGiAaMBpAGlAaYBpwGoAakBqgGrAawBrQGuAa8BsAGxAbIBswG0AbUBtgG3AbgBuQG6AbsBvAG9Ab4BvwHAAcEBwgHDAcQBxQHGAccByAHJAcoBywHMAc0BzgHPAdAB",
          "dtype": "i2"
         },
         "xaxis": "x2",
         "y": {
          "bdata": "AAAAAAAAAAAAAAAAAAAAAAAAAAAAAAAAAAAAAAAAAAAAAAAAAAAAAAAAAAAAAAAAAAAAAAAAAAAAAAAAAAAAAAAAAAAAAAAAAAAAAAAAAAAAAAAAAAAAAAAAAAAAAAAAAAAAAAAAAAAAAAAAAAAAAAAAAAAAAAAAAAAAAAAAAAAAAAAAAAAAAAAAAAAAAAAAAAAAAAAAAAAAAAAAAAAAAAAAAAAAAAAAAAAAAAAAAAAAAAAAAAAAAAAAAAAAAAAAAAAAAAAAAAAAAAAAAAAAAAAAAAAAAAAAAAAAAAAAAAAAAAAAAAAAAAAAAAAAAAAAAAAAAAAAAAAAAAAAAAAAAAAAAAAAAAAAAAAAAAAAAAAAAAAAAAAAAAAAAAAAAAAAAAAAAAAAAAAAAAAAAAAAAAAAAAAAAAAAAAAAAAAAAAAAAAAAAAAAAAAAAAAAAAAAAAAAAAAAAAAAAAAAAAAAAAAAAAAAAAAAAAAAAAAAAAAAAAAAAAAAAAAAAAAAAAAAAAAAAAAAAAAAAAAAAAAAAAAAAAAAAAAAAAAAAAAAAAAAAAAAAAAAAAAAAAAAAAAAAAAAAAAAAAAAAAAAAAAAAAAAAAAAAAAAAAAAAAAAAAAAAAAAAAAAAAAAAAAAAAAAAAAAAAAAAAAAAAAAAAAAAAAAAAAAAAAAAAAAAAAAAAAAAAAAAAAAAAAAAAAAAAAAAAAAAAAAAAAAAAAAAAAAAAAAAAAAAAAAAAAAAAAAAAAAAAAAAAAAAAAAAAAAAAAAAAAAAAAAAAAAAAAAAAAAAAAAAAAAAAAAAAAAAAAAAAAAAAAAAAAAAAAAAAAAAAAAAAAAAAAAAAAAAAAAAAAAAAAAAAAAAAAAAAAAAAAAAAAAAAAAAAAAAAAAAAAAAAAAAAAAAAAAAAAAAAAAAAAAAAAAAAAAAAAAAAAAAAAAAAAAAAAAAAAAAAAAAAAAAAAAAAAAAAAAAAAAAAAAAAAAAAAAAAAAAAAAAAAAAAAAAAAAAAAAAAAAAAAAAAAAAAAAAAAAAAAAAAAAAAAAAAAAAAAAAAAAAAAAAAAAAAAAAAAAAAAAAAAAAKf6nf8vlNxAp/qd/y+U3ECn+p3/L5TcQKf6nf8vlNxAp/qd/y+U3ECn+p3/L5TcQKf6nf8vlNxAp/qd/y+U3ECn+p3/L5TcQKf6nf8vlNxAp/qd/y+U3ECn+p3/L5TcQKf6nf8vlNxAp/qd/y+U3ECn+p3/L5TcQKf6nf8vlNxAp/qd/y+U3ECn+p3/L5TcQKf6nf8vlNxAp/qd/y+U3ECn+p3/L5TcQKf6nf8vlNxAp/qd/y+U3ECn+p3/L5TcQKf6nf8vlNxAp/qd/y+U3ECn+p3/L5TcQKf6nf8vlNxAp/qd/y+U3ECn+p3/L5TcQKf6nf8vlNxAp/qd/y+U3ECn+p3/L5TcQKf6nf8vlNxAp/qd/y+U3ECn+p3/L5TcQKf6nf8vlNxAp/qd/y+U3ECn+p3/L5TcQKf6nf8vlNxAp/qd/y+U3ECn+p3/L5TcQKf6nf8vlNxAp/qd/y+U3ECn+p3/L5TcQKf6nf8vlNxAp/qd/y+U3ECn+p3/L5TcQKf6nf8vlNxAp/qd/y+U3ECn+p3/L5TcQKf6nf8vlNxAp/qd/y+U3ECn+p3/L5TcQKf6nf8vlNxAp/qd/y+U3ECn+p3/L5TcQKf6nf8vlNxAp/qd/y+U3ECn+p3/L5TcQKf6nf8vlNxAp/qd/y+U3ECn+p3/L5TcQKf6nf8vlNxAp/qd/y+U3ECn+p3/L5TcQKf6nf8vlNxAp/qd/y+U3ECn+p3/L5TcQKf6nf8vlNxAp/qd/y+U3ECn+p3/L5TcQKf6nf8vlNxAp/qd/y+U3ECn+p3/L5TcQKf6nf8vlNxAp/qd/y+U3ECn+p3/L5TcQKf6nf8vlNxAp/qd/y+U3ECn+p3/L5TcQKf6nf8vlNxAp/qd/y+U3ECn+p3/L5TcQKf6nf8vlNxAp/qd/y+U3ECn+p3/L5TcQKf6nf8vlNxAp/qd/y+U3ECn+p3/L5TcQKf6nf8vlNxAp/qd/y+U3ECn+p3/L5TcQKf6nf8vlNxAp/qd/y+U3ECn+p3/L5TcQKf6nf8vlNxAp/qd/y+U3ECn+p3/L5TcQKf6nf8vlNxAp/qd/y+U3ECn+p3/L5TcQKf6nf8vlNxAp/qd/y+U3ECn+p3/L5TcQKf6nf8vlNxAp/qd/y+U3ECn+p3/L5TcQKf6nf8vlNxAp/qd/y+U3ECn+p3/L5TcQKf6nf8vlNxAp/qd/y+U3ECn+p3/L5TcQKf6nf8vlNxAp/qd/y+U3ECn+p3/L5TcQKf6nf8vlNxAp/qd/y+U3ECn+p3/L5TcQKf6nf8vlNxAp/qd/y+U3ECn+p3/L5TcQKf6nf8vlNxAp/qd/y+U3ECn+p3/L5TcQKf6nf8vlNxAp/qd/y+U3ECn+p3/L5TcQKf6nf8vlNxAp/qd/y+U3ECn+p3/L5TcQKf6nf8vlNxAp/qd/y+U3ECn+p3/L5TcQKf6nf8vlNxAp/qd/y+U3ECn+p3/L5TcQKf6nf8vlNxAp/qd/y+U3ECn+p3/L5TcQKf6nf8vlNxAp/qd/y+U3ECn+p3/L5TcQKf6nf8vlNxAp/qd/y+U3ECn+p3/L5TcQKf6nf8vlNxAp/qd/y+U3ECn+p3/L5TcQKf6nf8vlNxAp/qd/y+U3ECn+p3/L5TcQKf6nf8vlNxAp/qd/y+U3ECn+p3/L5TcQKf6nf8vlNxAp/qd/y+U3ECn+p3/L5TcQKf6nf8vlNxAp/qd/y+U3ECn+p3/L5TcQKf6nf8vlNxAp/qd/y+U3ECn+p3/L5TcQKf6nf8vlNxAp/qd/y+U3ECn+p3/L5TcQKf6nf8vlNxAp/qd/y+U3ECn+p3/L5TcQKf6nf8vlNxAp/qd/y+U3ECn+p3/L5TcQKf6nf8vlNxAp/qd/y+U3ECn+p3/L5TcQKf6nf8vlNxAp/qd/y+U3ECn+p3/L5TcQKf6nf8vlNxAp/qd/y+U3ECn+p3/L5TcQKf6nf8vlNxAp/qd/y+U3ECn+p3/L5TcQKf6nf8vlNxAp/qd/y+U3ECn+p3/L5TcQKf6nf8vlNxAp/qd/y+U3ECn+p3/L5TcQKf6nf8vlNxAp/qd/y+U3ECn+p3/L5TcQKf6nf8vlNxAp/qd/y+U3ECn+p3/L5TcQKf6nf8vlNxAp/qd/y+U3ECn+p3/L5TcQKf6nf8vlNxAp/qd/y+U3ECn+p3/L5TcQKf6nf8vlNxAp/qd/y+U3ECn+p3/L5TcQKf6nf8vlNxAp/qd/y+U3ECn+p3/L5TcQKf6nf8vlNxAp/qd/y+U3ECn+p3/L5TcQKf6nf8vlNxAp/qd/y+U3ECn+p3/L5TcQKf6nf8vlNxAp/qd/y+U3ECn+p3/L5TcQKf6nf8vlNxAp/qd/y+U3ECn+p3/L5TcQKf6nf8vlNxAp/qd/y+U3ECn+p3/L5TcQKf6nf8vlNxAp/qd/y+U3ECn+p3/L5TcQKf6nf8vlNxAp/qd/y+U3ECn+p3/L5TcQKf6nf8vlNxAp/qd/y+U3ECn+p3/L5TcQKf6nf8vlNxAp/qd/y+U3ECn+p3/L5TcQKf6nf8vlNxAp/qd/y+U3ECn+p3/L5TcQKf6nf8vlNxAp/qd/y+U3ECn+p3/L5TcQKf6nf8vlNxAp/qd/y+U3ECn+p3/L5TcQKf6nf8vlNxAp/qd/y+U3ECn+p3/L5TcQKf6nf8vlNxAp/qd/y+U3ECn+p3/L5TcQKf6nf8vlNxAp/qd/y+U3ECn+p3/L5TcQKf6nf8vlNxAp/qd/y+U3ECn+p3/L5TcQKf6nf8vlNxAp/qd/y+U3ECn+p3/L5TcQKf6nf8vlNxAp/qd/y+U3ECn+p3/L5TcQKf6nf8vlNxAp/qd/y+U3ECn+p3/L5TcQKf6nf8vlNxAp/qd/y+U3ECn+p3/L5TcQKf6nf8vlNxAp/qd/y+U3ECn+p3/L5TcQKf6nf8vlNxAp/qd/y+U3ECn+p3/L5TcQKf6nf8vlNxAp/qd/y+U3ECn+p3/L5TcQKf6nf8vlNxAp/qd/y+U3ECn+p3/L5TcQKf6nf8vlNxAp/qd/y+U3ECn+p3/L5TcQKf6nf8vlNxAp/qd/y+U3ECn+p3/L5TcQKf6nf8vlNxAp/qd/y+U3ECn+p3/L5TcQKf6nf8vlNxAp/qd/y+U3ECn+p3/L5TcQKf6nf8vlNxAp/qd/y+U3ECn+p3/L5TcQKf6nf8vlNxAp/qd/y+U3ECn+p3/L5TcQKf6nf8vlNxAp/qd/y+U3ECn+p3/L5TcQKf6nf8vlNxAp/qd/y+U3ECn+p3/L5TcQKf6nf8vlNxAp/qd/y+U3ECn+p3/L5TcQKf6nf8vlNxAp/qd/y+U3ECn+p3/L5TcQKf6nf8vlNxAp/qd/y+U3ECn+p3/L5TcQKf6nf8vlNxAp/qd/y+U3ECn+p3/L5TcQKf6nf8vlNxAp/qd/y+U3ECn+p3/L5TcQKf6nf8vlNxAp/qd/y+U3ECn+p3/L5TcQKf6nf8vlNxAp/qd/y+U3ECn+p3/L5TcQKf6nf8vlNxAp/qd/y+U3ECn+p3/L5TcQKf6nf8vlNxAp/qd/y+U3ECn+p3/L5TcQKf6nf8vlNxAp/qd/y+U3ECn+p3/L5TcQKf6nf8vlNxAp/qd/y+U3ECn+p3/L5TcQKf6nf8vlNxAp/qd/y+U3ECn+p3/L5TcQKf6nf8vlNxAp/qd/y+U3ECn+p3/L5TcQKf6nf8vlNxAp/qd/y+U3ECn+p3/L5TcQKf6nf8vlNxAp/qd/y+U3ECn+p3/L5TcQKf6nf8vlNxAp/qd/y+U3ECn+p3/L5TcQKf6nf8vlNxAp/qd/y+U3ECn+p3/L5TcQKf6nf8vlNxAp/qd/y+U3ECn+p3/L5TcQKf6nf8vlNxAp/qd/y+U3ECn+p3/L5TcQKf6nf8vlNxA",
          "dtype": "f8"
         },
         "yaxis": "y2"
        },
        {
         "line": {
          "width": 2
         },
         "mode": "lines",
         "name": "simulator:/LINK:/total",
         "showlegend": true,
         "type": "scatter",
         "x": {
          "bdata": "AAABAAIAAwAEAAUABgAHAAgACQAKAAsADAANAA4ADwAQABEAEgATABQAFQAWABcAGAAZABoAGwAcAB0AHgAfACAAIQAiACMAJAAlACYAJwAoACkAKgArACwALQAuAC8AMAAxADIAMwA0ADUANgA3ADgAOQA6ADsAPAA9AD4APwBAAEEAQgBDAEQARQBGAEcASABJAEoASwBMAE0ATgBPAFAAUQBSAFMAVABVAFYAVwBYAFkAWgBbAFwAXQBeAF8AYABhAGIAYwBkAGUAZgBnAGgAaQBqAGsAbABtAG4AbwBwAHEAcgBzAHQAdQB2AHcAeAB5AHoAewB8AH0AfgB/AIAAgQCCAIMAhACFAIYAhwCIAIkAigCLAIwAjQCOAI8AkACRAJIAkwCUAJUAlgCXAJgAmQCaAJsAnACdAJ4AnwCgAKEAogCjAKQApQCmAKcAqACpAKoAqwCsAK0ArgCvALAAsQCyALMAtAC1ALYAtwC4ALkAugC7ALwAvQC+AL8AwADBAMIAwwDEAMUAxgDHAMgAyQDKAMsAzADNAM4AzwDQANEA0gDTANQA1QDWANcA2ADZANoA2wDcAN0A3gDfAOAA4QDiAOMA5ADlAOYA5wDoAOkA6gDrAOwA7QDuAO8A8ADxAPIA8wD0APUA9gD3APgA+QD6APsA/AD9AP4A/wAAAQEBAgEDAQQBBQEGAQcBCAEJAQoBCwEMAQ0BDgEPARABEQESARMBFAEVARYBFwEYARkBGgEbARwBHQEeAR8BIAEhASIBIwEkASUBJgEnASgBKQEqASsBLAEtAS4BLwEwATEBMgEzATQBNQE2ATcBOAE5AToBOwE8AT0BPgE/AUABQQFCAUMBRAFFAUYBRwFIAUkBSgFLAUwBTQFOAU8BUAFRAVIBUwFUAVUBVgFXAVgBWQFaAVsBXAFdAV4BXwFgAWEBYgFjAWQBZQFmAWcBaAFpAWoBawFsAW0BbgFvAXABcQFyAXMBdAF1AXYBdwF4AXkBegF7AXwBfQF+AX8BgAGBAYIBgwGEAYUBhgGHAYgBiQGKAYsBjAGNAY4BjwGQAZEBkgGTAZQBlQGWAZcBmAGZAZoBmwGcAZ0BngGfAaABoQGiAaMBpAGlAaYBpwGoAakBqgGrAawBrQGuAa8BsAGxAbIBswG0AbUBtgG3AbgBuQG6AbsBvAG9Ab4BvwHAAcEBwgHDAcQBxQHGAccByAHJAcoBywHMAc0BzgHPAdAB",
          "dtype": "i2"
         },
         "xaxis": "x2",
         "y": {
          "bdata": "AAAAAAAAAAAAAAAAAAAAAAAAAAAAAAAAAAAAAAAAAAAAAAAAAAAAAAAAAAAAAAAAAAAAAAAAAAAAAAAAAAAAAAAAAAAAAAAAAAAAAAAAAAAAAAAAAAAAAAAAAAAAAAAAAAAAAAAAAAAAAAAAAAAAAAAAAAAAAAAAAAAAAAAAAAAAAAAAAAAAAAAAAAAAAAAAAAAAAAAAAAAAAAAAAAAAAAAAAAAAAAAAAAAAAAAAAAAAAAAAAAAAAAAAAAAAAAAAAAAAAAAAAAAAAAAAAAAAAAAAAAAAAAAAAAAAAAAAAAAAAAAAAAAAAAAAAAAAAAAAAAAAAAAAAAAAAAAAAAAAAAAAAAAAAAAAAAAAAAAAAAAAAAAAAAAAAAAAAAAAAAAAAAAAAAAAAAAAAAAAAAAAAAAAAAAAAAAAAAAAAAAAAAAAAAAAAAAAAAAAAAAAAAAAAAAAAAAAAAAAAAAAAAAAAAAAAAAAAAAAAAAAAAAAAAAAAAAAAAAAAAAAAAAAAAAAAAAAAAAAAAAAAAAAAAAAAAAAAAAAAAAAAAAAAAAAAAAAAAAAAAAAAAAAAAAAAAAAAAAAAAAAAAAAAAAAAAAAAAAAAAAAAAAAAAAAAAAAAAAAAAAAAAAAAAAAAAAAAAAAAAAAAAAAAAAAAAAAAAAAAAAAAAAAAAAAAAAAAAAAAAAAAAAAAAAAAAAAAAAAAAAAAAAAAAAAAAAAAAAAAAAAAAAAAAAAAAAAAAAAAAAAAAAAAAAAAAAAAAAAAAAAAAAAAAAAAAAAAAAAAAAAAAAAAAAAAAAAAAAAAAAAAAAAAAAAAAAAAAAAAAAAAAAAAAAAAAAAAAAAAAAAAAAAAAAAAAAAAAAAAAAAAAAAAAAAAAAAAAAAAAAAAAAAAAAAAAAAAAAAAAAAAAAAAAAAAAAAAAAAAAAAAAAAAAAAAAAAAAAAAAAAAAAAAAAAAAAAAAAAAAAAAAAAAAAAAAAAAAAAAAAAAAAAAAAAAAAAAAAAAAAAAAAAAAAAAAAAAAAAAAAAAAAAAAAAAAAAAAAAAAAAAAAAAAAAAAAAAAAAAAAAAAAAAAAAAAAAAKf6nf8vlNxAp/qd/y+U3ECn+p3/L5TcQKf6nf8vlNxAp/qd/y+U3ECn+p3/L5TcQKf6nf8vlNxAp/qd/y+U3ECn+p3/L5TcQKf6nf8vlNxAp/qd/y+U3ECn+p3/L5TcQKf6nf8vlNxAp/qd/y+U3EB1Nf3iNJzgQHU1/eI0nOBAdTX94jSc4EB1Nf3iNJzgQHU1/eI0nOBAdTX94jSc4EB1Nf3iNJzgQHU1/eI0nOBAdTX94jSc4EB1Nf3iNJzgQHU1/eI0nOBAdTX94jSc4EB1Nf3iNJzgQHU1/eI0nOBAdTX94jSc4EB1Nf3iNJzgQHU1/eI0nOBAdTX94jSc4EB1Nf3iNJzgQHU1/eI0nOBAdTX94jSc4EB1Nf3iNJzgQHU1/eI0nOBAdTX94jSc4EB1Nf3iNJzgQHU1/eI0nOBAdTX94jSc4EB1Nf3iNJzgQHU1/eI0nOBAdTX94jSc4EB1Nf3iNJzgQHU1/eI0nOBAdTX94jSc4EB1Nf3iNJzgQHU1/eI0nOBAdTX94jSc4EB1Nf3iNJzgQHU1/eI0nOBAdTX94jSc4EB1Nf3iNJzgQHU1/eI0nOBAdTX94jSc4EB1Nf3iNJzgQHU1/eI0nOBAdTX94jSc4EB1Nf3iNJzgQHU1/eI0nOBAdTX94jSc4EB1Nf3iNJzgQHU1/eI0nOBAdTX94jSc4EB1Nf3iNJzgQHU1/eI0nOBAdTX94jSc4EB1Nf3iNJzgQHU1/eI0nOBAdTX94jSc4EB1Nf3iNJzgQHU1/eI0nOBAdTX94jSc4EB1Nf3iNJzgQHU1/eI0nOBAdTX94jSc4EB1Nf3iNJzgQHU1/eI0nOBAdTX94jSc4EB1Nf3iNJzgQHU1/eI0nOBAdTX94jSc4EB1Nf3iNJzgQHU1/eI0nOBAdTX94jSc4EB1Nf3iNJzgQHU1/eI0nOBAdTX94jSc4EB1Nf3iNJzgQHU1/eI0nOBAdTX94jSc4EB1Nf3iNJzgQHU1/eI0nOBAdTX94jSc4EB1Nf3iNJzgQHU1/eI0nOBAdTX94jSc4EB1Nf3iNJzgQHU1/eI0nOBAdTX94jSc4EB1Nf3iNJzgQHU1/eI0nOBAdTX94jSc4EB1Nf3iNJzgQHU1/eI0nOBAdTX94jSc4EB1Nf3iNJzgQHU1/eI0nOBAdTX94jSc4EB1Nf3iNJzgQHU1/eI0nOBAdTX94jSc4EB1Nf3iNJzgQHU1/eI0nOBAdTX94jSc4EB1Nf3iNJzgQHU1/eI0nOBAdTX94jSc4EB1Nf3iNJzgQHU1/eI0nOBAdTX94jSc4EB1Nf3iNJzgQHU1/eI0nOBAdTX94jSc4EB1Nf3iNJzgQHU1/eI0nOBAdTX94jSc4EB1Nf3iNJzgQHU1/eI0nOBAdTX94jSc4EB1Nf3iNJzgQHU1/eI0nOBAdTX94jSc4EB1Nf3iNJzgQHU1/eI0nOBAdTX94jSc4EB1Nf3iNJzgQHU1/eI0nOBAdTX94jSc4EB1Nf3iNJzgQHU1/eI0nOBAdTX94jSc4EB1Nf3iNJzgQHU1/eI0nOBAdTX94jSc4EB1Nf3iNJzgQHU1/eI0nOBAdTX94jSc4EB1Nf3iNJzgQHU1/eI0nOBAdTX94jSc4EB1Nf3iNJzgQHU1/eI0nOBAdTX94jSc4EB1Nf3iNJzgQHU1/eI0nOBAdTX94jSc4EB1Nf3iNJzgQHU1/eI0nOBAdTX94jSc4EB1Nf3iNJzgQHU1/eI0nOBAdTX94jSc4EB1Nf3iNJzgQHU1/eI0nOBAdTX94jSc4EB1Nf3iNJzgQHU1/eI0nOBAdTX94jSc4EB1Nf3iNJzgQHU1/eI0nOBAdTX94jSc4EB1Nf3iNJzgQHU1/eI0nOBAdTX94jSc4EB1Nf3iNJzgQHU1/eI0nOBAdTX94jSc4EB1Nf3iNJzgQHU1/eI0nOBAdTX94jSc4EB1Nf3iNJzgQHU1/eI0nOBAdTX94jSc4EB1Nf3iNJzgQHU1/eI0nOBAdTX94jSc4EB1Nf3iNJzgQHU1/eI0nOBAdTX94jSc4EB1Nf3iNJzgQHU1/eI0nOBAdTX94jSc4EB1Nf3iNJzgQHU1/eI0nOBAdTX94jSc4EB1Nf3iNJzgQHU1/eI0nOBAdTX94jSc4EB1Nf3iNJzgQHU1/eI0nOBAdTX94jSc4EB1Nf3iNJzgQHU1/eI0nOBAdTX94jSc4EB1Nf3iNJzgQHU1/eI0nOBAdTX94jSc4EB1Nf3iNJzgQHU1/eI0nOBAdTX94jSc4EB1Nf3iNJzgQHU1/eI0nOBAdTX94jSc4EB1Nf3iNJzgQHU1/eI0nOBAdTX94jSc4EB1Nf3iNJzgQHU1/eI0nOBAdTX94jSc4EB1Nf3iNJzgQHU1/eI0nOBAdTX94jSc4EB1Nf3iNJzgQHU1/eI0nOBAdTX94jSc4EB1Nf3iNJzgQHU1/eI0nOBAdTX94jSc4EB1Nf3iNJzgQHU1/eI0nOBAdTX94jSc4EB1Nf3iNJzgQHU1/eI0nOBAdTX94jSc4EB1Nf3iNJzgQHU1/eI0nOBAdTX94jSc4EB1Nf3iNJzgQHU1/eI0nOBAdTX94jSc4EB1Nf3iNJzgQHU1/eI0nOBAdTX94jSc4EB1Nf3iNJzgQHU1/eI0nOBAdTX94jSc4EB1Nf3iNJzgQHU1/eI0nOBAdTX94jSc4EB1Nf3iNJzgQHU1/eI0nOBAdTX94jSc4EB1Nf3iNJzgQHU1/eI0nOBAdTX94jSc4EB1Nf3iNJzgQHU1/eI0nOBAdTX94jSc4EB1Nf3iNJzgQHU1/eI0nOBAdTX94jSc4EB1Nf3iNJzgQHU1/eI0nOBAdTX94jSc4EB1Nf3iNJzgQHU1/eI0nOBAdTX94jSc4EB1Nf3iNJzgQHU1/eI0nOBAdTX94jSc4EB1Nf3iNJzgQHU1/eI0nOBAdTX94jSc4EB1Nf3iNJzgQHU1/eI0nOBAdTX94jSc4EB1Nf3iNJzgQHU1/eI0nOBAdTX94jSc4EB1Nf3iNJzgQHU1/eI0nOBAdTX94jSc4EB1Nf3iNJzgQHU1/eI0nOBAdTX94jSc4EB1Nf3iNJzgQHU1/eI0nOBAdTX94jSc4EB1Nf3iNJzgQHU1/eI0nOBAdTX94jSc4EB1Nf3iNJzgQHU1/eI0nOBAdTX94jSc4EB1Nf3iNJzgQHU1/eI0nOBAdTX94jSc4EB1Nf3iNJzgQHU1/eI0nOBAdTX94jSc4EB1Nf3iNJzgQHU1/eI0nOBAdTX94jSc4EB1Nf3iNJzgQHU1/eI0nOBAdTX94jSc4EB1Nf3iNJzgQHU1/eI0nOBAdTX94jSc4EB1Nf3iNJzgQHU1/eI0nOBAdTX94jSc4EB1Nf3iNJzgQHU1/eI0nOBAdTX94jSc4EB1Nf3iNJzgQHU1/eI0nOBAdTX94jSc4EB1Nf3iNJzgQHU1/eI0nOBAdTX94jSc4EB1Nf3iNJzgQHU1/eI0nOBAdTX94jSc4EB1Nf3iNJzgQHU1/eI0nOBAdTX94jSc4EB1Nf3iNJzgQHU1/eI0nOBAdTX94jSc4EB1Nf3iNJzgQHU1/eI0nOBAdTX94jSc4EB1Nf3iNJzgQHU1/eI0nOBAdTX94jSc4EB1Nf3iNJzgQHU1/eI0nOBAdTX94jSc4EB1Nf3iNJzgQHU1/eI0nOBAdTX94jSc4EB1Nf3iNJzgQHU1/eI0nOBAdTX94jSc4EB1Nf3iNJzgQHU1/eI0nOBAdTX94jSc4EB1Nf3iNJzgQHU1/eI0nOBAdTX94jSc4EB1Nf3iNJzgQHU1/eI0nOBAdTX94jSc4EB1Nf3iNJzgQHU1/eI0nOBAdTX94jSc4EB1Nf3iNJzgQHU1/eI0nOBAdTX94jSc4EB1Nf3iNJzgQHU1/eI0nOBA",
          "dtype": "f8"
         },
         "yaxis": "y2"
        },
        {
         "line": {
          "width": 2
         },
         "mode": "lines",
         "name": "simulator:/LINK:/worth",
         "showlegend": true,
         "type": "scatter",
         "x": {
          "bdata": "AAABAAIAAwAEAAUABgAHAAgACQAKAAsADAANAA4ADwAQABEAEgATABQAFQAWABcAGAAZABoAGwAcAB0AHgAfACAAIQAiACMAJAAlACYAJwAoACkAKgArACwALQAuAC8AMAAxADIAMwA0ADUANgA3ADgAOQA6ADsAPAA9AD4APwBAAEEAQgBDAEQARQBGAEcASABJAEoASwBMAE0ATgBPAFAAUQBSAFMAVABVAFYAVwBYAFkAWgBbAFwAXQBeAF8AYABhAGIAYwBkAGUAZgBnAGgAaQBqAGsAbABtAG4AbwBwAHEAcgBzAHQAdQB2AHcAeAB5AHoAewB8AH0AfgB/AIAAgQCCAIMAhACFAIYAhwCIAIkAigCLAIwAjQCOAI8AkACRAJIAkwCUAJUAlgCXAJgAmQCaAJsAnACdAJ4AnwCgAKEAogCjAKQApQCmAKcAqACpAKoAqwCsAK0ArgCvALAAsQCyALMAtAC1ALYAtwC4ALkAugC7ALwAvQC+AL8AwADBAMIAwwDEAMUAxgDHAMgAyQDKAMsAzADNAM4AzwDQANEA0gDTANQA1QDWANcA2ADZANoA2wDcAN0A3gDfAOAA4QDiAOMA5ADlAOYA5wDoAOkA6gDrAOwA7QDuAO8A8ADxAPIA8wD0APUA9gD3APgA+QD6APsA/AD9AP4A/wAAAQEBAgEDAQQBBQEGAQcBCAEJAQoBCwEMAQ0BDgEPARABEQESARMBFAEVARYBFwEYARkBGgEbARwBHQEeAR8BIAEhASIBIwEkASUBJgEnASgBKQEqASsBLAEtAS4BLwEwATEBMgEzATQBNQE2ATcBOAE5AToBOwE8AT0BPgE/AUABQQFCAUMBRAFFAUYBRwFIAUkBSgFLAUwBTQFOAU8BUAFRAVIBUwFUAVUBVgFXAVgBWQFaAVsBXAFdAV4BXwFgAWEBYgFjAWQBZQFmAWcBaAFpAWoBawFsAW0BbgFvAXABcQFyAXMBdAF1AXYBdwF4AXkBegF7AXwBfQF+AX8BgAGBAYIBgwGEAYUBhgGHAYgBiQGKAYsBjAGNAY4BjwGQAZEBkgGTAZQBlQGWAZcBmAGZAZoBmwGcAZ0BngGfAaABoQGiAaMBpAGlAaYBpwGoAakBqgGrAawBrQGuAa8BsAGxAbIBswG0AbUBtgG3AbgBuQG6AbsBvAG9Ab4BvwHAAcEBwgHDAcQBxQHGAccByAHJAcoBywHMAc0BzgHPAdAB",
          "dtype": "i2"
         },
         "xaxis": "x2",
         "y": {
          "bdata": "AAAAAAAAAAAAAAAAAAAAAAAAAAAAAAAAAAAAAAAAAAAAAAAAAAAAAAAAAAAAAAAAAAAAAAAAAAAAAAAAAAAAAAAAAAAAAAAAAAAAAAAAAAAAAAAAAAAAAAAAAAAAAAAAAAAAAAAAAAAAAAAAAAAAAAAAAAAAAAAAAAAAAAAAAAAAAAAAAAAAAAAAAAAAAAAAAAAAAAAAAAAAAAAAAAAAAAAAAAAAAAAAAAAAAAAAAAAAAAAAAAAAAAAAAAAAAAAAAAAAAAAAAAAAAAAAAAAAAAAAAAAAAAAAAAAAAAAAAAAAAAAAAAAAAAAAAAAAAAAAAAAAAAAAAAAAAAAAAAAAAAAAAAAAAAAAAAAAAAAAAAAAAAAAAAAAAAAAAAAAAAAAAAAAAAAAAAAAAAAAAAAAAAAAAAAAAAAAAAAAAAAAAAAAAAAAAAAAAAAAAAAAAAAAAAAAAAAAAAAAAAAAAAAAAAAAAAAAAAAAAAAAAAAAAAAAAAAAAAAAAAAAAAAAAAAAAAAAAAAAAAAAAAAAAAAAAAAAAAAAAAAAAAAAAAAAAAAAAAAAAAAAAAAAAAAAAAAAAAAAAAAAAAAAAAAAAAAAAAAAAAAAAAAAAAAAAAAAAAAAAAAAAAAAAAAAAAAAAAAAAAAAAAAAAAAAAAAAAAAAAAAAAAAAAAAAAAAAAAAAAAAAAAAAAAAAAAAAAAAAAAAAAAAAAAAAAAAAAAAAAAAAAAAAAAAAAAAAAAAAAAAAAAAAAAAAAAAAAAAAAAAAAAAAAAAAAAAAAAAAAAAAAAAAAAAAAAAAAAAAAAAAAAAAAAAAAAAAAAAAAAAAAAAAAAAAAAAAAAAAAAAAAAAAAAAAAAAAAAAAAAAAAAAAAAAAAAAAAAAAAAAAAAAAAAAAAAAAAAAAAAAAAAAAAAAAAAAAAAAAAAAAAAAAAAAAAAAAAAAAAAAAAAAAAAAAAAAAAAAAAAAAAAAAAAAAAAAAAAAAAAAAAAAAAAAAAAAAAAAAAAAAAAAAAAAAAAAAAAAAAAAAAAAAAAAAAAAAAAAAAAAAAAAAAAAAAAAAAAAAAAAAAAAAAAAAAAAAAG2jdImNVARB1iLmRokUBEHjdP51d8AEQYlUAuEzOARBzpbSA8JnBEFDaFzwq9MEQf7CBKJNTQVB1M46q5WqBUFQnjuW8wYGQcRvxYLdcgZB9Lcwqg/RBkGMHIZjbZgHQbtIuAH5fQhB0BcI5NHpB0Ei7KvOfbELQULeSt8AQQxB71CAf15NCkGKFcbJNgQLQUYFODik0gxBFe7Gyhd1DEFtdslKWgANQTuqhatOIQ1BkhhzrfyoC0EQXTQOduAMQdGSC2sExQ1Bksjix5KpDkGG6XVZqvENQTqLDRbRnA5BPzsYaPC1DEEsKObFVd4MQdw468Xa9A1BpFdaiJp6DUF8fCMS5kkOQRqZbgVODQ5B35DwbmoBDUG6wpHTxF4MQUl3Ul/I4g1BHyoBwu+hDUFtdslKWgANQY/AbQRtnAxB42yw+YwUDUEKSOdvQUUMQSLsq859sQtBCkjnb0FFDEGyJCc8FDwOQXNA6RoOHQ1BCkOEWFjED0ECJCYcXJYQQZPuDuCloxBBPpZJFj6lEEGVOv3utrkPQXAXYOfIBRBB+1kGTKh5EEEXQWlcvgAPQaylNDrhnQ5B5XQlvbIhD0GUaxU/ozQOQWZCBBeo4A1BQ3waPyhLD0EHhjxjszUOQdjG0J625AxB3VdjW1h5DEEOb9TI5NYMQYcI7u4ndgxBjdINv9uSDEEpa57QsE8LQXJX7OxllAlB8AVTsd3OCUFWjDo1hpYJQZW7pSQNNAtBHG25zEoTDEG8+x7n1uYMQVs34m+8LgtBWJSv+KujC0G9f9nIae0NQc8OUYlxvgxBoHua/XdnDUHRR96cg0YNQZDagoIBoA5Bmfyn+0TJDUE5IWiy0pkPQZ3YZ4Zn3A1B9NyvJBdhDUHKExlp0SYOQaevXzEqhwxB8qMiEQXZDEGtk5R/cqcOQVEv0nQNCQ5BbdsLl2+CD0Gcue/w6VcPQR51LpBwIA5BqmynJs8VDkFWVr/NsJoOQYNGQ+KZZg5BEeHu7wjnDUF3sgNCMi0OQXKLFumOmw1B9hU9OCnpDUFPjJ/9/H0OQZs1NQ9XUQ5B/N9cCN0FDkGHbTA7PfgOQTpvXL2aExBBkvdePd2eEEGicK7FnuYQQRZ5NS9A8RBBKhAis23PEUE7ZgxgYxgQQZMBcNukMQ9B4cl9gnyJDUF9MfZDZcsNQRKWwSGIaA1B1SOeJ6ZZDUGUaxU/ozQOQVSH1x2dFQ1BQ60yjxTGDUFdP1cz4jsNQfE5fa0G1g1Br7IMFfArDUEflKYl7qQMQcPFPreKAw1BAHHvxH6aDUGp6OxEPA8NQTR2wHecAQ5B7NkCQVG8DEHp66L7v7IMQWPvYYUBVQtBq7w3DDkVC0EPjkxeYlsLQYUAeSsCaQpBpiulT5eAC0HciHurRPQKQcxRCZTMLwtB/mh6AVmNC0Gu4yRl3KYLQcYdRGAaEAxBrKqXUcoeC0FSf2JadwgLQTTGUF0GAQtBsTsqDmyzCkGR3+WZ6iALQabgd4EWAgtBtN5chXw+CkH/h/KW1hEKQWRZB+n/VwpBQQ9jL+27CkE2/91wGIkLQeGdyEl5jwtBMiMe5vV1C0ESMX/VcuYKQWRZB+n/VwpBmkw44a7ICkGvTcrI2qkKQX2BhinPygpBPWS79LYjCUFtxlkwxP8JQTg9zpsTkghB9ku4n/7kCEESF2pX3uIIQZeUUwPzugVBwpZ30kp9BUEVCi20WG0FQW6Aj3ksAgZBKlbsaQXNBUHHvWQr7g4GQR77Od2vGwZBFFVagtnrBUFMoJAjGGkFQQ5ADeSkUAVBvBeF0BffBUFy8qmgUBIHQVUn+OhwFAdBXQstN7k0CUFrjcwcsncJQRwId4A1kQlBk7MwYecmCUFfRLpKy7wJQcyzOTSlJQhBpI3V7292CEGVJUuICzcKQTTGUF0GAQtBr5j3llsoC0Hgr2gE6IULQTiiEOgoFAtBWrMnjikoCkHRE7SgWj8JQantT1wlkAlBeg9sAqu6CUH+TmWDxIkJQY8Q/unWmwlB7xfza0zFCUFr2PnqMvYJQcbsKxAulQ1B2MbQnrbkDEEIpbT4MLoMQYaEMw2VbwtBY1Sk0RbXDUHp66L7v7IMQbJVP4wAtwxB2VqPYBZcEUESlCVH5uIQQfWP5nv0XBBB9oaWHr1hEEGJpr1OT4APQSKcG+kTsg5BAeJIqxITEEECJCYcXJYQQT1UbKX0IRBBRgzsujlIEEG6cgHuWl8PQSqfyMzZVg9BB1UkE8e6D0HfX9gefoYOQTgHUzQ+lg1BPOMSv2CpDUFu+oMs7QYOQfqmz/TKfQ1B2ZW4TsppDkHdvKWnbfsOQYIny0wc4g9BOw/I92OjD0Gr8GEIYhwPQWfGvvg65w5B4zuYqaCZDkEKrSm8VscOQbOOzJ8SPw1BjYfg8FoUDEFcVloFOrMJQZL+XS9opQlBzIIh5LiqCUEqihZmLtQJQa7JD+dHowlBEWKXJV9hCUH1LEAKgWAKQZh9UDGbQwlBbEKfTjH5CEHcbmYtsPAIQYzpEJEzCglBudmUpRzWCEGW2h26irgJQcgQB72UmghBS1AAPq5pCEHpt3j/lqsIQbjrNGCLzAhBNpqbJAMHCUGHDVEGEfcIQTP3aK3yewlBrwKd+lkrCkGKypj7tYUKQeS8QN/2EwpBrNuvobaZCUHdXMZyQfoIQQcmXS6HNAhBCV/qQZm8CEEX4Yknkv8IQW9pjKfUiglBormKKHNwCkFV12cDBxUKQTXlyPKDhQlBtWIXZw9FC0H3NLXNpm0MQT5NuCJfrAxB6GfoGS2sC0HYxtCetuQMQbmjGT5H2g1BFTn0mJjzDEGPJbBQgh4PQRnkm9POiw5Bz77Aowe/D0F7vT9CnzUQQW5r3RKBfxBB/pKTX7oBEUF8/xyz6LgQQd+qBe3+BA9BtF20TybEDkG6vS68290PQaUmQjiu/w5BIyDWyqa4D0HsPkWNZj4PQUijB5jL3A9BeKBjh8M2DkHn3sogsSQOQbCB9MQDsQ5BSXdSX8jiDUGQj1W0gCEOQfhOyks7cQ5B8M/XSQjTDkFeWWyxdj8PQREsHL6JZQ5BGeSb086LDkHxhKp7h1QOQWn/SwxNbw9B/WrLbAWCEkEhUz+GPygVQU/Qzdny9RVBqbklYPyIFUFrKIrQnPUWQXlxnKKDsBZBszc9yB05F0FbrzpI260WQYrYS3DWARdBf4bpQLhLF0Ec5RGlaZIXQZMd1sTlKRhBEAalNoHaFkHw6z0zScsXQfTH/b1r3hdBoD4gpBdlGUFOo6LPVPUaQcaH6cMYExtBMhVrcdX5HkHUwkgh31EeQYLdoPx2FSBBEUc0uvkaIUG9mvHE2aIgQUWbktSlzx1BTsYHqyD0HEE+qaoRPTMfQbYx/xYjyhxBMbl4gvdyHEHhMyPmeowcQb4DlKr88x5BxUCpO+YOHkHPgUZKp7wbQcIQbIULgh1BLaygp+jkHUHiAguWjhEeQTx5bVtiph5BIK67o4KoHkH4uG+vOXQdQZKGBVdJJh5BVwJCovggHkFMZbKkWewdQY8lsFCCHh9BkQCvmhSaIEEdV7l4zk0gQSMh2UiCaiBByPWjUS9UIEHqmxIWVrMfQY56MPoVSiBB89hPiwmSIUFIRXnOS9AgQdLvANi9/SBBksjix5KpHkEDoSx7WSceQQTjCeyiqh5Bn+DcSY3pH0EgIbFkuKYdQc+kqyVzux1Bckk5eEUYHUGj7bQknHceQdFH3pyDRh1B466NataXHUEmBeayAMcfQfMAGH6+ESBBDX/YqLFHIEGTTJ2pJbAfQcA9JDzqLSBBuIShqMlVH0HmRBDroVghQYMWLhCJnSBBPVRspfQhIEFr5Fv0pn0fQRg4Gf+GBR9B",
          "dtype": "f8"
         },
         "yaxis": "y2"
        },
        {
         "line": {
          "width": 2
         },
         "mode": "lines",
         "name": "simulator:/SOL:/free",
         "showlegend": true,
         "type": "scatter",
         "x": {
          "bdata": "AAABAAIAAwAEAAUABgAHAAgACQAKAAsADAANAA4ADwAQABEAEgATABQAFQAWABcAGAAZABoAGwAcAB0AHgAfACAAIQAiACMAJAAlACYAJwAoACkAKgArACwALQAuAC8AMAAxADIAMwA0ADUANgA3ADgAOQA6ADsAPAA9AD4APwBAAEEAQgBDAEQARQBGAEcASABJAEoASwBMAE0ATgBPAFAAUQBSAFMAVABVAFYAVwBYAFkAWgBbAFwAXQBeAF8AYABhAGIAYwBkAGUAZgBnAGgAaQBqAGsAbABtAG4AbwBwAHEAcgBzAHQAdQB2AHcAeAB5AHoAewB8AH0AfgB/AIAAgQCCAIMAhACFAIYAhwCIAIkAigCLAIwAjQCOAI8AkACRAJIAkwCUAJUAlgCXAJgAmQCaAJsAnACdAJ4AnwCgAKEAogCjAKQApQCmAKcAqACpAKoAqwCsAK0ArgCvALAAsQCyALMAtAC1ALYAtwC4ALkAugC7ALwAvQC+AL8AwADBAMIAwwDEAMUAxgDHAMgAyQDKAMsAzADNAM4AzwDQANEA0gDTANQA1QDWANcA2ADZANoA2wDcAN0A3gDfAOAA4QDiAOMA5ADlAOYA5wDoAOkA6gDrAOwA7QDuAO8A8ADxAPIA8wD0APUA9gD3APgA+QD6APsA/AD9AP4A/wAAAQEBAgEDAQQBBQEGAQcBCAEJAQoBCwEMAQ0BDgEPARABEQESARMBFAEVARYBFwEYARkBGgEbARwBHQEeAR8BIAEhASIBIwEkASUBJgEnASgBKQEqASsBLAEtAS4BLwEwATEBMgEzATQBNQE2ATcBOAE5AToBOwE8AT0BPgE/AUABQQFCAUMBRAFFAUYBRwFIAUkBSgFLAUwBTQFOAU8BUAFRAVIBUwFUAVUBVgFXAVgBWQFaAVsBXAFdAV4BXwFgAWEBYgFjAWQBZQFmAWcBaAFpAWoBawFsAW0BbgFvAXABcQFyAXMBdAF1AXYBdwF4AXkBegF7AXwBfQF+AX8BgAGBAYIBgwGEAYUBhgGHAYgBiQGKAYsBjAGNAY4BjwGQAZEBkgGTAZQBlQGWAZcBmAGZAZoBmwGcAZ0BngGfAaABoQGiAaMBpAGlAaYBpwGoAakBqgGrAawBrQGuAa8BsAGxAbIBswG0AbUBtgG3AbgBuQG6AbsBvAG9Ab4BvwHAAcEBwgHDAcQBxQHGAccByAHJAcoBywHMAc0BzgHPAdAB",
          "dtype": "i2"
         },
         "xaxis": "x2",
         "y": {
          "bdata": "AAAAAAAAAAAAAAAAAAAAAAAAAAAAAAAAAAAAAAAAAAAAAAAAAAAAAAAAAAAAAAAAAAAAAAAAAAAAAAAAAAAAAAAAAAAAAAAAAAAAAAAAAAAAAAAAAAAAAAAAAAAAAAAAAAAAAAAAAAAAAAAAAAAAAAAAAAAAAAAAAAAAAAAAAAAAAAAAAAAAAAAAAAAAAAAAAAAAAAAAAAAAAAAAAAAAAAAAAAAAAAAAAAAAAAAAAAAAAAAAAAAAAAAAAAAAAAAAAAAAAAAAAAAAAAAAAAAAAAAAAAAAAAAAAAAAAAAAAAAAAAAAAAAAAAAAAAAAAAAAAAAAAAAAAAAAAAAAAAAAAAAAAAAAAAAAAAAAAAAAAAAAAAAAAAAAAAAAAAAAAAAAAAAAAAAAAAAAAAAAAAAAAAAAAAAAAAAAAAAAAAAAAAAAAAAAAAAAAAAAAAAAAAAAAAAAAAAAAAAAAAAAAAAAAAAAAAAAAAAAAAAAAAAAAAAAAAAAAAAAAAAAAAAAAAAAAAAAAAAAAAAAAAAAAAAAAAAAAAAAAAAAAAAAAAAAAAAAAAAAAAAAAAAAAAAAAAAAAAAAAAAAAAAAAAAAAAAAAAAAAAAAAAAAAAAAAAAAAAAAAAAAAAAAAAAAAAAAAAAAAAAAAAAAAAAAAAAAAAAAAAAAAAAAAAAAAAAAAAAAAAAAAAAAAAAAAAAAAAAAAAAAAAAAAAAAAAAAAAAAAAAAAAAAAAAAAAAAAAAAAAAAAAAAAAAAAAAAAAAAAAAAAAAAAAAAAAAAAAAAAAAAAAAAAAAAAAAAAAAAAAAAAAAAAAAAAAAAAAAAAAAAAAAAAAAAAAAAAAAAAAAAAAAAAAAAAAAAAAAAAAAAAAAAAAAAAAAAAAAAAAAAAAAAAAAAAAAAAAAAAAAAAAAAAAAAAAAAAAAAAAAAAAAAAAAAAAAAAAAAAAAAAAAAAAAAAAAAAAAAAAAAAAAAAAAAAAAAAAAAAAAAAAAAAAAAAAAAAAAAAAAAAAAAAAAAAAAAAAAAAAAAAAAAAAAAAAAAAAAAAAAAAAAAAAAAAAAAAAAAAAAAAAAAAAAAAAAAAAAAAAAAAAAAAAAAAAAAAAAAAAAAAAAAAAAAAAAAAAAAAAAAAAAAAAAAAAAAAAAAAAAAAAAAAAAAAAAAAAAAAAAAAAAAAAAAAAAAAAAAAAAAAAAAAAAAAAAAAAAAAAAAAAAAAAAAAAAAAAAAAAAAAAA74k7x0a+AQDviTvHRr4BAO+JO8dGvgEA74k7x0a+AQDviTvHRr4BAO+JO8dGvgEA74k7x0a+AQDviTvHRr4BAO+JO8dGvgEA74k7x0a+AQDviTvHRr4BAO+JO8dGvgEA74k7x0a+AQDviTvHRr4BAO+JO8dGvgEA74k7x0a+AQDviTvHRr4BAO+JO8dGvgEA74k7x0a+AQDviTvHRr4BAO+JO8dGvgEA74k7x0a+AQDviTvHRr4BAO+JO8dGvgEA74k7x0a+AQDviTvHRr4BAO+JO8dGvgEA74k7x0a+AQDviTvHRr4BAO+JO8dGvgEA74k7x0a+AQDviTvHRr4BAO+JO8dGvgEA74k7x0a+AQDviTvHRr4BAO+JO8dGvgEA74k7x0a+AQDviTvHRr4BAO+JO8dGvgEA74k7x0a+AQDviTvHRr4BAO+JO8dGvgEA74k7x0a+AQDviTvHRr4BAO+JO8dGvgEA74k7x0a+AQDviTvHRr4BAO+JO8dGvgEA74k7x0a+AQDviTvHRr4BAO+JO8dGvgEA74k7x0a+AQDviTvHRr4BAO+JO8dGvgEA74k7x0a+AQDviTvHRr4BAO+JO8dGvgEA74k7x0a+AQDviTvHRr4BAO+JO8dGvgEA74k7x0a+AQDviTvHRr4BAO+JO8dGvgEA74k7x0a+AQDviTvHRr4BAO+JO8dGvgEA74k7x0a+AQDviTvHRr4BAO+JO8dGvgEA74k7x0a+AQDviTvHRr4BAO+JO8dGvgEA74k7x0a+AQDviTvHRr4BAO+JO8dGvgEA74k7x0a+AQDviTvHRr4BAO+JO8dGvgEA74k7x0a+AQDviTvHRr4BAO+JO8dGvgEA74k7x0a+AQDviTvHRr4BAO+JO8dGvgEA74k7x0a+AQDviTvHRr4BAO+JO8dGvgEA74k7x0a+AQDviTvHRr4BAO+JO8dGvgEA74k7x0a+AQDviTvHRr4BAO+JO8dGvgEA74k7x0a+AQDviTvHRr4BAO+JO8dGvgEA74k7x0a+AQDviTvHRr4BAO+JO8dGvgEA74k7x0a+AQDviTvHRr4BAO+JO8dGvgEA74k7x0a+AQDviTvHRr4BAO+JO8dGvgEA74k7x0a+AQDviTvHRr4BAO+JO8dGvgEA74k7x0a+AQDviTvHRr4BAO+JO8dGvgEA74k7x0a+AQDviTvHRr4BAO+JO8dGvgEA74k7x0a+AQDviTvHRr4BAO+JO8dGvgEA74k7x0a+AQDviTvHRr4BAO+JO8dGvgEA74k7x0a+AQDviTvHRr4BAO+JO8dGvgEA74k7x0a+AQDviTvHRr4BAO+JO8dGvgEA74k7x0a+AQDviTvHRr4BAO+JO8dGvgEA74k7x0a+AQDviTvHRr4BAO+JO8dGvgEA74k7x0a+AQDviTvHRr4BAO+JO8dGvgEA74k7x0a+AQDviTvHRr4BAO+JO8dGvgEA74k7x0a+AQDviTvHRr4BAO+JO8dGvgEA74k7x0a+AQDviTvHRr4BAO+JO8dGvgEA74k7x0a+AQDviTvHRr4BAO+JO8dGvgEA74k7x0a+AQDviTvHRr4BAO+JO8dGvgEA74k7x0a+AQDviTvHRr4BAO+JO8dGvgEA74k7x0a+AQDviTvHRr4BAO+JO8dGvgEA74k7x0a+AQDviTvHRr4BAO+JO8dGvgEA74k7x0a+AQDviTvHRr4BAO+JO8dGvgEA74k7x0a+AQDviTvHRr4BAO+JO8dGvgEA74k7x0a+AQDviTvHRr4BAO+JO8dGvgEA74k7x0a+AQDviTvHRr4BAO+JO8dGvgEA74k7x0a+AQDviTvHRr4BAO+JO8dGvgEA74k7x0a+AQDviTvHRr4BAO+JO8dGvgEA74k7x0a+AQDviTvHRr4BAO+JO8dGvgEA74k7x0a+AQDviTvHRr4BAO+JO8dGvgEA74k7x0a+AQDviTvHRr4BAO+JO8dGvgEA74k7x0a+AQDviTvHRr4BAO+JO8dGvgEA74k7x0a+AQDviTvHRr4BAO+JO8dGvgEA74k7x0a+AQDviTvHRr4BAO+JO8dGvgEA74k7x0a+AQDviTvHRr4BAO+JO8dGvgEA74k7x0a+AQDviTvHRr4BAO+JO8dGvgEA74k7x0a+AQDviTvHRr4BAO+JO8dGvgEA74k7x0a+AQDviTvHRr4BAO+JO8dGvgEA74k7x0a+AQDviTvHRr4BAO+JO8dGvgEA74k7x0a+AQDviTvHRr4BAO+JO8dGvgEA74k7x0a+AQDviTvHRr4BAO+JO8dGvgEA74k7x0a+AQDviTvHRr4BAO+JO8dGvgEA74k7x0a+AQDviTvHRr4BAO+JO8dGvgEA74k7x0a+AQDviTvHRr4BAO+JO8dGvgEA74k7x0a+AQDviTvHRr4BAO+JO8dGvgEA74k7x0a+AQDviTvHRr4BAO+JO8dGvgEA74k7x0a+AQDviTvHRr4BAO+JO8dGvgEA74k7x0a+AQDviTvHRr4BAO+JO8dGvgEA74k7x0a+AQDviTvHRr4BAO+JO8dGvgEA74k7x0a+AQDviTvHRr4BAO+JO8dGvgEA74k7x0a+AQDviTvHRr4BAO+JO8dGvgEA74k7x0a+AQDviTvHRr4BAO+JO8dGvgEA74k7x0a+AQDviTvHRr4BAO+JO8dGvgEA74k7x0a+AQDviTvHRr4BAO+JO8dGvgEA74k7x0a+AQDviTvHRr4BAO+JO8dGvgEA74k7x0a+AQDviTvHRr4BAO+JO8dGvgEA74k7x0a+AQDviTvHRr4BAO+JO8dGvgEA74k7x0a+AQDviTvHRr4BAO+JO8dGvgEA74k7x0a+AQDviTvHRr4BAO+JO8dGvgEA74k7x0a+AQDviTvHRr4BAO+JO8dGvgEA74k7x0a+AQDviTvHRr4BAO+JO8dGvgEA74k7x0a+AQDviTvHRr4BAO+JO8dGvgEA74k7x0a+AQDviTvHRr4BAO+JO8dGvgEA74k7x0a+AQDviTvHRr4BAO+JO8dGvgEA74k7x0a+AQDviTvHRr4BAO+JO8dGvgEA74k7x0a+AQDviTvHRr4BAO+JO8dGvgEA74k7x0a+AQDviTvHRr4BAO+JO8dGvgEA74k7x0a+AQDviTvHRr4BAO+JO8dGvgEA74k7x0a+AQDviTvHRr4BAO+JO8dGvgEA74k7x0a+AQDviTvHRr4BAO+JO8dGvgEA74k7x0a+AQDviTvHRr4BAO+JO8dGvgEA74k7x0a+AQDviTvHRr4BAO+JO8dGvgEA74k7x0a+AQDviTvHRr4BAO+JO8dGvgEA74k7x0a+AQDviTvHRr4BAO+JO8dGvgEA74k7x0a+AQDviTvHRr4BAO+JO8dGvgEA74k7x0a+AQDviTvHRr4BAO+JO8dGvgEA74k7x0a+AQDviTvHRr4BAO+JO8dGvgEA74k7x0a+AQDviTvHRr4BAO+JO8dGvgEA74k7x0a+AQDviTvHRr4BAO+JO8dGvgEA74k7x0a+AQDviTvHRr4BAO+JO8dGvgEA74k7x0a+AQDviTvHRr4BAO+JO8dGvgEA74k7x0a+AQDviTvHRr4BAO+JO8dGvgEA74k7x0a+AQDviTvHRr4BAO+JO8dGvgEA74k7x0a+AQDviTvHRr4BAO+JO8dGvgEA74k7x0a+AQDviTvHRr4BAO+JO8dGvgEA74k7x0a+AQDviTvHRr4BA",
          "dtype": "f8"
         },
         "yaxis": "y2"
        },
        {
         "line": {
          "width": 2
         },
         "mode": "lines",
         "name": "simulator:/SOL:/locked",
         "showlegend": true,
         "type": "scatter",
         "x": {
          "bdata": "AAABAAIAAwAEAAUABgAHAAgACQAKAAsADAANAA4ADwAQABEAEgATABQAFQAWABcAGAAZABoAGwAcAB0AHgAfACAAIQAiACMAJAAlACYAJwAoACkAKgArACwALQAuAC8AMAAxADIAMwA0ADUANgA3ADgAOQA6ADsAPAA9AD4APwBAAEEAQgBDAEQARQBGAEcASABJAEoASwBMAE0ATgBPAFAAUQBSAFMAVABVAFYAVwBYAFkAWgBbAFwAXQBeAF8AYABhAGIAYwBkAGUAZgBnAGgAaQBqAGsAbABtAG4AbwBwAHEAcgBzAHQAdQB2AHcAeAB5AHoAewB8AH0AfgB/AIAAgQCCAIMAhACFAIYAhwCIAIkAigCLAIwAjQCOAI8AkACRAJIAkwCUAJUAlgCXAJgAmQCaAJsAnACdAJ4AnwCgAKEAogCjAKQApQCmAKcAqACpAKoAqwCsAK0ArgCvALAAsQCyALMAtAC1ALYAtwC4ALkAugC7ALwAvQC+AL8AwADBAMIAwwDEAMUAxgDHAMgAyQDKAMsAzADNAM4AzwDQANEA0gDTANQA1QDWANcA2ADZANoA2wDcAN0A3gDfAOAA4QDiAOMA5ADlAOYA5wDoAOkA6gDrAOwA7QDuAO8A8ADxAPIA8wD0APUA9gD3APgA+QD6APsA/AD9AP4A/wAAAQEBAgEDAQQBBQEGAQcBCAEJAQoBCwEMAQ0BDgEPARABEQESARMBFAEVARYBFwEYARkBGgEbARwBHQEeAR8BIAEhASIBIwEkASUBJgEnASgBKQEqASsBLAEtAS4BLwEwATEBMgEzATQBNQE2ATcBOAE5AToBOwE8AT0BPgE/AUABQQFCAUMBRAFFAUYBRwFIAUkBSgFLAUwBTQFOAU8BUAFRAVIBUwFUAVUBVgFXAVgBWQFaAVsBXAFdAV4BXwFgAWEBYgFjAWQBZQFmAWcBaAFpAWoBawFsAW0BbgFvAXABcQFyAXMBdAF1AXYBdwF4AXkBegF7AXwBfQF+AX8BgAGBAYIBgwGEAYUBhgGHAYgBiQGKAYsBjAGNAY4BjwGQAZEBkgGTAZQBlQGWAZcBmAGZAZoBmwGcAZ0BngGfAaABoQGiAaMBpAGlAaYBpwGoAakBqgGrAawBrQGuAa8BsAGxAbIBswG0AbUBtgG3AbgBuQG6AbsBvAG9Ab4BvwHAAcEBwgHDAcQBxQHGAccByAHJAcoBywHMAc0BzgHPAdAB",
          "dtype": "i2"
         },
         "xaxis": "x2",
         "y": {
          "bdata": "AAAAAAAAAAAAAAAAAAAAAAAAAAAAAAAAAAAAAAAAAAAAAAAAAAAAAAAAAAAAAAAAAAAAAAAAAAAAAAAAAAAAAAAAAAAAAAAAAAAAAAAAAAAAAAAAAAAAAAAAAAAAAAAAAAAAAAAAAAAAAAAAAAAAAAAAAAAAAAAAAAAAAAAAAAAAAAAAAAAAAAAAAAAAAAAAAAAAAAAAAAAAAAAAAAAAAAAAAAAAAAAAAAAAAAAAAAAAAAAAAAAAAAAAAAAAAAAAAAAAAAAAAAAAAAAAAAAAAAAAAAAAAAAAAAAAAAAAAAAAAAAAAAAAAAAAAAAAAAAAAAAAAAAAAAAAAAAAAAAAAAAAAAAAAAAAAAAAAAAAAAAAAAAAAAAAAAAAAAAAAAAAAAAAAAAAAAAAAAAAAAAAAAAAAAAAAAAAAAAAAAAAAAAAAAAAAAAAAAAAAAAAAAAAAAAAAAAAAAAAAAAAAAAAAAAAAAAAAAAAAAAAAAAAAAAAAAAAAAAAAAAAAAAAAAAAAAAAAAAAAAAAAAAAAAAAAAAAAAAAAAAAAAAAAAAAAAAAAAAAAAAAAAAAAAAAAAAAAAAAAAAAAAAAAAAAAAAAAAAAAAAAAAAAAAAAAAAAAAAAAAAAAAAAAAAAAAAAAAAAAAAAAAAAAAAAAAAAAAAAAAAAAAAAAAAAAAAAAAAAAAAAAAAAAAAAAAAAAAAAAAAAAAAAAAAAAAAAAAAAAAAAAAAAAAAAAAAAAAAAAAAAAAAAAAAAAAAAAAAAAAAAAAAAAAAAAAAAAAAAAAAAAAAAAAAAAAAAAAAAAAAAAAAAAAAAAAAAAAAAAAAAAAAAAAAAAAAAAAAAAAAAAAAAAAAAAAAAAAAAAAAAAAAAAAAAAAAAAAAAAAAAAAAAAAAAAAAAAAAAAAAAAAAAAAAAAAAAAAAAAAAAAAAAAAAAAAAAAAAAAAAAAAAAAAAAAAAAAAAAAAAAAAAAAAAAAAAAAAAAAAAAAAAAAAAAAAAAAAAAAAAAAAAAAAAAAAAAAAAAAAAAAAAAAAAAAAAAAAAAAAAAAAAAAAAAAAAAAAAAAAAAAAAAAAAAAAAAAEc5mM1APNBARzmYzUA80EBHOZjNQDzQQEc5mM1APNBARzmYzUA80EBHOZjNQDzQQEc5mM1APNBARzmYzUA80EBHOZjNQDzQQEc5mM1APNBARzmYzUA80EBHOZjNQDzQQEc5mM1APNBARzmYzUA80EBHOZjNQDzQQEc5mM1APNBARzmYzUA80EBHOZjNQDzQQEc5mM1APNBARzmYzUA80EBHOZjNQDzQQEc5mM1APNBARzmYzUA80EBHOZjNQDzQQEc5mM1APNBARzmYzUA80EBHOZjNQDzQQEc5mM1APNBARzmYzUA80EBHOZjNQDzQQEc5mM1APNBARzmYzUA80EBHOZjNQDzQQEc5mM1APNBARzmYzUA80EBHOZjNQDzQQEc5mM1APNBARzmYzUA80EBHOZjNQDzQQEc5mM1APNBARzmYzUA80EBHOZjNQDzQQEc5mM1APNBARzmYzUA80EBHOZjNQDzQQEc5mM1APNBARzmYzUA80EBHOZjNQDzQQEc5mM1APNBARzmYzUA80EBHOZjNQDzQQEc5mM1APNBARzmYzUA80EBHOZjNQDzQQEc5mM1APNBARzmYzUA80EBHOZjNQDzQQEc5mM1APNBARzmYzUA80EBHOZjNQDzQQEc5mM1APNBARzmYzUA80EBHOZjNQDzQQEc5mM1APNBARzmYzUA80EBHOZjNQDzQQEc5mM1APNBARzmYzUA80EBHOZjNQDzQQEc5mM1APNBARzmYzUA80EBHOZjNQDzQQEc5mM1APNBARzmYzUA80EBHOZjNQDzQQEc5mM1APNBARzmYzUA80EBHOZjNQDzQQEc5mM1APNBARzmYzUA80EBHOZjNQDzQQEc5mM1APNBARzmYzUA80EBHOZjNQDzQQEc5mM1APNBARzmYzUA80EBHOZjNQDzQQEc5mM1APNBARzmYzUA80EBHOZjNQDzQQEc5mM1APNBARzmYzUA80EBHOZjNQDzQQEc5mM1APNBARzmYzUA80EBHOZjNQDzQQEc5mM1APNBARzmYzUA80EBHOZjNQDzQQEc5mM1APNBARzmYzUA80EBHOZjNQDzQQEc5mM1APNBARzmYzUA80EBHOZjNQDzQQEc5mM1APNBARzmYzUA80EBHOZjNQDzQQEc5mM1APNBARzmYzUA80EBHOZjNQDzQQEc5mM1APNBARzmYzUA80EBHOZjNQDzQQEc5mM1APNBARzmYzUA80EBHOZjNQDzQQEc5mM1APNBARzmYzUA80EBHOZjNQDzQQEc5mM1APNBARzmYzUA80EBHOZjNQDzQQEc5mM1APNBARzmYzUA80EBHOZjNQDzQQEc5mM1APNBARzmYzUA80EBHOZjNQDzQQEc5mM1APNBARzmYzUA80EBHOZjNQDzQQEc5mM1APNBARzmYzUA80EBHOZjNQDzQQEc5mM1APNBARzmYzUA80EBHOZjNQDzQQEc5mM1APNBARzmYzUA80EBHOZjNQDzQQEc5mM1APNBARzmYzUA80EBHOZjNQDzQQEc5mM1APNBARzmYzUA80EBHOZjNQDzQQEc5mM1APNBARzmYzUA80EBHOZjNQDzQQEc5mM1APNBARzmYzUA80EBHOZjNQDzQQEc5mM1APNBARzmYzUA80EBHOZjNQDzQQEc5mM1APNBARzmYzUA80EBHOZjNQDzQQEc5mM1APNBARzmYzUA80EBHOZjNQDzQQEc5mM1APNBARzmYzUA80EBHOZjNQDzQQEc5mM1APNBARzmYzUA80EBHOZjNQDzQQEc5mM1APNBARzmYzUA80EBHOZjNQDzQQEc5mM1APNBARzmYzUA80EBHOZjNQDzQQEc5mM1APNBARzmYzUA80EBHOZjNQDzQQEc5mM1APNBARzmYzUA80EBHOZjNQDzQQEc5mM1APNBARzmYzUA80EBHOZjNQDzQQEc5mM1APNBARzmYzUA80EBHOZjNQDzQQEc5mM1APNBARzmYzUA80EBHOZjNQDzQQEc5mM1APNBARzmYzUA80EBHOZjNQDzQQEc5mM1APNBARzmYzUA80EBHOZjNQDzQQEc5mM1APNBARzmYzUA80EBHOZjNQDzQQEc5mM1APNBARzmYzUA80EBHOZjNQDzQQEc5mM1APNBARzmYzUA80EBHOZjNQDzQQEc5mM1APNBARzmYzUA80EBHOZjNQDzQQEc5mM1APNBARzmYzUA80EBHOZjNQDzQQEc5mM1APNBARzmYzUA80EBHOZjNQDzQQEc5mM1APNBARzmYzUA80EBHOZjNQDzQQEc5mM1APNBARzmYzUA80EBHOZjNQDzQQEc5mM1APNBARzmYzUA80EBHOZjNQDzQQEc5mM1APNBARzmYzUA80EBHOZjNQDzQQEc5mM1APNBARzmYzUA80EBHOZjNQDzQQEc5mM1APNBARzmYzUA80EBHOZjNQDzQQEc5mM1APNBARzmYzUA80EBHOZjNQDzQQEc5mM1APNBARzmYzUA80EBHOZjNQDzQQEc5mM1APNBARzmYzUA80EBHOZjNQDzQQEc5mM1APNBARzmYzUA80EBHOZjNQDzQQEc5mM1APNBARzmYzUA80EBHOZjNQDzQQEc5mM1APNBARzmYzUA80EBHOZjNQDzQQEc5mM1APNBARzmYzUA80EBHOZjNQDzQQEc5mM1APNBARzmYzUA80EBHOZjNQDzQQEc5mM1APNBARzmYzUA80EBHOZjNQDzQQEc5mM1APNBARzmYzUA80EBHOZjNQDzQQEc5mM1APNBARzmYzUA80EBHOZjNQDzQQEc5mM1APNBARzmYzUA80EBHOZjNQDzQQEc5mM1APNBARzmYzUA80EBHOZjNQDzQQEc5mM1APNBARzmYzUA80EBHOZjNQDzQQEc5mM1APNBARzmYzUA80EBHOZjNQDzQQEc5mM1APNBARzmYzUA80EBHOZjNQDzQQEc5mM1APNBARzmYzUA80EBHOZjNQDzQQEc5mM1APNBARzmYzUA80EBHOZjNQDzQQEc5mM1APNBARzmYzUA80EBHOZjNQDzQQEc5mM1APNBARzmYzUA80EBHOZjNQDzQQEc5mM1APNBARzmYzUA80EBHOZjNQDzQQEc5mM1APNBARzmYzUA80EBHOZjNQDzQQEc5mM1APNBARzmYzUA80EBHOZjNQDzQQEc5mM1APNBARzmYzUA80EBHOZjNQDzQQEc5mM1APNBARzmYzUA80EBHOZjNQDzQQEc5mM1APNBARzmYzUA80EBHOZjNQDzQQEc5mM1APNBARzmYzUA80EBHOZjNQDzQQEc5mM1APNBARzmYzUA80EBHOZjNQDzQQEc5mM1APNBARzmYzUA80EBHOZjNQDzQQEc5mM1APNBARzmYzUA80EBHOZjNQDzQQEc5mM1APNBARzmYzUA80EBHOZjNQDzQQEc5mM1APNBARzmYzUA80EBHOZjNQDzQQEc5mM1APNBARzmYzUA80EBHOZjNQDzQQEc5mM1APNBARzmYzUA80EBHOZjNQDzQQEc5mM1APNBARzmYzUA80EBHOZjNQDzQQEc5mM1APNBARzmYzUA80EBHOZjNQDzQQEc5mM1APNBARzmYzUA80EBHOZjNQDzQQEc5mM1APNBARzmYzUA80EBHOZjNQDzQQEc5mM1APNBARzmYzUA80EBHOZjNQDzQQEc5mM1APNBARzmYzUA80EBHOZjNQDzQQEc5mM1APNBARzmYzUA80EBHOZjNQDzQQEc5mM1APNBARzmYzUA80EBHOZjNQDzQQEc5mM1APNBARzmYzUA80EBHOZjNQDzQQEc5mM1APNBARzmYzUA80EBHOZjNQDzQQEc5mM1APNBA",
          "dtype": "f8"
         },
         "yaxis": "y2"
        },
        {
         "line": {
          "width": 2
         },
         "mode": "lines",
         "name": "simulator:/SOL:/total",
         "showlegend": true,
         "type": "scatter",
         "x": {
          "bdata": "AAABAAIAAwAEAAUABgAHAAgACQAKAAsADAANAA4ADwAQABEAEgATABQAFQAWABcAGAAZABoAGwAcAB0AHgAfACAAIQAiACMAJAAlACYAJwAoACkAKgArACwALQAuAC8AMAAxADIAMwA0ADUANgA3ADgAOQA6ADsAPAA9AD4APwBAAEEAQgBDAEQARQBGAEcASABJAEoASwBMAE0ATgBPAFAAUQBSAFMAVABVAFYAVwBYAFkAWgBbAFwAXQBeAF8AYABhAGIAYwBkAGUAZgBnAGgAaQBqAGsAbABtAG4AbwBwAHEAcgBzAHQAdQB2AHcAeAB5AHoAewB8AH0AfgB/AIAAgQCCAIMAhACFAIYAhwCIAIkAigCLAIwAjQCOAI8AkACRAJIAkwCUAJUAlgCXAJgAmQCaAJsAnACdAJ4AnwCgAKEAogCjAKQApQCmAKcAqACpAKoAqwCsAK0ArgCvALAAsQCyALMAtAC1ALYAtwC4ALkAugC7ALwAvQC+AL8AwADBAMIAwwDEAMUAxgDHAMgAyQDKAMsAzADNAM4AzwDQANEA0gDTANQA1QDWANcA2ADZANoA2wDcAN0A3gDfAOAA4QDiAOMA5ADlAOYA5wDoAOkA6gDrAOwA7QDuAO8A8ADxAPIA8wD0APUA9gD3APgA+QD6APsA/AD9AP4A/wAAAQEBAgEDAQQBBQEGAQcBCAEJAQoBCwEMAQ0BDgEPARABEQESARMBFAEVARYBFwEYARkBGgEbARwBHQEeAR8BIAEhASIBIwEkASUBJgEnASgBKQEqASsBLAEtAS4BLwEwATEBMgEzATQBNQE2ATcBOAE5AToBOwE8AT0BPgE/AUABQQFCAUMBRAFFAUYBRwFIAUkBSgFLAUwBTQFOAU8BUAFRAVIBUwFUAVUBVgFXAVgBWQFaAVsBXAFdAV4BXwFgAWEBYgFjAWQBZQFmAWcBaAFpAWoBawFsAW0BbgFvAXABcQFyAXMBdAF1AXYBdwF4AXkBegF7AXwBfQF+AX8BgAGBAYIBgwGEAYUBhgGHAYgBiQGKAYsBjAGNAY4BjwGQAZEBkgGTAZQBlQGWAZcBmAGZAZoBmwGcAZ0BngGfAaABoQGiAaMBpAGlAaYBpwGoAakBqgGrAawBrQGuAa8BsAGxAbIBswG0AbUBtgG3AbgBuQG6AbsBvAG9Ab4BvwHAAcEBwgHDAcQBxQHGAccByAHJAcoBywHMAc0BzgHPAdAB",
          "dtype": "i2"
         },
         "xaxis": "x2",
         "y": {
          "bdata": "AAAAAAAAAAAAAAAAAAAAAAAAAAAAAAAAAAAAAAAAAAAAAAAAAAAAAAAAAAAAAAAAAAAAAAAAAAAAAAAAAAAAAAAAAAAAAAAAAAAAAAAAAAAAAAAAAAAAAAAAAAAAAAAAAAAAAAAAAAAAAAAAAAAAAAAAAAAAAAAAAAAAAAAAAAAAAAAAAAAAAAAAAAAAAAAAAAAAAAAAAAAAAAAAAAAAAAAAAAAAAAAAAAAAAAAAAAAAAAAAAAAAAAAAAAAAAAAAAAAAAAAAAAAAAAAAAAAAAAAAAAAAAAAAAAAAAAAAAAAAAAAAAAAAAAAAAAAAAAAAAAAAAAAAAAAAAAAAAAAAAAAAAAAAAAAAAAAAAAAAAAAAAAAAAAAAAAAAAAAAAAAAAAAAAAAAAAAAAAAAAAAAAAAAAAAAAAAAAAAAAAAAAAAAAAAAAAAAAAAAAAAAAAAAAAAAAAAAAAAAAAAAAAAAAAAAAAAAAAAAAAAAAAAAAAAAAAAAAAAAAAAAAAAAAAAAAAAAAAAAAAAAAAAAAAAAAAAAAAAAAAAAAAAAAAAAAAAAAAAAAAAAAAAAAAAAAAAAAAAAAAAAAAAAAAAAAAAAAAAAAAAAAAAAAAAAAAAAAAAAAAAAAAAAAAAAAAAAAAAAAAAAAAAAAAAAAAAAAAAAAAAAAAAAAAAAAAAAAAAAAAAAAAAAAAAAAAAAAAAAAAAAAAAAAAAAAAAAAAAAAAAAAAAAAAAAAAAAAAAAAAAAAAAAAAAAAAAAAAAAAAAAAAAAAAAAAAAAAAAAAAAAAAAAAAAAAAAAAAAAAAAAAAAAAAAAAAAAAAAAAAAAAAAAAAAAAAAAAAAAAAAAAAAAAAAAAAAAAAAAAAAAAAAAAAAAAAAAAAAAAAAAAAAAAAAAAAAAAAAAAAAAAAAAAAAAAAAAAAAAAAAAAAAAAAAAAAAAAAAAAAAAAAAAAAAAAAAAAAAAAAAAAAAAAAAAAAAAAAAAAAAAAAAAAAAAAAAAAAAAAAAAAAAAAAAAAAAAAAAAAAAAAAAAAAAAAAAAAAAAAAAAAAAAAAAAAAAAAAAAAAAAAAAAAAAAAAAAAEc5mM1APNBARzmYzUA80EBHOZjNQDzQQEc5mM1APNBARzmYzUA80EBHOZjNQDzQQEc5mM1APNBARzmYzUA80EBHOZjNQDzQQEc5mM1APNBARzmYzUA80EBHOZjNQDzQQEc5mM1APNBARzmYzUA80EBZsCJdv8HQQFmwIl2/wdBAWbAiXb/B0EBZsCJdv8HQQFmwIl2/wdBAWbAiXb/B0EBZsCJdv8HQQFmwIl2/wdBAWbAiXb/B0EBZsCJdv8HQQFmwIl2/wdBAWbAiXb/B0EBZsCJdv8HQQFmwIl2/wdBAWbAiXb/B0EBZsCJdv8HQQFmwIl2/wdBAWbAiXb/B0EBZsCJdv8HQQFmwIl2/wdBAWbAiXb/B0EBZsCJdv8HQQFmwIl2/wdBAWbAiXb/B0EBZsCJdv8HQQFmwIl2/wdBAWbAiXb/B0EBZsCJdv8HQQFmwIl2/wdBAWbAiXb/B0EBZsCJdv8HQQFmwIl2/wdBAWbAiXb/B0EBZsCJdv8HQQFmwIl2/wdBAWbAiXb/B0EBZsCJdv8HQQFmwIl2/wdBAWbAiXb/B0EBZsCJdv8HQQFmwIl2/wdBAWbAiXb/B0EBZsCJdv8HQQFmwIl2/wdBAWbAiXb/B0EBZsCJdv8HQQFmwIl2/wdBAWbAiXb/B0EBZsCJdv8HQQFmwIl2/wdBAWbAiXb/B0EBZsCJdv8HQQFmwIl2/wdBAWbAiXb/B0EBZsCJdv8HQQFmwIl2/wdBAWbAiXb/B0EBZsCJdv8HQQFmwIl2/wdBAWbAiXb/B0EBZsCJdv8HQQFmwIl2/wdBAWbAiXb/B0EBZsCJdv8HQQFmwIl2/wdBAWbAiXb/B0EBZsCJdv8HQQFmwIl2/wdBAWbAiXb/B0EBZsCJdv8HQQFmwIl2/wdBAWbAiXb/B0EBZsCJdv8HQQFmwIl2/wdBAWbAiXb/B0EBZsCJdv8HQQFmwIl2/wdBAWbAiXb/B0EBZsCJdv8HQQFmwIl2/wdBAWbAiXb/B0EBZsCJdv8HQQFmwIl2/wdBAWbAiXb/B0EBZsCJdv8HQQFmwIl2/wdBAWbAiXb/B0EBZsCJdv8HQQFmwIl2/wdBAWbAiXb/B0EBZsCJdv8HQQFmwIl2/wdBAWbAiXb/B0EBZsCJdv8HQQFmwIl2/wdBAWbAiXb/B0EBZsCJdv8HQQFmwIl2/wdBAWbAiXb/B0EBZsCJdv8HQQFmwIl2/wdBAWbAiXb/B0EBZsCJdv8HQQFmwIl2/wdBAWbAiXb/B0EBZsCJdv8HQQFmwIl2/wdBAWbAiXb/B0EBZsCJdv8HQQFmwIl2/wdBAWbAiXb/B0EBZsCJdv8HQQFmwIl2/wdBAWbAiXb/B0EBZsCJdv8HQQFmwIl2/wdBAWbAiXb/B0EBZsCJdv8HQQFmwIl2/wdBAWbAiXb/B0EBZsCJdv8HQQFmwIl2/wdBAWbAiXb/B0EBZsCJdv8HQQFmwIl2/wdBAWbAiXb/B0EBZsCJdv8HQQFmwIl2/wdBAWbAiXb/B0EBZsCJdv8HQQFmwIl2/wdBAWbAiXb/B0EBZsCJdv8HQQFmwIl2/wdBAWbAiXb/B0EBZsCJdv8HQQFmwIl2/wdBAWbAiXb/B0EBZsCJdv8HQQFmwIl2/wdBAWbAiXb/B0EBZsCJdv8HQQFmwIl2/wdBAWbAiXb/B0EBZsCJdv8HQQFmwIl2/wdBAWbAiXb/B0EBZsCJdv8HQQFmwIl2/wdBAWbAiXb/B0EBZsCJdv8HQQFmwIl2/wdBAWbAiXb/B0EBZsCJdv8HQQFmwIl2/wdBAWbAiXb/B0EBZsCJdv8HQQFmwIl2/wdBAWbAiXb/B0EBZsCJdv8HQQFmwIl2/wdBAWbAiXb/B0EBZsCJdv8HQQFmwIl2/wdBAWbAiXb/B0EBZsCJdv8HQQFmwIl2/wdBAWbAiXb/B0EBZsCJdv8HQQFmwIl2/wdBAWbAiXb/B0EBZsCJdv8HQQFmwIl2/wdBAWbAiXb/B0EBZsCJdv8HQQFmwIl2/wdBAWbAiXb/B0EBZsCJdv8HQQFmwIl2/wdBAWbAiXb/B0EBZsCJdv8HQQFmwIl2/wdBAWbAiXb/B0EBZsCJdv8HQQFmwIl2/wdBAWbAiXb/B0EBZsCJdv8HQQFmwIl2/wdBAWbAiXb/B0EBZsCJdv8HQQFmwIl2/wdBAWbAiXb/B0EBZsCJdv8HQQFmwIl2/wdBAWbAiXb/B0EBZsCJdv8HQQFmwIl2/wdBAWbAiXb/B0EBZsCJdv8HQQFmwIl2/wdBAWbAiXb/B0EBZsCJdv8HQQFmwIl2/wdBAWbAiXb/B0EBZsCJdv8HQQFmwIl2/wdBAWbAiXb/B0EBZsCJdv8HQQFmwIl2/wdBAWbAiXb/B0EBZsCJdv8HQQFmwIl2/wdBAWbAiXb/B0EBZsCJdv8HQQFmwIl2/wdBAWbAiXb/B0EBZsCJdv8HQQFmwIl2/wdBAWbAiXb/B0EBZsCJdv8HQQFmwIl2/wdBAWbAiXb/B0EBZsCJdv8HQQFmwIl2/wdBAWbAiXb/B0EBZsCJdv8HQQFmwIl2/wdBAWbAiXb/B0EBZsCJdv8HQQFmwIl2/wdBAWbAiXb/B0EBZsCJdv8HQQFmwIl2/wdBAWbAiXb/B0EBZsCJdv8HQQFmwIl2/wdBAWbAiXb/B0EBZsCJdv8HQQFmwIl2/wdBAWbAiXb/B0EBZsCJdv8HQQFmwIl2/wdBAWbAiXb/B0EBZsCJdv8HQQFmwIl2/wdBAWbAiXb/B0EBZsCJdv8HQQFmwIl2/wdBAWbAiXb/B0EBZsCJdv8HQQFmwIl2/wdBAWbAiXb/B0EBZsCJdv8HQQFmwIl2/wdBAWbAiXb/B0EBZsCJdv8HQQFmwIl2/wdBAWbAiXb/B0EBZsCJdv8HQQFmwIl2/wdBAWbAiXb/B0EBZsCJdv8HQQFmwIl2/wdBAWbAiXb/B0EBZsCJdv8HQQFmwIl2/wdBAWbAiXb/B0EBZsCJdv8HQQFmwIl2/wdBAWbAiXb/B0EBZsCJdv8HQQFmwIl2/wdBAWbAiXb/B0EBZsCJdv8HQQFmwIl2/wdBAWbAiXb/B0EBZsCJdv8HQQFmwIl2/wdBAWbAiXb/B0EBZsCJdv8HQQFmwIl2/wdBAWbAiXb/B0EBZsCJdv8HQQFmwIl2/wdBAWbAiXb/B0EBZsCJdv8HQQFmwIl2/wdBAWbAiXb/B0EBZsCJdv8HQQFmwIl2/wdBAWbAiXb/B0EBZsCJdv8HQQFmwIl2/wdBAWbAiXb/B0EBZsCJdv8HQQFmwIl2/wdBAWbAiXb/B0EBZsCJdv8HQQFmwIl2/wdBAWbAiXb/B0EBZsCJdv8HQQFmwIl2/wdBAWbAiXb/B0EBZsCJdv8HQQFmwIl2/wdBAWbAiXb/B0EBZsCJdv8HQQFmwIl2/wdBAWbAiXb/B0EBZsCJdv8HQQFmwIl2/wdBAWbAiXb/B0EBZsCJdv8HQQFmwIl2/wdBAWbAiXb/B0EBZsCJdv8HQQFmwIl2/wdBAWbAiXb/B0EBZsCJdv8HQQFmwIl2/wdBAWbAiXb/B0EBZsCJdv8HQQFmwIl2/wdBAWbAiXb/B0EBZsCJdv8HQQFmwIl2/wdBAWbAiXb/B0EBZsCJdv8HQQFmwIl2/wdBAWbAiXb/B0EBZsCJdv8HQQFmwIl2/wdBAWbAiXb/B0EBZsCJdv8HQQFmwIl2/wdBAWbAiXb/B0EBZsCJdv8HQQFmwIl2/wdBAWbAiXb/B0EBZsCJdv8HQQFmwIl2/wdBAWbAiXb/B0EBZsCJdv8HQQFmwIl2/wdBAWbAiXb/B0EBZsCJdv8HQQFmwIl2/wdBAWbAiXb/B0EBZsCJdv8HQQFmwIl2/wdBA",
          "dtype": "f8"
         },
         "yaxis": "y2"
        },
        {
         "line": {
          "width": 2
         },
         "mode": "lines",
         "name": "simulator:/SOL:/worth",
         "showlegend": true,
         "type": "scatter",
         "x": {
          "bdata": "AAABAAIAAwAEAAUABgAHAAgACQAKAAsADAANAA4ADwAQABEAEgATABQAFQAWABcAGAAZABoAGwAcAB0AHgAfACAAIQAiACMAJAAlACYAJwAoACkAKgArACwALQAuAC8AMAAxADIAMwA0ADUANgA3ADgAOQA6ADsAPAA9AD4APwBAAEEAQgBDAEQARQBGAEcASABJAEoASwBMAE0ATgBPAFAAUQBSAFMAVABVAFYAVwBYAFkAWgBbAFwAXQBeAF8AYABhAGIAYwBkAGUAZgBnAGgAaQBqAGsAbABtAG4AbwBwAHEAcgBzAHQAdQB2AHcAeAB5AHoAewB8AH0AfgB/AIAAgQCCAIMAhACFAIYAhwCIAIkAigCLAIwAjQCOAI8AkACRAJIAkwCUAJUAlgCXAJgAmQCaAJsAnACdAJ4AnwCgAKEAogCjAKQApQCmAKcAqACpAKoAqwCsAK0ArgCvALAAsQCyALMAtAC1ALYAtwC4ALkAugC7ALwAvQC+AL8AwADBAMIAwwDEAMUAxgDHAMgAyQDKAMsAzADNAM4AzwDQANEA0gDTANQA1QDWANcA2ADZANoA2wDcAN0A3gDfAOAA4QDiAOMA5ADlAOYA5wDoAOkA6gDrAOwA7QDuAO8A8ADxAPIA8wD0APUA9gD3APgA+QD6APsA/AD9AP4A/wAAAQEBAgEDAQQBBQEGAQcBCAEJAQoBCwEMAQ0BDgEPARABEQESARMBFAEVARYBFwEYARkBGgEbARwBHQEeAR8BIAEhASIBIwEkASUBJgEnASgBKQEqASsBLAEtAS4BLwEwATEBMgEzATQBNQE2ATcBOAE5AToBOwE8AT0BPgE/AUABQQFCAUMBRAFFAUYBRwFIAUkBSgFLAUwBTQFOAU8BUAFRAVIBUwFUAVUBVgFXAVgBWQFaAVsBXAFdAV4BXwFgAWEBYgFjAWQBZQFmAWcBaAFpAWoBawFsAW0BbgFvAXABcQFyAXMBdAF1AXYBdwF4AXkBegF7AXwBfQF+AX8BgAGBAYIBgwGEAYUBhgGHAYgBiQGKAYsBjAGNAY4BjwGQAZEBkgGTAZQBlQGWAZcBmAGZAZoBmwGcAZ0BngGfAaABoQGiAaMBpAGlAaYBpwGoAakBqgGrAawBrQGuAa8BsAGxAbIBswG0AbUBtgG3AbgBuQG6AbsBvAG9Ab4BvwHAAcEBwgHDAcQBxQHGAccByAHJAcoBywHMAc0BzgHPAdAB",
          "dtype": "i2"
         },
         "xaxis": "x2",
         "y": {
          "bdata": "AAAAAAAAAAAAAAAAAAAAAAAAAAAAAAAAAAAAAAAAAAAAAAAAAAAAAAAAAAAAAAAAAAAAAAAAAAAAAAAAAAAAAAAAAAAAAAAAAAAAAAAAAAAAAAAAAAAAAAAAAAAAAAAAAAAAAAAAAAAAAAAAAAAAAAAAAAAAAAAAAAAAAAAAAAAAAAAAAAAAAAAAAAAAAAAAAAAAAAAAAAAAAAAAAAAAAAAAAAAAAAAAAAAAAAAAAAAAAAAAAAAAAAAAAAAAAAAAAAAAAAAAAAAAAAAAAAAAAAAAAAAAAAAAAAAAAAAAAAAAAAAAAAAAAAAAAAAAAAAAAAAAAAAAAAAAAAAAAAAAAAAAAAAAAAAAAAAAAAAAAAAAAAAAAAAAAAAAAAAAAAAAAAAAAAAAAAAAAAAAAAAAAAAAAAAAAAAAAAAAAAAAAAAAAAAAAAAAAAAAAAAAAAAAAAAAAAAAAAAAAAAAAAAAAAAAAAAAAAAAAAAAAAAAAAAAAAAAAAAAAAAAAAAAAAAAAAAAAAAAAAAAAAAAAAAAAAAAAAAAAAAAAAAAAAAAAAAAAAAAAAAAAAAAAAAAAAAAAAAAAAAAAAAAAAAAAAAAAAAAAAAAAAAAAAAAAAAAAAAAAAAAAAAAAAAAAAAAAAAAAAAAAAAAAAAAAAAAAAAAAAAAAAAAAAAAAAAAAAAAAAAAAAAAAAAAAAAAAAAAAAAAAAAAAAAAAAAAAAAAAAAAAAAAAAAAAAAAAAAAAAAAAAAAAAAAAAAAAAAAAAAAAAAAAAAAAAAAAAAAAAAAAAAAAAAAAAAAAAAAAAAAAAAAAAAAAAAAAAAAAAAAAAAAAAAAAAAAAAAAAAAAAAAAAAAAAAAAAAAAAAAAAAAAAAAAAAAAAAAAAAAAAAAAAAAAAAAAAAAAAAAAAAAAAAAAAAAAAAAAAAAAAAAAAAAAAAAAAAAAAAAAAAAAAAAAAAAAAAAAAAAAAAAAAAAAAAAAAAAAAAAAAAAAAAAAAAAAAAAAAAAAAAAAAAAAAAAAAAAAAAAAAAAAAAAAAAAAAAAAAAAAAAAAAAAAAAAAAAAAAAAAAAAAAAAAAAAAAHtv4yFR5AZBmpqZVyMiC0F5WCRZT0ELQXlYJFlPQQtBqODwWq1lC0ExRKlQ3ZUKQUH0WnM7Uw1BLJrO0DF9EEFkICrQNHAQQeNyONLEmRBBeAkt1YPVEEH0NQXrHY8SQafReTe5mBhBn/kgJgo6F0GnKULxA7IYQeA9EQ368BdBBZgEnf3FFUGqmJGMiWkWQeMvflh3txpB2G0Fi3G7GUH19+yY7FoZQevJn+kYexlBPAeaLIfbF0Gx67q+Ca4ZQevJn+kYexlBOM40guiVGUGGCLQLnyIZQWCuwHubTRtBNG14m+UXGUHi0TwrLA0ZQYszhgG7LhpBF+OQjWp4GUHPP7jbndsZQcCwrkXHfRlBhT6e/IWUGEFGNefbWrsXQZTNp5Jc8hhBw7Mp/35RGEFJpDZ34HIVQZFHDymtDxVBrmUiVVrLFUEjthfJqoEWQVzK5uSgwBVBMkUhX4HfFkHmaOMCFv0YQWdWdcG/ShdBIH2yHgw8GEHccIBEKY8YQULGl0DVAxpBJ9DbUIyAG0HiZWhJXikaQc51osyETRlBDestz30KGUFQLUqaRykYQTIPN26abRdBQWhWE4pZGEHvAgWUt8AXQVnHayvp7BZB0q4HdyOTF0F6sg8gZwoXQVRmr0TmbhZBzLkfcu74FUH30hAWQPYVQb0qFtwXmxVBMeffMTY1FUFu/ikH5EcTQcSc4DBVJhJBglrEZYsHE0E0Vi/Nu+wSQQpllWXOJxVBpG2/lm1dFUHV52whwtgVQVbV/t9rJhRBCpt/VrWZFEFFobu9KJ8WQQ+QZ1vqMxZB2xI/F97kFkFFa9HMQS0XQXt8JS+AmBdBVGavROZuFkHDH/7gTDUXQTvfQvAioxVBeVTO8htgFUF6HuQBNe4VQfY+5fcN2hRBy+8JY9VqFUHDi9LCGhkWQRn0nvukhRVBvfQr6zApFkEZvrQKvhMWQZs/cueZfRVBy+8JY9VqFUHRUMZJ2OgVQffSEBZA9hVB6UMHgGmYFUH3CPsGJ2gVQcH3pqTo/BRBr5sMRkE9FUFTnJk1zeAVQdcPxF0mERhB6/+J2v/sGEE4zjSC6JUZQXgN1pP64BlBrIr+1wYwGUHF24A744kaQaxUFOcfvhlBmvh5iHj+GUFGNefbWrsXQRW7OVEGQBdBNhKyJ1JBFkELw9aSGdIWQXro+RBOfBZBActz1CxkFkGrYqebovcWQbTG3jtdSRZB4HP7/eBiF0G6hdxPq3EYQUb//OpzSRhB6mtevM3QF0EoF9Svrf8WQTw9hB1uTRdBZ1Z1wb9KF0HkQIzGscQWQY6i1ZxA5hdBApWJ40XyFkFAChXmPq8WQelDB4BpmBVBZvgzlHSgFUH8abftKeYVQY2waFHDHxVBJ4OokXvjFUEsGk9pZdMVQaU31aWG6xVBoKAuzpz7FUEQxlFM0aUVQXDwllJhDhZBqQRmbldNFUFS0oMmtFIVQa+bDEZBPRVBDjImLp+JFEFq+65NLHQUQRgqieyL9xRBrQfhJw8hFEErvA08GikUQXnAotTpQxRBIiLsqnhlFUGuZSJVWssVQcLBvLMBixVBNhKyJ1JBFkGuZSJVWssVQR2LRdOOdRVBC/nAgwBEFkE7qVj/OzEWQYl3A6ck2hZBb1xrNC/yFEH7n6HeEFgVQYe7gEyOhRNBSEb1SZXIE0GU7Ei1GTkSQfiF3VYvWRBB/RyELhlJEEEzTtd4KNEPQUtBGK+5gA9BT0STaHFUDkF2kPND8u8OQRB5Ho3ACBBBdjoKazphEEGvGO+VSS4QQae0t/WO3BBBe2XcYFZtEUF3mEuYhQsSQdOXvqj5ZxFBKZS2/7XwEUF7ZdxgVm0RQQ1AueIhwxFBwwi1EiMKEUGmfs0EqGoRQdz79Ui0uRBBjx+47EjXEkHKkcg1isATQYEk2nSklRNBxsQ3bbleFEEAoxyYyCsUQTTqWuvtCBRBajGZPhPmE0EOMiYun4kUQficJiVZhBZBtJD0SnbXFkEGYhqsFlQWQV2U/PO5ThZBSgJ4pCsdF0GASbb3UPoWQWZFZ1OFPRtBMcg+D3nuG0HHA9h3R8IcQXVonAeOtxxB/IAAvFMRHEFg5Kpsgr8aQU1SJh30jRtBF3e8q5yUGkEOSW/8yLQaQbHrur4JrhlBn48gYGLuGUE4OglktnkYQeo1dMvmXhhBqYeDHk9cGkHZNxuaikkaQZr4eYh4/hlBqYeDHk9cGkFHkygJpmUZQRuwIVY72hhBrIr+1wYwGUH0Y8F6uj4YQXFO2H+suBdB5dS35OPgF0FxTth/rLgXQRrmC0ciTBhBd6+UZq82GEHJ3vv0ml0ZQRJM6rWAiBlB/+9PV9nIGUH/709X2cgZQRIWAMWZFhpBnsUKUUlgGUF9bpJ6/V4aQTgEH3PPBxlBjqLVnEDmF0FAChXmPq8WQa8vOGRzWRZBLa56h5fvFkFi9bjavMwWQQ+QZ1vqMxZBa4/aa16QFUHkQIzGscQWQXDwllJhDhZBTjvdTspiFUGDghui7z8VQQWYBJ39xRVB7dqtV1OIFUELw9aSGdIWQYNMMbEIzhVB2ern2nmsFEHP8oQcjT4UQexGgjkhbBRBvJbqveV+FEGVFKDxfXEUQQbO7o3kNxVBjOZSQqqRFEHLJfRTvNwUQQ4yJi6fiRRB8t0oEQtcFEFRqizqTxoTQSXHJTfljhJBwM9PaITEEkGZFxurNUUTQfaqudnbvRNBCdFpR5wLFEFgA0yPPwYUQaMPfmkisxNBjOZSQqqRFEHtEJhIOvoUQYOCG6LvPxVBm6tGyWdhFEEd9xm1XFkUQRdgc91yaRRBTaexMJhGFEHLW95Eo04UQejlxVIe7hNBCdFpR5wLFEEdwS/EdecUQa+bDEZBPRVBLeRkeH5hFkG7T/JexP8YQTg6CWS2eRhBUPdfqWC3GEFLlqPCXTkYQZjQIkwUxhdBitVE1G+EGEFo6qDf8WYYQcOzKf9+URhByLakuDYlF0GcnbMU5ScXQU+ZHnwVDRdBtMbeO11JFkEyRSFfgd8WQXqyDyBnChdBq2Knm6L3FkFfhmk/NxUZQba4S4faDxlBX7xTMB6HGEG74x199hsaQRQ+VwH+ThxBM7qrWva0HkHIYRmlkmweQV5HyTSpsSBBxF6e69qYH0GchmpGu/wgQVBnYDX4KCFBJIRZgo2dIEH9AQ+2JZAgQc0bjUkDMSFBYzyxOd5LIkEEOsNvshskQSw1xOFYjCVB+7oWVwQRJUGbkNFQdKgkQXkDb4lBNSZBLDXE4ViMJUEZvrQKvhMmQRB18uL2eiZBXXmHe8aVJkEH29BRVbcnQWzp7+7frC1BuQj6/6KALUE7VM3rl3gtQfZVLsY3BStBPDlYc6S/LUGIbDe4mCExQVTbOUBbRC5Bzd1KBImjLkHhHnDqPKouQVGi1JW8/i9BRWelInifLUEJl1Os6wsrQV4Jh+8uJC5Bx7J4Dm2XLUFPen1ZWMYtQavXMZcXzS5ByHyOHYYlLkGXU0D8C9UsQRr9VBVMdy5BA++eZscOL0GYe5c4cA0vQUbF5k/DSS9BSgakTvWqMEEtsqYxYX0wQV19syWQIzBBaXqgU1r1L0E5uQGJozEwQfn+k/xtvDFBaUwOtwafM0GeyTb7Eu4yQXY49JVVmjNBkhM7DatkMkHSYdS3EvYxQcDqxOB3fTJBxvohXqDQM0F6BYVeJvwyQRfMR79ATTNBcA0ioDmOMkGfk0wKLHwzQSaRO0b+HDNBza2iklCGNUGxV4+g15E4QfXcdyD5oTlBGNX92Oc+PEFzWaRuOHE9QQoO9HxFqD9BR0CzyuZzPUF2d5Sg4/07QefGJDBhpzpBG8mA+UnMO0H7B0oWFa46QT75BngEojpB",
          "dtype": "f8"
         },
         "yaxis": "y2"
        },
        {
         "line": {
          "width": 2
         },
         "mode": "lines",
         "name": "simulator:/XRP:/free",
         "showlegend": true,
         "type": "scatter",
         "x": {
          "bdata": "AAABAAIAAwAEAAUABgAHAAgACQAKAAsADAANAA4ADwAQABEAEgATABQAFQAWABcAGAAZABoAGwAcAB0AHgAfACAAIQAiACMAJAAlACYAJwAoACkAKgArACwALQAuAC8AMAAxADIAMwA0ADUANgA3ADgAOQA6ADsAPAA9AD4APwBAAEEAQgBDAEQARQBGAEcASABJAEoASwBMAE0ATgBPAFAAUQBSAFMAVABVAFYAVwBYAFkAWgBbAFwAXQBeAF8AYABhAGIAYwBkAGUAZgBnAGgAaQBqAGsAbABtAG4AbwBwAHEAcgBzAHQAdQB2AHcAeAB5AHoAewB8AH0AfgB/AIAAgQCCAIMAhACFAIYAhwCIAIkAigCLAIwAjQCOAI8AkACRAJIAkwCUAJUAlgCXAJgAmQCaAJsAnACdAJ4AnwCgAKEAogCjAKQApQCmAKcAqACpAKoAqwCsAK0ArgCvALAAsQCyALMAtAC1ALYAtwC4ALkAugC7ALwAvQC+AL8AwADBAMIAwwDEAMUAxgDHAMgAyQDKAMsAzADNAM4AzwDQANEA0gDTANQA1QDWANcA2ADZANoA2wDcAN0A3gDfAOAA4QDiAOMA5ADlAOYA5wDoAOkA6gDrAOwA7QDuAO8A8ADxAPIA8wD0APUA9gD3APgA+QD6APsA/AD9AP4A/wAAAQEBAgEDAQQBBQEGAQcBCAEJAQoBCwEMAQ0BDgEPARABEQESARMBFAEVARYBFwEYARkBGgEbARwBHQEeAR8BIAEhASIBIwEkASUBJgEnASgBKQEqASsBLAEtAS4BLwEwATEBMgEzATQBNQE2ATcBOAE5AToBOwE8AT0BPgE/AUABQQFCAUMBRAFFAUYBRwFIAUkBSgFLAUwBTQFOAU8BUAFRAVIBUwFUAVUBVgFXAVgBWQFaAVsBXAFdAV4BXwFgAWEBYgFjAWQBZQFmAWcBaAFpAWoBawFsAW0BbgFvAXABcQFyAXMBdAF1AXYBdwF4AXkBegF7AXwBfQF+AX8BgAGBAYIBgwGEAYUBhgGHAYgBiQGKAYsBjAGNAY4BjwGQAZEBkgGTAZQBlQGWAZcBmAGZAZoBmwGcAZ0BngGfAaABoQGiAaMBpAGlAaYBpwGoAakBqgGrAawBrQGuAa8BsAGxAbIBswG0AbUBtgG3AbgBuQG6AbsBvAG9Ab4BvwHAAcEBwgHDAcQBxQHGAccByAHJAcoBywHMAc0BzgHPAdAB",
          "dtype": "i2"
         },
         "xaxis": "x2",
         "y": {
          "bdata": "AAAAAAAAAAAAAAAAAAAAAAAAAAAAAAAAAAAAAAAAAAAAAAAAAAAAAAAAAAAAAAAAAAAAAAAAAAAAAAAAAAAAAAAAAAAAAAAAAAAAAAAAAAAAAAAAAAAAAAAAAAAAAAAAAAAAAAAAAAAAAAAAAAAAAAAAAAAAAAAAAAAAAAAAAAAAAAAAAAAAAAAAAAAAAAAAAAAAAAAAAAAAAAAAAAAAAAAAAAAAAAAAAAAAAAAAAAAAAAAAAAAAAAAAAAAAAAAAAAAAAAAAAAAAAAAAAAAAAAAAAAAAAAAAAAAAAAAAAAAAAAAAAAAAAAAAAAAAAAAAAAAAAAAAAAAAAAAAAAAAAAAAAAAAAAAAAAAAAAAAAAAAAAAAAAAAAAAAAAAAAAAAAAAAAAAAAAAAAAAAAAAAAAAAAAAAAAAAAAAAAAAAAAAAAAAAAAAAAAAAAAAAAAAAAAAAAAAAAAAAAAAAAAAAAAAAAAAAAAAAAAAAAAAAAAAAAAAAAAAAAAAAAAAAAAAAAAAAAAAAAAAAAAAAAAAAAAAAAAAAAAAAAAAAAAAAAAAAAAAAAAAAAAAAAAAAAAAAAAAAAAAAAAAAAAAAAAAAAAAAAAAAAAAAAAAAAAAAAAAAAAAAAAAAAAAAAAAAAAAAAAAAAAAAAAAAAAAAAAAAAAAAAAAAAAAAAAAAAAAAAAAAAAAAAAAAAAAAAAAAAAAAAAAAAAAAAAAAAAAAAAAAAAAAAAAAAAAAAAAAAAAAAAAAAAAAAAAAAAAAAAAAAAAAAAAAAAAAAAAAAAAAAAAAAAAAAAAAAAAAAAAAAAAAAAAAAAAAAAAAAAAAAAAAAAAAAAAAAAAAAAAAAAAAAAAAAAAAAAAAAAAAAAAAAAAAAAAAAAAAAAAAAAAAAAAAAAAAAAAAAAAAAAAAAAAAAAAAAAAAAAAAAAAAAAAAAAAAAAAAAAAAAAAAAAAAAAAAAAAAAAAAAAAAAAAAAAAAAAAAAAAAAAAAAAAAAAAAAAAAAAAAAAAAAAAAAAAAAAAAAAAAAAAAAAAAAAAAAAAAAAAAAAAAAAAAAAAAAAAAAAAAAAAAAAAAAAAAAKmekjAy/R1BqZ6SMDL9HUGpnpIwMv0dQamekjAy/R1BqZ6SMDL9HUGpnpIwMv0dQamekjAy/R1BqZ6SMDL9HUGpnpIwMv0dQamekjAy/R1BqZ6SMDL9HUGpnpIwMv0dQamekjAy/R1BqZ6SMDL9HUE/oPkpy+UdQT+g+SnL5R1BP6D5KcvlHUE/oPkpy+UdQT+g+SnL5R1BP6D5KcvlHUE/oPkpy+UdQT+g+SnL5R1BP6D5KcvlHUE/oPkpy+UdQT+g+SnL5R1BP6D5KcvlHUE/oPkpy+UdQT+g+SnL5R1BP6D5KcvlHUE/oPkpy+UdQT+g+SnL5R1BP6D5KcvlHUE/oPkpy+UdQT+g+SnL5R1BP6D5KcvlHUE/oPkpy+UdQT+g+SnL5R1BP6D5KcvlHUE/oPkpy+UdQT+g+SnL5R1BP6D5KcvlHUE/oPkpy+UdQT+g+SnL5R1BP6D5KcvlHUE/oPkpy+UdQT+g+SnL5R1BP6D5KcvlHUE/oPkpy+UdQT+g+SnL5R1BP6D5KcvlHUE/oPkpy+UdQT+g+SnL5R1BP6D5KcvlHUE/oPkpy+UdQT+g+SnL5R1BP6D5KcvlHUE/oPkpy+UdQT+g+SnL5R1BP6D5KcvlHUE/oPkpy+UdQT+g+SnL5R1BP6D5KcvlHUE/oPkpy+UdQT+g+SnL5R1BP6D5KcvlHUE/oPkpy+UdQT+g+SnL5R1BP6D5KcvlHUE/oPkpy+UdQT+g+SnL5R1BP6D5KcvlHUE/oPkpy+UdQT+g+SnL5R1BP6D5KcvlHUE/oPkpy+UdQT+g+SnL5R1BP6D5KcvlHUE/oPkpy+UdQT+g+SnL5R1BP6D5KcvlHUE/oPkpy+UdQT+g+SnL5R1BP6D5KcvlHUE/oPkpy+UdQT+g+SnL5R1BP6D5KcvlHUE/oPkpy+UdQT+g+SnL5R1BP6D5KcvlHUE/oPkpy+UdQT+g+SnL5R1BP6D5KcvlHUE/oPkpy+UdQT+g+SnL5R1BP6D5KcvlHUE/oPkpy+UdQT+g+SnL5R1BP6D5KcvlHUE/oPkpy+UdQT+g+SnL5R1BP6D5KcvlHUE/oPkpy+UdQT+g+SnL5R1BP6D5KcvlHUE/oPkpy+UdQT+g+SnL5R1BP6D5KcvlHUE/oPkpy+UdQT+g+SnL5R1BP6D5KcvlHUE/oPkpy+UdQT+g+SnL5R1BP6D5KcvlHUE/oPkpy+UdQT+g+SnL5R1BP6D5KcvlHUE/oPkpy+UdQT+g+SnL5R1BP6D5KcvlHUE/oPkpy+UdQT+g+SnL5R1BP6D5KcvlHUE/oPkpy+UdQT+g+SnL5R1BP6D5KcvlHUE/oPkpy+UdQT+g+SnL5R1BP6D5KcvlHUE/oPkpy+UdQT+g+SnL5R1BP6D5KcvlHUE/oPkpy+UdQT+g+SnL5R1BP6D5KcvlHUE/oPkpy+UdQT+g+SnL5R1BP6D5KcvlHUE/oPkpy+UdQT+g+SnL5R1BP6D5KcvlHUE/oPkpy+UdQT+g+SnL5R1BP6D5KcvlHUE/oPkpy+UdQT+g+SnL5R1BP6D5KcvlHUE/oPkpy+UdQT+g+SnL5R1BP6D5KcvlHUE/oPkpy+UdQT+g+SnL5R1BP6D5KcvlHUE/oPkpy+UdQT+g+SnL5R1BP6D5KcvlHUE/oPkpy+UdQT+g+SnL5R1BP6D5KcvlHUE/oPkpy+UdQT+g+SnL5R1BP6D5KcvlHUE/oPkpy+UdQT+g+SnL5R1BP6D5KcvlHUE/oPkpy+UdQT+g+SnL5R1BP6D5KcvlHUE/oPkpy+UdQT+g+SnL5R1BP6D5KcvlHUE/oPkpy+UdQT+g+SnL5R1BP6D5KcvlHUE/oPkpy+UdQT+g+SnL5R1BP6D5KcvlHUE/oPkpy+UdQT+g+SnL5R1BP6D5KcvlHUE/oPkpy+UdQT+g+SnL5R1BP6D5KcvlHUE/oPkpy+UdQT+g+SnL5R1BP6D5KcvlHUE/oPkpy+UdQT+g+SnL5R1BP6D5KcvlHUE/oPkpy+UdQT+g+SnL5R1BP6D5KcvlHUE/oPkpy+UdQT+g+SnL5R1BP6D5KcvlHUE/oPkpy+UdQT+g+SnL5R1BP6D5KcvlHUE/oPkpy+UdQT+g+SnL5R1BP6D5KcvlHUE/oPkpy+UdQT+g+SnL5R1BP6D5KcvlHUE/oPkpy+UdQT+g+SnL5R1BP6D5KcvlHUE/oPkpy+UdQT+g+SnL5R1BP6D5KcvlHUE/oPkpy+UdQT+g+SnL5R1BP6D5KcvlHUE/oPkpy+UdQT+g+SnL5R1BP6D5KcvlHUE/oPkpy+UdQT+g+SnL5R1BP6D5KcvlHUE/oPkpy+UdQT+g+SnL5R1BP6D5KcvlHUE/oPkpy+UdQT+g+SnL5R1BP6D5KcvlHUE/oPkpy+UdQT+g+SnL5R1BP6D5KcvlHUE/oPkpy+UdQT+g+SnL5R1BP6D5KcvlHUE/oPkpy+UdQT+g+SnL5R1BP6D5KcvlHUE/oPkpy+UdQT+g+SnL5R1BP6D5KcvlHUE/oPkpy+UdQT+g+SnL5R1BP6D5KcvlHUE/oPkpy+UdQT+g+SnL5R1BP6D5KcvlHUE/oPkpy+UdQT+g+SnL5R1BP6D5KcvlHUE/oPkpy+UdQT+g+SnL5R1BP6D5KcvlHUE/oPkpy+UdQT+g+SnL5R1BP6D5KcvlHUE/oPkpy+UdQT+g+SnL5R1BP6D5KcvlHUE/oPkpy+UdQT+g+SnL5R1BP6D5KcvlHUE/oPkpy+UdQT+g+SnL5R1BP6D5KcvlHUE/oPkpy+UdQT+g+SnL5R1BP6D5KcvlHUE/oPkpy+UdQT+g+SnL5R1BP6D5KcvlHUE/oPkpy+UdQT+g+SnL5R1BP6D5KcvlHUE/oPkpy+UdQT+g+SnL5R1BP6D5KcvlHUE/oPkpy+UdQT+g+SnL5R1BP6D5KcvlHUE/oPkpy+UdQT+g+SnL5R1BP6D5KcvlHUE/oPkpy+UdQT+g+SnL5R1BP6D5KcvlHUE/oPkpy+UdQT+g+SnL5R1BP6D5KcvlHUE/oPkpy+UdQT+g+SnL5R1BP6D5KcvlHUE/oPkpy+UdQT+g+SnL5R1BP6D5KcvlHUE/oPkpy+UdQT+g+SnL5R1BP6D5KcvlHUE/oPkpy+UdQT+g+SnL5R1BP6D5KcvlHUE/oPkpy+UdQT+g+SnL5R1BP6D5KcvlHUE/oPkpy+UdQT+g+SnL5R1BP6D5KcvlHUE/oPkpy+UdQT+g+SnL5R1BP6D5KcvlHUE/oPkpy+UdQT+g+SnL5R1BP6D5KcvlHUE/oPkpy+UdQT+g+SnL5R1BP6D5KcvlHUE/oPkpy+UdQT+g+SnL5R1BP6D5KcvlHUE/oPkpy+UdQT+g+SnL5R1BP6D5KcvlHUE/oPkpy+UdQT+g+SnL5R1BP6D5KcvlHUE/oPkpy+UdQT+g+SnL5R1BP6D5KcvlHUE/oPkpy+UdQT+g+SnL5R1BP6D5KcvlHUE/oPkpy+UdQT+g+SnL5R1BP6D5KcvlHUE/oPkpy+UdQT+g+SnL5R1BP6D5KcvlHUE/oPkpy+UdQT+g+SnL5R1BP6D5KcvlHUE/oPkpy+UdQT+g+SnL5R1BP6D5KcvlHUE/oPkpy+UdQT+g+SnL5R1BP6D5KcvlHUE/oPkpy+UdQT+g+SnL5R1BP6D5KcvlHUE/oPkpy+UdQT+g+SnL5R1BP6D5KcvlHUE/oPkpy+UdQT+g+SnL5R1BP6D5KcvlHUE/oPkpy+UdQT+g+SnL5R1BP6D5KcvlHUE/oPkpy+UdQT+g+SnL5R1BP6D5KcvlHUE/oPkpy+UdQT+g+SnL5R1BP6D5KcvlHUE/oPkpy+UdQT+g+SnL5R1BP6D5KcvlHUE/oPkpy+UdQT+g+SnL5R1B",
          "dtype": "f8"
         },
         "yaxis": "y2"
        },
        {
         "line": {
          "width": 2
         },
         "mode": "lines",
         "name": "simulator:/XRP:/locked",
         "showlegend": true,
         "type": "scatter",
         "x": {
          "bdata": "AAABAAIAAwAEAAUABgAHAAgACQAKAAsADAANAA4ADwAQABEAEgATABQAFQAWABcAGAAZABoAGwAcAB0AHgAfACAAIQAiACMAJAAlACYAJwAoACkAKgArACwALQAuAC8AMAAxADIAMwA0ADUANgA3ADgAOQA6ADsAPAA9AD4APwBAAEEAQgBDAEQARQBGAEcASABJAEoASwBMAE0ATgBPAFAAUQBSAFMAVABVAFYAVwBYAFkAWgBbAFwAXQBeAF8AYABhAGIAYwBkAGUAZgBnAGgAaQBqAGsAbABtAG4AbwBwAHEAcgBzAHQAdQB2AHcAeAB5AHoAewB8AH0AfgB/AIAAgQCCAIMAhACFAIYAhwCIAIkAigCLAIwAjQCOAI8AkACRAJIAkwCUAJUAlgCXAJgAmQCaAJsAnACdAJ4AnwCgAKEAogCjAKQApQCmAKcAqACpAKoAqwCsAK0ArgCvALAAsQCyALMAtAC1ALYAtwC4ALkAugC7ALwAvQC+AL8AwADBAMIAwwDEAMUAxgDHAMgAyQDKAMsAzADNAM4AzwDQANEA0gDTANQA1QDWANcA2ADZANoA2wDcAN0A3gDfAOAA4QDiAOMA5ADlAOYA5wDoAOkA6gDrAOwA7QDuAO8A8ADxAPIA8wD0APUA9gD3APgA+QD6APsA/AD9AP4A/wAAAQEBAgEDAQQBBQEGAQcBCAEJAQoBCwEMAQ0BDgEPARABEQESARMBFAEVARYBFwEYARkBGgEbARwBHQEeAR8BIAEhASIBIwEkASUBJgEnASgBKQEqASsBLAEtAS4BLwEwATEBMgEzATQBNQE2ATcBOAE5AToBOwE8AT0BPgE/AUABQQFCAUMBRAFFAUYBRwFIAUkBSgFLAUwBTQFOAU8BUAFRAVIBUwFUAVUBVgFXAVgBWQFaAVsBXAFdAV4BXwFgAWEBYgFjAWQBZQFmAWcBaAFpAWoBawFsAW0BbgFvAXABcQFyAXMBdAF1AXYBdwF4AXkBegF7AXwBfQF+AX8BgAGBAYIBgwGEAYUBhgGHAYgBiQGKAYsBjAGNAY4BjwGQAZEBkgGTAZQBlQGWAZcBmAGZAZoBmwGcAZ0BngGfAaABoQGiAaMBpAGlAaYBpwGoAakBqgGrAawBrQGuAa8BsAGxAbIBswG0AbUBtgG3AbgBuQG6AbsBvAG9Ab4BvwHAAcEBwgHDAcQBxQHGAccByAHJAcoBywHMAc0BzgHPAdAB",
          "dtype": "i2"
         },
         "xaxis": "x2",
         "y": {
          "bdata": "AAAAAAAAAAAAAAAAAAAAAAAAAAAAAAAAAAAAAAAAAAAAAAAAAAAAAAAAAAAAAAAAAAAAAAAAAAAAAAAAAAAAAAAAAAAAAAAAAAAAAAAAAAAAAAAAAAAAAAAAAAAAAAAAAAAAAAAAAAAAAAAAAAAAAAAAAAAAAAAAAAAAAAAAAAAAAAAAAAAAAAAAAAAAAAAAAAAAAAAAAAAAAAAAAAAAAAAAAAAAAAAAAAAAAAAAAAAAAAAAAAAAAAAAAAAAAAAAAAAAAAAAAAAAAAAAAAAAAAAAAAAAAAAAAAAAAAAAAAAAAAAAAAAAAAAAAAAAAAAAAAAAAAAAAAAAAAAAAAAAAAAAAAAAAAAAAAAAAAAAAAAAAAAAAAAAAAAAAAAAAAAAAAAAAAAAAAAAAAAAAAAAAAAAAAAAAAAAAAAAAAAAAAAAAAAAAAAAAAAAAAAAAAAAAAAAAAAAAAAAAAAAAAAAAAAAAAAAAAAAAAAAAAAAAAAAAAAAAAAAAAAAAAAAAAAAAAAAAAAAAAAAAAAAAAAAAAAAAAAAAAAAAAAAAAAAAAAAAAAAAAAAAAAAAAAAAAAAAAAAAAAAAAAAAAAAAAAAAAAAAAAAAAAAAAAAAAAAAAAAAAAAAAAAAAAAAAAAAAAAAAAAAAAAAAAAAAAAAAAAAAAAAAAAAAAAAAAAAAAAAAAAAAAAAAAAAAAAAAAAAAAAAAAAAAAAAAAAAAAAAAAAAAAAAAAAAAAAAAAAAAAAAAAAAAAAAAAAAAAAAAAAAAAAAAAAAAAAAAAAAAAAAAAAAAAAAAAAAAAAAAAAAAAAAAAAAAAAAAAAAAAAAAAAAAAAAAAAAAAAAAAAAAAAAAAAAAAAAAAAAAAAAAAAAAAAAAAAAAAAAAAAAAAAAAAAAAAAAAAAAAAAAAAAAAAAAAAAAAAAAAAAAAAAAAAAAAAAAAAAAAAAAAAAAAAAAAAAAAAAAAAAAAAAAAAAAAAAAAAAAAAAAAAAAAAAAAAAAAAAAAAAAAAAAAAAAAAAAAAAAAAAAAAAAAAAAAAAAAAAAAAAAAAAAAAAAAAAAAAAAAAAAAAAAAAAAAAAAAAAAAAAAAAAAAAAAAAAAAAAAAAAAAAAAAAAAAAAAAAAAAAAAAAAAAAAAAAAAAAAAAAAAAAAAAAAAAAAAAAAAAAAAAAAAAAAAAAAAAAAAAAAAAAAAAAAAAAAAAAAAAAAAAAAAAAAAAAAAAAAAAAAAAAAAAAAAAAAAAAAAAAAAAAAAAAAAAAAAAAAAAAAAAAAAAAAAAAAAAAAAAAAAAAAAAAAAAAAAAAAAAAAAAAAAAAAAAAAAAAAAAAAAAAAAAAAAAAAAAAAAAAAAAAAAAAAAAAAAAAAAAAAAAAAAAAAAAAAAAAAAAAAAAAAAAAAAAAAAAAAAAAAAAAAAAAAAAAAAAAAAAAAAAAAAAAAAAAAAAAAAAAAAAAAAAAAAAAAAAAAAAAAAAAAAAAAAAAAAAAAAAAAAAAAAAAAAAAAAAAAAAAAAAAAAAAAAAAAAAAAAAAAAAAAAAAAAAAAAAAAAAAAAAAAAAAAAAAAAAAAAAAAAAAAAAAAAAAAAAAAAAAAAAAAAAAAAAAAAAAAAAAAAAAAAAAAAAAAAAAAAAAAAAAAAAAAAAAAAAAAAAAAAAAAAAAAAAAAAAAAAAAAAAAAAAAAAAAAAAAAAAAAAAAAAAAAAAAAAAAAAAAAAAAAAAAAAAAAAAAAAAAAAAAAAAAAAAAAAAAAAAAAAAAAAAAAAAAAAAAAAAAAAAAAAAAAAAAAAAAAAAAAAAAAAAAAAAAAAAAAAAAAAAAAAAAAAAAAAAAAAAAAAAAAAAAAAAAAAAAAAAAAAAAAAAAAAAAAAAAAAAAAAAAAAAAAAAAAAAAAAAAAAAAAAAAAAAAAAAAAAAAAAAAAAAAAAAAAAAAAAAAAAAAAAAAAAAAAAAAAAAAAAAAAAAAAAAAAAAAAAAAAAAAAAAAAAAAAAAAAAAAAAAAAAAAAAAAAAAAAAAAAAAAAAAAAAAAAAAAAAAAAAAAAAAAAAAAAAAAAAAAAAAAAAAAAAAAAAAAAAAAAAAAAAAAAAAAAAAAAAAAAAAAAAAAAAAAAAAAAAAAAAAAAAAAAAAAAAAAAAAAAAAAAAAAAAAAAAAAAAAAAAAAAAAAAAAAAAAAAAAAAAAAAAAAAAAAAAAAAAAAAAAAAAAAAAAAAAAAAAAAAAAAAAAAAAAAAAAAAAAAAAAAAAAAAAAAAAAAAAAAAAAAAAAAAAAAAAAAAAAAAAAAAAAAAAAAAAAAAAAAAAAAAAAAAAAAAAAAAAAAAAAAAAAAAAAAAAAAAAAAAAAAAAAAAAAAAAAAAAAAAAAAAAAAAAAAAAAAAAAAAAAAAAAAAAAAAAAAAAAAAAAAAAAAAAAAAAAAAAAAAAAAAAAAAAAAAAAAAAAAAAAAAAAAAAAAAAAAAAAAAAAAAAAAAAAAAAAAAAAAAAAAAAAAAAAAAAAAAAAAAAAAAAAAAAAAAAAAAAAAAAAAAAAAAAAAAAAAAAAAAAAAAAAAAAAAAAAAAAAAAAAAAAAAAAAAAAAAAAAAAAAAAAAAAAAAAAAAAAAAAAAAAAAAAAAAAAAAAAAAAAAAAAAAAAAAAAAAAAAAAAAAAAAAAAAAAAAAAAAAAAAAAAAAAAAAAAAAAAAAAAAAAAAAAAAAAAAAAAAAAAAAAAAAAAAAAAAAAAAAAAAAAAAAAAAAAAAAAAAAAAAAAAAAAAAAAAAAAAAAAAAAAAAAAAAAAAAAAAAAAAAAAAAAAAAAAAAAAAAAAAAAAAAAAAAAAAAAAAAAAAAAAAAAAAAAAAAAAAAAAAAAAAAAAAAAAAAAAAAAAAAAAAAAAAAAAAAAAAAAAAAAAAAAAAAAAAAAAAAAAAAAAAAAAAAAAAAAAAAAAAAAAAAAAAAAAAAAAAAAAAAAAAAAAAAAAAAAAAAAAAAAAAAAAAAAAAAAAAAAAAAAAAAAAAAAAAAAAAAAAAAAAAAAAAAAAAAAAAAAAAAAAAAAAAAAAAAAAAAAAAAAAAAAAAAAAAAAAAAAAAAAAAAAAAAAAAAAAAAAAAAAAAAAAAAAAAAAAAAAAAAAAAAAAAAAAAAAAAAAAAAAAAAAAAAAAAAAAAAAAAAAAAAAAAAAAAAAAAAAAAAAAAAAAAAAAAAAAAAAAAAAAAAAAAAAAAAAAAAAAAAAAAAAAAAAAAAAAAAAAAAAAAAAAAAAAAAAAAAAAAAAAAAAAAAAAAAAAAAAAAAAAAAAAAAAAAAAAAAAAAAAAAAAAAAAAAAAAAAAAAAAAAAAAAAAAAAAAAAAAAAAAAAAAAAAAAAAAAAAAAAAAAAAAAAAAAAAAAAAAAAAAAAAAAAAAAAAAAAAAAAAAAAAAAAAAAAAAAAAAAAAAAAAAAAAAAAAAAAAAAAAAAAAAAAAAAAAAAAAAAAAAAAAAAAAAAAAAAAAAAAAAAAAAAAAAAAAAAAAAAAAAAAAAAAAAAAAAAAAAAAAAAAAAAAAAAAAAAAAAAAAAAAAAAAAAAAAAAAAAAAAAAAAAAAAAAAAAAAAAAAAAAAAAAAAAAAAAAAAAAAAAAAAAAAAAAAAAAAAAAAAAAAAAAAAAAAAAAAAAAAAAAAAAAAAAAAAAAAAAAAAAAAAAAAAAAAAAAAAAAAAAAAAAAAAAAAAAAAAAAAAAAAAAAAAAAAAAAAAAAAAAAAAAAAAAAAAAAAAAAAAAAAAAAAAAAAAAAAAAAAAAAAAAAAAAAAAAAAAAAAAAAAAAAAAAAAAAAAAAAAAAAAAAAAAAAAAAAAAAAAAAAAAAAAAAAAAAAAAAAAAAAAAAAAAAAAAAAAAAAAAAAAAAAAAAAAAAAAAAAAAAAAAAAAAAAAAAAAAAAAAAAAAAAAAAAAAAAAAAAAAAAAAAAAAAAAAAAAAAAAAAAAAAAAAAAAAAAAAAAAAAAAAAAAAAAAAAAAAAAAAAAAAAAAAAAAAAAAAAAAAAAAAAAAAAAAAAAAAAAAAAAAAAAAAAAAAAAAAAAAAAAAAAAAAAAAAAAAAAAAAAAAAAAAAAAAAAAAAAAAAAAAAAAAAAAAAAAAAAAAAAAAAAAAAAAAAAAAAAAAAAAAAAAAAAAAAAAAAAAAAAAAAAAAAAAAAAAAAAAAAAAAAAAAAAAAAAAAAAAAAAAAAAAAAAAAAAAAAAAAAAAAAAAAAAAAAAAAAAAAAAAAAAAAAAAAAAAAAAAAAAAAAAAAAAAAAAAAAAAAAAAAAAAAAAAAAAAAAAAAAAAAAAAAAAAAAAAAAAAAAAAAAAAAAAAAAAAAAAAAAAAAAAAAAAAAAAAAAAAAAAAAAAAAAAAAAAAAAAAAAAAAAAAAAAAAAAAAAAAAAAAAAAAAAAAAAAAAAAAAAAAAAAAAAAAAAAAAAAAAAAAAAAAAAAAAAAAAAAAAAAAAAAAAAAAAAAAAAAAAAAAAAAAAAAAAAAAAAAAAAAAAAAAAAAAAAAAAAAAAAAAAAAAAAAAAAAAAAAAAAAAAAAAAAAAAAAAAAAAAAAAAAAAAAAAAAAAAAAAAAAAAAAAAAAAAAAAAAAAAAAAAAAAAAAAAAAAAAAAAAAAAAAAAAAAAAAAAAAAAAAAAAAAAAAAAAAAAAAAAAAAAAAAAAAAAAAAAAAAAAAAAAAAAAAAAAAAAAAAAAAAAAAAAAAAAAAAAAAAAAAAAAAAAAAAAAAAAAAAAAAAAAAAAAAAAAAAAAAAAAAAAAAAAAAAAAAAAAAAAAAAAAAAAAAAAAAAAAAAAAAAAAAAAAAAAAAAAAAAAAAAAAAAAAAAAAAAAAAAAAAAAAAAAAAAAAAAAAAAAAAAAAAAAAAAAAAAAAAAAAAAAAAAAAAAAAAAAAAAAAAAAAAAAAAAAAAAAAAAAAAAAAAAAAAAAAAAAAAAAAAAAAAAAAAAAAAAAAAAAAAAAAAAAAAAAAAAAAAAAAAAAAAAAAAAAAAAAAAAAAAAAAAAAAAAAAA",
          "dtype": "f8"
         },
         "yaxis": "y2"
        },
        {
         "line": {
          "width": 2
         },
         "mode": "lines",
         "name": "simulator:/XRP:/total",
         "showlegend": true,
         "type": "scatter",
         "x": {
          "bdata": "AAABAAIAAwAEAAUABgAHAAgACQAKAAsADAANAA4ADwAQABEAEgATABQAFQAWABcAGAAZABoAGwAcAB0AHgAfACAAIQAiACMAJAAlACYAJwAoACkAKgArACwALQAuAC8AMAAxADIAMwA0ADUANgA3ADgAOQA6ADsAPAA9AD4APwBAAEEAQgBDAEQARQBGAEcASABJAEoASwBMAE0ATgBPAFAAUQBSAFMAVABVAFYAVwBYAFkAWgBbAFwAXQBeAF8AYABhAGIAYwBkAGUAZgBnAGgAaQBqAGsAbABtAG4AbwBwAHEAcgBzAHQAdQB2AHcAeAB5AHoAewB8AH0AfgB/AIAAgQCCAIMAhACFAIYAhwCIAIkAigCLAIwAjQCOAI8AkACRAJIAkwCUAJUAlgCXAJgAmQCaAJsAnACdAJ4AnwCgAKEAogCjAKQApQCmAKcAqACpAKoAqwCsAK0ArgCvALAAsQCyALMAtAC1ALYAtwC4ALkAugC7ALwAvQC+AL8AwADBAMIAwwDEAMUAxgDHAMgAyQDKAMsAzADNAM4AzwDQANEA0gDTANQA1QDWANcA2ADZANoA2wDcAN0A3gDfAOAA4QDiAOMA5ADlAOYA5wDoAOkA6gDrAOwA7QDuAO8A8ADxAPIA8wD0APUA9gD3APgA+QD6APsA/AD9AP4A/wAAAQEBAgEDAQQBBQEGAQcBCAEJAQoBCwEMAQ0BDgEPARABEQESARMBFAEVARYBFwEYARkBGgEbARwBHQEeAR8BIAEhASIBIwEkASUBJgEnASgBKQEqASsBLAEtAS4BLwEwATEBMgEzATQBNQE2ATcBOAE5AToBOwE8AT0BPgE/AUABQQFCAUMBRAFFAUYBRwFIAUkBSgFLAUwBTQFOAU8BUAFRAVIBUwFUAVUBVgFXAVgBWQFaAVsBXAFdAV4BXwFgAWEBYgFjAWQBZQFmAWcBaAFpAWoBawFsAW0BbgFvAXABcQFyAXMBdAF1AXYBdwF4AXkBegF7AXwBfQF+AX8BgAGBAYIBgwGEAYUBhgGHAYgBiQGKAYsBjAGNAY4BjwGQAZEBkgGTAZQBlQGWAZcBmAGZAZoBmwGcAZ0BngGfAaABoQGiAaMBpAGlAaYBpwGoAakBqgGrAawBrQGuAa8BsAGxAbIBswG0AbUBtgG3AbgBuQG6AbsBvAG9Ab4BvwHAAcEBwgHDAcQBxQHGAccByAHJAcoBywHMAc0BzgHPAdAB",
          "dtype": "i2"
         },
         "xaxis": "x2",
         "y": {
          "bdata": "AAAAAAAAAAAAAAAAAAAAAAAAAAAAAAAAAAAAAAAAAAAAAAAAAAAAAAAAAAAAAAAAAAAAAAAAAAAAAAAAAAAAAAAAAAAAAAAAAAAAAAAAAAAAAAAAAAAAAAAAAAAAAAAAAAAAAAAAAAAAAAAAAAAAAAAAAAAAAAAAAAAAAAAAAAAAAAAAAAAAAAAAAAAAAAAAAAAAAAAAAAAAAAAAAAAAAAAAAAAAAAAAAAAAAAAAAAAAAAAAAAAAAAAAAAAAAAAAAAAAAAAAAAAAAAAAAAAAAAAAAAAAAAAAAAAAAAAAAAAAAAAAAAAAAAAAAAAAAAAAAAAAAAAAAAAAAAAAAAAAAAAAAAAAAAAAAAAAAAAAAAAAAAAAAAAAAAAAAAAAAAAAAAAAAAAAAAAAAAAAAAAAAAAAAAAAAAAAAAAAAAAAAAAAAAAAAAAAAAAAAAAAAAAAAAAAAAAAAAAAAAAAAAAAAAAAAAAAAAAAAAAAAAAAAAAAAAAAAAAAAAAAAAAAAAAAAAAAAAAAAAAAAAAAAAAAAAAAAAAAAAAAAAAAAAAAAAAAAAAAAAAAAAAAAAAAAAAAAAAAAAAAAAAAAAAAAAAAAAAAAAAAAAAAAAAAAAAAAAAAAAAAAAAAAAAAAAAAAAAAAAAAAAAAAAAAAAAAAAAAAAAAAAAAAAAAAAAAAAAAAAAAAAAAAAAAAAAAAAAAAAAAAAAAAAAAAAAAAAAAAAAAAAAAAAAAAAAAAAAAAAAAAAAAAAAAAAAAAAAAAAAAAAAAAAAAAAAAAAAAAAAAAAAAAAAAAAAAAAAAAAAAAAAAAAAAAAAAAAAAAAAAAAAAAAAAAAAAAAAAAAAAAAAAAAAAAAAAAAAAAAAAAAAAAAAAAAAAAAAAAAAAAAAAAAAAAAAAAAAAAAAAAAAAAAAAAAAAAAAAAAAAAAAAAAAAAAAAAAAAAAAAAAAAAAAAAAAAAAAAAAAAAAAAAAAAAAAAAAAAAAAAAAAAAAAAAAAAAAAAAAAAAAAAAAAAAAAAAAAAAAAAAAAAAAAAAAAAAAAAAAAAAAAAAAAAAAAAAAAAAAAAAAAAAAAAAAAAAKmekjAy/R1BqZ6SMDL9HUGpnpIwMv0dQamekjAy/R1BqZ6SMDL9HUGpnpIwMv0dQamekjAy/R1BqZ6SMDL9HUGpnpIwMv0dQamekjAy/R1BqZ6SMDL9HUGpnpIwMv0dQamekjAy/R1BqZ6SMDL9HUE/oPkpy+UdQT+g+SnL5R1BP6D5KcvlHUE/oPkpy+UdQT+g+SnL5R1BP6D5KcvlHUE/oPkpy+UdQT+g+SnL5R1BP6D5KcvlHUE/oPkpy+UdQT+g+SnL5R1BP6D5KcvlHUE/oPkpy+UdQT+g+SnL5R1BP6D5KcvlHUE/oPkpy+UdQT+g+SnL5R1BP6D5KcvlHUE/oPkpy+UdQT+g+SnL5R1BP6D5KcvlHUE/oPkpy+UdQT+g+SnL5R1BP6D5KcvlHUE/oPkpy+UdQT+g+SnL5R1BP6D5KcvlHUE/oPkpy+UdQT+g+SnL5R1BP6D5KcvlHUE/oPkpy+UdQT+g+SnL5R1BP6D5KcvlHUE/oPkpy+UdQT+g+SnL5R1BP6D5KcvlHUE/oPkpy+UdQT+g+SnL5R1BP6D5KcvlHUE/oPkpy+UdQT+g+SnL5R1BP6D5KcvlHUE/oPkpy+UdQT+g+SnL5R1BP6D5KcvlHUE/oPkpy+UdQT+g+SnL5R1BP6D5KcvlHUE/oPkpy+UdQT+g+SnL5R1BP6D5KcvlHUE/oPkpy+UdQT+g+SnL5R1BP6D5KcvlHUE/oPkpy+UdQT+g+SnL5R1BP6D5KcvlHUE/oPkpy+UdQT+g+SnL5R1BP6D5KcvlHUE/oPkpy+UdQT+g+SnL5R1BP6D5KcvlHUE/oPkpy+UdQT+g+SnL5R1BP6D5KcvlHUE/oPkpy+UdQT+g+SnL5R1BP6D5KcvlHUE/oPkpy+UdQT+g+SnL5R1BP6D5KcvlHUE/oPkpy+UdQT+g+SnL5R1BP6D5KcvlHUE/oPkpy+UdQT+g+SnL5R1BP6D5KcvlHUE/oPkpy+UdQT+g+SnL5R1BP6D5KcvlHUE/oPkpy+UdQT+g+SnL5R1BP6D5KcvlHUE/oPkpy+UdQT+g+SnL5R1BP6D5KcvlHUE/oPkpy+UdQT+g+SnL5R1BP6D5KcvlHUE/oPkpy+UdQT+g+SnL5R1BP6D5KcvlHUE/oPkpy+UdQT+g+SnL5R1BP6D5KcvlHUE/oPkpy+UdQT+g+SnL5R1BP6D5KcvlHUE/oPkpy+UdQT+g+SnL5R1BP6D5KcvlHUE/oPkpy+UdQT+g+SnL5R1BP6D5KcvlHUE/oPkpy+UdQT+g+SnL5R1BP6D5KcvlHUE/oPkpy+UdQT+g+SnL5R1BP6D5KcvlHUE/oPkpy+UdQT+g+SnL5R1BP6D5KcvlHUE/oPkpy+UdQT+g+SnL5R1BP6D5KcvlHUE/oPkpy+UdQT+g+SnL5R1BP6D5KcvlHUE/oPkpy+UdQT+g+SnL5R1BP6D5KcvlHUE/oPkpy+UdQT+g+SnL5R1BP6D5KcvlHUE/oPkpy+UdQT+g+SnL5R1BP6D5KcvlHUE/oPkpy+UdQT+g+SnL5R1BP6D5KcvlHUE/oPkpy+UdQT+g+SnL5R1BP6D5KcvlHUE/oPkpy+UdQT+g+SnL5R1BP6D5KcvlHUE/oPkpy+UdQT+g+SnL5R1BP6D5KcvlHUE/oPkpy+UdQT+g+SnL5R1BP6D5KcvlHUE/oPkpy+UdQT+g+SnL5R1BP6D5KcvlHUE/oPkpy+UdQT+g+SnL5R1BP6D5KcvlHUE/oPkpy+UdQT+g+SnL5R1BP6D5KcvlHUE/oPkpy+UdQT+g+SnL5R1BP6D5KcvlHUE/oPkpy+UdQT+g+SnL5R1BP6D5KcvlHUE/oPkpy+UdQT+g+SnL5R1BP6D5KcvlHUE/oPkpy+UdQT+g+SnL5R1BP6D5KcvlHUE/oPkpy+UdQT+g+SnL5R1BP6D5KcvlHUE/oPkpy+UdQT+g+SnL5R1BP6D5KcvlHUE/oPkpy+UdQT+g+SnL5R1BP6D5KcvlHUE/oPkpy+UdQT+g+SnL5R1BP6D5KcvlHUE/oPkpy+UdQT+g+SnL5R1BP6D5KcvlHUE/oPkpy+UdQT+g+SnL5R1BP6D5KcvlHUE/oPkpy+UdQT+g+SnL5R1BP6D5KcvlHUE/oPkpy+UdQT+g+SnL5R1BP6D5KcvlHUE/oPkpy+UdQT+g+SnL5R1BP6D5KcvlHUE/oPkpy+UdQT+g+SnL5R1BP6D5KcvlHUE/oPkpy+UdQT+g+SnL5R1BP6D5KcvlHUE/oPkpy+UdQT+g+SnL5R1BP6D5KcvlHUE/oPkpy+UdQT+g+SnL5R1BP6D5KcvlHUE/oPkpy+UdQT+g+SnL5R1BP6D5KcvlHUE/oPkpy+UdQT+g+SnL5R1BP6D5KcvlHUE/oPkpy+UdQT+g+SnL5R1BP6D5KcvlHUE/oPkpy+UdQT+g+SnL5R1BP6D5KcvlHUE/oPkpy+UdQT+g+SnL5R1BP6D5KcvlHUE/oPkpy+UdQT+g+SnL5R1BP6D5KcvlHUE/oPkpy+UdQT+g+SnL5R1BP6D5KcvlHUE/oPkpy+UdQT+g+SnL5R1BP6D5KcvlHUE/oPkpy+UdQT+g+SnL5R1BP6D5KcvlHUE/oPkpy+UdQT+g+SnL5R1BP6D5KcvlHUE/oPkpy+UdQT+g+SnL5R1BP6D5KcvlHUE/oPkpy+UdQT+g+SnL5R1BP6D5KcvlHUE/oPkpy+UdQT+g+SnL5R1BP6D5KcvlHUE/oPkpy+UdQT+g+SnL5R1BP6D5KcvlHUE/oPkpy+UdQT+g+SnL5R1BP6D5KcvlHUE/oPkpy+UdQT+g+SnL5R1BP6D5KcvlHUE/oPkpy+UdQT+g+SnL5R1BP6D5KcvlHUE/oPkpy+UdQT+g+SnL5R1BP6D5KcvlHUE/oPkpy+UdQT+g+SnL5R1BP6D5KcvlHUE/oPkpy+UdQT+g+SnL5R1BP6D5KcvlHUE/oPkpy+UdQT+g+SnL5R1BP6D5KcvlHUE/oPkpy+UdQT+g+SnL5R1BP6D5KcvlHUE/oPkpy+UdQT+g+SnL5R1BP6D5KcvlHUE/oPkpy+UdQT+g+SnL5R1BP6D5KcvlHUE/oPkpy+UdQT+g+SnL5R1BP6D5KcvlHUE/oPkpy+UdQT+g+SnL5R1BP6D5KcvlHUE/oPkpy+UdQT+g+SnL5R1BP6D5KcvlHUE/oPkpy+UdQT+g+SnL5R1BP6D5KcvlHUE/oPkpy+UdQT+g+SnL5R1BP6D5KcvlHUE/oPkpy+UdQT+g+SnL5R1BP6D5KcvlHUE/oPkpy+UdQT+g+SnL5R1BP6D5KcvlHUE/oPkpy+UdQT+g+SnL5R1BP6D5KcvlHUE/oPkpy+UdQT+g+SnL5R1BP6D5KcvlHUE/oPkpy+UdQT+g+SnL5R1BP6D5KcvlHUE/oPkpy+UdQT+g+SnL5R1BP6D5KcvlHUE/oPkpy+UdQT+g+SnL5R1BP6D5KcvlHUE/oPkpy+UdQT+g+SnL5R1BP6D5KcvlHUE/oPkpy+UdQT+g+SnL5R1BP6D5KcvlHUE/oPkpy+UdQT+g+SnL5R1BP6D5KcvlHUE/oPkpy+UdQT+g+SnL5R1BP6D5KcvlHUE/oPkpy+UdQT+g+SnL5R1BP6D5KcvlHUE/oPkpy+UdQT+g+SnL5R1BP6D5KcvlHUE/oPkpy+UdQT+g+SnL5R1BP6D5KcvlHUE/oPkpy+UdQT+g+SnL5R1BP6D5KcvlHUE/oPkpy+UdQT+g+SnL5R1BP6D5KcvlHUE/oPkpy+UdQT+g+SnL5R1BP6D5KcvlHUE/oPkpy+UdQT+g+SnL5R1BP6D5KcvlHUE/oPkpy+UdQT+g+SnL5R1BP6D5KcvlHUE/oPkpy+UdQT+g+SnL5R1B",
          "dtype": "f8"
         },
         "yaxis": "y2"
        },
        {
         "line": {
          "width": 2
         },
         "mode": "lines",
         "name": "simulator:/XRP:/worth",
         "showlegend": true,
         "type": "scatter",
         "x": {
          "bdata": "AAABAAIAAwAEAAUABgAHAAgACQAKAAsADAANAA4ADwAQABEAEgATABQAFQAWABcAGAAZABoAGwAcAB0AHgAfACAAIQAiACMAJAAlACYAJwAoACkAKgArACwALQAuAC8AMAAxADIAMwA0ADUANgA3ADgAOQA6ADsAPAA9AD4APwBAAEEAQgBDAEQARQBGAEcASABJAEoASwBMAE0ATgBPAFAAUQBSAFMAVABVAFYAVwBYAFkAWgBbAFwAXQBeAF8AYABhAGIAYwBkAGUAZgBnAGgAaQBqAGsAbABtAG4AbwBwAHEAcgBzAHQAdQB2AHcAeAB5AHoAewB8AH0AfgB/AIAAgQCCAIMAhACFAIYAhwCIAIkAigCLAIwAjQCOAI8AkACRAJIAkwCUAJUAlgCXAJgAmQCaAJsAnACdAJ4AnwCgAKEAogCjAKQApQCmAKcAqACpAKoAqwCsAK0ArgCvALAAsQCyALMAtAC1ALYAtwC4ALkAugC7ALwAvQC+AL8AwADBAMIAwwDEAMUAxgDHAMgAyQDKAMsAzADNAM4AzwDQANEA0gDTANQA1QDWANcA2ADZANoA2wDcAN0A3gDfAOAA4QDiAOMA5ADlAOYA5wDoAOkA6gDrAOwA7QDuAO8A8ADxAPIA8wD0APUA9gD3APgA+QD6APsA/AD9AP4A/wAAAQEBAgEDAQQBBQEGAQcBCAEJAQoBCwEMAQ0BDgEPARABEQESARMBFAEVARYBFwEYARkBGgEbARwBHQEeAR8BIAEhASIBIwEkASUBJgEnASgBKQEqASsBLAEtAS4BLwEwATEBMgEzATQBNQE2ATcBOAE5AToBOwE8AT0BPgE/AUABQQFCAUMBRAFFAUYBRwFIAUkBSgFLAUwBTQFOAU8BUAFRAVIBUwFUAVUBVgFXAVgBWQFaAVsBXAFdAV4BXwFgAWEBYgFjAWQBZQFmAWcBaAFpAWoBawFsAW0BbgFvAXABcQFyAXMBdAF1AXYBdwF4AXkBegF7AXwBfQF+AX8BgAGBAYIBgwGEAYUBhgGHAYgBiQGKAYsBjAGNAY4BjwGQAZEBkgGTAZQBlQGWAZcBmAGZAZoBmwGcAZ0BngGfAaABoQGiAaMBpAGlAaYBpwGoAakBqgGrAawBrQGuAa8BsAGxAbIBswG0AbUBtgG3AbgBuQG6AbsBvAG9Ab4BvwHAAcEBwgHDAcQBxQHGAccByAHJAcoBywHMAc0BzgHPAdAB",
          "dtype": "i2"
         },
         "xaxis": "x2",
         "y": {
          "bdata": "AAAAAAAAAAAAAAAAAAAAAAAAAAAAAAAAAAAAAAAAAAAAAAAAAAAAAAAAAAAAAAAAAAAAAAAAAAAAAAAAAAAAAAAAAAAAAAAAAAAAAAAAAAAAAAAAAAAAAAAAAAAAAAAAAAAAAAAAAAAAAAAAAAAAAAAAAAAAAAAAAAAAAAAAAAAAAAAAAAAAAAAAAAAAAAAAAAAAAAAAAAAAAAAAAAAAAAAAAAAAAAAAAAAAAAAAAAAAAAAAAAAAAAAAAAAAAAAAAAAAAAAAAAAAAAAAAAAAAAAAAAAAAAAAAAAAAAAAAAAAAAAAAAAAAAAAAAAAAAAAAAAAAAAAAAAAAAAAAAAAAAAAAAAAAAAAAAAAAAAAAAAAAAAAAAAAAAAAAAAAAAAAAAAAAAAAAAAAAAAAAAAAAAAAAAAAAAAAAAAAAAAAAAAAAAAAAAAAAAAAAAAAAAAAAAAAAAAAAAAAAAAAAAAAAAAAAAAAAAAAAAAAAAAAAAAAAAAAAAAAAAAAAAAAAAAAAAAAAAAAAAAAAAAAAAAAAAAAAAAAAAAAAAAAAAAAAAAAAAAAAAAAAAAAAAAAAAAAAAAAAAAAAAAAAAAAAAAAAAAAAAAAAAAAAAAAAAAAAAAAAAAAAAAAAAAAAAAAAAAAAAAAAAAAAAAAAAAAAAAAAAAAAAAAAAAAAAAAAAAAAAAAAAAAAAAAAAAAAAAAAAAAAAAAAAAAAAAAAAAAAAAAAAAAAAAAAAAAAAAAAAAAAAAAAAAAAAAAAAAAAAAAAAAAAAAAAAAAAAAAAAAAAAAAAAAAAAAAAAAAAAAAAAAAAAAAAAAAAAAAAAAAAAAAAAAAAAAAAAAAAAAAAAAAAAAAAAAAAAAAAAAAAAAAAAAAAAAAAAAAAAAAAAAAAAAAAAAAAAAAAAAAAAAAAAAAAAAAAAAAAAAAAAAAAAAAAAAAAAAAAAAAAAAAAAAAAAAAAAAAAAAAAAAAAAAAAAAAAAAAAAAAAAAAAAAAAAAAAAAAAAAAAAAAAAAAAAAAAAAAAAAAAAAAAAAAAAAAAAAAAAAAAAAAAAAAAAAAAAAAAAAAAAAAAAAAAAAAAKBamzpm4gRBctyT5cSbBEG3ayqBC9MEQVpvG9fIRQRBFOpiZ4SmBEH9ntdU+6QEQeaNSA5WtARBWrP1zq7uBEHmrzUKyQgFQf+CdQweXAZB0WBXf9N6BkHQpDF3uSMHQXSC4liXtQdBotQehsMPB0GH2tsqEw0HQcQ3Toj5IAdBFkUyWVSdBkH2b4X80XwHQQQ5C7WAsAhBtcqzpxQfCEGcLphtKPEHQVvba4A7UQlBc3wPH29iCEGMwf2MQ+8IQRmST1zddwhBnYA91fiuCEFzfA8fb2IIQQjTDxQouAhBYsJXOwGGB0H7Wy/DSUIIQdOppnSQswhBhOQhmwyBCEEtlGY3Ip4IQb6nj5lLjQhBi8aF8YrSB0G9rBf+knAHQYQ7T2ckIghB60pKE8TEB0ED7O2x99UGQTR7UvLn0gZBpwEu72XrBkH5DhLAwGcGQTxdtkhmJAZBA+ztsffVBkFvOTiM3/sHQeHEm+2k9wZB1kgzOH+eB0EDPpMZyJMHQcCdSSlSGQdBi8aF8YrSB0FW9EkeC28HQQtynNcWowdBak2OxWc2B0F+/f843J4GQXpj+9k0lwZB4RvJubyYBkFMbpv466EGQQbdH922fgZBdnLJrnXuBkEOESmbBY4GQd2BxFoVkQZBI2ptQmJVBkEeJ5av0u4FQQGaSEonGAZBwPR29Wm6BkE9WC7kHkEHQXGGH+j9KAZBBjRNqc4fBkEFi3p15sAFQatJjeY8NQZBs32WpItEBkGzfZaki0QGQUM/Gp/kdQVBpwa2U63OBUGLyw1W0rUGQcBLpMGBWwZBVUt36iIQB0G8sZ9i2lMGQamlrmVxFAxB5LqLJBYxCUGezVrYgYkKQXDdgluAdwlB/lEf+rp7CkEoVk2wRMgKQZBbOJNVpAxBUFqxDTnCDkHQYUDbLjgQQeNoUgsbzg9BiINCECYREEGNDlE3N3cOQdVIn4ZU+Q5BtxcHUginDUG8Wt7klw0OQWw+LD/8OQ5Bist5pKcQDkENYzpRq6YOQZszjCBFLw5BBYZeX3Q4DkE3Z2gHNfMOQZjrLClu5Q5BAuxZAM0wDkGmqmxxI6UOQcojZJ1GQQ9Bq+1DBLMLD0GHLO3guCUPQTQkkXSljA5B5gJXasLVD0FbhHRbjl0NQT78rloqagxB/vrxLaPaCkHvNiqBpjcMQeZZTo9vyQtBYmtgFlSSC0FB7eCF6RIMQTR2ADULnQtB98FgCw3oC0H8rQrShK0MQYgnL9UGlQxBSSHqQzgiDEG0yulOf8wLQRjpss9fxgtB2otAcnmyC0EsQvd2vI0LQZSjl4os7gtBsIcSvO9lC0GXQiROG9kKQR4nzFY9nAlBiXmelWylCUEvj97S2roJQXhoueXmJwlB/f95kuq9CUHHLT6/aloJQQWLsBxRbglBFvPCmO6MCUFhcOh6m3UKQSzwUQ/szwpBVZ1S+V17C0Exhc4JTPQLQTm518eaAwxB3nxynThbC0E0dgA1C50LQYM7hQ6PzwtBuBJJRlYWC0Hy1bZElSILQdEACugSAgxB6pwlIv8vDEGp91PNQdIMQXi6lPQhkw1B6Uq2YZkfD0EvM19J5uMOQXRyNf1KSQ5Bo2INekxbD0EPDA2FkwUPQYKcuwGrBRBBinRM2I9vDkE5uQ1vBbEPQQpyCCbs/Q5BaZ+few1PD0G+rKuvvRUQQUTj0LxaTA5BIHQfATEkD0F2ba2YA2YPQavtQwSzCw9BAEgPMSy1DEEASA8xLLUMQRAHT3nhdAxBLT1vEnWqDEEFi+bDuxsNQXCGizbTgw1BnnvrFxx5DUHY5ytKQ+QNQT/3Jvbihg1BhYiiERiqDUHPYX0kJBcNQSLBBl1PUQ1BkFs4k1WkDEHs7sqJz+0MQeZZTo9vyQtBOmKq+4JiDEH3ajM/9UYMQS2UnN6MSwxBvvlqqIb4DEHjY5T/aD0NQaJsHUPbIQ1BU/7FNW+QDEHRVze0KqMLQQgqc4eqBgxB4mgcZLAgDEE1H9No8/sLQYgnL9UGlQxBpbR8OrJrDEFNu+6i3ykMQdnnWk8jYBhBdhsBj6h2FUGc3FeyolwVQbyxn2LaUxZByNbaS+gLFkFwNBXU4kEXQR551mpYgxhBTmkTlKS+F0Ehb5D6Xg8XQRzaEwD/6hVBy3Dfqo8TFkGbM4V+uv0UQVGx1zfGMRVB1Z/FsOFoFUFms+4SC1gVQZFbzESASRVBxDezNERKFUGmtBDs3BAVQYl+8FJJ2xRBSX3OeXciFUEhHVA/2XoUQcbg6hR30hNBhzHTT8AAE0HRs4CWtMwSQSNqN5v3pxJBVfmb2+ekEkEHhrxpNDATQQ1tQ3ivOxNBfLBH4p3tEkHdgY6zquMSQWZhrleFwxJBXS2lmTa0EkHnAhohzfYSQbhukijgPxJBXn+vrVGbEUENumcdw0cOQT9JzF2zRA5Bf/jjImoWD0GMHUdvzRgQQQob21nUXA9B7uS6wEAnD0GgcdtOjbIPQahTP6ULBA9BSnhNt7pwD0FmBZscZkcPQWmfn3sNTw9Bzb1o/O1ID0FeKOeNhCMQQcUyMnKHmA9Bm9xeVC2ODkEuOOetLccNQWn7VKxs0w1BNHu+QL0tDkFVS+M4+GoOQdX2+R6EOw5BjWV+A08YDkFppCfgVDIOQWmkJ+BUMg5Bkv+CYvYfDkG/SxAQV7YNQQM5QVzrXQxBNXF40MO5DEGAnPhKoOQMQbLUL794QA1BQjr+iHLtDUFxL15qu+INQQGatJj8cg1BWDwVZLcTDkG0eHqOGbwOQbxVVoBQKg9B4MQHPHpSDkFxgQPSi6AOQeVeDJshWg5Bt8DZhfAFDkHV9vkehDsOQelPPsbgAg5BbZVZCxTbDUHEN7rWznsOQfF+vx/oLg9BVfS1bODJDkFuOaTatFYPQdg50bETog5BwkawDmUdEEG0c/Ip0tgPQcojZJ1GQQ9BE0/kFyNsD0FYN43/bzAPQWn2zEcl8A5BIxOsxB8PDkEiatmQN7ANQRXz+D9ZOg1BsStdi5DhDEEpTD3ntQENQc9hfSQkFw1BcN24AuskDUFgx0vuHcQNQcM8QjsWXw1BDb/vgQorDUGxh0hjWhMPQVX0tWzgyQ5BIHQfATEkD0Fha5a9vj8PQeVjV7ZzXhBBrZY+m/C0EEFsn8feYpkQQZdHpRDYihBB067CigI8EEEMcjCJQUgQQTxd5U1GoBBBZL1jiORHEUHxiC3zNu0RQeMWcFpVMRJBo2x7TZsZEkElDucW40wSQcojJ1RRYhJBIhgth9zAE0E2cQyC7l4VQSEdUD/ZehRB9XRyDWSJFEHU+3rhQO0TQbfFWkittxNB929PVWfPE0FYQZYmdMUTQUrP2I2SCRRBbpW3FdTSEkG7toxzbGATQb5VGTdbSxJBkGC5VRJWEkEfJ2AIaEESQcTlcnm+tRJBWOrNBqdNEkEBn5oHBE4RQbq7FNizQxJB479Cjj2QEkF+VPddiZISQbgXZVzInhJBZwVe03BoEkGchfQ+IA4SQVIDR/grQhJBGEDZ+ew1EkFzKpm8fiASQfR+gtbyTxJBsONbnnmPEkHs80tMjJ8SQSa3uUrLqxJBF5wpfgGREkFmCoGLbSITQdmQXIjrOhNBHyf7Wx0YFEF/T2/5Qa8TQSayMeaDyBNBdNNr8GZ/EkF1IO6fOoMSQTGFx2fBwhJBdsnA0yLiEkE0KXfjrGcSQa2W2e6lixJBg5KrOBw/EkH0foLW8k8SQTlnK74/FBJBOhD+8SdzEkFXRh6Lu6gSQfHa0loHqxJBEbWib4aFEkElDucW40wSQeZeaqXhURNB51lH7eSXEkFNbmVRgfQSQYOXzvAY+RJBH9AyPFCgEkF8B3WutY4SQTQpd+OsZxJB",
          "dtype": "f8"
         },
         "yaxis": "y2"
        },
        {
         "line": {
          "width": 2
         },
         "mode": "lines",
         "name": "simulator:/BNB:/free",
         "showlegend": true,
         "type": "scatter",
         "x": {
          "bdata": "AAABAAIAAwAEAAUABgAHAAgACQAKAAsADAANAA4ADwAQABEAEgATABQAFQAWABcAGAAZABoAGwAcAB0AHgAfACAAIQAiACMAJAAlACYAJwAoACkAKgArACwALQAuAC8AMAAxADIAMwA0ADUANgA3ADgAOQA6ADsAPAA9AD4APwBAAEEAQgBDAEQARQBGAEcASABJAEoASwBMAE0ATgBPAFAAUQBSAFMAVABVAFYAVwBYAFkAWgBbAFwAXQBeAF8AYABhAGIAYwBkAGUAZgBnAGgAaQBqAGsAbABtAG4AbwBwAHEAcgBzAHQAdQB2AHcAeAB5AHoAewB8AH0AfgB/AIAAgQCCAIMAhACFAIYAhwCIAIkAigCLAIwAjQCOAI8AkACRAJIAkwCUAJUAlgCXAJgAmQCaAJsAnACdAJ4AnwCgAKEAogCjAKQApQCmAKcAqACpAKoAqwCsAK0ArgCvALAAsQCyALMAtAC1ALYAtwC4ALkAugC7ALwAvQC+AL8AwADBAMIAwwDEAMUAxgDHAMgAyQDKAMsAzADNAM4AzwDQANEA0gDTANQA1QDWANcA2ADZANoA2wDcAN0A3gDfAOAA4QDiAOMA5ADlAOYA5wDoAOkA6gDrAOwA7QDuAO8A8ADxAPIA8wD0APUA9gD3APgA+QD6APsA/AD9AP4A/wAAAQEBAgEDAQQBBQEGAQcBCAEJAQoBCwEMAQ0BDgEPARABEQESARMBFAEVARYBFwEYARkBGgEbARwBHQEeAR8BIAEhASIBIwEkASUBJgEnASgBKQEqASsBLAEtAS4BLwEwATEBMgEzATQBNQE2ATcBOAE5AToBOwE8AT0BPgE/AUABQQFCAUMBRAFFAUYBRwFIAUkBSgFLAUwBTQFOAU8BUAFRAVIBUwFUAVUBVgFXAVgBWQFaAVsBXAFdAV4BXwFgAWEBYgFjAWQBZQFmAWcBaAFpAWoBawFsAW0BbgFvAXABcQFyAXMBdAF1AXYBdwF4AXkBegF7AXwBfQF+AX8BgAGBAYIBgwGEAYUBhgGHAYgBiQGKAYsBjAGNAY4BjwGQAZEBkgGTAZQBlQGWAZcBmAGZAZoBmwGcAZ0BngGfAaABoQGiAaMBpAGlAaYBpwGoAakBqgGrAawBrQGuAa8BsAGxAbIBswG0AbUBtgG3AbgBuQG6AbsBvAG9Ab4BvwHAAcEBwgHDAcQBxQHGAccByAHJAcoBywHMAc0BzgHPAdAB",
          "dtype": "i2"
         },
         "xaxis": "x2",
         "y": {
          "bdata": "AAAAAAAAAAAAAAAAAAAAAAAAAAAAAAAAAAAAAAAAAAAAAAAAAAAAAAAAAAAAAAAAAAAAAAAAAAAAAAAAAAAAAAAAAAAAAAAAAAAAAAAAAAAAAAAAAAAAAAAAAAAAAAAAAAAAAAAAAAAAAAAAAAAAAAAAAAAAAAAAAAAAAAAAAAAAAAAAAAAAAAAAAAAAAAAAAAAAAAAAAAAAAAAAAAAAAAAAAAAAAAAAAAAAAAAAAAAAAAAAAAAAAAAAAAAAAAAAAAAAAAAAAAAAAAAAAAAAAAAAAAAAAAAAAAAAAAAAAAAAAAAAAAAAAAAAAAAAAAAAAAAAAAAAAAAAAAAAAAAAAAAAAAAAAAAAAAAAAAAAAAAAAAAAAAAAAAAAAAAAAAAAAAAAAAAAAAAAAAAAAAAAAAAAAAAAAAAAAAAAAAAAAAAAAAAAAAAAAAAAAAAAAAAAAAAAAAAAAAAAAAAAAAAAAAAAAAAAAAAAAAAAAAAAAAAAAAAAAAAAAAAAAAAAAAAAAAAAAAAAAAAAAAAAAAAAAAAAAAAAAAAAAAAAAAAAAAAAAAAAAAAAAAAAAAAAAAAAAAAAAAAAAAAAAAAAAAAAAAAAAAAAAAAAAAAAAAAAAAAAAAAAAAAAAAAAAAAAAAAAAAAAAAAAAAAAAAAAAAAAAAAAAAAAAAAAAAAAAAAAAAAAAAAAAAAAAAAAAAAAAAAAAAAAAAAAAAAAAAAAAAAAAAAAAAAAAAAAAAAAAAAAAAAAAAAAAAAAAAAAAAAAAAAAAAAAAAAAAAAAAAAAAAAAAAAAAAAAAAAAAAAAAAAAAAAAAAAAAAAAAAAAAAAAAAAAAAAAAAAAAAAAAAAAAAAAAAAAAAAAAAAAAAAAAAAAAAAAAAAAAAAAAAAAAAAAAAAAAAAAAAAAAAAAAAAAAAAAAAAAAAAAAAAAAAAAAAAAAAAAAAAAAAAAAAAAAAAAAAAAAAAAAAAAAAAAAAAAAAAAAAAAAAAAAAAAAAAAAAAAAAAAAAAAAAAAAAAAAAAAAAAAAAAAAAAAAAAAAAAAAAAAAAAAAAAAAAAAAAAAAAAAAAAAAAAAAAAAAD7k86tdR4VAPuTzq11HhUA+5POrXUeFQD7k86tdR4VAPuTzq11HhUA+5POrXUeFQD7k86tdR4VAPuTzq11HhUA+5POrXUeFQD7k86tdR4VAPuTzq11HhUA+5POrXUeFQD7k86tdR4VAPuTzq11HhUAavHUfJB+CQBq8dR8kH4JAGrx1HyQfgkAavHUfJB+CQBq8dR8kH4JAGrx1HyQfgkAavHUfJB+CQBq8dR8kH4JAGrx1HyQfgkAavHUfJB+CQBq8dR8kH4JAGrx1HyQfgkAavHUfJB+CQBq8dR8kH4JAGrx1HyQfgkAavHUfJB+CQBq8dR8kH4JAGrx1HyQfgkAavHUfJB+CQBq8dR8kH4JAGrx1HyQfgkAavHUfJB+CQBq8dR8kH4JAGrx1HyQfgkAavHUfJB+CQBq8dR8kH4JAGrx1HyQfgkAavHUfJB+CQBq8dR8kH4JAGrx1HyQfgkAavHUfJB+CQBq8dR8kH4JAGrx1HyQfgkAavHUfJB+CQBq8dR8kH4JAGrx1HyQfgkAavHUfJB+CQBq8dR8kH4JAGrx1HyQfgkAavHUfJB+CQBq8dR8kH4JAGrx1HyQfgkAavHUfJB+CQBq8dR8kH4JAGrx1HyQfgkAavHUfJB+CQBq8dR8kH4JAGrx1HyQfgkAavHUfJB+CQBq8dR8kH4JAGrx1HyQfgkAavHUfJB+CQBq8dR8kH4JAGrx1HyQfgkAavHUfJB+CQBq8dR8kH4JAGrx1HyQfgkAavHUfJB+CQBq8dR8kH4JAGrx1HyQfgkAavHUfJB+CQBq8dR8kH4JAGrx1HyQfgkAavHUfJB+CQBq8dR8kH4JAGrx1HyQfgkAavHUfJB+CQBq8dR8kH4JAGrx1HyQfgkAavHUfJB+CQBq8dR8kH4JAGrx1HyQfgkAavHUfJB+CQBq8dR8kH4JAGrx1HyQfgkAavHUfJB+CQBq8dR8kH4JAGrx1HyQfgkAavHUfJB+CQBq8dR8kH4JAGrx1HyQfgkAavHUfJB+CQBq8dR8kH4JAGrx1HyQfgkAavHUfJB+CQBq8dR8kH4JAGrx1HyQfgkAavHUfJB+CQBq8dR8kH4JAGrx1HyQfgkAavHUfJB+CQBq8dR8kH4JAGrx1HyQfgkAavHUfJB+CQBq8dR8kH4JAGrx1HyQfgkAavHUfJB+CQBq8dR8kH4JAGrx1HyQfgkAavHUfJB+CQBq8dR8kH4JAGrx1HyQfgkAavHUfJB+CQBq8dR8kH4JAGrx1HyQfgkAavHUfJB+CQBq8dR8kH4JAGrx1HyQfgkAavHUfJB+CQBq8dR8kH4JAGrx1HyQfgkAavHUfJB+CQBq8dR8kH4JAGrx1HyQfgkAavHUfJB+CQBq8dR8kH4JAGrx1HyQfgkAavHUfJB+CQBq8dR8kH4JAGrx1HyQfgkAavHUfJB+CQBq8dR8kH4JAGrx1HyQfgkAavHUfJB+CQBq8dR8kH4JAGrx1HyQfgkAavHUfJB+CQBq8dR8kH4JAGrx1HyQfgkAavHUfJB+CQBq8dR8kH4JAGrx1HyQfgkAavHUfJB+CQBq8dR8kH4JAGrx1HyQfgkAavHUfJB+CQBq8dR8kH4JAGrx1HyQfgkAavHUfJB+CQBq8dR8kH4JAGrx1HyQfgkAavHUfJB+CQBq8dR8kH4JAGrx1HyQfgkAavHUfJB+CQBq8dR8kH4JAGrx1HyQfgkAavHUfJB+CQBq8dR8kH4JAGrx1HyQfgkAavHUfJB+CQBq8dR8kH4JAGrx1HyQfgkAavHUfJB+CQBq8dR8kH4JAGrx1HyQfgkAavHUfJB+CQBq8dR8kH4JAGrx1HyQfgkAavHUfJB+CQBq8dR8kH4JAGrx1HyQfgkAavHUfJB+CQBq8dR8kH4JAGrx1HyQfgkAavHUfJB+CQBq8dR8kH4JAGrx1HyQfgkAavHUfJB+CQBq8dR8kH4JAGrx1HyQfgkAavHUfJB+CQBq8dR8kH4JAGrx1HyQfgkAavHUfJB+CQBq8dR8kH4JAGrx1HyQfgkAavHUfJB+CQBq8dR8kH4JAGrx1HyQfgkAavHUfJB+CQBq8dR8kH4JAGrx1HyQfgkAavHUfJB+CQBq8dR8kH4JAGrx1HyQfgkAavHUfJB+CQBq8dR8kH4JAGrx1HyQfgkAavHUfJB+CQBq8dR8kH4JAGrx1HyQfgkAavHUfJB+CQBq8dR8kH4JAGrx1HyQfgkAavHUfJB+CQBq8dR8kH4JAGrx1HyQfgkAavHUfJB+CQBq8dR8kH4JAGrx1HyQfgkAavHUfJB+CQBq8dR8kH4JAGrx1HyQfgkAavHUfJB+CQBq8dR8kH4JAGrx1HyQfgkAavHUfJB+CQBq8dR8kH4JAGrx1HyQfgkAavHUfJB+CQBq8dR8kH4JAGrx1HyQfgkAavHUfJB+CQBq8dR8kH4JAGrx1HyQfgkAavHUfJB+CQBq8dR8kH4JAGrx1HyQfgkAavHUfJB+CQBq8dR8kH4JAGrx1HyQfgkAavHUfJB+CQBq8dR8kH4JAGrx1HyQfgkAavHUfJB+CQBq8dR8kH4JAGrx1HyQfgkAavHUfJB+CQBq8dR8kH4JAGrx1HyQfgkAavHUfJB+CQBq8dR8kH4JAGrx1HyQfgkAavHUfJB+CQBq8dR8kH4JAGrx1HyQfgkAavHUfJB+CQBq8dR8kH4JAGrx1HyQfgkAavHUfJB+CQBq8dR8kH4JAGrx1HyQfgkAavHUfJB+CQBq8dR8kH4JAGrx1HyQfgkAavHUfJB+CQBq8dR8kH4JAGrx1HyQfgkAavHUfJB+CQBq8dR8kH4JAGrx1HyQfgkAavHUfJB+CQBq8dR8kH4JAGrx1HyQfgkAavHUfJB+CQBq8dR8kH4JAGrx1HyQfgkAavHUfJB+CQBq8dR8kH4JAGrx1HyQfgkAavHUfJB+CQBq8dR8kH4JAGrx1HyQfgkAavHUfJB+CQBq8dR8kH4JAGrx1HyQfgkAavHUfJB+CQBq8dR8kH4JAGrx1HyQfgkAavHUfJB+CQBq8dR8kH4JAGrx1HyQfgkAavHUfJB+CQBq8dR8kH4JAGrx1HyQfgkAavHUfJB+CQBq8dR8kH4JAGrx1HyQfgkAavHUfJB+CQBq8dR8kH4JAGrx1HyQfgkAavHUfJB+CQBq8dR8kH4JAGrx1HyQfgkAavHUfJB+CQBq8dR8kH4JAGrx1HyQfgkAavHUfJB+CQBq8dR8kH4JAGrx1HyQfgkAavHUfJB+CQBq8dR8kH4JAGrx1HyQfgkAavHUfJB+CQBq8dR8kH4JAGrx1HyQfgkAavHUfJB+CQBq8dR8kH4JAGrx1HyQfgkAavHUfJB+CQBq8dR8kH4JAGrx1HyQfgkAavHUfJB+CQBq8dR8kH4JAGrx1HyQfgkAavHUfJB+CQBq8dR8kH4JAGrx1HyQfgkAavHUfJB+CQBq8dR8kH4JAGrx1HyQfgkAavHUfJB+CQBq8dR8kH4JAGrx1HyQfgkAavHUfJB+CQBq8dR8kH4JAGrx1HyQfgkAavHUfJB+CQBq8dR8kH4JAGrx1HyQfgkAavHUfJB+CQBq8dR8kH4JAGrx1HyQfgkAavHUfJB+CQBq8dR8kH4JAGrx1HyQfgkAavHUfJB+CQBq8dR8kH4JAGrx1HyQfgkAavHUfJB+CQBq8dR8kH4JAGrx1HyQfgkAavHUfJB+CQBq8dR8kH4JAGrx1HyQfgkAavHUfJB+CQBq8dR8kH4JAGrx1HyQfgkAavHUfJB+CQBq8dR8kH4JAGrx1HyQfgkAavHUfJB+CQBq8dR8kH4JAGrx1HyQfgkAavHUfJB+CQBq8dR8kH4JAGrx1HyQfgkAavHUfJB+CQBq8dR8kH4JA",
          "dtype": "f8"
         },
         "yaxis": "y2"
        },
        {
         "line": {
          "width": 2
         },
         "mode": "lines",
         "name": "simulator:/BNB:/locked",
         "showlegend": true,
         "type": "scatter",
         "x": {
          "bdata": "AAABAAIAAwAEAAUABgAHAAgACQAKAAsADAANAA4ADwAQABEAEgATABQAFQAWABcAGAAZABoAGwAcAB0AHgAfACAAIQAiACMAJAAlACYAJwAoACkAKgArACwALQAuAC8AMAAxADIAMwA0ADUANgA3ADgAOQA6ADsAPAA9AD4APwBAAEEAQgBDAEQARQBGAEcASABJAEoASwBMAE0ATgBPAFAAUQBSAFMAVABVAFYAVwBYAFkAWgBbAFwAXQBeAF8AYABhAGIAYwBkAGUAZgBnAGgAaQBqAGsAbABtAG4AbwBwAHEAcgBzAHQAdQB2AHcAeAB5AHoAewB8AH0AfgB/AIAAgQCCAIMAhACFAIYAhwCIAIkAigCLAIwAjQCOAI8AkACRAJIAkwCUAJUAlgCXAJgAmQCaAJsAnACdAJ4AnwCgAKEAogCjAKQApQCmAKcAqACpAKoAqwCsAK0ArgCvALAAsQCyALMAtAC1ALYAtwC4ALkAugC7ALwAvQC+AL8AwADBAMIAwwDEAMUAxgDHAMgAyQDKAMsAzADNAM4AzwDQANEA0gDTANQA1QDWANcA2ADZANoA2wDcAN0A3gDfAOAA4QDiAOMA5ADlAOYA5wDoAOkA6gDrAOwA7QDuAO8A8ADxAPIA8wD0APUA9gD3APgA+QD6APsA/AD9AP4A/wAAAQEBAgEDAQQBBQEGAQcBCAEJAQoBCwEMAQ0BDgEPARABEQESARMBFAEVARYBFwEYARkBGgEbARwBHQEeAR8BIAEhASIBIwEkASUBJgEnASgBKQEqASsBLAEtAS4BLwEwATEBMgEzATQBNQE2ATcBOAE5AToBOwE8AT0BPgE/AUABQQFCAUMBRAFFAUYBRwFIAUkBSgFLAUwBTQFOAU8BUAFRAVIBUwFUAVUBVgFXAVgBWQFaAVsBXAFdAV4BXwFgAWEBYgFjAWQBZQFmAWcBaAFpAWoBawFsAW0BbgFvAXABcQFyAXMBdAF1AXYBdwF4AXkBegF7AXwBfQF+AX8BgAGBAYIBgwGEAYUBhgGHAYgBiQGKAYsBjAGNAY4BjwGQAZEBkgGTAZQBlQGWAZcBmAGZAZoBmwGcAZ0BngGfAaABoQGiAaMBpAGlAaYBpwGoAakBqgGrAawBrQGuAa8BsAGxAbIBswG0AbUBtgG3AbgBuQG6AbsBvAG9Ab4BvwHAAcEBwgHDAcQBxQHGAccByAHJAcoBywHMAc0BzgHPAdAB",
          "dtype": "i2"
         },
         "xaxis": "x2",
         "y": {
          "bdata": "AAAAAAAAAAAAAAAAAAAAAAAAAAAAAAAAAAAAAAAAAAAAAAAAAAAAAAAAAAAAAAAAAAAAAAAAAAAAAAAAAAAAAAAAAAAAAAAAAAAAAAAAAAAAAAAAAAAAAAAAAAAAAAAAAAAAAAAAAAAAAAAAAAAAAAAAAAAAAAAAAAAAAAAAAAAAAAAAAAAAAAAAAAAAAAAAAAAAAAAAAAAAAAAAAAAAAAAAAAAAAAAAAAAAAAAAAAAAAAAAAAAAAAAAAAAAAAAAAAAAAAAAAAAAAAAAAAAAAAAAAAAAAAAAAAAAAAAAAAAAAAAAAAAAAAAAAAAAAAAAAAAAAAAAAAAAAAAAAAAAAAAAAAAAAAAAAAAAAAAAAAAAAAAAAAAAAAAAAAAAAAAAAAAAAAAAAAAAAAAAAAAAAAAAAAAAAAAAAAAAAAAAAAAAAAAAAAAAAAAAAAAAAAAAAAAAAAAAAAAAAAAAAAAAAAAAAAAAAAAAAAAAAAAAAAAAAAAAAAAAAAAAAAAAAAAAAAAAAAAAAAAAAAAAAAAAAAAAAAAAAAAAAAAAAAAAAAAAAAAAAAAAAAAAAAAAAAAAAAAAAAAAAAAAAAAAAAAAAAAAAAAAAAAAAAAAAAAAAAAAAAAAAAAAAAAAAAAAAAAAAAAAAAAAAAAAAAAAAAAAAAAAAAAAAAAAAAAAAAAAAAAAAAAAAAAAAAAAAAAAAAAAAAAAAAAAAAAAAAAAAAAAAAAAAAAAAAAAAAAAAAAAAAAAAAAAAAAAAAAAAAAAAAAAAAAAAAAAAAAAAAAAAAAAAAAAAAAAAAAAAAAAAAAAAAAAAAAAAAAAAAAAAAAAAAAAAAAAAAAAAAAAAAAAAAAAAAAAAAAAAAAAAAAAAAAAAAAAAAAAAAAAAAAAAAAAAAAAAAAAAAAAAAAAAAAAAAAAAAAAAAAAAAAAAAAAAAAAAAAAAAAAAAAAAAAAAAAAAAAAAAAAAAAAAAAAAAAAAAAAAAAAAAAAAAAAAAAAAAAAAAAAAAAAAAAAAAAAAAAAAAAAAAAAAAAAAAAAAAAAAAAAAAAAAAAAAAAAAAAAAAAAAAAAAAAAAAAAAAAAAAAAAAAAAAAAAAAAAAAAAAAAAAAAAAAAAAAAAAAAAAAAAAAAAAAAAAAAAAAAAAAAAAAAAAAAAAAAAAAAAAAAAAAAAAAAAAAAAAAAAAAAAAAAAAAAAAAAAAAAAAAAAAAAAAAAAAAAAAAAAAAAAAAAAAAAAAAAAAAAAAAAAAAAAAAAAAAAAAAAAAAAAAAAAAAAAAAAAAAAAAAAAAAAAAAAAAAAAAAAAAAAAAAAAAAAAAAAAAAAAAAAAAAAAAAAAAAAAAAAAAAAAAAAAAAAAAAAAAAAAAAAAAAAAAAAAAAAAAAAAAAAAAAAAAAAAAAAAAAAAAAAAAAAAAAAAAAAAAAAAAAAAAAAAAAAAAAAAAAAAAAAAAAAAAAAAAAAAAAAAAAAAAAAAAAAAAAAAAAAAAAAAAAAAAAAAAAAAAAAAAAAAAAAAAAAAAAAAAAAAAAAAAAAAAAAAAAAAAAAAAAAAAAAAAAAAAAAAAAAAAAAAAAAAAAAAAAAAAAAAAAAAAAAAAAAAAAAAAAAAAAAAAAAAAAAAAAAAAAAAAAAAAAAAAAAAAAAAAAAAAAAAAAAAAAAAAAAAAAAAAAAAAAAAAAAAAAAAAAAAAAAAAAAAAAAAAAAAAAAAAAAAAAAAAAAAAAAAAAAAAAAAAAAAAAAAAAAAAAAAAAAAAAAAAAAAAAAAAAAAAAAAAAAAAAAAAAAAAAAAAAAAAAAAAAAAAAAAAAAAAAAAAAAAAAAAAAAAAAAAAAAAAAAAAAAAAAAAAAAAAAAAAAAAAAAAAAAAAAAAAAAAAAAAAAAAAAAAAAAAAAAAAAAAAAAAAAAAAAAAAAAAAAAAAAAAAAAAAAAAAAAAAAAAAAAAAAAAAAAAAAAAAAAAAAAAAAAAAAAAAAAAAAAAAAAAAAAAAAAAAAAAAAAAAAAAAAAAAAAAAAAAAAAAAAAAAAAAAAAAAAAAAAAAAAAAAAAAAAAAAAAAAAAAAAAAAAAAAAAAAAAAAAAAAAAAAAAAAAAAAAAAAAAAAAAAAAAAAAAAAAAAAAAAAAAAAAAAAAAAAAAAAAAAAAAAAAAAAAAAAAAAAAAAAAAAAAAAAAAAAAAAAAAAAAAAAAAAAAAAAAAAAAAAAAAAAAAAAAAAAAAAAAAAAAAAAAAAAAAAAAAAAAAAAAAAAAAAAAAAAAAAAAAAAAAAAAAAAAAAAAAAAAAAAAAAAAAAAAAAAAAAAAAAAAAAAAAAAAAAAAAAAAAAAAAAAAAAAAAAAAAAAAAAAAAAAAAAAAAAAAAAAAAAAAAAAAAAAAAAAAAAAAAAAAAAAAAAAAAAAAAAAAAAAAAAAAAAAAAAAAAAAAAAAAAAAAAAAAAAAAAAAAAAAAAAAAAAAAAAAAAAAAAAAAAAAAAAAAAAAAAAAAAAAAAAAAAAAAAAAAAAAAAAAAAAAAAAAAAAAAAAAAAAAAAAAAAAAAAAAAAAAAAAAAAAAAAAAAAAAAAAAAAAAAAAAAAAAAAAAAAAAAAAAAAAAAAAAAAAAAAAAAAAAAAAAAAAAAAAAAAAAAAAAAAAAAAAAAAAAAAAAAAAAAAAAAAAAAAAAAAAAAAAAAAAAAAAAAAAAAAAAAAAAAAAAAAAAAAAAAAAAAAAAAAAAAAAAAAAAAAAAAAAAAAAAAAAAAAAAAAAAAAAAAAAAAAAAAAAAAAAAAAAAAAAAAAAAAAAAAAAAAAAAAAAAAAAAAAAAAAAAAAAAAAAAAAAAAAAAAAAAAAAAAAAAAAAAAAAAAAAAAAAAAAAAAAAAAAAAAAAAAAAAAAAAAAAAAAAAAAAAAAAAAAAAAAAAAAAAAAAAAAAAAAAAAAAAAAAAAAAAAAAAAAAAAAAAAAAAAAAAAAAAAAAAAAAAAAAAAAAAAAAAAAAAAAAAAAAAAAAAAAAAAAAAAAAAAAAAAAAAAAAAAAAAAAAAAAAAAAAAAAAAAAAAAAAAAAAAAAAAAAAAAAAAAAAAAAAAAAAAAAAAAAAAAAAAAAAAAAAAAAAAAAAAAAAAAAAAAAAAAAAAAAAAAAAAAAAAAAAAAAAAAAAAAAAAAAAAAAAAAAAAAAAAAAAAAAAAAAAAAAAAAAAAAAAAAAAAAAAAAAAAAAAAAAAAAAAAAAAAAAAAAAAAAAAAAAAAAAAAAAAAAAAAAAAAAAAAAAAAAAAAAAAAAAAAAAAAAAAAAAAAAAAAAAAAAAAAAAAAAAAAAAAAAAAAAAAAAAAAAAAAAAAAAAAAAAAAAAAAAAAAAAAAAAAAAAAAAAAAAAAAAAAAAAAAAAAAAAAAAAAAAAAAAAAAAAAAAAAAAAAAAAAAAAAAAAAAAAAAAAAAAAAAAAAAAAAAAAAAAAAAAAAAAAAAAAAAAAAAAAAAAAAAAAAAAAAAAAAAAAAAAAAAAAAAAAAAAAAAAAAAAAAAAAAAAAAAAAAAAAAAAAAAAAAAAAAAAAAAAAAAAAAAAAAAAAAAAAAAAAAAAAAAAAAAAAAAAAAAAAAAAAAAAAAAAAAAAAAAAAAAAAAAAAAAAAAAAAAAAAAAAAAAAAAAAAAAAAAAAAAAAAAAAAAAAAAAAAAAAAAAAAAAAAAAAAAAAAAAAAAAAAAAAAAAAAAAAAAAAAAAAAAAAAAAAAAAAAAAAAAAAAAAAAAAAAAAAAAAAAAAAAAAAAAAAAAAAAAAAAAAAAAAAAAAAAAAAAAAAAAAAAAAAAAAAAAAAAAAAAAAAAAAAAAAAAAAAAAAAAAAAAAAAAAAAAAAAAAAAAAAAAAAAAAAAAAAAAAAAAAAAAAAAAAAAAAAAAAAAAAAAAAAAAAAAAAAAAAAAAAAAAAAAAAAAAAAAAAAAAAAAAAAAAAAAAAAAAAAAAAAAAAAAAAAAAAAAAAAAAAAAAAAAAAAAAAAAAAAAAAAAAAAAAAAAAAAAAAAAAAAAAAAAAAAAAAAAAAAAAAAAAAAAAAAAAAAAAAAAAAAAAAAAAAAAAAAAAAAAAAAAAAAAAAAAAAAAAAAAAAAAAAAAAAAAAAAAAAAAAAAAAAAAAAAAAAAAAAAAAAAAAAAAAAAAAAAAAAAAAAAAAAAAAAAAAAAAAAAAAAAAAAAAAAAAAAAAAAAAAAAAAAAAAAAAAAAAAAAAAAAAAAAAAAAAAAAAAAAAAAAAAAAAAAAAAAAAAAAAAAAAAAAAAAAAAAAAAAAAAAAAAAAAAAAAAAAAAAAAAAAAAAAAAAAAAAAAAAAAAAAAAAAAAAAAAAAAAAAAAAAAAAAAAAAAAAAAAAAAAAAAAAAAAAAAAAAAAAAAAAAAAAAAAAAAAAAAAAAAAAAAAAAAAAAAAAAAAAAAAAAAAAAAAAAAAAAAAAAAAAAAAAAAAAAAAAAAAAAAAAAAAAAAAAAAAAAAAAAAAAAAAAAAAAAAAAAAAAAAAAAAAAAAAAAAAAAAAAAAAAAAAAAAAAAAAAAAAAAAAAAAAAAAAAAAAAAAAAAAAAAAAAAAAAAAAAAAAAAAAAAAAAAAAAAAAAAAAAAAAAAAAAAAAAAAAAAAAAAAAAAAAAAAAAAAAAAAAAAAAAAAAAAAAAAAAAAAAAAAAAAAAAAAAAAAAAAAAAAAAAAAAAAAAAAAAAAAAAAAAAAAAAAAAAAAAAAAAAAAAAAAAAAAAAAAAAAAAAAAAAAAAAAAAAAAAAAAAAAAAAAAAAAAAAAAAAAAAAAAAAAAAAAAAAAAAAAAAAAAAAAAAAAAAAAAAAAAAAAAAAAAAAAAAAAAAAAAAAAAAAAAAAAAAAAAAAAAAAAAAAAAAAAAAAAAAAAAAAAAAAAAAAAAAAAAAAAAAAAAAAAAAAAAAAAAAAAAAAAAAAAAAAAAAAAAAAAAAAAAAAAAAAAAAAAAAAAAAAAAAAAAAAAAAAAAAAAAAAAAAAAAAAAAAAAAAAAAAAAAAAAAAAAAAAAAA",
          "dtype": "f8"
         },
         "yaxis": "y2"
        },
        {
         "line": {
          "width": 2
         },
         "mode": "lines",
         "name": "simulator:/BNB:/total",
         "showlegend": true,
         "type": "scatter",
         "x": {
          "bdata": "AAABAAIAAwAEAAUABgAHAAgACQAKAAsADAANAA4ADwAQABEAEgATABQAFQAWABcAGAAZABoAGwAcAB0AHgAfACAAIQAiACMAJAAlACYAJwAoACkAKgArACwALQAuAC8AMAAxADIAMwA0ADUANgA3ADgAOQA6ADsAPAA9AD4APwBAAEEAQgBDAEQARQBGAEcASABJAEoASwBMAE0ATgBPAFAAUQBSAFMAVABVAFYAVwBYAFkAWgBbAFwAXQBeAF8AYABhAGIAYwBkAGUAZgBnAGgAaQBqAGsAbABtAG4AbwBwAHEAcgBzAHQAdQB2AHcAeAB5AHoAewB8AH0AfgB/AIAAgQCCAIMAhACFAIYAhwCIAIkAigCLAIwAjQCOAI8AkACRAJIAkwCUAJUAlgCXAJgAmQCaAJsAnACdAJ4AnwCgAKEAogCjAKQApQCmAKcAqACpAKoAqwCsAK0ArgCvALAAsQCyALMAtAC1ALYAtwC4ALkAugC7ALwAvQC+AL8AwADBAMIAwwDEAMUAxgDHAMgAyQDKAMsAzADNAM4AzwDQANEA0gDTANQA1QDWANcA2ADZANoA2wDcAN0A3gDfAOAA4QDiAOMA5ADlAOYA5wDoAOkA6gDrAOwA7QDuAO8A8ADxAPIA8wD0APUA9gD3APgA+QD6APsA/AD9AP4A/wAAAQEBAgEDAQQBBQEGAQcBCAEJAQoBCwEMAQ0BDgEPARABEQESARMBFAEVARYBFwEYARkBGgEbARwBHQEeAR8BIAEhASIBIwEkASUBJgEnASgBKQEqASsBLAEtAS4BLwEwATEBMgEzATQBNQE2ATcBOAE5AToBOwE8AT0BPgE/AUABQQFCAUMBRAFFAUYBRwFIAUkBSgFLAUwBTQFOAU8BUAFRAVIBUwFUAVUBVgFXAVgBWQFaAVsBXAFdAV4BXwFgAWEBYgFjAWQBZQFmAWcBaAFpAWoBawFsAW0BbgFvAXABcQFyAXMBdAF1AXYBdwF4AXkBegF7AXwBfQF+AX8BgAGBAYIBgwGEAYUBhgGHAYgBiQGKAYsBjAGNAY4BjwGQAZEBkgGTAZQBlQGWAZcBmAGZAZoBmwGcAZ0BngGfAaABoQGiAaMBpAGlAaYBpwGoAakBqgGrAawBrQGuAa8BsAGxAbIBswG0AbUBtgG3AbgBuQG6AbsBvAG9Ab4BvwHAAcEBwgHDAcQBxQHGAccByAHJAcoBywHMAc0BzgHPAdAB",
          "dtype": "i2"
         },
         "xaxis": "x2",
         "y": {
          "bdata": "AAAAAAAAAAAAAAAAAAAAAAAAAAAAAAAAAAAAAAAAAAAAAAAAAAAAAAAAAAAAAAAAAAAAAAAAAAAAAAAAAAAAAAAAAAAAAAAAAAAAAAAAAAAAAAAAAAAAAAAAAAAAAAAAAAAAAAAAAAAAAAAAAAAAAAAAAAAAAAAAAAAAAAAAAAAAAAAAAAAAAAAAAAAAAAAAAAAAAAAAAAAAAAAAAAAAAAAAAAAAAAAAAAAAAAAAAAAAAAAAAAAAAAAAAAAAAAAAAAAAAAAAAAAAAAAAAAAAAAAAAAAAAAAAAAAAAAAAAAAAAAAAAAAAAAAAAAAAAAAAAAAAAAAAAAAAAAAAAAAAAAAAAAAAAAAAAAAAAAAAAAAAAAAAAAAAAAAAAAAAAAAAAAAAAAAAAAAAAAAAAAAAAAAAAAAAAAAAAAAAAAAAAAAAAAAAAAAAAAAAAAAAAAAAAAAAAAAAAAAAAAAAAAAAAAAAAAAAAAAAAAAAAAAAAAAAAAAAAAAAAAAAAAAAAAAAAAAAAAAAAAAAAAAAAAAAAAAAAAAAAAAAAAAAAAAAAAAAAAAAAAAAAAAAAAAAAAAAAAAAAAAAAAAAAAAAAAAAAAAAAAAAAAAAAAAAAAAAAAAAAAAAAAAAAAAAAAAAAAAAAAAAAAAAAAAAAAAAAAAAAAAAAAAAAAAAAAAAAAAAAAAAAAAAAAAAAAAAAAAAAAAAAAAAAAAAAAAAAAAAAAAAAAAAAAAAAAAAAAAAAAAAAAAAAAAAAAAAAAAAAAAAAAAAAAAAAAAAAAAAAAAAAAAAAAAAAAAAAAAAAAAAAAAAAAAAAAAAAAAAAAAAAAAAAAAAAAAAAAAAAAAAAAAAAAAAAAAAAAAAAAAAAAAAAAAAAAAAAAAAAAAAAAAAAAAAAAAAAAAAAAAAAAAAAAAAAAAAAAAAAAAAAAAAAAAAAAAAAAAAAAAAAAAAAAAAAAAAAAAAAAAAAAAAAAAAAAAAAAAAAAAAAAAAAAAAAAAAAAAAAAAAAAAAAAAAAAAAAAAAAAAAAAAAAAAAAAAAAAAAAAAAAAAAAAAAAAAAAAAAAAAAAAAAAAAAAAAAAD7k86tdR4VAPuTzq11HhUA+5POrXUeFQD7k86tdR4VAPuTzq11HhUA+5POrXUeFQD7k86tdR4VAPuTzq11HhUA+5POrXUeFQD7k86tdR4VAPuTzq11HhUA+5POrXUeFQD7k86tdR4VAPuTzq11HhUAavHUfJB+CQBq8dR8kH4JAGrx1HyQfgkAavHUfJB+CQBq8dR8kH4JAGrx1HyQfgkAavHUfJB+CQBq8dR8kH4JAGrx1HyQfgkAavHUfJB+CQBq8dR8kH4JAGrx1HyQfgkAavHUfJB+CQBq8dR8kH4JAGrx1HyQfgkAavHUfJB+CQBq8dR8kH4JAGrx1HyQfgkAavHUfJB+CQBq8dR8kH4JAGrx1HyQfgkAavHUfJB+CQBq8dR8kH4JAGrx1HyQfgkAavHUfJB+CQBq8dR8kH4JAGrx1HyQfgkAavHUfJB+CQBq8dR8kH4JAGrx1HyQfgkAavHUfJB+CQBq8dR8kH4JAGrx1HyQfgkAavHUfJB+CQBq8dR8kH4JAGrx1HyQfgkAavHUfJB+CQBq8dR8kH4JAGrx1HyQfgkAavHUfJB+CQBq8dR8kH4JAGrx1HyQfgkAavHUfJB+CQBq8dR8kH4JAGrx1HyQfgkAavHUfJB+CQBq8dR8kH4JAGrx1HyQfgkAavHUfJB+CQBq8dR8kH4JAGrx1HyQfgkAavHUfJB+CQBq8dR8kH4JAGrx1HyQfgkAavHUfJB+CQBq8dR8kH4JAGrx1HyQfgkAavHUfJB+CQBq8dR8kH4JAGrx1HyQfgkAavHUfJB+CQBq8dR8kH4JAGrx1HyQfgkAavHUfJB+CQBq8dR8kH4JAGrx1HyQfgkAavHUfJB+CQBq8dR8kH4JAGrx1HyQfgkAavHUfJB+CQBq8dR8kH4JAGrx1HyQfgkAavHUfJB+CQBq8dR8kH4JAGrx1HyQfgkAavHUfJB+CQBq8dR8kH4JAGrx1HyQfgkAavHUfJB+CQBq8dR8kH4JAGrx1HyQfgkAavHUfJB+CQBq8dR8kH4JAGrx1HyQfgkAavHUfJB+CQBq8dR8kH4JAGrx1HyQfgkAavHUfJB+CQBq8dR8kH4JAGrx1HyQfgkAavHUfJB+CQBq8dR8kH4JAGrx1HyQfgkAavHUfJB+CQBq8dR8kH4JAGrx1HyQfgkAavHUfJB+CQBq8dR8kH4JAGrx1HyQfgkAavHUfJB+CQBq8dR8kH4JAGrx1HyQfgkAavHUfJB+CQBq8dR8kH4JAGrx1HyQfgkAavHUfJB+CQBq8dR8kH4JAGrx1HyQfgkAavHUfJB+CQBq8dR8kH4JAGrx1HyQfgkAavHUfJB+CQBq8dR8kH4JAGrx1HyQfgkAavHUfJB+CQBq8dR8kH4JAGrx1HyQfgkAavHUfJB+CQBq8dR8kH4JAGrx1HyQfgkAavHUfJB+CQBq8dR8kH4JAGrx1HyQfgkAavHUfJB+CQBq8dR8kH4JAGrx1HyQfgkAavHUfJB+CQBq8dR8kH4JAGrx1HyQfgkAavHUfJB+CQBq8dR8kH4JAGrx1HyQfgkAavHUfJB+CQBq8dR8kH4JAGrx1HyQfgkAavHUfJB+CQBq8dR8kH4JAGrx1HyQfgkAavHUfJB+CQBq8dR8kH4JAGrx1HyQfgkAavHUfJB+CQBq8dR8kH4JAGrx1HyQfgkAavHUfJB+CQBq8dR8kH4JAGrx1HyQfgkAavHUfJB+CQBq8dR8kH4JAGrx1HyQfgkAavHUfJB+CQBq8dR8kH4JAGrx1HyQfgkAavHUfJB+CQBq8dR8kH4JAGrx1HyQfgkAavHUfJB+CQBq8dR8kH4JAGrx1HyQfgkAavHUfJB+CQBq8dR8kH4JAGrx1HyQfgkAavHUfJB+CQBq8dR8kH4JAGrx1HyQfgkAavHUfJB+CQBq8dR8kH4JAGrx1HyQfgkAavHUfJB+CQBq8dR8kH4JAGrx1HyQfgkAavHUfJB+CQBq8dR8kH4JAGrx1HyQfgkAavHUfJB+CQBq8dR8kH4JAGrx1HyQfgkAavHUfJB+CQBq8dR8kH4JAGrx1HyQfgkAavHUfJB+CQBq8dR8kH4JAGrx1HyQfgkAavHUfJB+CQBq8dR8kH4JAGrx1HyQfgkAavHUfJB+CQBq8dR8kH4JAGrx1HyQfgkAavHUfJB+CQBq8dR8kH4JAGrx1HyQfgkAavHUfJB+CQBq8dR8kH4JAGrx1HyQfgkAavHUfJB+CQBq8dR8kH4JAGrx1HyQfgkAavHUfJB+CQBq8dR8kH4JAGrx1HyQfgkAavHUfJB+CQBq8dR8kH4JAGrx1HyQfgkAavHUfJB+CQBq8dR8kH4JAGrx1HyQfgkAavHUfJB+CQBq8dR8kH4JAGrx1HyQfgkAavHUfJB+CQBq8dR8kH4JAGrx1HyQfgkAavHUfJB+CQBq8dR8kH4JAGrx1HyQfgkAavHUfJB+CQBq8dR8kH4JAGrx1HyQfgkAavHUfJB+CQBq8dR8kH4JAGrx1HyQfgkAavHUfJB+CQBq8dR8kH4JAGrx1HyQfgkAavHUfJB+CQBq8dR8kH4JAGrx1HyQfgkAavHUfJB+CQBq8dR8kH4JAGrx1HyQfgkAavHUfJB+CQBq8dR8kH4JAGrx1HyQfgkAavHUfJB+CQBq8dR8kH4JAGrx1HyQfgkAavHUfJB+CQBq8dR8kH4JAGrx1HyQfgkAavHUfJB+CQBq8dR8kH4JAGrx1HyQfgkAavHUfJB+CQBq8dR8kH4JAGrx1HyQfgkAavHUfJB+CQBq8dR8kH4JAGrx1HyQfgkAavHUfJB+CQBq8dR8kH4JAGrx1HyQfgkAavHUfJB+CQBq8dR8kH4JAGrx1HyQfgkAavHUfJB+CQBq8dR8kH4JAGrx1HyQfgkAavHUfJB+CQBq8dR8kH4JAGrx1HyQfgkAavHUfJB+CQBq8dR8kH4JAGrx1HyQfgkAavHUfJB+CQBq8dR8kH4JAGrx1HyQfgkAavHUfJB+CQBq8dR8kH4JAGrx1HyQfgkAavHUfJB+CQBq8dR8kH4JAGrx1HyQfgkAavHUfJB+CQBq8dR8kH4JAGrx1HyQfgkAavHUfJB+CQBq8dR8kH4JAGrx1HyQfgkAavHUfJB+CQBq8dR8kH4JAGrx1HyQfgkAavHUfJB+CQBq8dR8kH4JAGrx1HyQfgkAavHUfJB+CQBq8dR8kH4JAGrx1HyQfgkAavHUfJB+CQBq8dR8kH4JAGrx1HyQfgkAavHUfJB+CQBq8dR8kH4JAGrx1HyQfgkAavHUfJB+CQBq8dR8kH4JAGrx1HyQfgkAavHUfJB+CQBq8dR8kH4JAGrx1HyQfgkAavHUfJB+CQBq8dR8kH4JAGrx1HyQfgkAavHUfJB+CQBq8dR8kH4JAGrx1HyQfgkAavHUfJB+CQBq8dR8kH4JAGrx1HyQfgkAavHUfJB+CQBq8dR8kH4JAGrx1HyQfgkAavHUfJB+CQBq8dR8kH4JAGrx1HyQfgkAavHUfJB+CQBq8dR8kH4JAGrx1HyQfgkAavHUfJB+CQBq8dR8kH4JAGrx1HyQfgkAavHUfJB+CQBq8dR8kH4JAGrx1HyQfgkAavHUfJB+CQBq8dR8kH4JAGrx1HyQfgkAavHUfJB+CQBq8dR8kH4JAGrx1HyQfgkAavHUfJB+CQBq8dR8kH4JAGrx1HyQfgkAavHUfJB+CQBq8dR8kH4JAGrx1HyQfgkAavHUfJB+CQBq8dR8kH4JAGrx1HyQfgkAavHUfJB+CQBq8dR8kH4JAGrx1HyQfgkAavHUfJB+CQBq8dR8kH4JAGrx1HyQfgkAavHUfJB+CQBq8dR8kH4JAGrx1HyQfgkAavHUfJB+CQBq8dR8kH4JA",
          "dtype": "f8"
         },
         "yaxis": "y2"
        },
        {
         "line": {
          "width": 2
         },
         "mode": "lines",
         "name": "simulator:/BNB:/worth",
         "showlegend": true,
         "type": "scatter",
         "x": {
          "bdata": "AAABAAIAAwAEAAUABgAHAAgACQAKAAsADAANAA4ADwAQABEAEgATABQAFQAWABcAGAAZABoAGwAcAB0AHgAfACAAIQAiACMAJAAlACYAJwAoACkAKgArACwALQAuAC8AMAAxADIAMwA0ADUANgA3ADgAOQA6ADsAPAA9AD4APwBAAEEAQgBDAEQARQBGAEcASABJAEoASwBMAE0ATgBPAFAAUQBSAFMAVABVAFYAVwBYAFkAWgBbAFwAXQBeAF8AYABhAGIAYwBkAGUAZgBnAGgAaQBqAGsAbABtAG4AbwBwAHEAcgBzAHQAdQB2AHcAeAB5AHoAewB8AH0AfgB/AIAAgQCCAIMAhACFAIYAhwCIAIkAigCLAIwAjQCOAI8AkACRAJIAkwCUAJUAlgCXAJgAmQCaAJsAnACdAJ4AnwCgAKEAogCjAKQApQCmAKcAqACpAKoAqwCsAK0ArgCvALAAsQCyALMAtAC1ALYAtwC4ALkAugC7ALwAvQC+AL8AwADBAMIAwwDEAMUAxgDHAMgAyQDKAMsAzADNAM4AzwDQANEA0gDTANQA1QDWANcA2ADZANoA2wDcAN0A3gDfAOAA4QDiAOMA5ADlAOYA5wDoAOkA6gDrAOwA7QDuAO8A8ADxAPIA8wD0APUA9gD3APgA+QD6APsA/AD9AP4A/wAAAQEBAgEDAQQBBQEGAQcBCAEJAQoBCwEMAQ0BDgEPARABEQESARMBFAEVARYBFwEYARkBGgEbARwBHQEeAR8BIAEhASIBIwEkASUBJgEnASgBKQEqASsBLAEtAS4BLwEwATEBMgEzATQBNQE2ATcBOAE5AToBOwE8AT0BPgE/AUABQQFCAUMBRAFFAUYBRwFIAUkBSgFLAUwBTQFOAU8BUAFRAVIBUwFUAVUBVgFXAVgBWQFaAVsBXAFdAV4BXwFgAWEBYgFjAWQBZQFmAWcBaAFpAWoBawFsAW0BbgFvAXABcQFyAXMBdAF1AXYBdwF4AXkBegF7AXwBfQF+AX8BgAGBAYIBgwGEAYUBhgGHAYgBiQGKAYsBjAGNAY4BjwGQAZEBkgGTAZQBlQGWAZcBmAGZAZoBmwGcAZ0BngGfAaABoQGiAaMBpAGlAaYBpwGoAakBqgGrAawBrQGuAa8BsAGxAbIBswG0AbUBtgG3AbgBuQG6AbsBvAG9Ab4BvwHAAcEBwgHDAcQBxQHGAccByAHJAcoBywHMAc0BzgHPAdAB",
          "dtype": "i2"
         },
         "xaxis": "x2",
         "y": {
          "bdata": "AAAAAAAAAAAAAAAAAAAAAAAAAAAAAAAAAAAAAAAAAAAAAAAAAAAAAAAAAAAAAAAAAAAAAAAAAAAAAAAAAAAAAAAAAAAAAAAAAAAAAAAAAAAAAAAAAAAAAAAAAAAAAAAAAAAAAAAAAAAAAAAAAAAAAAAAAAAAAAAAAAAAAAAAAAAAAAAAAAAAAAAAAAAAAAAAAAAAAAAAAAAAAAAAAAAAAAAAAAAAAAAAAAAAAAAAAAAAAAAAAAAAAAAAAAAAAAAAAAAAAAAAAAAAAAAAAAAAAAAAAAAAAAAAAAAAAAAAAAAAAAAAAAAAAAAAAAAAAAAAAAAAAAAAAAAAAAAAAAAAAAAAAAAAAAAAAAAAAAAAAAAAAAAAAAAAAAAAAAAAAAAAAAAAAAAAAAAAAAAAAAAAAAAAAAAAAAAAAAAAAAAAAAAAAAAAAAAAAAAAAAAAAAAAAAAAAAAAAAAAAAAAAAAAAAAAAAAAAAAAAAAAAAAAAAAAAAAAAAAAAAAAAAAAAAAAAAAAAAAAAAAAAAAAAAAAAAAAAAAAAAAAAAAAAAAAAAAAAAAAAAAAAAAAAAAAAAAAAAAAAAAAAAAAAAAAAAAAAAAAAAAAAAAAAAAAAAAAAAAAAAAAAAAAAAAAAAAAAAAAAAAAAAAAAAAAAAAAAAAAAAAAAAAAAAAAAAAAAAAAAAAAAAAAAAAAAAAAAAAAAAAAAAAAAAAAAAAAAAAAAAAAAAAAAAAAAAAAAAAAAAAAAAAAAAAAAAAAAAAAAAAAAAAAAAAAAAAAAAAAAAAAAAAAAAAAAAAAAAAAAAAAAAAAAAAAAAAAAAAAAAAAAAAAAAAAAAAAAAAAAAAAAAAAAAAAAAAAAAAAAAAAAAAAAAAAAAAAAAAAAAAAAAAAAAAAAAAAAAAAAAAAAAAAAAAAAAAAAAAAAAAAAAAAAAAAAAAAAAAAAAAAAAAAAAAAAAAAAAAAAAAAAAAAAAAAAAAAAAAAAAAAAAAAAAAAAAAAAAAAAAAAAAAAAAAAAAAAAAAAAAAAAAAAAAAAAAAAAAAAAAAAAAAAAAAAAAAAAAAAAAAAAAAAAAAAAAAAAGrNsh6OYQRBUY/Nv7R0BEHtjWYIE4UFQSpC7NNCVgVB0YESZlqaBUGrPQO2JLgFQTHMJeOI2QZBck4a8peoBkH1F6AXWQgHQR8hTM8xrAdBzsq+K+fpB0EngsZdk2kIQezEblYnXAlBOxv8+XEeCUGygr4wXyoFQTAYy9ieMQVBwo07wXlLBEFEFjT4otoEQXtqfvPpmAVBsoK+MF8qBUGjWTzB23IFQXtqfvPpmAVBjmjnEu5BBUEzC7dniLkFQfzUcUuqkQVBT6bZdXfNBUE34J0XCasFQasU+44vdAZBUnvAJfi+BUFAfVcG9BUGQezJ9LqPcAZBM0fBJVrmBkGx+tKsAoQHQfhZmjhkYwdBQo5IdEY0B0Ewctp12fQGQa4l7PyBkgdBwCNVHIY7B0GWBaEB2awFQRhwlFmZpQVBRSclZvX4BUF+XWqC0yAGQSWmKjoz1QRBPWxmmKH3BEFqXwFjz3cGQd1kaI06jAVB/PJ2KhMoBkEOD+UogGcGQWLCR3TkDAZB8nPCGpFTBkFiwkd05AwGQb4SZK4zHQZBbhbjM+fSBUEGVCZbLGYFQWV5KUX8ZwVB7Kvv2ybaBUGdr25h2o8FQakDCiHdVQVBhOkyA2xtBUGvrdeA3jgFQZP0r5OGjgRBl8mWQweABEE6eXoJuG8EQd4oXs9oXwRBeFmNhZd6BEFBI0hpuVIEQeiJDQCCnQNBBvoWvvGiA0HM7urxkokDQf2YZ43YZARB74DWi6fLBUHNO+Ydt9QFQfYqpOuorgVBO+R6FEVRB0G2wqXrbP0HQTY6rbRDbgdBf4xgz47VB0HQatxqcokHQegwGMngqwdBPcZ1Ndy6BkE75HoURVEHQfk7lVn7zAZBF6yeF2vSBkE/uWHExUIHQQZyKzqV/AVBuz19/rIrBkGZ+IyQwjQGQa7p4T6wZQZBjKTx0L9uBkEUubKIgUoGQZn4jJDCNAZBTNHyxfbbBUHFvDEONQAGQVhDk2RiOAZBX+1gxGMbBkHnASJ8JfcFQaZMKFDF+gVBPahwVnMkBkGG+iNxvosGQbiGmy2b0AZBwAVQPR2lBkGuB+cdGfwGQV0pa4I1SAdBriXs/IGSB0GUm7pc5ZwIQdNdyPlbEQhBZ+QpUIlJCEEXrJ4Xa9IGQQhlF8l+hAZBnOt4H6y8BkGx+tKsAoQHQRfKo/bTaAdB9YSziONxB0HYB5ZZXfQHQbikoAwEZwdB1hSqynNsB0FxJ9ShOfEGQTnxjoVbyQZBfLd5Hw7kB0Hfk17a9UAHQbtbgt0bwgZBKcgMFtgRB0FSt8rjyesGQWeoH5K3HAdBOfGOhVvJBkHdoHJLDLkGQfkdkHqSNgZBoKJa8MMXBkHX2J8Moj8GQXHryeNnxAVBLWHpB4fWBUFlly4kZf4FQaCiWvDDFwZBeoiD0lIvBkECnUSKFAsGQdfYnwyiPwZBKowCWAblBUGr9vWvxt0FQQZyKzqV/AVBVVCn1XiwBUELHPmZlt8FQdqthrwiMQZB17qaLTmpBUE9imt3Co4FQdTls324twVBEcbG+ZfCBUEYjpk4AjwGQcLnSl60DgZBYsJHdOQMBkHU5bN9uLcFQbsfeB9KlQVBUnvAJfi+BUEVm62pGLQFQRtFewkalwVBKD8HLOKZA0E4ho56zucDQW2N3UnxWgJBg34y+N6LAkHoTQNCsHACQX16Vfui5QBBKqnt0NWpAEHbrGxWiV8AQQiCAkJOSQFBgU88qyPXAEHnHg319LsAQbtaaHeC8ABBJ/ILAL5OAUGoXP9XfkcBQezm3zNfNQFBGp5wQLuIAUE2OZNOqpwBQVWLly2xCwFBaKcFLB5LAUHnHg319LsAQd2fWOVy5wBBx64DN4W2AEECui8D5M8AQT2nVvDZUgBBk02lyieAAEF30IeboQIBQdrodhRbjAFBn91KSPxyAUGf3UpI/HIBQa8Gzbd/KgFBPcVbz0LpAEE3/YiQ2G8AQenz86R1rQBBh/kJCyW6AEFPw8TuRpIAQYBtQYqMbQFBd+6MegqZAUHpEfmD3kMBQXrheAn0IAJBmTN96PqPAUHNlNtUWMYBQfC7xuPfJgFBqFz/V35HAUEXq4Sx0QABQVWLly2xCwFBznbWde8vAUEqx/KvPkABQXT7oOsgEQFBrwbNt38qAUE9xVvPQukAQcEENteD0wBBnOpeuRLrAEGWQJFZEQgBQXEmujugHwFBT+HJza8oAUGvBs23fyoBQRTWnQFRDwFBGp5wQLuIAUH1ZZRD4QkBQXT7oOsgEQFBstuzZwAcAUFMDOMdLzcBQUwM4x0vNwFBMHHAD0AjAUHE9yFmbVsBQYrs9ZkOQgFB85Ctk2AYAUE58HQfwvcAQXfQh5uhAgFBF6uEsdEAAUHX9YqFcQQBQQWPFrNkwQBBeLKCvDhsAEEbz5pZqeD+QCv4HMksmP5AZgNJlYux/kAoIzYZrKb+QJhTtpOWyf1AVMnVt7Xb/UDnbTztS6r+QNRv081HAf9AWa+t1Yjr/kAoIzYZrKb+QFmvrdWI6/5AVtrGJQj6/kBsQOIdzQ8AQbBzAY8/r/9AprhCweut/kA99oXoMEH+QHkBsrSPWv5AeQGytI9a/kByV+RUjnf+QPeWvlzPYf5AclfkVI53/kCj41sRa7z+QLbhxDBvZf5AOiGfOLBP/kCIKjQkExL+QHnFp/a9Lf1A1TPJD3bU/UBHdTr4shX+QAmVJ3zTCv5AOiGfOLBP/kA1d9HYrmz+QCgjNhmspv5AbK0W9YyU/kBiLmLlCsD+QHkBsrSPWv5AlX7P4xXY/UDSXuJf9eL9QFeevGc2zf1A6DEyL3p9/UDc3ZZvd7f9QAbAQMxSGf5Ai/8a1JMD/kD0wdesTnD+QHJX5FSOd/5A95a+XM9h/kDaGaEtSeT+QPeWvlzPYf5Av2B5QPE5/kAAFnNsUTb+QBbpwjvW0P1AABZzbFE2/kDJ3y1Qcw7+QBA/9dvU7f1APOWUet4i/UAlEkWrWYj9QDU7xxrdP/1AAdporn8J/UB5xaf2vS39QHbwwEY9PP1AXUiKxzew/UD3lr5cz2H+QBA/9dvU7f1AGb6p61bC/UCRqegzleb9QEpKIagzB/5A+WulDFBT/kDe7ofdydX+QGWWFL7LLABBJIpZJ/3h/0D8fJZ6onH/QDOz25aAmf9A7FMUCx+6/0Dg/3hLHPT/QCuL6PFsEwBBh9sELLwjAEHOOsy3HQMAQSi2AULsIQBBGI1/0mhqAEG+EUpImksAQYQkI1ukyABBSTf8ba5FAUG9a1nl1A4CQYBtQYqMbQFBXihRHJx2AUGrT+vmZ88BQW1v2GqIxAFBTCro/JfNAUH8LWeCS4MBQXT7oOsgEQFB8LvG498mAUGDYC0ZdvUBQW5R04sfLgFBpYcYqP1VAUFGYhW+LVQBQUC4R14scQFBRYAanZbqAUFiamyj3Oz/QMeuAzeFtgBBMVO7MNeMAEEVuJgi6HgAQW4zzqy2lwBBWUJ5/shmAEGKsOvbPBUAQYExN8y6QABB6tXuxQwXAEEJRviDfBwAQWWWFL7LLABBQ1EkUNs1AEHnAAgWjCUAQRLjsXJnhwBBeodpbLldAEHC5jD4Gj0AQbWSlTgYdwBBPcVbz0LpAEHBBDbXg9MAQZkVeAmS+QBBQLhHXixxAUHfsElTxQUCQSrl946n1gFBBcsgcTbuAUGlhxio/VUBQcfMCBbuTAFB3Z9Y5XLnAEGy27NnABwBQYY1FMn25gFBKQP9bRBtAkE8PXBL5kIDQYDHUCfHMANBIKJNPfcuA0HZJIHSLLkCQc+lzMKq5AJB15yVTtASBUFxJ9ShOfEGQdf2pOsK1gZBmfiMkMI0BkFM7/ekX3IGQYEyUTJUEgZB",
          "dtype": "f8"
         },
         "yaxis": "y2"
        },
        {
         "line": {
          "width": 2
         },
         "mode": "lines",
         "name": "simulator:/ADA:/free",
         "showlegend": true,
         "type": "scatter",
         "x": {
          "bdata": "AAABAAIAAwAEAAUABgAHAAgACQAKAAsADAANAA4ADwAQABEAEgATABQAFQAWABcAGAAZABoAGwAcAB0AHgAfACAAIQAiACMAJAAlACYAJwAoACkAKgArACwALQAuAC8AMAAxADIAMwA0ADUANgA3ADgAOQA6ADsAPAA9AD4APwBAAEEAQgBDAEQARQBGAEcASABJAEoASwBMAE0ATgBPAFAAUQBSAFMAVABVAFYAVwBYAFkAWgBbAFwAXQBeAF8AYABhAGIAYwBkAGUAZgBnAGgAaQBqAGsAbABtAG4AbwBwAHEAcgBzAHQAdQB2AHcAeAB5AHoAewB8AH0AfgB/AIAAgQCCAIMAhACFAIYAhwCIAIkAigCLAIwAjQCOAI8AkACRAJIAkwCUAJUAlgCXAJgAmQCaAJsAnACdAJ4AnwCgAKEAogCjAKQApQCmAKcAqACpAKoAqwCsAK0ArgCvALAAsQCyALMAtAC1ALYAtwC4ALkAugC7ALwAvQC+AL8AwADBAMIAwwDEAMUAxgDHAMgAyQDKAMsAzADNAM4AzwDQANEA0gDTANQA1QDWANcA2ADZANoA2wDcAN0A3gDfAOAA4QDiAOMA5ADlAOYA5wDoAOkA6gDrAOwA7QDuAO8A8ADxAPIA8wD0APUA9gD3APgA+QD6APsA/AD9AP4A/wAAAQEBAgEDAQQBBQEGAQcBCAEJAQoBCwEMAQ0BDgEPARABEQESARMBFAEVARYBFwEYARkBGgEbARwBHQEeAR8BIAEhASIBIwEkASUBJgEnASgBKQEqASsBLAEtAS4BLwEwATEBMgEzATQBNQE2ATcBOAE5AToBOwE8AT0BPgE/AUABQQFCAUMBRAFFAUYBRwFIAUkBSgFLAUwBTQFOAU8BUAFRAVIBUwFUAVUBVgFXAVgBWQFaAVsBXAFdAV4BXwFgAWEBYgFjAWQBZQFmAWcBaAFpAWoBawFsAW0BbgFvAXABcQFyAXMBdAF1AXYBdwF4AXkBegF7AXwBfQF+AX8BgAGBAYIBgwGEAYUBhgGHAYgBiQGKAYsBjAGNAY4BjwGQAZEBkgGTAZQBlQGWAZcBmAGZAZoBmwGcAZ0BngGfAaABoQGiAaMBpAGlAaYBpwGoAakBqgGrAawBrQGuAa8BsAGxAbIBswG0AbUBtgG3AbgBuQG6AbsBvAG9Ab4BvwHAAcEBwgHDAcQBxQHGAccByAHJAcoBywHMAc0BzgHPAdAB",
          "dtype": "i2"
         },
         "xaxis": "x2",
         "y": {
          "bdata": "AAAAAAAAAAAAAAAAAAAAAAAAAAAAAAAAAAAAAAAAAAAAAAAAAAAAAAAAAAAAAAAAAAAAAAAAAAAAAAAAAAAAAAAAAAAAAAAAAAAAAAAAAAAAAAAAAAAAAAAAAAAAAAAAAAAAAAAAAAAAAAAAAAAAAAAAAAAAAAAAAAAAAAAAAAAAAAAAAAAAAAAAAAAAAAAAAAAAAAAAAAAAAAAAAAAAAAAAAAAAAAAAAAAAAAAAAAAAAAAAAAAAAAAAAAAAAAAAAAAAAAAAAAAAAAAAAAAAAAAAAAAAAAAAAAAAAAAAAAAAAAAAAAAAAAAAAAAAAAAAAAAAAAAAAAAAAAAAAAAAAAAAAAAAAAAAAAAAAAAAAAAAAAAAAAAAAAAAAAAAAAAAAAAAAAAAAAAAAAAAAAAAAAAAAAAAAAAAAAAAAAAAAAAAAAAAAAAAAAAAAAAAAAAAAAAAAAAAAAAAAAAAAAAAAAAAAAAAAAAAAAAAAAAAAAAAAAAAAAAAAAAAAAAAAAAAAAAAAAAAAAAAAAAAAAAAAAAAAAAAAAAAAAAAAAAAAAAAAAAAAAAAAAAAAAAAAAAAAAAAAAAAAAAAAAAAAAAAAAAAAAAAAAAAAAAAAAAAAAAAAAAAAAAAAAAAAAAAAAAAAAAAAAAAAAAAAAAAAAAAAAAAAAAAAAAAAAAAAAAAAAAAAAAAAAAAAAAAAAAAAAAAAAAAAAAAAAAAAAAAAAAAAAAAAAAAAAAAAAAAAAAAAAAAAAAAAAAAAAAAAAAAAAAAAAAAAAAAAAAAAAAAAAAAAAAAAAAAAAAAAAAAAAAAAAAAAAAAAAAAAAAAAAAAAAAAAAAAAAAAAAAAAAAAAAAAAAAAAAAAAAAAAAAAAAAAAAAAAAAAAAAAAAAAAAAAAAAAAAAAAAAAAAAAAAAAAAAAAAAAAAAAAAAAAAAAAAAAAAAAAAAAAAAAAAAAAAAAAAAAAAAAAAAAAAAAAAAAAAAAAAAAAAAAAAAAAAAAAAAAAAAAAAAAAAAAAAAAAAAAAAAAAAAAAAAAAAAAAAAAAAAAAAAAAAAAAAAAAAAAAAAAAAAAAAAAAAAAAGRpVBidUiRBZGlUGJ1SJEFkaVQYnVIkQWRpVBidUiRBZGlUGJ1SJEFkaVQYnVIkQWRpVBidUiRBZGlUGJ1SJEFkaVQYnVIkQWRpVBidUiRBZGlUGJ1SJEFkaVQYnVIkQWRpVBidUiRBZGlUGJ1SJEGfo35s5FMjQZ+jfmzkUyNBn6N+bORTI0Gfo35s5FMjQZ+jfmzkUyNBn6N+bORTI0Gfo35s5FMjQZ+jfmzkUyNBn6N+bORTI0Gfo35s5FMjQZ+jfmzkUyNBn6N+bORTI0Gfo35s5FMjQZ+jfmzkUyNBn6N+bORTI0Gfo35s5FMjQZ+jfmzkUyNBn6N+bORTI0Gfo35s5FMjQZ+jfmzkUyNBn6N+bORTI0Gfo35s5FMjQZ+jfmzkUyNBn6N+bORTI0Gfo35s5FMjQZ+jfmzkUyNBn6N+bORTI0Gfo35s5FMjQZ+jfmzkUyNBn6N+bORTI0Gfo35s5FMjQZ+jfmzkUyNBn6N+bORTI0Gfo35s5FMjQZ+jfmzkUyNBn6N+bORTI0Gfo35s5FMjQZ+jfmzkUyNBn6N+bORTI0Gfo35s5FMjQZ+jfmzkUyNBn6N+bORTI0Gfo35s5FMjQZ+jfmzkUyNBn6N+bORTI0Gfo35s5FMjQZ+jfmzkUyNBn6N+bORTI0Gfo35s5FMjQZ+jfmzkUyNBn6N+bORTI0Gfo35s5FMjQZ+jfmzkUyNBn6N+bORTI0Gfo35s5FMjQZ+jfmzkUyNBn6N+bORTI0Gfo35s5FMjQZ+jfmzkUyNBn6N+bORTI0Gfo35s5FMjQZ+jfmzkUyNBn6N+bORTI0Gfo35s5FMjQZ+jfmzkUyNBn6N+bORTI0Gfo35s5FMjQZ+jfmzkUyNBn6N+bORTI0Gfo35s5FMjQZ+jfmzkUyNBn6N+bORTI0Gfo35s5FMjQZ+jfmzkUyNBn6N+bORTI0Gfo35s5FMjQZ+jfmzkUyNBn6N+bORTI0Gfo35s5FMjQZ+jfmzkUyNBn6N+bORTI0Gfo35s5FMjQZ+jfmzkUyNBn6N+bORTI0Gfo35s5FMjQZ+jfmzkUyNBn6N+bORTI0Gfo35s5FMjQZ+jfmzkUyNBn6N+bORTI0Gfo35s5FMjQZ+jfmzkUyNBn6N+bORTI0Gfo35s5FMjQZ+jfmzkUyNBn6N+bORTI0Gfo35s5FMjQZ+jfmzkUyNBn6N+bORTI0Gfo35s5FMjQZ+jfmzkUyNBn6N+bORTI0Gfo35s5FMjQZ+jfmzkUyNBn6N+bORTI0Gfo35s5FMjQZ+jfmzkUyNBn6N+bORTI0Gfo35s5FMjQZ+jfmzkUyNBn6N+bORTI0Gfo35s5FMjQZ+jfmzkUyNBn6N+bORTI0Gfo35s5FMjQZ+jfmzkUyNBn6N+bORTI0Gfo35s5FMjQZ+jfmzkUyNBn6N+bORTI0Gfo35s5FMjQZ+jfmzkUyNBn6N+bORTI0Gfo35s5FMjQZ+jfmzkUyNBn6N+bORTI0Gfo35s5FMjQZ+jfmzkUyNBn6N+bORTI0Gfo35s5FMjQZ+jfmzkUyNBn6N+bORTI0Gfo35s5FMjQZ+jfmzkUyNBn6N+bORTI0Gfo35s5FMjQZ+jfmzkUyNBn6N+bORTI0Gfo35s5FMjQZ+jfmzkUyNBn6N+bORTI0Gfo35s5FMjQZ+jfmzkUyNBn6N+bORTI0Gfo35s5FMjQZ+jfmzkUyNBn6N+bORTI0Gfo35s5FMjQZ+jfmzkUyNBn6N+bORTI0Gfo35s5FMjQZ+jfmzkUyNBn6N+bORTI0Gfo35s5FMjQZ+jfmzkUyNBn6N+bORTI0Gfo35s5FMjQZ+jfmzkUyNBn6N+bORTI0Gfo35s5FMjQZ+jfmzkUyNBn6N+bORTI0Gfo35s5FMjQZ+jfmzkUyNBn6N+bORTI0Gfo35s5FMjQZ+jfmzkUyNBn6N+bORTI0Gfo35s5FMjQZ+jfmzkUyNBn6N+bORTI0Gfo35s5FMjQZ+jfmzkUyNBn6N+bORTI0Gfo35s5FMjQZ+jfmzkUyNBn6N+bORTI0Gfo35s5FMjQZ+jfmzkUyNBn6N+bORTI0Gfo35s5FMjQZ+jfmzkUyNBn6N+bORTI0Gfo35s5FMjQZ+jfmzkUyNBn6N+bORTI0Gfo35s5FMjQZ+jfmzkUyNBn6N+bORTI0Gfo35s5FMjQZ+jfmzkUyNBn6N+bORTI0Gfo35s5FMjQZ+jfmzkUyNBn6N+bORTI0Gfo35s5FMjQZ+jfmzkUyNBn6N+bORTI0Gfo35s5FMjQZ+jfmzkUyNBn6N+bORTI0Gfo35s5FMjQZ+jfmzkUyNBn6N+bORTI0Gfo35s5FMjQZ+jfmzkUyNBn6N+bORTI0Gfo35s5FMjQZ+jfmzkUyNBn6N+bORTI0Gfo35s5FMjQZ+jfmzkUyNBn6N+bORTI0Gfo35s5FMjQZ+jfmzkUyNBn6N+bORTI0Gfo35s5FMjQZ+jfmzkUyNBn6N+bORTI0Gfo35s5FMjQZ+jfmzkUyNBn6N+bORTI0Gfo35s5FMjQZ+jfmzkUyNBn6N+bORTI0Gfo35s5FMjQZ+jfmzkUyNBn6N+bORTI0Gfo35s5FMjQZ+jfmzkUyNBn6N+bORTI0Gfo35s5FMjQZ+jfmzkUyNBn6N+bORTI0Gfo35s5FMjQZ+jfmzkUyNBn6N+bORTI0Gfo35s5FMjQZ+jfmzkUyNBn6N+bORTI0Gfo35s5FMjQZ+jfmzkUyNBn6N+bORTI0Gfo35s5FMjQZ+jfmzkUyNBn6N+bORTI0Gfo35s5FMjQZ+jfmzkUyNBn6N+bORTI0Gfo35s5FMjQZ+jfmzkUyNBn6N+bORTI0Gfo35s5FMjQZ+jfmzkUyNBn6N+bORTI0Gfo35s5FMjQZ+jfmzkUyNBn6N+bORTI0Gfo35s5FMjQZ+jfmzkUyNBn6N+bORTI0Gfo35s5FMjQZ+jfmzkUyNBn6N+bORTI0Gfo35s5FMjQZ+jfmzkUyNBn6N+bORTI0Gfo35s5FMjQZ+jfmzkUyNBn6N+bORTI0Gfo35s5FMjQZ+jfmzkUyNBn6N+bORTI0Gfo35s5FMjQZ+jfmzkUyNBn6N+bORTI0Gfo35s5FMjQZ+jfmzkUyNBn6N+bORTI0Gfo35s5FMjQZ+jfmzkUyNBn6N+bORTI0Gfo35s5FMjQZ+jfmzkUyNBn6N+bORTI0Gfo35s5FMjQZ+jfmzkUyNBn6N+bORTI0Gfo35s5FMjQZ+jfmzkUyNBn6N+bORTI0Gfo35s5FMjQZ+jfmzkUyNBn6N+bORTI0Gfo35s5FMjQZ+jfmzkUyNBn6N+bORTI0Gfo35s5FMjQZ+jfmzkUyNBn6N+bORTI0Gfo35s5FMjQZ+jfmzkUyNBn6N+bORTI0Gfo35s5FMjQZ+jfmzkUyNBn6N+bORTI0Gfo35s5FMjQZ+jfmzkUyNBn6N+bORTI0Gfo35s5FMjQZ+jfmzkUyNBn6N+bORTI0Gfo35s5FMjQZ+jfmzkUyNBn6N+bORTI0Gfo35s5FMjQZ+jfmzkUyNBn6N+bORTI0Gfo35s5FMjQZ+jfmzkUyNBn6N+bORTI0Gfo35s5FMjQZ+jfmzkUyNBn6N+bORTI0Gfo35s5FMjQZ+jfmzkUyNBn6N+bORTI0Gfo35s5FMjQZ+jfmzkUyNBn6N+bORTI0Gfo35s5FMjQZ+jfmzkUyNBn6N+bORTI0Gfo35s5FMjQZ+jfmzkUyNBn6N+bORTI0Gfo35s5FMjQZ+jfmzkUyNBn6N+bORTI0Gfo35s5FMjQZ+jfmzkUyNBn6N+bORTI0Gfo35s5FMjQZ+jfmzkUyNBn6N+bORTI0Gfo35s5FMjQZ+jfmzkUyNBn6N+bORTI0Gfo35s5FMjQZ+jfmzkUyNB",
          "dtype": "f8"
         },
         "yaxis": "y2"
        },
        {
         "line": {
          "width": 2
         },
         "mode": "lines",
         "name": "simulator:/ADA:/locked",
         "showlegend": true,
         "type": "scatter",
         "x": {
          "bdata": "AAABAAIAAwAEAAUABgAHAAgACQAKAAsADAANAA4ADwAQABEAEgATABQAFQAWABcAGAAZABoAGwAcAB0AHgAfACAAIQAiACMAJAAlACYAJwAoACkAKgArACwALQAuAC8AMAAxADIAMwA0ADUANgA3ADgAOQA6ADsAPAA9AD4APwBAAEEAQgBDAEQARQBGAEcASABJAEoASwBMAE0ATgBPAFAAUQBSAFMAVABVAFYAVwBYAFkAWgBbAFwAXQBeAF8AYABhAGIAYwBkAGUAZgBnAGgAaQBqAGsAbABtAG4AbwBwAHEAcgBzAHQAdQB2AHcAeAB5AHoAewB8AH0AfgB/AIAAgQCCAIMAhACFAIYAhwCIAIkAigCLAIwAjQCOAI8AkACRAJIAkwCUAJUAlgCXAJgAmQCaAJsAnACdAJ4AnwCgAKEAogCjAKQApQCmAKcAqACpAKoAqwCsAK0ArgCvALAAsQCyALMAtAC1ALYAtwC4ALkAugC7ALwAvQC+AL8AwADBAMIAwwDEAMUAxgDHAMgAyQDKAMsAzADNAM4AzwDQANEA0gDTANQA1QDWANcA2ADZANoA2wDcAN0A3gDfAOAA4QDiAOMA5ADlAOYA5wDoAOkA6gDrAOwA7QDuAO8A8ADxAPIA8wD0APUA9gD3APgA+QD6APsA/AD9AP4A/wAAAQEBAgEDAQQBBQEGAQcBCAEJAQoBCwEMAQ0BDgEPARABEQESARMBFAEVARYBFwEYARkBGgEbARwBHQEeAR8BIAEhASIBIwEkASUBJgEnASgBKQEqASsBLAEtAS4BLwEwATEBMgEzATQBNQE2ATcBOAE5AToBOwE8AT0BPgE/AUABQQFCAUMBRAFFAUYBRwFIAUkBSgFLAUwBTQFOAU8BUAFRAVIBUwFUAVUBVgFXAVgBWQFaAVsBXAFdAV4BXwFgAWEBYgFjAWQBZQFmAWcBaAFpAWoBawFsAW0BbgFvAXABcQFyAXMBdAF1AXYBdwF4AXkBegF7AXwBfQF+AX8BgAGBAYIBgwGEAYUBhgGHAYgBiQGKAYsBjAGNAY4BjwGQAZEBkgGTAZQBlQGWAZcBmAGZAZoBmwGcAZ0BngGfAaABoQGiAaMBpAGlAaYBpwGoAakBqgGrAawBrQGuAa8BsAGxAbIBswG0AbUBtgG3AbgBuQG6AbsBvAG9Ab4BvwHAAcEBwgHDAcQBxQHGAccByAHJAcoBywHMAc0BzgHPAdAB",
          "dtype": "i2"
         },
         "xaxis": "x2",
         "y": {
          "bdata": "AAAAAAAAAAAAAAAAAAAAAAAAAAAAAAAAAAAAAAAAAAAAAAAAAAAAAAAAAAAAAAAAAAAAAAAAAAAAAAAAAAAAAAAAAAAAAAAAAAAAAAAAAAAAAAAAAAAAAAAAAAAAAAAAAAAAAAAAAAAAAAAAAAAAAAAAAAAAAAAAAAAAAAAAAAAAAAAAAAAAAAAAAAAAAAAAAAAAAAAAAAAAAAAAAAAAAAAAAAAAAAAAAAAAAAAAAAAAAAAAAAAAAAAAAAAAAAAAAAAAAAAAAAAAAAAAAAAAAAAAAAAAAAAAAAAAAAAAAAAAAAAAAAAAAAAAAAAAAAAAAAAAAAAAAAAAAAAAAAAAAAAAAAAAAAAAAAAAAAAAAAAAAAAAAAAAAAAAAAAAAAAAAAAAAAAAAAAAAAAAAAAAAAAAAAAAAAAAAAAAAAAAAAAAAAAAAAAAAAAAAAAAAAAAAAAAAAAAAAAAAAAAAAAAAAAAAAAAAAAAAAAAAAAAAAAAAAAAAAAAAAAAAAAAAAAAAAAAAAAAAAAAAAAAAAAAAAAAAAAAAAAAAAAAAAAAAAAAAAAAAAAAAAAAAAAAAAAAAAAAAAAAAAAAAAAAAAAAAAAAAAAAAAAAAAAAAAAAAAAAAAAAAAAAAAAAAAAAAAAAAAAAAAAAAAAAAAAAAAAAAAAAAAAAAAAAAAAAAAAAAAAAAAAAAAAAAAAAAAAAAAAAAAAAAAAAAAAAAAAAAAAAAAAAAAAAAAAAAAAAAAAAAAAAAAAAAAAAAAAAAAAAAAAAAAAAAAAAAAAAAAAAAAAAAAAAAAAAAAAAAAAAAAAAAAAAAAAAAAAAAAAAAAAAAAAAAAAAAAAAAAAAAAAAAAAAAAAAAAAAAAAAAAAAAAAAAAAAAAAAAAAAAAAAAAAAAAAAAAAAAAAAAAAAAAAAAAAAAAAAAAAAAAAAAAAAAAAAAAAAAAAAAAAAAAAAAAAAAAAAAAAAAAAAAAAAAAAAAAAAAAAAAAAAAAAAAAAAAAAAAAAAAAAAAAAAAAAAAAAAAAAAAAAAAAAAAAAAAAAAAAAAAAAAAAAAAAAAAAAAAAAAAAAAAAAAAAAAAAAAAAAAAAAAAAAAAAAAAAAAAAAAAAAAAAAAAAAAAAAAAAAAAAAAAAAAAAAAAAAAAAAAAAAAAAAAAAAAAAAAAAAAAAAAAAAAAAAAAAAAAAAAAAAAAAAAAAAAAAAAAAAAAAAAAAAAAAAAAAAAAAAAAAAAAAAAAAAAAAAAAAAAAAAAAAAAAAAAAAAAAAAAAAAAAAAAAAAAAAAAAAAAAAAAAAAAAAAAAAAAAAAAAAAAAAAAAAAAAAAAAAAAAAAAAAAAAAAAAAAAAAAAAAAAAAAAAAAAAAAAAAAAAAAAAAAAAAAAAAAAAAAAAAAAAAAAAAAAAAAAAAAAAAAAAAAAAAAAAAAAAAAAAAAAAAAAAAAAAAAAAAAAAAAAAAAAAAAAAAAAAAAAAAAAAAAAAAAAAAAAAAAAAAAAAAAAAAAAAAAAAAAAAAAAAAAAAAAAAAAAAAAAAAAAAAAAAAAAAAAAAAAAAAAAAAAAAAAAAAAAAAAAAAAAAAAAAAAAAAAAAAAAAAAAAAAAAAAAAAAAAAAAAAAAAAAAAAAAAAAAAAAAAAAAAAAAAAAAAAAAAAAAAAAAAAAAAAAAAAAAAAAAAAAAAAAAAAAAAAAAAAAAAAAAAAAAAAAAAAAAAAAAAAAAAAAAAAAAAAAAAAAAAAAAAAAAAAAAAAAAAAAAAAAAAAAAAAAAAAAAAAAAAAAAAAAAAAAAAAAAAAAAAAAAAAAAAAAAAAAAAAAAAAAAAAAAAAAAAAAAAAAAAAAAAAAAAAAAAAAAAAAAAAAAAAAAAAAAAAAAAAAAAAAAAAAAAAAAAAAAAAAAAAAAAAAAAAAAAAAAAAAAAAAAAAAAAAAAAAAAAAAAAAAAAAAAAAAAAAAAAAAAAAAAAAAAAAAAAAAAAAAAAAAAAAAAAAAAAAAAAAAAAAAAAAAAAAAAAAAAAAAAAAAAAAAAAAAAAAAAAAAAAAAAAAAAAAAAAAAAAAAAAAAAAAAAAAAAAAAAAAAAAAAAAAAAAAAAAAAAAAAAAAAAAAAAAAAAAAAAAAAAAAAAAAAAAAAAAAAAAAAAAAAAAAAAAAAAAAAAAAAAAAAAAAAAAAAAAAAAAAAAAAAAAAAAAAAAAAAAAAAAAAAAAAAAAAAAAAAAAAAAAAAAAAAAAAAAAAAAAAAAAAAAAAAAAAAAAAAAAAAAAAAAAAAAAAAAAAAAAAAAAAAAAAAAAAAAAAAAAAAAAAAAAAAAAAAAAAAAAAAAAAAAAAAAAAAAAAAAAAAAAAAAAAAAAAAAAAAAAAAAAAAAAAAAAAAAAAAAAAAAAAAAAAAAAAAAAAAAAAAAAAAAAAAAAAAAAAAAAAAAAAAAAAAAAAAAAAAAAAAAAAAAAAAAAAAAAAAAAAAAAAAAAAAAAAAAAAAAAAAAAAAAAAAAAAAAAAAAAAAAAAAAAAAAAAAAAAAAAAAAAAAAAAAAAAAAAAAAAAAAAAAAAAAAAAAAAAAAAAAAAAAAAAAAAAAAAAAAAAAAAAAAAAAAAAAAAAAAAAAAAAAAAAAAAAAAAAAAAAAAAAAAAAAAAAAAAAAAAAAAAAAAAAAAAAAAAAAAAAAAAAAAAAAAAAAAAAAAAAAAAAAAAAAAAAAAAAAAAAAAAAAAAAAAAAAAAAAAAAAAAAAAAAAAAAAAAAAAAAAAAAAAAAAAAAAAAAAAAAAAAAAAAAAAAAAAAAAAAAAAAAAAAAAAAAAAAAAAAAAAAAAAAAAAAAAAAAAAAAAAAAAAAAAAAAAAAAAAAAAAAAAAAAAAAAAAAAAAAAAAAAAAAAAAAAAAAAAAAAAAAAAAAAAAAAAAAAAAAAAAAAAAAAAAAAAAAAAAAAAAAAAAAAAAAAAAAAAAAAAAAAAAAAAAAAAAAAAAAAAAAAAAAAAAAAAAAAAAAAAAAAAAAAAAAAAAAAAAAAAAAAAAAAAAAAAAAAAAAAAAAAAAAAAAAAAAAAAAAAAAAAAAAAAAAAAAAAAAAAAAAAAAAAAAAAAAAAAAAAAAAAAAAAAAAAAAAAAAAAAAAAAAAAAAAAAAAAAAAAAAAAAAAAAAAAAAAAAAAAAAAAAAAAAAAAAAAAAAAAAAAAAAAAAAAAAAAAAAAAAAAAAAAAAAAAAAAAAAAAAAAAAAAAAAAAAAAAAAAAAAAAAAAAAAAAAAAAAAAAAAAAAAAAAAAAAAAAAAAAAAAAAAAAAAAAAAAAAAAAAAAAAAAAAAAAAAAAAAAAAAAAAAAAAAAAAAAAAAAAAAAAAAAAAAAAAAAAAAAAAAAAAAAAAAAAAAAAAAAAAAAAAAAAAAAAAAAAAAAAAAAAAAAAAAAAAAAAAAAAAAAAAAAAAAAAAAAAAAAAAAAAAAAAAAAAAAAAAAAAAAAAAAAAAAAAAAAAAAAAAAAAAAAAAAAAAAAAAAAAAAAAAAAAAAAAAAAAAAAAAAAAAAAAAAAAAAAAAAAAAAAAAAAAAAAAAAAAAAAAAAAAAAAAAAAAAAAAAAAAAAAAAAAAAAAAAAAAAAAAAAAAAAAAAAAAAAAAAAAAAAAAAAAAAAAAAAAAAAAAAAAAAAAAAAAAAAAAAAAAAAAAAAAAAAAAAAAAAAAAAAAAAAAAAAAAAAAAAAAAAAAAAAAAAAAAAAAAAAAAAAAAAAAAAAAAAAAAAAAAAAAAAAAAAAAAAAAAAAAAAAAAAAAAAAAAAAAAAAAAAAAAAAAAAAAAAAAAAAAAAAAAAAAAAAAAAAAAAAAAAAAAAAAAAAAAAAAAAAAAAAAAAAAAAAAAAAAAAAAAAAAAAAAAAAAAAAAAAAAAAAAAAAAAAAAAAAAAAAAAAAAAAAAAAAAAAAAAAAAAAAAAAAAAAAAAAAAAAAAAAAAAAAAAAAAAAAAAAAAAAAAAAAAAAAAAAAAAAAAAAAAAAAAAAAAAAAAAAAAAAAAAAAAAAAAAAAAAAAAAAAAAAAAAAAAAAAAAAAAAAAAAAAAAAAAAAAAAAAAAAAAAAAAAAAAAAAAAAAAAAAAAAAAAAAAAAAAAAAAAAAAAAAAAAAAAAAAAAAAAAAAAAAAAAAAAAAAAAAAAAAAAAAAAAAAAAAAAAAAAAAAAAAAAAAAAAAAAAAAAAAAAAAAAAAAAAAAAAAAAAAAAAAAAAAAAAAAAAAAAAAAAAAAAAAAAAAAAAAAAAAAAAAAAAAAAAAAAAAAAAAAAAAAAAAAAAAAAAAAAAAAAAAAAAAAAAAAAAAAAAAAAAAAAAAAAAAAAAAAAAAAAAAAAAAAAAAAAAAAAAAAAAAAAAAAAAAAAAAAAAAAAAAAAAAAAAAAAAAAAAAAAAAAAAAAAAAAAAAAAAAAAAAAAAAAAAAAAAAAAAAAAAAAAAAAAAAAAAAAAAAAAAAAAAAAAAAAAAAAAAAAAAAAAAAAAAAAAAAAAAAAAAAAAAAAAAAAAAAAAAAAAAAAAAAAAAAAAAAAAAAAAAAAAAAAAAAAAAAAAAAAAAAAAAAAAAAAAAAAAAAAAAAAAAAAAAAAAAAAAAAAAAAAAAAAAAAAAAAAAAAAAAAAAAAAAAAAAAAAAAAAAAAAAAAAAAAAAAAAAAAAAAAAAAAAAAAAAAAAAAAAAAAAAAAAAAAAAAAAAAAAAAAAAAAAAAAAAAAAAAAAAAAAAAAAAAAAAAAAAAAAAAAAAAAAAAAAAAAAAAAAAAAAAAAAAAAAAAAAAAAAAAAAAAAAAAAAAAAAAAAAAAAAAAAAAAAAAAAAAAAAAAAAAAAAAAAAAAAAAAAAAAAAAAAAAAAAAAAAAAAAAAAAAAAAAAAAAAAAAAAAAAAAAAAAAAAAAAAAAAAAAAAAAAAAAAAAAAAAAAAAAAAAAAAAAAAAAAAAAAAAAAAAAAAAAAAAAAAAAAAAAAAAAAAAAAAAAAAAAAAAAAAAAAAAAAAAAAAAAAAAAAAAAAAAAAAAAAA",
          "dtype": "f8"
         },
         "yaxis": "y2"
        },
        {
         "line": {
          "width": 2
         },
         "mode": "lines",
         "name": "simulator:/ADA:/total",
         "showlegend": true,
         "type": "scatter",
         "x": {
          "bdata": "AAABAAIAAwAEAAUABgAHAAgACQAKAAsADAANAA4ADwAQABEAEgATABQAFQAWABcAGAAZABoAGwAcAB0AHgAfACAAIQAiACMAJAAlACYAJwAoACkAKgArACwALQAuAC8AMAAxADIAMwA0ADUANgA3ADgAOQA6ADsAPAA9AD4APwBAAEEAQgBDAEQARQBGAEcASABJAEoASwBMAE0ATgBPAFAAUQBSAFMAVABVAFYAVwBYAFkAWgBbAFwAXQBeAF8AYABhAGIAYwBkAGUAZgBnAGgAaQBqAGsAbABtAG4AbwBwAHEAcgBzAHQAdQB2AHcAeAB5AHoAewB8AH0AfgB/AIAAgQCCAIMAhACFAIYAhwCIAIkAigCLAIwAjQCOAI8AkACRAJIAkwCUAJUAlgCXAJgAmQCaAJsAnACdAJ4AnwCgAKEAogCjAKQApQCmAKcAqACpAKoAqwCsAK0ArgCvALAAsQCyALMAtAC1ALYAtwC4ALkAugC7ALwAvQC+AL8AwADBAMIAwwDEAMUAxgDHAMgAyQDKAMsAzADNAM4AzwDQANEA0gDTANQA1QDWANcA2ADZANoA2wDcAN0A3gDfAOAA4QDiAOMA5ADlAOYA5wDoAOkA6gDrAOwA7QDuAO8A8ADxAPIA8wD0APUA9gD3APgA+QD6APsA/AD9AP4A/wAAAQEBAgEDAQQBBQEGAQcBCAEJAQoBCwEMAQ0BDgEPARABEQESARMBFAEVARYBFwEYARkBGgEbARwBHQEeAR8BIAEhASIBIwEkASUBJgEnASgBKQEqASsBLAEtAS4BLwEwATEBMgEzATQBNQE2ATcBOAE5AToBOwE8AT0BPgE/AUABQQFCAUMBRAFFAUYBRwFIAUkBSgFLAUwBTQFOAU8BUAFRAVIBUwFUAVUBVgFXAVgBWQFaAVsBXAFdAV4BXwFgAWEBYgFjAWQBZQFmAWcBaAFpAWoBawFsAW0BbgFvAXABcQFyAXMBdAF1AXYBdwF4AXkBegF7AXwBfQF+AX8BgAGBAYIBgwGEAYUBhgGHAYgBiQGKAYsBjAGNAY4BjwGQAZEBkgGTAZQBlQGWAZcBmAGZAZoBmwGcAZ0BngGfAaABoQGiAaMBpAGlAaYBpwGoAakBqgGrAawBrQGuAa8BsAGxAbIBswG0AbUBtgG3AbgBuQG6AbsBvAG9Ab4BvwHAAcEBwgHDAcQBxQHGAccByAHJAcoBywHMAc0BzgHPAdAB",
          "dtype": "i2"
         },
         "xaxis": "x2",
         "y": {
          "bdata": "AAAAAAAAAAAAAAAAAAAAAAAAAAAAAAAAAAAAAAAAAAAAAAAAAAAAAAAAAAAAAAAAAAAAAAAAAAAAAAAAAAAAAAAAAAAAAAAAAAAAAAAAAAAAAAAAAAAAAAAAAAAAAAAAAAAAAAAAAAAAAAAAAAAAAAAAAAAAAAAAAAAAAAAAAAAAAAAAAAAAAAAAAAAAAAAAAAAAAAAAAAAAAAAAAAAAAAAAAAAAAAAAAAAAAAAAAAAAAAAAAAAAAAAAAAAAAAAAAAAAAAAAAAAAAAAAAAAAAAAAAAAAAAAAAAAAAAAAAAAAAAAAAAAAAAAAAAAAAAAAAAAAAAAAAAAAAAAAAAAAAAAAAAAAAAAAAAAAAAAAAAAAAAAAAAAAAAAAAAAAAAAAAAAAAAAAAAAAAAAAAAAAAAAAAAAAAAAAAAAAAAAAAAAAAAAAAAAAAAAAAAAAAAAAAAAAAAAAAAAAAAAAAAAAAAAAAAAAAAAAAAAAAAAAAAAAAAAAAAAAAAAAAAAAAAAAAAAAAAAAAAAAAAAAAAAAAAAAAAAAAAAAAAAAAAAAAAAAAAAAAAAAAAAAAAAAAAAAAAAAAAAAAAAAAAAAAAAAAAAAAAAAAAAAAAAAAAAAAAAAAAAAAAAAAAAAAAAAAAAAAAAAAAAAAAAAAAAAAAAAAAAAAAAAAAAAAAAAAAAAAAAAAAAAAAAAAAAAAAAAAAAAAAAAAAAAAAAAAAAAAAAAAAAAAAAAAAAAAAAAAAAAAAAAAAAAAAAAAAAAAAAAAAAAAAAAAAAAAAAAAAAAAAAAAAAAAAAAAAAAAAAAAAAAAAAAAAAAAAAAAAAAAAAAAAAAAAAAAAAAAAAAAAAAAAAAAAAAAAAAAAAAAAAAAAAAAAAAAAAAAAAAAAAAAAAAAAAAAAAAAAAAAAAAAAAAAAAAAAAAAAAAAAAAAAAAAAAAAAAAAAAAAAAAAAAAAAAAAAAAAAAAAAAAAAAAAAAAAAAAAAAAAAAAAAAAAAAAAAAAAAAAAAAAAAAAAAAAAAAAAAAAAAAAAAAAAAAAAAAAAAAAAAAAAAAAAAAAAAAAAAAAAAAAAAAAAAAAAGRpVBidUiRBZGlUGJ1SJEFkaVQYnVIkQWRpVBidUiRBZGlUGJ1SJEFkaVQYnVIkQWRpVBidUiRBZGlUGJ1SJEFkaVQYnVIkQWRpVBidUiRBZGlUGJ1SJEFkaVQYnVIkQWRpVBidUiRBZGlUGJ1SJEGfo35s5FMjQZ+jfmzkUyNBn6N+bORTI0Gfo35s5FMjQZ+jfmzkUyNBn6N+bORTI0Gfo35s5FMjQZ+jfmzkUyNBn6N+bORTI0Gfo35s5FMjQZ+jfmzkUyNBn6N+bORTI0Gfo35s5FMjQZ+jfmzkUyNBn6N+bORTI0Gfo35s5FMjQZ+jfmzkUyNBn6N+bORTI0Gfo35s5FMjQZ+jfmzkUyNBn6N+bORTI0Gfo35s5FMjQZ+jfmzkUyNBn6N+bORTI0Gfo35s5FMjQZ+jfmzkUyNBn6N+bORTI0Gfo35s5FMjQZ+jfmzkUyNBn6N+bORTI0Gfo35s5FMjQZ+jfmzkUyNBn6N+bORTI0Gfo35s5FMjQZ+jfmzkUyNBn6N+bORTI0Gfo35s5FMjQZ+jfmzkUyNBn6N+bORTI0Gfo35s5FMjQZ+jfmzkUyNBn6N+bORTI0Gfo35s5FMjQZ+jfmzkUyNBn6N+bORTI0Gfo35s5FMjQZ+jfmzkUyNBn6N+bORTI0Gfo35s5FMjQZ+jfmzkUyNBn6N+bORTI0Gfo35s5FMjQZ+jfmzkUyNBn6N+bORTI0Gfo35s5FMjQZ+jfmzkUyNBn6N+bORTI0Gfo35s5FMjQZ+jfmzkUyNBn6N+bORTI0Gfo35s5FMjQZ+jfmzkUyNBn6N+bORTI0Gfo35s5FMjQZ+jfmzkUyNBn6N+bORTI0Gfo35s5FMjQZ+jfmzkUyNBn6N+bORTI0Gfo35s5FMjQZ+jfmzkUyNBn6N+bORTI0Gfo35s5FMjQZ+jfmzkUyNBn6N+bORTI0Gfo35s5FMjQZ+jfmzkUyNBn6N+bORTI0Gfo35s5FMjQZ+jfmzkUyNBn6N+bORTI0Gfo35s5FMjQZ+jfmzkUyNBn6N+bORTI0Gfo35s5FMjQZ+jfmzkUyNBn6N+bORTI0Gfo35s5FMjQZ+jfmzkUyNBn6N+bORTI0Gfo35s5FMjQZ+jfmzkUyNBn6N+bORTI0Gfo35s5FMjQZ+jfmzkUyNBn6N+bORTI0Gfo35s5FMjQZ+jfmzkUyNBn6N+bORTI0Gfo35s5FMjQZ+jfmzkUyNBn6N+bORTI0Gfo35s5FMjQZ+jfmzkUyNBn6N+bORTI0Gfo35s5FMjQZ+jfmzkUyNBn6N+bORTI0Gfo35s5FMjQZ+jfmzkUyNBn6N+bORTI0Gfo35s5FMjQZ+jfmzkUyNBn6N+bORTI0Gfo35s5FMjQZ+jfmzkUyNBn6N+bORTI0Gfo35s5FMjQZ+jfmzkUyNBn6N+bORTI0Gfo35s5FMjQZ+jfmzkUyNBn6N+bORTI0Gfo35s5FMjQZ+jfmzkUyNBn6N+bORTI0Gfo35s5FMjQZ+jfmzkUyNBn6N+bORTI0Gfo35s5FMjQZ+jfmzkUyNBn6N+bORTI0Gfo35s5FMjQZ+jfmzkUyNBn6N+bORTI0Gfo35s5FMjQZ+jfmzkUyNBn6N+bORTI0Gfo35s5FMjQZ+jfmzkUyNBn6N+bORTI0Gfo35s5FMjQZ+jfmzkUyNBn6N+bORTI0Gfo35s5FMjQZ+jfmzkUyNBn6N+bORTI0Gfo35s5FMjQZ+jfmzkUyNBn6N+bORTI0Gfo35s5FMjQZ+jfmzkUyNBn6N+bORTI0Gfo35s5FMjQZ+jfmzkUyNBn6N+bORTI0Gfo35s5FMjQZ+jfmzkUyNBn6N+bORTI0Gfo35s5FMjQZ+jfmzkUyNBn6N+bORTI0Gfo35s5FMjQZ+jfmzkUyNBn6N+bORTI0Gfo35s5FMjQZ+jfmzkUyNBn6N+bORTI0Gfo35s5FMjQZ+jfmzkUyNBn6N+bORTI0Gfo35s5FMjQZ+jfmzkUyNBn6N+bORTI0Gfo35s5FMjQZ+jfmzkUyNBn6N+bORTI0Gfo35s5FMjQZ+jfmzkUyNBn6N+bORTI0Gfo35s5FMjQZ+jfmzkUyNBn6N+bORTI0Gfo35s5FMjQZ+jfmzkUyNBn6N+bORTI0Gfo35s5FMjQZ+jfmzkUyNBn6N+bORTI0Gfo35s5FMjQZ+jfmzkUyNBn6N+bORTI0Gfo35s5FMjQZ+jfmzkUyNBn6N+bORTI0Gfo35s5FMjQZ+jfmzkUyNBn6N+bORTI0Gfo35s5FMjQZ+jfmzkUyNBn6N+bORTI0Gfo35s5FMjQZ+jfmzkUyNBn6N+bORTI0Gfo35s5FMjQZ+jfmzkUyNBn6N+bORTI0Gfo35s5FMjQZ+jfmzkUyNBn6N+bORTI0Gfo35s5FMjQZ+jfmzkUyNBn6N+bORTI0Gfo35s5FMjQZ+jfmzkUyNBn6N+bORTI0Gfo35s5FMjQZ+jfmzkUyNBn6N+bORTI0Gfo35s5FMjQZ+jfmzkUyNBn6N+bORTI0Gfo35s5FMjQZ+jfmzkUyNBn6N+bORTI0Gfo35s5FMjQZ+jfmzkUyNBn6N+bORTI0Gfo35s5FMjQZ+jfmzkUyNBn6N+bORTI0Gfo35s5FMjQZ+jfmzkUyNBn6N+bORTI0Gfo35s5FMjQZ+jfmzkUyNBn6N+bORTI0Gfo35s5FMjQZ+jfmzkUyNBn6N+bORTI0Gfo35s5FMjQZ+jfmzkUyNBn6N+bORTI0Gfo35s5FMjQZ+jfmzkUyNBn6N+bORTI0Gfo35s5FMjQZ+jfmzkUyNBn6N+bORTI0Gfo35s5FMjQZ+jfmzkUyNBn6N+bORTI0Gfo35s5FMjQZ+jfmzkUyNBn6N+bORTI0Gfo35s5FMjQZ+jfmzkUyNBn6N+bORTI0Gfo35s5FMjQZ+jfmzkUyNBn6N+bORTI0Gfo35s5FMjQZ+jfmzkUyNBn6N+bORTI0Gfo35s5FMjQZ+jfmzkUyNBn6N+bORTI0Gfo35s5FMjQZ+jfmzkUyNBn6N+bORTI0Gfo35s5FMjQZ+jfmzkUyNBn6N+bORTI0Gfo35s5FMjQZ+jfmzkUyNBn6N+bORTI0Gfo35s5FMjQZ+jfmzkUyNBn6N+bORTI0Gfo35s5FMjQZ+jfmzkUyNBn6N+bORTI0Gfo35s5FMjQZ+jfmzkUyNBn6N+bORTI0Gfo35s5FMjQZ+jfmzkUyNBn6N+bORTI0Gfo35s5FMjQZ+jfmzkUyNBn6N+bORTI0Gfo35s5FMjQZ+jfmzkUyNBn6N+bORTI0Gfo35s5FMjQZ+jfmzkUyNBn6N+bORTI0Gfo35s5FMjQZ+jfmzkUyNBn6N+bORTI0Gfo35s5FMjQZ+jfmzkUyNBn6N+bORTI0Gfo35s5FMjQZ+jfmzkUyNBn6N+bORTI0Gfo35s5FMjQZ+jfmzkUyNBn6N+bORTI0Gfo35s5FMjQZ+jfmzkUyNBn6N+bORTI0Gfo35s5FMjQZ+jfmzkUyNBn6N+bORTI0Gfo35s5FMjQZ+jfmzkUyNBn6N+bORTI0Gfo35s5FMjQZ+jfmzkUyNBn6N+bORTI0Gfo35s5FMjQZ+jfmzkUyNBn6N+bORTI0Gfo35s5FMjQZ+jfmzkUyNBn6N+bORTI0Gfo35s5FMjQZ+jfmzkUyNBn6N+bORTI0Gfo35s5FMjQZ+jfmzkUyNBn6N+bORTI0Gfo35s5FMjQZ+jfmzkUyNBn6N+bORTI0Gfo35s5FMjQZ+jfmzkUyNBn6N+bORTI0Gfo35s5FMjQZ+jfmzkUyNBn6N+bORTI0Gfo35s5FMjQZ+jfmzkUyNBn6N+bORTI0Gfo35s5FMjQZ+jfmzkUyNBn6N+bORTI0Gfo35s5FMjQZ+jfmzkUyNB",
          "dtype": "f8"
         },
         "yaxis": "y2"
        },
        {
         "line": {
          "width": 2
         },
         "mode": "lines",
         "name": "simulator:/ADA:/worth",
         "showlegend": true,
         "type": "scatter",
         "x": {
          "bdata": "AAABAAIAAwAEAAUABgAHAAgACQAKAAsADAANAA4ADwAQABEAEgATABQAFQAWABcAGAAZABoAGwAcAB0AHgAfACAAIQAiACMAJAAlACYAJwAoACkAKgArACwALQAuAC8AMAAxADIAMwA0ADUANgA3ADgAOQA6ADsAPAA9AD4APwBAAEEAQgBDAEQARQBGAEcASABJAEoASwBMAE0ATgBPAFAAUQBSAFMAVABVAFYAVwBYAFkAWgBbAFwAXQBeAF8AYABhAGIAYwBkAGUAZgBnAGgAaQBqAGsAbABtAG4AbwBwAHEAcgBzAHQAdQB2AHcAeAB5AHoAewB8AH0AfgB/AIAAgQCCAIMAhACFAIYAhwCIAIkAigCLAIwAjQCOAI8AkACRAJIAkwCUAJUAlgCXAJgAmQCaAJsAnACdAJ4AnwCgAKEAogCjAKQApQCmAKcAqACpAKoAqwCsAK0ArgCvALAAsQCyALMAtAC1ALYAtwC4ALkAugC7ALwAvQC+AL8AwADBAMIAwwDEAMUAxgDHAMgAyQDKAMsAzADNAM4AzwDQANEA0gDTANQA1QDWANcA2ADZANoA2wDcAN0A3gDfAOAA4QDiAOMA5ADlAOYA5wDoAOkA6gDrAOwA7QDuAO8A8ADxAPIA8wD0APUA9gD3APgA+QD6APsA/AD9AP4A/wAAAQEBAgEDAQQBBQEGAQcBCAEJAQoBCwEMAQ0BDgEPARABEQESARMBFAEVARYBFwEYARkBGgEbARwBHQEeAR8BIAEhASIBIwEkASUBJgEnASgBKQEqASsBLAEtAS4BLwEwATEBMgEzATQBNQE2ATcBOAE5AToBOwE8AT0BPgE/AUABQQFCAUMBRAFFAUYBRwFIAUkBSgFLAUwBTQFOAU8BUAFRAVIBUwFUAVUBVgFXAVgBWQFaAVsBXAFdAV4BXwFgAWEBYgFjAWQBZQFmAWcBaAFpAWoBawFsAW0BbgFvAXABcQFyAXMBdAF1AXYBdwF4AXkBegF7AXwBfQF+AX8BgAGBAYIBgwGEAYUBhgGHAYgBiQGKAYsBjAGNAY4BjwGQAZEBkgGTAZQBlQGWAZcBmAGZAZoBmwGcAZ0BngGfAaABoQGiAaMBpAGlAaYBpwGoAakBqgGrAawBrQGuAa8BsAGxAbIBswG0AbUBtgG3AbgBuQG6AbsBvAG9Ab4BvwHAAcEBwgHDAcQBxQHGAccByAHJAcoBywHMAc0BzgHPAdAB",
          "dtype": "i2"
         },
         "xaxis": "x2",
         "y": {
          "bdata": "AAAAAAAAAAAAAAAAAAAAAAAAAAAAAAAAAAAAAAAAAAAAAAAAAAAAAAAAAAAAAAAAAAAAAAAAAAAAAAAAAAAAAAAAAAAAAAAAAAAAAAAAAAAAAAAAAAAAAAAAAAAAAAAAAAAAAAAAAAAAAAAAAAAAAAAAAAAAAAAAAAAAAAAAAAAAAAAAAAAAAAAAAAAAAAAAAAAAAAAAAAAAAAAAAAAAAAAAAAAAAAAAAAAAAAAAAAAAAAAAAAAAAAAAAAAAAAAAAAAAAAAAAAAAAAAAAAAAAAAAAAAAAAAAAAAAAAAAAAAAAAAAAAAAAAAAAAAAAAAAAAAAAAAAAAAAAAAAAAAAAAAAAAAAAAAAAAAAAAAAAAAAAAAAAAAAAAAAAAAAAAAAAAAAAAAAAAAAAAAAAAAAAAAAAAAAAAAAAAAAAAAAAAAAAAAAAAAAAAAAAAAAAAAAAAAAAAAAAAAAAAAAAAAAAAAAAAAAAAAAAAAAAAAAAAAAAAAAAAAAAAAAAAAAAAAAAAAAAAAAAAAAAAAAAAAAAAAAAAAAAAAAAAAAAAAAAAAAAAAAAAAAAAAAAAAAAAAAAAAAAAAAAAAAAAAAAAAAAAAAAAAAAAAAAAAAAAAAAAAAAAAAAAAAAAAAAAAAAAAAAAAAAAAAAAAAAAAAAAAAAAAAAAAAAAAAAAAAAAAAAAAAAAAAAAAAAAAAAAAAAAAAAAAAAAAAAAAAAAAAAAAAAAAAAAAAAAAAAAAAAAAAAAAAAAAAAAAAAAAAAAAAAAAAAAAAAAAAAAAAAAAAAAAAAAAAAAAAAAAAAAAAAAAAAAAAAAAAAAAAAAAAAAAAAAAAAAAAAAAAAAAAAAAAAAAAAAAAAAAAAAAAAAAAAAAAAAAAAAAAAAAAAAAAAAAAAAAAAAAAAAAAAAAAAAAAAAAAAAAAAAAAAAAAAAAAAAAAAAAAAAAAAAAAAAAAAAAAAAAAAAAAAAAAAAAAAAAAAAAAAAAAAAAAAAAAAAAAAAAAAAAAAAAAAAAAAAAAAAAAAAAAAAAAAAAAAAAAAAAAAAAAAAAAAAAAAAAAAAAAAAAAAAAAAAAAAAAAAEozWoGxoQRBDVvLxvaOBEE45bIsCsUFQdDDO6Qs4gVBFghl68qlBkGbV0d2VYAGQaCQt3kHLQhB/lNphMDACUFrZcLjIDEKQTEJ7N7GQQpB2/LT+OHECkGgW0TWFxgMQR6Ai2yvpwxBpc9t9zmCDEHbjABA9xYLQQ3fqLT8tQpBkTlt2fc7CUF60ZM6kh8KQdOZDozhOwxB+BUEyyaBDEEXJyDvixkNQW71vaLW/QxBRLNGYDy7C0GVtT+uNtoMQZiYADDhWA1BZQLM7sAiDkEu6qF2ZoYNQYUT6BImuw5BwZwOCFzMDEGVEOiWqyoOQckBxcBAsQ5BzSgSDwbHDkH78qHq1TcPQelWbbHA4A5BElt7iTtUDkFd+L0eUY4NQS1FSl/b1g5Bd54AKNZ5DkFpLzyfgQAMQfqdHGRcrwtBVAvvzDZ7DEHNcsE9HCYMQYzIcFwcxwtBb5TyV2blDUERB2ZvVTIQQUStI/5A8w1BP+F+mPAtD0EFQTyHYGMPQXZadFu74g5B+/Kh6tU3D0ErYondMFgOQezehUr2Dg5B6vvEyEuQDUEbrziIwUcMQVAoLkuM/AtBKCQgcxGJDEEWiOs5/DEMQfi6W+KxMAtB6+SorPHWC0HbjABA9xYLQe2JAMR8hgpBXqM4mNcFCkGOsVRAwg0KQf/KjBQdjQlBi86TvhePCUHh/fy80osIQWX39ZZd+QdBqKFGeF1YCEELRpdhaJYHQSqyW25CfwlBBJEOGHKKCkHUgvJvh4IKQfzny5JyDglBXQQE40ceCUFjabqbLAMLQRq1W+q8DwpBOcZ3DiKoCkHAA/20x6wJQeQ1Q8X2kgxBL9OFWgzNC0FJechjkbgMQS/ThVoMzQtBVLBG5MEqC0HaSHRz3H8LQQ3fqLT8tQpBrwDazkZ1DEHNzWkmkXYNQXMcC/GbEw1BLUVKX9vWDkHjTF/hUEwOQf7bhc57fg1BLKYVqkvvDUE19K9G1hoOQRJbe4k7VA5Bpg3oGjGaDUHuIhIXEaYNQcdikAuxyQ1BNfSvRtYaDkFUBcxqO7MOQdqd+flVCA9B6BLh5KVJD0FA8zuxsm4QQc/ZA91X7xBB4FPyr996EUHqw9Ky93ERQd6Sd5TCxxBBlTnBy8ckEUEuVwd4nRcQQQaFyFN7+g5B6vvEyEuQDUEg0GJ0i5UOQdXXd/YACw5B7iISFxGmDUEcqRUmxn8OQdqd+flVCA9Bc9JbwoW0D0G3BMU8u0EPQVLBP54gHA9BINBidIuVDkH7l/kBYecNQT5CSuNgRg5BX5fy0+B1DkG3qRxURvENQXeeACjWeQ5BrHjBNRFHDUHnGARHoRENQV6dFTbcPQxBblaJ7UYWDEFAKy7HBo0MQUjak64B0QtB0FWCv8akDEGJhOSPATAMQRhrrLumsAxBH9aF1oZdDEE8BOF4QXcMQSsH4fS7Bw1BvXXBuZa2DEGvANrORnUMQUu9VDCsTwxBeOivVuzYC0GX+ct6UXEMQUVSexXMogxBKmisPywgDEH6nRxkXK8LQZk9WEdsCAxBB893gpFZDEEZCuFwNpgNQSB1uosWRQ1BTFyJ5Ts3DUEm4JOm9vEMQXJ91jsMLAxB72ae4ys9DUFbFf2cpg8NQQRHX+lbKw1BVLBG5MEqC0Gh7L0uZ0wLQSOoTZ7S6ghB37lw8Lf0CEFW49n2fdAGQb4PQ3m+PAVB+a+Fik4HBUFKE0ojuT4FQXohZsujRgVBYHsjwh5bBEFFTcgfZEEEQdV3HBgkWQRB+vMRV2meBEHMKYJ7mS0EQe1+KmwZXQRBxHoclJ7pBEGnp2naWCAGQeUqbW2TaQZBixhD7S3uBkEREjzHuFsGQe54BwoelQZBed3Z/oivBUFkuYwsPioGQRP7H6teogRBeiFmy6NGBUF7wJqAMy4GQZKDHAgOmwZBMmfktziLBkEYHEqXKPAGQZKDHAgOmwZBElbIk9PyBUH7kkYM+YUFQc5n6+W4/AVBRUelvWh5BkHOZ+vluPwFQWjg2XoDQAZBNo4xBv6gBkH4Ci5zw1cGQVNsuhenkwtBrWfIe7JVCUFhK1ExDTQJQQOXMXptUghBszNt4QIbCEEd4suafe0HQceyYpzC8AhBOMyacB1wCEGeU6zb0iwIQdrz7uxi9wdBse/gFOiDCEEkTaW1XZoHQWMUNRWzegdB5IUVVgi6B0FEok2m3ckHQU7w50Jo9QdBQ17B2cIyCEF8unceOGYIQXCJHAADvAdBfv4D61L9B0FReADcnSMHQXp8DrQYlwZBlqppVtOwBkE7tX5Uw7YGQQaAFV4TmQZB6VG6u1h/BkHsNHs9A/4GQUK/jCQzSwdB/xQ8QzPsBkF+o1sC3qwGQdVx+bUokQZBKBlKG65fBkG6Q54TbncGQa0SQ/U4zQVBvg9Deb48BUGeX/KfybwDQTWUVGj5aARBdz6lSfnHBEGscw5AqeUEQaRpAHA5UQRBwtvn3g4CBEGjJXSjHroEQZvX2QaUjgRB5DCQz44xBEHMKYJ7mS0EQe1+KmwZXQRB5xNRUTmwBEFBxa+GLhMFQd7FtrSuhARBKmP5ScS+A0GFWORL1LgDQYl/MZqZzgNB5nQcnKnIA0H+eyrwnswDQUq4oTpE7gNBvrSakEnsA0HXu6jkPvADQbE/s6X5qgNBrRhmVzSVA0EngDjIGUADQWiLVPSJtwJBAQRDidT6AkGDdSPKKToDQbzR2Q6fbQNBW7WhvsldA0FErpNq1FkDQcE8syl/GgNBX9zuDI9zA0HiTc9N5LIDQevf9baJdQNBue4YjfTuAkG57hiN9O4CQUoZbYW0BgNBsKB+8GnDAkExEl8xvwIDQQEEQ4nU+gJBFeQDjwTpAkGbfDEeHz4DQVeOVHAESANBgTGX/Q6jA0Gb19kGlI4EQWfm/Nz+BwRBzCmCe5ktBEFP3+6ICQQEQWsNSivEHQRBfql+ZNl0BEE32OA0FAAEQRWDOESU0ANBvNHZDp9tA0EngDjIGUADQTpg+c1JLgNBvRVm27kEA0GlDliHxAADQTY5rH+EGANB2kPBfXQeA0G80dkOn20DQWEge9mpCgNBVKuT7lnJAkGqNaXViRYDQS/O0mSkawNBq9TZihn+A0GqkE2+/mYEQZHk51J+swVBXK9+XM6VBUEd6O78eLUFQSDLr34jNAZBnBVDcbNdBkFdTrMRXn0GQfvt7vRt1gZBGv8KGdNuB0HamEYE7qYGQfyMI6r9vQdB+MB+RK34CEHinDFyYnMJQTlrzyWtVwlBW1+sy7xuCkGBNkrzdgQMQTypOJDMJgtBy48AvHGnC0FUC+/MNnsMQRB4ugeR1Q1B20JREeG3DUFjHwttFqQNQd9vwcGhlQtB45YOEGerC0E5fMjfC0kNQVxZiWnBpgxBN92TKnxhDEF3Q1g/YSkNQas0NWn2rw1B+bQ4gLZoDUHGaLNtrJELQYW4Pyqxag1Bt6kcVEbxDUGzgs8FgdsNQeua+X3bdw5Bt6kcVEbxDUEzVXuRRjMNQYN0s12W0w1Bid+MeHaADUFbFf2cpg8NQdtCURHhtw1BERfvvCC9DkFLtzHOsIcOQWVddNc1cw9B5f1Qr6J0EEHwLqzN1x4RQWcOZqWHmxFBzci2MCkVFUF6nlQapmIWQew0ez0D/hZBzKZwyptJFUEREjzHuFsWQUa+cKpvzRlBFREgTfXdGEE+mD/WbTUXQXsbQ2mofhdBiTWCa4NvFkFjNnt7QEYXQUVp6yP2RBZBJ9W9TpPIFkGnfwAS0IwYQfchSo8dERhBtHf5rR2yF0F9gRWcUOEWQVY+gt/yIBhBcatiZpCHF0GA4cRs/XsYQV2pW/rSzRdBWaRUEpuDF0GnJFgpWzwXQbwmX5UY9hZB",
          "dtype": "f8"
         },
         "yaxis": "y2"
        },
        {
         "line": {
          "width": 2
         },
         "mode": "lines",
         "name": "simulator:/DOT:/free",
         "showlegend": true,
         "type": "scatter",
         "x": {
          "bdata": "AAABAAIAAwAEAAUABgAHAAgACQAKAAsADAANAA4ADwAQABEAEgATABQAFQAWABcAGAAZABoAGwAcAB0AHgAfACAAIQAiACMAJAAlACYAJwAoACkAKgArACwALQAuAC8AMAAxADIAMwA0ADUANgA3ADgAOQA6ADsAPAA9AD4APwBAAEEAQgBDAEQARQBGAEcASABJAEoASwBMAE0ATgBPAFAAUQBSAFMAVABVAFYAVwBYAFkAWgBbAFwAXQBeAF8AYABhAGIAYwBkAGUAZgBnAGgAaQBqAGsAbABtAG4AbwBwAHEAcgBzAHQAdQB2AHcAeAB5AHoAewB8AH0AfgB/AIAAgQCCAIMAhACFAIYAhwCIAIkAigCLAIwAjQCOAI8AkACRAJIAkwCUAJUAlgCXAJgAmQCaAJsAnACdAJ4AnwCgAKEAogCjAKQApQCmAKcAqACpAKoAqwCsAK0ArgCvALAAsQCyALMAtAC1ALYAtwC4ALkAugC7ALwAvQC+AL8AwADBAMIAwwDEAMUAxgDHAMgAyQDKAMsAzADNAM4AzwDQANEA0gDTANQA1QDWANcA2ADZANoA2wDcAN0A3gDfAOAA4QDiAOMA5ADlAOYA5wDoAOkA6gDrAOwA7QDuAO8A8ADxAPIA8wD0APUA9gD3APgA+QD6APsA/AD9AP4A/wAAAQEBAgEDAQQBBQEGAQcBCAEJAQoBCwEMAQ0BDgEPARABEQESARMBFAEVARYBFwEYARkBGgEbARwBHQEeAR8BIAEhASIBIwEkASUBJgEnASgBKQEqASsBLAEtAS4BLwEwATEBMgEzATQBNQE2ATcBOAE5AToBOwE8AT0BPgE/AUABQQFCAUMBRAFFAUYBRwFIAUkBSgFLAUwBTQFOAU8BUAFRAVIBUwFUAVUBVgFXAVgBWQFaAVsBXAFdAV4BXwFgAWEBYgFjAWQBZQFmAWcBaAFpAWoBawFsAW0BbgFvAXABcQFyAXMBdAF1AXYBdwF4AXkBegF7AXwBfQF+AX8BgAGBAYIBgwGEAYUBhgGHAYgBiQGKAYsBjAGNAY4BjwGQAZEBkgGTAZQBlQGWAZcBmAGZAZoBmwGcAZ0BngGfAaABoQGiAaMBpAGlAaYBpwGoAakBqgGrAawBrQGuAa8BsAGxAbIBswG0AbUBtgG3AbgBuQG6AbsBvAG9Ab4BvwHAAcEBwgHDAcQBxQHGAccByAHJAcoBywHMAc0BzgHPAdAB",
          "dtype": "i2"
         },
         "xaxis": "x2",
         "y": {
          "bdata": "AAAAAAAAAAAAAAAAAAAAAAAAAAAAAAAAAAAAAAAAAAAAAAAAAAAAAAAAAAAAAAAAAAAAAAAAAAAAAAAAAAAAAAAAAAAAAAAAAAAAAAAAAAAAAAAAAAAAAAAAAAAAAAAAAAAAAAAAAAAAAAAAAAAAAAAAAAAAAAAAAAAAAAAAAAAAAAAAAAAAAAAAAAAAAAAAAAAAAAAAAAAAAAAAAAAAAAAAAAAAAAAAAAAAAAAAAAAAAAAAAAAAAAAAAAAAAAAAAAAAAAAAAAAAAAAAAAAAAAAAAAAAAAAAAAAAAAAAAAAAAAAAAAAAAAAAAAAAAAAAAAAAAAAAAAAAAAAAAAAAAAAAAAAAAAAAAAAAAAAAAAAAAAAAAAAAAAAAAAAAAAAAAAAAAAAAAAAAAAAAAAAAAAAAAAAAAAAAAAAAAAAAAAAAAAAAAAAAAAAAAAAAAAAAAAAAAAAAAAAAAAAAAAAAAAAAAAAAAAAAAAAAAAAAAAAAAAAAAAAAAAAAAAAAAAAAAAAAAAAAAAAAAAAAAAAAAAAAAAAAAAAAAAAAAAAAAAAAAAAAAAAAAAAAAAAAAAAAAAAAAAAAAAAAAAAAAAAAAAAAAAAAAAAAAAAAAAAAAAAAAAAAAAAAAAAAAAAAAAAAAAAAAAAAAAAAAAAAAAAAAAAAAAAAAAAAAAAAAAAAAAAAAAAAAAAAAAAAAAAAAAAAAAAAAAAAAAAAAAAAAAAAAAAAAAAAAAAAAAAAAAAAAAAAAAAAAAAAAAAAAAAAAAAAAAAAAAAAAAAAAAAAAAAAAAAAAAAAAAAAAAAAAAAAAAAAAAAAAAAAAAAAAAAAAAAAAAAAAAAAAAAAAAAAAAAAAAAAAAAAAAAAAAAAAAAAAAAAAAAAAAAAAAAAAAAAAAAAAAAAAAAAAAAAAAAAAAAAAAAAAAAAAAAAAAAAAAAAAAAAAAAAAAAAAAAAAAAAAAAAAAAAAAAAAAAAAAAAAAAAAAAAAAAAAAAAAAAAAAAAAAAAAAAAAAAAAAAAAAAAAAAAAAAAAAAAAAAAAAAAAAAAAAAAAAAAAAAAAAAAAAAAAAAAAAAAAAAAAAAAAAAAAAAAAAAAAAAAAAAAAAAAAAAAAAAAAAAAAAAAAAAAAAAAAAAAAAAAAAAAAAAAAAAAAAAAAAAAAAAAAAAAAAAAAAAAAAAAAAAAAAAAAAAAAAAAAAAAAAAAAAAAAAAAAAAAAAAAAAAAAAAAAAAAAAAAAAAAAAAAAAAAAAAAAAAAAAAAAAAAAAAAAAAAAAAAAAAAAAAAAAAAAAAAAAAAAAAAAAAAAAAAAAAAAAAAAAAAAAAAAAAAAAAAAAAAAAAAAAAAAAAAAAAAAAAAAAAAAAAAAAAAAAAAAAAAAAAAAAAAAAAAAAAAAAAAAAAAAAAAAAAAAAAAAAAAAAAAAAAAAAAAAAAAAAAAAAAAAAAAAAAAAAAAAAAAAAAAAAAAAAAAAAAAAAAAAAAAAAAAAAAAAAAAAAAAAAAAAAAAAAAAAAAAAAAAAAAAAAAAAAAAAAAAAAAAAAAAAAAAAAAAAAAAAAAAAAAAAAAAAAAAAAAAAAAAAAAAAAAAAAAAAAAAAAAAAAAAAAAAAAAAAAAAAAAAAAAAAAAAAAAAAAAAAAAAAAAAAAAAAAAAAAAAAAAAAAAAAAAAAAAAAAAAAAAAAAAAAAAAAAAAAAAAAAAAAAAAAAAAAAAAAAAAAAAAAAAAAAAAAAAAAAAAAAAAAAAAAAAAAAAAAAAAAAAAAAAAAAAAAAAAAAAAAAAAAAAAAAAAAAAAAAAAAAAAAAAAAAAAAAAAAAAAAAAAAAAAAAAAAAAAAAAAAAAAAAAAAAAAAAAAAAAAAAAAAAAAAAAAAAAAAAAAAAAAAAAAAAAAAAAAAAAAAAAAAAAAAAAAAAAAAAAAAAAAAAAAAAAAAAAAAAAAAAAAAAAAAAAAAAAAAAAAAAAAAAAAAAAAAAAAAAAAAAAAAAAAAAAAAAAAAAAAAAAAAAAAAAAAAAAAAAAAAAAAAAAAAAAAAAAAAAAAAAAAAAAAAAAAAAAAAAAAAAAAAAAAAAAAAAAAAAAAAAAAAAAAAAAAAAAAAAAAAAAAAAAAAAAAAAAAAAAAAAAAAAAAAAAAAAAAAAAAAAAAAAAAAAAAAAAAAAAAAAAAAAAAAAAAAAAAAAAAAAAAAAAAAAAAAAAAAAAAAAAAAAAAAAAAAAAAAAAAAAAAAAAAAAAAAAAAAAAAAAAAAAAAAAAAAAAAAAAAAAAAAAAAAAAAAAAAAAAAAAAAAAAAAAAAAAAAAAAAAAAAAAAAAAAAAAAAAAAAAAAAAAAAAAAAAAAAAAAAAAAAAAAAAAAAAAAAAAAAAAAAAAAAAAAAAAAAAAAAAAAAAAAAAAAAAAAAAAAAAAAAAAAAAAAAAAAAAAAAAAAAAAAAAAAAAAAAAAAAAAAAAAAAAAAAAAAAAAAAAAAAAAAAAAAAAAAAAAAAAAAAAAAAAAAAAAAAAAAAAAAAAAAAAAAAAAAAAAAAAAAAAAAAAAAAAAAAAAAAAAAAAAAAAAAAAAAAAAAAAAAAAAAAAAAAAAAAAAAAAAAAAAAAAAAAAAAAAAAAAAAAAAAAAAAAAAAAAAAAAAAAAAAAAAAAAAAAAAAAAAAAAAAAAAAAAAAAAAAAAAAAAAAAAAAAAAAAAAAAAAAAAAAAAAAAAAAAAAAAAAAAAAAAAAAAAAAAAAAAAAAAAAAAAAAAAAAAAAAAAAAAAAAAAAAAAAAAAAAAAAAAAAAAAAAAAAAAAAAAAAAAAAAAAAAAAAAAAAAAAAAAAAAAAAAAAAAAAAAAAAAAAAAAAAAAAAAAAAAAAAAAAAAAAAAAAAAAAAAAAAAAAAAAAAAAAAAAAAAAAAAAAAAAAAAAAAAAAAAAAAAAAAAAAAAAAAAAAAAAAAAAAAAAAAAAAAAAAAAAAAAAAAAAAAAAAAAAAAAAAAAAAAAAAAAAAAAAAAAAAAAAAAAAAAAAAAAAAAAAAAAAAAAAAAAAAAAAAAAAAAAAAAAAAAAAAAAAAAAAAAAAAAAAAAAAAAAAAAAAAAAAAAAAAAAAAAAAAAAAAAAAAAAAAAAAAAAAAAAAAAAAAAAAAAAAAAAAAAAAAAAAAAAAAAAAAAAAAAAAAAAAAAAAAAAAAAAAAAAAAAAAAAAAAAAAAAAAAAAAAAAAAAAAAAAAAAAAAAAAAAAAAAAAAAAAAAAAAAAAAAAAAAAAAAAAAAAAAAAAAAAAAAAAAAAAAAAAAAAAAAAAAAAAAAAAAAAAAAAAAAAAAAAAAAAAAAAAAAAAAAAAAAAAAAAAAAAAAAAAAAAAAAAAAAAAAAAAAAAAAAAAAAAAAAAAAAAAAAAAAAAAAAAAAAAAAAAAAAAAAAAAAAAAAAAAAAAAAAAAAAAAAAAAAAAAAAAAAAAAAAAAAAAAAAAAAAAAAAAAAAAAAAAAAAAAAAAAAAAAAAAAAAAAAAAAAAAAAAAAAAAAAAAAAAAAAAAAAAAAAAAAAAAAAAAAAAAAAAAAAAAAAAAAAAAAAAAAAAAAAAAAAAAAAAAAAAAAAAAAAAAAAAAAAAAAAAAAAAAAAAAAAAAAAAAAAAAAAAAAAAAAAAAAAAAAAAAAAAAAAAAAAAAAAAAAAAAAAAAAAAAAAAAAAAAAAAAAAAAAAAAAAAAAAAAAAAAAAAAAAAAAAAAAAAAAAAAAAAAAAAAAAAAAAAAAAAAAAAAAAAAAAAAAAAAAAAAAAAAAAAAAAAAAAAAAAAAAAAAAAAAAAAAAAAAAAAAAAAAAAAAAAAAAAAAAAAAAAAAAAAAAAAAAAAAAAAAAAAAAAAAAAAAAAAAAAAAAAAAAAAAAAAAAAAAAAAAAAAAAAAAAAAAAAAAAAAAAAAAAAAAAAAAAAAAAAAAAAAAAAAAAAAAAAAAAAAAAAAAAAAAAAAAAAAAAAAAAAAAAAAAAAAAAAAAAAAAAAAAAAAAAAAAAAAAAAAAAAAAAAAAAAAAAAAAAAAAAAAAAAAAAAAAAAAAAAAAAAAAAAAAAAAAAAAAAAAAAAAAAAAAAAAAAAAAAAAAAAAAAAAAAAAAAAAAAAAAAAAAAAAAAAAAAAAAAAAAAAAAAAAAAAAAAAAAAAAAAAAAAAAAAAAAAAAAAAAAAAAAAAAAAAAAAAAAAAAAAAAAAAAAAAAAAAAAAAAAAAAAAAAAAAAAAAAAAAAAAAAAAAAAAAAAAAAAAAAAAAAAAAAAAAAAAAAAAAAAAAAAAAAAAAAAAAAAAAAAAAAAAAAAAAAAAAAAAAAAAAAAAAAAAAAAAAAAAAAAAAAAAAAAAAAAAAAAAAAAAAAAAAAAAAAAAAAAAAAAAAAAAAAAAAAAAAAAAAAAAAAAAAAAAAAAAAAAAAAAAAAAAAAAAAAAAAAAAAAAAAAAAAAAAAAAAAAAAAAAAAAAAAAAAAAAAAAAAAAAAAAAAAAAAAAAAAAAAAAAAAAAAAAAAAAAAAAAAAAAAAAAAAAAAAAAAAAAAAAAAAAAAAAAAAAAAAAAAAAAAAAAAAAAAAAAAAAAAAAAAAAAAAAAAAAAAAAAAAAAAAAAAAAAAAAAAAAAAAAAAAAAAAAAAAAAAAAAAAAAAAAAAAAAAAAAAAAAAAAAAAAAAAAAAAAAAAAAAAAAAAAAAAAAAAAAAAAAAAAAAAAAAAAAAAAAAAAAAAAAAAAAAAAAAAAAAAAAAAAAAAAAAAAAAAAAAAAAAAAAAAAAAAAAAAAAAAAAAAAAAAAAAAAAAAAAAAAAAAAAAAAAAAAAAAAAAAAAAAAAAAAAAAAAAAAAAAAAAAAAAAAAAAAAAAAAAAAAAAAAAAAAAAAAAAAAAAAAAAAAAAAAAAAAAAAAAAAAAAAAAAAAAAAAAAAAAAAAAAAAAAAAAAAAAAAAAAAAAAAAAAAAAAAAAAAAAAAAAAAAAAAAAAAAAAAAAAAAAAAAAAAAAAAAAAAAAAAAAAAAAAAAAAAAAAAAAAAAA",
          "dtype": "f8"
         },
         "yaxis": "y2"
        },
        {
         "line": {
          "width": 2
         },
         "mode": "lines",
         "name": "simulator:/DOT:/locked",
         "showlegend": true,
         "type": "scatter",
         "x": {
          "bdata": "AAABAAIAAwAEAAUABgAHAAgACQAKAAsADAANAA4ADwAQABEAEgATABQAFQAWABcAGAAZABoAGwAcAB0AHgAfACAAIQAiACMAJAAlACYAJwAoACkAKgArACwALQAuAC8AMAAxADIAMwA0ADUANgA3ADgAOQA6ADsAPAA9AD4APwBAAEEAQgBDAEQARQBGAEcASABJAEoASwBMAE0ATgBPAFAAUQBSAFMAVABVAFYAVwBYAFkAWgBbAFwAXQBeAF8AYABhAGIAYwBkAGUAZgBnAGgAaQBqAGsAbABtAG4AbwBwAHEAcgBzAHQAdQB2AHcAeAB5AHoAewB8AH0AfgB/AIAAgQCCAIMAhACFAIYAhwCIAIkAigCLAIwAjQCOAI8AkACRAJIAkwCUAJUAlgCXAJgAmQCaAJsAnACdAJ4AnwCgAKEAogCjAKQApQCmAKcAqACpAKoAqwCsAK0ArgCvALAAsQCyALMAtAC1ALYAtwC4ALkAugC7ALwAvQC+AL8AwADBAMIAwwDEAMUAxgDHAMgAyQDKAMsAzADNAM4AzwDQANEA0gDTANQA1QDWANcA2ADZANoA2wDcAN0A3gDfAOAA4QDiAOMA5ADlAOYA5wDoAOkA6gDrAOwA7QDuAO8A8ADxAPIA8wD0APUA9gD3APgA+QD6APsA/AD9AP4A/wAAAQEBAgEDAQQBBQEGAQcBCAEJAQoBCwEMAQ0BDgEPARABEQESARMBFAEVARYBFwEYARkBGgEbARwBHQEeAR8BIAEhASIBIwEkASUBJgEnASgBKQEqASsBLAEtAS4BLwEwATEBMgEzATQBNQE2ATcBOAE5AToBOwE8AT0BPgE/AUABQQFCAUMBRAFFAUYBRwFIAUkBSgFLAUwBTQFOAU8BUAFRAVIBUwFUAVUBVgFXAVgBWQFaAVsBXAFdAV4BXwFgAWEBYgFjAWQBZQFmAWcBaAFpAWoBawFsAW0BbgFvAXABcQFyAXMBdAF1AXYBdwF4AXkBegF7AXwBfQF+AX8BgAGBAYIBgwGEAYUBhgGHAYgBiQGKAYsBjAGNAY4BjwGQAZEBkgGTAZQBlQGWAZcBmAGZAZoBmwGcAZ0BngGfAaABoQGiAaMBpAGlAaYBpwGoAakBqgGrAawBrQGuAa8BsAGxAbIBswG0AbUBtgG3AbgBuQG6AbsBvAG9Ab4BvwHAAcEBwgHDAcQBxQHGAccByAHJAcoBywHMAc0BzgHPAdAB",
          "dtype": "i2"
         },
         "xaxis": "x2",
         "y": {
          "bdata": "AAAAAAAAAAAAAAAAAAAAAAAAAAAAAAAAAAAAAAAAAAAAAAAAAAAAAAAAAAAAAAAAAAAAAAAAAAAAAAAAAAAAAAAAAAAAAAAAAAAAAAAAAAAAAAAAAAAAAAAAAAAAAAAAAAAAAAAAAAAAAAAAAAAAAAAAAAAAAAAAAAAAAAAAAAAAAAAAAAAAAAAAAAAAAAAAAAAAAAAAAAAAAAAAAAAAAAAAAAAAAAAAAAAAAAAAAAAAAAAAAAAAAAAAAAAAAAAAAAAAAAAAAAAAAAAAAAAAAAAAAAAAAAAAAAAAAAAAAAAAAAAAAAAAAAAAAAAAAAAAAAAAAAAAAAAAAAAAAAAAAAAAAAAAAAAAAAAAAAAAAAAAAAAAAAAAAAAAAAAAAAAAAAAAAAAAAAAAAAAAAAAAAAAAAAAAAAAAAAAAAAAAAAAAAAAAAAAAAAAAAAAAAAAAAAAAAAAAAAAAAAAAAAAAAAAAAAAAAAAAAAAAAAAAAAAAAAAAAAAAAAAAAAAAAAAAAAAAAAAAAAAAAAAAAAAAAAAAAAAAAAAAAAAAAAAAAAAAAAAAAAAAAAAAAAAAAAAAAAAAAAAAAAAAAAAAAAAAAAAAAAAAAAAAAAAAAAAAAAAAAAAAAAAAAAAAAAAAAAAAAAAAAAAAAAAAAAAAAAAAAAAAAAAAAAAAAAAAAAAAAAAAAAAAAAAAAAAAAAAAAAAAAAAAAAAAAAAAAAAAAAAAAAAAAAAAAAAAAAAAAAAAAAAAAAAAAAAAAAAAAAAAAAAAAAAAAAAAAAAAAAAAAAAAAAAAAAAAAAAAAAAAAAAAAAAAAAAAAAAAAAAAAAAAAAAAAAAAAAAAAAAAAAAAAAAAAAAAAAAAAAAAAAAAAAAAAAAAAAAAAAAAAAAAAAAAAAAAAAAAAAAAAAAAAAAAAAAAAAAAAAAAAAAAAAAAAAAAAAAAAAAAAAAAAAAAAAAAAAAAAAAAAAAAAAAAAAAAAAAAAAAAAAAAAAAAAAAAAAAAAAAAAAAAAAAAAAAAAAAAAAAAAAAAAAAAAAAAAAAAAAAAAAAAAAAAAAAAAAAAAAAAAAAAAAAAAAAAAG7OmBS1VOJAbs6YFLVU4kBuzpgUtVTiQG7OmBS1VOJAbs6YFLVU4kBuzpgUtVTiQG7OmBS1VOJAbs6YFLVU4kBuzpgUtVTiQG7OmBS1VOJAbs6YFLVU4kBuzpgUtVTiQG7OmBS1VOJAbs6YFLVU4kBuzpgUtVTiQG7OmBS1VOJAbs6YFLVU4kBuzpgUtVTiQG7OmBS1VOJAbs6YFLVU4kBuzpgUtVTiQG7OmBS1VOJAbs6YFLVU4kBuzpgUtVTiQG7OmBS1VOJAbs6YFLVU4kBuzpgUtVTiQG7OmBS1VOJAbs6YFLVU4kBuzpgUtVTiQG7OmBS1VOJAbs6YFLVU4kBuzpgUtVTiQG7OmBS1VOJAbs6YFLVU4kBuzpgUtVTiQG7OmBS1VOJAbs6YFLVU4kBuzpgUtVTiQG7OmBS1VOJAbs6YFLVU4kBuzpgUtVTiQG7OmBS1VOJAbs6YFLVU4kBuzpgUtVTiQG7OmBS1VOJAbs6YFLVU4kBuzpgUtVTiQG7OmBS1VOJAbs6YFLVU4kBuzpgUtVTiQG7OmBS1VOJAbs6YFLVU4kBuzpgUtVTiQG7OmBS1VOJAbs6YFLVU4kBuzpgUtVTiQG7OmBS1VOJAbs6YFLVU4kBuzpgUtVTiQG7OmBS1VOJAbs6YFLVU4kBuzpgUtVTiQG7OmBS1VOJAbs6YFLVU4kBuzpgUtVTiQG7OmBS1VOJAbs6YFLVU4kBuzpgUtVTiQG7OmBS1VOJAbs6YFLVU4kBuzpgUtVTiQG7OmBS1VOJAbs6YFLVU4kBuzpgUtVTiQG7OmBS1VOJAbs6YFLVU4kBuzpgUtVTiQG7OmBS1VOJAbs6YFLVU4kBuzpgUtVTiQG7OmBS1VOJAbs6YFLVU4kBuzpgUtVTiQG7OmBS1VOJAbs6YFLVU4kBuzpgUtVTiQG7OmBS1VOJAbs6YFLVU4kBuzpgUtVTiQG7OmBS1VOJAbs6YFLVU4kBuzpgUtVTiQG7OmBS1VOJAbs6YFLVU4kBuzpgUtVTiQG7OmBS1VOJAbs6YFLVU4kBuzpgUtVTiQG7OmBS1VOJAbs6YFLVU4kBuzpgUtVTiQG7OmBS1VOJAbs6YFLVU4kBuzpgUtVTiQG7OmBS1VOJAbs6YFLVU4kBuzpgUtVTiQG7OmBS1VOJAbs6YFLVU4kBuzpgUtVTiQG7OmBS1VOJAbs6YFLVU4kBuzpgUtVTiQG7OmBS1VOJAbs6YFLVU4kBuzpgUtVTiQG7OmBS1VOJAbs6YFLVU4kBuzpgUtVTiQG7OmBS1VOJAbs6YFLVU4kBuzpgUtVTiQG7OmBS1VOJAbs6YFLVU4kBuzpgUtVTiQG7OmBS1VOJAbs6YFLVU4kBuzpgUtVTiQG7OmBS1VOJAbs6YFLVU4kBuzpgUtVTiQG7OmBS1VOJAbs6YFLVU4kBuzpgUtVTiQG7OmBS1VOJAbs6YFLVU4kBuzpgUtVTiQG7OmBS1VOJAbs6YFLVU4kBuzpgUtVTiQG7OmBS1VOJAbs6YFLVU4kBuzpgUtVTiQG7OmBS1VOJAbs6YFLVU4kBuzpgUtVTiQG7OmBS1VOJAbs6YFLVU4kBuzpgUtVTiQG7OmBS1VOJAbs6YFLVU4kBuzpgUtVTiQG7OmBS1VOJAbs6YFLVU4kBuzpgUtVTiQG7OmBS1VOJAbs6YFLVU4kBuzpgUtVTiQG7OmBS1VOJAbs6YFLVU4kBuzpgUtVTiQG7OmBS1VOJAbs6YFLVU4kBuzpgUtVTiQG7OmBS1VOJAbs6YFLVU4kBuzpgUtVTiQG7OmBS1VOJAbs6YFLVU4kBuzpgUtVTiQG7OmBS1VOJAbs6YFLVU4kBuzpgUtVTiQG7OmBS1VOJAbs6YFLVU4kBuzpgUtVTiQG7OmBS1VOJAbs6YFLVU4kBuzpgUtVTiQG7OmBS1VOJAbs6YFLVU4kBuzpgUtVTiQG7OmBS1VOJAbs6YFLVU4kBuzpgUtVTiQG7OmBS1VOJAbs6YFLVU4kBuzpgUtVTiQG7OmBS1VOJAbs6YFLVU4kBuzpgUtVTiQG7OmBS1VOJAbs6YFLVU4kBuzpgUtVTiQG7OmBS1VOJAbs6YFLVU4kBuzpgUtVTiQG7OmBS1VOJAbs6YFLVU4kBuzpgUtVTiQG7OmBS1VOJAbs6YFLVU4kBuzpgUtVTiQG7OmBS1VOJAbs6YFLVU4kBuzpgUtVTiQG7OmBS1VOJAbs6YFLVU4kBuzpgUtVTiQG7OmBS1VOJAbs6YFLVU4kBuzpgUtVTiQG7OmBS1VOJAbs6YFLVU4kBuzpgUtVTiQG7OmBS1VOJAbs6YFLVU4kBuzpgUtVTiQG7OmBS1VOJAbs6YFLVU4kBuzpgUtVTiQG7OmBS1VOJAbs6YFLVU4kBuzpgUtVTiQG7OmBS1VOJAbs6YFLVU4kBuzpgUtVTiQG7OmBS1VOJAbs6YFLVU4kBuzpgUtVTiQG7OmBS1VOJAbs6YFLVU4kBuzpgUtVTiQG7OmBS1VOJAbs6YFLVU4kBuzpgUtVTiQG7OmBS1VOJAbs6YFLVU4kBuzpgUtVTiQG7OmBS1VOJAbs6YFLVU4kBuzpgUtVTiQG7OmBS1VOJAbs6YFLVU4kBuzpgUtVTiQG7OmBS1VOJAbs6YFLVU4kBuzpgUtVTiQG7OmBS1VOJAbs6YFLVU4kBuzpgUtVTiQG7OmBS1VOJAbs6YFLVU4kBuzpgUtVTiQG7OmBS1VOJAbs6YFLVU4kBuzpgUtVTiQG7OmBS1VOJAbs6YFLVU4kBuzpgUtVTiQG7OmBS1VOJAbs6YFLVU4kBuzpgUtVTiQG7OmBS1VOJAbs6YFLVU4kBuzpgUtVTiQG7OmBS1VOJAbs6YFLVU4kBuzpgUtVTiQG7OmBS1VOJAbs6YFLVU4kBuzpgUtVTiQG7OmBS1VOJAbs6YFLVU4kBuzpgUtVTiQG7OmBS1VOJAbs6YFLVU4kBuzpgUtVTiQG7OmBS1VOJAbs6YFLVU4kBuzpgUtVTiQG7OmBS1VOJAbs6YFLVU4kBuzpgUtVTiQG7OmBS1VOJAbs6YFLVU4kBuzpgUtVTiQG7OmBS1VOJAbs6YFLVU4kBuzpgUtVTiQG7OmBS1VOJAbs6YFLVU4kBuzpgUtVTiQG7OmBS1VOJAbs6YFLVU4kBuzpgUtVTiQG7OmBS1VOJAbs6YFLVU4kBuzpgUtVTiQG7OmBS1VOJAbs6YFLVU4kBuzpgUtVTiQG7OmBS1VOJAbs6YFLVU4kBuzpgUtVTiQG7OmBS1VOJAbs6YFLVU4kBuzpgUtVTiQG7OmBS1VOJAbs6YFLVU4kBuzpgUtVTiQG7OmBS1VOJAbs6YFLVU4kBuzpgUtVTiQG7OmBS1VOJAbs6YFLVU4kBuzpgUtVTiQG7OmBS1VOJAbs6YFLVU4kBuzpgUtVTiQG7OmBS1VOJAbs6YFLVU4kBuzpgUtVTiQG7OmBS1VOJAbs6YFLVU4kBuzpgUtVTiQG7OmBS1VOJAbs6YFLVU4kBuzpgUtVTiQG7OmBS1VOJAbs6YFLVU4kBuzpgUtVTiQG7OmBS1VOJAbs6YFLVU4kBuzpgUtVTiQG7OmBS1VOJAbs6YFLVU4kBuzpgUtVTiQG7OmBS1VOJAbs6YFLVU4kBuzpgUtVTiQG7OmBS1VOJAbs6YFLVU4kBuzpgUtVTiQG7OmBS1VOJAbs6YFLVU4kBuzpgUtVTiQG7OmBS1VOJAbs6YFLVU4kBuzpgUtVTiQG7OmBS1VOJAbs6YFLVU4kBuzpgUtVTiQG7OmBS1VOJAbs6YFLVU4kBuzpgUtVTiQG7OmBS1VOJAbs6YFLVU4kBuzpgUtVTiQG7OmBS1VOJAbs6YFLVU4kBuzpgUtVTiQG7OmBS1VOJA",
          "dtype": "f8"
         },
         "yaxis": "y2"
        },
        {
         "line": {
          "width": 2
         },
         "mode": "lines",
         "name": "simulator:/DOT:/total",
         "showlegend": true,
         "type": "scatter",
         "x": {
          "bdata": "AAABAAIAAwAEAAUABgAHAAgACQAKAAsADAANAA4ADwAQABEAEgATABQAFQAWABcAGAAZABoAGwAcAB0AHgAfACAAIQAiACMAJAAlACYAJwAoACkAKgArACwALQAuAC8AMAAxADIAMwA0ADUANgA3ADgAOQA6ADsAPAA9AD4APwBAAEEAQgBDAEQARQBGAEcASABJAEoASwBMAE0ATgBPAFAAUQBSAFMAVABVAFYAVwBYAFkAWgBbAFwAXQBeAF8AYABhAGIAYwBkAGUAZgBnAGgAaQBqAGsAbABtAG4AbwBwAHEAcgBzAHQAdQB2AHcAeAB5AHoAewB8AH0AfgB/AIAAgQCCAIMAhACFAIYAhwCIAIkAigCLAIwAjQCOAI8AkACRAJIAkwCUAJUAlgCXAJgAmQCaAJsAnACdAJ4AnwCgAKEAogCjAKQApQCmAKcAqACpAKoAqwCsAK0ArgCvALAAsQCyALMAtAC1ALYAtwC4ALkAugC7ALwAvQC+AL8AwADBAMIAwwDEAMUAxgDHAMgAyQDKAMsAzADNAM4AzwDQANEA0gDTANQA1QDWANcA2ADZANoA2wDcAN0A3gDfAOAA4QDiAOMA5ADlAOYA5wDoAOkA6gDrAOwA7QDuAO8A8ADxAPIA8wD0APUA9gD3APgA+QD6APsA/AD9AP4A/wAAAQEBAgEDAQQBBQEGAQcBCAEJAQoBCwEMAQ0BDgEPARABEQESARMBFAEVARYBFwEYARkBGgEbARwBHQEeAR8BIAEhASIBIwEkASUBJgEnASgBKQEqASsBLAEtAS4BLwEwATEBMgEzATQBNQE2ATcBOAE5AToBOwE8AT0BPgE/AUABQQFCAUMBRAFFAUYBRwFIAUkBSgFLAUwBTQFOAU8BUAFRAVIBUwFUAVUBVgFXAVgBWQFaAVsBXAFdAV4BXwFgAWEBYgFjAWQBZQFmAWcBaAFpAWoBawFsAW0BbgFvAXABcQFyAXMBdAF1AXYBdwF4AXkBegF7AXwBfQF+AX8BgAGBAYIBgwGEAYUBhgGHAYgBiQGKAYsBjAGNAY4BjwGQAZEBkgGTAZQBlQGWAZcBmAGZAZoBmwGcAZ0BngGfAaABoQGiAaMBpAGlAaYBpwGoAakBqgGrAawBrQGuAa8BsAGxAbIBswG0AbUBtgG3AbgBuQG6AbsBvAG9Ab4BvwHAAcEBwgHDAcQBxQHGAccByAHJAcoBywHMAc0BzgHPAdAB",
          "dtype": "i2"
         },
         "xaxis": "x2",
         "y": {
          "bdata": "AAAAAAAAAAAAAAAAAAAAAAAAAAAAAAAAAAAAAAAAAAAAAAAAAAAAAAAAAAAAAAAAAAAAAAAAAAAAAAAAAAAAAAAAAAAAAAAAAAAAAAAAAAAAAAAAAAAAAAAAAAAAAAAAAAAAAAAAAAAAAAAAAAAAAAAAAAAAAAAAAAAAAAAAAAAAAAAAAAAAAAAAAAAAAAAAAAAAAAAAAAAAAAAAAAAAAAAAAAAAAAAAAAAAAAAAAAAAAAAAAAAAAAAAAAAAAAAAAAAAAAAAAAAAAAAAAAAAAAAAAAAAAAAAAAAAAAAAAAAAAAAAAAAAAAAAAAAAAAAAAAAAAAAAAAAAAAAAAAAAAAAAAAAAAAAAAAAAAAAAAAAAAAAAAAAAAAAAAAAAAAAAAAAAAAAAAAAAAAAAAAAAAAAAAAAAAAAAAAAAAAAAAAAAAAAAAAAAAAAAAAAAAAAAAAAAAAAAAAAAAAAAAAAAAAAAAAAAAAAAAAAAAAAAAAAAAAAAAAAAAAAAAAAAAAAAAAAAAAAAAAAAAAAAAAAAAAAAAAAAAAAAAAAAAAAAAAAAAAAAAAAAAAAAAAAAAAAAAAAAAAAAAAAAAAAAAAAAAAAAAAAAAAAAAAAAAAAAAAAAAAAAAAAAAAAAAAAAAAAAAAAAAAAAAAAAAAAAAAAAAAAAAAAAAAAAAAAAAAAAAAAAAAAAAAAAAAAAAAAAAAAAAAAAAAAAAAAAAAAAAAAAAAAAAAAAAAAAAAAAAAAAAAAAAAAAAAAAAAAAAAAAAAAAAAAAAAAAAAAAAAAAAAAAAAAAAAAAAAAAAAAAAAAAAAAAAAAAAAAAAAAAAAAAAAAAAAAAAAAAAAAAAAAAAAAAAAAAAAAAAAAAAAAAAAAAAAAAAAAAAAAAAAAAAAAAAAAAAAAAAAAAAAAAAAAAAAAAAAAAAAAAAAAAAAAAAAAAAAAAAAAAAAAAAAAAAAAAAAAAAAAAAAAAAAAAAAAAAAAAAAAAAAAAAAAAAAAAAAAAAAAAAAAAAAAAAAAAAAAAAAAAAAAAAAAAAAAAAAAAAAAAAAAAAAAAAAAAAAAAAAAAAAAAAAAAAAAAAG7OmBS1VOJAbs6YFLVU4kBuzpgUtVTiQG7OmBS1VOJAbs6YFLVU4kBuzpgUtVTiQG7OmBS1VOJAbs6YFLVU4kBuzpgUtVTiQG7OmBS1VOJAbs6YFLVU4kBuzpgUtVTiQG7OmBS1VOJAbs6YFLVU4kBuzpgUtVTiQG7OmBS1VOJAbs6YFLVU4kBuzpgUtVTiQG7OmBS1VOJAbs6YFLVU4kBuzpgUtVTiQG7OmBS1VOJAbs6YFLVU4kBuzpgUtVTiQG7OmBS1VOJAbs6YFLVU4kBuzpgUtVTiQG7OmBS1VOJAbs6YFLVU4kBuzpgUtVTiQG7OmBS1VOJAbs6YFLVU4kBuzpgUtVTiQG7OmBS1VOJAbs6YFLVU4kBuzpgUtVTiQG7OmBS1VOJAbs6YFLVU4kBuzpgUtVTiQG7OmBS1VOJAbs6YFLVU4kBuzpgUtVTiQG7OmBS1VOJAbs6YFLVU4kBuzpgUtVTiQG7OmBS1VOJAbs6YFLVU4kBuzpgUtVTiQG7OmBS1VOJAbs6YFLVU4kBuzpgUtVTiQG7OmBS1VOJAbs6YFLVU4kBuzpgUtVTiQG7OmBS1VOJAbs6YFLVU4kBuzpgUtVTiQG7OmBS1VOJAbs6YFLVU4kBuzpgUtVTiQG7OmBS1VOJAbs6YFLVU4kBuzpgUtVTiQG7OmBS1VOJAbs6YFLVU4kBuzpgUtVTiQG7OmBS1VOJAbs6YFLVU4kBuzpgUtVTiQG7OmBS1VOJAbs6YFLVU4kBuzpgUtVTiQG7OmBS1VOJAbs6YFLVU4kBuzpgUtVTiQG7OmBS1VOJAbs6YFLVU4kBuzpgUtVTiQG7OmBS1VOJAbs6YFLVU4kBuzpgUtVTiQG7OmBS1VOJAbs6YFLVU4kBuzpgUtVTiQG7OmBS1VOJAbs6YFLVU4kBuzpgUtVTiQG7OmBS1VOJAbs6YFLVU4kBuzpgUtVTiQG7OmBS1VOJAbs6YFLVU4kBuzpgUtVTiQG7OmBS1VOJAbs6YFLVU4kBuzpgUtVTiQG7OmBS1VOJAbs6YFLVU4kBuzpgUtVTiQG7OmBS1VOJAbs6YFLVU4kBuzpgUtVTiQG7OmBS1VOJAbs6YFLVU4kBuzpgUtVTiQG7OmBS1VOJAbs6YFLVU4kBuzpgUtVTiQG7OmBS1VOJAbs6YFLVU4kBuzpgUtVTiQG7OmBS1VOJAbs6YFLVU4kBuzpgUtVTiQG7OmBS1VOJAbs6YFLVU4kBuzpgUtVTiQG7OmBS1VOJAbs6YFLVU4kBuzpgUtVTiQG7OmBS1VOJAbs6YFLVU4kBuzpgUtVTiQG7OmBS1VOJAbs6YFLVU4kBuzpgUtVTiQG7OmBS1VOJAbs6YFLVU4kBuzpgUtVTiQG7OmBS1VOJAbs6YFLVU4kBuzpgUtVTiQG7OmBS1VOJAbs6YFLVU4kBuzpgUtVTiQG7OmBS1VOJAbs6YFLVU4kBuzpgUtVTiQG7OmBS1VOJAbs6YFLVU4kBuzpgUtVTiQG7OmBS1VOJAbs6YFLVU4kBuzpgUtVTiQG7OmBS1VOJAbs6YFLVU4kBuzpgUtVTiQG7OmBS1VOJAbs6YFLVU4kBuzpgUtVTiQG7OmBS1VOJAbs6YFLVU4kBuzpgUtVTiQG7OmBS1VOJAbs6YFLVU4kBuzpgUtVTiQG7OmBS1VOJAbs6YFLVU4kBuzpgUtVTiQG7OmBS1VOJAbs6YFLVU4kBuzpgUtVTiQG7OmBS1VOJAbs6YFLVU4kBuzpgUtVTiQG7OmBS1VOJAbs6YFLVU4kBuzpgUtVTiQG7OmBS1VOJAbs6YFLVU4kBuzpgUtVTiQG7OmBS1VOJAbs6YFLVU4kBuzpgUtVTiQG7OmBS1VOJAbs6YFLVU4kBuzpgUtVTiQG7OmBS1VOJAbs6YFLVU4kBuzpgUtVTiQG7OmBS1VOJAbs6YFLVU4kBuzpgUtVTiQG7OmBS1VOJAbs6YFLVU4kBuzpgUtVTiQG7OmBS1VOJAbs6YFLVU4kBuzpgUtVTiQG7OmBS1VOJAbs6YFLVU4kBuzpgUtVTiQG7OmBS1VOJAbs6YFLVU4kBuzpgUtVTiQG7OmBS1VOJAbs6YFLVU4kBuzpgUtVTiQG7OmBS1VOJAbs6YFLVU4kBuzpgUtVTiQG7OmBS1VOJAbs6YFLVU4kBuzpgUtVTiQG7OmBS1VOJAbs6YFLVU4kBuzpgUtVTiQG7OmBS1VOJAbs6YFLVU4kBuzpgUtVTiQG7OmBS1VOJAbs6YFLVU4kBuzpgUtVTiQG7OmBS1VOJAbs6YFLVU4kBuzpgUtVTiQG7OmBS1VOJAbs6YFLVU4kBuzpgUtVTiQG7OmBS1VOJAbs6YFLVU4kBuzpgUtVTiQG7OmBS1VOJAbs6YFLVU4kBuzpgUtVTiQG7OmBS1VOJAbs6YFLVU4kBuzpgUtVTiQG7OmBS1VOJAbs6YFLVU4kBuzpgUtVTiQG7OmBS1VOJAbs6YFLVU4kBuzpgUtVTiQG7OmBS1VOJAbs6YFLVU4kBuzpgUtVTiQG7OmBS1VOJAbs6YFLVU4kBuzpgUtVTiQG7OmBS1VOJAbs6YFLVU4kBuzpgUtVTiQG7OmBS1VOJAbs6YFLVU4kBuzpgUtVTiQG7OmBS1VOJAbs6YFLVU4kBuzpgUtVTiQG7OmBS1VOJAbs6YFLVU4kBuzpgUtVTiQG7OmBS1VOJAbs6YFLVU4kBuzpgUtVTiQG7OmBS1VOJAbs6YFLVU4kBuzpgUtVTiQG7OmBS1VOJAbs6YFLVU4kBuzpgUtVTiQG7OmBS1VOJAbs6YFLVU4kBuzpgUtVTiQG7OmBS1VOJAbs6YFLVU4kBuzpgUtVTiQG7OmBS1VOJAbs6YFLVU4kBuzpgUtVTiQG7OmBS1VOJAbs6YFLVU4kBuzpgUtVTiQG7OmBS1VOJAbs6YFLVU4kBuzpgUtVTiQG7OmBS1VOJAbs6YFLVU4kBuzpgUtVTiQG7OmBS1VOJAbs6YFLVU4kBuzpgUtVTiQG7OmBS1VOJAbs6YFLVU4kBuzpgUtVTiQG7OmBS1VOJAbs6YFLVU4kBuzpgUtVTiQG7OmBS1VOJAbs6YFLVU4kBuzpgUtVTiQG7OmBS1VOJAbs6YFLVU4kBuzpgUtVTiQG7OmBS1VOJAbs6YFLVU4kBuzpgUtVTiQG7OmBS1VOJAbs6YFLVU4kBuzpgUtVTiQG7OmBS1VOJAbs6YFLVU4kBuzpgUtVTiQG7OmBS1VOJAbs6YFLVU4kBuzpgUtVTiQG7OmBS1VOJAbs6YFLVU4kBuzpgUtVTiQG7OmBS1VOJAbs6YFLVU4kBuzpgUtVTiQG7OmBS1VOJAbs6YFLVU4kBuzpgUtVTiQG7OmBS1VOJAbs6YFLVU4kBuzpgUtVTiQG7OmBS1VOJAbs6YFLVU4kBuzpgUtVTiQG7OmBS1VOJAbs6YFLVU4kBuzpgUtVTiQG7OmBS1VOJAbs6YFLVU4kBuzpgUtVTiQG7OmBS1VOJAbs6YFLVU4kBuzpgUtVTiQG7OmBS1VOJAbs6YFLVU4kBuzpgUtVTiQG7OmBS1VOJAbs6YFLVU4kBuzpgUtVTiQG7OmBS1VOJAbs6YFLVU4kBuzpgUtVTiQG7OmBS1VOJAbs6YFLVU4kBuzpgUtVTiQG7OmBS1VOJAbs6YFLVU4kBuzpgUtVTiQG7OmBS1VOJAbs6YFLVU4kBuzpgUtVTiQG7OmBS1VOJAbs6YFLVU4kBuzpgUtVTiQG7OmBS1VOJAbs6YFLVU4kBuzpgUtVTiQG7OmBS1VOJAbs6YFLVU4kBuzpgUtVTiQG7OmBS1VOJAbs6YFLVU4kBuzpgUtVTiQG7OmBS1VOJAbs6YFLVU4kBuzpgUtVTiQG7OmBS1VOJA",
          "dtype": "f8"
         },
         "yaxis": "y2"
        },
        {
         "line": {
          "width": 2
         },
         "mode": "lines",
         "name": "simulator:/DOT:/worth",
         "showlegend": true,
         "type": "scatter",
         "x": {
          "bdata": "AAABAAIAAwAEAAUABgAHAAgACQAKAAsADAANAA4ADwAQABEAEgATABQAFQAWABcAGAAZABoAGwAcAB0AHgAfACAAIQAiACMAJAAlACYAJwAoACkAKgArACwALQAuAC8AMAAxADIAMwA0ADUANgA3ADgAOQA6ADsAPAA9AD4APwBAAEEAQgBDAEQARQBGAEcASABJAEoASwBMAE0ATgBPAFAAUQBSAFMAVABVAFYAVwBYAFkAWgBbAFwAXQBeAF8AYABhAGIAYwBkAGUAZgBnAGgAaQBqAGsAbABtAG4AbwBwAHEAcgBzAHQAdQB2AHcAeAB5AHoAewB8AH0AfgB/AIAAgQCCAIMAhACFAIYAhwCIAIkAigCLAIwAjQCOAI8AkACRAJIAkwCUAJUAlgCXAJgAmQCaAJsAnACdAJ4AnwCgAKEAogCjAKQApQCmAKcAqACpAKoAqwCsAK0ArgCvALAAsQCyALMAtAC1ALYAtwC4ALkAugC7ALwAvQC+AL8AwADBAMIAwwDEAMUAxgDHAMgAyQDKAMsAzADNAM4AzwDQANEA0gDTANQA1QDWANcA2ADZANoA2wDcAN0A3gDfAOAA4QDiAOMA5ADlAOYA5wDoAOkA6gDrAOwA7QDuAO8A8ADxAPIA8wD0APUA9gD3APgA+QD6APsA/AD9AP4A/wAAAQEBAgEDAQQBBQEGAQcBCAEJAQoBCwEMAQ0BDgEPARABEQESARMBFAEVARYBFwEYARkBGgEbARwBHQEeAR8BIAEhASIBIwEkASUBJgEnASgBKQEqASsBLAEtAS4BLwEwATEBMgEzATQBNQE2ATcBOAE5AToBOwE8AT0BPgE/AUABQQFCAUMBRAFFAUYBRwFIAUkBSgFLAUwBTQFOAU8BUAFRAVIBUwFUAVUBVgFXAVgBWQFaAVsBXAFdAV4BXwFgAWEBYgFjAWQBZQFmAWcBaAFpAWoBawFsAW0BbgFvAXABcQFyAXMBdAF1AXYBdwF4AXkBegF7AXwBfQF+AX8BgAGBAYIBgwGEAYUBhgGHAYgBiQGKAYsBjAGNAY4BjwGQAZEBkgGTAZQBlQGWAZcBmAGZAZoBmwGcAZ0BngGfAaABoQGiAaMBpAGlAaYBpwGoAakBqgGrAawBrQGuAa8BsAGxAbIBswG0AbUBtgG3AbgBuQG6AbsBvAG9Ab4BvwHAAcEBwgHDAcQBxQHGAccByAHJAcoBywHMAc0BzgHPAdAB",
          "dtype": "i2"
         },
         "xaxis": "x2",
         "y": {
          "bdata": "AAAAAAAAAAAAAAAAAAAAAAAAAAAAAAAAAAAAAAAAAAAAAAAAAAAAAAAAAAAAAAAAAAAAAAAAAAAAAAAAAAAAAAAAAAAAAAAAAAAAAAAAAAAAAAAAAAAAAAAAAAAAAAAAAAAAAAAAAAAAAAAAAAAAAAAAAAAAAAAAAAAAAAAAAAAAAAAAAAAAAAAAAAAAAAAAAAAAAAAAAAAAAAAAAAAAAAAAAAAAAAAAAAAAAAAAAAAAAAAAAAAAAAAAAAAAAAAAAAAAAAAAAAAAAAAAAAAAAAAAAAAAAAAAAAAAAAAAAAAAAAAAAAAAAAAAAAAAAAAAAAAAAAAAAAAAAAAAAAAAAAAAAAAAAAAAAAAAAAAAAAAAAAAAAAAAAAAAAAAAAAAAAAAAAAAAAAAAAAAAAAAAAAAAAAAAAAAAAAAAAAAAAAAAAAAAAAAAAAAAAAAAAAAAAAAAAAAAAAAAAAAAAAAAAAAAAAAAAAAAAAAAAAAAAAAAAAAAAAAAAAAAAAAAAAAAAAAAAAAAAAAAAAAAAAAAAAAAAAAAAAAAAAAAAAAAAAAAAAAAAAAAAAAAAAAAAAAAAAAAAAAAAAAAAAAAAAAAAAAAAAAAAAAAAAAAAAAAAAAAAAAAAAAAAAAAAAAAAAAAAAAAAAAAAAAAAAAAAAAAAAAAAAAAAAAAAAAAAAAAAAAAAAAAAAAAAAAAAAAAAAAAAAAAAAAAAAAAAAAAAAAAAAAAAAAAAAAAAAAAAAAAAAAAAAAAAAAAAAAAAAAAAAAAAAAAAAAAAAAAAAAAAAAAAAAAAAAAAAAAAAAAAAAAAAAAAAAAAAAAAAAAAAAAAAAAAAAAAAAAAAAAAAAAAAAAAAAAAAAAAAAAAAAAAAAAAAAAAAAAAAAAAAAAAAAAAAAAAAAAAAAAAAAAAAAAAAAAAAAAAAAAAAAAAAAAAAAAAAAAAAAAAAAAAAAAAAAAAAAAAAAAAAAAAAAAAAAAAAAAAAAAAAAAAAAAAAAAAAAAAAAAAAAAAAAAAAAAAAAAAAAAAAAAAAAAAAAAAAAAAAAAAAAAAAAAAAAAAAAAAAAAAAAAAAAAAAAAALNiogzplQRBN9pqYcy9BEGGAwm1JzoFQTq7OrUTLAVBfeeGCSl3BUGoGS9fsl8FQbLpj1zAHQZB4oPosFBlBkG1yl+wB4wGQWevj1dDiAdBfiJTqw/6B0FfR+z9U8AIQaAnJEmQnQtBi7Rg9cMrC0Ggc0X3gKIKQTfX8PRwSwtBqDXY+ffnCUG0jBmixZYKQXkwO/DVoAxBjkkPmxqVDEHOlIub6HEMQfG4f0AKEA5Bvol4RiNfDEGZGXCYKFMNQRb8luzMqA1BPHptlV4tDkE3uM3tz1ANQTdsrD/fSw5BDVkn8fZdDEF2qVpFFrAMQaAIAULvog1BMH0blhj8DUFkd0rHzw4QQWtBxJA+fw9BMl7r6V9qDkFMK5FBnMINQXIwVToFzw9BMTH65yf3DkEt6GzwwZIMQUmW4ptFWQxB6RUQRTTFDEHTokzxZ1MMQYtoP0fTJgxBpGLjRV+JDEHpnP2UC00OQc1nmpmw/gxB1bYOxbWwEEHR+9WacpAQQRZcem4LCxFBKpvlQlRNEUFsE1NFWp0QQfJkhHA5dxBByQxF8atAEEFK/p8/ZE8OQeCtbOtE/Q1Bi6ML6bmpDkEVVoaVVCYOQaI18kMnFg1BqPeR67XyDUFV7SNEEwgNQTw/ofN3qgtBPWyS9a8dC0FuButJQGULQVH+hfU0IQtB1RtfoZDLCkGxUVql9qoJQU482aiOrQhBu23cUPVtCUFAEpanEAkJQQY9mKDgAwtBzjqc8mD0C0Hfn57wrYQMQYA+76A96wpBgvLN8kzmC0EPweSUFVQOQR6+Ke9D7gxBj/3t7CmQDUFFtRJI/uoLQbNABZnsKA1BTUq0SD29C0GmQ7OZpvcMQSs0jp6ylwtB8SPE9ZsPC0GxMjeeVbALQanptksH4wpBYNynSMLAC0E1BO+bwFUMQQVqlkcwDgxB3nKt7nURDUGPo/5DohINQYk7TkWbswxBbefHQp9qDUFDtR/tFYINQXBuqO1eWw1B/KcDRbnIDEHAEFnx4k8MQY7vH/KSFwxBk1fQ8Jl2DEHnji+adNQMQakkg+3tZQ1BXNy07dlXDUEgzPfp2mYOQTU/uz2n2A5BsyHikUsuD0GH7zk8wkUPQQCXoZOXrw5Bxg3FOlivD0Fa++SZkukMQWlSGZ1IAQxBNn0BTOnNCkFfgrifOkMLQaJUFUvIEAtBHFZsSyX4CkH0BJRJ430LQUoP9Utu0QpB5YBhn91bC0H9IBb14UALQQEC5kgprwtBk9DioMLuCkGmrvdOOPcJQSef3/hbLgpBG/x8op16CkEboo35Ff0JQdUbX6GQywpB02eAT4HQCUEiNy/6VM8JQT0xxlPJmghBbnEv/9FkCEFAEpanEAkJQU3i6f8GMAhBkQ42VBx7CEFV0XqpzX8IQQcCzP75gAhBgooDqhZZCEHBTp//JEUIQeVFlf322AhBzUvx/mp2CEFRw7lTTp4IQefMdai2yQhB2O5TVSkqCEEgKWH/vVYIQV9H7P1TwAhBUvCqVYYRCEF7m3IAUAkIQXubcgBQCQhBHBugqT51CEE5ffSm0TYJQXxPUVJfBAlBuhPtp23wCEHl66VUb1sIQYMwFAGP2wdBTeLp/wYwCEHg3eT+73kIQTS7VP9CWghB/l5cAyQ2B0G+bc+r3dYHQaOSW1kKBgdB8WEKBN4EB0GXlQlaxNQGQf4jkGE9swRBJEh3YUe6BEFxkEVhW8gEQREQcwpKNAVB9AcOtj7wBEEX8TW5eQsEQUkSb7jJQwRB/Jyvtn3CBEEhwZa2h8kEQfycr7Z9wgRBRriMtFldBUE99vmx4hcGQQK5PgeUHAZB0KXTAttcB0GSh0gERfMGQTXoRQF7zQdBo5JbWQoGB0FvRDFYgloHQVr+XgbuWwZBqif9WUnYBkGGPtVWDr0HQcvEEFSrhQhBFFkNp8cvCUEf/G/9heMIQbcyHVQmgghB5JG2q+fdB0G5qy8ET/oGQVakfAJ+dQdBkFpXAg2AB0EPam9Y6UgHQaTsSgKSgwdBC7adq/HkB0G0911XV5YHQfaql/tDaQlB88nHp/z6CEHQLMFSsuQIQSApYf+9VghBStQoqodOCEE4byasOr4HQYS39KtOzAdBj4dVqVyKCEF4QZD83yIJQTS7VP9CWghBdWDAqJi0CEGVwgcBFN8HQRFLP6wwtwdBkbRGq5T9B0FVd4sARgIIQYCpM1bP6gdBjy1mANUMCEFLARqsv8EHQWy9UK3CaQdB5JG2q+fdB0E6nBeucjEHQYQDFlo/0QZBM62GBKzhBkEOEICvYcsGQX/1VATA7wZB+32Mr9zHBkHYOnUDGi8HQdg6dQMaLwdBMCamWezwBkHgVveuGPIGQbSdbq7PGAdBDImfBKLaBkFu6kGv+twGQSpkBrJdFAZBMJ+4CRVpBUEhZ6cNAEwEQSbPVwwHqwRB/iOQYT2zBEFghTIMlrUEQb4FBWOnSQRB+0LADfZEBEGg0K4MZJIEQaxzEWMiRgRBUgEAYpCTBEETPWQMgqcEQaDQrgxkkgRBUNQOYFggBUFXw58JH3AFQb9f9AsvxwRB21mLZaOSA0EzRby7dVQDQfFyXxDohgNBjxG9ZY+EA0E/Qg67u4UDQSywGrs2ggNBjIrcus+TA0HDudYPn60DQWjt1WWFfQNBprFxu5NpA0F7Jdq8ggMDQdK2G2rNRwJBwCQoakhEAkEMbfZpXFICQYvW/WjAmAJBkD6uZ8f3AkFg/kS8vi0DQdgezGjUpgJBvfc2aBDRAkGOt828BwcDQd8NXRKb9gJBuhZnFMliAkGSa59p/2oCQUEVEBRsewJBlnlgv35MAkF1vSm+e6QCQWxHuGn1YwJBlnlgv35MAkHrsL9oWaoCQZzhEL6FqwJBqmVDaIvNAkFS1AG7QIkDQWyhpxJ94QJBr3MEvgqvAkF6y+oT+4UCQQdfNRTdcAJBdb0pvnukAkG0gcUTipACQboWZxTJYgJBISzbaxnJAUG326cX+nYBQZ1aI26uIwFBWi7XGZnYAEF5vRwZZA0BQSdnjcPQHQFBmtNCw+4yAUGCM45t6k0BQTMK8BmP0QBBIv/cxMm+AEGtC0ca7LgAQWUrKRnfCQFBfn+8wPLpAUGbhyEV/i0CQVa10Q6I9wNB1vHaZpwzA0GwJ+MPGqoDQURQzxA7ZwNBzHtpEhbzAkGcOwBnDSkDQUq4fw9CxgNBhqkZDKC8BEH2NP+3dmMEQTsVKl6bqQVBc3EVtaI2BUFQ1A5gWCAFQWpVkwmkcwVBb71DCKvSBUE2u0daK8MGQYwfmAU+lAZB3Ug2WZkQB0FIIEpYeFMHQYUR5FTWSQhBRPNl+1d3CUFj3JqjqikKQbcyHVQmgghBSXo5AQDRB0EbSJ5Qjn8JQXz1YanXhghBymohqyMICEHp+Waq7jwIQTKOY/0K5whB53KG/y5MCEHU/7UGS0MGQWEa7lYEtgdBLHLUrPSMB0FoCX8AywUIQeNkxamvaghBk5UW/9trCEHtrThX5qAHQTtQ9v+BLAhBYqHOAcSmB0Er+cH8yxQJQcmXH1JzEglBueb7pTV9CUEz6FKmkmQJQSI3L/pUzwlBU4VmoPQRC0F29XvzBrULQQM9pUX4mgxBhWhZkQJVD0GNz4lGXUUQQffMNG9A1hBB/g/B6Ne+DkHtqUtG9lYQQSWNJO3UaxFB82vr7YQzEUFcF4GPwNoPQXB0nMYVQBBB3VOK59QWD0G3iZKQUo0PQex9zehSuw5BXBeBj8DaD0GrvzIRE0sTQYZuTWq5ORJBKs9KZ+8TE0G4afzkHLsTQUmS9YpVDxVBpTH4jR81FEFrzqW5zOsTQb5RJhGYThNBD/s9kmf/EkEUtna8qh8TQUgEob0yyxJB",
          "dtype": "f8"
         },
         "yaxis": "y2"
        },
        {
         "line": {
          "width": 2
         },
         "mode": "lines",
         "name": "pnl",
         "showlegend": true,
         "type": "scatter",
         "x": {
          "bdata": "AAABAAIAAwAEAAUABgAHAAgACQAKAAsADAANAA4ADwAQABEAEgATABQAFQAWABcAGAAZABoAGwAcAB0AHgAfACAAIQAiACMAJAAlACYAJwAoACkAKgArACwALQAuAC8AMAAxADIAMwA0ADUANgA3ADgAOQA6ADsAPAA9AD4APwBAAEEAQgBDAEQARQBGAEcASABJAEoASwBMAE0ATgBPAFAAUQBSAFMAVABVAFYAVwBYAFkAWgBbAFwAXQBeAF8AYABhAGIAYwBkAGUAZgBnAGgAaQBqAGsAbABtAG4AbwBwAHEAcgBzAHQAdQB2AHcAeAB5AHoAewB8AH0AfgB/AIAAgQCCAIMAhACFAIYAhwCIAIkAigCLAIwAjQCOAI8AkACRAJIAkwCUAJUAlgCXAJgAmQCaAJsAnACdAJ4AnwCgAKEAogCjAKQApQCmAKcAqACpAKoAqwCsAK0ArgCvALAAsQCyALMAtAC1ALYAtwC4ALkAugC7ALwAvQC+AL8AwADBAMIAwwDEAMUAxgDHAMgAyQDKAMsAzADNAM4AzwDQANEA0gDTANQA1QDWANcA2ADZANoA2wDcAN0A3gDfAOAA4QDiAOMA5ADlAOYA5wDoAOkA6gDrAOwA7QDuAO8A8ADxAPIA8wD0APUA9gD3APgA+QD6APsA/AD9AP4A/wAAAQEBAgEDAQQBBQEGAQcBCAEJAQoBCwEMAQ0BDgEPARABEQESARMBFAEVARYBFwEYARkBGgEbARwBHQEeAR8BIAEhASIBIwEkASUBJgEnASgBKQEqASsBLAEtAS4BLwEwATEBMgEzATQBNQE2ATcBOAE5AToBOwE8AT0BPgE/AUABQQFCAUMBRAFFAUYBRwFIAUkBSgFLAUwBTQFOAU8BUAFRAVIBUwFUAVUBVgFXAVgBWQFaAVsBXAFdAV4BXwFgAWEBYgFjAWQBZQFmAWcBaAFpAWoBawFsAW0BbgFvAXABcQFyAXMBdAF1AXYBdwF4AXkBegF7AXwBfQF+AX8BgAGBAYIBgwGEAYUBhgGHAYgBiQGKAYsBjAGNAY4BjwGQAZEBkgGTAZQBlQGWAZcBmAGZAZoBmwGcAZ0BngGfAaABoQGiAaMBpAGlAaYBpwGoAakBqgGrAawBrQGuAa8BsAGxAbIBswG0AbUBtgG3AbgBuQG6AbsBvAG9Ab4BvwHAAcEBwgHDAcQBxQHGAccByAHJAcoBywHMAc0BzgHPAdAB",
          "dtype": "i2"
         },
         "xaxis": "x2",
         "y": {
          "bdata": "AAAAAAAAAAAAAAAAAAAAAAAAAAAAAAAAAAAAAAAAAAAAAAAAAAAAAAAAAAAAAAAAAAAAAAAAAAAAAAAAAAAAAAAAAAAAAAAAAAAAAAAAAAAAAAAAAAAAAAAAAAAAAAAAAAAAAAAAAAAAAAAAAAAAAAAAAAAAAAAAAAAAAAAAAAAAAAAAAAAAAAAAAAAAAAAAAAAAAAAAAAAAAAAAAAAAAAAAAAAAAAAAAAAAAAAAAAAAAAAAAAAAAAAAAAAAAAAAAAAAAAAAAAAAAAAAAAAAAAAAAAAAAAAAAAAAAAAAAAAAAAAAAAAAAAAAAAAAAAAAAAAAAAAAAAAAAAAAAAAAAAAAAAAAAAAAAAAAAAAAAAAAAAAAAAAAAAAAAAAAAAAAAAAAAAAAAAAAAAAAAAAAAAAAAAAAAAAAAAAAAAAAAAAAAAAAAAAAAAAAAAAAAAAAAAAAAAAAAAAAAAAAAAAAAAAAAAAAAAAAAAAAAAAAAAAAAAAAAAAAAAAAAAAAAAAAAAAAAAAAAAAAAAAAAAAAAAAAAAAAAAAAAAAAAAAAAAAAAAAAAAAAAAAAAAAAAAAAAAAAAAAAAAAAAAAAAAAAAAAAAAAAAAAAAAAAAAAAAAAAAAAAAAAAAAAAAAAAAAAAAAAAAAAAAAAAAAAAAAAAAAAAAAAAAAAAAAAAAAAAAAAAAAAAAAAAAAAAAAAAAAAAAAAAAAAAAAAAAAAAAAAAAAAAAAAAAAAAAAAAAAAAAAAAAAAAAAAAAAAAAAAAAAAAAAAAAAAAAAAAAAAAAAAAAAAAAAAAAAAAAAAAAAAAAAAAAAAAAAAAAAAAAAAAAAAAAAAAAAAAAAAAAAAAAAAAAAAAAAAAAAAAAAAAAAAAAAAAAAAAAAAAAAAAAAAAAAAAAAAAAAAAAAAAAAAAAAAAAAAAAAAAAAAAAAAAAAAAAAAAAAAAAAAAAAAAAAAAAAAAAAAAAAAAAAAAAAAAAAAAAAAAAAAAAAAAAAAAAAAAAAAAAAAAAAAAAAAAAAAAAAAAAAAAAAAAAAAAAAAAAAAAAAAAAAAAAAAAAAAAAAAAAAAAAAAAAAAAAPC5FklDZ+FAAHh0V5ly8ECgGiX09Pz3QEB2j/xkkvVAAGGPwUqh+UDgr/PBKJj4QDhpuByTHgNBaLrcgrQHCUGotCosC1sKQdCPFnkkHg5BtHS1cZMiEEEAGC6R4uATQVzcp4rm1RxBVC5rbr5vGkHwvkC7gr4aQXygSBvIdhpB5NHWbFYuFUEAhmDz1a0XQchZPCAl7x9BuCvkqCJhHkGcRUq0II4eQcKEFwKHISBB6BTniK7KG0GQ2L/8pMQfQcpARU1ADyBBVHqDMyLGIEEw7TUfFskfQQrMZ41++CFB9BTklc7lHUH8H016IVEfQbZ/cotNECFBEnT/jiLDIEFeU11W1PshQVgd5jUIdCFBLr/0HJ4ZIEFQKAnJNAEeQYByO20nJiFBLuyXzDJLIEF41G9XYrkZQQCoceq/2RhBlDHcnk6jGkGUCwlTomAaQQTLvfhuSBhBQIFiJJxbG0HIhti1jvQgQWiGg/F5zxxBMCpoEz1CIUEMpMd8S9AhQUwvbhIleSJBVERcH7GuI0G0CcBrd+QhQTRKARO5diFBCHlmA3UmIUGsvbaPCDMeQfCrac9W9BxB0NoThIX4HkEkJ4ZhX1sdQZBBYmI+JhtBmPno1MaGHUFUAvm6glMbQfBZW4DUxBhByHfxwl1tF0EIp1u1w4UXQXhlon5npBZBJN0amMOBFkHoiZjgVxATQci1GqkRxQ5BkOzpb87uEEGY65xyhdAPQSAcldK7ixVBzHngs+DpF0EsxLs/tBcZQcApZZAziBRBdEYRixm5FkHcLYr0aNYcQWwENOFQMhpB2I7jieNiHEFU6r6ZV8YaQViAEyjzcCBBUKRZWvFJHEEQrEkkgAEgQUhMxaM+oRtBgBxDFDQQG0E4XtaShtocQVBSrxDldRpBsOyrFp2kHUGMRkTQa3AgQaRoqxBCcB9BVMLQ9zAxIUGo84rHqYUgQQAXQt4zeR9B0NEBknwfH0FsJqfuayMgQR5G7hbqOiBBGFyadbMOH0HkHhks7QMfQSQXnemhCx5BDFQLckzkHkHq5jIGNG8gQbba3I6hwyFBZGgIAHfzIUHqk3MTCGAjQYgGGrskaCRBgLAIVKe1JEFCrhVF+tAlQcCue+KcrCRBolacTaUKJkF6vNcpttkhQUwkP/GshCBBZBdCMx08HUE4jhZvTr0fQRzM0h7jkh5B+IFEgoEdHkE0bf192ycgQcTeyidgfh5B+qdY/dNZIEGuyc5qyq0gQVT98v1LwiBBLPk4Tq0zIEEwpPyYdgMeQZijC1caiR5BBPODvLEtH0FASHHWi7sdQZbofHI/JSBBCB+1ACgvHUFQCoRqeH0cQdS1jInv0xhBHDnhbICCGEEodDfdb5cZQXApXrw6BhdBHGzBKTw5GUGAXKvmIY0YQUwe1GySGhlBlDMMXgM3GUF4WPNWFVMZQbx6JaPZyRpB5D9uNbpeGUFIohlbDoUZQeBJVHvYhRlBhJICXgOmF0EMtm3YRGIYQUxMt7XKZRlBbHplCDn0FkFcPRgx9qEWQWQ9Izn4kBdBsEDYf21fGUEwXKs117kbQYA0TwqvgxtB1NKzZavhHEEg4UC6YG4bQUDIzY3xzxlBVKNAT14nHEGgjURiFeMbQdBo0k/eDh1BcOD8PYH0FkF4wBvySfEYQaDnZ+e/rhNBgHkwZ6BgFEGkeFVzigYSQcASeXbgBQZB4Mb6H68VBkEQ9x7Tt4EFQbhDOHdqyQZBEJZtWblvAUFA1OOgdDMBQei5KusXpgJBEGscq/1+BEEAhd7Pm5YDQWATM48hWQVBMBC0ZSl5CEEYw9QoGlkNQTCeUAW1cwtBWAFly3xmEEF4UwX2CusNQYyVA+O0FBBBSCB92zDCC0EwyX6YJEsOQdCGuik5KgdBcKZp5y6dDUEsMjzsxrERQahaW+TCzRJBUM2/eXNBFEEwGNYhEWwUQXzALaQUgxNBONE1QanaEUE09lPCPK4QQTiZ7vbhmhNB8Ir0/DtaFEEU1P7RMT4TQRC+fnAEOxRBTHIWp3KAFUEAjiV/od4UQTAIO+k8mSRBBrVzRo6BIkHkzByWbNMiQW6FXZxBcyJBUlLYPUuOIkGuvgJqKvYhQbgwJlE8RiNBdoi9gOv/I0FgtbrNKJUjQbAN8J9V8SFBlhHD/jxoIkH6DRWzHlIgQeKrs67aEyBBMAaU+HKyIUFe1k5xq+4hQXT8KvuRkiFBUPmpvR3vIUFy6VBjWwUhQYg+GsBjWyBBDJ0WsJMOIUGkXoxJluceQejgB8VJzhxBJAKfDt9IHEGkWMRWzCAcQQRVCjZLThxBoARJwAGBHEFk50wfFgsfQZCwx862zh9BiP775jM+H0Hcz6sQXMEeQQg7PjJU3x5B8KdrwSu6HUFISi+3LSEfQZgtADIBdBtByAbtexBQGEH4GeI9l6QRQbAzozDXuRFBSM4i33H1EkGwzbHCNoITQWC/hSMZrxFB+KSF3GiqEEEoF7PfV1oTQQjLgX8smBFB+I0/uXzwEEE8aZUqfqsQQXxgba6JYBFBwMEGJO55EUGULR5uu1YUQWROHCagtBFBsPzFCsJvDUFIT76UVpQLQfBI6TaZcQxB0KrS76EjDUG4TJAqvEkNQcAezb43Pw9BEIEbK3OZDkGwAkczLOQPQSBEEfJVKw5B0NIciPgODUHgmM2gc6gIQQjzHoUIvQNBKBPDEFOfBUHAqmCrknwHQZDni4JjyQlBOPtstRxpDEGAVhBSwTgMQWjsBDAE6glBuHf0cZaBDkF0Zo/OXdcQQaA7sV5IMxFBeClWrtR1DUHwoCK0//kOQUAh2ZOf5g9BYFwaevTLDUGo+ZVpbHgQQQCM8sr0TA9BQFpoVJsvEEEYkrP5liYSQcgEbq4pJxNBCNOosTTUFEG4+O/ETmQYQZgGrxu8lRVBOIQE5vFuFkFEOnb4lSIWQbDW3n5f3RRBgHZLS15sFkHQOqG3k6UVQaSNmetliBVBMLnk04ZnEkH4pH9hRAsSQUzwjfwBtxFBHOGnsN0XEEHYegcU6/4QQYgHuWQbdBFBjMeMbabDEUF4r+G9hMgUQYxC5s0GlxNBEMP0CH3SEkF8JcBKkmwVQbD3FgBuYxhBtNQzCjmNHkFo8TqC9rcgQbyla1F27yNBTinflaO3IkFM9jZ9+ackQUi5WBJTviRBcF7DOjlBJEFczfzS9xAkQTq71zK+SyVBjnc+vx1HJ0Fiq4OliDwpQa5dlxD9uStBZBzIGCbPKkGQ5iIJBQorQdAqv8FC2CxBwC2C1L0eLkH1q3FmkYgwQaIGmHzdVDBBcDv6KVmAMUGsCGwxCO4xQRwQHGdnmjVBCAzt+RQwNkEiybQaCvg1QXYVMMLZbDNBSOnL7so0NEE65QXJF603Qaj/yO3WgTRBZMs5Ts2KNEE+liGMua40QQQ31nKlOTZBhs/Zi6GpNEGKI7QJ4NAxQRwEeExBjTRBYt44ATV5NEGgVypVS6Y0QZJSbVrxdTVBklcR/U/+NEH+S5tYHLczQebbB2qw7DRBEK+tqLgTNUFmqKO+3iA1Qf7VPpw1rjVBeIVC4LZ4N0HaCrYYOB03QcJGpwvVCzdBSPzoRfYiN0EmZpVI4Xs3QR5aMnsqiDlBrnZHcviJPUFUuDtaTdU8QS48Kk5r7j1BaBkanSPWOkFiU7TS7tw6QWawy7PJsDxBBnq+aIQUPkEYTmCTBcI7QaA0cPkmRzxBXkwmh47OOkEiJVDtnGM8QcApg4IIaDtBSPJywwFTPkESr0x0d61BQalW67+dDkJB+9FNjit1Q0HSFdQfx95DQc80046WhUVBc3+yjtUnREE+oUynIBdEQeFYiV2NEkNBIwVk/sFdQ0HSia8pprJCQV2vAblgf0JB",
          "dtype": "f8"
         },
         "yaxis": "y2"
        },
        {
         "line": {
          "width": 2
         },
         "mode": "lines",
         "name": "ppl",
         "showlegend": true,
         "type": "scatter",
         "x": {
          "bdata": "AAABAAIAAwAEAAUABgAHAAgACQAKAAsADAANAA4ADwAQABEAEgATABQAFQAWABcAGAAZABoAGwAcAB0AHgAfACAAIQAiACMAJAAlACYAJwAoACkAKgArACwALQAuAC8AMAAxADIAMwA0ADUANgA3ADgAOQA6ADsAPAA9AD4APwBAAEEAQgBDAEQARQBGAEcASABJAEoASwBMAE0ATgBPAFAAUQBSAFMAVABVAFYAVwBYAFkAWgBbAFwAXQBeAF8AYABhAGIAYwBkAGUAZgBnAGgAaQBqAGsAbABtAG4AbwBwAHEAcgBzAHQAdQB2AHcAeAB5AHoAewB8AH0AfgB/AIAAgQCCAIMAhACFAIYAhwCIAIkAigCLAIwAjQCOAI8AkACRAJIAkwCUAJUAlgCXAJgAmQCaAJsAnACdAJ4AnwCgAKEAogCjAKQApQCmAKcAqACpAKoAqwCsAK0ArgCvALAAsQCyALMAtAC1ALYAtwC4ALkAugC7ALwAvQC+AL8AwADBAMIAwwDEAMUAxgDHAMgAyQDKAMsAzADNAM4AzwDQANEA0gDTANQA1QDWANcA2ADZANoA2wDcAN0A3gDfAOAA4QDiAOMA5ADlAOYA5wDoAOkA6gDrAOwA7QDuAO8A8ADxAPIA8wD0APUA9gD3APgA+QD6APsA/AD9AP4A/wAAAQEBAgEDAQQBBQEGAQcBCAEJAQoBCwEMAQ0BDgEPARABEQESARMBFAEVARYBFwEYARkBGgEbARwBHQEeAR8BIAEhASIBIwEkASUBJgEnASgBKQEqASsBLAEtAS4BLwEwATEBMgEzATQBNQE2ATcBOAE5AToBOwE8AT0BPgE/AUABQQFCAUMBRAFFAUYBRwFIAUkBSgFLAUwBTQFOAU8BUAFRAVIBUwFUAVUBVgFXAVgBWQFaAVsBXAFdAV4BXwFgAWEBYgFjAWQBZQFmAWcBaAFpAWoBawFsAW0BbgFvAXABcQFyAXMBdAF1AXYBdwF4AXkBegF7AXwBfQF+AX8BgAGBAYIBgwGEAYUBhgGHAYgBiQGKAYsBjAGNAY4BjwGQAZEBkgGTAZQBlQGWAZcBmAGZAZoBmwGcAZ0BngGfAaABoQGiAaMBpAGlAaYBpwGoAakBqgGrAawBrQGuAa8BsAGxAbIBswG0AbUBtgG3AbgBuQG6AbsBvAG9Ab4BvwHAAcEBwgHDAcQBxQHGAccByAHJAcoBywHMAc0BzgHPAdAB",
          "dtype": "i2"
         },
         "xaxis": "x2",
         "y": {
          "bdata": "AAAAAAAAAAAAAAAAAAAAAAAAAAAAAAAAAAAAAAAAAAAAAAAAAAAAAAAAAAAAAAAAAAAAAAAAAAAAAAAAAAAAAAAAAAAAAAAAAAAAAAAAAAAAAAAAAAAAAAAAAAAAAAAAAAAAAAAAAAAAAAAAAAAAAAAAAAAAAAAAAAAAAAAAAAAAAAAAAAAAAAAAAAAAAAAAAAAAAAAAAAAAAAAAAAAAAAAAAAAAAAAAAAAAAAAAAAAAAAAAAAAAAAAAAAAAAAAAAAAAAAAAAAAAAAAAAAAAAAAAAAAAAAAAAAAAAAAAAAAAAAAAAAAAAAAAAAAAAAAAAAAAAAAAAAAAAAAAAAAAAAAAAAAAAAAAAAAAAAAAAAAAAAAAAAAAAAAAAAAAAAAAAAAAAAAAAAAAAAAAAAAAAAAAAAAAAAAAAAAAAAAAAAAAAAAAAAAAAAAAAAAAAAAAAAAAAAAAAAAAAAAAAAAAAAAAAAAAAAAAAAAAAAAAAAAAAAAAAAAAAAAAAAAAAAAAAAAAAAAAAAAAAAAAAAAAAAAAAAAAAAAAAAAAAAAAAAAAAAAAAAAAAAAAAAAAAAAAAAAAAAAAAAAAAAAAAAAAAAAAAAAAAAAAAAAAAAAAAAAAAAAAAAAAAAAAAAAAAAAAAAAAAAAAAAAAAAAAAAAAAAAAAAAAAAAAAAAAAAAAAAAAAAAAAAAAAAAAAAAAAAAAAAAAAAAAAAAAAAAAAAAAAAAAAAAAAAAAAAAAAAAAAAAAAAAAAAAAAAAAAAAAAAAAAAAAAAAAAAAAAAAAAAAAAAAAAAAAAAAAAAAAAAAAAAAAAAAAAAAAAAAAAAAAAAAAAAAAAAAAAAAAAAAAAAAAAAAAAAAAAAAAAAAAAAAAAAAAAAAAAAAAAAAAAAAAAAAAAAAAAAAAAAAAAAAAAAAAAAAAAAAAAAAAAAAAAAAAAAAAAAAAAAAAAAAAAAAAAAAAAAAAAAAAAAAAAAAAAAAAAAAAAAAAAAAAAAAAAAAAAAAAAAAAAAAAAAAAAAAAAAAAAAAAAAAAAAAAAAAAAAAAAAAAAAAAAAAAAAAAAAAAAAAAAAAAAAAAAOBurIKuP6I/YPFiDyI/sT8QMmqNQie5P8Aa6XqmnrY/IBQNagPguj+wR1JeAMq5P4gDRmFVDMQ/AHIMP/c+yj/w26O8yaLLPzD1R5yrlM8/vP4pCjnr0D9wNEcsFdjUP2yXVdd7PN4/NG6XaX642z9sXrE2FgvcPyAiHJvfv9s/aBtwqrs11j80x3KkS9TYP3x6HWQhvuA/FAt64ura3z88eAE3DAXgP/RIbJAf6uA/yHTS2Egk3T9GI6EQ2afgP6RAwZX11uA/DAHttbmW4T8i+UBALargP+aeIMz31+I/2CpWKplZ3z/8Z80TSWvgP5JOImJ/5OE/wn5sx5ST4T+60koOd9viP+yiDjoSTeI/5jDLTtTh4D8cFEEWVHbfP+5gZP5o++E/ODvFjdEV4T+sWKqYRvnaPyCphSzHDto//L9n0I/u2z9owYhopqjbP0yJHShndtk/4GGqOdGv3D/wUoyFZ8fhP6gc3Vq/Nd4/JM8h49sY4j+UoGrV0K3iP8wO7CTeXuM/6GXBjXOj5D/0HUGc98LiP6Jcf43kT+I/boViWbr74T/4FNN8k6rfP6QngaBmXN4/7Gr8JdQ84D8k/Ex3cMjeP9jzedXbd9w/0LKkqvP13j/ww24YU6fcP1Axap3X+Nk/CGDlvrGQ2D98UIIYR6rYP/ywzGz4vdc/wDPiwaWZ1z94t9wraf3TP9RIfE3aIdA/UFQ6u1/B0T9EKFEkE67QPxTncHyql9Y/WPxBC0ET2T/caknwvU/aPwCMV9OGh9U/1O3h1KvT1z8gmviWBD3eP6SD+PkUeNs/DDdmneLD3T+gt6V4TBPcP8Kd8V1nPeE/bLK6Nrqp3T/66/ltisjgP8CSranV+Nw/tJW3cr9g3D8ETH5jVUHeP7DOJYnxvts/cLuc9TwV3z+MFBVz2TzhP0DQfumae+A/yNDeyfsG4j/KwvGRH1PhP4aSqW1LgOA/Jjsg80FR4D++ZjwLHOzgPxZ9TVi+BOE/5h+oBnVI4D+SDaDjzkLgP1iKpd5Cgd8/RH9a3zky4D/AosWDkjvhP6AhoWyJoOI/qKN0s7HS4j9AlX1U+FDkP2TpVVbpZeU/BsEDzy+35T+4+2UDRuDmPyKGTfC0reU/Jrj5LL4c5z+uxVWcsLfiP3zxgHMWUuE/qL5Ekqmn3j+wBncpAKTgP651DQSLB+A/wFjtugCU3z8APMfDwvDgP4Av7v6T+d8/+Jqsqygl4T9W5yQ2M33hP2RDJMqzkuE/+l9hjyf94D8gm5D3sXjfP5DXHsppAuA/pAtK37RY4D8AStPiSC3fP0o51UQG7uA/HNLaPBOa3j8wv8cLwt/dPxBo9n6uCNo/iOHytkqz2T8oRWX4rdXaP0wKqCqMJNg/6BEy0+Zy2j8kuodjcL7ZP9x4Mse/Uto/0NxAZpJw2j9wk/9vAY7aP6RKiyH6Ftw/bMvxGjea2j+AWSPjZ8LaP7gW5dQ7w9o/cPQKyBfM2D/8wlZOfpHZP4wRxHSfodo/vA3tiqoR2D9cVVW/aLvXP6Trk/MGttg/pIHrGvOa2j9ce0sYoBLdP2SoqnXW2dw/2G2dDNNI3j98rr4yf8PcPwiHbljuENs/JBnfOHmF3T+8p5ok3z3dP6A7VQg4eN4/7DV5QvYR2D/Q4J3sdSfaP+RdnQ2Do9Q/BKKHiAde1T/wbLBesubSPwiAIQi+F8c/YPi5Q1Eoxz9wGn/wKY3GP/Bt+KbH5Mc/ABcBy41Iwj8gb0mbWwnCPwgki/L/jcM/2OGMZN59xT9gENHBMorEP/BK4/SaYsY/gJo/in+pyT+om9oCD8bOP5gcasMVycw/BOKb5m4y0T8QqKWmFl/PP0w8qwKu3NA/kBK9lGEbzT8YvqpV28PPP3gAnzFKSsg/KAXSX3INzz8EcRHE0I3SPzRWdTWYt9M/RO6d7FY91T/8LEKHBmrVPyDIKL+4ddQ/IEmngq+40j94x44bq33RP7h0Kg+ujtQ//LC6oFNX1T/cXu9LfS3UP4ibt+GXNtU/UBLN+NSL1j/ktCeMJ+LVP6YrhAdkmeU/nOcB8a9n4z/EC9NSiL3jP4TC43SxWOM/ph8BUAt14z/ASHuzhtXiP/ARb8nrNeQ/bOC8CqD45D/8xQS6rYjkPyB6XtV10OI/5Aql0yNN4z9m5aWGEx3hP2je4jTJ2+A/lMLoK4WO4j/KQ36Dqs3iP5hI3sAXbeI/WkUzXSLO4j8c2+cbBdnhPxZLo9nLJuE/RloVELDi4T9U7nI98zPgPxRf12eANN4/dLYBmJqo3T/sYVCMlX7dPzDxwC1Krt0/uMDNW3fj3T/ozALij0bgP1a/1JUgreA/rHismVxh4D8GVvFw6B/gP8AL9NieL+A/FG+As9cr3z8K1+QKJVLgP4iXXaNlydw/oCwekGd+2T+YN5Ub/X/SP4wLk05FltI/dAbIqzTh0z/keXwW0HTUP6B5UasBi9I/8P5GnKd50T/YaDNkAUvUP0htFPT3ctI/eOde6yLD0T/AjMBiynrRP6RVFEehONI/vOXagEFT0j9o7MiEp1PVP7TMM2rNkNI/0B77oNDdzj/wkywbTevMPxB3UTZP080/MAeO3v2Nzj8gNpbr8bXOP5ApN9XkYdA/ZKZG2PsK0D/cIIC0YLjQP1AIrCWBos8/2AquhlN4zj+Ib9nXFdvJP8idBEt9ssQ/AO5zWTWsxj9IdWrBo6DIP1iy7skOCss/mHq7LGnKzT/ItQhytJfNP5CgwjRFLMs/iOejOvL8zz9A4kydy6jRP+iptjItCdI/OCAwyS7kzj+wt3ttmj3QP3yYpaGpudA/+NlZk30+zz+IuqmPPUXRP9w8VccYadA/0Oge+OL40D/UlhBwTQjTPzxzMb9WFdQ/nLfjGjnX1T8ofzWVoZPZP1RP3CMnotY/INKNCeqF1z+QqJmM2DXXP+QLpufV4NU/gIxZZDaD1z948CfBw7LWP9hQyxorlNY/bNdwz2RM0z/gqOMSp+vSP8B4QeBMk9I/kPslGv7f0D98yyK7RNLRP7TibVcmTdI/MC7gh46g0j/4K9LQ98rVP/hRWPKiitQ/NLm8Io280z944mBw/XbWPzDQQeW1ktk/mCCJwZIE4D+kv6HM3YfhP+AOizJe5+Q/vGMszWWg4z8+mTrd16jlPzRK2WBHwOU/JJZQ2Rk95T8GZ09dgArlP8ysvBuRVOY/fiwIE5Zo6D/crX1UXHbqP0KF9snHEu0/tDlfe4gc7D+oWLmBQ1rsP8DtHWj1Pu4/kl7EakyV7z+GtBtQK1bxP8Bso3P0H/E/gqeMVvxZ8j9qTYZV/8zyP5wAUn8Mp/Y/1M6iYv9D9z/Mc4WZOwn3P6IvcmxpXvQ/pnkJ+BAw9T/24Ew9hNP4P2Qg6RPbgPU/dNb450CK9T9GhFbd66/1P06bassGTvc/Epc1hZSq9T9aIqKZbK7yP9yZmGfTjPU/LB7vzc139T948/zPFKf1P8qxeQnRgPY/ZrW9A2AD9j9ErTB4R6z0P1wyOEnl8PU//p786dIZ9j+kYcKCnCf2P1yYzP7Qu/Y/gumi+pec+D/K1yRqpzz4Py6/PCZsKvg/dqioAa1C+D9eQr/A6Z/4P1avaq+qxfo/DKNs/0z5/j/uWu812zv+PxKUTvugYv8/rI4m7dwj/D8IZp2e/Cr8P4yLNH2RFf4/9PIt2pOK/z+8/2UyNBv9P166MSLNpv0/omzpjOkb/D8WYjYCpcT9P46UHRXYvPw/3LhHSxrM/z/Aov+xS4kCQKoUFRcq7wJAwiuQrSJnBEAoqLWG39UEQK1/a8w4kQZAs7DccnoiBUCrwjbK9RAFQDeT5yC6/wNAJar4+JVOBEDVoadTKpsDQBNnJE5nZQNA",
          "dtype": "f8"
         },
         "yaxis": "y2"
        },
        {
         "close": {
          "bdata": "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",
          "dtype": "f8"
         },
         "decreasing": {
          "line": {
           "color": "red"
          }
         },
         "high": {
          "bdata": "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",
          "dtype": "f8"
         },
         "increasing": {
          "line": {
           "color": "green"
          }
         },
         "low": {
          "bdata": "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",
          "dtype": "f8"
         },
         "name": "Price",
         "open": {
          "bdata": "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",
          "dtype": "f8"
         },
         "showlegend": false,
         "type": "candlestick",
         "x": {
          "bdata": "AAABAAIAAwAEAAUABgAHAAgACQAKAAsADAANAA4ADwAQABEAEgATABQAFQAWABcAGAAZABoAGwAcAB0AHgAfACAAIQAiACMAJAAlACYAJwAoACkAKgArACwALQAuAC8AMAAxADIAMwA0ADUANgA3ADgAOQA6ADsAPAA9AD4APwBAAEEAQgBDAEQARQBGAEcASABJAEoASwBMAE0ATgBPAFAAUQBSAFMAVABVAFYAVwBYAFkAWgBbAFwAXQBeAF8AYABhAGIAYwBkAGUAZgBnAGgAaQBqAGsAbABtAG4AbwBwAHEAcgBzAHQAdQB2AHcAeAB5AHoAewB8AH0AfgB/AIAAgQCCAIMAhACFAIYAhwCIAIkAigCLAIwAjQCOAI8AkACRAJIAkwCUAJUAlgCXAJgAmQCaAJsAnACdAJ4AnwCgAKEAogCjAKQApQCmAKcAqACpAKoAqwCsAK0ArgCvALAAsQCyALMAtAC1ALYAtwC4ALkAugC7ALwAvQC+AL8AwADBAMIAwwDEAMUAxgDHAMgAyQDKAMsAzADNAM4AzwDQANEA0gDTANQA1QDWANcA2ADZANoA2wDcAN0A3gDfAOAA4QDiAOMA5ADlAOYA5wDoAOkA6gDrAOwA7QDuAO8A8ADxAPIA8wD0APUA9gD3APgA+QD6APsA/AD9AP4A/wAAAQEBAgEDAQQBBQEGAQcBCAEJAQoBCwEMAQ0BDgEPARABEQESARMBFAEVARYBFwEYARkBGgEbARwBHQEeAR8BIAEhASIBIwEkASUBJgEnASgBKQEqASsBLAEtAS4BLwEwATEBMgEzATQBNQE2ATcBOAE5AToBOwE8AT0BPgE/AUABQQFCAUMBRAFFAUYBRwFIAUkBSgFLAUwBTQFOAU8BUAFRAVIBUwFUAVUBVgFXAVgBWQFaAVsBXAFdAV4BXwFgAWEBYgFjAWQBZQFmAWcBaAFpAWoBawFsAW0BbgFvAXABcQFyAXMBdAF1AXYBdwF4AXkBegF7AXwBfQF+AX8BgAGBAYIBgwGEAYUBhgGHAYgBiQGKAYsBjAGNAY4BjwGQAZEBkgGTAZQBlQGWAZcBmAGZAZoBmwGcAZ0BngGfAaABoQGiAaMBpAGlAaYBpwGoAakBqgGrAawBrQGuAa8BsAGxAbIBswG0AbUBtgG3AbgBuQG6AbsBvAG9Ab4BvwHAAcEBwgHDAcQBxQHGAccByAHJAcoBywHMAc0BzgHPAdAB",
          "dtype": "i2"
         },
         "xaxis": "x3",
         "yaxis": "y3"
        },
        {
         "line": {
          "color": "blue",
          "width": 2
         },
         "mode": "lines",
         "name": "LINK Free",
         "showlegend": true,
         "type": "scatter",
         "x": {
          "bdata": "AAABAAIAAwAEAAUABgAHAAgACQAKAAsADAANAA4ADwAQABEAEgATABQAFQAWABcAGAAZABoAGwAcAB0AHgAfACAAIQAiACMAJAAlACYAJwAoACkAKgArACwALQAuAC8AMAAxADIAMwA0ADUANgA3ADgAOQA6ADsAPAA9AD4APwBAAEEAQgBDAEQARQBGAEcASABJAEoASwBMAE0ATgBPAFAAUQBSAFMAVABVAFYAVwBYAFkAWgBbAFwAXQBeAF8AYABhAGIAYwBkAGUAZgBnAGgAaQBqAGsAbABtAG4AbwBwAHEAcgBzAHQAdQB2AHcAeAB5AHoAewB8AH0AfgB/AIAAgQCCAIMAhACFAIYAhwCIAIkAigCLAIwAjQCOAI8AkACRAJIAkwCUAJUAlgCXAJgAmQCaAJsAnACdAJ4AnwCgAKEAogCjAKQApQCmAKcAqACpAKoAqwCsAK0ArgCvALAAsQCyALMAtAC1ALYAtwC4ALkAugC7ALwAvQC+AL8AwADBAMIAwwDEAMUAxgDHAMgAyQDKAMsAzADNAM4AzwDQANEA0gDTANQA1QDWANcA2ADZANoA2wDcAN0A3gDfAOAA4QDiAOMA5ADlAOYA5wDoAOkA6gDrAOwA7QDuAO8A8ADxAPIA8wD0APUA9gD3APgA+QD6APsA/AD9AP4A/wAAAQEBAgEDAQQBBQEGAQcBCAEJAQoBCwEMAQ0BDgEPARABEQESARMBFAEVARYBFwEYARkBGgEbARwBHQEeAR8BIAEhASIBIwEkASUBJgEnASgBKQEqASsBLAEtAS4BLwEwATEBMgEzATQBNQE2ATcBOAE5AToBOwE8AT0BPgE/AUABQQFCAUMBRAFFAUYBRwFIAUkBSgFLAUwBTQFOAU8BUAFRAVIBUwFUAVUBVgFXAVgBWQFaAVsBXAFdAV4BXwFgAWEBYgFjAWQBZQFmAWcBaAFpAWoBawFsAW0BbgFvAXABcQFyAXMBdAF1AXYBdwF4AXkBegF7AXwBfQF+AX8BgAGBAYIBgwGEAYUBhgGHAYgBiQGKAYsBjAGNAY4BjwGQAZEBkgGTAZQBlQGWAZcBmAGZAZoBmwGcAZ0BngGfAaABoQGiAaMBpAGlAaYBpwGoAakBqgGrAawBrQGuAa8BsAGxAbIBswG0AbUBtgG3AbgBuQG6AbsBvAG9Ab4BvwHAAcEBwgHDAcQBxQHGAccByAHJAcoBywHMAc0BzgHPAdAB",
          "dtype": "i2"
         },
         "xaxis": "x3",
         "y": {
          "bdata": "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",
          "dtype": "f8"
         },
         "yaxis": "y3"
        },
        {
         "line": {
          "color": "orange",
          "width": 2
         },
         "mode": "lines",
         "name": "LINK Reserved",
         "showlegend": true,
         "type": "scatter",
         "x": {
          "bdata": "AAABAAIAAwAEAAUABgAHAAgACQAKAAsADAANAA4ADwAQABEAEgATABQAFQAWABcAGAAZABoAGwAcAB0AHgAfACAAIQAiACMAJAAlACYAJwAoACkAKgArACwALQAuAC8AMAAxADIAMwA0ADUANgA3ADgAOQA6ADsAPAA9AD4APwBAAEEAQgBDAEQARQBGAEcASABJAEoASwBMAE0ATgBPAFAAUQBSAFMAVABVAFYAVwBYAFkAWgBbAFwAXQBeAF8AYABhAGIAYwBkAGUAZgBnAGgAaQBqAGsAbABtAG4AbwBwAHEAcgBzAHQAdQB2AHcAeAB5AHoAewB8AH0AfgB/AIAAgQCCAIMAhACFAIYAhwCIAIkAigCLAIwAjQCOAI8AkACRAJIAkwCUAJUAlgCXAJgAmQCaAJsAnACdAJ4AnwCgAKEAogCjAKQApQCmAKcAqACpAKoAqwCsAK0ArgCvALAAsQCyALMAtAC1ALYAtwC4ALkAugC7ALwAvQC+AL8AwADBAMIAwwDEAMUAxgDHAMgAyQDKAMsAzADNAM4AzwDQANEA0gDTANQA1QDWANcA2ADZANoA2wDcAN0A3gDfAOAA4QDiAOMA5ADlAOYA5wDoAOkA6gDrAOwA7QDuAO8A8ADxAPIA8wD0APUA9gD3APgA+QD6APsA/AD9AP4A/wAAAQEBAgEDAQQBBQEGAQcBCAEJAQoBCwEMAQ0BDgEPARABEQESARMBFAEVARYBFwEYARkBGgEbARwBHQEeAR8BIAEhASIBIwEkASUBJgEnASgBKQEqASsBLAEtAS4BLwEwATEBMgEzATQBNQE2ATcBOAE5AToBOwE8AT0BPgE/AUABQQFCAUMBRAFFAUYBRwFIAUkBSgFLAUwBTQFOAU8BUAFRAVIBUwFUAVUBVgFXAVgBWQFaAVsBXAFdAV4BXwFgAWEBYgFjAWQBZQFmAWcBaAFpAWoBawFsAW0BbgFvAXABcQFyAXMBdAF1AXYBdwF4AXkBegF7AXwBfQF+AX8BgAGBAYIBgwGEAYUBhgGHAYgBiQGKAYsBjAGNAY4BjwGQAZEBkgGTAZQBlQGWAZcBmAGZAZoBmwGcAZ0BngGfAaABoQGiAaMBpAGlAaYBpwGoAakBqgGrAawBrQGuAa8BsAGxAbIBswG0AbUBtgG3AbgBuQG6AbsBvAG9Ab4BvwHAAcEBwgHDAcQBxQHGAccByAHJAcoBywHMAc0BzgHPAdAB",
          "dtype": "i2"
         },
         "xaxis": "x3",
         "y": {
          "bdata": "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",
          "dtype": "f8"
         },
         "yaxis": "y3"
        },
        {
         "line": {
          "color": "blue",
          "width": 2
         },
         "mode": "lines",
         "name": "SOL Free",
         "showlegend": true,
         "type": "scatter",
         "x": {
          "bdata": "AAABAAIAAwAEAAUABgAHAAgACQAKAAsADAANAA4ADwAQABEAEgATABQAFQAWABcAGAAZABoAGwAcAB0AHgAfACAAIQAiACMAJAAlACYAJwAoACkAKgArACwALQAuAC8AMAAxADIAMwA0ADUANgA3ADgAOQA6ADsAPAA9AD4APwBAAEEAQgBDAEQARQBGAEcASABJAEoASwBMAE0ATgBPAFAAUQBSAFMAVABVAFYAVwBYAFkAWgBbAFwAXQBeAF8AYABhAGIAYwBkAGUAZgBnAGgAaQBqAGsAbABtAG4AbwBwAHEAcgBzAHQAdQB2AHcAeAB5AHoAewB8AH0AfgB/AIAAgQCCAIMAhACFAIYAhwCIAIkAigCLAIwAjQCOAI8AkACRAJIAkwCUAJUAlgCXAJgAmQCaAJsAnACdAJ4AnwCgAKEAogCjAKQApQCmAKcAqACpAKoAqwCsAK0ArgCvALAAsQCyALMAtAC1ALYAtwC4ALkAugC7ALwAvQC+AL8AwADBAMIAwwDEAMUAxgDHAMgAyQDKAMsAzADNAM4AzwDQANEA0gDTANQA1QDWANcA2ADZANoA2wDcAN0A3gDfAOAA4QDiAOMA5ADlAOYA5wDoAOkA6gDrAOwA7QDuAO8A8ADxAPIA8wD0APUA9gD3APgA+QD6APsA/AD9AP4A/wAAAQEBAgEDAQQBBQEGAQcBCAEJAQoBCwEMAQ0BDgEPARABEQESARMBFAEVARYBFwEYARkBGgEbARwBHQEeAR8BIAEhASIBIwEkASUBJgEnASgBKQEqASsBLAEtAS4BLwEwATEBMgEzATQBNQE2ATcBOAE5AToBOwE8AT0BPgE/AUABQQFCAUMBRAFFAUYBRwFIAUkBSgFLAUwBTQFOAU8BUAFRAVIBUwFUAVUBVgFXAVgBWQFaAVsBXAFdAV4BXwFgAWEBYgFjAWQBZQFmAWcBaAFpAWoBawFsAW0BbgFvAXABcQFyAXMBdAF1AXYBdwF4AXkBegF7AXwBfQF+AX8BgAGBAYIBgwGEAYUBhgGHAYgBiQGKAYsBjAGNAY4BjwGQAZEBkgGTAZQBlQGWAZcBmAGZAZoBmwGcAZ0BngGfAaABoQGiAaMBpAGlAaYBpwGoAakBqgGrAawBrQGuAa8BsAGxAbIBswG0AbUBtgG3AbgBuQG6AbsBvAG9Ab4BvwHAAcEBwgHDAcQBxQHGAccByAHJAcoBywHMAc0BzgHPAdAB",
          "dtype": "i2"
         },
         "xaxis": "x3",
         "y": {
          "bdata": "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",
          "dtype": "f8"
         },
         "yaxis": "y3"
        },
        {
         "line": {
          "color": "orange",
          "width": 2
         },
         "mode": "lines",
         "name": "SOL Reserved",
         "showlegend": true,
         "type": "scatter",
         "x": {
          "bdata": "AAABAAIAAwAEAAUABgAHAAgACQAKAAsADAANAA4ADwAQABEAEgATABQAFQAWABcAGAAZABoAGwAcAB0AHgAfACAAIQAiACMAJAAlACYAJwAoACkAKgArACwALQAuAC8AMAAxADIAMwA0ADUANgA3ADgAOQA6ADsAPAA9AD4APwBAAEEAQgBDAEQARQBGAEcASABJAEoASwBMAE0ATgBPAFAAUQBSAFMAVABVAFYAVwBYAFkAWgBbAFwAXQBeAF8AYABhAGIAYwBkAGUAZgBnAGgAaQBqAGsAbABtAG4AbwBwAHEAcgBzAHQAdQB2AHcAeAB5AHoAewB8AH0AfgB/AIAAgQCCAIMAhACFAIYAhwCIAIkAigCLAIwAjQCOAI8AkACRAJIAkwCUAJUAlgCXAJgAmQCaAJsAnACdAJ4AnwCgAKEAogCjAKQApQCmAKcAqACpAKoAqwCsAK0ArgCvALAAsQCyALMAtAC1ALYAtwC4ALkAugC7ALwAvQC+AL8AwADBAMIAwwDEAMUAxgDHAMgAyQDKAMsAzADNAM4AzwDQANEA0gDTANQA1QDWANcA2ADZANoA2wDcAN0A3gDfAOAA4QDiAOMA5ADlAOYA5wDoAOkA6gDrAOwA7QDuAO8A8ADxAPIA8wD0APUA9gD3APgA+QD6APsA/AD9AP4A/wAAAQEBAgEDAQQBBQEGAQcBCAEJAQoBCwEMAQ0BDgEPARABEQESARMBFAEVARYBFwEYARkBGgEbARwBHQEeAR8BIAEhASIBIwEkASUBJgEnASgBKQEqASsBLAEtAS4BLwEwATEBMgEzATQBNQE2ATcBOAE5AToBOwE8AT0BPgE/AUABQQFCAUMBRAFFAUYBRwFIAUkBSgFLAUwBTQFOAU8BUAFRAVIBUwFUAVUBVgFXAVgBWQFaAVsBXAFdAV4BXwFgAWEBYgFjAWQBZQFmAWcBaAFpAWoBawFsAW0BbgFvAXABcQFyAXMBdAF1AXYBdwF4AXkBegF7AXwBfQF+AX8BgAGBAYIBgwGEAYUBhgGHAYgBiQGKAYsBjAGNAY4BjwGQAZEBkgGTAZQBlQGWAZcBmAGZAZoBmwGcAZ0BngGfAaABoQGiAaMBpAGlAaYBpwGoAakBqgGrAawBrQGuAa8BsAGxAbIBswG0AbUBtgG3AbgBuQG6AbsBvAG9Ab4BvwHAAcEBwgHDAcQBxQHGAccByAHJAcoBywHMAc0BzgHPAdAB",
          "dtype": "i2"
         },
         "xaxis": "x3",
         "y": {
          "bdata": "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",
          "dtype": "f8"
         },
         "yaxis": "y3"
        },
        {
         "line": {
          "color": "blue",
          "width": 2
         },
         "mode": "lines",
         "name": "XRP Free",
         "showlegend": true,
         "type": "scatter",
         "x": {
          "bdata": "AAABAAIAAwAEAAUABgAHAAgACQAKAAsADAANAA4ADwAQABEAEgATABQAFQAWABcAGAAZABoAGwAcAB0AHgAfACAAIQAiACMAJAAlACYAJwAoACkAKgArACwALQAuAC8AMAAxADIAMwA0ADUANgA3ADgAOQA6ADsAPAA9AD4APwBAAEEAQgBDAEQARQBGAEcASABJAEoASwBMAE0ATgBPAFAAUQBSAFMAVABVAFYAVwBYAFkAWgBbAFwAXQBeAF8AYABhAGIAYwBkAGUAZgBnAGgAaQBqAGsAbABtAG4AbwBwAHEAcgBzAHQAdQB2AHcAeAB5AHoAewB8AH0AfgB/AIAAgQCCAIMAhACFAIYAhwCIAIkAigCLAIwAjQCOAI8AkACRAJIAkwCUAJUAlgCXAJgAmQCaAJsAnACdAJ4AnwCgAKEAogCjAKQApQCmAKcAqACpAKoAqwCsAK0ArgCvALAAsQCyALMAtAC1ALYAtwC4ALkAugC7ALwAvQC+AL8AwADBAMIAwwDEAMUAxgDHAMgAyQDKAMsAzADNAM4AzwDQANEA0gDTANQA1QDWANcA2ADZANoA2wDcAN0A3gDfAOAA4QDiAOMA5ADlAOYA5wDoAOkA6gDrAOwA7QDuAO8A8ADxAPIA8wD0APUA9gD3APgA+QD6APsA/AD9AP4A/wAAAQEBAgEDAQQBBQEGAQcBCAEJAQoBCwEMAQ0BDgEPARABEQESARMBFAEVARYBFwEYARkBGgEbARwBHQEeAR8BIAEhASIBIwEkASUBJgEnASgBKQEqASsBLAEtAS4BLwEwATEBMgEzATQBNQE2ATcBOAE5AToBOwE8AT0BPgE/AUABQQFCAUMBRAFFAUYBRwFIAUkBSgFLAUwBTQFOAU8BUAFRAVIBUwFUAVUBVgFXAVgBWQFaAVsBXAFdAV4BXwFgAWEBYgFjAWQBZQFmAWcBaAFpAWoBawFsAW0BbgFvAXABcQFyAXMBdAF1AXYBdwF4AXkBegF7AXwBfQF+AX8BgAGBAYIBgwGEAYUBhgGHAYgBiQGKAYsBjAGNAY4BjwGQAZEBkgGTAZQBlQGWAZcBmAGZAZoBmwGcAZ0BngGfAaABoQGiAaMBpAGlAaYBpwGoAakBqgGrAawBrQGuAa8BsAGxAbIBswG0AbUBtgG3AbgBuQG6AbsBvAG9Ab4BvwHAAcEBwgHDAcQBxQHGAccByAHJAcoBywHMAc0BzgHPAdAB",
          "dtype": "i2"
         },
         "xaxis": "x3",
         "y": {
          "bdata": "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",
          "dtype": "f8"
         },
         "yaxis": "y3"
        },
        {
         "line": {
          "color": "orange",
          "width": 2
         },
         "mode": "lines",
         "name": "XRP Reserved",
         "showlegend": true,
         "type": "scatter",
         "x": {
          "bdata": "AAABAAIAAwAEAAUABgAHAAgACQAKAAsADAANAA4ADwAQABEAEgATABQAFQAWABcAGAAZABoAGwAcAB0AHgAfACAAIQAiACMAJAAlACYAJwAoACkAKgArACwALQAuAC8AMAAxADIAMwA0ADUANgA3ADgAOQA6ADsAPAA9AD4APwBAAEEAQgBDAEQARQBGAEcASABJAEoASwBMAE0ATgBPAFAAUQBSAFMAVABVAFYAVwBYAFkAWgBbAFwAXQBeAF8AYABhAGIAYwBkAGUAZgBnAGgAaQBqAGsAbABtAG4AbwBwAHEAcgBzAHQAdQB2AHcAeAB5AHoAewB8AH0AfgB/AIAAgQCCAIMAhACFAIYAhwCIAIkAigCLAIwAjQCOAI8AkACRAJIAkwCUAJUAlgCXAJgAmQCaAJsAnACdAJ4AnwCgAKEAogCjAKQApQCmAKcAqACpAKoAqwCsAK0ArgCvALAAsQCyALMAtAC1ALYAtwC4ALkAugC7ALwAvQC+AL8AwADBAMIAwwDEAMUAxgDHAMgAyQDKAMsAzADNAM4AzwDQANEA0gDTANQA1QDWANcA2ADZANoA2wDcAN0A3gDfAOAA4QDiAOMA5ADlAOYA5wDoAOkA6gDrAOwA7QDuAO8A8ADxAPIA8wD0APUA9gD3APgA+QD6APsA/AD9AP4A/wAAAQEBAgEDAQQBBQEGAQcBCAEJAQoBCwEMAQ0BDgEPARABEQESARMBFAEVARYBFwEYARkBGgEbARwBHQEeAR8BIAEhASIBIwEkASUBJgEnASgBKQEqASsBLAEtAS4BLwEwATEBMgEzATQBNQE2ATcBOAE5AToBOwE8AT0BPgE/AUABQQFCAUMBRAFFAUYBRwFIAUkBSgFLAUwBTQFOAU8BUAFRAVIBUwFUAVUBVgFXAVgBWQFaAVsBXAFdAV4BXwFgAWEBYgFjAWQBZQFmAWcBaAFpAWoBawFsAW0BbgFvAXABcQFyAXMBdAF1AXYBdwF4AXkBegF7AXwBfQF+AX8BgAGBAYIBgwGEAYUBhgGHAYgBiQGKAYsBjAGNAY4BjwGQAZEBkgGTAZQBlQGWAZcBmAGZAZoBmwGcAZ0BngGfAaABoQGiAaMBpAGlAaYBpwGoAakBqgGrAawBrQGuAa8BsAGxAbIBswG0AbUBtgG3AbgBuQG6AbsBvAG9Ab4BvwHAAcEBwgHDAcQBxQHGAccByAHJAcoBywHMAc0BzgHPAdAB",
          "dtype": "i2"
         },
         "xaxis": "x3",
         "y": {
          "bdata": "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",
          "dtype": "f8"
         },
         "yaxis": "y3"
        },
        {
         "line": {
          "color": "blue",
          "width": 2
         },
         "mode": "lines",
         "name": "BNB Free",
         "showlegend": true,
         "type": "scatter",
         "x": {
          "bdata": "AAABAAIAAwAEAAUABgAHAAgACQAKAAsADAANAA4ADwAQABEAEgATABQAFQAWABcAGAAZABoAGwAcAB0AHgAfACAAIQAiACMAJAAlACYAJwAoACkAKgArACwALQAuAC8AMAAxADIAMwA0ADUANgA3ADgAOQA6ADsAPAA9AD4APwBAAEEAQgBDAEQARQBGAEcASABJAEoASwBMAE0ATgBPAFAAUQBSAFMAVABVAFYAVwBYAFkAWgBbAFwAXQBeAF8AYABhAGIAYwBkAGUAZgBnAGgAaQBqAGsAbABtAG4AbwBwAHEAcgBzAHQAdQB2AHcAeAB5AHoAewB8AH0AfgB/AIAAgQCCAIMAhACFAIYAhwCIAIkAigCLAIwAjQCOAI8AkACRAJIAkwCUAJUAlgCXAJgAmQCaAJsAnACdAJ4AnwCgAKEAogCjAKQApQCmAKcAqACpAKoAqwCsAK0ArgCvALAAsQCyALMAtAC1ALYAtwC4ALkAugC7ALwAvQC+AL8AwADBAMIAwwDEAMUAxgDHAMgAyQDKAMsAzADNAM4AzwDQANEA0gDTANQA1QDWANcA2ADZANoA2wDcAN0A3gDfAOAA4QDiAOMA5ADlAOYA5wDoAOkA6gDrAOwA7QDuAO8A8ADxAPIA8wD0APUA9gD3APgA+QD6APsA/AD9AP4A/wAAAQEBAgEDAQQBBQEGAQcBCAEJAQoBCwEMAQ0BDgEPARABEQESARMBFAEVARYBFwEYARkBGgEbARwBHQEeAR8BIAEhASIBIwEkASUBJgEnASgBKQEqASsBLAEtAS4BLwEwATEBMgEzATQBNQE2ATcBOAE5AToBOwE8AT0BPgE/AUABQQFCAUMBRAFFAUYBRwFIAUkBSgFLAUwBTQFOAU8BUAFRAVIBUwFUAVUBVgFXAVgBWQFaAVsBXAFdAV4BXwFgAWEBYgFjAWQBZQFmAWcBaAFpAWoBawFsAW0BbgFvAXABcQFyAXMBdAF1AXYBdwF4AXkBegF7AXwBfQF+AX8BgAGBAYIBgwGEAYUBhgGHAYgBiQGKAYsBjAGNAY4BjwGQAZEBkgGTAZQBlQGWAZcBmAGZAZoBmwGcAZ0BngGfAaABoQGiAaMBpAGlAaYBpwGoAakBqgGrAawBrQGuAa8BsAGxAbIBswG0AbUBtgG3AbgBuQG6AbsBvAG9Ab4BvwHAAcEBwgHDAcQBxQHGAccByAHJAcoBywHMAc0BzgHPAdAB",
          "dtype": "i2"
         },
         "xaxis": "x3",
         "y": {
          "bdata": "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",
          "dtype": "f8"
         },
         "yaxis": "y3"
        },
        {
         "line": {
          "color": "orange",
          "width": 2
         },
         "mode": "lines",
         "name": "BNB Reserved",
         "showlegend": true,
         "type": "scatter",
         "x": {
          "bdata": "AAABAAIAAwAEAAUABgAHAAgACQAKAAsADAANAA4ADwAQABEAEgATABQAFQAWABcAGAAZABoAGwAcAB0AHgAfACAAIQAiACMAJAAlACYAJwAoACkAKgArACwALQAuAC8AMAAxADIAMwA0ADUANgA3ADgAOQA6ADsAPAA9AD4APwBAAEEAQgBDAEQARQBGAEcASABJAEoASwBMAE0ATgBPAFAAUQBSAFMAVABVAFYAVwBYAFkAWgBbAFwAXQBeAF8AYABhAGIAYwBkAGUAZgBnAGgAaQBqAGsAbABtAG4AbwBwAHEAcgBzAHQAdQB2AHcAeAB5AHoAewB8AH0AfgB/AIAAgQCCAIMAhACFAIYAhwCIAIkAigCLAIwAjQCOAI8AkACRAJIAkwCUAJUAlgCXAJgAmQCaAJsAnACdAJ4AnwCgAKEAogCjAKQApQCmAKcAqACpAKoAqwCsAK0ArgCvALAAsQCyALMAtAC1ALYAtwC4ALkAugC7ALwAvQC+AL8AwADBAMIAwwDEAMUAxgDHAMgAyQDKAMsAzADNAM4AzwDQANEA0gDTANQA1QDWANcA2ADZANoA2wDcAN0A3gDfAOAA4QDiAOMA5ADlAOYA5wDoAOkA6gDrAOwA7QDuAO8A8ADxAPIA8wD0APUA9gD3APgA+QD6APsA/AD9AP4A/wAAAQEBAgEDAQQBBQEGAQcBCAEJAQoBCwEMAQ0BDgEPARABEQESARMBFAEVARYBFwEYARkBGgEbARwBHQEeAR8BIAEhASIBIwEkASUBJgEnASgBKQEqASsBLAEtAS4BLwEwATEBMgEzATQBNQE2ATcBOAE5AToBOwE8AT0BPgE/AUABQQFCAUMBRAFFAUYBRwFIAUkBSgFLAUwBTQFOAU8BUAFRAVIBUwFUAVUBVgFXAVgBWQFaAVsBXAFdAV4BXwFgAWEBYgFjAWQBZQFmAWcBaAFpAWoBawFsAW0BbgFvAXABcQFyAXMBdAF1AXYBdwF4AXkBegF7AXwBfQF+AX8BgAGBAYIBgwGEAYUBhgGHAYgBiQGKAYsBjAGNAY4BjwGQAZEBkgGTAZQBlQGWAZcBmAGZAZoBmwGcAZ0BngGfAaABoQGiAaMBpAGlAaYBpwGoAakBqgGrAawBrQGuAa8BsAGxAbIBswG0AbUBtgG3AbgBuQG6AbsBvAG9Ab4BvwHAAcEBwgHDAcQBxQHGAccByAHJAcoBywHMAc0BzgHPAdAB",
          "dtype": "i2"
         },
         "xaxis": "x3",
         "y": {
          "bdata": "AAAAAABqCEEAAAAAAGoIQQAAAAAAaghBAAAAAABqCEEAAAAAAGoIQQAAAAAAaghBAAAAAABqCEEAAAAAAGoIQQAAAAAAaghBAAAAAABqCEEAAAAAAGoIQQAAAAAAaghBAAAAAABqCEEAAAAAAGoIQQAAAAAAaghBAAAAAABqCEEAAAAAAGoIQQAAAAAAaghBAAAAAABqCEEAAAAAAGoIQQAAAAAAaghBAAAAAABqCEEAAAAAAGoIQQAAAAAAaghBAAAAAABqCEEAAAAAAGoIQQAAAAAAaghBAAAAAABqCEEAAAAAAGoIQQAAAAAAaghBAAAAAABqCEEAAAAAAGoIQQAAAAAAaghBAAAAAABqCEEAAAAAAGoIQQAAAAAAaghBAAAAAABqCEEAAAAAAGoIQQAAAAAAaghBAAAAAABqCEEAAAAAAGoIQQAAAAAAaghBAAAAAABqCEEAAAAAAGoIQQAAAAAAaghBAAAAAABqCEEAAAAAAGoIQQAAAAAAaghBAAAAAABqCEEAAAAAAGoIQQAAAAAAaghBAAAAAABqCEEAAAAAAGoIQQAAAAAAaghBAAAAAABqCEEAAAAAAGoIQQAAAAAAaghBAAAAAABqCEEAAAAAAGoIQQAAAAAAaghBAAAAAABqCEEAAAAAAGoIQQAAAAAAaghBAAAAAABqCEEAAAAAAGoIQQAAAAAAaghBAAAAAABqCEEAAAAAAGoIQQAAAAAAaghBAAAAAABqCEEAAAAAAGoIQQAAAAAAaghBAAAAAABqCEEAAAAAAGoIQQAAAAAAaghBAAAAAABqCEEAAAAAAGoIQQAAAAAAaghBAAAAAABqCEEAAAAAAGoIQQAAAAAAaghBAAAAAABqCEEAAAAAAGoIQQAAAAAAaghBAAAAAABqCEEAAAAAAGoIQQAAAAAAaghBAAAAAABqCEEAAAAAAGoIQQAAAAAAaghBAAAAAABqCEEAAAAAAGoIQQAAAAAAaghBAAAAAABqCEEAAAAAAGoIQQAAAAAAaghBAAAAAABqCEEAAAAAAGoIQQAAAAAAaghBAAAAAABqCEEAAAAAAGoIQeYiQV3DSAlBmqWLVQ8PCkGqgtB+GNAKQQe/dEw9kgpBTSNbEyH6CkHKxP6snd8KQaWu8TjqPAxBr4uSgIprDUHv8G6iaK8NQZDpaksHcA5BFZVI+jreDkHNBNbpxi4QQUZf7k5h+RFBEdZ7fIx+EUGXjKZYTY4RQbO5QdL0fxFB+yler3dxEEFntHn9XfEQQcLe2GwHmBJBJW/6VG1IEkGGp9vwbFESQbTOb5rPqBJBLwT7tO/DEUEd+L9lh48SQVGA6B6AoRJB7zDOR6fqEkEKyQrTapASQZ5R9p4yZRNBZDfH6sIvEkEz03UYbXgSQUlmxzdSCBNBO/syOXTpEkHzuosiiGYTQVel9Xs2MBNB37IupaWlEkGqoc7BPTUSQZr6SsUPERNB38Q8uHq5EkGyXRarE1oRQWfuSZVZLRFB6wkshtyIEUGENWjdhnsRQTTC8mRJEBFBc7MT1LitEUGDz4kVOf0SQXu0gGMY+BFBrd1coUscE0HSdOkxHlUTQYWsxW2omBNBiE6LDHoUFEEVN7PEL10TQa8dmgdKMRNBN/0ozi4RE0G88orpND8SQWMiFcN3/xFBKpKdTbRmEkEHO4ETExQSQbemE3oMoxFB6zHIXcEcEkF3AGUlGqwRQTBFEoAqKRFB9Rf9JnnkEEECu3hXWukQQbJ6IOZHvBBBB/meUVq1EEEvtVGTEQUQQSjxnu5pkQ5BOvjDLOwvD0GFlVJ958YOQdM4hJAlhBBB9rH5I2D9EEHWwFimvTkRQcBuR4M9UBBBsac2gmvAEEHGohtke/kRQXyaPWBDchFB+IIttWDiEUGr+/JR3o8RQVczbnaUyBJBEFR4eGPdEUFt3oMOAJwSQUIPwSCmuxFBGmwNBKSeEUHYEl4dTvoRQRCqvGnHfxFB8MiIBLkiEkGfgk5TXsgSQSFIItCmfhJBVee5/HkVE0F3YQSD3dASQc03DcZwgBJBkMNmUH9uEkGSQqmSkakSQT9PXzz3shJBaxJS5CNrEkEuBgU8/GgSQQdrH5VTNxJBnN2b46hiEkFeXBSc4ccSQXxXWGwNUBNBj/acmS9jE0H4B/s6A/UTQdA110qoXhRBmkbQVKl9FEFO3zu1/e4UQbQSy40LehRBqCLY6w4GFUExGCN34lgTQR+of2B40BJBrgTao9INEkGlT9GvD44SQWzCw59gUhJBMk2ns+Y6EkF7+P7LV6sSQSfGW25GThJB/g+9y1S/EkHfgx+R6uASQVVllGUe6RJBRf1JHxKwEkHXIMxRsTUSQetTAqtrUBJBAZdNv1ZxEkHadOMqTycSQaP2MZRMqhJBm2xXMzsLEkFDNeeusecRQZFXT+gvLBFBbAstfOYbEUHVsKSSSVMRQRfVEozYzxBB00jAbnJAEUFN37vHBh4RQXZsKnxQOhFBHtdorABAEUFLqzDenUURQVnlbe2RkBFBYaavCvJHEUEPup54nE8RQfpBd+XETxFB57Yzec3vEEFpJEkrdBURQal18b1bSRFB435Hmz7MEEGscp7WyrsQQa5ybQuY6xBBV3Ne5hVIEUGjRSJxkcARQedwqZu8tRFB9/Yj4bv7EUGgxtm+ebERQdr09bWWXhFBd+0MQ3nWEUGHT6cT0cgRQcPh9g/GBBJBfcZlDE3MEEHljAXKDjIRQe3HFPu/JBBBs37WR1NIEEEP/e760J8PQcAD5UqT0QxBlPT+n7zUDEE3/tLDJLcMQVjapOSu+AxBN1F8q77mC0GnXfrssNoLQfzxbpXRJAxBBK8F72WDDEE0tF/261QMQUdqPbYGrwxBpGmKRwhPDUE4WvfUnkgOQT25qZqK5w1B8GYoHmX5DkGyEAH+zmUOQTiiNMGu2A5BD6Cy+Dz3DUEK9bJRB3kOQcTnvm4LDA1B5LqulDxWDkFFR0sr6X0PQaqKJCiB7w9Bd49ZGBdCEEE9a8QGnUoQQUzz1SAEHBBBfSCvs0OOD0FIL7tNGBYPQQuF/MrGIBBByhtk/wtHEEEExP8pPQ4QQTdZGbDNQBBBQ30Eu+OBEEHNggezhmEQQUcDfpBLchRBA+LHtQWcE0H1UdgIxbwTQSwCv3FNlhNBu+28GB6hE0F5f2cqRGQTQbBGD7qx6hNB/JwYzfc0FEEn4n2FQwoUQUfSLHNVYhNBcG20MuWRE0HLONV6P7wSQSerFHlXoxJBegII/S1JE0GMIrmTRGETQWLLqpdtPBNB7ZbdS3JhE0EuKu1a8QMTQZ2yPbP0vxJBOKWieaEHE0G73+hBUWMSQS9gzo3b9xFBoTOGnCzdEUHuRCfeKNURQQERAj5C3hFBh5oOwGboEUF7YQ/TamoSQR3wJ/aKkRJB6DL/+qN0EkH5j1UDrFsSQZvYcnCqYRJBMLtIwAgnEkGo22/x1W4SQevVzNaZshFBWwHJGNAREUH9o43longPQeBHQeAigQ9Bt4Wnv2D/D0Hw9YnA1xsQQY1MAtvWfA9BMHU1WJAUD0E7nvBf3hMQQdDqM2arcw9B/WsZSpgwD0GywztE/xQPQcxZxUVqXQ9BtIDPdJJnD0G3op+vWEYQQY9SC9wMfw9BvWX0ziZNDkGo3PJQEe4NQcpByNdRGg5B9+72L+09DkGMQoMIjEUOQfTS9fLXqQ5BarM4orCIDkGKANuj1coOQQd0A8qqcg5BKipsTss5DkH6hI+GfVgNQWj90k2bXAxBotDznBC9DEEnIuC7gxwNQR37GxpHkg1BPzJ8V58YDkFNEdB28w4OQUgvNKPNmA1BJUuX4+qDDkEvXDnsiyYPQUB+4CVQSw9B5aF3vF1ODkHKudPw/5sOQXTTkR1Tyw5BR9+eS5dfDkEQl9XDkQAPQQAcyluXrA5BgIr2VHHjDkEK1EfKoqwPQY+ar++hCRBBAvdU8HBfEEElmMmN3BURQVIBI58lhhBB2ICax5axEEHbPrExUaIQQb33kkxGYRBBgOTb2xKxEEEqclO+UIkQQYdPuMh6gxBBrePBVJzGD0FkqMzztKEPQbj5a8sAgA9BP42pRvLZDkHw/QIIXjYPQQQDSig+ZQ9BnxwFXw+FD0FLVmCMGl0QQYNAYVwBIBBBB07INmXxD0GzOvMO6n0QQYoxnpmvFRFBV/ejmz5REkHDkxc0/OQSQeXb94ZiLhRB7HaM1aexE0GFYnyYMHgUQbfjiTohgRRBxyVO5BZPFEElUpiHyTsUQUuxvHqyuRRBOZayf6WEFUFbEZuoNk0WQUbyogYyTBdBXAtQcELuFkE6XHTQzgUXQbqqf020vhdBtHia7ktBGEErI47rDW8ZQeieeTCxRRlBjS/IVEc1GkHwBvCNBo0aQRdA47hSfR1BbdbwxxD1HUHooJBIO8gdQfjdjM5HvxtBoLo88jtfHEFitwTU3yUfQYfMoCTfnBxBHQn7pAqkHEHMEU6jx8AcQZ3FEY+3/B1B0nLhb7S8HEHVgvY6s3UaQeSc+QkBphxBtX4tNPeVHEGArO4QCbocQXWoinsnYB1BdazaMHMAHUEyo+JGsPobQeyvbO5Z8hxBDYwkupMRHUEf7YKYGBwdQf93ZeMqjR1Bx2pos/j7HkHiOyt6xrIeQZw47KLdpB5BB/1Tnl63HkFS690Ggf4eQXOKemT3UCBBE8lPx0nrIUGIFktXBaMhQayx3bh3EyJBXT3XPo7WIEH0uuHtRdkgQVwT60dqlCFBNpey9rQiIkHXuFmh6DQhQUBIkzApaiFBWeuoz4XTIEHbDiCSi3UhQbMQzs3pECFBHZTH57M7IkHcWD2Q3z4kQVRFvMyXjCRBYw4LpW+rJUHcd3YZ7P8lQdnDdaUrUidBkP/BC146JkFl59aFAC0mQYGtOrGKXCVBUDeDy7SYJUGo1PK60Q8lQeQlzmDN5iRB",
          "dtype": "f8"
         },
         "yaxis": "y3"
        },
        {
         "line": {
          "color": "blue",
          "width": 2
         },
         "mode": "lines",
         "name": "ADA Free",
         "showlegend": true,
         "type": "scatter",
         "x": {
          "bdata": "AAABAAIAAwAEAAUABgAHAAgACQAKAAsADAANAA4ADwAQABEAEgATABQAFQAWABcAGAAZABoAGwAcAB0AHgAfACAAIQAiACMAJAAlACYAJwAoACkAKgArACwALQAuAC8AMAAxADIAMwA0ADUANgA3ADgAOQA6ADsAPAA9AD4APwBAAEEAQgBDAEQARQBGAEcASABJAEoASwBMAE0ATgBPAFAAUQBSAFMAVABVAFYAVwBYAFkAWgBbAFwAXQBeAF8AYABhAGIAYwBkAGUAZgBnAGgAaQBqAGsAbABtAG4AbwBwAHEAcgBzAHQAdQB2AHcAeAB5AHoAewB8AH0AfgB/AIAAgQCCAIMAhACFAIYAhwCIAIkAigCLAIwAjQCOAI8AkACRAJIAkwCUAJUAlgCXAJgAmQCaAJsAnACdAJ4AnwCgAKEAogCjAKQApQCmAKcAqACpAKoAqwCsAK0ArgCvALAAsQCyALMAtAC1ALYAtwC4ALkAugC7ALwAvQC+AL8AwADBAMIAwwDEAMUAxgDHAMgAyQDKAMsAzADNAM4AzwDQANEA0gDTANQA1QDWANcA2ADZANoA2wDcAN0A3gDfAOAA4QDiAOMA5ADlAOYA5wDoAOkA6gDrAOwA7QDuAO8A8ADxAPIA8wD0APUA9gD3APgA+QD6APsA/AD9AP4A/wAAAQEBAgEDAQQBBQEGAQcBCAEJAQoBCwEMAQ0BDgEPARABEQESARMBFAEVARYBFwEYARkBGgEbARwBHQEeAR8BIAEhASIBIwEkASUBJgEnASgBKQEqASsBLAEtAS4BLwEwATEBMgEzATQBNQE2ATcBOAE5AToBOwE8AT0BPgE/AUABQQFCAUMBRAFFAUYBRwFIAUkBSgFLAUwBTQFOAU8BUAFRAVIBUwFUAVUBVgFXAVgBWQFaAVsBXAFdAV4BXwFgAWEBYgFjAWQBZQFmAWcBaAFpAWoBawFsAW0BbgFvAXABcQFyAXMBdAF1AXYBdwF4AXkBegF7AXwBfQF+AX8BgAGBAYIBgwGEAYUBhgGHAYgBiQGKAYsBjAGNAY4BjwGQAZEBkgGTAZQBlQGWAZcBmAGZAZoBmwGcAZ0BngGfAaABoQGiAaMBpAGlAaYBpwGoAakBqgGrAawBrQGuAa8BsAGxAbIBswG0AbUBtgG3AbgBuQG6AbsBvAG9Ab4BvwHAAcEBwgHDAcQBxQHGAccByAHJAcoBywHMAc0BzgHPAdAB",
          "dtype": "i2"
         },
         "xaxis": "x3",
         "y": {
          "bdata": "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",
          "dtype": "f8"
         },
         "yaxis": "y3"
        },
        {
         "line": {
          "color": "orange",
          "width": 2
         },
         "mode": "lines",
         "name": "ADA Reserved",
         "showlegend": true,
         "type": "scatter",
         "x": {
          "bdata": "AAABAAIAAwAEAAUABgAHAAgACQAKAAsADAANAA4ADwAQABEAEgATABQAFQAWABcAGAAZABoAGwAcAB0AHgAfACAAIQAiACMAJAAlACYAJwAoACkAKgArACwALQAuAC8AMAAxADIAMwA0ADUANgA3ADgAOQA6ADsAPAA9AD4APwBAAEEAQgBDAEQARQBGAEcASABJAEoASwBMAE0ATgBPAFAAUQBSAFMAVABVAFYAVwBYAFkAWgBbAFwAXQBeAF8AYABhAGIAYwBkAGUAZgBnAGgAaQBqAGsAbABtAG4AbwBwAHEAcgBzAHQAdQB2AHcAeAB5AHoAewB8AH0AfgB/AIAAgQCCAIMAhACFAIYAhwCIAIkAigCLAIwAjQCOAI8AkACRAJIAkwCUAJUAlgCXAJgAmQCaAJsAnACdAJ4AnwCgAKEAogCjAKQApQCmAKcAqACpAKoAqwCsAK0ArgCvALAAsQCyALMAtAC1ALYAtwC4ALkAugC7ALwAvQC+AL8AwADBAMIAwwDEAMUAxgDHAMgAyQDKAMsAzADNAM4AzwDQANEA0gDTANQA1QDWANcA2ADZANoA2wDcAN0A3gDfAOAA4QDiAOMA5ADlAOYA5wDoAOkA6gDrAOwA7QDuAO8A8ADxAPIA8wD0APUA9gD3APgA+QD6APsA/AD9AP4A/wAAAQEBAgEDAQQBBQEGAQcBCAEJAQoBCwEMAQ0BDgEPARABEQESARMBFAEVARYBFwEYARkBGgEbARwBHQEeAR8BIAEhASIBIwEkASUBJgEnASgBKQEqASsBLAEtAS4BLwEwATEBMgEzATQBNQE2ATcBOAE5AToBOwE8AT0BPgE/AUABQQFCAUMBRAFFAUYBRwFIAUkBSgFLAUwBTQFOAU8BUAFRAVIBUwFUAVUBVgFXAVgBWQFaAVsBXAFdAV4BXwFgAWEBYgFjAWQBZQFmAWcBaAFpAWoBawFsAW0BbgFvAXABcQFyAXMBdAF1AXYBdwF4AXkBegF7AXwBfQF+AX8BgAGBAYIBgwGEAYUBhgGHAYgBiQGKAYsBjAGNAY4BjwGQAZEBkgGTAZQBlQGWAZcBmAGZAZoBmwGcAZ0BngGfAaABoQGiAaMBpAGlAaYBpwGoAakBqgGrAawBrQGuAa8BsAGxAbIBswG0AbUBtgG3AbgBuQG6AbsBvAG9Ab4BvwHAAcEBwgHDAcQBxQHGAccByAHJAcoBywHMAc0BzgHPAdAB",
          "dtype": "i2"
         },
         "xaxis": "x3",
         "y": {
          "bdata": "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",
          "dtype": "f8"
         },
         "yaxis": "y3"
        },
        {
         "line": {
          "color": "blue",
          "width": 2
         },
         "mode": "lines",
         "name": "DOT Free",
         "showlegend": true,
         "type": "scatter",
         "x": {
          "bdata": "AAABAAIAAwAEAAUABgAHAAgACQAKAAsADAANAA4ADwAQABEAEgATABQAFQAWABcAGAAZABoAGwAcAB0AHgAfACAAIQAiACMAJAAlACYAJwAoACkAKgArACwALQAuAC8AMAAxADIAMwA0ADUANgA3ADgAOQA6ADsAPAA9AD4APwBAAEEAQgBDAEQARQBGAEcASABJAEoASwBMAE0ATgBPAFAAUQBSAFMAVABVAFYAVwBYAFkAWgBbAFwAXQBeAF8AYABhAGIAYwBkAGUAZgBnAGgAaQBqAGsAbABtAG4AbwBwAHEAcgBzAHQAdQB2AHcAeAB5AHoAewB8AH0AfgB/AIAAgQCCAIMAhACFAIYAhwCIAIkAigCLAIwAjQCOAI8AkACRAJIAkwCUAJUAlgCXAJgAmQCaAJsAnACdAJ4AnwCgAKEAogCjAKQApQCmAKcAqACpAKoAqwCsAK0ArgCvALAAsQCyALMAtAC1ALYAtwC4ALkAugC7ALwAvQC+AL8AwADBAMIAwwDEAMUAxgDHAMgAyQDKAMsAzADNAM4AzwDQANEA0gDTANQA1QDWANcA2ADZANoA2wDcAN0A3gDfAOAA4QDiAOMA5ADlAOYA5wDoAOkA6gDrAOwA7QDuAO8A8ADxAPIA8wD0APUA9gD3APgA+QD6APsA/AD9AP4A/wAAAQEBAgEDAQQBBQEGAQcBCAEJAQoBCwEMAQ0BDgEPARABEQESARMBFAEVARYBFwEYARkBGgEbARwBHQEeAR8BIAEhASIBIwEkASUBJgEnASgBKQEqASsBLAEtAS4BLwEwATEBMgEzATQBNQE2ATcBOAE5AToBOwE8AT0BPgE/AUABQQFCAUMBRAFFAUYBRwFIAUkBSgFLAUwBTQFOAU8BUAFRAVIBUwFUAVUBVgFXAVgBWQFaAVsBXAFdAV4BXwFgAWEBYgFjAWQBZQFmAWcBaAFpAWoBawFsAW0BbgFvAXABcQFyAXMBdAF1AXYBdwF4AXkBegF7AXwBfQF+AX8BgAGBAYIBgwGEAYUBhgGHAYgBiQGKAYsBjAGNAY4BjwGQAZEBkgGTAZQBlQGWAZcBmAGZAZoBmwGcAZ0BngGfAaABoQGiAaMBpAGlAaYBpwGoAakBqgGrAawBrQGuAa8BsAGxAbIBswG0AbUBtgG3AbgBuQG6AbsBvAG9Ab4BvwHAAcEBwgHDAcQBxQHGAccByAHJAcoBywHMAc0BzgHPAdAB",
          "dtype": "i2"
         },
         "xaxis": "x3",
         "y": {
          "bdata": "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",
          "dtype": "f8"
         },
         "yaxis": "y3"
        },
        {
         "line": {
          "color": "orange",
          "width": 2
         },
         "mode": "lines",
         "name": "DOT Reserved",
         "showlegend": true,
         "type": "scatter",
         "x": {
          "bdata": "AAABAAIAAwAEAAUABgAHAAgACQAKAAsADAANAA4ADwAQABEAEgATABQAFQAWABcAGAAZABoAGwAcAB0AHgAfACAAIQAiACMAJAAlACYAJwAoACkAKgArACwALQAuAC8AMAAxADIAMwA0ADUANgA3ADgAOQA6ADsAPAA9AD4APwBAAEEAQgBDAEQARQBGAEcASABJAEoASwBMAE0ATgBPAFAAUQBSAFMAVABVAFYAVwBYAFkAWgBbAFwAXQBeAF8AYABhAGIAYwBkAGUAZgBnAGgAaQBqAGsAbABtAG4AbwBwAHEAcgBzAHQAdQB2AHcAeAB5AHoAewB8AH0AfgB/AIAAgQCCAIMAhACFAIYAhwCIAIkAigCLAIwAjQCOAI8AkACRAJIAkwCUAJUAlgCXAJgAmQCaAJsAnACdAJ4AnwCgAKEAogCjAKQApQCmAKcAqACpAKoAqwCsAK0ArgCvALAAsQCyALMAtAC1ALYAtwC4ALkAugC7ALwAvQC+AL8AwADBAMIAwwDEAMUAxgDHAMgAyQDKAMsAzADNAM4AzwDQANEA0gDTANQA1QDWANcA2ADZANoA2wDcAN0A3gDfAOAA4QDiAOMA5ADlAOYA5wDoAOkA6gDrAOwA7QDuAO8A8ADxAPIA8wD0APUA9gD3APgA+QD6APsA/AD9AP4A/wAAAQEBAgEDAQQBBQEGAQcBCAEJAQoBCwEMAQ0BDgEPARABEQESARMBFAEVARYBFwEYARkBGgEbARwBHQEeAR8BIAEhASIBIwEkASUBJgEnASgBKQEqASsBLAEtAS4BLwEwATEBMgEzATQBNQE2ATcBOAE5AToBOwE8AT0BPgE/AUABQQFCAUMBRAFFAUYBRwFIAUkBSgFLAUwBTQFOAU8BUAFRAVIBUwFUAVUBVgFXAVgBWQFaAVsBXAFdAV4BXwFgAWEBYgFjAWQBZQFmAWcBaAFpAWoBawFsAW0BbgFvAXABcQFyAXMBdAF1AXYBdwF4AXkBegF7AXwBfQF+AX8BgAGBAYIBgwGEAYUBhgGHAYgBiQGKAYsBjAGNAY4BjwGQAZEBkgGTAZQBlQGWAZcBmAGZAZoBmwGcAZ0BngGfAaABoQGiAaMBpAGlAaYBpwGoAakBqgGrAawBrQGuAa8BsAGxAbIBswG0AbUBtgG3AbgBuQG6AbsBvAG9Ab4BvwHAAcEBwgHDAcQBxQHGAccByAHJAcoBywHMAc0BzgHPAdAB",
          "dtype": "i2"
         },
         "xaxis": "x3",
         "y": {
          "bdata": "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",
          "dtype": "f8"
         },
         "yaxis": "y3"
        }
       ],
       "layout": {
        "annotations": [
         {
          "font": {
           "size": 12
          },
          "showarrow": false,
          "text": "Net Worth (Portfolio Value)",
          "x": 0.5,
          "xanchor": "center",
          "xref": "paper",
          "y": 1,
          "yanchor": "bottom",
          "yref": "paper"
         },
         {
          "font": {
           "size": 12
          },
          "showarrow": false,
          "text": "Performance",
          "x": 0.5,
          "xanchor": "center",
          "xref": "paper",
          "y": 0.406,
          "yanchor": "bottom",
          "yref": "paper"
         },
         {
          "font": {
           "size": 12
          },
          "showarrow": false,
          "text": "Price & Balances",
          "x": 0.5,
          "xanchor": "center",
          "xref": "paper",
          "y": 0.188,
          "yanchor": "bottom",
          "yref": "paper"
         },
         {
          "arrowcolor": "DarkGreen",
          "arrowhead": 2,
          "arrowsize": 0.8,
          "arrowwidth": 4,
          "ax": 0,
          "ay": 15,
          "hoverlabel": {
           "bgcolor": "DarkGreen"
          },
          "hovertext": "Step 115 [2023-01-15 00:00:00+00:00]<br>BUY 533.97751104 SOL @ 22.89 USDT MARKET<br>Total: 12222.74522763 USDT - Comm.: 0.00000000 USDT",
          "opacity": 0.6,
          "showarrow": true,
          "x": 114,
          "xref": "x",
          "y": 1433135.607830738,
          "yref": "y"
         },
         {
          "arrowcolor": "DarkGreen",
          "arrowhead": 2,
          "arrowsize": 0.8,
          "arrowwidth": 4,
          "ax": 0,
          "ay": 15,
          "hoverlabel": {
           "bgcolor": "DarkGreen"
          },
          "hovertext": "Step 115 [2023-01-15 00:00:00+00:00]<br>BUY 4752.902732 LINK @ 6.694 USDT MARKET<br>Total: 31815.930888 USDT - Comm.: 0.00000000 USDT",
          "opacity": 0.6,
          "showarrow": true,
          "x": 114,
          "xref": "x",
          "y": 1433135.607830738,
          "yref": "y"
         },
         {
          "arrowcolor": "FireBrick",
          "arrowhead": 2,
          "arrowsize": 0.8,
          "arrowwidth": 4,
          "ax": 0,
          "ay": -15,
          "hoverlabel": {
           "bgcolor": "FireBrick"
          },
          "hovertext": "Step 115 [2023-01-15 00:00:00+00:00]<br>SELL 32604.33561533 ADA @ 0.3507 USDT MARKET<br>Total: 11434.3405003 USDT - Comm.: 0.00000000 ADA",
          "opacity": 0.6,
          "showarrow": true,
          "x": 114,
          "xref": "x",
          "y": 1433135.607830738,
          "yref": "y"
         },
         {
          "arrowcolor": "FireBrick",
          "arrowhead": 2,
          "arrowsize": 0.8,
          "arrowwidth": 4,
          "ax": 0,
          "ay": -15,
          "hoverlabel": {
           "bgcolor": "FireBrick"
          },
          "hovertext": "Step 115 [2023-01-15 00:00:00+00:00]<br>SELL 101.0281 BNB @ 302.2 USDT MARKET<br>Total: 30530.69182 USDT - Comm.: 0.00000000 BNB",
          "opacity": 0.6,
          "showarrow": true,
          "x": 114,
          "xref": "x",
          "y": 1433135.607830738,
          "yref": "y"
         },
         {
          "arrowcolor": "FireBrick",
          "arrowhead": 2,
          "arrowsize": 0.8,
          "arrowwidth": 4,
          "ax": 0,
          "ay": -15,
          "hoverlabel": {
           "bgcolor": "FireBrick"
          },
          "hovertext": "Step 115 [2023-01-15 00:00:00+00:00]<br>SELL 1497.756443 XRP @ 0.3845 USDT MARKET<br>Total: 575.88735233 USDT - Comm.: 0.00000000 XRP",
          "opacity": 0.6,
          "showarrow": true,
          "x": 114,
          "xref": "x",
          "y": 1433135.607830738,
          "yref": "y"
         },
         {
          "arrowcolor": "DarkGreen",
          "arrowhead": 2,
          "arrowsize": 0.8,
          "arrowwidth": 4,
          "ax": 0,
          "ay": 15,
          "hoverlabel": {
           "bgcolor": "DarkGreen"
          },
          "hovertext": "Step 101 [2023-01-01 00:00:00+00:00]<br>BUY 37541.65876427 DOT @ 4.371 USDT MARKET<br>Total: 164094.59045863 USDT - Comm.: 0.00000000 USDT",
          "opacity": 0.6,
          "showarrow": true,
          "x": 100,
          "xref": "x",
          "y": 1000000,
          "yref": "y"
         },
         {
          "arrowcolor": "DarkGreen",
          "arrowhead": 2,
          "arrowsize": 0.8,
          "arrowwidth": 4,
          "ax": 0,
          "ay": 15,
          "hoverlabel": {
           "bgcolor": "DarkGreen"
          },
          "hovertext": "Step 101 [2023-01-01 00:00:00+00:00]<br>BUY 665934.54751901 ADA @ 0.2499 USDT MARKET<br>Total: 166417.043425 USDT - Comm.: 0.00000000 USDT",
          "opacity": 0.6,
          "showarrow": true,
          "x": 100,
          "xref": "x",
          "y": 1000000,
          "yref": "y"
         },
         {
          "arrowcolor": "DarkGreen",
          "arrowhead": 2,
          "arrowsize": 0.8,
          "arrowwidth": 4,
          "ax": 0,
          "ay": 15,
          "hoverlabel": {
           "bgcolor": "DarkGreen"
          },
          "hovertext": "Step 101 [2023-01-01 00:00:00+00:00]<br>BUY 680.92073813 BNB @ 244.4 USDT MARKET<br>Total: 166417.0284 USDT - Comm.: 0.00000000 USDT",
          "opacity": 0.6,
          "showarrow": true,
          "x": 100,
          "xref": "x",
          "y": 1000000,
          "yref": "y"
         },
         {
          "arrowcolor": "DarkGreen",
          "arrowhead": 2,
          "arrowsize": 0.8,
          "arrowwidth": 4,
          "ax": 0,
          "ay": 15,
          "hoverlabel": {
           "bgcolor": "DarkGreen"
          },
          "hovertext": "Step 101 [2023-01-01 00:00:00+00:00]<br>BUY 491340.54743431 XRP @ 0.3387 USDT MARKET<br>Total: 166417.043416 USDT - Comm.: 0.00000000 USDT",
          "opacity": 0.6,
          "showarrow": true,
          "x": 100,
          "xref": "x",
          "y": 1000000,
          "yref": "y"
         },
         {
          "arrowcolor": "DarkGreen",
          "arrowhead": 2,
          "arrowsize": 0.8,
          "arrowwidth": 4,
          "ax": 0,
          "ay": 15,
          "hoverlabel": {
           "bgcolor": "DarkGreen"
          },
          "hovertext": "Step 101 [2023-01-01 00:00:00+00:00]<br>BUY 16625.0125485 SOL @ 9.99 USDT MARKET<br>Total: 166083.87535952 USDT - Comm.: 0.00000000 USDT",
          "opacity": 0.6,
          "showarrow": true,
          "x": 100,
          "xref": "x",
          "y": 1000000,
          "yref": "y"
         },
         {
          "arrowcolor": "DarkGreen",
          "arrowhead": 2,
          "arrowsize": 0.8,
          "arrowwidth": 4,
          "ax": 0,
          "ay": 15,
          "hoverlabel": {
           "bgcolor": "DarkGreen"
          },
          "hovertext": "Step 101 [2023-01-01 00:00:00+00:00]<br>BUY 29264.74997663 LINK @ 5.628 USDT MARKET<br>Total: 164702.01286849 USDT - Comm.: 0.00000000 USDT",
          "opacity": 0.6,
          "showarrow": true,
          "x": 100,
          "xref": "x",
          "y": 1000000,
          "yref": "y"
         }
        ],
        "height": 800,
        "legend": {
         "orientation": "h",
         "x": 1,
         "xanchor": "right",
         "y": -0.36,
         "yanchor": "bottom"
        },
        "margin": {
         "b": 60,
         "l": 60,
         "r": 60,
         "t": 80
        },
        "showlegend": true,
        "template": {
         "data": {
          "bar": [
           {
            "error_x": {
             "color": "#2a3f5f"
            },
            "error_y": {
             "color": "#2a3f5f"
            },
            "marker": {
             "line": {
              "color": "white",
              "width": 0.5
             },
             "pattern": {
              "fillmode": "overlay",
              "size": 10,
              "solidity": 0.2
             }
            },
            "type": "bar"
           }
          ],
          "barpolar": [
           {
            "marker": {
             "line": {
              "color": "white",
              "width": 0.5
             },
             "pattern": {
              "fillmode": "overlay",
              "size": 10,
              "solidity": 0.2
             }
            },
            "type": "barpolar"
           }
          ],
          "carpet": [
           {
            "aaxis": {
             "endlinecolor": "#2a3f5f",
             "gridcolor": "#C8D4E3",
             "linecolor": "#C8D4E3",
             "minorgridcolor": "#C8D4E3",
             "startlinecolor": "#2a3f5f"
            },
            "baxis": {
             "endlinecolor": "#2a3f5f",
             "gridcolor": "#C8D4E3",
             "linecolor": "#C8D4E3",
             "minorgridcolor": "#C8D4E3",
             "startlinecolor": "#2a3f5f"
            },
            "type": "carpet"
           }
          ],
          "choropleth": [
           {
            "colorbar": {
             "outlinewidth": 0,
             "ticks": ""
            },
            "type": "choropleth"
           }
          ],
          "contour": [
           {
            "colorbar": {
             "outlinewidth": 0,
             "ticks": ""
            },
            "colorscale": [
             [
              0,
              "#0d0887"
             ],
             [
              0.1111111111111111,
              "#46039f"
             ],
             [
              0.2222222222222222,
              "#7201a8"
             ],
             [
              0.3333333333333333,
              "#9c179e"
             ],
             [
              0.4444444444444444,
              "#bd3786"
             ],
             [
              0.5555555555555556,
              "#d8576b"
             ],
             [
              0.6666666666666666,
              "#ed7953"
             ],
             [
              0.7777777777777778,
              "#fb9f3a"
             ],
             [
              0.8888888888888888,
              "#fdca26"
             ],
             [
              1,
              "#f0f921"
             ]
            ],
            "type": "contour"
           }
          ],
          "contourcarpet": [
           {
            "colorbar": {
             "outlinewidth": 0,
             "ticks": ""
            },
            "type": "contourcarpet"
           }
          ],
          "heatmap": [
           {
            "colorbar": {
             "outlinewidth": 0,
             "ticks": ""
            },
            "colorscale": [
             [
              0,
              "#0d0887"
             ],
             [
              0.1111111111111111,
              "#46039f"
             ],
             [
              0.2222222222222222,
              "#7201a8"
             ],
             [
              0.3333333333333333,
              "#9c179e"
             ],
             [
              0.4444444444444444,
              "#bd3786"
             ],
             [
              0.5555555555555556,
              "#d8576b"
             ],
             [
              0.6666666666666666,
              "#ed7953"
             ],
             [
              0.7777777777777778,
              "#fb9f3a"
             ],
             [
              0.8888888888888888,
              "#fdca26"
             ],
             [
              1,
              "#f0f921"
             ]
            ],
            "type": "heatmap"
           }
          ],
          "histogram": [
           {
            "marker": {
             "pattern": {
              "fillmode": "overlay",
              "size": 10,
              "solidity": 0.2
             }
            },
            "type": "histogram"
           }
          ],
          "histogram2d": [
           {
            "colorbar": {
             "outlinewidth": 0,
             "ticks": ""
            },
            "colorscale": [
             [
              0,
              "#0d0887"
             ],
             [
              0.1111111111111111,
              "#46039f"
             ],
             [
              0.2222222222222222,
              "#7201a8"
             ],
             [
              0.3333333333333333,
              "#9c179e"
             ],
             [
              0.4444444444444444,
              "#bd3786"
             ],
             [
              0.5555555555555556,
              "#d8576b"
             ],
             [
              0.6666666666666666,
              "#ed7953"
             ],
             [
              0.7777777777777778,
              "#fb9f3a"
             ],
             [
              0.8888888888888888,
              "#fdca26"
             ],
             [
              1,
              "#f0f921"
             ]
            ],
            "type": "histogram2d"
           }
          ],
          "histogram2dcontour": [
           {
            "colorbar": {
             "outlinewidth": 0,
             "ticks": ""
            },
            "colorscale": [
             [
              0,
              "#0d0887"
             ],
             [
              0.1111111111111111,
              "#46039f"
             ],
             [
              0.2222222222222222,
              "#7201a8"
             ],
             [
              0.3333333333333333,
              "#9c179e"
             ],
             [
              0.4444444444444444,
              "#bd3786"
             ],
             [
              0.5555555555555556,
              "#d8576b"
             ],
             [
              0.6666666666666666,
              "#ed7953"
             ],
             [
              0.7777777777777778,
              "#fb9f3a"
             ],
             [
              0.8888888888888888,
              "#fdca26"
             ],
             [
              1,
              "#f0f921"
             ]
            ],
            "type": "histogram2dcontour"
           }
          ],
          "mesh3d": [
           {
            "colorbar": {
             "outlinewidth": 0,
             "ticks": ""
            },
            "type": "mesh3d"
           }
          ],
          "parcoords": [
           {
            "line": {
             "colorbar": {
              "outlinewidth": 0,
              "ticks": ""
             }
            },
            "type": "parcoords"
           }
          ],
          "pie": [
           {
            "automargin": true,
            "type": "pie"
           }
          ],
          "scatter": [
           {
            "fillpattern": {
             "fillmode": "overlay",
             "size": 10,
             "solidity": 0.2
            },
            "type": "scatter"
           }
          ],
          "scatter3d": [
           {
            "line": {
             "colorbar": {
              "outlinewidth": 0,
              "ticks": ""
             }
            },
            "marker": {
             "colorbar": {
              "outlinewidth": 0,
              "ticks": ""
             }
            },
            "type": "scatter3d"
           }
          ],
          "scattercarpet": [
           {
            "marker": {
             "colorbar": {
              "outlinewidth": 0,
              "ticks": ""
             }
            },
            "type": "scattercarpet"
           }
          ],
          "scattergeo": [
           {
            "marker": {
             "colorbar": {
              "outlinewidth": 0,
              "ticks": ""
             }
            },
            "type": "scattergeo"
           }
          ],
          "scattergl": [
           {
            "marker": {
             "colorbar": {
              "outlinewidth": 0,
              "ticks": ""
             }
            },
            "type": "scattergl"
           }
          ],
          "scattermap": [
           {
            "marker": {
             "colorbar": {
              "outlinewidth": 0,
              "ticks": ""
             }
            },
            "type": "scattermap"
           }
          ],
          "scattermapbox": [
           {
            "marker": {
             "colorbar": {
              "outlinewidth": 0,
              "ticks": ""
             }
            },
            "type": "scattermapbox"
           }
          ],
          "scatterpolar": [
           {
            "marker": {
             "colorbar": {
              "outlinewidth": 0,
              "ticks": ""
             }
            },
            "type": "scatterpolar"
           }
          ],
          "scatterpolargl": [
           {
            "marker": {
             "colorbar": {
              "outlinewidth": 0,
              "ticks": ""
             }
            },
            "type": "scatterpolargl"
           }
          ],
          "scatterternary": [
           {
            "marker": {
             "colorbar": {
              "outlinewidth": 0,
              "ticks": ""
             }
            },
            "type": "scatterternary"
           }
          ],
          "surface": [
           {
            "colorbar": {
             "outlinewidth": 0,
             "ticks": ""
            },
            "colorscale": [
             [
              0,
              "#0d0887"
             ],
             [
              0.1111111111111111,
              "#46039f"
             ],
             [
              0.2222222222222222,
              "#7201a8"
             ],
             [
              0.3333333333333333,
              "#9c179e"
             ],
             [
              0.4444444444444444,
              "#bd3786"
             ],
             [
              0.5555555555555556,
              "#d8576b"
             ],
             [
              0.6666666666666666,
              "#ed7953"
             ],
             [
              0.7777777777777778,
              "#fb9f3a"
             ],
             [
              0.8888888888888888,
              "#fdca26"
             ],
             [
              1,
              "#f0f921"
             ]
            ],
            "type": "surface"
           }
          ],
          "table": [
           {
            "cells": {
             "fill": {
              "color": "#EBF0F8"
             },
             "line": {
              "color": "white"
             }
            },
            "header": {
             "fill": {
              "color": "#C8D4E3"
             },
             "line": {
              "color": "white"
             }
            },
            "type": "table"
           }
          ]
         },
         "layout": {
          "annotationdefaults": {
           "arrowcolor": "#2a3f5f",
           "arrowhead": 0,
           "arrowwidth": 1
          },
          "autotypenumbers": "strict",
          "coloraxis": {
           "colorbar": {
            "outlinewidth": 0,
            "ticks": ""
           }
          },
          "colorscale": {
           "diverging": [
            [
             0,
             "#8e0152"
            ],
            [
             0.1,
             "#c51b7d"
            ],
            [
             0.2,
             "#de77ae"
            ],
            [
             0.3,
             "#f1b6da"
            ],
            [
             0.4,
             "#fde0ef"
            ],
            [
             0.5,
             "#f7f7f7"
            ],
            [
             0.6,
             "#e6f5d0"
            ],
            [
             0.7,
             "#b8e186"
            ],
            [
             0.8,
             "#7fbc41"
            ],
            [
             0.9,
             "#4d9221"
            ],
            [
             1,
             "#276419"
            ]
           ],
           "sequential": [
            [
             0,
             "#0d0887"
            ],
            [
             0.1111111111111111,
             "#46039f"
            ],
            [
             0.2222222222222222,
             "#7201a8"
            ],
            [
             0.3333333333333333,
             "#9c179e"
            ],
            [
             0.4444444444444444,
             "#bd3786"
            ],
            [
             0.5555555555555556,
             "#d8576b"
            ],
            [
             0.6666666666666666,
             "#ed7953"
            ],
            [
             0.7777777777777778,
             "#fb9f3a"
            ],
            [
             0.8888888888888888,
             "#fdca26"
            ],
            [
             1,
             "#f0f921"
            ]
           ],
           "sequentialminus": [
            [
             0,
             "#0d0887"
            ],
            [
             0.1111111111111111,
             "#46039f"
            ],
            [
             0.2222222222222222,
             "#7201a8"
            ],
            [
             0.3333333333333333,
             "#9c179e"
            ],
            [
             0.4444444444444444,
             "#bd3786"
            ],
            [
             0.5555555555555556,
             "#d8576b"
            ],
            [
             0.6666666666666666,
             "#ed7953"
            ],
            [
             0.7777777777777778,
             "#fb9f3a"
            ],
            [
             0.8888888888888888,
             "#fdca26"
            ],
            [
             1,
             "#f0f921"
            ]
           ]
          },
          "colorway": [
           "#636efa",
           "#EF553B",
           "#00cc96",
           "#ab63fa",
           "#FFA15A",
           "#19d3f3",
           "#FF6692",
           "#B6E880",
           "#FF97FF",
           "#FECB52"
          ],
          "font": {
           "color": "#2a3f5f"
          },
          "geo": {
           "bgcolor": "white",
           "lakecolor": "white",
           "landcolor": "white",
           "showlakes": true,
           "showland": true,
           "subunitcolor": "#C8D4E3"
          },
          "hoverlabel": {
           "align": "left"
          },
          "hovermode": "closest",
          "mapbox": {
           "style": "light"
          },
          "paper_bgcolor": "white",
          "plot_bgcolor": "white",
          "polar": {
           "angularaxis": {
            "gridcolor": "#EBF0F8",
            "linecolor": "#EBF0F8",
            "ticks": ""
           },
           "bgcolor": "white",
           "radialaxis": {
            "gridcolor": "#EBF0F8",
            "linecolor": "#EBF0F8",
            "ticks": ""
           }
          },
          "scene": {
           "xaxis": {
            "backgroundcolor": "white",
            "gridcolor": "#DFE8F3",
            "gridwidth": 2,
            "linecolor": "#EBF0F8",
            "showbackground": true,
            "ticks": "",
            "zerolinecolor": "#EBF0F8"
           },
           "yaxis": {
            "backgroundcolor": "white",
            "gridcolor": "#DFE8F3",
            "gridwidth": 2,
            "linecolor": "#EBF0F8",
            "showbackground": true,
            "ticks": "",
            "zerolinecolor": "#EBF0F8"
           },
           "zaxis": {
            "backgroundcolor": "white",
            "gridcolor": "#DFE8F3",
            "gridwidth": 2,
            "linecolor": "#EBF0F8",
            "showbackground": true,
            "ticks": "",
            "zerolinecolor": "#EBF0F8"
           }
          },
          "shapedefaults": {
           "line": {
            "color": "#2a3f5f"
           }
          },
          "ternary": {
           "aaxis": {
            "gridcolor": "#DFE8F3",
            "linecolor": "#A2B1C6",
            "ticks": ""
           },
           "baxis": {
            "gridcolor": "#DFE8F3",
            "linecolor": "#A2B1C6",
            "ticks": ""
           },
           "bgcolor": "white",
           "caxis": {
            "gridcolor": "#DFE8F3",
            "linecolor": "#A2B1C6",
            "ticks": ""
           }
          },
          "title": {
           "x": 0.05
          },
          "xaxis": {
           "automargin": true,
           "gridcolor": "#EBF0F8",
           "linecolor": "#EBF0F8",
           "ticks": "",
           "title": {
            "standoff": 15
           },
           "zerolinecolor": "#EBF0F8",
           "zerolinewidth": 2
          },
          "yaxis": {
           "automargin": true,
           "gridcolor": "#EBF0F8",
           "linecolor": "#EBF0F8",
           "ticks": "",
           "title": {
            "standoff": 15
           },
           "zerolinecolor": "#EBF0F8",
           "zerolinewidth": 2
          }
         }
        },
        "title": {
         "text": " Chart: plotly: all trading info"
        },
        "xaxis": {
         "anchor": "y",
         "domain": [
          0,
          1
         ],
         "gridcolor": "Gainsboro",
         "linecolor": "Grey",
         "matches": "x3",
         "rangeslider": {
          "visible": false
         },
         "showticklabels": false
        },
        "xaxis2": {
         "anchor": "y2",
         "domain": [
          0,
          1
         ],
         "gridcolor": "Gainsboro",
         "linecolor": "Grey",
         "matches": "x3",
         "rangeslider": {
          "visible": false
         },
         "showticklabels": false
        },
        "xaxis3": {
         "anchor": "y3",
         "domain": [
          0,
          1
         ],
         "gridcolor": "Gainsboro",
         "linecolor": "Grey",
         "rangeslider": {
          "visible": false
         },
         "title": {
          "text": "Time"
         }
        },
        "yaxis": {
         "anchor": "x",
         "domain": [
          0.436,
          1
         ],
         "gridcolor": "Gainsboro",
         "linecolor": "Grey",
         "title": {
          "text": "Portfolio Value ($)"
         }
        },
        "yaxis2": {
         "anchor": "x2",
         "domain": [
          0.218,
          0.406
         ],
         "gridcolor": "Gainsboro",
         "linecolor": "Grey",
         "title": {
          "text": "Performance"
         }
        },
        "yaxis3": {
         "anchor": "x3",
         "domain": [
          0,
          0.188
         ],
         "gridcolor": "Gainsboro",
         "linecolor": "Grey",
         "title": {
          "text": "Price ($)"
         }
        },
        "yaxis4": {
         "gridcolor": "Gainsboro",
         "linecolor": "Grey",
         "overlaying": "y3",
         "side": "right",
         "title": {
          "text": "Balance"
         }
        }
       }
      }
     },
     "metadata": {},
     "output_type": "display_data"
    },
    {
     "data": {
      "application/vnd.plotly.v1+json": {
       "config": {
        "plotlyServerURL": "https://plot.ly"
       },
       "data": [
        {
         "mode": "lines",
         "name": "Sharpe(window=30)",
         "type": "scatter",
         "x": {
          "bdata": "AAABAAIAAwAEAAUABgAHAAgACQAKAAsADAANAA4ADwAQABEAEgATABQAFQAWABcAGAAZABoAGwAcAB0AHgAfACAAIQAiACMAJAAlACYAJwAoACkAKgArACwALQAuAC8AMAAxADIAMwA0ADUANgA3ADgAOQA6ADsAPAA9AD4APwBAAEEAQgBDAEQARQBGAEcASABJAEoASwBMAE0ATgBPAFAAUQBSAFMAVABVAFYAVwBYAFkAWgBbAFwAXQBeAF8AYABhAGIAYwBkAGUAZgBnAGgAaQBqAGsAbABtAG4AbwBwAHEAcgBzAHQAdQB2AHcAeAB5AHoAewB8AH0AfgB/AIAAgQCCAIMAhACFAIYAhwCIAIkAigCLAIwAjQCOAI8AkACRAJIAkwCUAJUAlgCXAJgAmQCaAJsAnACdAJ4AnwCgAKEAogCjAKQApQCmAKcAqACpAKoAqwCsAK0ArgCvALAAsQCyALMAtAC1ALYAtwC4ALkAugC7ALwAvQC+AL8AwADBAMIAwwDEAMUAxgDHAMgAyQDKAMsAzADNAM4AzwDQANEA0gDTANQA1QDWANcA2ADZANoA2wDcAN0A3gDfAOAA4QDiAOMA5ADlAOYA5wDoAOkA6gDrAOwA7QDuAO8A8ADxAPIA8wD0APUA9gD3APgA+QD6APsA/AD9AP4A/wAAAQEBAgEDAQQBBQEGAQcBCAEJAQoBCwEMAQ0BDgEPARABEQESARMBFAEVARYBFwEYARkBGgEbARwBHQEeAR8BIAEhASIBIwEkASUBJgEnASgBKQEqASsBLAEtAS4BLwEwATEBMgEzATQBNQE2ATcBOAE5AToBOwE8AT0BPgE/AUABQQFCAUMBRAFFAUYBRwFIAUkBSgFLAUwBTQFOAU8BUAFRAVIBUwFUAVUBVgFXAVgBWQFaAVsBXAFdAV4BXwFgAWEBYgFjAWQBZQFmAWcBaAFpAWoBawFsAW0BbgFvAXABcQFyAXMBdAF1AXYBdwF4AXkBegF7AXwBfQF+AX8BgAGBAYIBgwGEAYUBhgGHAYgBiQGKAYsBjAGNAY4BjwGQAZEBkgGTAZQBlQGWAZcBmAGZAZoBmwGcAZ0BngGfAaABoQGiAaMBpAGlAaYBpwGoAakBqgGrAawBrQGuAa8BsAGxAbIBswG0AbUBtgG3AbgBuQG6AbsBvAG9Ab4BvwHAAcEBwgHDAcQBxQHGAccByAHJAcoBywHMAc0BzgHPAdAB",
          "dtype": "i2"
         },
         "y": {
          "bdata": "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",
          "dtype": "f8"
         }
        }
       ],
       "layout": {
        "annotations": [
         {
          "bgcolor": "rgba(255,255,255,0.8)",
          "bordercolor": "lightgray",
          "borderwidth": 1,
          "font": {
           "color": "darkblue",
           "size": 11
          },
          "showarrow": false,
          "text": "<b>Sharpe Ratio</b><br>Measures risk-adjusted return. Higher values indicate better performance per unit of risk.<br>• >1.0: Good performance • >2.0: Very good • >3.0: Excellent<br>• Negative values indicate underperformance vs risk-free rate",
          "x": 0.5,
          "xanchor": "center",
          "xref": "paper",
          "y": -0.36,
          "yanchor": "bottom",
          "yref": "paper"
         }
        ],
        "height": 500,
        "margin": {
         "b": 120
        },
        "template": {
         "data": {
          "bar": [
           {
            "error_x": {
             "color": "#2a3f5f"
            },
            "error_y": {
             "color": "#2a3f5f"
            },
            "marker": {
             "line": {
              "color": "white",
              "width": 0.5
             },
             "pattern": {
              "fillmode": "overlay",
              "size": 10,
              "solidity": 0.2
             }
            },
            "type": "bar"
           }
          ],
          "barpolar": [
           {
            "marker": {
             "line": {
              "color": "white",
              "width": 0.5
             },
             "pattern": {
              "fillmode": "overlay",
              "size": 10,
              "solidity": 0.2
             }
            },
            "type": "barpolar"
           }
          ],
          "carpet": [
           {
            "aaxis": {
             "endlinecolor": "#2a3f5f",
             "gridcolor": "#C8D4E3",
             "linecolor": "#C8D4E3",
             "minorgridcolor": "#C8D4E3",
             "startlinecolor": "#2a3f5f"
            },
            "baxis": {
             "endlinecolor": "#2a3f5f",
             "gridcolor": "#C8D4E3",
             "linecolor": "#C8D4E3",
             "minorgridcolor": "#C8D4E3",
             "startlinecolor": "#2a3f5f"
            },
            "type": "carpet"
           }
          ],
          "choropleth": [
           {
            "colorbar": {
             "outlinewidth": 0,
             "ticks": ""
            },
            "type": "choropleth"
           }
          ],
          "contour": [
           {
            "colorbar": {
             "outlinewidth": 0,
             "ticks": ""
            },
            "colorscale": [
             [
              0,
              "#0d0887"
             ],
             [
              0.1111111111111111,
              "#46039f"
             ],
             [
              0.2222222222222222,
              "#7201a8"
             ],
             [
              0.3333333333333333,
              "#9c179e"
             ],
             [
              0.4444444444444444,
              "#bd3786"
             ],
             [
              0.5555555555555556,
              "#d8576b"
             ],
             [
              0.6666666666666666,
              "#ed7953"
             ],
             [
              0.7777777777777778,
              "#fb9f3a"
             ],
             [
              0.8888888888888888,
              "#fdca26"
             ],
             [
              1,
              "#f0f921"
             ]
            ],
            "type": "contour"
           }
          ],
          "contourcarpet": [
           {
            "colorbar": {
             "outlinewidth": 0,
             "ticks": ""
            },
            "type": "contourcarpet"
           }
          ],
          "heatmap": [
           {
            "colorbar": {
             "outlinewidth": 0,
             "ticks": ""
            },
            "colorscale": [
             [
              0,
              "#0d0887"
             ],
             [
              0.1111111111111111,
              "#46039f"
             ],
             [
              0.2222222222222222,
              "#7201a8"
             ],
             [
              0.3333333333333333,
              "#9c179e"
             ],
             [
              0.4444444444444444,
              "#bd3786"
             ],
             [
              0.5555555555555556,
              "#d8576b"
             ],
             [
              0.6666666666666666,
              "#ed7953"
             ],
             [
              0.7777777777777778,
              "#fb9f3a"
             ],
             [
              0.8888888888888888,
              "#fdca26"
             ],
             [
              1,
              "#f0f921"
             ]
            ],
            "type": "heatmap"
           }
          ],
          "histogram": [
           {
            "marker": {
             "pattern": {
              "fillmode": "overlay",
              "size": 10,
              "solidity": 0.2
             }
            },
            "type": "histogram"
           }
          ],
          "histogram2d": [
           {
            "colorbar": {
             "outlinewidth": 0,
             "ticks": ""
            },
            "colorscale": [
             [
              0,
              "#0d0887"
             ],
             [
              0.1111111111111111,
              "#46039f"
             ],
             [
              0.2222222222222222,
              "#7201a8"
             ],
             [
              0.3333333333333333,
              "#9c179e"
             ],
             [
              0.4444444444444444,
              "#bd3786"
             ],
             [
              0.5555555555555556,
              "#d8576b"
             ],
             [
              0.6666666666666666,
              "#ed7953"
             ],
             [
              0.7777777777777778,
              "#fb9f3a"
             ],
             [
              0.8888888888888888,
              "#fdca26"
             ],
             [
              1,
              "#f0f921"
             ]
            ],
            "type": "histogram2d"
           }
          ],
          "histogram2dcontour": [
           {
            "colorbar": {
             "outlinewidth": 0,
             "ticks": ""
            },
            "colorscale": [
             [
              0,
              "#0d0887"
             ],
             [
              0.1111111111111111,
              "#46039f"
             ],
             [
              0.2222222222222222,
              "#7201a8"
             ],
             [
              0.3333333333333333,
              "#9c179e"
             ],
             [
              0.4444444444444444,
              "#bd3786"
             ],
             [
              0.5555555555555556,
              "#d8576b"
             ],
             [
              0.6666666666666666,
              "#ed7953"
             ],
             [
              0.7777777777777778,
              "#fb9f3a"
             ],
             [
              0.8888888888888888,
              "#fdca26"
             ],
             [
              1,
              "#f0f921"
             ]
            ],
            "type": "histogram2dcontour"
           }
          ],
          "mesh3d": [
           {
            "colorbar": {
             "outlinewidth": 0,
             "ticks": ""
            },
            "type": "mesh3d"
           }
          ],
          "parcoords": [
           {
            "line": {
             "colorbar": {
              "outlinewidth": 0,
              "ticks": ""
             }
            },
            "type": "parcoords"
           }
          ],
          "pie": [
           {
            "automargin": true,
            "type": "pie"
           }
          ],
          "scatter": [
           {
            "fillpattern": {
             "fillmode": "overlay",
             "size": 10,
             "solidity": 0.2
            },
            "type": "scatter"
           }
          ],
          "scatter3d": [
           {
            "line": {
             "colorbar": {
              "outlinewidth": 0,
              "ticks": ""
             }
            },
            "marker": {
             "colorbar": {
              "outlinewidth": 0,
              "ticks": ""
             }
            },
            "type": "scatter3d"
           }
          ],
          "scattercarpet": [
           {
            "marker": {
             "colorbar": {
              "outlinewidth": 0,
              "ticks": ""
             }
            },
            "type": "scattercarpet"
           }
          ],
          "scattergeo": [
           {
            "marker": {
             "colorbar": {
              "outlinewidth": 0,
              "ticks": ""
             }
            },
            "type": "scattergeo"
           }
          ],
          "scattergl": [
           {
            "marker": {
             "colorbar": {
              "outlinewidth": 0,
              "ticks": ""
             }
            },
            "type": "scattergl"
           }
          ],
          "scattermap": [
           {
            "marker": {
             "colorbar": {
              "outlinewidth": 0,
              "ticks": ""
             }
            },
            "type": "scattermap"
           }
          ],
          "scattermapbox": [
           {
            "marker": {
             "colorbar": {
              "outlinewidth": 0,
              "ticks": ""
             }
            },
            "type": "scattermapbox"
           }
          ],
          "scatterpolar": [
           {
            "marker": {
             "colorbar": {
              "outlinewidth": 0,
              "ticks": ""
             }
            },
            "type": "scatterpolar"
           }
          ],
          "scatterpolargl": [
           {
            "marker": {
             "colorbar": {
              "outlinewidth": 0,
              "ticks": ""
             }
            },
            "type": "scatterpolargl"
           }
          ],
          "scatterternary": [
           {
            "marker": {
             "colorbar": {
              "outlinewidth": 0,
              "ticks": ""
             }
            },
            "type": "scatterternary"
           }
          ],
          "surface": [
           {
            "colorbar": {
             "outlinewidth": 0,
             "ticks": ""
            },
            "colorscale": [
             [
              0,
              "#0d0887"
             ],
             [
              0.1111111111111111,
              "#46039f"
             ],
             [
              0.2222222222222222,
              "#7201a8"
             ],
             [
              0.3333333333333333,
              "#9c179e"
             ],
             [
              0.4444444444444444,
              "#bd3786"
             ],
             [
              0.5555555555555556,
              "#d8576b"
             ],
             [
              0.6666666666666666,
              "#ed7953"
             ],
             [
              0.7777777777777778,
              "#fb9f3a"
             ],
             [
              0.8888888888888888,
              "#fdca26"
             ],
             [
              1,
              "#f0f921"
             ]
            ],
            "type": "surface"
           }
          ],
          "table": [
           {
            "cells": {
             "fill": {
              "color": "#EBF0F8"
             },
             "line": {
              "color": "white"
             }
            },
            "header": {
             "fill": {
              "color": "#C8D4E3"
             },
             "line": {
              "color": "white"
             }
            },
            "type": "table"
           }
          ]
         },
         "layout": {
          "annotationdefaults": {
           "arrowcolor": "#2a3f5f",
           "arrowhead": 0,
           "arrowwidth": 1
          },
          "autotypenumbers": "strict",
          "coloraxis": {
           "colorbar": {
            "outlinewidth": 0,
            "ticks": ""
           }
          },
          "colorscale": {
           "diverging": [
            [
             0,
             "#8e0152"
            ],
            [
             0.1,
             "#c51b7d"
            ],
            [
             0.2,
             "#de77ae"
            ],
            [
             0.3,
             "#f1b6da"
            ],
            [
             0.4,
             "#fde0ef"
            ],
            [
             0.5,
             "#f7f7f7"
            ],
            [
             0.6,
             "#e6f5d0"
            ],
            [
             0.7,
             "#b8e186"
            ],
            [
             0.8,
             "#7fbc41"
            ],
            [
             0.9,
             "#4d9221"
            ],
            [
             1,
             "#276419"
            ]
           ],
           "sequential": [
            [
             0,
             "#0d0887"
            ],
            [
             0.1111111111111111,
             "#46039f"
            ],
            [
             0.2222222222222222,
             "#7201a8"
            ],
            [
             0.3333333333333333,
             "#9c179e"
            ],
            [
             0.4444444444444444,
             "#bd3786"
            ],
            [
             0.5555555555555556,
             "#d8576b"
            ],
            [
             0.6666666666666666,
             "#ed7953"
            ],
            [
             0.7777777777777778,
             "#fb9f3a"
            ],
            [
             0.8888888888888888,
             "#fdca26"
            ],
            [
             1,
             "#f0f921"
            ]
           ],
           "sequentialminus": [
            [
             0,
             "#0d0887"
            ],
            [
             0.1111111111111111,
             "#46039f"
            ],
            [
             0.2222222222222222,
             "#7201a8"
            ],
            [
             0.3333333333333333,
             "#9c179e"
            ],
            [
             0.4444444444444444,
             "#bd3786"
            ],
            [
             0.5555555555555556,
             "#d8576b"
            ],
            [
             0.6666666666666666,
             "#ed7953"
            ],
            [
             0.7777777777777778,
             "#fb9f3a"
            ],
            [
             0.8888888888888888,
             "#fdca26"
            ],
            [
             1,
             "#f0f921"
            ]
           ]
          },
          "colorway": [
           "#636efa",
           "#EF553B",
           "#00cc96",
           "#ab63fa",
           "#FFA15A",
           "#19d3f3",
           "#FF6692",
           "#B6E880",
           "#FF97FF",
           "#FECB52"
          ],
          "font": {
           "color": "#2a3f5f"
          },
          "geo": {
           "bgcolor": "white",
           "lakecolor": "white",
           "landcolor": "white",
           "showlakes": true,
           "showland": true,
           "subunitcolor": "#C8D4E3"
          },
          "hoverlabel": {
           "align": "left"
          },
          "hovermode": "closest",
          "mapbox": {
           "style": "light"
          },
          "paper_bgcolor": "white",
          "plot_bgcolor": "white",
          "polar": {
           "angularaxis": {
            "gridcolor": "#EBF0F8",
            "linecolor": "#EBF0F8",
            "ticks": ""
           },
           "bgcolor": "white",
           "radialaxis": {
            "gridcolor": "#EBF0F8",
            "linecolor": "#EBF0F8",
            "ticks": ""
           }
          },
          "scene": {
           "xaxis": {
            "backgroundcolor": "white",
            "gridcolor": "#DFE8F3",
            "gridwidth": 2,
            "linecolor": "#EBF0F8",
            "showbackground": true,
            "ticks": "",
            "zerolinecolor": "#EBF0F8"
           },
           "yaxis": {
            "backgroundcolor": "white",
            "gridcolor": "#DFE8F3",
            "gridwidth": 2,
            "linecolor": "#EBF0F8",
            "showbackground": true,
            "ticks": "",
            "zerolinecolor": "#EBF0F8"
           },
           "zaxis": {
            "backgroundcolor": "white",
            "gridcolor": "#DFE8F3",
            "gridwidth": 2,
            "linecolor": "#EBF0F8",
            "showbackground": true,
            "ticks": "",
            "zerolinecolor": "#EBF0F8"
           }
          },
          "shapedefaults": {
           "line": {
            "color": "#2a3f5f"
           }
          },
          "ternary": {
           "aaxis": {
            "gridcolor": "#DFE8F3",
            "linecolor": "#A2B1C6",
            "ticks": ""
           },
           "baxis": {
            "gridcolor": "#DFE8F3",
            "linecolor": "#A2B1C6",
            "ticks": ""
           },
           "bgcolor": "white",
           "caxis": {
            "gridcolor": "#DFE8F3",
            "linecolor": "#A2B1C6",
            "ticks": ""
           }
          },
          "title": {
           "x": 0.05
          },
          "xaxis": {
           "automargin": true,
           "gridcolor": "#EBF0F8",
           "linecolor": "#EBF0F8",
           "ticks": "",
           "title": {
            "standoff": 15
           },
           "zerolinecolor": "#EBF0F8",
           "zerolinewidth": 2
          },
          "yaxis": {
           "automargin": true,
           "gridcolor": "#EBF0F8",
           "linecolor": "#EBF0F8",
           "ticks": "",
           "title": {
            "standoff": 15
           },
           "zerolinecolor": "#EBF0F8",
           "zerolinewidth": 2
          }
         }
        },
        "title": {
         "text": " Chart: sharpe"
        }
       }
      }
     },
     "metadata": {},
     "output_type": "display_data"
    },
    {
     "data": {
      "application/vnd.plotly.v1+json": {
       "config": {
        "plotlyServerURL": "https://plot.ly"
       },
       "data": [
        {
         "mode": "lines",
         "name": "Max Uprise from Start",
         "type": "scatter",
         "x": {
          "bdata": "AAABAAIAAwAEAAUABgAHAAgACQAKAAsADAANAA4ADwAQABEAEgATABQAFQAWABcAGAAZABoAGwAcAB0AHgAfACAAIQAiACMAJAAlACYAJwAoACkAKgArACwALQAuAC8AMAAxADIAMwA0ADUANgA3ADgAOQA6ADsAPAA9AD4APwBAAEEAQgBDAEQARQBGAEcASABJAEoASwBMAE0ATgBPAFAAUQBSAFMAVABVAFYAVwBYAFkAWgBbAFwAXQBeAF8AYABhAGIAYwBkAGUAZgBnAGgAaQBqAGsAbABtAG4AbwBwAHEAcgBzAHQAdQB2AHcAeAB5AHoAewB8AH0AfgB/AIAAgQCCAIMAhACFAIYAhwCIAIkAigCLAIwAjQCOAI8AkACRAJIAkwCUAJUAlgCXAJgAmQCaAJsAnACdAJ4AnwCgAKEAogCjAKQApQCmAKcAqACpAKoAqwCsAK0ArgCvALAAsQCyALMAtAC1ALYAtwC4ALkAugC7ALwAvQC+AL8AwADBAMIAwwDEAMUAxgDHAMgAyQDKAMsAzADNAM4AzwDQANEA0gDTANQA1QDWANcA2ADZANoA2wDcAN0A3gDfAOAA4QDiAOMA5ADlAOYA5wDoAOkA6gDrAOwA7QDuAO8A8ADxAPIA8wD0APUA9gD3APgA+QD6APsA/AD9AP4A/wAAAQEBAgEDAQQBBQEGAQcBCAEJAQoBCwEMAQ0BDgEPARABEQESARMBFAEVARYBFwEYARkBGgEbARwBHQEeAR8BIAEhASIBIwEkASUBJgEnASgBKQEqASsBLAEtAS4BLwEwATEBMgEzATQBNQE2ATcBOAE5AToBOwE8AT0BPgE/AUABQQFCAUMBRAFFAUYBRwFIAUkBSgFLAUwBTQFOAU8BUAFRAVIBUwFUAVUBVgFXAVgBWQFaAVsBXAFdAV4BXwFgAWEBYgFjAWQBZQFmAWcBaAFpAWoBawFsAW0BbgFvAXABcQFyAXMBdAF1AXYBdwF4AXkBegF7AXwBfQF+AX8BgAGBAYIBgwGEAYUBhgGHAYgBiQGKAYsBjAGNAY4BjwGQAZEBkgGTAZQBlQGWAZcBmAGZAZoBmwGcAZ0BngGfAaABoQGiAaMBpAGlAaYBpwGoAakBqgGrAawBrQGuAa8BsAGxAbIBswG0AbUBtgG3AbgBuQG6AbsBvAG9Ab4BvwHAAcEBwgHDAcQBxQHGAccByAHJAcoBywHMAc0BzgHPAdAB",
          "dtype": "i2"
         },
         "xaxis": "x",
         "y": {
          "bdata": "AAAAAAAAAAAAAAAAAAAAAAAAAAAAAAAAAAAAAAAAAAAAAAAAAAAAAAAAAAAAAAAAAAAAAAAAAAAAAAAAAAAAAAAAAAAAAAAAAAAAAAAAAAAAAAAAAAAAAAAAAAAAAAAAAAAAAAAAAAAAAAAAAAAAAAAAAAAAAAAAAAAAAAAAAAAAAAAAAAAAAAAAAAAAAAAAAAAAAAAAAAAAAAAAAAAAAAAAAAAAAAAAAAAAAAAAAAAAAAAAAAAAAAAAAAAAAAAAAAAAAAAAAAAAAAAAAAAAAAAAAAAAAAAAAAAAAAAAAAAAAAAAAAAAAAAAAAAAAAAAAAAAAAAAAAAAAAAAAAAAAAAAAAAAAAAAAAAAAAAAAAAAAAAAAAAAAAAAAAAAAAAAAAAAAAAAAAAAAAAAAAAAAAAAAAAAAAAAAAAAAAAAAAAAAAAAAAAAAAAAAAAAAAAAAAAAAAAAAAAAAAAAAAAAAAAAAAAAAAAAAAAAAAAAAAAAAAAAAAAAAAAAAAAAAAAAAAAAAAAAAAAAAAAAAAAAAAAAAAAAAAAAAAAAAAAAAAAAAAAAAAAAAAAAAAAAAAAAAAAAAAAAAAAAAAAAAAAAAAAAAAAAAAAAAAAAAAAAAAAAAAAAAAAAAAAAAAAAAAAAAAAAAAAAAAAAAAAAAAAAAAAAAAAAAAAAAAAAAAAAAAAAAAAAAAAAAAAAAAAAAAAAAAAAAAAAAAAAAAAAAAAAAAAAAAAAAAAAAAAAAAAAAAAAAAAAAAAAAAAAAAAAAAAAAAAAAAAAAAAAAAAAAAAAAAAAAAAAAAAAAAAAAAAAAAAAAAAAAAAAAAAAAAAAAAAAAAAAAAAAAAAAAAAAAAAAAAAAAAAAAAAAAAAAAAAAAAAAAAAAAAAAAAAAAAAAAAAAAAAAAAAAAAAAAAAAAAAAAAAAAAAAAAAAAAAAAAAAAAAAAAAAAAAAAAAAAAAAAAAAAAAAAAAAAAAAAAAAAAAAAAAAAAAAAAAAAAAAAAAAAAAAAAAAAAAAAAAAAAAAAAAAAAAAAAAAAAAAAAAAAAAAAAAAAAAAAAAAAAAAAAAAAAAAAAAAAAAAAPC5FklDZ+FAAHh0V5ly8ECgGiX09Pz3QKAaJfT0/PdAAGGPwUqh+UAAYY/BSqH5QDhpuByTHgNBaLrcgrQHCUGotCosC1sKQdCPFnkkHg5BtHS1cZMiEEEAGC6R4uATQVzcp4rm1RxBXNyniubVHEFc3KeK5tUcQVzcp4rm1RxBXNyniubVHEFc3KeK5tUcQchZPCAl7x9ByFk8ICXvH0HIWTwgJe8fQcKEFwKHISBBwoQXAochIEHChBcChyEgQcKEFwKHISBBVHqDMyLGIEFUeoMzIsYgQQrMZ41++CFBCsxnjX74IUEKzGeNfvghQQrMZ41++CFBCsxnjX74IUFeU11W1PshQV5TXVbU+yFBXlNdVtT7IUFeU11W1PshQV5TXVbU+yFBXlNdVtT7IUFeU11W1PshQV5TXVbU+yFBXlNdVtT7IUFeU11W1PshQV5TXVbU+yFBXlNdVtT7IUFeU11W1PshQV5TXVbU+yFBXlNdVtT7IUFeU11W1PshQUwvbhIleSJBVERcH7GuI0FURFwfsa4jQVREXB+xriNBVERcH7GuI0FURFwfsa4jQVREXB+xriNBVERcH7GuI0FURFwfsa4jQVREXB+xriNBVERcH7GuI0FURFwfsa4jQVREXB+xriNBVERcH7GuI0FURFwfsa4jQVREXB+xriNBVERcH7GuI0FURFwfsa4jQVREXB+xriNBVERcH7GuI0FURFwfsa4jQVREXB+xriNBVERcH7GuI0FURFwfsa4jQVREXB+xriNBVERcH7GuI0FURFwfsa4jQVREXB+xriNBVERcH7GuI0FURFwfsa4jQVREXB+xriNBVERcH7GuI0FURFwfsa4jQVREXB+xriNBVERcH7GuI0FURFwfsa4jQVREXB+xriNBVERcH7GuI0FURFwfsa4jQVREXB+xriNBVERcH7GuI0FURFwfsa4jQVREXB+xriNBVERcH7GuI0FURFwfsa4jQVREXB+xriNBVERcH7GuI0FURFwfsa4jQVREXB+xriNBVERcH7GuI0FURFwfsa4jQVREXB+xriNBVERcH7GuI0FURFwfsa4jQYgGGrskaCRBgLAIVKe1JEFCrhVF+tAlQUKuFUX60CVBolacTaUKJkGiVpxNpQomQaJWnE2lCiZBolacTaUKJkGiVpxNpQomQaJWnE2lCiZBolacTaUKJkGiVpxNpQomQaJWnE2lCiZBolacTaUKJkGiVpxNpQomQaJWnE2lCiZBolacTaUKJkGiVpxNpQomQaJWnE2lCiZBolacTaUKJkGiVpxNpQomQaJWnE2lCiZBolacTaUKJkGiVpxNpQomQaJWnE2lCiZBolacTaUKJkGiVpxNpQomQaJWnE2lCiZBolacTaUKJkGiVpxNpQomQaJWnE2lCiZBolacTaUKJkGiVpxNpQomQaJWnE2lCiZBolacTaUKJkGiVpxNpQomQaJWnE2lCiZBolacTaUKJkGiVpxNpQomQaJWnE2lCiZBolacTaUKJkGiVpxNpQomQaJWnE2lCiZBolacTaUKJkGiVpxNpQomQaJWnE2lCiZBolacTaUKJkGiVpxNpQomQaJWnE2lCiZBolacTaUKJkGiVpxNpQomQaJWnE2lCiZBolacTaUKJkGiVpxNpQomQaJWnE2lCiZBolacTaUKJkGiVpxNpQomQaJWnE2lCiZBolacTaUKJkGiVpxNpQomQaJWnE2lCiZBolacTaUKJkGiVpxNpQomQaJWnE2lCiZBolacTaUKJkGiVpxNpQomQaJWnE2lCiZBolacTaUKJkGiVpxNpQomQaJWnE2lCiZBolacTaUKJkGiVpxNpQomQaJWnE2lCiZBolacTaUKJkGiVpxNpQomQaJWnE2lCiZBolacTaUKJkGiVpxNpQomQaJWnE2lCiZBolacTaUKJkGiVpxNpQomQaJWnE2lCiZBolacTaUKJkGiVpxNpQomQaJWnE2lCiZBolacTaUKJkGiVpxNpQomQaJWnE2lCiZBolacTaUKJkGiVpxNpQomQaJWnE2lCiZBolacTaUKJkGiVpxNpQomQaJWnE2lCiZBolacTaUKJkGiVpxNpQomQaJWnE2lCiZBolacTaUKJkGiVpxNpQomQaJWnE2lCiZBolacTaUKJkGiVpxNpQomQaJWnE2lCiZBolacTaUKJkGiVpxNpQomQaJWnE2lCiZBolacTaUKJkGiVpxNpQomQaJWnE2lCiZBolacTaUKJkGiVpxNpQomQaJWnE2lCiZBolacTaUKJkGiVpxNpQomQaJWnE2lCiZBolacTaUKJkGiVpxNpQomQaJWnE2lCiZBolacTaUKJkGiVpxNpQomQaJWnE2lCiZBolacTaUKJkGiVpxNpQomQaJWnE2lCiZBolacTaUKJkGiVpxNpQomQaJWnE2lCiZBolacTaUKJkGiVpxNpQomQaJWnE2lCiZBolacTaUKJkGiVpxNpQomQaJWnE2lCiZBolacTaUKJkGiVpxNpQomQaJWnE2lCiZBolacTaUKJkGiVpxNpQomQaJWnE2lCiZBolacTaUKJkGiVpxNpQomQaJWnE2lCiZBolacTaUKJkGiVpxNpQomQaJWnE2lCiZBolacTaUKJkGiVpxNpQomQaJWnE2lCiZBolacTaUKJkGiVpxNpQomQaJWnE2lCiZBolacTaUKJkGiVpxNpQomQaJWnE2lCiZBolacTaUKJkGiVpxNpQomQaJWnE2lCiZBolacTaUKJkGiVpxNpQomQaJWnE2lCiZBolacTaUKJkGiVpxNpQomQaJWnE2lCiZBolacTaUKJkGiVpxNpQomQaJWnE2lCiZBolacTaUKJkGiVpxNpQomQaJWnE2lCiZBolacTaUKJkGiVpxNpQomQaJWnE2lCiZBolacTaUKJkGiVpxNpQomQaJWnE2lCiZBolacTaUKJkGiVpxNpQomQaJWnE2lCiZBolacTaUKJkGiVpxNpQomQaJWnE2lCiZBolacTaUKJkGiVpxNpQomQaJWnE2lCiZBolacTaUKJkGiVpxNpQomQaJWnE2lCiZBolacTaUKJkGiVpxNpQomQaJWnE2lCiZBolacTaUKJkGiVpxNpQomQaJWnE2lCiZBolacTaUKJkGiVpxNpQomQaJWnE2lCiZBolacTaUKJkGiVpxNpQomQaJWnE2lCiZBjnc+vx1HJ0Fiq4OliDwpQa5dlxD9uStBrl2XEP25K0GuXZcQ/bkrQdAqv8FC2CxBwC2C1L0eLkH1q3FmkYgwQfWrcWaRiDBBcDv6KVmAMUGsCGwxCO4xQRwQHGdnmjVBCAzt+RQwNkEIDO35FDA2QQgM7fkUMDZBCAzt+RQwNkE65QXJF603QTrlBckXrTdBOuUFyRetN0E65QXJF603QTrlBckXrTdBOuUFyRetN0E65QXJF603QTrlBckXrTdBOuUFyRetN0E65QXJF603QTrlBckXrTdBOuUFyRetN0E65QXJF603QTrlBckXrTdBOuUFyRetN0E65QXJF603QTrlBckXrTdBOuUFyRetN0E65QXJF603QTrlBckXrTdBOuUFyRetN0E65QXJF603QR5aMnsqiDlBrnZHcviJPUGudkdy+Ik9QS48Kk5r7j1BLjwqTmvuPUEuPCpOa+49QS48Kk5r7j1BBnq+aIQUPkEGer5ohBQ+QQZ6vmiEFD5BBnq+aIQUPkEGer5ohBQ+QQZ6vmiEFD5BSPJywwFTPkESr0x0d61BQalW67+dDkJB+9FNjit1Q0HSFdQfx95DQc80046WhUVBzzTTjpaFRUHPNNOOloVFQc80046WhUVBzzTTjpaFRUHPNNOOloVFQc80046WhUVB",
          "dtype": "f8"
         },
         "yaxis": "y"
        },
        {
         "mode": "lines",
         "name": "Max Downfall from Start",
         "type": "scatter",
         "x": {
          "bdata": "AAABAAIAAwAEAAUABgAHAAgACQAKAAsADAANAA4ADwAQABEAEgATABQAFQAWABcAGAAZABoAGwAcAB0AHgAfACAAIQAiACMAJAAlACYAJwAoACkAKgArACwALQAuAC8AMAAxADIAMwA0ADUANgA3ADgAOQA6ADsAPAA9AD4APwBAAEEAQgBDAEQARQBGAEcASABJAEoASwBMAE0ATgBPAFAAUQBSAFMAVABVAFYAVwBYAFkAWgBbAFwAXQBeAF8AYABhAGIAYwBkAGUAZgBnAGgAaQBqAGsAbABtAG4AbwBwAHEAcgBzAHQAdQB2AHcAeAB5AHoAewB8AH0AfgB/AIAAgQCCAIMAhACFAIYAhwCIAIkAigCLAIwAjQCOAI8AkACRAJIAkwCUAJUAlgCXAJgAmQCaAJsAnACdAJ4AnwCgAKEAogCjAKQApQCmAKcAqACpAKoAqwCsAK0ArgCvALAAsQCyALMAtAC1ALYAtwC4ALkAugC7ALwAvQC+AL8AwADBAMIAwwDEAMUAxgDHAMgAyQDKAMsAzADNAM4AzwDQANEA0gDTANQA1QDWANcA2ADZANoA2wDcAN0A3gDfAOAA4QDiAOMA5ADlAOYA5wDoAOkA6gDrAOwA7QDuAO8A8ADxAPIA8wD0APUA9gD3APgA+QD6APsA/AD9AP4A/wAAAQEBAgEDAQQBBQEGAQcBCAEJAQoBCwEMAQ0BDgEPARABEQESARMBFAEVARYBFwEYARkBGgEbARwBHQEeAR8BIAEhASIBIwEkASUBJgEnASgBKQEqASsBLAEtAS4BLwEwATEBMgEzATQBNQE2ATcBOAE5AToBOwE8AT0BPgE/AUABQQFCAUMBRAFFAUYBRwFIAUkBSgFLAUwBTQFOAU8BUAFRAVIBUwFUAVUBVgFXAVgBWQFaAVsBXAFdAV4BXwFgAWEBYgFjAWQBZQFmAWcBaAFpAWoBawFsAW0BbgFvAXABcQFyAXMBdAF1AXYBdwF4AXkBegF7AXwBfQF+AX8BgAGBAYIBgwGEAYUBhgGHAYgBiQGKAYsBjAGNAY4BjwGQAZEBkgGTAZQBlQGWAZcBmAGZAZoBmwGcAZ0BngGfAaABoQGiAaMBpAGlAaYBpwGoAakBqgGrAawBrQGuAa8BsAGxAbIBswG0AbUBtgG3AbgBuQG6AbsBvAG9Ab4BvwHAAcEBwgHDAcQBxQHGAccByAHJAcoBywHMAc0BzgHPAdAB",
          "dtype": "i2"
         },
         "xaxis": "x2",
         "y": {
          "bdata": "AAAAAAAAAAAAAAAAAAAAAAAAAAAAAAAAAAAAAAAAAAAAAAAAAAAAAAAAAAAAAAAAAAAAAAAAAAAAAAAAAAAAAAAAAAAAAAAAAAAAAAAAAAAAAAAAAAAAAAAAAAAAAAAAAAAAAAAAAAAAAAAAAAAAAAAAAAAAAAAAAAAAAAAAAAAAAAAAAAAAAAAAAAAAAAAAAAAAAAAAAAAAAAAAAAAAAAAAAAAAAAAAAAAAAAAAAAAAAAAAAAAAAAAAAAAAAAAAAAAAAAAAAAAAAAAAAAAAAAAAAAAAAAAAAAAAAAAAAAAAAAAAAAAAAAAAAAAAAAAAAAAAAAAAAAAAAAAAAAAAAAAAAAAAAAAAAAAAAAAAAAAAAAAAAAAAAAAAAAAAAAAAAAAAAAAAAAAAAAAAAAAAAAAAAAAAAAAAAAAAAAAAAAAAAAAAAAAAAAAAAAAAAAAAAAAAAAAAAAAAAAAAAAAAAAAAAAAAAAAAAAAAAAAAAAAAAAAAAAAAAAAAAAAAAAAAAAAAAAAAAAAAAAAAAAAAAAAAAAAAAAAAAAAAAAAAAAAAAAAAAAAAAAAAAAAAAAAAAAAAAAAAAAAAAAAAAAAAAAAAAAAAAAAAAAAAAAAAAAAAAAAAAAAAAAAAAAAAAAAAAAAAAAAAAAAAAAAAAAAAAAAAAAAAAAAAAAAAAAAAAAAAAAAAAAAAAAAAAAAAAAAAAAAAAAAAAAAAAAAAAAAAAAAAAAAAAAAAAAAAAAAAAAAAAAAAAAAAAAAAAAAAAAAAAAAAAAAAAAAAAAAAAAAAAAAAAAAAAAAAAAAAAAAAAAAAAAAAAAAAAAAAAAAAAAAAAAAAAAAAAAAAAAAAAAAAAAAAAAAAAAAAAAAAAAAAAAAAAAAAAAAAAAAAAAAAAAAAAAAAAAAAAAAAAAAAAAAAAAAAAAAAAAAAAAAAAAAAAAAAAAAAAAAAAAAAAAAAAAAAAAAAAAAAAAAAAAAAAAAAAAAAAAAAAAAAAAAAAAAAAAAAAAAAAAAAAAAAAAAAAAAAAAAAAAAAAAAAAAAAAAAAAAAAAAAAAAAAAAAAAAAAAAAAAAAAAAAAAAAAAAAAAAAAAAAAAAAAAAAAAAAAAAAAAAAAAAAAAAAAAAAAAAAAAAAAAAAAAAAAAAAAAAAAAAAAAAAAAAAAAAAAAAAAAAAAAAAAAAAAAAAAAAAAAAAAAAAAAAAAAAAAAAAAAAAAAAAAAAAAAAAAAAAAAAAAAAAAAAAAAAAAAAAAAAAAAAAAAAAAAAAAAAAAAAAAAAAAAAAAAAAAAAAAAAAAAAAAAAAAAAAAAAAAAAAAAAAAAAAAAAAAAAAAAAAAAAAAAAAAAAAAAAAAAAAAAAAAAAAAAAAAAAAAAAAAAAAAAAAAAAAAAAAAAAAAAAAAAAAAAAAAAAAAAAAAAAAAAAAAAAAAAAAAAAAAAAAAAAAAAAAAAAAAAAAAAAAAAAAAAAAAAAAAAAAAAAAAAAAAAAAAAAAAAAAAAAAAAAAAAAAAAAAAAAAAAAAAAAAAAAAAAAAAAAAAAAAAAAAAAAAAAAAAAAAAAAAAAAAAAAAAAAAAAAAAAAAAAAAAAAAAAAAAAAAAAAAAAAAAAAAAAAAAAAAAAAAAAAAAAAAAAAAAAAAAAAAAAAAAAAAAAAAAAAAAAAAAAAAAAAAAAAAAAAAAAAAAAAAAAAAAAAAAAAAAAAAAAAAAAAAAAAAAAAAAAAAAAAAAAAAAAAAAAAAAAAAAAAAAAAAAAAAAAAAAAAAAAAAAAAAAAAAAAAAAAAAAAAAAAAAAAAAAAAAAAAAAAAAAAAAAAAAAAAAAAAAAAAAAAAAAAAAAAAAAAAAAAAAAAAAAAAAAAAAAAAAAAAAAAAAAAAAAAAAAAAAAAAAAAAAAAAAAAAAAAAAAAAAAAAAAAAAAAAAAAAAAAAAAAAAAAAAAAAAAAAAAAAAAAAAAAAAAAAAAAAAAAAAAAAAAAAAAAAAAAAAAAAAAAAAAAAAAAAAAAAAAAAAAAAAAAAAAAAAAAAAAAAAAAAAAAAAAAAAAAAAAAAAAAAAAAAAAAAAAAAAAAAAAAAAAAAAAAAAAAAAAAAAAAAAAAAAAAAAAAAAAAAAAAAAAAAAAAAAAAAAAAAAAAAAAAAAAAAAAAAAAAAAAAAAAAAAAAAAAAAAAAAAAAAAAAAAAAAAAAAAAAAAAAAAAAAAAAAAAAAAAAAAAAAAAAAAAAAAAAAAAAAAAAAAAAAAAAAAAAAAAAAAAAAAAAAAAAAAAAAAAAAAAAAAAAAAAAAAAAAAAAAAAAAAAAAAAAAAAAAAAAAAAAAAAAAAAAAAAAAAAAAAAAAAAAAAAAAAAAAAAAAAAAAAAAAAAAAAAAAAAAAAAAAAAAAAAAAAAAAAAAAAAAAAAAAAAAAAAAAAAAAAAAAAAAAAAAAAAAAAAAAAAAAAAAAAAAAAAAAAAAAAAAAAAAAAAAAAAAAAAAAAAAAAAAAAAAAAAAAAAAAAAAAAAAAAAAAAAAAAAAAAAAAAAAAAAAAAAAAAAAAAAAAAAAAAAAAAAAAAAAAAAAAAAAAAAAAAAAAAAAAAAAAAAAAAAAAAAAAAAAAAAAAAAAAAAAAAAAAAAAAAAAAAAAAAAAAAAAAAAAAAAAAAAAAAAAAAAAAAAAAAAAAAAAAAAAAAAAAAAAAAAAAAAAAAAAAAAAAAAAAAAAAAAAAAAAAAAAAAAAAAAAAAAAAAAAAAAAAAAAAAAAAAAAAAAAAAAAAAAAAAAAAAAAAAAAAAAAAAAAAAAAAAAAAAAAAAAAAAAAAAAAAAAAAAAAAAAAAAAAAAAAAAAAAAAAAAAAAAAAAAAAAAAAAAAAAAAAAAAAAAAAAAAAAAAAAAAAAAAAAAAAAAAAAAAAAAAAAAAAAAAAAAAAAAAAAAAAAAAAAAAAAAAAAAAAAAAAAAAAAAAAAAAAAAAAAAAAAAAAAAAAAAAAAAAAAAAAAAAAAAAAAAAAAAAAAAAAAAAAAAAAAAAAAAAAAAAAAAAAAAAAAAAAAAAAAAAAAAAAAAAAAAAAAAAAAAAAAAAAAAAAAAAAAAAAAAAAAAAAAAAAAAAAAAAAAAAAAAAAAAAAAAAAAAAAAAAAAAAAAAAAAAAAAAAAAAAAAAAAAAAAAAAAAAAAAAAAAAAAAAAAAAAAAAAAAAAAAAAAAAAAAAAAAAAAAAAAAAAAAAAAAAAAAAAAAAAAAAAAAAAAAAAAAAAAAAAAAAAAAAAAAAAAAAAAAAAAAAAAAAAAAAAAAAAAAAAAAAAAAAAAAAAAAAAAAAAAAAAAAAAAAAAAAAAAAAAAAAAAAAAAAAAAAAAAAAAAAAAAAAAAAAAAAAAAAAAAAAAAAAAAAAAAAAAAAAAAAAAAAAAAAAAAAAAAAAAAAAAAAAAAAAAAAAAAAAAAAAAAAAAAAAAAAAAAAAAAAAAAAAAAAAAAAAAAAAAAAAAAAAAAAAAAAAAAAAAAAAAAAAAAAAAAAAAAAAAAAAAAAAAAAAAAAAAAAAAAAAAAAAAAAAAAAAAAAAAAAAAAAAAAAAAAAAAAAAAAAAAAAAAAAAAAAAAAAAAAAAAAAAAAAAAAAAAAAAAAAAAAAAAAAAAAAAAAAAAAAAAAAAAAAAAAAAAAAAAAAAAAAAAAAAAAAAAAAAAAAAAAAAAAAAAAAAAAAAAAAAAAAAAAAAAAAAAAAAAAAAAAAAAAAAAAAAAAAAAAAAAAAAAAAAAAAAAAAAAAAAAAAAAAAAAAAAAAAAAAAAAAAAAAAAAAAAAAAAAAAAAAAAAAAAAAAAAAAAAAAAAAAAAAAAAAAAAAAAAAAAAAAAAAAAAAAAAAAAAAAAAAAAAAAAAAAAAAAAAAAAAAAAAAAAAAAAAAAAAAAAAAAAAAAAAAAAAAAAAAAAAAAAAAAAAAAAAAAAAAAAAAAAAAAAAAAAAAAAAAAAAAAAAAAAAAAAAAAAAAAAAAAAAAAAAAAAAAAAAAAAAAAAAAAAAAAAAAAAAAAAAAAAAAAAAAAAAAAAAAAAAAAAAAAAAAAAAAAAAAAAAAAAAAAAAAAAAAAAAAAAAAAAAAAAAAAAAAAAAAAAAAAAAAAAAAAAAAAAAAAAAAAAAAAAAAAAAAAAAAAAAAAAAAAAAAAAAAAAAAAAAAAAAAAAAAAAAAAAAAAAAAAAAAAAAAAAAAAAAAAAAAAAAAAAAAAAAAAAAAAAAAAAAAAAAAAAAAAAAAAAAAAAAAAAAAAAAAAAAAAAAAAAAAAAAAAAAAAAAAAAAAAAAAAAAAAAAAAAAAAAAAAAAAAAAAAAAAAAAAAAAAAAAAAAAAAAAAAAAAAAAAAAAAAAAAAAAAAAAAAAAAAAAAAAAAAAAAAAAAAAAAAAAAAAAAAAAAAAAAAAAAAAAAAAAAAAAAAAAAAAAAAAAAAAAAAAAAAAAAAAAAAAAAAAAAAAAAAAAAAAAAAAAAAAAAAAAAAAAAAAAAAAAAAAAAAAAAAAAAAAAAAAAAAAAAAAAAAAAAAAAAAAAAAAAAAAAAAAAAAAAAAAAAAAAAAAAAAAAAAAAAAAAAAAAAAAAAAAAAAAAAAAAAAAAAAAAAAAAAAAAAAAAAAAAAAAAAAAAAAAAAAAAAAAAAAAAAAAAAAAAAAAAAAAAAAAAAAAAAAAAAAAAAAAAAAAAAAAAAAAAAAAAAAAAAAAAAAAAAAAAAAAAAAAAAAAAAAAAAAAAAAAAAAAAAAAAAAAAAAAAAAAAAAAAAAAAAAAAAAAAAAAAAAAAAAAAAAAAAAAAAAAAAAAAAAAAAAAAAAAAAAAAAAAAAAAAAAAAAAAAAAAAAAAAAAAAAAAAAAAAAAAAAAAAAAAAAAAAAAAAAAAAAAAAAAAAAAAAAAAAAAAAAAAAAAAAAAAAAAAAAAAAAAAAAAAAAAAAAAAAAAAAAAAAAAAAAAAAAAAAAAAAAAAAAAAAAAAAAAAAAAAAAAAAAAAAAAAAAAAAAAAAAAAAAAAAAAAAAAAAAAAA",
          "dtype": "f8"
         },
         "yaxis": "y2"
        }
       ],
       "layout": {
        "annotations": [
         {
          "bgcolor": "rgba(255,255,255,0.8)",
          "bordercolor": "lightgray",
          "borderwidth": 1,
          "font": {
           "color": "darkblue",
           "size": 11
          },
          "showarrow": false,
          "text": "<b>PnL Extrema Analysis</b><br>Shows maximum profit (uprise) and maximum loss (downfall) achieved from start.<br>• Top chart: Best performance reached so far (always ≥ 0)<br>• Bottom chart: Worst loss experienced so far (always ≤ 0)<br>• Helps assess peak performance and maximum risk exposure",
          "x": 0.5,
          "xanchor": "center",
          "xref": "paper",
          "y": -0.36,
          "yanchor": "bottom",
          "yref": "paper"
         },
         {
          "bgcolor": "rgba(255,255,255,0.8)",
          "bordercolor": "lightgray",
          "borderwidth": 1,
          "font": {
           "color": "darkblue",
           "size": 11
          },
          "showarrow": false,
          "text": "<b>PnL Extrema Analysis</b><br>Shows maximum profit (uprise) and maximum loss (downfall) achieved from start.<br>• Top chart: Best performance reached so far (always ≥ 0)<br>• Bottom chart: Worst loss experienced so far (always ≤ 0)<br>• Helps assess peak performance and maximum risk exposure",
          "x": 0.5,
          "xanchor": "center",
          "xref": "paper",
          "y": -0.36,
          "yanchor": "bottom",
          "yref": "paper"
         }
        ],
        "height": 600,
        "margin": {
         "b": 140
        },
        "template": {
         "data": {
          "bar": [
           {
            "error_x": {
             "color": "#2a3f5f"
            },
            "error_y": {
             "color": "#2a3f5f"
            },
            "marker": {
             "line": {
              "color": "white",
              "width": 0.5
             },
             "pattern": {
              "fillmode": "overlay",
              "size": 10,
              "solidity": 0.2
             }
            },
            "type": "bar"
           }
          ],
          "barpolar": [
           {
            "marker": {
             "line": {
              "color": "white",
              "width": 0.5
             },
             "pattern": {
              "fillmode": "overlay",
              "size": 10,
              "solidity": 0.2
             }
            },
            "type": "barpolar"
           }
          ],
          "carpet": [
           {
            "aaxis": {
             "endlinecolor": "#2a3f5f",
             "gridcolor": "#C8D4E3",
             "linecolor": "#C8D4E3",
             "minorgridcolor": "#C8D4E3",
             "startlinecolor": "#2a3f5f"
            },
            "baxis": {
             "endlinecolor": "#2a3f5f",
             "gridcolor": "#C8D4E3",
             "linecolor": "#C8D4E3",
             "minorgridcolor": "#C8D4E3",
             "startlinecolor": "#2a3f5f"
            },
            "type": "carpet"
           }
          ],
          "choropleth": [
           {
            "colorbar": {
             "outlinewidth": 0,
             "ticks": ""
            },
            "type": "choropleth"
           }
          ],
          "contour": [
           {
            "colorbar": {
             "outlinewidth": 0,
             "ticks": ""
            },
            "colorscale": [
             [
              0,
              "#0d0887"
             ],
             [
              0.1111111111111111,
              "#46039f"
             ],
             [
              0.2222222222222222,
              "#7201a8"
             ],
             [
              0.3333333333333333,
              "#9c179e"
             ],
             [
              0.4444444444444444,
              "#bd3786"
             ],
             [
              0.5555555555555556,
              "#d8576b"
             ],
             [
              0.6666666666666666,
              "#ed7953"
             ],
             [
              0.7777777777777778,
              "#fb9f3a"
             ],
             [
              0.8888888888888888,
              "#fdca26"
             ],
             [
              1,
              "#f0f921"
             ]
            ],
            "type": "contour"
           }
          ],
          "contourcarpet": [
           {
            "colorbar": {
             "outlinewidth": 0,
             "ticks": ""
            },
            "type": "contourcarpet"
           }
          ],
          "heatmap": [
           {
            "colorbar": {
             "outlinewidth": 0,
             "ticks": ""
            },
            "colorscale": [
             [
              0,
              "#0d0887"
             ],
             [
              0.1111111111111111,
              "#46039f"
             ],
             [
              0.2222222222222222,
              "#7201a8"
             ],
             [
              0.3333333333333333,
              "#9c179e"
             ],
             [
              0.4444444444444444,
              "#bd3786"
             ],
             [
              0.5555555555555556,
              "#d8576b"
             ],
             [
              0.6666666666666666,
              "#ed7953"
             ],
             [
              0.7777777777777778,
              "#fb9f3a"
             ],
             [
              0.8888888888888888,
              "#fdca26"
             ],
             [
              1,
              "#f0f921"
             ]
            ],
            "type": "heatmap"
           }
          ],
          "histogram": [
           {
            "marker": {
             "pattern": {
              "fillmode": "overlay",
              "size": 10,
              "solidity": 0.2
             }
            },
            "type": "histogram"
           }
          ],
          "histogram2d": [
           {
            "colorbar": {
             "outlinewidth": 0,
             "ticks": ""
            },
            "colorscale": [
             [
              0,
              "#0d0887"
             ],
             [
              0.1111111111111111,
              "#46039f"
             ],
             [
              0.2222222222222222,
              "#7201a8"
             ],
             [
              0.3333333333333333,
              "#9c179e"
             ],
             [
              0.4444444444444444,
              "#bd3786"
             ],
             [
              0.5555555555555556,
              "#d8576b"
             ],
             [
              0.6666666666666666,
              "#ed7953"
             ],
             [
              0.7777777777777778,
              "#fb9f3a"
             ],
             [
              0.8888888888888888,
              "#fdca26"
             ],
             [
              1,
              "#f0f921"
             ]
            ],
            "type": "histogram2d"
           }
          ],
          "histogram2dcontour": [
           {
            "colorbar": {
             "outlinewidth": 0,
             "ticks": ""
            },
            "colorscale": [
             [
              0,
              "#0d0887"
             ],
             [
              0.1111111111111111,
              "#46039f"
             ],
             [
              0.2222222222222222,
              "#7201a8"
             ],
             [
              0.3333333333333333,
              "#9c179e"
             ],
             [
              0.4444444444444444,
              "#bd3786"
             ],
             [
              0.5555555555555556,
              "#d8576b"
             ],
             [
              0.6666666666666666,
              "#ed7953"
             ],
             [
              0.7777777777777778,
              "#fb9f3a"
             ],
             [
              0.8888888888888888,
              "#fdca26"
             ],
             [
              1,
              "#f0f921"
             ]
            ],
            "type": "histogram2dcontour"
           }
          ],
          "mesh3d": [
           {
            "colorbar": {
             "outlinewidth": 0,
             "ticks": ""
            },
            "type": "mesh3d"
           }
          ],
          "parcoords": [
           {
            "line": {
             "colorbar": {
              "outlinewidth": 0,
              "ticks": ""
             }
            },
            "type": "parcoords"
           }
          ],
          "pie": [
           {
            "automargin": true,
            "type": "pie"
           }
          ],
          "scatter": [
           {
            "fillpattern": {
             "fillmode": "overlay",
             "size": 10,
             "solidity": 0.2
            },
            "type": "scatter"
           }
          ],
          "scatter3d": [
           {
            "line": {
             "colorbar": {
              "outlinewidth": 0,
              "ticks": ""
             }
            },
            "marker": {
             "colorbar": {
              "outlinewidth": 0,
              "ticks": ""
             }
            },
            "type": "scatter3d"
           }
          ],
          "scattercarpet": [
           {
            "marker": {
             "colorbar": {
              "outlinewidth": 0,
              "ticks": ""
             }
            },
            "type": "scattercarpet"
           }
          ],
          "scattergeo": [
           {
            "marker": {
             "colorbar": {
              "outlinewidth": 0,
              "ticks": ""
             }
            },
            "type": "scattergeo"
           }
          ],
          "scattergl": [
           {
            "marker": {
             "colorbar": {
              "outlinewidth": 0,
              "ticks": ""
             }
            },
            "type": "scattergl"
           }
          ],
          "scattermap": [
           {
            "marker": {
             "colorbar": {
              "outlinewidth": 0,
              "ticks": ""
             }
            },
            "type": "scattermap"
           }
          ],
          "scattermapbox": [
           {
            "marker": {
             "colorbar": {
              "outlinewidth": 0,
              "ticks": ""
             }
            },
            "type": "scattermapbox"
           }
          ],
          "scatterpolar": [
           {
            "marker": {
             "colorbar": {
              "outlinewidth": 0,
              "ticks": ""
             }
            },
            "type": "scatterpolar"
           }
          ],
          "scatterpolargl": [
           {
            "marker": {
             "colorbar": {
              "outlinewidth": 0,
              "ticks": ""
             }
            },
            "type": "scatterpolargl"
           }
          ],
          "scatterternary": [
           {
            "marker": {
             "colorbar": {
              "outlinewidth": 0,
              "ticks": ""
             }
            },
            "type": "scatterternary"
           }
          ],
          "surface": [
           {
            "colorbar": {
             "outlinewidth": 0,
             "ticks": ""
            },
            "colorscale": [
             [
              0,
              "#0d0887"
             ],
             [
              0.1111111111111111,
              "#46039f"
             ],
             [
              0.2222222222222222,
              "#7201a8"
             ],
             [
              0.3333333333333333,
              "#9c179e"
             ],
             [
              0.4444444444444444,
              "#bd3786"
             ],
             [
              0.5555555555555556,
              "#d8576b"
             ],
             [
              0.6666666666666666,
              "#ed7953"
             ],
             [
              0.7777777777777778,
              "#fb9f3a"
             ],
             [
              0.8888888888888888,
              "#fdca26"
             ],
             [
              1,
              "#f0f921"
             ]
            ],
            "type": "surface"
           }
          ],
          "table": [
           {
            "cells": {
             "fill": {
              "color": "#EBF0F8"
             },
             "line": {
              "color": "white"
             }
            },
            "header": {
             "fill": {
              "color": "#C8D4E3"
             },
             "line": {
              "color": "white"
             }
            },
            "type": "table"
           }
          ]
         },
         "layout": {
          "annotationdefaults": {
           "arrowcolor": "#2a3f5f",
           "arrowhead": 0,
           "arrowwidth": 1
          },
          "autotypenumbers": "strict",
          "coloraxis": {
           "colorbar": {
            "outlinewidth": 0,
            "ticks": ""
           }
          },
          "colorscale": {
           "diverging": [
            [
             0,
             "#8e0152"
            ],
            [
             0.1,
             "#c51b7d"
            ],
            [
             0.2,
             "#de77ae"
            ],
            [
             0.3,
             "#f1b6da"
            ],
            [
             0.4,
             "#fde0ef"
            ],
            [
             0.5,
             "#f7f7f7"
            ],
            [
             0.6,
             "#e6f5d0"
            ],
            [
             0.7,
             "#b8e186"
            ],
            [
             0.8,
             "#7fbc41"
            ],
            [
             0.9,
             "#4d9221"
            ],
            [
             1,
             "#276419"
            ]
           ],
           "sequential": [
            [
             0,
             "#0d0887"
            ],
            [
             0.1111111111111111,
             "#46039f"
            ],
            [
             0.2222222222222222,
             "#7201a8"
            ],
            [
             0.3333333333333333,
             "#9c179e"
            ],
            [
             0.4444444444444444,
             "#bd3786"
            ],
            [
             0.5555555555555556,
             "#d8576b"
            ],
            [
             0.6666666666666666,
             "#ed7953"
            ],
            [
             0.7777777777777778,
             "#fb9f3a"
            ],
            [
             0.8888888888888888,
             "#fdca26"
            ],
            [
             1,
             "#f0f921"
            ]
           ],
           "sequentialminus": [
            [
             0,
             "#0d0887"
            ],
            [
             0.1111111111111111,
             "#46039f"
            ],
            [
             0.2222222222222222,
             "#7201a8"
            ],
            [
             0.3333333333333333,
             "#9c179e"
            ],
            [
             0.4444444444444444,
             "#bd3786"
            ],
            [
             0.5555555555555556,
             "#d8576b"
            ],
            [
             0.6666666666666666,
             "#ed7953"
            ],
            [
             0.7777777777777778,
             "#fb9f3a"
            ],
            [
             0.8888888888888888,
             "#fdca26"
            ],
            [
             1,
             "#f0f921"
            ]
           ]
          },
          "colorway": [
           "#636efa",
           "#EF553B",
           "#00cc96",
           "#ab63fa",
           "#FFA15A",
           "#19d3f3",
           "#FF6692",
           "#B6E880",
           "#FF97FF",
           "#FECB52"
          ],
          "font": {
           "color": "#2a3f5f"
          },
          "geo": {
           "bgcolor": "white",
           "lakecolor": "white",
           "landcolor": "white",
           "showlakes": true,
           "showland": true,
           "subunitcolor": "#C8D4E3"
          },
          "hoverlabel": {
           "align": "left"
          },
          "hovermode": "closest",
          "mapbox": {
           "style": "light"
          },
          "paper_bgcolor": "white",
          "plot_bgcolor": "white",
          "polar": {
           "angularaxis": {
            "gridcolor": "#EBF0F8",
            "linecolor": "#EBF0F8",
            "ticks": ""
           },
           "bgcolor": "white",
           "radialaxis": {
            "gridcolor": "#EBF0F8",
            "linecolor": "#EBF0F8",
            "ticks": ""
           }
          },
          "scene": {
           "xaxis": {
            "backgroundcolor": "white",
            "gridcolor": "#DFE8F3",
            "gridwidth": 2,
            "linecolor": "#EBF0F8",
            "showbackground": true,
            "ticks": "",
            "zerolinecolor": "#EBF0F8"
           },
           "yaxis": {
            "backgroundcolor": "white",
            "gridcolor": "#DFE8F3",
            "gridwidth": 2,
            "linecolor": "#EBF0F8",
            "showbackground": true,
            "ticks": "",
            "zerolinecolor": "#EBF0F8"
           },
           "zaxis": {
            "backgroundcolor": "white",
            "gridcolor": "#DFE8F3",
            "gridwidth": 2,
            "linecolor": "#EBF0F8",
            "showbackground": true,
            "ticks": "",
            "zerolinecolor": "#EBF0F8"
           }
          },
          "shapedefaults": {
           "line": {
            "color": "#2a3f5f"
           }
          },
          "ternary": {
           "aaxis": {
            "gridcolor": "#DFE8F3",
            "linecolor": "#A2B1C6",
            "ticks": ""
           },
           "baxis": {
            "gridcolor": "#DFE8F3",
            "linecolor": "#A2B1C6",
            "ticks": ""
           },
           "bgcolor": "white",
           "caxis": {
            "gridcolor": "#DFE8F3",
            "linecolor": "#A2B1C6",
            "ticks": ""
           }
          },
          "title": {
           "x": 0.05
          },
          "xaxis": {
           "automargin": true,
           "gridcolor": "#EBF0F8",
           "linecolor": "#EBF0F8",
           "ticks": "",
           "title": {
            "standoff": 15
           },
           "zerolinecolor": "#EBF0F8",
           "zerolinewidth": 2
          },
          "yaxis": {
           "automargin": true,
           "gridcolor": "#EBF0F8",
           "linecolor": "#EBF0F8",
           "ticks": "",
           "title": {
            "standoff": 15
           },
           "zerolinecolor": "#EBF0F8",
           "zerolinewidth": 2
          }
         }
        },
        "title": {
         "text": " Chart: pnl_extrema"
        },
        "xaxis": {
         "anchor": "y",
         "domain": [
          0,
          1
         ],
         "matches": "x2",
         "showticklabels": false
        },
        "xaxis2": {
         "anchor": "y2",
         "domain": [
          0,
          1
         ]
        },
        "yaxis": {
         "anchor": "x",
         "domain": [
          0.53,
          1
         ]
        },
        "yaxis2": {
         "anchor": "x2",
         "domain": [
          0,
          0.47
         ]
        }
       }
      }
     },
     "metadata": {},
     "output_type": "display_data"
    },
    {
     "data": {
      "application/vnd.plotly.v1+json": {
       "config": {
        "plotlyServerURL": "https://plot.ly"
       },
       "data": [
        {
         "mode": "lines",
         "name": "ROI % (since start)",
         "type": "scatter",
         "x": {
          "bdata": "AAABAAIAAwAEAAUABgAHAAgACQAKAAsADAANAA4ADwAQABEAEgATABQAFQAWABcAGAAZABoAGwAcAB0AHgAfACAAIQAiACMAJAAlACYAJwAoACkAKgArACwALQAuAC8AMAAxADIAMwA0ADUANgA3ADgAOQA6ADsAPAA9AD4APwBAAEEAQgBDAEQARQBGAEcASABJAEoASwBMAE0ATgBPAFAAUQBSAFMAVABVAFYAVwBYAFkAWgBbAFwAXQBeAF8AYABhAGIAYwBkAGUAZgBnAGgAaQBqAGsAbABtAG4AbwBwAHEAcgBzAHQAdQB2AHcAeAB5AHoAewB8AH0AfgB/AIAAgQCCAIMAhACFAIYAhwCIAIkAigCLAIwAjQCOAI8AkACRAJIAkwCUAJUAlgCXAJgAmQCaAJsAnACdAJ4AnwCgAKEAogCjAKQApQCmAKcAqACpAKoAqwCsAK0ArgCvALAAsQCyALMAtAC1ALYAtwC4ALkAugC7ALwAvQC+AL8AwADBAMIAwwDEAMUAxgDHAMgAyQDKAMsAzADNAM4AzwDQANEA0gDTANQA1QDWANcA2ADZANoA2wDcAN0A3gDfAOAA4QDiAOMA5ADlAOYA5wDoAOkA6gDrAOwA7QDuAO8A8ADxAPIA8wD0APUA9gD3APgA+QD6APsA/AD9AP4A/wAAAQEBAgEDAQQBBQEGAQcBCAEJAQoBCwEMAQ0BDgEPARABEQESARMBFAEVARYBFwEYARkBGgEbARwBHQEeAR8BIAEhASIBIwEkASUBJgEnASgBKQEqASsBLAEtAS4BLwEwATEBMgEzATQBNQE2ATcBOAE5AToBOwE8AT0BPgE/AUABQQFCAUMBRAFFAUYBRwFIAUkBSgFLAUwBTQFOAU8BUAFRAVIBUwFUAVUBVgFXAVgBWQFaAVsBXAFdAV4BXwFgAWEBYgFjAWQBZQFmAWcBaAFpAWoBawFsAW0BbgFvAXABcQFyAXMBdAF1AXYBdwF4AXkBegF7AXwBfQF+AX8BgAGBAYIBgwGEAYUBhgGHAYgBiQGKAYsBjAGNAY4BjwGQAZEBkgGTAZQBlQGWAZcBmAGZAZoBmwGcAZ0BngGfAaABoQGiAaMBpAGlAaYBpwGoAakBqgGrAawBrQGuAa8BsAGxAbIBswG0AbUBtgG3AbgBuQG6AbsBvAG9Ab4BvwHAAcEBwgHDAcQBxQHGAccByAHJAcoBywHMAc0BzgHPAdAB",
          "dtype": "i2"
         },
         "y": {
          "bdata": "AAAAAAAAAAAAAAAAAAAAAAAAAAAAAAAAAAAAAAAAAAAAAAAAAAAAAAAAAAAAAAAAAAAAAAAAAAAAAAAAAAAAAAAAAAAAAAAAAAAAAAAAAAAAAAAAAAAAAAAAAAAAAAAAAAAAAAAAAAAAAAAAAAAAAAAAAAAAAAAAAAAAAAAAAAAAAAAAAAAAAAAAAAAAAAAAAAAAAAAAAAAAAAAAAAAAAAAAAAAAAAAAAAAAAAAAAAAAAAAAAAAAAAAAAAAAAAAAAAAAAAAAAAAAAAAAAAAAAAAAAAAAAAAAAAAAAAAAAAAAAAAAAAAAAAAAAAAAAAAAAAAAAAAAAAAAAAAAAAAAAAAAAAAAAAAAAAAAAAAAAAAAAAAAAAAAAAAAAAAAAAAAAAAAAAAAAAAAAAAAAAAAAAAAAAAAAAAAAAAAAAAAAAAAAAAAAAAAAAAAAAAAAAAAAAAAAAAAAAAAAAAAAAAAAAAAAAAAAAAAAAAAAAAAAAAAAAAAAAAAAAAAAAAAAAAAAAAAAAAAAAAAAAAAAAAAAAAAAAAAAAAAAAAAAAAAAAAAAAAAAAAAAAAAAAAAAAAAAAAAAAAAAAAAAAAAAAAAAAAAAAAAAAAAAAAAAAAAAAAAAAAAAAAAAAAAAAAAAAAAAAAAAAAAAAAAAAAAAAAAAAAAAAAAAAAAAAAAAAAAAAAAAAAAAAAAAAAAAAAAAAAAAAAAAAAAAAAAAAAAAAAAAAAAAAAAAAAAAAAAAAAAAAAAAAAAAAAAAAAAAAAAAAAAAAAAAAAAAAAAAAAAAAAAAAAAAAAAAAAAAAAAAAAAAAAAAAAAAAAAAAAAAAAAAAAAAAAAAAAAAAAAAAAAAAAAAAAAAAAAAAAAAAAAAAAAAAAAAAAAAAAAAAAAAAAAAAAAAAAAAAAAAAAAAAAAAAAAAAAAAAAAAAAAAAAAAAAAAAAAAAAAAAAAAAAAAAAAAAAAAAAAAAAAAAAAAAAAAAAAAAAAAAAAAAAAAAAAAAAAAAAAAAAAAAAAAAAAAAAAAAAAAAAAAAAAAAAAAAAAAAAAAAAAAAAAAAAAAAAAAAAAAAAAAAAAAAAAAD5tLayAgwxAJpkKOKXyGkAc93r+q6YjQOYcBhDyqyFAuTfaqgL/JEACSLBJ0CUkQIRl/WdFUy9AELlBKTGBNEDUA2CbLZc1QI43GBImrDhABp7hH4lvOkD4oJeK0EhAQEzeOsBAn0dAGU5+wiKoRUDEkbpaqehFQKn6LbHmrUVAaZUnnfpZQUChq3kY22VDQGIPbiwUKUpAqFjvgAfjSEDeS/IV4wdJQP0xqVHRbUpAPGtk6VjERkAdx/spQwZKQAD1/bnfT0pAo1FCLIJ7S0BFhWW05glKQEf48i5zcU1AeVETqf99SEB68vAuoqdJQMSaVQkH9UtAD4aZd5h2S0BD6VQG6nZNQJHetnpsmExAZ3wdu9tgSkC212KxcZRIQHTXfA3UGExAiCyEbReySkBGFUUnvxJFQCFsyJqLW0RA/Q3RWmDSRUAZ16oBwptFQEMTV5eA5ENAdxwNdVtpRkCXQavAkcdLQGO+/H79mUdAqNPkktdGTEDnmnZNli9NQB/XsBk7RE5AnRe/RrIfUEDNviXkolBNQL0AFx3VnExAfPCpK1MZTEBi6IQ5Q71IQPjmZC0wuEdAEWdaewtfSUD8JDTdlwxIQIFGx76jPUZAsqtQXSYwSEAUiRbruGJGQIb2+nJoSkRABjMj3QoxQ0DhziWLB0VDQEXq/xRqjEJAbrh4fwlwQkCs3ohU9Ds/QMsxEhnlNDlAvSOLlCW+O0Dqzr7o/Q86QIg0ODF9pkFAJY3L0AqXQ0B8W7ljTI5EQGBlHFXh0UBAzoFQPl6dQkBpOPKVq59HQNgmSmPQdUVAAdv3CglBR0B1d0G+E+9FQH+GyYLx70pAZNvBepksR0C3gNZLWDlKQKaaj+xmokZA9WyfkZUrRkBjq7q1CqNHQHqJJbMsrUVAcHLin5dISEAb8NDDE+9KQGQl1gwiwUlAOCZsa+kqTEBcwAlU4RFLQPH0WNt1yElAa1ziC/d+SUCJYI7R63BKQHIT+Wlpl0pA17Fm2jZxSUA0FapDY2hJQBVU8T38nEhA2mb9bHpOSUBMzuTtFO1KQIrEu7nWGk1Atj9mqDVpTUA0OQQEhL5PQFYec0uet1BAze66WR33UECorKeyNt9RQMuQvFu171BA3hcjk3QOUkDgBEb0Az9NQFJ5eRRDEEtA87RFevzyR0Bz+slAQABKQOAHVTbJC0lAVm0JkqCrSEDATedRMHhKQBwVKp/7+khAJLI9jA/KSkB2qZkEoFNLQEyp2Os4dUtA9yUI0I2LSkAx+WgJS5ZIQNEw0EvFA0lAMLLjnJqKSUDQETXxYFtIQIQpjcvpc0pAJvSKB1/oR0BeDTSZz1ZHQEyBMFPIVkRAMsDtXhIUREAHHg/q7/ZEQAtIU4GN3EJA/R3/VMSpREBsCcLNxxxEQGxun9OlkERAgqziX/KnREAwq38f8b5EQFDSNGrz8UVA7OYMDXvIREDsnXMp4edEQMD5Ur6G6ERA+I5IlHJfQ0BVyDOtqvlDQLUtOZNEzkRAuzKJPM3NQkCwqnrVaYpCQBiQS241TkNASP0H7Q3JREBg+PoSjbZGQI5T7YsvikZA0f3a4eSoR0BR+KRfu3hGQH5ZFjU6JUVApEtutEYQR0AL05hUVthGQJWWgsbrzUdAILLuYwjOQkCiV9sg1G5EQFrxomK+H0BAk/ap4nWxQEA3qvOzdog9QAYsWnaMCjJAC0rpfH8XMkCoTOPDSJ4xQOQVcvq7qjJA8LMxjV2RLECivaIiny4sQExo+erfjS5AcRCOvlXKMEDLVGun9wswQIySUQ8JfTFAtLABpGsMNECbyTq6uwo4QFfmqgAZfTZAJpFTSM3eOkBMazGySYI4QDeOK+TPWDpAgLYzPGS9NkCDZO1aA9E4QF44xPYJ+jJABxTcWoFCOECWQFsylv08QLFWh9Pdzj5AJWLb6OuXQEAls6sZ1bpAQLK4r6rw9z9AQmIlPJJAPUCsFw9bW1Q7QDAr2ft3D0BARdqRVTmsQEA4BKbGE4c/QIJxV6imkkBATjZgYj6dQUBSBX/lrhhBQBpC3yXW31BA5PmS6AJSTkBiwmkBJdhOQO7fo0aVOk5Ac8EBreFmTkCsoXB4om1NQAeMvWpAlE9AVI9jCD1iUECtulO5xwpQQNKeYx24ZU1ABOGx+ocoTkBvNmOCbr1KQIJ7omJqV0pAB7CbFLD+TEDsSXVtWmFNQG5RWx11ykxAXRygsRViTUBcRpr7F+NLQFIlD4SezEpADV0hGTPyS0BjlAMQLFFJQEhCIFEEmUdAi1bBxrgrR0CAzJ7V5ApHQG68vvMpMEdAkL64P7VZR0AqYCTRQG5JQPZqHOqCDkpAjXwdsCCYSUBpFnkw2zFJQFxS/TJoSklAyFY8hEBaSEAAkAXhWYBJQGIeoWdXfUZA3ZKX6MDqQ0DeJhl7++c8QAvCxUrMCj1AFYpoTOIPP0B0fiIjhfY/QApOr5sy+TxAV+4u5BVOO0DSU5AsMrU/QMDqX22j0zxArEnEj+bAO0Ds20w63E87QNDFD/97eDxA9gZWWRaiPECx+LzfWqlAQNnv8PVAAj1AEjDE/UodOECU0zo91Jc2QASlb+IVTTdAnvXeVe7eN0BJWg0AJf43QPEwJo31mDlA/GPugSkROUBYMwgaFyA6QH5mbuX0tjhAefg3QQHON0Ai36EQKTM0QESbm+JxKzBA8JHirYm2MUCgKxvvfz0zQFV7wo3bHzVAx3fyKiJGN0AEzhb5hB43QHANOBGWOjVA4gzQPZ39OECEIcglvpc7QHppPZ9WLjxALJktjUQiOEADTxFLQWA5QEK+kgwZIjpASjIeG9JoOEB0M3kwMPw6QBgvdbc2pDlAxUuwo+KEOkCr6xn/+Lw9QA5EvYpXYT9AcucBnSQQQUBXy5E8VvtDQPodBJSurkFAKcx2155gQkCwC9gtESJCQEq5+RynF0FAxPVlfoJeQkDeM+fuqLtBQCnX7qzBo0FAmVAghF0nPkDet4MNNZA9QKxMZh4oBj1AEVnbCP1dOkDyXWZki9g7QDmym+iLmDxAK0hOtN4aPUBaMiSbkQZBQAoAVU1PDEBAYeFGhpzWPkDusMv/9YxBQKZqGxue+kNA7kJmTiUHSUBwu7yPSmRLQJ+jfJfBVFBA1luVEJ+qTkC4x9Wk6OtQQPnBqcM3/lBATPXGMbyXUEB9COZINHBQQP9mq10RclFAwmLePrURU0DULwIieKxUQByYyBWstlZAFWVioEr2VUBDzVi9hCZWQL5hV7kvoVdA4mlps6OsWEARSiutoxZbQOxZr/TtwVpAu8U7R5qsXED22KH1TmBdQHoQeMOBsmFAljEPhR8tYkB3QvCPNv9hQG1qcrmE019ACmfHQY2NYEDAD+RPP2VjQE4hjierzGBAi2c6tQLUYEBXl+tEcPFgQFVJ6071NGJABt4RCETtYECtVQ2wiTBdQDQ47ygF1mBAks/iyJjFYEA2nn1CiOpgQOYSZ0+jlGFAuDXsAqMyYUBdB+bVlyZgQFjnMyEzJGFANlzNxixEYUBI3CdG8k5hQAjXD0e7wmFAbkbPu1Y6Y0CWyOzKYu9iQFx1330k4WJAnMNLKRf0YkDZa5We7jxjQPtYC1lt6mRAYd+MJ8QyaEAK/yJCw55nQK5jVcQNhWhAdh9GmQT8ZUC29+pblQFmQAUN0anZgGdAz+VzgkOkaEDLr1/HQL1mQJnZtkJQKmdA31wWds71ZUChfLrpoEFnQA8cf9CIc2ZAbAjQinTXaEBMbh9GhvZsQErwEMSxlW1AX0QxLybhb0Bf6z2hFkdwQL/7s190oXFADGq8qe+CcEAWyPoFQHVwQAbWadOSP29A2okEVcq6b0Dd7LUicqJuQA7hGGpxTm5A",
          "dtype": "f8"
         }
        }
       ],
       "layout": {
        "annotations": [
         {
          "bgcolor": "rgba(255,255,255,0.8)",
          "bordercolor": "lightgray",
          "borderwidth": 1,
          "font": {
           "color": "darkblue",
           "size": 11
          },
          "showarrow": false,
          "text": "<b>Return on Investment (ROI %)</b><br>Shows percentage return relative to initial investment.<br>• Positive values: Profit above initial capital<br>• Negative values: Loss below initial capital<br>• 100% ROI = doubled your money • 50% ROI = 1.5x return",
          "x": 0.5,
          "xanchor": "center",
          "xref": "paper",
          "y": -0.36,
          "yanchor": "bottom",
          "yref": "paper"
         }
        ],
        "height": 500,
        "margin": {
         "b": 120
        },
        "template": {
         "data": {
          "bar": [
           {
            "error_x": {
             "color": "#2a3f5f"
            },
            "error_y": {
             "color": "#2a3f5f"
            },
            "marker": {
             "line": {
              "color": "white",
              "width": 0.5
             },
             "pattern": {
              "fillmode": "overlay",
              "size": 10,
              "solidity": 0.2
             }
            },
            "type": "bar"
           }
          ],
          "barpolar": [
           {
            "marker": {
             "line": {
              "color": "white",
              "width": 0.5
             },
             "pattern": {
              "fillmode": "overlay",
              "size": 10,
              "solidity": 0.2
             }
            },
            "type": "barpolar"
           }
          ],
          "carpet": [
           {
            "aaxis": {
             "endlinecolor": "#2a3f5f",
             "gridcolor": "#C8D4E3",
             "linecolor": "#C8D4E3",
             "minorgridcolor": "#C8D4E3",
             "startlinecolor": "#2a3f5f"
            },
            "baxis": {
             "endlinecolor": "#2a3f5f",
             "gridcolor": "#C8D4E3",
             "linecolor": "#C8D4E3",
             "minorgridcolor": "#C8D4E3",
             "startlinecolor": "#2a3f5f"
            },
            "type": "carpet"
           }
          ],
          "choropleth": [
           {
            "colorbar": {
             "outlinewidth": 0,
             "ticks": ""
            },
            "type": "choropleth"
           }
          ],
          "contour": [
           {
            "colorbar": {
             "outlinewidth": 0,
             "ticks": ""
            },
            "colorscale": [
             [
              0,
              "#0d0887"
             ],
             [
              0.1111111111111111,
              "#46039f"
             ],
             [
              0.2222222222222222,
              "#7201a8"
             ],
             [
              0.3333333333333333,
              "#9c179e"
             ],
             [
              0.4444444444444444,
              "#bd3786"
             ],
             [
              0.5555555555555556,
              "#d8576b"
             ],
             [
              0.6666666666666666,
              "#ed7953"
             ],
             [
              0.7777777777777778,
              "#fb9f3a"
             ],
             [
              0.8888888888888888,
              "#fdca26"
             ],
             [
              1,
              "#f0f921"
             ]
            ],
            "type": "contour"
           }
          ],
          "contourcarpet": [
           {
            "colorbar": {
             "outlinewidth": 0,
             "ticks": ""
            },
            "type": "contourcarpet"
           }
          ],
          "heatmap": [
           {
            "colorbar": {
             "outlinewidth": 0,
             "ticks": ""
            },
            "colorscale": [
             [
              0,
              "#0d0887"
             ],
             [
              0.1111111111111111,
              "#46039f"
             ],
             [
              0.2222222222222222,
              "#7201a8"
             ],
             [
              0.3333333333333333,
              "#9c179e"
             ],
             [
              0.4444444444444444,
              "#bd3786"
             ],
             [
              0.5555555555555556,
              "#d8576b"
             ],
             [
              0.6666666666666666,
              "#ed7953"
             ],
             [
              0.7777777777777778,
              "#fb9f3a"
             ],
             [
              0.8888888888888888,
              "#fdca26"
             ],
             [
              1,
              "#f0f921"
             ]
            ],
            "type": "heatmap"
           }
          ],
          "histogram": [
           {
            "marker": {
             "pattern": {
              "fillmode": "overlay",
              "size": 10,
              "solidity": 0.2
             }
            },
            "type": "histogram"
           }
          ],
          "histogram2d": [
           {
            "colorbar": {
             "outlinewidth": 0,
             "ticks": ""
            },
            "colorscale": [
             [
              0,
              "#0d0887"
             ],
             [
              0.1111111111111111,
              "#46039f"
             ],
             [
              0.2222222222222222,
              "#7201a8"
             ],
             [
              0.3333333333333333,
              "#9c179e"
             ],
             [
              0.4444444444444444,
              "#bd3786"
             ],
             [
              0.5555555555555556,
              "#d8576b"
             ],
             [
              0.6666666666666666,
              "#ed7953"
             ],
             [
              0.7777777777777778,
              "#fb9f3a"
             ],
             [
              0.8888888888888888,
              "#fdca26"
             ],
             [
              1,
              "#f0f921"
             ]
            ],
            "type": "histogram2d"
           }
          ],
          "histogram2dcontour": [
           {
            "colorbar": {
             "outlinewidth": 0,
             "ticks": ""
            },
            "colorscale": [
             [
              0,
              "#0d0887"
             ],
             [
              0.1111111111111111,
              "#46039f"
             ],
             [
              0.2222222222222222,
              "#7201a8"
             ],
             [
              0.3333333333333333,
              "#9c179e"
             ],
             [
              0.4444444444444444,
              "#bd3786"
             ],
             [
              0.5555555555555556,
              "#d8576b"
             ],
             [
              0.6666666666666666,
              "#ed7953"
             ],
             [
              0.7777777777777778,
              "#fb9f3a"
             ],
             [
              0.8888888888888888,
              "#fdca26"
             ],
             [
              1,
              "#f0f921"
             ]
            ],
            "type": "histogram2dcontour"
           }
          ],
          "mesh3d": [
           {
            "colorbar": {
             "outlinewidth": 0,
             "ticks": ""
            },
            "type": "mesh3d"
           }
          ],
          "parcoords": [
           {
            "line": {
             "colorbar": {
              "outlinewidth": 0,
              "ticks": ""
             }
            },
            "type": "parcoords"
           }
          ],
          "pie": [
           {
            "automargin": true,
            "type": "pie"
           }
          ],
          "scatter": [
           {
            "fillpattern": {
             "fillmode": "overlay",
             "size": 10,
             "solidity": 0.2
            },
            "type": "scatter"
           }
          ],
          "scatter3d": [
           {
            "line": {
             "colorbar": {
              "outlinewidth": 0,
              "ticks": ""
             }
            },
            "marker": {
             "colorbar": {
              "outlinewidth": 0,
              "ticks": ""
             }
            },
            "type": "scatter3d"
           }
          ],
          "scattercarpet": [
           {
            "marker": {
             "colorbar": {
              "outlinewidth": 0,
              "ticks": ""
             }
            },
            "type": "scattercarpet"
           }
          ],
          "scattergeo": [
           {
            "marker": {
             "colorbar": {
              "outlinewidth": 0,
              "ticks": ""
             }
            },
            "type": "scattergeo"
           }
          ],
          "scattergl": [
           {
            "marker": {
             "colorbar": {
              "outlinewidth": 0,
              "ticks": ""
             }
            },
            "type": "scattergl"
           }
          ],
          "scattermap": [
           {
            "marker": {
             "colorbar": {
              "outlinewidth": 0,
              "ticks": ""
             }
            },
            "type": "scattermap"
           }
          ],
          "scattermapbox": [
           {
            "marker": {
             "colorbar": {
              "outlinewidth": 0,
              "ticks": ""
             }
            },
            "type": "scattermapbox"
           }
          ],
          "scatterpolar": [
           {
            "marker": {
             "colorbar": {
              "outlinewidth": 0,
              "ticks": ""
             }
            },
            "type": "scatterpolar"
           }
          ],
          "scatterpolargl": [
           {
            "marker": {
             "colorbar": {
              "outlinewidth": 0,
              "ticks": ""
             }
            },
            "type": "scatterpolargl"
           }
          ],
          "scatterternary": [
           {
            "marker": {
             "colorbar": {
              "outlinewidth": 0,
              "ticks": ""
             }
            },
            "type": "scatterternary"
           }
          ],
          "surface": [
           {
            "colorbar": {
             "outlinewidth": 0,
             "ticks": ""
            },
            "colorscale": [
             [
              0,
              "#0d0887"
             ],
             [
              0.1111111111111111,
              "#46039f"
             ],
             [
              0.2222222222222222,
              "#7201a8"
             ],
             [
              0.3333333333333333,
              "#9c179e"
             ],
             [
              0.4444444444444444,
              "#bd3786"
             ],
             [
              0.5555555555555556,
              "#d8576b"
             ],
             [
              0.6666666666666666,
              "#ed7953"
             ],
             [
              0.7777777777777778,
              "#fb9f3a"
             ],
             [
              0.8888888888888888,
              "#fdca26"
             ],
             [
              1,
              "#f0f921"
             ]
            ],
            "type": "surface"
           }
          ],
          "table": [
           {
            "cells": {
             "fill": {
              "color": "#EBF0F8"
             },
             "line": {
              "color": "white"
             }
            },
            "header": {
             "fill": {
              "color": "#C8D4E3"
             },
             "line": {
              "color": "white"
             }
            },
            "type": "table"
           }
          ]
         },
         "layout": {
          "annotationdefaults": {
           "arrowcolor": "#2a3f5f",
           "arrowhead": 0,
           "arrowwidth": 1
          },
          "autotypenumbers": "strict",
          "coloraxis": {
           "colorbar": {
            "outlinewidth": 0,
            "ticks": ""
           }
          },
          "colorscale": {
           "diverging": [
            [
             0,
             "#8e0152"
            ],
            [
             0.1,
             "#c51b7d"
            ],
            [
             0.2,
             "#de77ae"
            ],
            [
             0.3,
             "#f1b6da"
            ],
            [
             0.4,
             "#fde0ef"
            ],
            [
             0.5,
             "#f7f7f7"
            ],
            [
             0.6,
             "#e6f5d0"
            ],
            [
             0.7,
             "#b8e186"
            ],
            [
             0.8,
             "#7fbc41"
            ],
            [
             0.9,
             "#4d9221"
            ],
            [
             1,
             "#276419"
            ]
           ],
           "sequential": [
            [
             0,
             "#0d0887"
            ],
            [
             0.1111111111111111,
             "#46039f"
            ],
            [
             0.2222222222222222,
             "#7201a8"
            ],
            [
             0.3333333333333333,
             "#9c179e"
            ],
            [
             0.4444444444444444,
             "#bd3786"
            ],
            [
             0.5555555555555556,
             "#d8576b"
            ],
            [
             0.6666666666666666,
             "#ed7953"
            ],
            [
             0.7777777777777778,
             "#fb9f3a"
            ],
            [
             0.8888888888888888,
             "#fdca26"
            ],
            [
             1,
             "#f0f921"
            ]
           ],
           "sequentialminus": [
            [
             0,
             "#0d0887"
            ],
            [
             0.1111111111111111,
             "#46039f"
            ],
            [
             0.2222222222222222,
             "#7201a8"
            ],
            [
             0.3333333333333333,
             "#9c179e"
            ],
            [
             0.4444444444444444,
             "#bd3786"
            ],
            [
             0.5555555555555556,
             "#d8576b"
            ],
            [
             0.6666666666666666,
             "#ed7953"
            ],
            [
             0.7777777777777778,
             "#fb9f3a"
            ],
            [
             0.8888888888888888,
             "#fdca26"
            ],
            [
             1,
             "#f0f921"
            ]
           ]
          },
          "colorway": [
           "#636efa",
           "#EF553B",
           "#00cc96",
           "#ab63fa",
           "#FFA15A",
           "#19d3f3",
           "#FF6692",
           "#B6E880",
           "#FF97FF",
           "#FECB52"
          ],
          "font": {
           "color": "#2a3f5f"
          },
          "geo": {
           "bgcolor": "white",
           "lakecolor": "white",
           "landcolor": "white",
           "showlakes": true,
           "showland": true,
           "subunitcolor": "#C8D4E3"
          },
          "hoverlabel": {
           "align": "left"
          },
          "hovermode": "closest",
          "mapbox": {
           "style": "light"
          },
          "paper_bgcolor": "white",
          "plot_bgcolor": "white",
          "polar": {
           "angularaxis": {
            "gridcolor": "#EBF0F8",
            "linecolor": "#EBF0F8",
            "ticks": ""
           },
           "bgcolor": "white",
           "radialaxis": {
            "gridcolor": "#EBF0F8",
            "linecolor": "#EBF0F8",
            "ticks": ""
           }
          },
          "scene": {
           "xaxis": {
            "backgroundcolor": "white",
            "gridcolor": "#DFE8F3",
            "gridwidth": 2,
            "linecolor": "#EBF0F8",
            "showbackground": true,
            "ticks": "",
            "zerolinecolor": "#EBF0F8"
           },
           "yaxis": {
            "backgroundcolor": "white",
            "gridcolor": "#DFE8F3",
            "gridwidth": 2,
            "linecolor": "#EBF0F8",
            "showbackground": true,
            "ticks": "",
            "zerolinecolor": "#EBF0F8"
           },
           "zaxis": {
            "backgroundcolor": "white",
            "gridcolor": "#DFE8F3",
            "gridwidth": 2,
            "linecolor": "#EBF0F8",
            "showbackground": true,
            "ticks": "",
            "zerolinecolor": "#EBF0F8"
           }
          },
          "shapedefaults": {
           "line": {
            "color": "#2a3f5f"
           }
          },
          "ternary": {
           "aaxis": {
            "gridcolor": "#DFE8F3",
            "linecolor": "#A2B1C6",
            "ticks": ""
           },
           "baxis": {
            "gridcolor": "#DFE8F3",
            "linecolor": "#A2B1C6",
            "ticks": ""
           },
           "bgcolor": "white",
           "caxis": {
            "gridcolor": "#DFE8F3",
            "linecolor": "#A2B1C6",
            "ticks": ""
           }
          },
          "title": {
           "x": 0.05
          },
          "xaxis": {
           "automargin": true,
           "gridcolor": "#EBF0F8",
           "linecolor": "#EBF0F8",
           "ticks": "",
           "title": {
            "standoff": 15
           },
           "zerolinecolor": "#EBF0F8",
           "zerolinewidth": 2
          },
          "yaxis": {
           "automargin": true,
           "gridcolor": "#EBF0F8",
           "linecolor": "#EBF0F8",
           "ticks": "",
           "title": {
            "standoff": 15
           },
           "zerolinecolor": "#EBF0F8",
           "zerolinewidth": 2
          }
         }
        },
        "title": {
         "text": " Chart: roi"
        }
       }
      }
     },
     "metadata": {},
     "output_type": "display_data"
    },
    {
     "data": {
      "application/vnd.plotly.v1+json": {
       "config": {
        "plotlyServerURL": "https://plot.ly"
       },
       "data": [
        {
         "mode": "lines",
         "name": "Drawdown % (≤0)",
         "type": "scatter",
         "x": {
          "bdata": "AAABAAIAAwAEAAUABgAHAAgACQAKAAsADAANAA4ADwAQABEAEgATABQAFQAWABcAGAAZABoAGwAcAB0AHgAfACAAIQAiACMAJAAlACYAJwAoACkAKgArACwALQAuAC8AMAAxADIAMwA0ADUANgA3ADgAOQA6ADsAPAA9AD4APwBAAEEAQgBDAEQARQBGAEcASABJAEoASwBMAE0ATgBPAFAAUQBSAFMAVABVAFYAVwBYAFkAWgBbAFwAXQBeAF8AYABhAGIAYwBkAGUAZgBnAGgAaQBqAGsAbABtAG4AbwBwAHEAcgBzAHQAdQB2AHcAeAB5AHoAewB8AH0AfgB/AIAAgQCCAIMAhACFAIYAhwCIAIkAigCLAIwAjQCOAI8AkACRAJIAkwCUAJUAlgCXAJgAmQCaAJsAnACdAJ4AnwCgAKEAogCjAKQApQCmAKcAqACpAKoAqwCsAK0ArgCvALAAsQCyALMAtAC1ALYAtwC4ALkAugC7ALwAvQC+AL8AwADBAMIAwwDEAMUAxgDHAMgAyQDKAMsAzADNAM4AzwDQANEA0gDTANQA1QDWANcA2ADZANoA2wDcAN0A3gDfAOAA4QDiAOMA5ADlAOYA5wDoAOkA6gDrAOwA7QDuAO8A8ADxAPIA8wD0APUA9gD3APgA+QD6APsA/AD9AP4A/wAAAQEBAgEDAQQBBQEGAQcBCAEJAQoBCwEMAQ0BDgEPARABEQESARMBFAEVARYBFwEYARkBGgEbARwBHQEeAR8BIAEhASIBIwEkASUBJgEnASgBKQEqASsBLAEtAS4BLwEwATEBMgEzATQBNQE2ATcBOAE5AToBOwE8AT0BPgE/AUABQQFCAUMBRAFFAUYBRwFIAUkBSgFLAUwBTQFOAU8BUAFRAVIBUwFUAVUBVgFXAVgBWQFaAVsBXAFdAV4BXwFgAWEBYgFjAWQBZQFmAWcBaAFpAWoBawFsAW0BbgFvAXABcQFyAXMBdAF1AXYBdwF4AXkBegF7AXwBfQF+AX8BgAGBAYIBgwGEAYUBhgGHAYgBiQGKAYsBjAGNAY4BjwGQAZEBkgGTAZQBlQGWAZcBmAGZAZoBmwGcAZ0BngGfAaABoQGiAaMBpAGlAaYBpwGoAakBqgGrAawBrQGuAa8BsAGxAbIBswG0AbUBtgG3AbgBuQG6AbsBvAG9Ab4BvwHAAcEBwgHDAcQBxQHGAccByAHJAcoBywHMAc0BzgHPAdAB",
          "dtype": "i2"
         },
         "y": {
          "bdata": "AAAAAAAAAAAAAAAAAAAAAAAAAAAAAAAAAAAAAAAAAAAAAAAAAAAAAAAAAAAAAAAAAAAAAAAAAAAAAAAAAAAAAAAAAAAAAAAAAAAAAAAAAAAAAAAAAAAAAAAAAAAAAAAAAAAAAAAAAAAAAAAAAAAAAAAAAAAAAAAAAAAAAAAAAAAAAAAAAAAAAAAAAAAAAAAAAAAAAAAAAAAAAAAAAAAAAAAAAAAAAAAAAAAAAAAAAAAAAAAAAAAAAAAAAAAAAAAAAAAAAAAAAAAAAAAAAAAAAAAAAAAAAAAAAAAAAAAAAAAAAAAAAAAAAAAAAAAAAAAAAAAAAAAAAAAAAAAAAAAAAAAAAAAAAAAAAAAAAAAAAAAAAAAAAAAAAAAAAAAAAAAAAAAAAAAAAAAAAAAAAAAAAAAAAAAAAAAAAAAAAAAAAAAAAAAAAAAAAAAAAAAAAAAAAAAAAAAAAAAAAAAAAAAAAAAAAAAAAAAAAAAAAAAAAAAAAAAAAAAAAAAAAAAAAAAAAAAAAAAAAAAAAAAAAAAAAAAAAAAAAAAAAAAAAAAAAAAAAAAAAAAAAAAAAAAAAAAAAAAAAAAAAAAAAAAAAAAAAAAAAAAAAAAAAAAAAAAAAAAAAAAAAAAAAAAAAAAAAAAAAAAAAAAAAAAAAAAAAAAAAAAAAAAAAAAAAAAAAAAAAAAAAAAAAAAAAAAAAAAAAAAAAAAAAAAAAAAAAAAAAAAAAAAAAAAAAAAAAAAAAAAAAAAAAAAAAAAAAAAAAAAAAAAAAAAAAAAAAAAAAAAAAAAAAAAAAAAAAAAAAAAAAAAAAAAAAAAAAAAAAAAAAAAAAAAAAAAAAAAAAAAAAAAAAAAAAAAAAAAAAAAAAAAAAAAAAAAAAAAAAAAAAAAAAAAAAAAAAAAAAAAAAAAAAAAAAAAAAAAAAAAAAAAAAAAAAAAAAAAAAAAAAAAAAAAAAAAAAAAAAAAAAAAAAAAAAAAAAAAAAAAAAAAAAAAAAAAAAAAAAAAAAAAAAAAAAAAAAAAAAAAAAAAAAAAAAAAAAAAAAAAAAAAAAAAAAAAAAAAAAAAAAAAAAAAAAAAAAAAAAAAAAAAAAAAAAAAAAAAAAAAAAAAAAHQRIO9F1uy/AAAAAAAAAAAIIkfS+JHYvwAAAAAAAAAAAAAAAAAAAAAAAAAAAAAAAAAAAAAAAAAAAAAAAAAAAAAAAAAAAAAAAAAAAAAAAAAAONd8QwZbBcA9nrks3p0CwHHVDlVgHAXALH2GY9kIIcCGCTc1ZfMWwAAAAAAAAAAAJLDjzLzB+r+ubXd+a7v3vwAAAAAAAAAARsWoZFwqE8CIAvkGwO/gv7CO+tnYlsO/AAAAAAAAAABWRp2DVND9vwAAAAAAAAAA8Urc96ztGMA+o3MGEhMTwB7bukbH7f2/kOY7+xHwA8AAAAAAAAAAAHJ1w1zLf/G/R1MnWswRD8DgWzq3e5YYwLB9pD7miPu/tcNXA/7fC8AqqADMmx4lwCKoosey6ybAGL0xVU48I8A9vSbDxcUjwKk/6LhPFyjASU8ZbU/AIcCGhDjwg/YAwPHOAAQxgx3AcpyvPGzq97/Qou+WnXDWvwAAAAAAAAAAAAAAAAAAAADvE3nAZoYMwCUPbdqmrRHAwDinhjgtFMCflizxAUIiwOpUHnbbvCTADt5L0Jq4IMBKImd1nO8jwAYUatxdVSjA2C+kFCaZI8D9T+J9MfsnwGCpaLdWEy3AhoUDsoe/L8DYwOiP7Y4vwAyngS7tpzDAXG3pwW3KMMC7HySjVjg0wF7yG0Rl4jfAbF/ZwrNXNsAgta+9M103wGauJaN6vzHAm6GuwX/HLsD+S5E+QG4swFY7Qzz6wTLAqMLOPFCTMMBTZF4hevgkwHLCAWBHOyrAFA4jW5neJcBm/+jVZxQpwLj3U6F+0xnArkZ42UoQJsD3HX6JiUsdwKIEhjZYYCfAJUEShUWBKMBK0aVJR/AkwC4CGNWotCnA00B8a7ZdI8B0XaoPtdcZwOUZHdcrlB/AOORZdbDXE8DZosmgci4ZwKKG8xyJcB/AjxG/LPxqIMDOppTxPz0cwFMgTVcOghvAjFKEKWyMIMDS2fLC4qEgwGBxd+F+kCLAWKehtePgIMBRnZtwaeEZwNXEXM+skQ7Afp4YM2KXC8Ac//k9NZbjvwAAAAAAAAAAAAAAAAAAAAAAAAAAAAAAAN/JZvQ4dQHAAAAAAAAAAAD6Ts3RiOUfwE+RNFl9BCXAOixFEzBALMB+h7xtPnwnwA3NdIMFtCnADc+ccFqTKsB+yAJEr2UmwIeazxcM2ynAUyhfzIinJcB+WbtvCWgkwJkbRJEBGiTAaX0oVbU4JsBeoicG58QqwNYMPiejxinAaiXrmHuNKMCV6Pmpu00rwAvPg1WdbybA7uEsb9dYLMBCV2Ht6KotwK2VZAxXUTLA9G9/F8+eMsAeehKhW5cxwH7UALiQCDTA0jZFHPnwMcDF5q4gspQywG0a2aIkDjLAuEX8NRbzMcBgU6UhYtgxwFw9gEXdczDA4B51Z07NMcD0nWgF2KgxwPOXqbwXqDHAFpFIx49wM8DkTazkeL0ywKsG/vWVxjHAoT9m+LEZNMAibvNu82c0wOdW152UhDPADyPj16PMMcDqgbJSHh8vwAjR6okohi/AqLXR6UTsLMAONOUCsq4vwK5pI0qaYTHACNPBobpOLsD0aBMnptAuwIqcm+JFlizAeEDkRm0ZNMDP2VOGajUywDujYBBkNjfAUIxfySyNNsAYvfnJ8ck4wN57G/gddj/AjRwDKJluP8AhCjyd+rQ/wJqBNqgbGT/ATdRD1U3SQMC3x/Uzo+BAwDZ9hl99iEDAAPbElwUYQMAogITmSU9AwE5sScpIyD/AP0+aB79LPsBKYBxjKPo7wCG3WMAJ4TzAAKSqX71VOsD/YTOOvbQ7wPN9puOJozrAdKHR+rS7PMDlHqitB4c7wOEFHqgP6z7A797DU8bZO8DbTze+lBo5wCvIVJ1sDDjAwpAyHdWqNsBw9xipSoI2wAUZAP/uXzfADNo4B7DzOMAOGu3DexE6wPtVB11KSTfAQbbThUGTNsDF1ZAod6E3wP59R/TzsDbAydfBNF57NcDJh3pTThU2wHRyVBC89gXAGWA7PSnoGsBfmC2dGnkYwHPw1p78VBvAcJOLvzeHGsDqdDg9/AwfwNS3PrFVDxXAvVv/DGEUD8AWgPAGsLYSwOOY+MnAMR/A0CKz1daoG8ACf9Kh3cQlwPRMPyfNsSbAbGjBkCuIIMBeKD+ECEYfwBzHFA56ASHAvdUlp6JCH8AYkZuU0xojwEcVSp2XoSXAvsFOFb73IsDqk9m73hIpwOuflv4kES3AH9fyW/wOLsCa1HjHOlsuwGB5kDurBC7Amoeyay6kLcC0AJoOVM8owATQB6cfWyfACeSc0RJuKMAVF6ssmlspwLlGgwqVIinAfoCrillQK8DR69ufS6UowGp1B1r9oy/AzQcmVsrOMsDN//kOICc5wGPDvPzoEjnAKEhpSazmN8DCI8ISwmA3wNCsryIhHTnADwRj8x8VOsAzcbz5r4Y3wN31kQbwMjnAAJiXmXXSOcApoOglGBQ6wAtmF1jdZznAtU4xZrVPOcDBVCRtlpY2wF+uFQbfFznAlGOspWHvO8BB39tXhNE8wFWTsgVGaDzAOQ9SQJcTPMAxc8qbdwE8wOwINUrvEjvA3uvNb8hhO8ADcRsjecQ6wEASIsQoljvADRUsLmsdPMDQraWlQDU+wA+qpXYmRkDAaci5g+WmP8A84O0k5MM+wOCZm37Rqz3AGMJiYk9sPMCd4AeyT4M8wIrVmIFMnD3AxI0CFCJtO8A+TmxjW+o5wGsb243qkjnAD7IdLX7sO8Bk1xjo2zM7wPrN7LhOwzrA7cU6C4fDO8DYGZ9TrUQ6wFd0/WNmDDvADgo2wfKJOsBq01jAdKs4wDKNPDVgtzfAnmWOLjkfNsAdKedhiLsywKnELhceZzXAAFGHznuYNMAwT77sH+E0wACXCaaAFjbAugtWS++aNMBxqhP0C1g1wIIAsQnOczXAwi0hVa5tOMBImX7FcsU4wF3TN+GaFTnApBitd4igOsCXhqQgu8Q5wAyzc48/VTnAFugzBpQJOcBAJuRzVyo2wFIpMHX1TDfA2e0QZe0HOMBR/RbPRo41wOgmBjVevDLAnbJsdsy+KcARjjNBVEEkwFKz/dhwBxDAOqtA549MGcB84qvebRYFwPyolP09wgPAqU9nfmUyC8CopqH34xAOwDSQ3Yxws/a/AAAAAAAAAAAAAAAAAAAAAAAAAAAAAAAAauvk2i8z+b+8TTgw+OHyvwAAAAAAAAAAAAAAAAAAAAAAAAAAAAAAANi1NC4QVOS/AAAAAAAAAAAAAAAAAAAAAAAAAAAAAAAAAAAAAAAAAAA0Q+7yG7Xiv3bcenyOgh3AS9Wo2cwqFcAAAAAAAAAAAI1UEOA5RyDA6v2CLTAZIMBbhjBNUsEewHgFwLwm0A3AEl7EBaf1HsD9xgsLSBouwFWZdVGWDCDABB8qwpFzIMD2w0TU7hcfwCbRejmlwhbAz1Xxc6yPG8C+rIM6mVgkwPZV8Va6RBzAB6d4grqzGsCrb4zbpCwawJyM41yWgBTANE9O1+jQ4L8iAVvYYBj3v7pzpDvh4vm/hIX0HGEs9r/I8Yx7dZnfvwAAAAAAAAAAAAAAAAAAAAD86ZlAxDT5vwAAAAAAAAAA4Agel9xkG8Aicl79uSgbwDXulKgF9wXAAAAAAAAAAADKi0Zm5nwUwEE4Fae6zA/AkyK4/9rgHMAIHuzmitYNwHkZKITRlhfAAAAAAAAAAAAAAAAAAAAAAAAAAAAAAAAAAAAAAAAAAAAAAAAAAAAAAAAAAAAAAAAACz0AiSq/EsAGvHhKaKQTwE4XM+HzzSDAb16Q1feTHcC22Lsr7F8jwCC/yd6uvyTA",
          "dtype": "f8"
         }
        }
       ],
       "layout": {
        "annotations": [
         {
          "bgcolor": "rgba(255,255,255,0.8)",
          "bordercolor": "lightgray",
          "borderwidth": 1,
          "font": {
           "color": "darkblue",
           "size": 11
          },
          "showarrow": false,
          "text": "<b>Drawdown (%)</b><br>Shows percentage decline from previous peak. Always ≤ 0.<br>• 0%: At new peak • -10%: 10% below recent high<br>• -50%: Lost half of peak value • Lower is worse<br>• Measures downside risk and recovery ability",
          "x": 0.5,
          "xanchor": "center",
          "xref": "paper",
          "y": -0.36,
          "yanchor": "bottom",
          "yref": "paper"
         }
        ],
        "height": 500,
        "margin": {
         "b": 120
        },
        "template": {
         "data": {
          "bar": [
           {
            "error_x": {
             "color": "#2a3f5f"
            },
            "error_y": {
             "color": "#2a3f5f"
            },
            "marker": {
             "line": {
              "color": "white",
              "width": 0.5
             },
             "pattern": {
              "fillmode": "overlay",
              "size": 10,
              "solidity": 0.2
             }
            },
            "type": "bar"
           }
          ],
          "barpolar": [
           {
            "marker": {
             "line": {
              "color": "white",
              "width": 0.5
             },
             "pattern": {
              "fillmode": "overlay",
              "size": 10,
              "solidity": 0.2
             }
            },
            "type": "barpolar"
           }
          ],
          "carpet": [
           {
            "aaxis": {
             "endlinecolor": "#2a3f5f",
             "gridcolor": "#C8D4E3",
             "linecolor": "#C8D4E3",
             "minorgridcolor": "#C8D4E3",
             "startlinecolor": "#2a3f5f"
            },
            "baxis": {
             "endlinecolor": "#2a3f5f",
             "gridcolor": "#C8D4E3",
             "linecolor": "#C8D4E3",
             "minorgridcolor": "#C8D4E3",
             "startlinecolor": "#2a3f5f"
            },
            "type": "carpet"
           }
          ],
          "choropleth": [
           {
            "colorbar": {
             "outlinewidth": 0,
             "ticks": ""
            },
            "type": "choropleth"
           }
          ],
          "contour": [
           {
            "colorbar": {
             "outlinewidth": 0,
             "ticks": ""
            },
            "colorscale": [
             [
              0,
              "#0d0887"
             ],
             [
              0.1111111111111111,
              "#46039f"
             ],
             [
              0.2222222222222222,
              "#7201a8"
             ],
             [
              0.3333333333333333,
              "#9c179e"
             ],
             [
              0.4444444444444444,
              "#bd3786"
             ],
             [
              0.5555555555555556,
              "#d8576b"
             ],
             [
              0.6666666666666666,
              "#ed7953"
             ],
             [
              0.7777777777777778,
              "#fb9f3a"
             ],
             [
              0.8888888888888888,
              "#fdca26"
             ],
             [
              1,
              "#f0f921"
             ]
            ],
            "type": "contour"
           }
          ],
          "contourcarpet": [
           {
            "colorbar": {
             "outlinewidth": 0,
             "ticks": ""
            },
            "type": "contourcarpet"
           }
          ],
          "heatmap": [
           {
            "colorbar": {
             "outlinewidth": 0,
             "ticks": ""
            },
            "colorscale": [
             [
              0,
              "#0d0887"
             ],
             [
              0.1111111111111111,
              "#46039f"
             ],
             [
              0.2222222222222222,
              "#7201a8"
             ],
             [
              0.3333333333333333,
              "#9c179e"
             ],
             [
              0.4444444444444444,
              "#bd3786"
             ],
             [
              0.5555555555555556,
              "#d8576b"
             ],
             [
              0.6666666666666666,
              "#ed7953"
             ],
             [
              0.7777777777777778,
              "#fb9f3a"
             ],
             [
              0.8888888888888888,
              "#fdca26"
             ],
             [
              1,
              "#f0f921"
             ]
            ],
            "type": "heatmap"
           }
          ],
          "histogram": [
           {
            "marker": {
             "pattern": {
              "fillmode": "overlay",
              "size": 10,
              "solidity": 0.2
             }
            },
            "type": "histogram"
           }
          ],
          "histogram2d": [
           {
            "colorbar": {
             "outlinewidth": 0,
             "ticks": ""
            },
            "colorscale": [
             [
              0,
              "#0d0887"
             ],
             [
              0.1111111111111111,
              "#46039f"
             ],
             [
              0.2222222222222222,
              "#7201a8"
             ],
             [
              0.3333333333333333,
              "#9c179e"
             ],
             [
              0.4444444444444444,
              "#bd3786"
             ],
             [
              0.5555555555555556,
              "#d8576b"
             ],
             [
              0.6666666666666666,
              "#ed7953"
             ],
             [
              0.7777777777777778,
              "#fb9f3a"
             ],
             [
              0.8888888888888888,
              "#fdca26"
             ],
             [
              1,
              "#f0f921"
             ]
            ],
            "type": "histogram2d"
           }
          ],
          "histogram2dcontour": [
           {
            "colorbar": {
             "outlinewidth": 0,
             "ticks": ""
            },
            "colorscale": [
             [
              0,
              "#0d0887"
             ],
             [
              0.1111111111111111,
              "#46039f"
             ],
             [
              0.2222222222222222,
              "#7201a8"
             ],
             [
              0.3333333333333333,
              "#9c179e"
             ],
             [
              0.4444444444444444,
              "#bd3786"
             ],
             [
              0.5555555555555556,
              "#d8576b"
             ],
             [
              0.6666666666666666,
              "#ed7953"
             ],
             [
              0.7777777777777778,
              "#fb9f3a"
             ],
             [
              0.8888888888888888,
              "#fdca26"
             ],
             [
              1,
              "#f0f921"
             ]
            ],
            "type": "histogram2dcontour"
           }
          ],
          "mesh3d": [
           {
            "colorbar": {
             "outlinewidth": 0,
             "ticks": ""
            },
            "type": "mesh3d"
           }
          ],
          "parcoords": [
           {
            "line": {
             "colorbar": {
              "outlinewidth": 0,
              "ticks": ""
             }
            },
            "type": "parcoords"
           }
          ],
          "pie": [
           {
            "automargin": true,
            "type": "pie"
           }
          ],
          "scatter": [
           {
            "fillpattern": {
             "fillmode": "overlay",
             "size": 10,
             "solidity": 0.2
            },
            "type": "scatter"
           }
          ],
          "scatter3d": [
           {
            "line": {
             "colorbar": {
              "outlinewidth": 0,
              "ticks": ""
             }
            },
            "marker": {
             "colorbar": {
              "outlinewidth": 0,
              "ticks": ""
             }
            },
            "type": "scatter3d"
           }
          ],
          "scattercarpet": [
           {
            "marker": {
             "colorbar": {
              "outlinewidth": 0,
              "ticks": ""
             }
            },
            "type": "scattercarpet"
           }
          ],
          "scattergeo": [
           {
            "marker": {
             "colorbar": {
              "outlinewidth": 0,
              "ticks": ""
             }
            },
            "type": "scattergeo"
           }
          ],
          "scattergl": [
           {
            "marker": {
             "colorbar": {
              "outlinewidth": 0,
              "ticks": ""
             }
            },
            "type": "scattergl"
           }
          ],
          "scattermap": [
           {
            "marker": {
             "colorbar": {
              "outlinewidth": 0,
              "ticks": ""
             }
            },
            "type": "scattermap"
           }
          ],
          "scattermapbox": [
           {
            "marker": {
             "colorbar": {
              "outlinewidth": 0,
              "ticks": ""
             }
            },
            "type": "scattermapbox"
           }
          ],
          "scatterpolar": [
           {
            "marker": {
             "colorbar": {
              "outlinewidth": 0,
              "ticks": ""
             }
            },
            "type": "scatterpolar"
           }
          ],
          "scatterpolargl": [
           {
            "marker": {
             "colorbar": {
              "outlinewidth": 0,
              "ticks": ""
             }
            },
            "type": "scatterpolargl"
           }
          ],
          "scatterternary": [
           {
            "marker": {
             "colorbar": {
              "outlinewidth": 0,
              "ticks": ""
             }
            },
            "type": "scatterternary"
           }
          ],
          "surface": [
           {
            "colorbar": {
             "outlinewidth": 0,
             "ticks": ""
            },
            "colorscale": [
             [
              0,
              "#0d0887"
             ],
             [
              0.1111111111111111,
              "#46039f"
             ],
             [
              0.2222222222222222,
              "#7201a8"
             ],
             [
              0.3333333333333333,
              "#9c179e"
             ],
             [
              0.4444444444444444,
              "#bd3786"
             ],
             [
              0.5555555555555556,
              "#d8576b"
             ],
             [
              0.6666666666666666,
              "#ed7953"
             ],
             [
              0.7777777777777778,
              "#fb9f3a"
             ],
             [
              0.8888888888888888,
              "#fdca26"
             ],
             [
              1,
              "#f0f921"
             ]
            ],
            "type": "surface"
           }
          ],
          "table": [
           {
            "cells": {
             "fill": {
              "color": "#EBF0F8"
             },
             "line": {
              "color": "white"
             }
            },
            "header": {
             "fill": {
              "color": "#C8D4E3"
             },
             "line": {
              "color": "white"
             }
            },
            "type": "table"
           }
          ]
         },
         "layout": {
          "annotationdefaults": {
           "arrowcolor": "#2a3f5f",
           "arrowhead": 0,
           "arrowwidth": 1
          },
          "autotypenumbers": "strict",
          "coloraxis": {
           "colorbar": {
            "outlinewidth": 0,
            "ticks": ""
           }
          },
          "colorscale": {
           "diverging": [
            [
             0,
             "#8e0152"
            ],
            [
             0.1,
             "#c51b7d"
            ],
            [
             0.2,
             "#de77ae"
            ],
            [
             0.3,
             "#f1b6da"
            ],
            [
             0.4,
             "#fde0ef"
            ],
            [
             0.5,
             "#f7f7f7"
            ],
            [
             0.6,
             "#e6f5d0"
            ],
            [
             0.7,
             "#b8e186"
            ],
            [
             0.8,
             "#7fbc41"
            ],
            [
             0.9,
             "#4d9221"
            ],
            [
             1,
             "#276419"
            ]
           ],
           "sequential": [
            [
             0,
             "#0d0887"
            ],
            [
             0.1111111111111111,
             "#46039f"
            ],
            [
             0.2222222222222222,
             "#7201a8"
            ],
            [
             0.3333333333333333,
             "#9c179e"
            ],
            [
             0.4444444444444444,
             "#bd3786"
            ],
            [
             0.5555555555555556,
             "#d8576b"
            ],
            [
             0.6666666666666666,
             "#ed7953"
            ],
            [
             0.7777777777777778,
             "#fb9f3a"
            ],
            [
             0.8888888888888888,
             "#fdca26"
            ],
            [
             1,
             "#f0f921"
            ]
           ],
           "sequentialminus": [
            [
             0,
             "#0d0887"
            ],
            [
             0.1111111111111111,
             "#46039f"
            ],
            [
             0.2222222222222222,
             "#7201a8"
            ],
            [
             0.3333333333333333,
             "#9c179e"
            ],
            [
             0.4444444444444444,
             "#bd3786"
            ],
            [
             0.5555555555555556,
             "#d8576b"
            ],
            [
             0.6666666666666666,
             "#ed7953"
            ],
            [
             0.7777777777777778,
             "#fb9f3a"
            ],
            [
             0.8888888888888888,
             "#fdca26"
            ],
            [
             1,
             "#f0f921"
            ]
           ]
          },
          "colorway": [
           "#636efa",
           "#EF553B",
           "#00cc96",
           "#ab63fa",
           "#FFA15A",
           "#19d3f3",
           "#FF6692",
           "#B6E880",
           "#FF97FF",
           "#FECB52"
          ],
          "font": {
           "color": "#2a3f5f"
          },
          "geo": {
           "bgcolor": "white",
           "lakecolor": "white",
           "landcolor": "white",
           "showlakes": true,
           "showland": true,
           "subunitcolor": "#C8D4E3"
          },
          "hoverlabel": {
           "align": "left"
          },
          "hovermode": "closest",
          "mapbox": {
           "style": "light"
          },
          "paper_bgcolor": "white",
          "plot_bgcolor": "white",
          "polar": {
           "angularaxis": {
            "gridcolor": "#EBF0F8",
            "linecolor": "#EBF0F8",
            "ticks": ""
           },
           "bgcolor": "white",
           "radialaxis": {
            "gridcolor": "#EBF0F8",
            "linecolor": "#EBF0F8",
            "ticks": ""
           }
          },
          "scene": {
           "xaxis": {
            "backgroundcolor": "white",
            "gridcolor": "#DFE8F3",
            "gridwidth": 2,
            "linecolor": "#EBF0F8",
            "showbackground": true,
            "ticks": "",
            "zerolinecolor": "#EBF0F8"
           },
           "yaxis": {
            "backgroundcolor": "white",
            "gridcolor": "#DFE8F3",
            "gridwidth": 2,
            "linecolor": "#EBF0F8",
            "showbackground": true,
            "ticks": "",
            "zerolinecolor": "#EBF0F8"
           },
           "zaxis": {
            "backgroundcolor": "white",
            "gridcolor": "#DFE8F3",
            "gridwidth": 2,
            "linecolor": "#EBF0F8",
            "showbackground": true,
            "ticks": "",
            "zerolinecolor": "#EBF0F8"
           }
          },
          "shapedefaults": {
           "line": {
            "color": "#2a3f5f"
           }
          },
          "ternary": {
           "aaxis": {
            "gridcolor": "#DFE8F3",
            "linecolor": "#A2B1C6",
            "ticks": ""
           },
           "baxis": {
            "gridcolor": "#DFE8F3",
            "linecolor": "#A2B1C6",
            "ticks": ""
           },
           "bgcolor": "white",
           "caxis": {
            "gridcolor": "#DFE8F3",
            "linecolor": "#A2B1C6",
            "ticks": ""
           }
          },
          "title": {
           "x": 0.05
          },
          "xaxis": {
           "automargin": true,
           "gridcolor": "#EBF0F8",
           "linecolor": "#EBF0F8",
           "ticks": "",
           "title": {
            "standoff": 15
           },
           "zerolinecolor": "#EBF0F8",
           "zerolinewidth": 2
          },
          "yaxis": {
           "automargin": true,
           "gridcolor": "#EBF0F8",
           "linecolor": "#EBF0F8",
           "ticks": "",
           "title": {
            "standoff": 15
           },
           "zerolinecolor": "#EBF0F8",
           "zerolinewidth": 2
          }
         }
        },
        "title": {
         "text": " Chart: drawdown"
        }
       }
      }
     },
     "metadata": {},
     "output_type": "display_data"
    },
    {
     "data": {
      "application/vnd.plotly.v1+json": {
       "config": {
        "plotlyServerURL": "https://plot.ly"
       },
       "data": [
        {
         "mode": "lines",
         "name": "PnL (since start)",
         "type": "scatter",
         "x": {
          "bdata": "AAABAAIAAwAEAAUABgAHAAgACQAKAAsADAANAA4ADwAQABEAEgATABQAFQAWABcAGAAZABoAGwAcAB0AHgAfACAAIQAiACMAJAAlACYAJwAoACkAKgArACwALQAuAC8AMAAxADIAMwA0ADUANgA3ADgAOQA6ADsAPAA9AD4APwBAAEEAQgBDAEQARQBGAEcASABJAEoASwBMAE0ATgBPAFAAUQBSAFMAVABVAFYAVwBYAFkAWgBbAFwAXQBeAF8AYABhAGIAYwBkAGUAZgBnAGgAaQBqAGsAbABtAG4AbwBwAHEAcgBzAHQAdQB2AHcAeAB5AHoAewB8AH0AfgB/AIAAgQCCAIMAhACFAIYAhwCIAIkAigCLAIwAjQCOAI8AkACRAJIAkwCUAJUAlgCXAJgAmQCaAJsAnACdAJ4AnwCgAKEAogCjAKQApQCmAKcAqACpAKoAqwCsAK0ArgCvALAAsQCyALMAtAC1ALYAtwC4ALkAugC7ALwAvQC+AL8AwADBAMIAwwDEAMUAxgDHAMgAyQDKAMsAzADNAM4AzwDQANEA0gDTANQA1QDWANcA2ADZANoA2wDcAN0A3gDfAOAA4QDiAOMA5ADlAOYA5wDoAOkA6gDrAOwA7QDuAO8A8ADxAPIA8wD0APUA9gD3APgA+QD6APsA/AD9AP4A/wAAAQEBAgEDAQQBBQEGAQcBCAEJAQoBCwEMAQ0BDgEPARABEQESARMBFAEVARYBFwEYARkBGgEbARwBHQEeAR8BIAEhASIBIwEkASUBJgEnASgBKQEqASsBLAEtAS4BLwEwATEBMgEzATQBNQE2ATcBOAE5AToBOwE8AT0BPgE/AUABQQFCAUMBRAFFAUYBRwFIAUkBSgFLAUwBTQFOAU8BUAFRAVIBUwFUAVUBVgFXAVgBWQFaAVsBXAFdAV4BXwFgAWEBYgFjAWQBZQFmAWcBaAFpAWoBawFsAW0BbgFvAXABcQFyAXMBdAF1AXYBdwF4AXkBegF7AXwBfQF+AX8BgAGBAYIBgwGEAYUBhgGHAYgBiQGKAYsBjAGNAY4BjwGQAZEBkgGTAZQBlQGWAZcBmAGZAZoBmwGcAZ0BngGfAaABoQGiAaMBpAGlAaYBpwGoAakBqgGrAawBrQGuAa8BsAGxAbIBswG0AbUBtgG3AbgBuQG6AbsBvAG9Ab4BvwHAAcEBwgHDAcQBxQHGAccByAHJAcoBywHMAc0BzgHPAdAB",
          "dtype": "i2"
         },
         "y": {
          "bdata": "AAAAAAAAAAAAAAAAAAAAAAAAAAAAAAAAAAAAAAAAAAAAAAAAAAAAAAAAAAAAAAAAAAAAAAAAAAAAAAAAAAAAAAAAAAAAAAAAAAAAAAAAAAAAAAAAAAAAAAAAAAAAAAAAAAAAAAAAAAAAAAAAAAAAAAAAAAAAAAAAAAAAAAAAAAAAAAAAAAAAAAAAAAAAAAAAAAAAAAAAAAAAAAAAAAAAAAAAAAAAAAAAAAAAAAAAAAAAAAAAAAAAAAAAAAAAAAAAAAAAAAAAAAAAAAAAAAAAAAAAAAAAAAAAAAAAAAAAAAAAAAAAAAAAAAAAAAAAAAAAAAAAAAAAAAAAAAAAAAAAAAAAAAAAAAAAAAAAAAAAAAAAAAAAAAAAAAAAAAAAAAAAAAAAAAAAAAAAAAAAAAAAAAAAAAAAAAAAAAAAAAAAAAAAAAAAAAAAAAAAAAAAAAAAAAAAAAAAAAAAAAAAAAAAAAAAAAAAAAAAAAAAAAAAAAAAAAAAAAAAAAAAAAAAAAAAAAAAAAAAAAAAAAAAAAAAAAAAAAAAAAAAAAAAAAAAAAAAAAAAAAAAAAAAAAAAAAAAAAAAAAAAAAAAAAAAAAAAAAAAAAAAAAAAAAAAAAAAAAAAAAAAAAAAAAAAAAAAAAAAAAAAAAAAAAAAAAAAAAAAAAAAAAAAAAAAAAAAAAAAAAAAAAAAAAAAAAAAAAAAAAAAAAAAAAAAAAAAAAAAAAAAAAAAAAAAAAAAAAAAAAAAAAAAAAAAAAAAAAAAAAAAAAAAAAAAAAAAAAAAAAAAAAAAAAAAAAAAAAAAAAAAAAAAAAAAAAAAAAAAAAAAAAAAAAAAAAAAAAAAAAAAAAAAAAAAAAAAAAAAAAAAAAAAAAAAAAAAAAAAAAAAAAAAAAAAAAAAAAAAAAAAAAAAAAAAAAAAAAAAAAAAAAAAAAAAAAAAAAAAAAAAAAAAAAAAAAAAAAAAAAAAAAAAAAAAAAAAAAAAAAAAAAAAAAAAAAAAAAAAAAAAAAAAAAAAAAAAAAAAAAAAAAAAAAAAAAAAAAAAAAAAAAAAAAAAAAAAAAAAAAAAAAAAAAAAAAAAAPC5FklDZ+FAAHh0V5ly8ECgGiX09Pz3QEB2j/xkkvVAAGGPwUqh+UDgr/PBKJj4QDhpuByTHgNBaLrcgrQHCUGotCosC1sKQdCPFnkkHg5BtHS1cZMiEEEAGC6R4uATQVzcp4rm1RxBVC5rbr5vGkHwvkC7gr4aQXygSBvIdhpB5NHWbFYuFUEAhmDz1a0XQchZPCAl7x9BuCvkqCJhHkGcRUq0II4eQcKEFwKHISBB6BTniK7KG0GQ2L/8pMQfQcpARU1ADyBBVHqDMyLGIEEw7TUfFskfQQrMZ41++CFB9BTklc7lHUH8H016IVEfQbZ/cotNECFBEnT/jiLDIEFeU11W1PshQVgd5jUIdCFBLr/0HJ4ZIEFQKAnJNAEeQYByO20nJiFBLuyXzDJLIEF41G9XYrkZQQCoceq/2RhBlDHcnk6jGkGUCwlTomAaQQTLvfhuSBhBQIFiJJxbG0HIhti1jvQgQWiGg/F5zxxBMCpoEz1CIUEMpMd8S9AhQUwvbhIleSJBVERcH7GuI0G0CcBrd+QhQTRKARO5diFBCHlmA3UmIUGsvbaPCDMeQfCrac9W9BxB0NoThIX4HkEkJ4ZhX1sdQZBBYmI+JhtBmPno1MaGHUFUAvm6glMbQfBZW4DUxBhByHfxwl1tF0EIp1u1w4UXQXhlon5npBZBJN0amMOBFkHoiZjgVxATQci1GqkRxQ5BkOzpb87uEEGY65xyhdAPQSAcldK7ixVBzHngs+DpF0EsxLs/tBcZQcApZZAziBRBdEYRixm5FkHcLYr0aNYcQWwENOFQMhpB2I7jieNiHEFU6r6ZV8YaQViAEyjzcCBBUKRZWvFJHEEQrEkkgAEgQUhMxaM+oRtBgBxDFDQQG0E4XtaShtocQVBSrxDldRpBsOyrFp2kHUGMRkTQa3AgQaRoqxBCcB9BVMLQ9zAxIUGo84rHqYUgQQAXQt4zeR9B0NEBknwfH0FsJqfuayMgQR5G7hbqOiBBGFyadbMOH0HkHhks7QMfQSQXnemhCx5BDFQLckzkHkHq5jIGNG8gQbba3I6hwyFBZGgIAHfzIUHqk3MTCGAjQYgGGrskaCRBgLAIVKe1JEFCrhVF+tAlQcCue+KcrCRBolacTaUKJkF6vNcpttkhQUwkP/GshCBBZBdCMx08HUE4jhZvTr0fQRzM0h7jkh5B+IFEgoEdHkE0bf192ycgQcTeyidgfh5B+qdY/dNZIEGuyc5qyq0gQVT98v1LwiBBLPk4Tq0zIEEwpPyYdgMeQZijC1caiR5BBPODvLEtH0FASHHWi7sdQZbofHI/JSBBCB+1ACgvHUFQCoRqeH0cQdS1jInv0xhBHDnhbICCGEEodDfdb5cZQXApXrw6BhdBHGzBKTw5GUGAXKvmIY0YQUwe1GySGhlBlDMMXgM3GUF4WPNWFVMZQbx6JaPZyRpB5D9uNbpeGUFIohlbDoUZQeBJVHvYhRlBhJICXgOmF0EMtm3YRGIYQUxMt7XKZRlBbHplCDn0FkFcPRgx9qEWQWQ9Izn4kBdBsEDYf21fGUEwXKs117kbQYA0TwqvgxtB1NKzZavhHEEg4UC6YG4bQUDIzY3xzxlBVKNAT14nHEGgjURiFeMbQdBo0k/eDh1BcOD8PYH0FkF4wBvySfEYQaDnZ+e/rhNBgHkwZ6BgFEGkeFVzigYSQcASeXbgBQZB4Mb6H68VBkEQ9x7Tt4EFQbhDOHdqyQZBEJZtWblvAUFA1OOgdDMBQei5KusXpgJBEGscq/1+BEEAhd7Pm5YDQWATM48hWQVBMBC0ZSl5CEEYw9QoGlkNQTCeUAW1cwtBWAFly3xmEEF4UwX2CusNQYyVA+O0FBBBSCB92zDCC0EwyX6YJEsOQdCGuik5KgdBcKZp5y6dDUEsMjzsxrERQahaW+TCzRJBUM2/eXNBFEEwGNYhEWwUQXzALaQUgxNBONE1QanaEUE09lPCPK4QQTiZ7vbhmhNB8Ir0/DtaFEEU1P7RMT4TQRC+fnAEOxRBTHIWp3KAFUEAjiV/od4UQTAIO+k8mSRBBrVzRo6BIkHkzByWbNMiQW6FXZxBcyJBUlLYPUuOIkGuvgJqKvYhQbgwJlE8RiNBdoi9gOv/I0FgtbrNKJUjQbAN8J9V8SFBlhHD/jxoIkH6DRWzHlIgQeKrs67aEyBBMAaU+HKyIUFe1k5xq+4hQXT8KvuRkiFBUPmpvR3vIUFy6VBjWwUhQYg+GsBjWyBBDJ0WsJMOIUGkXoxJluceQejgB8VJzhxBJAKfDt9IHEGkWMRWzCAcQQRVCjZLThxBoARJwAGBHEFk50wfFgsfQZCwx862zh9BiP775jM+H0Hcz6sQXMEeQQg7PjJU3x5B8KdrwSu6HUFISi+3LSEfQZgtADIBdBtByAbtexBQGEH4GeI9l6QRQbAzozDXuRFBSM4i33H1EkGwzbHCNoITQWC/hSMZrxFB+KSF3GiqEEEoF7PfV1oTQQjLgX8smBFB+I0/uXzwEEE8aZUqfqsQQXxgba6JYBFBwMEGJO55EUGULR5uu1YUQWROHCagtBFBsPzFCsJvDUFIT76UVpQLQfBI6TaZcQxB0KrS76EjDUG4TJAqvEkNQcAezb43Pw9BEIEbK3OZDkGwAkczLOQPQSBEEfJVKw5B0NIciPgODUHgmM2gc6gIQQjzHoUIvQNBKBPDEFOfBUHAqmCrknwHQZDni4JjyQlBOPtstRxpDEGAVhBSwTgMQWjsBDAE6glBuHf0cZaBDkF0Zo/OXdcQQaA7sV5IMxFBeClWrtR1DUHwoCK0//kOQUAh2ZOf5g9BYFwaevTLDUGo+ZVpbHgQQQCM8sr0TA9BQFpoVJsvEEEYkrP5liYSQcgEbq4pJxNBCNOosTTUFEG4+O/ETmQYQZgGrxu8lRVBOIQE5vFuFkFEOnb4lSIWQbDW3n5f3RRBgHZLS15sFkHQOqG3k6UVQaSNmetliBVBMLnk04ZnEkH4pH9hRAsSQUzwjfwBtxFBHOGnsN0XEEHYegcU6/4QQYgHuWQbdBFBjMeMbabDEUF4r+G9hMgUQYxC5s0GlxNBEMP0CH3SEkF8JcBKkmwVQbD3FgBuYxhBtNQzCjmNHkFo8TqC9rcgQbyla1F27yNBTinflaO3IkFM9jZ9+ackQUi5WBJTviRBcF7DOjlBJEFczfzS9xAkQTq71zK+SyVBjnc+vx1HJ0Fiq4OliDwpQa5dlxD9uStBZBzIGCbPKkGQ5iIJBQorQdAqv8FC2CxBwC2C1L0eLkH1q3FmkYgwQaIGmHzdVDBBcDv6KVmAMUGsCGwxCO4xQRwQHGdnmjVBCAzt+RQwNkEiybQaCvg1QXYVMMLZbDNBSOnL7so0NEE65QXJF603Qaj/yO3WgTRBZMs5Ts2KNEE+liGMua40QQQ31nKlOTZBhs/Zi6GpNEGKI7QJ4NAxQRwEeExBjTRBYt44ATV5NEGgVypVS6Y0QZJSbVrxdTVBklcR/U/+NEH+S5tYHLczQebbB2qw7DRBEK+tqLgTNUFmqKO+3iA1Qf7VPpw1rjVBeIVC4LZ4N0HaCrYYOB03QcJGpwvVCzdBSPzoRfYiN0EmZpVI4Xs3QR5aMnsqiDlBrnZHcviJPUFUuDtaTdU8QS48Kk5r7j1BaBkanSPWOkFiU7TS7tw6QWawy7PJsDxBBnq+aIQUPkEYTmCTBcI7QaA0cPkmRzxBXkwmh47OOkEiJVDtnGM8QcApg4IIaDtBSPJywwFTPkESr0x0d61BQalW67+dDkJB+9FNjit1Q0HSFdQfx95DQc80046WhUVBc3+yjtUnREE+oUynIBdEQeFYiV2NEkNBIwVk/sFdQ0HSia8pprJCQV2vAblgf0JB",
          "dtype": "f8"
         }
        }
       ],
       "layout": {
        "annotations": [
         {
          "bgcolor": "rgba(255,255,255,0.8)",
          "bordercolor": "lightgray",
          "borderwidth": 1,
          "font": {
           "color": "darkblue",
           "size": 11
          },
          "showarrow": false,
          "text": "<b>Profit & Loss (PnL)</b><br>Shows cumulative profit/loss in absolute terms from start.<br>• Positive values: Total profit made<br>• Negative values: Total loss incurred<br>• Zero line: Break-even point • Slope indicates performance trend",
          "x": 0.5,
          "xanchor": "center",
          "xref": "paper",
          "y": -0.36,
          "yanchor": "bottom",
          "yref": "paper"
         }
        ],
        "height": 500,
        "margin": {
         "b": 120
        },
        "template": {
         "data": {
          "bar": [
           {
            "error_x": {
             "color": "#2a3f5f"
            },
            "error_y": {
             "color": "#2a3f5f"
            },
            "marker": {
             "line": {
              "color": "white",
              "width": 0.5
             },
             "pattern": {
              "fillmode": "overlay",
              "size": 10,
              "solidity": 0.2
             }
            },
            "type": "bar"
           }
          ],
          "barpolar": [
           {
            "marker": {
             "line": {
              "color": "white",
              "width": 0.5
             },
             "pattern": {
              "fillmode": "overlay",
              "size": 10,
              "solidity": 0.2
             }
            },
            "type": "barpolar"
           }
          ],
          "carpet": [
           {
            "aaxis": {
             "endlinecolor": "#2a3f5f",
             "gridcolor": "#C8D4E3",
             "linecolor": "#C8D4E3",
             "minorgridcolor": "#C8D4E3",
             "startlinecolor": "#2a3f5f"
            },
            "baxis": {
             "endlinecolor": "#2a3f5f",
             "gridcolor": "#C8D4E3",
             "linecolor": "#C8D4E3",
             "minorgridcolor": "#C8D4E3",
             "startlinecolor": "#2a3f5f"
            },
            "type": "carpet"
           }
          ],
          "choropleth": [
           {
            "colorbar": {
             "outlinewidth": 0,
             "ticks": ""
            },
            "type": "choropleth"
           }
          ],
          "contour": [
           {
            "colorbar": {
             "outlinewidth": 0,
             "ticks": ""
            },
            "colorscale": [
             [
              0,
              "#0d0887"
             ],
             [
              0.1111111111111111,
              "#46039f"
             ],
             [
              0.2222222222222222,
              "#7201a8"
             ],
             [
              0.3333333333333333,
              "#9c179e"
             ],
             [
              0.4444444444444444,
              "#bd3786"
             ],
             [
              0.5555555555555556,
              "#d8576b"
             ],
             [
              0.6666666666666666,
              "#ed7953"
             ],
             [
              0.7777777777777778,
              "#fb9f3a"
             ],
             [
              0.8888888888888888,
              "#fdca26"
             ],
             [
              1,
              "#f0f921"
             ]
            ],
            "type": "contour"
           }
          ],
          "contourcarpet": [
           {
            "colorbar": {
             "outlinewidth": 0,
             "ticks": ""
            },
            "type": "contourcarpet"
           }
          ],
          "heatmap": [
           {
            "colorbar": {
             "outlinewidth": 0,
             "ticks": ""
            },
            "colorscale": [
             [
              0,
              "#0d0887"
             ],
             [
              0.1111111111111111,
              "#46039f"
             ],
             [
              0.2222222222222222,
              "#7201a8"
             ],
             [
              0.3333333333333333,
              "#9c179e"
             ],
             [
              0.4444444444444444,
              "#bd3786"
             ],
             [
              0.5555555555555556,
              "#d8576b"
             ],
             [
              0.6666666666666666,
              "#ed7953"
             ],
             [
              0.7777777777777778,
              "#fb9f3a"
             ],
             [
              0.8888888888888888,
              "#fdca26"
             ],
             [
              1,
              "#f0f921"
             ]
            ],
            "type": "heatmap"
           }
          ],
          "histogram": [
           {
            "marker": {
             "pattern": {
              "fillmode": "overlay",
              "size": 10,
              "solidity": 0.2
             }
            },
            "type": "histogram"
           }
          ],
          "histogram2d": [
           {
            "colorbar": {
             "outlinewidth": 0,
             "ticks": ""
            },
            "colorscale": [
             [
              0,
              "#0d0887"
             ],
             [
              0.1111111111111111,
              "#46039f"
             ],
             [
              0.2222222222222222,
              "#7201a8"
             ],
             [
              0.3333333333333333,
              "#9c179e"
             ],
             [
              0.4444444444444444,
              "#bd3786"
             ],
             [
              0.5555555555555556,
              "#d8576b"
             ],
             [
              0.6666666666666666,
              "#ed7953"
             ],
             [
              0.7777777777777778,
              "#fb9f3a"
             ],
             [
              0.8888888888888888,
              "#fdca26"
             ],
             [
              1,
              "#f0f921"
             ]
            ],
            "type": "histogram2d"
           }
          ],
          "histogram2dcontour": [
           {
            "colorbar": {
             "outlinewidth": 0,
             "ticks": ""
            },
            "colorscale": [
             [
              0,
              "#0d0887"
             ],
             [
              0.1111111111111111,
              "#46039f"
             ],
             [
              0.2222222222222222,
              "#7201a8"
             ],
             [
              0.3333333333333333,
              "#9c179e"
             ],
             [
              0.4444444444444444,
              "#bd3786"
             ],
             [
              0.5555555555555556,
              "#d8576b"
             ],
             [
              0.6666666666666666,
              "#ed7953"
             ],
             [
              0.7777777777777778,
              "#fb9f3a"
             ],
             [
              0.8888888888888888,
              "#fdca26"
             ],
             [
              1,
              "#f0f921"
             ]
            ],
            "type": "histogram2dcontour"
           }
          ],
          "mesh3d": [
           {
            "colorbar": {
             "outlinewidth": 0,
             "ticks": ""
            },
            "type": "mesh3d"
           }
          ],
          "parcoords": [
           {
            "line": {
             "colorbar": {
              "outlinewidth": 0,
              "ticks": ""
             }
            },
            "type": "parcoords"
           }
          ],
          "pie": [
           {
            "automargin": true,
            "type": "pie"
           }
          ],
          "scatter": [
           {
            "fillpattern": {
             "fillmode": "overlay",
             "size": 10,
             "solidity": 0.2
            },
            "type": "scatter"
           }
          ],
          "scatter3d": [
           {
            "line": {
             "colorbar": {
              "outlinewidth": 0,
              "ticks": ""
             }
            },
            "marker": {
             "colorbar": {
              "outlinewidth": 0,
              "ticks": ""
             }
            },
            "type": "scatter3d"
           }
          ],
          "scattercarpet": [
           {
            "marker": {
             "colorbar": {
              "outlinewidth": 0,
              "ticks": ""
             }
            },
            "type": "scattercarpet"
           }
          ],
          "scattergeo": [
           {
            "marker": {
             "colorbar": {
              "outlinewidth": 0,
              "ticks": ""
             }
            },
            "type": "scattergeo"
           }
          ],
          "scattergl": [
           {
            "marker": {
             "colorbar": {
              "outlinewidth": 0,
              "ticks": ""
             }
            },
            "type": "scattergl"
           }
          ],
          "scattermap": [
           {
            "marker": {
             "colorbar": {
              "outlinewidth": 0,
              "ticks": ""
             }
            },
            "type": "scattermap"
           }
          ],
          "scattermapbox": [
           {
            "marker": {
             "colorbar": {
              "outlinewidth": 0,
              "ticks": ""
             }
            },
            "type": "scattermapbox"
           }
          ],
          "scatterpolar": [
           {
            "marker": {
             "colorbar": {
              "outlinewidth": 0,
              "ticks": ""
             }
            },
            "type": "scatterpolar"
           }
          ],
          "scatterpolargl": [
           {
            "marker": {
             "colorbar": {
              "outlinewidth": 0,
              "ticks": ""
             }
            },
            "type": "scatterpolargl"
           }
          ],
          "scatterternary": [
           {
            "marker": {
             "colorbar": {
              "outlinewidth": 0,
              "ticks": ""
             }
            },
            "type": "scatterternary"
           }
          ],
          "surface": [
           {
            "colorbar": {
             "outlinewidth": 0,
             "ticks": ""
            },
            "colorscale": [
             [
              0,
              "#0d0887"
             ],
             [
              0.1111111111111111,
              "#46039f"
             ],
             [
              0.2222222222222222,
              "#7201a8"
             ],
             [
              0.3333333333333333,
              "#9c179e"
             ],
             [
              0.4444444444444444,
              "#bd3786"
             ],
             [
              0.5555555555555556,
              "#d8576b"
             ],
             [
              0.6666666666666666,
              "#ed7953"
             ],
             [
              0.7777777777777778,
              "#fb9f3a"
             ],
             [
              0.8888888888888888,
              "#fdca26"
             ],
             [
              1,
              "#f0f921"
             ]
            ],
            "type": "surface"
           }
          ],
          "table": [
           {
            "cells": {
             "fill": {
              "color": "#EBF0F8"
             },
             "line": {
              "color": "white"
             }
            },
            "header": {
             "fill": {
              "color": "#C8D4E3"
             },
             "line": {
              "color": "white"
             }
            },
            "type": "table"
           }
          ]
         },
         "layout": {
          "annotationdefaults": {
           "arrowcolor": "#2a3f5f",
           "arrowhead": 0,
           "arrowwidth": 1
          },
          "autotypenumbers": "strict",
          "coloraxis": {
           "colorbar": {
            "outlinewidth": 0,
            "ticks": ""
           }
          },
          "colorscale": {
           "diverging": [
            [
             0,
             "#8e0152"
            ],
            [
             0.1,
             "#c51b7d"
            ],
            [
             0.2,
             "#de77ae"
            ],
            [
             0.3,
             "#f1b6da"
            ],
            [
             0.4,
             "#fde0ef"
            ],
            [
             0.5,
             "#f7f7f7"
            ],
            [
             0.6,
             "#e6f5d0"
            ],
            [
             0.7,
             "#b8e186"
            ],
            [
             0.8,
             "#7fbc41"
            ],
            [
             0.9,
             "#4d9221"
            ],
            [
             1,
             "#276419"
            ]
           ],
           "sequential": [
            [
             0,
             "#0d0887"
            ],
            [
             0.1111111111111111,
             "#46039f"
            ],
            [
             0.2222222222222222,
             "#7201a8"
            ],
            [
             0.3333333333333333,
             "#9c179e"
            ],
            [
             0.4444444444444444,
             "#bd3786"
            ],
            [
             0.5555555555555556,
             "#d8576b"
            ],
            [
             0.6666666666666666,
             "#ed7953"
            ],
            [
             0.7777777777777778,
             "#fb9f3a"
            ],
            [
             0.8888888888888888,
             "#fdca26"
            ],
            [
             1,
             "#f0f921"
            ]
           ],
           "sequentialminus": [
            [
             0,
             "#0d0887"
            ],
            [
             0.1111111111111111,
             "#46039f"
            ],
            [
             0.2222222222222222,
             "#7201a8"
            ],
            [
             0.3333333333333333,
             "#9c179e"
            ],
            [
             0.4444444444444444,
             "#bd3786"
            ],
            [
             0.5555555555555556,
             "#d8576b"
            ],
            [
             0.6666666666666666,
             "#ed7953"
            ],
            [
             0.7777777777777778,
             "#fb9f3a"
            ],
            [
             0.8888888888888888,
             "#fdca26"
            ],
            [
             1,
             "#f0f921"
            ]
           ]
          },
          "colorway": [
           "#636efa",
           "#EF553B",
           "#00cc96",
           "#ab63fa",
           "#FFA15A",
           "#19d3f3",
           "#FF6692",
           "#B6E880",
           "#FF97FF",
           "#FECB52"
          ],
          "font": {
           "color": "#2a3f5f"
          },
          "geo": {
           "bgcolor": "white",
           "lakecolor": "white",
           "landcolor": "white",
           "showlakes": true,
           "showland": true,
           "subunitcolor": "#C8D4E3"
          },
          "hoverlabel": {
           "align": "left"
          },
          "hovermode": "closest",
          "mapbox": {
           "style": "light"
          },
          "paper_bgcolor": "white",
          "plot_bgcolor": "white",
          "polar": {
           "angularaxis": {
            "gridcolor": "#EBF0F8",
            "linecolor": "#EBF0F8",
            "ticks": ""
           },
           "bgcolor": "white",
           "radialaxis": {
            "gridcolor": "#EBF0F8",
            "linecolor": "#EBF0F8",
            "ticks": ""
           }
          },
          "scene": {
           "xaxis": {
            "backgroundcolor": "white",
            "gridcolor": "#DFE8F3",
            "gridwidth": 2,
            "linecolor": "#EBF0F8",
            "showbackground": true,
            "ticks": "",
            "zerolinecolor": "#EBF0F8"
           },
           "yaxis": {
            "backgroundcolor": "white",
            "gridcolor": "#DFE8F3",
            "gridwidth": 2,
            "linecolor": "#EBF0F8",
            "showbackground": true,
            "ticks": "",
            "zerolinecolor": "#EBF0F8"
           },
           "zaxis": {
            "backgroundcolor": "white",
            "gridcolor": "#DFE8F3",
            "gridwidth": 2,
            "linecolor": "#EBF0F8",
            "showbackground": true,
            "ticks": "",
            "zerolinecolor": "#EBF0F8"
           }
          },
          "shapedefaults": {
           "line": {
            "color": "#2a3f5f"
           }
          },
          "ternary": {
           "aaxis": {
            "gridcolor": "#DFE8F3",
            "linecolor": "#A2B1C6",
            "ticks": ""
           },
           "baxis": {
            "gridcolor": "#DFE8F3",
            "linecolor": "#A2B1C6",
            "ticks": ""
           },
           "bgcolor": "white",
           "caxis": {
            "gridcolor": "#DFE8F3",
            "linecolor": "#A2B1C6",
            "ticks": ""
           }
          },
          "title": {
           "x": 0.05
          },
          "xaxis": {
           "automargin": true,
           "gridcolor": "#EBF0F8",
           "linecolor": "#EBF0F8",
           "ticks": "",
           "title": {
            "standoff": 15
           },
           "zerolinecolor": "#EBF0F8",
           "zerolinewidth": 2
          },
          "yaxis": {
           "automargin": true,
           "gridcolor": "#EBF0F8",
           "linecolor": "#EBF0F8",
           "ticks": "",
           "title": {
            "standoff": 15
           },
           "zerolinecolor": "#EBF0F8",
           "zerolinewidth": 2
          }
         }
        },
        "title": {
         "text": " Chart: pnl"
        }
       }
      }
     },
     "metadata": {},
     "output_type": "display_data"
    },
    {
     "data": {
      "application/vnd.plotly.v1+json": {
       "config": {
        "plotlyServerURL": "https://plot.ly"
       },
       "data": [
        {
         "mode": "lines",
         "name": "Calmar (to date)",
         "type": "scatter",
         "x": {
          "bdata": "AAABAAIAAwAEAAUABgAHAAgACQAKAAsADAANAA4ADwAQABEAEgATABQAFQAWABcAGAAZABoAGwAcAB0AHgAfACAAIQAiACMAJAAlACYAJwAoACkAKgArACwALQAuAC8AMAAxADIAMwA0ADUANgA3ADgAOQA6ADsAPAA9AD4APwBAAEEAQgBDAEQARQBGAEcASABJAEoASwBMAE0ATgBPAFAAUQBSAFMAVABVAFYAVwBYAFkAWgBbAFwAXQBeAF8AYABhAGIAYwBkAGUAZgBnAGgAaQBqAGsAbABtAG4AbwBwAHEAcgBzAHQAdQB2AHcAeAB5AHoAewB8AH0AfgB/AIAAgQCCAIMAhACFAIYAhwCIAIkAigCLAIwAjQCOAI8AkACRAJIAkwCUAJUAlgCXAJgAmQCaAJsAnACdAJ4AnwCgAKEAogCjAKQApQCmAKcAqACpAKoAqwCsAK0ArgCvALAAsQCyALMAtAC1ALYAtwC4ALkAugC7ALwAvQC+AL8AwADBAMIAwwDEAMUAxgDHAMgAyQDKAMsAzADNAM4AzwDQANEA0gDTANQA1QDWANcA2ADZANoA2wDcAN0A3gDfAOAA4QDiAOMA5ADlAOYA5wDoAOkA6gDrAOwA7QDuAO8A8ADxAPIA8wD0APUA9gD3APgA+QD6APsA/AD9AP4A/wAAAQEBAgEDAQQBBQEGAQcBCAEJAQoBCwEMAQ0BDgEPARABEQESARMBFAEVARYBFwEYARkBGgEbARwBHQEeAR8BIAEhASIBIwEkASUBJgEnASgBKQEqASsBLAEtAS4BLwEwATEBMgEzATQBNQE2ATcBOAE5AToBOwE8AT0BPgE/AUABQQFCAUMBRAFFAUYBRwFIAUkBSgFLAUwBTQFOAU8BUAFRAVIBUwFUAVUBVgFXAVgBWQFaAVsBXAFdAV4BXwFgAWEBYgFjAWQBZQFmAWcBaAFpAWoBawFsAW0BbgFvAXABcQFyAXMBdAF1AXYBdwF4AXkBegF7AXwBfQF+AX8BgAGBAYIBgwGEAYUBhgGHAYgBiQGKAYsBjAGNAY4BjwGQAZEBkgGTAZQBlQGWAZcBmAGZAZoBmwGcAZ0BngGfAaABoQGiAaMBpAGlAaYBpwGoAakBqgGrAawBrQGuAa8BsAGxAbIBswG0AbUBtgG3AbgBuQG6AbsBvAG9Ab4BvwHAAcEBwgHDAcQBxQHGAccByAHJAcoBywHMAc0BzgHPAdAB",
          "dtype": "i2"
         },
         "y": {
          "bdata": "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",
          "dtype": "f8"
         }
        }
       ],
       "layout": {
        "annotations": [
         {
          "bgcolor": "rgba(255,255,255,0.8)",
          "bordercolor": "lightgray",
          "borderwidth": 1,
          "font": {
           "color": "darkblue",
           "size": 11
          },
          "showarrow": false,
          "text": "<b>Calmar Ratio</b><br>Risk-adjusted return: Annualized return ÷ Maximum Drawdown.<br>• Higher values indicate better risk-adjusted performance<br>• >1.0: Good • >2.0: Very good • >3.0: Excellent<br>• Considers both returns and maximum loss exposure",
          "x": 0.5,
          "xanchor": "center",
          "xref": "paper",
          "y": -0.36,
          "yanchor": "bottom",
          "yref": "paper"
         }
        ],
        "height": 500,
        "margin": {
         "b": 120
        },
        "template": {
         "data": {
          "bar": [
           {
            "error_x": {
             "color": "#2a3f5f"
            },
            "error_y": {
             "color": "#2a3f5f"
            },
            "marker": {
             "line": {
              "color": "white",
              "width": 0.5
             },
             "pattern": {
              "fillmode": "overlay",
              "size": 10,
              "solidity": 0.2
             }
            },
            "type": "bar"
           }
          ],
          "barpolar": [
           {
            "marker": {
             "line": {
              "color": "white",
              "width": 0.5
             },
             "pattern": {
              "fillmode": "overlay",
              "size": 10,
              "solidity": 0.2
             }
            },
            "type": "barpolar"
           }
          ],
          "carpet": [
           {
            "aaxis": {
             "endlinecolor": "#2a3f5f",
             "gridcolor": "#C8D4E3",
             "linecolor": "#C8D4E3",
             "minorgridcolor": "#C8D4E3",
             "startlinecolor": "#2a3f5f"
            },
            "baxis": {
             "endlinecolor": "#2a3f5f",
             "gridcolor": "#C8D4E3",
             "linecolor": "#C8D4E3",
             "minorgridcolor": "#C8D4E3",
             "startlinecolor": "#2a3f5f"
            },
            "type": "carpet"
           }
          ],
          "choropleth": [
           {
            "colorbar": {
             "outlinewidth": 0,
             "ticks": ""
            },
            "type": "choropleth"
           }
          ],
          "contour": [
           {
            "colorbar": {
             "outlinewidth": 0,
             "ticks": ""
            },
            "colorscale": [
             [
              0,
              "#0d0887"
             ],
             [
              0.1111111111111111,
              "#46039f"
             ],
             [
              0.2222222222222222,
              "#7201a8"
             ],
             [
              0.3333333333333333,
              "#9c179e"
             ],
             [
              0.4444444444444444,
              "#bd3786"
             ],
             [
              0.5555555555555556,
              "#d8576b"
             ],
             [
              0.6666666666666666,
              "#ed7953"
             ],
             [
              0.7777777777777778,
              "#fb9f3a"
             ],
             [
              0.8888888888888888,
              "#fdca26"
             ],
             [
              1,
              "#f0f921"
             ]
            ],
            "type": "contour"
           }
          ],
          "contourcarpet": [
           {
            "colorbar": {
             "outlinewidth": 0,
             "ticks": ""
            },
            "type": "contourcarpet"
           }
          ],
          "heatmap": [
           {
            "colorbar": {
             "outlinewidth": 0,
             "ticks": ""
            },
            "colorscale": [
             [
              0,
              "#0d0887"
             ],
             [
              0.1111111111111111,
              "#46039f"
             ],
             [
              0.2222222222222222,
              "#7201a8"
             ],
             [
              0.3333333333333333,
              "#9c179e"
             ],
             [
              0.4444444444444444,
              "#bd3786"
             ],
             [
              0.5555555555555556,
              "#d8576b"
             ],
             [
              0.6666666666666666,
              "#ed7953"
             ],
             [
              0.7777777777777778,
              "#fb9f3a"
             ],
             [
              0.8888888888888888,
              "#fdca26"
             ],
             [
              1,
              "#f0f921"
             ]
            ],
            "type": "heatmap"
           }
          ],
          "histogram": [
           {
            "marker": {
             "pattern": {
              "fillmode": "overlay",
              "size": 10,
              "solidity": 0.2
             }
            },
            "type": "histogram"
           }
          ],
          "histogram2d": [
           {
            "colorbar": {
             "outlinewidth": 0,
             "ticks": ""
            },
            "colorscale": [
             [
              0,
              "#0d0887"
             ],
             [
              0.1111111111111111,
              "#46039f"
             ],
             [
              0.2222222222222222,
              "#7201a8"
             ],
             [
              0.3333333333333333,
              "#9c179e"
             ],
             [
              0.4444444444444444,
              "#bd3786"
             ],
             [
              0.5555555555555556,
              "#d8576b"
             ],
             [
              0.6666666666666666,
              "#ed7953"
             ],
             [
              0.7777777777777778,
              "#fb9f3a"
             ],
             [
              0.8888888888888888,
              "#fdca26"
             ],
             [
              1,
              "#f0f921"
             ]
            ],
            "type": "histogram2d"
           }
          ],
          "histogram2dcontour": [
           {
            "colorbar": {
             "outlinewidth": 0,
             "ticks": ""
            },
            "colorscale": [
             [
              0,
              "#0d0887"
             ],
             [
              0.1111111111111111,
              "#46039f"
             ],
             [
              0.2222222222222222,
              "#7201a8"
             ],
             [
              0.3333333333333333,
              "#9c179e"
             ],
             [
              0.4444444444444444,
              "#bd3786"
             ],
             [
              0.5555555555555556,
              "#d8576b"
             ],
             [
              0.6666666666666666,
              "#ed7953"
             ],
             [
              0.7777777777777778,
              "#fb9f3a"
             ],
             [
              0.8888888888888888,
              "#fdca26"
             ],
             [
              1,
              "#f0f921"
             ]
            ],
            "type": "histogram2dcontour"
           }
          ],
          "mesh3d": [
           {
            "colorbar": {
             "outlinewidth": 0,
             "ticks": ""
            },
            "type": "mesh3d"
           }
          ],
          "parcoords": [
           {
            "line": {
             "colorbar": {
              "outlinewidth": 0,
              "ticks": ""
             }
            },
            "type": "parcoords"
           }
          ],
          "pie": [
           {
            "automargin": true,
            "type": "pie"
           }
          ],
          "scatter": [
           {
            "fillpattern": {
             "fillmode": "overlay",
             "size": 10,
             "solidity": 0.2
            },
            "type": "scatter"
           }
          ],
          "scatter3d": [
           {
            "line": {
             "colorbar": {
              "outlinewidth": 0,
              "ticks": ""
             }
            },
            "marker": {
             "colorbar": {
              "outlinewidth": 0,
              "ticks": ""
             }
            },
            "type": "scatter3d"
           }
          ],
          "scattercarpet": [
           {
            "marker": {
             "colorbar": {
              "outlinewidth": 0,
              "ticks": ""
             }
            },
            "type": "scattercarpet"
           }
          ],
          "scattergeo": [
           {
            "marker": {
             "colorbar": {
              "outlinewidth": 0,
              "ticks": ""
             }
            },
            "type": "scattergeo"
           }
          ],
          "scattergl": [
           {
            "marker": {
             "colorbar": {
              "outlinewidth": 0,
              "ticks": ""
             }
            },
            "type": "scattergl"
           }
          ],
          "scattermap": [
           {
            "marker": {
             "colorbar": {
              "outlinewidth": 0,
              "ticks": ""
             }
            },
            "type": "scattermap"
           }
          ],
          "scattermapbox": [
           {
            "marker": {
             "colorbar": {
              "outlinewidth": 0,
              "ticks": ""
             }
            },
            "type": "scattermapbox"
           }
          ],
          "scatterpolar": [
           {
            "marker": {
             "colorbar": {
              "outlinewidth": 0,
              "ticks": ""
             }
            },
            "type": "scatterpolar"
           }
          ],
          "scatterpolargl": [
           {
            "marker": {
             "colorbar": {
              "outlinewidth": 0,
              "ticks": ""
             }
            },
            "type": "scatterpolargl"
           }
          ],
          "scatterternary": [
           {
            "marker": {
             "colorbar": {
              "outlinewidth": 0,
              "ticks": ""
             }
            },
            "type": "scatterternary"
           }
          ],
          "surface": [
           {
            "colorbar": {
             "outlinewidth": 0,
             "ticks": ""
            },
            "colorscale": [
             [
              0,
              "#0d0887"
             ],
             [
              0.1111111111111111,
              "#46039f"
             ],
             [
              0.2222222222222222,
              "#7201a8"
             ],
             [
              0.3333333333333333,
              "#9c179e"
             ],
             [
              0.4444444444444444,
              "#bd3786"
             ],
             [
              0.5555555555555556,
              "#d8576b"
             ],
             [
              0.6666666666666666,
              "#ed7953"
             ],
             [
              0.7777777777777778,
              "#fb9f3a"
             ],
             [
              0.8888888888888888,
              "#fdca26"
             ],
             [
              1,
              "#f0f921"
             ]
            ],
            "type": "surface"
           }
          ],
          "table": [
           {
            "cells": {
             "fill": {
              "color": "#EBF0F8"
             },
             "line": {
              "color": "white"
             }
            },
            "header": {
             "fill": {
              "color": "#C8D4E3"
             },
             "line": {
              "color": "white"
             }
            },
            "type": "table"
           }
          ]
         },
         "layout": {
          "annotationdefaults": {
           "arrowcolor": "#2a3f5f",
           "arrowhead": 0,
           "arrowwidth": 1
          },
          "autotypenumbers": "strict",
          "coloraxis": {
           "colorbar": {
            "outlinewidth": 0,
            "ticks": ""
           }
          },
          "colorscale": {
           "diverging": [
            [
             0,
             "#8e0152"
            ],
            [
             0.1,
             "#c51b7d"
            ],
            [
             0.2,
             "#de77ae"
            ],
            [
             0.3,
             "#f1b6da"
            ],
            [
             0.4,
             "#fde0ef"
            ],
            [
             0.5,
             "#f7f7f7"
            ],
            [
             0.6,
             "#e6f5d0"
            ],
            [
             0.7,
             "#b8e186"
            ],
            [
             0.8,
             "#7fbc41"
            ],
            [
             0.9,
             "#4d9221"
            ],
            [
             1,
             "#276419"
            ]
           ],
           "sequential": [
            [
             0,
             "#0d0887"
            ],
            [
             0.1111111111111111,
             "#46039f"
            ],
            [
             0.2222222222222222,
             "#7201a8"
            ],
            [
             0.3333333333333333,
             "#9c179e"
            ],
            [
             0.4444444444444444,
             "#bd3786"
            ],
            [
             0.5555555555555556,
             "#d8576b"
            ],
            [
             0.6666666666666666,
             "#ed7953"
            ],
            [
             0.7777777777777778,
             "#fb9f3a"
            ],
            [
             0.8888888888888888,
             "#fdca26"
            ],
            [
             1,
             "#f0f921"
            ]
           ],
           "sequentialminus": [
            [
             0,
             "#0d0887"
            ],
            [
             0.1111111111111111,
             "#46039f"
            ],
            [
             0.2222222222222222,
             "#7201a8"
            ],
            [
             0.3333333333333333,
             "#9c179e"
            ],
            [
             0.4444444444444444,
             "#bd3786"
            ],
            [
             0.5555555555555556,
             "#d8576b"
            ],
            [
             0.6666666666666666,
             "#ed7953"
            ],
            [
             0.7777777777777778,
             "#fb9f3a"
            ],
            [
             0.8888888888888888,
             "#fdca26"
            ],
            [
             1,
             "#f0f921"
            ]
           ]
          },
          "colorway": [
           "#636efa",
           "#EF553B",
           "#00cc96",
           "#ab63fa",
           "#FFA15A",
           "#19d3f3",
           "#FF6692",
           "#B6E880",
           "#FF97FF",
           "#FECB52"
          ],
          "font": {
           "color": "#2a3f5f"
          },
          "geo": {
           "bgcolor": "white",
           "lakecolor": "white",
           "landcolor": "white",
           "showlakes": true,
           "showland": true,
           "subunitcolor": "#C8D4E3"
          },
          "hoverlabel": {
           "align": "left"
          },
          "hovermode": "closest",
          "mapbox": {
           "style": "light"
          },
          "paper_bgcolor": "white",
          "plot_bgcolor": "white",
          "polar": {
           "angularaxis": {
            "gridcolor": "#EBF0F8",
            "linecolor": "#EBF0F8",
            "ticks": ""
           },
           "bgcolor": "white",
           "radialaxis": {
            "gridcolor": "#EBF0F8",
            "linecolor": "#EBF0F8",
            "ticks": ""
           }
          },
          "scene": {
           "xaxis": {
            "backgroundcolor": "white",
            "gridcolor": "#DFE8F3",
            "gridwidth": 2,
            "linecolor": "#EBF0F8",
            "showbackground": true,
            "ticks": "",
            "zerolinecolor": "#EBF0F8"
           },
           "yaxis": {
            "backgroundcolor": "white",
            "gridcolor": "#DFE8F3",
            "gridwidth": 2,
            "linecolor": "#EBF0F8",
            "showbackground": true,
            "ticks": "",
            "zerolinecolor": "#EBF0F8"
           },
           "zaxis": {
            "backgroundcolor": "white",
            "gridcolor": "#DFE8F3",
            "gridwidth": 2,
            "linecolor": "#EBF0F8",
            "showbackground": true,
            "ticks": "",
            "zerolinecolor": "#EBF0F8"
           }
          },
          "shapedefaults": {
           "line": {
            "color": "#2a3f5f"
           }
          },
          "ternary": {
           "aaxis": {
            "gridcolor": "#DFE8F3",
            "linecolor": "#A2B1C6",
            "ticks": ""
           },
           "baxis": {
            "gridcolor": "#DFE8F3",
            "linecolor": "#A2B1C6",
            "ticks": ""
           },
           "bgcolor": "white",
           "caxis": {
            "gridcolor": "#DFE8F3",
            "linecolor": "#A2B1C6",
            "ticks": ""
           }
          },
          "title": {
           "x": 0.05
          },
          "xaxis": {
           "automargin": true,
           "gridcolor": "#EBF0F8",
           "linecolor": "#EBF0F8",
           "ticks": "",
           "title": {
            "standoff": 15
           },
           "zerolinecolor": "#EBF0F8",
           "zerolinewidth": 2
          },
          "yaxis": {
           "automargin": true,
           "gridcolor": "#EBF0F8",
           "linecolor": "#EBF0F8",
           "ticks": "",
           "title": {
            "standoff": 15
           },
           "zerolinecolor": "#EBF0F8",
           "zerolinewidth": 2
          }
         }
        },
        "title": {
         "text": " Chart: calmar"
        }
       }
      }
     },
     "metadata": {},
     "output_type": "display_data"
    },
    {
     "data": {
      "application/vnd.plotly.v1+json": {
       "config": {
        "plotlyServerURL": "https://plot.ly"
       },
       "data": [
        {
         "mode": "lines",
         "name": "Hit Ratio (periods)",
         "type": "scatter",
         "x": {
          "bdata": "AAABAAIAAwAEAAUABgAHAAgACQAKAAsADAANAA4ADwAQABEAEgATABQAFQAWABcAGAAZABoAGwAcAB0AHgAfACAAIQAiACMAJAAlACYAJwAoACkAKgArACwALQAuAC8AMAAxADIAMwA0ADUANgA3ADgAOQA6ADsAPAA9AD4APwBAAEEAQgBDAEQARQBGAEcASABJAEoASwBMAE0ATgBPAFAAUQBSAFMAVABVAFYAVwBYAFkAWgBbAFwAXQBeAF8AYABhAGIAYwBkAGUAZgBnAGgAaQBqAGsAbABtAG4AbwBwAHEAcgBzAHQAdQB2AHcAeAB5AHoAewB8AH0AfgB/AIAAgQCCAIMAhACFAIYAhwCIAIkAigCLAIwAjQCOAI8AkACRAJIAkwCUAJUAlgCXAJgAmQCaAJsAnACdAJ4AnwCgAKEAogCjAKQApQCmAKcAqACpAKoAqwCsAK0ArgCvALAAsQCyALMAtAC1ALYAtwC4ALkAugC7ALwAvQC+AL8AwADBAMIAwwDEAMUAxgDHAMgAyQDKAMsAzADNAM4AzwDQANEA0gDTANQA1QDWANcA2ADZANoA2wDcAN0A3gDfAOAA4QDiAOMA5ADlAOYA5wDoAOkA6gDrAOwA7QDuAO8A8ADxAPIA8wD0APUA9gD3APgA+QD6APsA/AD9AP4A/wAAAQEBAgEDAQQBBQEGAQcBCAEJAQoBCwEMAQ0BDgEPARABEQESARMBFAEVARYBFwEYARkBGgEbARwBHQEeAR8BIAEhASIBIwEkASUBJgEnASgBKQEqASsBLAEtAS4BLwEwATEBMgEzATQBNQE2ATcBOAE5AToBOwE8AT0BPgE/AUABQQFCAUMBRAFFAUYBRwFIAUkBSgFLAUwBTQFOAU8BUAFRAVIBUwFUAVUBVgFXAVgBWQFaAVsBXAFdAV4BXwFgAWEBYgFjAWQBZQFmAWcBaAFpAWoBawFsAW0BbgFvAXABcQFyAXMBdAF1AXYBdwF4AXkBegF7AXwBfQF+AX8BgAGBAYIBgwGEAYUBhgGHAYgBiQGKAYsBjAGNAY4BjwGQAZEBkgGTAZQBlQGWAZcBmAGZAZoBmwGcAZ0BngGfAaABoQGiAaMBpAGlAaYBpwGoAakBqgGrAawBrQGuAa8BsAGxAbIBswG0AbUBtgG3AbgBuQG6AbsBvAG9Ab4BvwHAAcEBwgHDAcQBxQHGAccByAHJAcoBywHMAc0BzgHPAdAB",
          "dtype": "i2"
         },
         "y": {
          "bdata": "AAAAAAAAAAAAAAAAAAAAAAAAAAAAAAAAAAAAAAAAAAAAAAAAAAAAAAAAAAAAAAAAAAAAAAAAAAAAAAAAAAAAAAAAAAAAAAAAAAAAAAAAAAAAAAAAAAAAAAAAAAAAAAAAAAAAAAAAAAAAAAAAAAAAAAAAAAAAAAAAAAAAAAAAAAAAAAAAAAAAAAAAAAAAAAAAAAAAAAAAAAAAAAAAAAAAAAAAAAAAAAAAAAAAAAAAAAAAAAAAAAAAAAAAAAAAAAAAAAAAAAAAAAAAAAAAAAAAAAAAAAAAAAAAAAAAAAAAAAAAAAAAAAAAAAAAAAAAAAAAAAAAAAAAAAAAAAAAAAAAAAAAAAAAAAAAAAAAAAAAAAAAAAAAAAAAAAAAAAAAAAAAAAAAAAAAAAAAAAAAAAAAAAAAAAAAAAAAAAAAAAAAAAAAAAAAAAAAAAAAAAAAAAAAAAAAAAAAAAAAAAAAAAAAAAAAAAAAAAAAAAAAAAAAAAAAAAAAAAAAAAAAAAAAAAAAAAAAAAAAAAAAAAAAAAAAAAAAAAAAAAAAAAAAAAAAAAAAAAAAAAAAAAAAAAAAAAAAAAAAAAAAAAAAAAAAAAAAAAAAAAAAAAAAAAAAAAAAAAAAAAAAAAAAAAAAAAAAAAAAAAAAAAAAAAAAAAAAAAAAAAAAAAAAAAAAAAAAAAAAAAAAAAAAAAAAAAAAAAAAAAAAAAAAAAAAAAAAAAAAAAAAAAAAAAAAAAAAAAAAAAAAAAAAAAAAAAAAAAAAAAAAAAAAAAAAAAAAAAAAAAAAAAAAAAAAAAAAAAAAAAAAAAAAAAAAAAAAAAAAAAAAAAAAAAAAAAAAAAAAAAAAAAAAAAAAAAAAAAAAAAAAAAAAAAAAAAAAAAAAAAAAAAAAAAAAAAAAAAAAAAAAAAAAAAAAAAAAAAAAAAAAAAAAAAAAAAAAAAAAAAAAAAAAAAAAAAAAAAAAAAAAAAAAAAAAAAAAAAAAAAAAAAAAAAAAAAAAAAAAAAAAAAAAAAAAAAAAAAAAAAAAAAAAAAAAAAAAAAAAAAAAAAAAAAAAAAAAAAAAAAAAAAAAAAAAAAAAABQUFBQUFIQ/AqnkvCzikz+e2Imd2ImdPx3UQR3UQZ0/wXgr+xxSoz+/ECtK4yOjP0J7Ce0ltKc/8MJB9PgurD9KkKcEeUqwPzUngbhQc7I/JUmSJEmStD9Wemphpae2PzqL6Syms7g/iHG/Lql8uD9huacRlnu6PxqkQRqkQbo/lLovj60Iuj8cZfcbZfe7P97d3d3d3b0//JHTfK2evT8uGYJ1tHm/P6cQaAqBpsA/hBBCCCGEwD+cxCCwcmjBP5IkSZIkScI/ymQymUwmwz8AAAAAAADDP/aEPWFP2MM/FDuxEzuxwz+au+Cv4oTEP1VVVVVVVcU/xFIRS0UsxT/SA5WzW/jFP+tceUCyzsU/pqWlpaWlxT+zoNpzMn3FP2QhC1nIQsY/JyGKv8gZxj8WX/EVX/HFP1cQkyuIycU/INEKmwOJxj85IDLcq2DGP47jOI7jOMY/QzpvMaTzxj+9evXq1avHP+HlFLycgsc/doMp8lk3yD+2vg0YqunIP5qZmZmZmck/0hxpjjRHyj+vobyG8hrKP5pE75lE78k/oBBn5SfEyT+amZmZmZnJP/mWb/mWb8k/Akt6+dMWyj/ZMxCVjuzJPwKh5E7Rwsk/ZmZmZmZmyj82Hs0fbDzKPy+hvYT2Eso/OmkfJAPqyT+J2pWoXYnKP2AaA6YxYMo/5LJioIQ3yj9Oa7ZPVA/KP3qe53me58k/woAzrkWCyj9aWlpaWlrKPyivobyG8so/4o64I+6Iyz8oGYtqmB3MP65Dv9k69Ms/0C4gNpWGzD8XXXTRRRfNP2uWGJ8y7cw/2L3uda97zT93H24BhVHNP97d3d3d3c0/XYa90p+zzT/e4z3e4z3OP/8G3a6VE84/3/SmN73pzT8Y56FjeHHOP0geeeSRR84/zZ7k+1jNzj99Z6O+s1HPP3Ty0clHJ88/nPo9t8Spzz99HZZwVH/PP1VVVVVVVc8/YXcmo8Urzz8gdFTgi6vPP1ABFVABFdA/AAAAAAAA0D+htPGOatbPPwO1fqVArc8/0LLjOZUU0D9SuB6F61HQP624d5KljtA/hNz1s8XK0D+a0usvTgbRP0FBQUFBQdE/fBG6F6F70T+GpjvYb7XRPxolfkaJn9E/ip3YiZ3Y0T9yM/aHwcLRP9IardEardE/mTYBpaiX0T9SE4y3ss/RP/ThNIRKutE/cLNfiBWl0T93xB1xR9zRP3Icx3Ecx9E/kPZH+6P90T87IxVzqzPSP5MmTZo0adI/VII8JchT0j9SjT5SjT7SPzUngbhQc9I/PZVC+pqn0j8lSZIkSZLSP8aSXyz5xdI/VAsrPbWw0j/f/spEoZvSP2wor6G8htI/OLYZtQZy0j8qH8b9uqTSP0dASrsRkNI/TyMs9zTC0j/GbJW4mK3SP/Mt3/It39I/TK4gJlcQ0z9S9+WxFUHTP+MmzO9qcdM/E4FcE4Fc0z/7SuZnUYzTP7y7u7u7u9M/lMWmk8Wm0z95P3Kar9XTP9IjKsg2BNQ/JkOwjjbv0z9dq2w4YtrTPwg0hUBTCNQ/XkN5DeU11D9jjDHGGGPUP9nVsPQiTtQ/exSuR+F61D8FAc31/WXUPxRFURRFUdQ/GbM7aXh91D8ajUaj0WjUP5WUlJSUlNQ/AAAAAACA1D9Vq1SrVKvUPyZtSVvSltQ/HEyRz7rB1D/VSq3USq3UPy+QSfECmdQ/H1Ade2vD1D8cRT+JNa/UP9lkk0022dQ/abvOWhLF1D8RS0UsFbHUP05talOb2tQ/F341JtID1T+dB9hR0u/UP4pRw9+mGNU/mcKuSS5B1T9paWlpaWnVP1VVVVVVVdU/s6DaczJ91T9pFZNWMWnVP1nIQhaykNU/qiiE7cN81T92QDfm6aPVPztAVq4OkNU/btu2bdu21T9URP16Yd3VP9jtsZahA9Y/1KKkfpwp1j/qyfjtUk/WP7VjBcJIO9Y/dmIndmIn1j/vjF6qnxPWP47jOI7jONY/BHz0bOVd1j9tomTXJkrWP5YnkWnYbtY/NWnSpEmT1j/mRfApkH/WP6lFyF+zo9Y/xLJ+4g2Q1j8+6wZT5LPWP0uBWr9SoNY/r7I4o93D1j8cHZrkX7DWP9QGOm2g09Y/vkUm/6T21j+3jFvGLePWPzo1D3LXz9Y/KK+hvIby1j/wgqT8Q9/WP3chzHYhzNY/zc7YFH3u1j9+QpyVnxDXP2tjaLqD/dY/Hxf2cWEf1z8BeXvmWAzXP5dv+ZZv+dY/RgPci/0a1z839j0iJwjXP1dv9VZv9dY/xk2Y39Xi1j/40axyWtDWP2WfQ2qC8dY/JG2IKnUS1z8zMzMzMzPXP2l8ZAK9U9c/maC7SjFB1z9l6934wi7XP5sfFikDT9c/ZA2j/aY81z9CMqCeqVzXP6Z0vYJfStc/OB+D8zE41z9dQUyuICbXP0YXXXTRRdc/RZVdNVFl1z8+5LJioITXPyl3eeqLctc/BqRjKZNg1z/+DGEvnn/XP9u2bdu2bdc/11Xfuupb1z9pw+ePOUrXP3uPdrH3aNc/iIeHh4eH1z+ml1566aXXP0N5DeU1lNc/4eUUvJyC1z/cEXfEHXHXP3mlCSs2j9c/w+zgCCKt1z//pY3A4crXP1uHfrN16Nc/JTHhMezW1z+r5Y0RTPTXPy1+jYLT4tc/0UUXXXTR1z+EiuFpLsDXP/SHQnIBr9c/6V8JMRTM1z9/9KMf/ejXP5i8BZi8Bdg/1OQg81Ii2D9W4Zw8HRHYPwAAAAAAANg/4UtNm10c2D+eUAsYkzjYPw+BG8ugVNg/OIRDOIRD2D/2haXkYl/YP0C+SJQae9g/o9m4+QZq2D/IQhaykIXYP3XYSIeNdNg//4gF3OmP2D8JgWduIKvYP8YYY4wxxtg/F6YWgx3h2D/8WM2e5PvYP4QyelvW6tg/xOQKYnIF2T/DqbbLdPTYPzmO4ziO49g/pWTRPvn92D/SjhUII+3YPzfGjXFj3Ng/+/u8TbrL2D/Vv59vJ7vYP6uqqqqqqtg/ds/I0kOa2D+HGuzOZLTYPzTmjDljztg/qcAXVz/o2D+qGUVr+QHZPxmP8RiP8dg/98pmRTrh2D8/NNaHxvrYP0vloIExFNk/cKKnc3st2T9a/yKepEbZP7V+pUCtX9k/lb3CmlBP2T8/uRB1M2jZPw+YPWD2gNk/cT0K16Nw2T+/BQclZmDZP4FD87n+eNk/auM+D3iR2T/iG1Fg0qnZP3bx+ucNwtk/JmYtFNCx2T9w4igZ6MnZP+Lh4eHh4dk/gKsep7352T8RuhehexHaP1sq9Og+Ado/0x3st9oY2j9/D1NCWTDaP09AdL66R9o/N/kUYv9e2j/sxE7sxE7aP14HdGOePto/LetA271V2j+Q57cRwWzaP8qlXMqlXNo/D5st0Yhz2j/0jWkTUIraPxXbesP7oNo/CsZb2eeQ2j+BGrRN54DaP+5ST8Zvl9o/dL1MgH6H2j9K4yMT6J3aP6EfV+Y2tNo/D0Wq91Ck2j9TG87rfZTaP6uqqqqqqto/9FMSMb3A2j/XWmuttdbaP0XJrk2U7No/JrBpP1kC2z8or6G8hvLaPyyusbjG4to/+kxkTGv42j8Oa9+w9g3bP8nW/hFpI9s/m8I4m8I42z8Cpy2DBynbP+SzbjBFPts/s/1TBpku2z8e2v4eu0PbP5wQ3QLFWNs/27Zt27Zt2z+JEKNiE17bP8hQ2WHqcts/Y1s1tlVj2z8igbcfEnjbPzGibSaMaNs/yg/mPC592z8cuZEbuZHbP2M6i+kspts/FpGVzYm62z/FEB3uz87bP8dUOHH/4ts/velNb3rT2z+LHu2pBsTbP5DSbgSktNs/eCk7W7XI2z8SlnsaYbnbP6rbobodqts/",
          "dtype": "f8"
         }
        }
       ],
       "layout": {
        "annotations": [
         {
          "bgcolor": "rgba(255,255,255,0.8)",
          "bordercolor": "lightgray",
          "borderwidth": 1,
          "font": {
           "color": "darkblue",
           "size": 11
          },
          "showarrow": false,
          "text": "<b>Hit Ratio</b><br>Percentage of profitable periods (based on returns, not trades).<br>• 0.5 (50%): Half of periods were profitable<br>• >0.6 (60%): Good consistency • >0.7 (70%): Very consistent<br>• Measures win rate but not magnitude of wins/losses",
          "x": 0.5,
          "xanchor": "center",
          "xref": "paper",
          "y": -0.36,
          "yanchor": "bottom",
          "yref": "paper"
         }
        ],
        "height": 500,
        "margin": {
         "b": 120
        },
        "template": {
         "data": {
          "bar": [
           {
            "error_x": {
             "color": "#2a3f5f"
            },
            "error_y": {
             "color": "#2a3f5f"
            },
            "marker": {
             "line": {
              "color": "white",
              "width": 0.5
             },
             "pattern": {
              "fillmode": "overlay",
              "size": 10,
              "solidity": 0.2
             }
            },
            "type": "bar"
           }
          ],
          "barpolar": [
           {
            "marker": {
             "line": {
              "color": "white",
              "width": 0.5
             },
             "pattern": {
              "fillmode": "overlay",
              "size": 10,
              "solidity": 0.2
             }
            },
            "type": "barpolar"
           }
          ],
          "carpet": [
           {
            "aaxis": {
             "endlinecolor": "#2a3f5f",
             "gridcolor": "#C8D4E3",
             "linecolor": "#C8D4E3",
             "minorgridcolor": "#C8D4E3",
             "startlinecolor": "#2a3f5f"
            },
            "baxis": {
             "endlinecolor": "#2a3f5f",
             "gridcolor": "#C8D4E3",
             "linecolor": "#C8D4E3",
             "minorgridcolor": "#C8D4E3",
             "startlinecolor": "#2a3f5f"
            },
            "type": "carpet"
           }
          ],
          "choropleth": [
           {
            "colorbar": {
             "outlinewidth": 0,
             "ticks": ""
            },
            "type": "choropleth"
           }
          ],
          "contour": [
           {
            "colorbar": {
             "outlinewidth": 0,
             "ticks": ""
            },
            "colorscale": [
             [
              0,
              "#0d0887"
             ],
             [
              0.1111111111111111,
              "#46039f"
             ],
             [
              0.2222222222222222,
              "#7201a8"
             ],
             [
              0.3333333333333333,
              "#9c179e"
             ],
             [
              0.4444444444444444,
              "#bd3786"
             ],
             [
              0.5555555555555556,
              "#d8576b"
             ],
             [
              0.6666666666666666,
              "#ed7953"
             ],
             [
              0.7777777777777778,
              "#fb9f3a"
             ],
             [
              0.8888888888888888,
              "#fdca26"
             ],
             [
              1,
              "#f0f921"
             ]
            ],
            "type": "contour"
           }
          ],
          "contourcarpet": [
           {
            "colorbar": {
             "outlinewidth": 0,
             "ticks": ""
            },
            "type": "contourcarpet"
           }
          ],
          "heatmap": [
           {
            "colorbar": {
             "outlinewidth": 0,
             "ticks": ""
            },
            "colorscale": [
             [
              0,
              "#0d0887"
             ],
             [
              0.1111111111111111,
              "#46039f"
             ],
             [
              0.2222222222222222,
              "#7201a8"
             ],
             [
              0.3333333333333333,
              "#9c179e"
             ],
             [
              0.4444444444444444,
              "#bd3786"
             ],
             [
              0.5555555555555556,
              "#d8576b"
             ],
             [
              0.6666666666666666,
              "#ed7953"
             ],
             [
              0.7777777777777778,
              "#fb9f3a"
             ],
             [
              0.8888888888888888,
              "#fdca26"
             ],
             [
              1,
              "#f0f921"
             ]
            ],
            "type": "heatmap"
           }
          ],
          "histogram": [
           {
            "marker": {
             "pattern": {
              "fillmode": "overlay",
              "size": 10,
              "solidity": 0.2
             }
            },
            "type": "histogram"
           }
          ],
          "histogram2d": [
           {
            "colorbar": {
             "outlinewidth": 0,
             "ticks": ""
            },
            "colorscale": [
             [
              0,
              "#0d0887"
             ],
             [
              0.1111111111111111,
              "#46039f"
             ],
             [
              0.2222222222222222,
              "#7201a8"
             ],
             [
              0.3333333333333333,
              "#9c179e"
             ],
             [
              0.4444444444444444,
              "#bd3786"
             ],
             [
              0.5555555555555556,
              "#d8576b"
             ],
             [
              0.6666666666666666,
              "#ed7953"
             ],
             [
              0.7777777777777778,
              "#fb9f3a"
             ],
             [
              0.8888888888888888,
              "#fdca26"
             ],
             [
              1,
              "#f0f921"
             ]
            ],
            "type": "histogram2d"
           }
          ],
          "histogram2dcontour": [
           {
            "colorbar": {
             "outlinewidth": 0,
             "ticks": ""
            },
            "colorscale": [
             [
              0,
              "#0d0887"
             ],
             [
              0.1111111111111111,
              "#46039f"
             ],
             [
              0.2222222222222222,
              "#7201a8"
             ],
             [
              0.3333333333333333,
              "#9c179e"
             ],
             [
              0.4444444444444444,
              "#bd3786"
             ],
             [
              0.5555555555555556,
              "#d8576b"
             ],
             [
              0.6666666666666666,
              "#ed7953"
             ],
             [
              0.7777777777777778,
              "#fb9f3a"
             ],
             [
              0.8888888888888888,
              "#fdca26"
             ],
             [
              1,
              "#f0f921"
             ]
            ],
            "type": "histogram2dcontour"
           }
          ],
          "mesh3d": [
           {
            "colorbar": {
             "outlinewidth": 0,
             "ticks": ""
            },
            "type": "mesh3d"
           }
          ],
          "parcoords": [
           {
            "line": {
             "colorbar": {
              "outlinewidth": 0,
              "ticks": ""
             }
            },
            "type": "parcoords"
           }
          ],
          "pie": [
           {
            "automargin": true,
            "type": "pie"
           }
          ],
          "scatter": [
           {
            "fillpattern": {
             "fillmode": "overlay",
             "size": 10,
             "solidity": 0.2
            },
            "type": "scatter"
           }
          ],
          "scatter3d": [
           {
            "line": {
             "colorbar": {
              "outlinewidth": 0,
              "ticks": ""
             }
            },
            "marker": {
             "colorbar": {
              "outlinewidth": 0,
              "ticks": ""
             }
            },
            "type": "scatter3d"
           }
          ],
          "scattercarpet": [
           {
            "marker": {
             "colorbar": {
              "outlinewidth": 0,
              "ticks": ""
             }
            },
            "type": "scattercarpet"
           }
          ],
          "scattergeo": [
           {
            "marker": {
             "colorbar": {
              "outlinewidth": 0,
              "ticks": ""
             }
            },
            "type": "scattergeo"
           }
          ],
          "scattergl": [
           {
            "marker": {
             "colorbar": {
              "outlinewidth": 0,
              "ticks": ""
             }
            },
            "type": "scattergl"
           }
          ],
          "scattermap": [
           {
            "marker": {
             "colorbar": {
              "outlinewidth": 0,
              "ticks": ""
             }
            },
            "type": "scattermap"
           }
          ],
          "scattermapbox": [
           {
            "marker": {
             "colorbar": {
              "outlinewidth": 0,
              "ticks": ""
             }
            },
            "type": "scattermapbox"
           }
          ],
          "scatterpolar": [
           {
            "marker": {
             "colorbar": {
              "outlinewidth": 0,
              "ticks": ""
             }
            },
            "type": "scatterpolar"
           }
          ],
          "scatterpolargl": [
           {
            "marker": {
             "colorbar": {
              "outlinewidth": 0,
              "ticks": ""
             }
            },
            "type": "scatterpolargl"
           }
          ],
          "scatterternary": [
           {
            "marker": {
             "colorbar": {
              "outlinewidth": 0,
              "ticks": ""
             }
            },
            "type": "scatterternary"
           }
          ],
          "surface": [
           {
            "colorbar": {
             "outlinewidth": 0,
             "ticks": ""
            },
            "colorscale": [
             [
              0,
              "#0d0887"
             ],
             [
              0.1111111111111111,
              "#46039f"
             ],
             [
              0.2222222222222222,
              "#7201a8"
             ],
             [
              0.3333333333333333,
              "#9c179e"
             ],
             [
              0.4444444444444444,
              "#bd3786"
             ],
             [
              0.5555555555555556,
              "#d8576b"
             ],
             [
              0.6666666666666666,
              "#ed7953"
             ],
             [
              0.7777777777777778,
              "#fb9f3a"
             ],
             [
              0.8888888888888888,
              "#fdca26"
             ],
             [
              1,
              "#f0f921"
             ]
            ],
            "type": "surface"
           }
          ],
          "table": [
           {
            "cells": {
             "fill": {
              "color": "#EBF0F8"
             },
             "line": {
              "color": "white"
             }
            },
            "header": {
             "fill": {
              "color": "#C8D4E3"
             },
             "line": {
              "color": "white"
             }
            },
            "type": "table"
           }
          ]
         },
         "layout": {
          "annotationdefaults": {
           "arrowcolor": "#2a3f5f",
           "arrowhead": 0,
           "arrowwidth": 1
          },
          "autotypenumbers": "strict",
          "coloraxis": {
           "colorbar": {
            "outlinewidth": 0,
            "ticks": ""
           }
          },
          "colorscale": {
           "diverging": [
            [
             0,
             "#8e0152"
            ],
            [
             0.1,
             "#c51b7d"
            ],
            [
             0.2,
             "#de77ae"
            ],
            [
             0.3,
             "#f1b6da"
            ],
            [
             0.4,
             "#fde0ef"
            ],
            [
             0.5,
             "#f7f7f7"
            ],
            [
             0.6,
             "#e6f5d0"
            ],
            [
             0.7,
             "#b8e186"
            ],
            [
             0.8,
             "#7fbc41"
            ],
            [
             0.9,
             "#4d9221"
            ],
            [
             1,
             "#276419"
            ]
           ],
           "sequential": [
            [
             0,
             "#0d0887"
            ],
            [
             0.1111111111111111,
             "#46039f"
            ],
            [
             0.2222222222222222,
             "#7201a8"
            ],
            [
             0.3333333333333333,
             "#9c179e"
            ],
            [
             0.4444444444444444,
             "#bd3786"
            ],
            [
             0.5555555555555556,
             "#d8576b"
            ],
            [
             0.6666666666666666,
             "#ed7953"
            ],
            [
             0.7777777777777778,
             "#fb9f3a"
            ],
            [
             0.8888888888888888,
             "#fdca26"
            ],
            [
             1,
             "#f0f921"
            ]
           ],
           "sequentialminus": [
            [
             0,
             "#0d0887"
            ],
            [
             0.1111111111111111,
             "#46039f"
            ],
            [
             0.2222222222222222,
             "#7201a8"
            ],
            [
             0.3333333333333333,
             "#9c179e"
            ],
            [
             0.4444444444444444,
             "#bd3786"
            ],
            [
             0.5555555555555556,
             "#d8576b"
            ],
            [
             0.6666666666666666,
             "#ed7953"
            ],
            [
             0.7777777777777778,
             "#fb9f3a"
            ],
            [
             0.8888888888888888,
             "#fdca26"
            ],
            [
             1,
             "#f0f921"
            ]
           ]
          },
          "colorway": [
           "#636efa",
           "#EF553B",
           "#00cc96",
           "#ab63fa",
           "#FFA15A",
           "#19d3f3",
           "#FF6692",
           "#B6E880",
           "#FF97FF",
           "#FECB52"
          ],
          "font": {
           "color": "#2a3f5f"
          },
          "geo": {
           "bgcolor": "white",
           "lakecolor": "white",
           "landcolor": "white",
           "showlakes": true,
           "showland": true,
           "subunitcolor": "#C8D4E3"
          },
          "hoverlabel": {
           "align": "left"
          },
          "hovermode": "closest",
          "mapbox": {
           "style": "light"
          },
          "paper_bgcolor": "white",
          "plot_bgcolor": "white",
          "polar": {
           "angularaxis": {
            "gridcolor": "#EBF0F8",
            "linecolor": "#EBF0F8",
            "ticks": ""
           },
           "bgcolor": "white",
           "radialaxis": {
            "gridcolor": "#EBF0F8",
            "linecolor": "#EBF0F8",
            "ticks": ""
           }
          },
          "scene": {
           "xaxis": {
            "backgroundcolor": "white",
            "gridcolor": "#DFE8F3",
            "gridwidth": 2,
            "linecolor": "#EBF0F8",
            "showbackground": true,
            "ticks": "",
            "zerolinecolor": "#EBF0F8"
           },
           "yaxis": {
            "backgroundcolor": "white",
            "gridcolor": "#DFE8F3",
            "gridwidth": 2,
            "linecolor": "#EBF0F8",
            "showbackground": true,
            "ticks": "",
            "zerolinecolor": "#EBF0F8"
           },
           "zaxis": {
            "backgroundcolor": "white",
            "gridcolor": "#DFE8F3",
            "gridwidth": 2,
            "linecolor": "#EBF0F8",
            "showbackground": true,
            "ticks": "",
            "zerolinecolor": "#EBF0F8"
           }
          },
          "shapedefaults": {
           "line": {
            "color": "#2a3f5f"
           }
          },
          "ternary": {
           "aaxis": {
            "gridcolor": "#DFE8F3",
            "linecolor": "#A2B1C6",
            "ticks": ""
           },
           "baxis": {
            "gridcolor": "#DFE8F3",
            "linecolor": "#A2B1C6",
            "ticks": ""
           },
           "bgcolor": "white",
           "caxis": {
            "gridcolor": "#DFE8F3",
            "linecolor": "#A2B1C6",
            "ticks": ""
           }
          },
          "title": {
           "x": 0.05
          },
          "xaxis": {
           "automargin": true,
           "gridcolor": "#EBF0F8",
           "linecolor": "#EBF0F8",
           "ticks": "",
           "title": {
            "standoff": 15
           },
           "zerolinecolor": "#EBF0F8",
           "zerolinewidth": 2
          },
          "yaxis": {
           "automargin": true,
           "gridcolor": "#EBF0F8",
           "linecolor": "#EBF0F8",
           "ticks": "",
           "title": {
            "standoff": 15
           },
           "zerolinecolor": "#EBF0F8",
           "zerolinewidth": 2
          }
         }
        },
        "title": {
         "text": " Chart: hitratio"
        }
       }
      }
     },
     "metadata": {},
     "output_type": "display_data"
    },
    {
     "data": {
      "application/vnd.plotly.v1+json": {
       "config": {
        "plotlyServerURL": "https://plot.ly"
       },
       "data": [
        {
         "mode": "lines",
         "name": "Turnover (per step)",
         "type": "scatter",
         "x": {
          "bdata": "AAABAAIAAwAEAAUABgAHAAgACQAKAAsADAANAA4ADwAQABEAEgATABQAFQAWABcAGAAZABoAGwAcAB0AHgAfACAAIQAiACMAJAAlACYAJwAoACkAKgArACwALQAuAC8AMAAxADIAMwA0ADUANgA3ADgAOQA6ADsAPAA9AD4APwBAAEEAQgBDAEQARQBGAEcASABJAEoASwBMAE0ATgBPAFAAUQBSAFMAVABVAFYAVwBYAFkAWgBbAFwAXQBeAF8AYABhAGIAYwBkAGUAZgBnAGgAaQBqAGsAbABtAG4AbwBwAHEAcgBzAHQAdQB2AHcAeAB5AHoAewB8AH0AfgB/AIAAgQCCAIMAhACFAIYAhwCIAIkAigCLAIwAjQCOAI8AkACRAJIAkwCUAJUAlgCXAJgAmQCaAJsAnACdAJ4AnwCgAKEAogCjAKQApQCmAKcAqACpAKoAqwCsAK0ArgCvALAAsQCyALMAtAC1ALYAtwC4ALkAugC7ALwAvQC+AL8AwADBAMIAwwDEAMUAxgDHAMgAyQDKAMsAzADNAM4AzwDQANEA0gDTANQA1QDWANcA2ADZANoA2wDcAN0A3gDfAOAA4QDiAOMA5ADlAOYA5wDoAOkA6gDrAOwA7QDuAO8A8ADxAPIA8wD0APUA9gD3APgA+QD6APsA/AD9AP4A/wAAAQEBAgEDAQQBBQEGAQcBCAEJAQoBCwEMAQ0BDgEPARABEQESARMBFAEVARYBFwEYARkBGgEbARwBHQEeAR8BIAEhASIBIwEkASUBJgEnASgBKQEqASsBLAEtAS4BLwEwATEBMgEzATQBNQE2ATcBOAE5AToBOwE8AT0BPgE/AUABQQFCAUMBRAFFAUYBRwFIAUkBSgFLAUwBTQFOAU8BUAFRAVIBUwFUAVUBVgFXAVgBWQFaAVsBXAFdAV4BXwFgAWEBYgFjAWQBZQFmAWcBaAFpAWoBawFsAW0BbgFvAXABcQFyAXMBdAF1AXYBdwF4AXkBegF7AXwBfQF+AX8BgAGBAYIBgwGEAYUBhgGHAYgBiQGKAYsBjAGNAY4BjwGQAZEBkgGTAZQBlQGWAZcBmAGZAZoBmwGcAZ0BngGfAaABoQGiAaMBpAGlAaYBpwGoAakBqgGrAawBrQGuAa8BsAGxAbIBswG0AbUBtgG3AbgBuQG6AbsBvAG9Ab4BvwHAAcEBwgHDAcQBxQHGAccByAHJAcoBywHMAc0BzgHPAdAB",
          "dtype": "i2"
         },
         "y": {
          "bdata": "AAAAAAAAAAAAAAAAAAAAAAAAAAAAAAAAAAAAAAAAAAAAAAAAAAAAAAAAAAAAAAAAAAAAAAAAAAAAAAAAAAAAAAAAAAAAAAAAAAAAAAAAAAAAAAAAAAAAAAAAAAAAAAAAAAAAAAAAAAAAAAAAAAAAAAAAAAAAAAAAAAAAAAAAAAAAAAAAAAAAAAAAAAAAAAAAAAAAAAAAAAAAAAAAAAAAAAAAAAAAAAAAAAAAAAAAAAAAAAAAAAAAAAAAAAAAAAAAAAAAAAAAAAAAAAAAAAAAAAAAAAAAAAAAAAAAAAAAAAAAAAAAAAAAAAAAAAAAAAAAAAAAAAAAAAAAAAAAAAAAAAAAAAAAAAAAAAAAAAAAAAAAAAAAAAAAAAAAAAAAAAAAAAAAAAAAAAAAAAAAAAAAAAAAAAAAAAAAAAAAAAAAAAAAAAAAAAAAAAAAAAAAAAAAAAAAAAAAAAAAAAAAAAAAAAAAAAAAAAAAAAAAAAAAAAAAAAAAAAAAAAAAAAAAAAAAAAAAAAAAAAAAAAAAAAAAAAAAAAAAAAAAAAAAAAAAAAAAAAAAAAAAAAAAAAAAAAAAAAAAAAAAAAAAAAAAAAAAAAAAAAAAAAAAAAAAAAAAAAAAAAAAAAAAAAAAAAAAAAAAAAAAAAAAAAAAAAAAAAAAAAAAAAAAAAAAAAAAAAAAAAAAAAAAAAAAAAAAAAAAAAAAAAAAAAAAAAAAAAAAAAAAAAAAAAAAAAAAAAAAAAAAAAAAAAAAAAAAAAAAAAAAAAAAAAAAAAAAAAAAAAAAAAAAAAAAAAAAAAAAAAAAAAAAAAAAAAAAAAAAAAAAAAAAAAAAAAAAAAAAAAAAAAAAAAAAAAAAAAAAAAAAAAAAAAAAAAAAAAAAAAAAAAAAAAAAAAAAAAAAAAAAAAAAAAAAAAAAAAAAAAAAAAAAAAAAAAAAAAAAAAAAAAAAAAAAAAAAAAAAAAAAAAAAAAAAAAAAAAAAAAAAAAAAAAAAAAAAAAAAAAAAAAAAAAAAAAAAAAAAAAAAAAAAAAAAAAAAAAAAAAAAAAAAAAAAAAAAAAAAAAAAAAC73XoP7c/vPwAAAAAAAAAAAAAAAAAAAAAAAAAAAAAAAAAAAAAAAAAAAAAAAAAAAAAAAAAAAAAAAAAAAAAAAAAAAAAAAAAAAAAAAAAAAAAAAAAAAAAAAAAAAAAAAAAAAAAAAAAAAAAAAAAAAAAAAAAAETAtOwkbrj8AAAAAAAAAAAAAAAAAAAAAAAAAAAAAAAAAAAAAAAAAAAAAAAAAAAAAAAAAAAAAAAAAAAAAAAAAAAAAAAAAAAAAAAAAAAAAAAAAAAAAAAAAAAAAAAAAAAAAAAAAAAAAAAAAAAAAAAAAAAAAAAAAAAAAAAAAAAAAAAAAAAAAAAAAAAAAAAAAAAAAAAAAAAAAAAAAAAAAAAAAAAAAAAAAAAAAAAAAAAAAAAAAAAAAAAAAAAAAAAAAAAAAAAAAAAAAAAAAAAAAAAAAAAAAAAAAAAAAAAAAAAAAAAAAAAAAAAAAAAAAAAAAAAAAAAAAAAAAAAAAAAAAAAAAAAAAAAAAAAAAAAAAAAAAAAAAAAAAAAAAAAAAAAAAAAAAAAAAAAAAAAAAAAAAAAAAAAAAAAAAAAAAAAAAAAAAAAAAAAAAAAAAAAAAAAAAAAAAAAAAAAAAAAAAAAAAAAAAAAAAAAAAAAAAAAAAAAAAAAAAAAAAAAAAAAAAAAAAAAAAAAAAAAAAAAAAAAAAAAAAAAAAAAAAAAAAAAAAAAAAAAAAAAAAAAAAAAAAAAAAAAAAAAAAAAAAAAAAAAAAAAAAAAAAAAAAAAAAAAAAAAAAAAAAAAAAAAAAAAAAAAAAAAAAAAAAAAAAAAAAAAAAAAAAAAAAAAAAAAAAAAAAAAAAAAAAAAAAAAAAAAAAAAAAAAAAAAAAAAAAAAAAAAAAAAAAAAAAAAAAAAAAAAAAAAAAAAAAAAAAAAAAAAAAAAAAAAAAAAAAAAAAAAAAAAAAAAAAAAAAAAAAAAAAAAAAAAAAAAAAAAAAAAAAAAAAAAAAAAAAAAAAAAAAAAAAAAAAAAAAAAAAAAAAAAAAAAAAAAAAAAAAAAAAAAAAAAAAAAAAAAAAAAAAAAAAAAAAAAAAAAAAAAAAAAAAAAAAAAAAAAAAAAAAAAAAAAAAAAAAAAAAAAAAAAAAAAAAAAAAAAAAAAAAAAAAAAAAAAAAAAAAAAAAAAAAAAAAAAAAAAAAAAAAAAAAAAAAAAAAAAAAAAAAAAAAAAAAAAAAAAAAAAAAAAAAAAAAAAAAAAAAAAAAAAAAAAAAAAAAAAAAAAAAAAAAAAAAAAAAAAAAAAAAAAAAAAAAAAAAAAAAAAAAAAAAAAAAAAAAAAAAAAAAAAAAAAAAAAAAAAAAAAAAAAAAAAAAAAAAAAAAAAAAAAAAAAAAAAAAAAAAAAAAAAAAAAAAAAAAAAAAAAAAAAAAAAAAAAAAAAAAAAAAAAAAAAAAAAAAAAAAAAAAAAAAAAAAAAAAAAAAAAAAAAAAAAAAAAAAAAAAAAAAAAAAAAAAAAAAAAAAAAAAAAAAAAAAAAAAAAAAAAAAAAAAAAAAAAAAAAAAAAAAAAAAAAAAAAAAAAAAAAAAAAAAAAAAAAAAAAAAAAAAAAAAAAAAAAAAAAAAAAAAAAAAAAAAAAAAAAAAAAAAAAAAAAAAAAAAAAAAAAAAAAAAAAAAAAAAAAAAAAAAAAAAAAAAAAAAAAAAAAAAAAAAAAAAAAAAAAAAAAAAAAAAAAAAAAAAAAAAAAAAAAAAAAAAAAAAAAAAAAAAAAAAAAAAAAAAAAAAAAAAAAAAAAAAAAAAAAAAAAAAAAAAAAAAAAAAAAAAAAAAAAAAAAAAAAAAAAAAAAAAAAAAAAAAAAAAAAAAAAAAAAAAAAAAAAAAAAAAAAAAAAAAAAAAAAAAAAAAAAAAAAAAAAAAAAAAAAAAAAAAAAAAAAAAAAAAAAAAAAAAAAAAAAAAAAAAAAAAAAAAAAAAAAAAAAAAAAAAAAAAAAAAAAAAAAAAAAAAAAAAAAAAAAAAAAAAAAAAAAAAAAAAAAAAAAAAAAAAAAAAAAAAAAAAAAAAAAAAAAAAAAAAAAAAAAAAAAAAAAAAAAAAAAAAAAAAAAAAAAAAAAAAAAAAAAAAAAAAAAAAAAAAAAAAAAAAAAAAAAAAAAAAAAAAAAAAAAAAAAAAAAAAAAAAAAAAAAAAAAAAAAAAAAAAAAAAAAAAAAAAAAAAAAAAAAAAAAAAAAAAAAAAAAAAAAAAAAAAAAAAAAAAAAAAAAAAAAAAAAAAAAAAAAAAAAAAAAAAAAAAAAAAAAAAAAAAAAAAAAAAAAAAAAAAAAAAAAAAAAAAAAAAAAAAAAAAAAAAAAAAAAAAAAAAAAAAAAAAAAAAAAAAAAAAAAAAAAAAAAAAAAAAAAAAAAAAAAAAAAAAAAAAAAAAAAAAAAAAAAAAAAAAAAAAAAAAAAAAAAAAAAAAAAAAAAAAAAAAAAAAAAAAAAAAAAAAAAAAAAAAAAAAAAAAAAAAAAAAAAAAAAAAAAAAAAAAAAAAAAAAAAAAAAAAAAAAAAAAAAAAAAAAAAAAAAAAAAAAAAAAAAAAAAAAAAAAAAAAAAAAAAAAAAAAAAAAAAAAAAAAAAAAAAAAAAAAAAAAAAAAAAAAAAAAAAAAAAAAAAAAAAAAAAAAAAAAAAAAAAAAAAAAAAAAAAAAAAAAAAAAAAAAAAAAAAAAAAAAAAAAAAAAAAAAAAAAAAAAAAAAAAAAAAAAAAAAAAAAAAAAAAAAAAAAAAAAAAAAAAAAAAAAAAAAAAAAAAAAAAAAAAAAAAAAAAAAAAAAAAAAAAAAAAAAAAAAAAAAAAAAAAAAAAAAAAAAAAAAAAAAAAAAAAAAAAAAAAAAAAAAAAAAAAAAAAAAAAAAAAAAAAAAAAAAAAAAAAAAAAAAAAAAAAAAAAAAAAAAAAAAAAAAAAAAAAAAAAAAAAAAAAAAAAAAAAAAAAAAAAAAAAAAAAAAAAAAAAAAAAAAAAAAAAAAAAAAAAAAAAAAAAAAAAAAAAAAAAAAAAAAAAAAAAAAAAAAAAAAAAAAAAAAAAAAAAAAAAAAAAAAAAAAAAAAAAAAAAAAAAAAAAAAAAAAAAAAAAAAAAAAAAAAAAAAAAAAAAAAAAAAAAAAAAAAAAAAAAAAAAAAAAAAAAAAAAAAAAAAAAAAAAAAAAAAAAAAAAAAAAAAAAAAAAAAAAAAAAAAAAAAAAAAAAAAAAAAAAAAAAAAAAAAAAAAAAAAAAAAAAAAAAAAAAAAAAAAAAAAAAAAAAAAAAAAAAAAAAAAAAAAAAAAAAAAAAAAAAAAAAAAAAAAAAAAAAAAAAAAAAAAAAAAAAAAAAAAAAAAAAAAAAAAAAAAAAAAAAAAAAAAAAAAAAAAAAAAAAAAAAAAAAAAAAAAAAAAAAAAAAAAAAAAAAAAAAAAAAAAAAAAAAAAAAAAAAAAAAAAAAAAAAAAAAAAAAAAAAAAAAAAAAAAAAAAAAAAAAAAAAAAAAAAAAAAAAAAAAAAAAAAAAAAAAAAAAAAAAAAAAAAAAAAAAAAAAAAAAAAAAAAAAAAAAAAAAAAAAAAAAAAAAAAAAAAAAAAAAAAAAAAAAAAAAAAAAAAAAAAAAAAAAAAAAAAAAAAAAAAAAAAAAAAAAAAAAAAAAAAAAAAAAAAAAAAAAAAAAAAAAAAAAAAAAAAAAAAAAAAAAAAAAAAAAAAAAAAAAAAAAAAAAAAAAAAAAAAAAAAAAAAAAAAAAAAAAAAAAAAAAAAAAAAAAAAAAAAAAAAAAAAAAAAAAAAAAAAAAAAAAAAAAAAAAAAAAAAAAAAAAAAAAAAAAAAAAAAAAAAAAAAAAAAAAAAAAAAAAAAAAAAAAAAAAAAAAAAAAAAAAAAAAAAAAAAAAAAAAAAAAAAAAAAAAAAAAAAAAAAAAAAAAAAAAAAAAAAAAAAAAAAAAAA",
          "dtype": "f8"
         }
        }
       ],
       "layout": {
        "annotations": [
         {
          "bgcolor": "rgba(255,255,255,0.8)",
          "bordercolor": "lightgray",
          "borderwidth": 1,
          "font": {
           "color": "darkblue",
           "size": 11
          },
          "showarrow": false,
          "text": "<b>Turnover Rate</b><br>Trading activity relative to portfolio value (per step).<br>• 0.1: 10% of portfolio traded • 1.0: 100% portfolio turnover<br>• Higher values indicate more active trading<br>• Useful for assessing transaction costs and strategy intensity",
          "x": 0.5,
          "xanchor": "center",
          "xref": "paper",
          "y": -0.36,
          "yanchor": "bottom",
          "yref": "paper"
         }
        ],
        "height": 500,
        "margin": {
         "b": 120
        },
        "template": {
         "data": {
          "bar": [
           {
            "error_x": {
             "color": "#2a3f5f"
            },
            "error_y": {
             "color": "#2a3f5f"
            },
            "marker": {
             "line": {
              "color": "white",
              "width": 0.5
             },
             "pattern": {
              "fillmode": "overlay",
              "size": 10,
              "solidity": 0.2
             }
            },
            "type": "bar"
           }
          ],
          "barpolar": [
           {
            "marker": {
             "line": {
              "color": "white",
              "width": 0.5
             },
             "pattern": {
              "fillmode": "overlay",
              "size": 10,
              "solidity": 0.2
             }
            },
            "type": "barpolar"
           }
          ],
          "carpet": [
           {
            "aaxis": {
             "endlinecolor": "#2a3f5f",
             "gridcolor": "#C8D4E3",
             "linecolor": "#C8D4E3",
             "minorgridcolor": "#C8D4E3",
             "startlinecolor": "#2a3f5f"
            },
            "baxis": {
             "endlinecolor": "#2a3f5f",
             "gridcolor": "#C8D4E3",
             "linecolor": "#C8D4E3",
             "minorgridcolor": "#C8D4E3",
             "startlinecolor": "#2a3f5f"
            },
            "type": "carpet"
           }
          ],
          "choropleth": [
           {
            "colorbar": {
             "outlinewidth": 0,
             "ticks": ""
            },
            "type": "choropleth"
           }
          ],
          "contour": [
           {
            "colorbar": {
             "outlinewidth": 0,
             "ticks": ""
            },
            "colorscale": [
             [
              0,
              "#0d0887"
             ],
             [
              0.1111111111111111,
              "#46039f"
             ],
             [
              0.2222222222222222,
              "#7201a8"
             ],
             [
              0.3333333333333333,
              "#9c179e"
             ],
             [
              0.4444444444444444,
              "#bd3786"
             ],
             [
              0.5555555555555556,
              "#d8576b"
             ],
             [
              0.6666666666666666,
              "#ed7953"
             ],
             [
              0.7777777777777778,
              "#fb9f3a"
             ],
             [
              0.8888888888888888,
              "#fdca26"
             ],
             [
              1,
              "#f0f921"
             ]
            ],
            "type": "contour"
           }
          ],
          "contourcarpet": [
           {
            "colorbar": {
             "outlinewidth": 0,
             "ticks": ""
            },
            "type": "contourcarpet"
           }
          ],
          "heatmap": [
           {
            "colorbar": {
             "outlinewidth": 0,
             "ticks": ""
            },
            "colorscale": [
             [
              0,
              "#0d0887"
             ],
             [
              0.1111111111111111,
              "#46039f"
             ],
             [
              0.2222222222222222,
              "#7201a8"
             ],
             [
              0.3333333333333333,
              "#9c179e"
             ],
             [
              0.4444444444444444,
              "#bd3786"
             ],
             [
              0.5555555555555556,
              "#d8576b"
             ],
             [
              0.6666666666666666,
              "#ed7953"
             ],
             [
              0.7777777777777778,
              "#fb9f3a"
             ],
             [
              0.8888888888888888,
              "#fdca26"
             ],
             [
              1,
              "#f0f921"
             ]
            ],
            "type": "heatmap"
           }
          ],
          "histogram": [
           {
            "marker": {
             "pattern": {
              "fillmode": "overlay",
              "size": 10,
              "solidity": 0.2
             }
            },
            "type": "histogram"
           }
          ],
          "histogram2d": [
           {
            "colorbar": {
             "outlinewidth": 0,
             "ticks": ""
            },
            "colorscale": [
             [
              0,
              "#0d0887"
             ],
             [
              0.1111111111111111,
              "#46039f"
             ],
             [
              0.2222222222222222,
              "#7201a8"
             ],
             [
              0.3333333333333333,
              "#9c179e"
             ],
             [
              0.4444444444444444,
              "#bd3786"
             ],
             [
              0.5555555555555556,
              "#d8576b"
             ],
             [
              0.6666666666666666,
              "#ed7953"
             ],
             [
              0.7777777777777778,
              "#fb9f3a"
             ],
             [
              0.8888888888888888,
              "#fdca26"
             ],
             [
              1,
              "#f0f921"
             ]
            ],
            "type": "histogram2d"
           }
          ],
          "histogram2dcontour": [
           {
            "colorbar": {
             "outlinewidth": 0,
             "ticks": ""
            },
            "colorscale": [
             [
              0,
              "#0d0887"
             ],
             [
              0.1111111111111111,
              "#46039f"
             ],
             [
              0.2222222222222222,
              "#7201a8"
             ],
             [
              0.3333333333333333,
              "#9c179e"
             ],
             [
              0.4444444444444444,
              "#bd3786"
             ],
             [
              0.5555555555555556,
              "#d8576b"
             ],
             [
              0.6666666666666666,
              "#ed7953"
             ],
             [
              0.7777777777777778,
              "#fb9f3a"
             ],
             [
              0.8888888888888888,
              "#fdca26"
             ],
             [
              1,
              "#f0f921"
             ]
            ],
            "type": "histogram2dcontour"
           }
          ],
          "mesh3d": [
           {
            "colorbar": {
             "outlinewidth": 0,
             "ticks": ""
            },
            "type": "mesh3d"
           }
          ],
          "parcoords": [
           {
            "line": {
             "colorbar": {
              "outlinewidth": 0,
              "ticks": ""
             }
            },
            "type": "parcoords"
           }
          ],
          "pie": [
           {
            "automargin": true,
            "type": "pie"
           }
          ],
          "scatter": [
           {
            "fillpattern": {
             "fillmode": "overlay",
             "size": 10,
             "solidity": 0.2
            },
            "type": "scatter"
           }
          ],
          "scatter3d": [
           {
            "line": {
             "colorbar": {
              "outlinewidth": 0,
              "ticks": ""
             }
            },
            "marker": {
             "colorbar": {
              "outlinewidth": 0,
              "ticks": ""
             }
            },
            "type": "scatter3d"
           }
          ],
          "scattercarpet": [
           {
            "marker": {
             "colorbar": {
              "outlinewidth": 0,
              "ticks": ""
             }
            },
            "type": "scattercarpet"
           }
          ],
          "scattergeo": [
           {
            "marker": {
             "colorbar": {
              "outlinewidth": 0,
              "ticks": ""
             }
            },
            "type": "scattergeo"
           }
          ],
          "scattergl": [
           {
            "marker": {
             "colorbar": {
              "outlinewidth": 0,
              "ticks": ""
             }
            },
            "type": "scattergl"
           }
          ],
          "scattermap": [
           {
            "marker": {
             "colorbar": {
              "outlinewidth": 0,
              "ticks": ""
             }
            },
            "type": "scattermap"
           }
          ],
          "scattermapbox": [
           {
            "marker": {
             "colorbar": {
              "outlinewidth": 0,
              "ticks": ""
             }
            },
            "type": "scattermapbox"
           }
          ],
          "scatterpolar": [
           {
            "marker": {
             "colorbar": {
              "outlinewidth": 0,
              "ticks": ""
             }
            },
            "type": "scatterpolar"
           }
          ],
          "scatterpolargl": [
           {
            "marker": {
             "colorbar": {
              "outlinewidth": 0,
              "ticks": ""
             }
            },
            "type": "scatterpolargl"
           }
          ],
          "scatterternary": [
           {
            "marker": {
             "colorbar": {
              "outlinewidth": 0,
              "ticks": ""
             }
            },
            "type": "scatterternary"
           }
          ],
          "surface": [
           {
            "colorbar": {
             "outlinewidth": 0,
             "ticks": ""
            },
            "colorscale": [
             [
              0,
              "#0d0887"
             ],
             [
              0.1111111111111111,
              "#46039f"
             ],
             [
              0.2222222222222222,
              "#7201a8"
             ],
             [
              0.3333333333333333,
              "#9c179e"
             ],
             [
              0.4444444444444444,
              "#bd3786"
             ],
             [
              0.5555555555555556,
              "#d8576b"
             ],
             [
              0.6666666666666666,
              "#ed7953"
             ],
             [
              0.7777777777777778,
              "#fb9f3a"
             ],
             [
              0.8888888888888888,
              "#fdca26"
             ],
             [
              1,
              "#f0f921"
             ]
            ],
            "type": "surface"
           }
          ],
          "table": [
           {
            "cells": {
             "fill": {
              "color": "#EBF0F8"
             },
             "line": {
              "color": "white"
             }
            },
            "header": {
             "fill": {
              "color": "#C8D4E3"
             },
             "line": {
              "color": "white"
             }
            },
            "type": "table"
           }
          ]
         },
         "layout": {
          "annotationdefaults": {
           "arrowcolor": "#2a3f5f",
           "arrowhead": 0,
           "arrowwidth": 1
          },
          "autotypenumbers": "strict",
          "coloraxis": {
           "colorbar": {
            "outlinewidth": 0,
            "ticks": ""
           }
          },
          "colorscale": {
           "diverging": [
            [
             0,
             "#8e0152"
            ],
            [
             0.1,
             "#c51b7d"
            ],
            [
             0.2,
             "#de77ae"
            ],
            [
             0.3,
             "#f1b6da"
            ],
            [
             0.4,
             "#fde0ef"
            ],
            [
             0.5,
             "#f7f7f7"
            ],
            [
             0.6,
             "#e6f5d0"
            ],
            [
             0.7,
             "#b8e186"
            ],
            [
             0.8,
             "#7fbc41"
            ],
            [
             0.9,
             "#4d9221"
            ],
            [
             1,
             "#276419"
            ]
           ],
           "sequential": [
            [
             0,
             "#0d0887"
            ],
            [
             0.1111111111111111,
             "#46039f"
            ],
            [
             0.2222222222222222,
             "#7201a8"
            ],
            [
             0.3333333333333333,
             "#9c179e"
            ],
            [
             0.4444444444444444,
             "#bd3786"
            ],
            [
             0.5555555555555556,
             "#d8576b"
            ],
            [
             0.6666666666666666,
             "#ed7953"
            ],
            [
             0.7777777777777778,
             "#fb9f3a"
            ],
            [
             0.8888888888888888,
             "#fdca26"
            ],
            [
             1,
             "#f0f921"
            ]
           ],
           "sequentialminus": [
            [
             0,
             "#0d0887"
            ],
            [
             0.1111111111111111,
             "#46039f"
            ],
            [
             0.2222222222222222,
             "#7201a8"
            ],
            [
             0.3333333333333333,
             "#9c179e"
            ],
            [
             0.4444444444444444,
             "#bd3786"
            ],
            [
             0.5555555555555556,
             "#d8576b"
            ],
            [
             0.6666666666666666,
             "#ed7953"
            ],
            [
             0.7777777777777778,
             "#fb9f3a"
            ],
            [
             0.8888888888888888,
             "#fdca26"
            ],
            [
             1,
             "#f0f921"
            ]
           ]
          },
          "colorway": [
           "#636efa",
           "#EF553B",
           "#00cc96",
           "#ab63fa",
           "#FFA15A",
           "#19d3f3",
           "#FF6692",
           "#B6E880",
           "#FF97FF",
           "#FECB52"
          ],
          "font": {
           "color": "#2a3f5f"
          },
          "geo": {
           "bgcolor": "white",
           "lakecolor": "white",
           "landcolor": "white",
           "showlakes": true,
           "showland": true,
           "subunitcolor": "#C8D4E3"
          },
          "hoverlabel": {
           "align": "left"
          },
          "hovermode": "closest",
          "mapbox": {
           "style": "light"
          },
          "paper_bgcolor": "white",
          "plot_bgcolor": "white",
          "polar": {
           "angularaxis": {
            "gridcolor": "#EBF0F8",
            "linecolor": "#EBF0F8",
            "ticks": ""
           },
           "bgcolor": "white",
           "radialaxis": {
            "gridcolor": "#EBF0F8",
            "linecolor": "#EBF0F8",
            "ticks": ""
           }
          },
          "scene": {
           "xaxis": {
            "backgroundcolor": "white",
            "gridcolor": "#DFE8F3",
            "gridwidth": 2,
            "linecolor": "#EBF0F8",
            "showbackground": true,
            "ticks": "",
            "zerolinecolor": "#EBF0F8"
           },
           "yaxis": {
            "backgroundcolor": "white",
            "gridcolor": "#DFE8F3",
            "gridwidth": 2,
            "linecolor": "#EBF0F8",
            "showbackground": true,
            "ticks": "",
            "zerolinecolor": "#EBF0F8"
           },
           "zaxis": {
            "backgroundcolor": "white",
            "gridcolor": "#DFE8F3",
            "gridwidth": 2,
            "linecolor": "#EBF0F8",
            "showbackground": true,
            "ticks": "",
            "zerolinecolor": "#EBF0F8"
           }
          },
          "shapedefaults": {
           "line": {
            "color": "#2a3f5f"
           }
          },
          "ternary": {
           "aaxis": {
            "gridcolor": "#DFE8F3",
            "linecolor": "#A2B1C6",
            "ticks": ""
           },
           "baxis": {
            "gridcolor": "#DFE8F3",
            "linecolor": "#A2B1C6",
            "ticks": ""
           },
           "bgcolor": "white",
           "caxis": {
            "gridcolor": "#DFE8F3",
            "linecolor": "#A2B1C6",
            "ticks": ""
           }
          },
          "title": {
           "x": 0.05
          },
          "xaxis": {
           "automargin": true,
           "gridcolor": "#EBF0F8",
           "linecolor": "#EBF0F8",
           "ticks": "",
           "title": {
            "standoff": 15
           },
           "zerolinecolor": "#EBF0F8",
           "zerolinewidth": 2
          },
          "yaxis": {
           "automargin": true,
           "gridcolor": "#EBF0F8",
           "linecolor": "#EBF0F8",
           "ticks": "",
           "title": {
            "standoff": 15
           },
           "zerolinecolor": "#EBF0F8",
           "zerolinewidth": 2
          }
         }
        },
        "title": {
         "text": " Chart: turnover"
        }
       }
      }
     },
     "metadata": {},
     "output_type": "display_data"
    }
   ],
   "source": [
    "env.render()"
   ]
  },
  {
   "cell_type": "markdown",
   "id": "4a11ccd2",
   "metadata": {},
   "source": [
    "## Design Q&A (exam)\n",
    "\n",
    "**What data will be used as features?**  \n",
    "Past **log-returns** for all assets to estimate $\\Sigma_t$ (EWMA or shrinkage covariance). Optional auxiliary statistics (rolling vol, correlations, liquidity) are used only for constraints/filters, not forecasting.\n",
    "\n",
    "**What is the target variable?**  \n",
    "No supervised target; the objective is **risk balance**: $\\mathrm{PRC}_i=1/N$ for all $i$.\n",
    "\n",
    "**How will the model be trained and tested?**  \n",
    "This is a rolling **optimization**, not a supervised learner. Choose hyperparameters $(L,\\lambda,n,w_{\\min/\\max})$ on a training period and **freeze** them on the out-of-sample period. At each rebalance $t_k$, estimate $\\Sigma_{t_k}$ from the most recent $L$ bars, solve ERC, trade, and hold until $t_{k+1}=t_k+n$.\n",
    "\n",
    "**How frequently should the model be retrained?**  \n",
    "Re-estimate and rebalance **every $n$ bars**. Hyperparameters are reselected only at **walk-forward boundaries** (e.g., quarterly), not at every bar.\n",
    "\n",
    "**Which metrics will you use and why?**  \n",
    "**ROI/equity** (level), **annualized Sharpe** (risk-adjusted efficiency), **Max Drawdown & Calmar** (downside and return-to-drawdown quality), **Turnover & fee share** (implementation realism), and **risk-parity diagnostics** such as PRC dispersion $ \\|\\mathrm{PRC}-\\tfrac{1}{N}\\mathbf1\\|_2 $ or Gini to verify that ERC is achieved.\n",
    "\n",
    "**How can you verify that performance is not due to random chance?**  \n",
    "**Stationary/block bootstrap** CIs for Sharpe/Calmar (preserving cross-asset dependence); **null baselines** (equal weight, inverse vol, randomized rebalance dates with same $n$); **SPA/Reality Check** over the $(L,\\lambda,n)$ grid; and a **correlation-collapse stress** (force $\\rho\\to1$) where ERC should converge to equal weight—large claimed alpha under this stress suggests overfitting.\n"
   ]
  }
 ],
 "metadata": {
  "kernelspec": {
   "display_name": "Python 3",
   "language": "python",
   "name": "python3"
  },
  "language_info": {
   "codemirror_mode": {
    "name": "ipython",
    "version": 3
   },
   "file_extension": ".py",
   "mimetype": "text/x-python",
   "name": "python",
   "nbconvert_exporter": "python",
   "pygments_lexer": "ipython3",
   "version": "3.11.13"
  }
 },
 "nbformat": 4,
 "nbformat_minor": 5
}
